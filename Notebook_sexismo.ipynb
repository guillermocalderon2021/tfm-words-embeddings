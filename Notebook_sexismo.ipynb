{
  "cells": [
    {
      "cell_type": "markdown",
      "metadata": {
        "id": "view-in-github",
        "colab_type": "text"
      },
      "source": [
        "<a href=\"https://colab.research.google.com/github/guillermocalderon2021/tfm-words-embeddings/blob/main/Notebook_sexismo.ipynb\" target=\"_parent\"><img src=\"https://colab.research.google.com/assets/colab-badge.svg\" alt=\"Open In Colab\"/></a>"
      ]
    },
    {
      "cell_type": "markdown",
      "metadata": {
        "id": "0mTl38BPWupb"
      },
      "source": [
        "\n",
        "\n",
        "<h1><font color='#12007a'>Embeddings contextuales </p>\n",
        "\n"
      ]
    },
    {
      "cell_type": "markdown",
      "metadata": {
        "id": "d3-lXDoddKFy"
      },
      "source": [
        "En concreto, vamos a comparar los siguientes transformers, y los aplicaremos a las tareas de clasificación binaria y clasificación multiclase:\n"
      ]
    },
    {
      "cell_type": "code",
      "execution_count": null,
      "metadata": {
        "colab": {
          "base_uri": "https://localhost:8080/"
        },
        "id": "ZZZaOmIedPrs",
        "outputId": "9039743a-95c6-4b67-a4ea-38f28248110e"
      },
      "outputs": [
        {
          "output_type": "stream",
          "name": "stdout",
          "text": [
            "distilbert-base-uncased b\n"
          ]
        }
      ],
      "source": [
        "models = ['bert-base-uncased',\n",
        "          'distilbert-base-uncased',\n",
        "          'roberta-base',\n",
        "          'xlnet-base-cased',\n",
        "          'gpt2', 't5-small','facebook/bart-base']\n",
        "\n",
        "model_name = models[1]\n",
        "\n",
        "TASK = \"b\" # a, b\n",
        "TASK = TASK.lower()\n",
        "\n",
        "print(model_name, TASK)\n"
      ]
    },
    {
      "cell_type": "markdown",
      "metadata": {
        "id": "q3HoftRfdYDT"
      },
      "source": [
        "## Instalar librerías\n",
        "\n",
        "Debemos instalar las librerías de transformers y datasets:"
      ]
    },
    {
      "cell_type": "code",
      "execution_count": null,
      "metadata": {
        "id": "5entTJMF3eRW",
        "colab": {
          "base_uri": "https://localhost:8080/",
          "height": 35
        },
        "outputId": "839397e0-a27b-4e26-f657-993fba956917"
      },
      "outputs": [
        {
          "output_type": "execute_result",
          "data": {
            "text/plain": [
              "'2.2.1+cu121'"
            ],
            "application/vnd.google.colaboratory.intrinsic+json": {
              "type": "string"
            }
          },
          "metadata": {},
          "execution_count": 9
        }
      ],
      "source": [
        "import torch\n",
        "torch.__version__"
      ]
    },
    {
      "cell_type": "code",
      "execution_count": null,
      "metadata": {
        "colab": {
          "base_uri": "https://localhost:8080/"
        },
        "id": "i1Z5GP9rVKH8",
        "outputId": "58a6ae11-10b9-4a0b-f87e-62c4978234ca"
      },
      "outputs": [
        {
          "output_type": "stream",
          "name": "stdout",
          "text": [
            "\u001b[2K     \u001b[90m━━━━━━━━━━━━━━━━━━━━━━━━━━━━━━━━━━━━━━━━\u001b[0m \u001b[32m510.5/510.5 kB\u001b[0m \u001b[31m5.5 MB/s\u001b[0m eta \u001b[36m0:00:00\u001b[0m\n",
            "\u001b[2K     \u001b[90m━━━━━━━━━━━━━━━━━━━━━━━━━━━━━━━━━━━━━━━━\u001b[0m \u001b[32m297.4/297.4 kB\u001b[0m \u001b[31m8.2 MB/s\u001b[0m eta \u001b[36m0:00:00\u001b[0m\n",
            "\u001b[2K     \u001b[90m━━━━━━━━━━━━━━━━━━━━━━━━━━━━━━━━━━━━━━━━\u001b[0m \u001b[32m116.3/116.3 kB\u001b[0m \u001b[31m7.4 MB/s\u001b[0m eta \u001b[36m0:00:00\u001b[0m\n",
            "\u001b[2K     \u001b[90m━━━━━━━━━━━━━━━━━━━━━━━━━━━━━━━━━━━━━━━━\u001b[0m \u001b[32m194.1/194.1 kB\u001b[0m \u001b[31m10.2 MB/s\u001b[0m eta \u001b[36m0:00:00\u001b[0m\n",
            "\u001b[2K     \u001b[90m━━━━━━━━━━━━━━━━━━━━━━━━━━━━━━━━━━━━━━━━\u001b[0m \u001b[32m134.8/134.8 kB\u001b[0m \u001b[31m9.2 MB/s\u001b[0m eta \u001b[36m0:00:00\u001b[0m\n",
            "\u001b[?25h"
          ]
        }
      ],
      "source": [
        "!pip install -q transformers[torch] datasets\n"
      ]
    },
    {
      "cell_type": "markdown",
      "metadata": {
        "id": "pJCjbt0yOM-m"
      },
      "source": [
        "Para garantizar la reproductividad de nuestros experimentos vamos a fijar una semilla. Con esto conseguimos que las inicializaciones siempre sean las mismas:"
      ]
    },
    {
      "cell_type": "code",
      "execution_count": null,
      "metadata": {
        "id": "Le_8SaPLNTlx"
      },
      "outputs": [],
      "source": [
        "from transformers import set_seed\n",
        "set_seed(42)"
      ]
    },
    {
      "cell_type": "markdown",
      "metadata": {
        "id": "PDy2_5uzsX0o"
      },
      "source": [
        "## Dataset\n",
        "\n",
        "Vamos a cargar el dataset, tal y como ya hicimos en la primera parte de esta práctica:\n"
      ]
    },
    {
      "cell_type": "code",
      "execution_count": null,
      "metadata": {
        "colab": {
          "base_uri": "https://localhost:8080/",
          "height": 224
        },
        "id": "J2ZVL7hlqrg0",
        "outputId": "9533326b-7101-43bb-d937-ffcbe99171d3"
      },
      "outputs": [
        {
          "output_type": "stream",
          "name": "stdout",
          "text": [
            "Mounted at /content/drive\n"
          ]
        },
        {
          "output_type": "execute_result",
          "data": {
            "text/plain": [
              "                  rewire_id  \\\n",
              "0   sexism2022_english-9609   \n",
              "1  sexism2022_english-16993   \n",
              "2  sexism2022_english-13149   \n",
              "3  sexism2022_english-13021   \n",
              "4    sexism2022_english-966   \n",
              "\n",
              "                                                text label_sexist  \\\n",
              "0  In Nigeria, if you rape a woman, the men rape ...   not sexist   \n",
              "1                            Then, she's a keeper. 😉   not sexist   \n",
              "2  This is like the Metallica video where the poo...   not sexist   \n",
              "3                                             woman?   not sexist   \n",
              "4                     I bet she wished she had a gun   not sexist   \n",
              "\n",
              "  label_category label_vector  split  \n",
              "0           none         none    dev  \n",
              "1           none         none  train  \n",
              "2           none         none  train  \n",
              "3           none         none  train  \n",
              "4           none         none    dev  "
            ],
            "text/html": [
              "\n",
              "  <div id=\"df-f7b49299-f8e8-4251-bdd4-48e4b7f5f98a\" class=\"colab-df-container\">\n",
              "    <div>\n",
              "<style scoped>\n",
              "    .dataframe tbody tr th:only-of-type {\n",
              "        vertical-align: middle;\n",
              "    }\n",
              "\n",
              "    .dataframe tbody tr th {\n",
              "        vertical-align: top;\n",
              "    }\n",
              "\n",
              "    .dataframe thead th {\n",
              "        text-align: right;\n",
              "    }\n",
              "</style>\n",
              "<table border=\"1\" class=\"dataframe\">\n",
              "  <thead>\n",
              "    <tr style=\"text-align: right;\">\n",
              "      <th></th>\n",
              "      <th>rewire_id</th>\n",
              "      <th>text</th>\n",
              "      <th>label_sexist</th>\n",
              "      <th>label_category</th>\n",
              "      <th>label_vector</th>\n",
              "      <th>split</th>\n",
              "    </tr>\n",
              "  </thead>\n",
              "  <tbody>\n",
              "    <tr>\n",
              "      <th>0</th>\n",
              "      <td>sexism2022_english-9609</td>\n",
              "      <td>In Nigeria, if you rape a woman, the men rape ...</td>\n",
              "      <td>not sexist</td>\n",
              "      <td>none</td>\n",
              "      <td>none</td>\n",
              "      <td>dev</td>\n",
              "    </tr>\n",
              "    <tr>\n",
              "      <th>1</th>\n",
              "      <td>sexism2022_english-16993</td>\n",
              "      <td>Then, she's a keeper. 😉</td>\n",
              "      <td>not sexist</td>\n",
              "      <td>none</td>\n",
              "      <td>none</td>\n",
              "      <td>train</td>\n",
              "    </tr>\n",
              "    <tr>\n",
              "      <th>2</th>\n",
              "      <td>sexism2022_english-13149</td>\n",
              "      <td>This is like the Metallica video where the poo...</td>\n",
              "      <td>not sexist</td>\n",
              "      <td>none</td>\n",
              "      <td>none</td>\n",
              "      <td>train</td>\n",
              "    </tr>\n",
              "    <tr>\n",
              "      <th>3</th>\n",
              "      <td>sexism2022_english-13021</td>\n",
              "      <td>woman?</td>\n",
              "      <td>not sexist</td>\n",
              "      <td>none</td>\n",
              "      <td>none</td>\n",
              "      <td>train</td>\n",
              "    </tr>\n",
              "    <tr>\n",
              "      <th>4</th>\n",
              "      <td>sexism2022_english-966</td>\n",
              "      <td>I bet she wished she had a gun</td>\n",
              "      <td>not sexist</td>\n",
              "      <td>none</td>\n",
              "      <td>none</td>\n",
              "      <td>dev</td>\n",
              "    </tr>\n",
              "  </tbody>\n",
              "</table>\n",
              "</div>\n",
              "    <div class=\"colab-df-buttons\">\n",
              "\n",
              "  <div class=\"colab-df-container\">\n",
              "    <button class=\"colab-df-convert\" onclick=\"convertToInteractive('df-f7b49299-f8e8-4251-bdd4-48e4b7f5f98a')\"\n",
              "            title=\"Convert this dataframe to an interactive table.\"\n",
              "            style=\"display:none;\">\n",
              "\n",
              "  <svg xmlns=\"http://www.w3.org/2000/svg\" height=\"24px\" viewBox=\"0 -960 960 960\">\n",
              "    <path d=\"M120-120v-720h720v720H120Zm60-500h600v-160H180v160Zm220 220h160v-160H400v160Zm0 220h160v-160H400v160ZM180-400h160v-160H180v160Zm440 0h160v-160H620v160ZM180-180h160v-160H180v160Zm440 0h160v-160H620v160Z\"/>\n",
              "  </svg>\n",
              "    </button>\n",
              "\n",
              "  <style>\n",
              "    .colab-df-container {\n",
              "      display:flex;\n",
              "      gap: 12px;\n",
              "    }\n",
              "\n",
              "    .colab-df-convert {\n",
              "      background-color: #E8F0FE;\n",
              "      border: none;\n",
              "      border-radius: 50%;\n",
              "      cursor: pointer;\n",
              "      display: none;\n",
              "      fill: #1967D2;\n",
              "      height: 32px;\n",
              "      padding: 0 0 0 0;\n",
              "      width: 32px;\n",
              "    }\n",
              "\n",
              "    .colab-df-convert:hover {\n",
              "      background-color: #E2EBFA;\n",
              "      box-shadow: 0px 1px 2px rgba(60, 64, 67, 0.3), 0px 1px 3px 1px rgba(60, 64, 67, 0.15);\n",
              "      fill: #174EA6;\n",
              "    }\n",
              "\n",
              "    .colab-df-buttons div {\n",
              "      margin-bottom: 4px;\n",
              "    }\n",
              "\n",
              "    [theme=dark] .colab-df-convert {\n",
              "      background-color: #3B4455;\n",
              "      fill: #D2E3FC;\n",
              "    }\n",
              "\n",
              "    [theme=dark] .colab-df-convert:hover {\n",
              "      background-color: #434B5C;\n",
              "      box-shadow: 0px 1px 3px 1px rgba(0, 0, 0, 0.15);\n",
              "      filter: drop-shadow(0px 1px 2px rgba(0, 0, 0, 0.3));\n",
              "      fill: #FFFFFF;\n",
              "    }\n",
              "  </style>\n",
              "\n",
              "    <script>\n",
              "      const buttonEl =\n",
              "        document.querySelector('#df-f7b49299-f8e8-4251-bdd4-48e4b7f5f98a button.colab-df-convert');\n",
              "      buttonEl.style.display =\n",
              "        google.colab.kernel.accessAllowed ? 'block' : 'none';\n",
              "\n",
              "      async function convertToInteractive(key) {\n",
              "        const element = document.querySelector('#df-f7b49299-f8e8-4251-bdd4-48e4b7f5f98a');\n",
              "        const dataTable =\n",
              "          await google.colab.kernel.invokeFunction('convertToInteractive',\n",
              "                                                    [key], {});\n",
              "        if (!dataTable) return;\n",
              "\n",
              "        const docLinkHtml = 'Like what you see? Visit the ' +\n",
              "          '<a target=\"_blank\" href=https://colab.research.google.com/notebooks/data_table.ipynb>data table notebook</a>'\n",
              "          + ' to learn more about interactive tables.';\n",
              "        element.innerHTML = '';\n",
              "        dataTable['output_type'] = 'display_data';\n",
              "        await google.colab.output.renderOutput(dataTable, element);\n",
              "        const docLink = document.createElement('div');\n",
              "        docLink.innerHTML = docLinkHtml;\n",
              "        element.appendChild(docLink);\n",
              "      }\n",
              "    </script>\n",
              "  </div>\n",
              "\n",
              "\n",
              "<div id=\"df-496b8829-ae22-4c04-8681-649b1e473ce6\">\n",
              "  <button class=\"colab-df-quickchart\" onclick=\"quickchart('df-496b8829-ae22-4c04-8681-649b1e473ce6')\"\n",
              "            title=\"Suggest charts\"\n",
              "            style=\"display:none;\">\n",
              "\n",
              "<svg xmlns=\"http://www.w3.org/2000/svg\" height=\"24px\"viewBox=\"0 0 24 24\"\n",
              "     width=\"24px\">\n",
              "    <g>\n",
              "        <path d=\"M19 3H5c-1.1 0-2 .9-2 2v14c0 1.1.9 2 2 2h14c1.1 0 2-.9 2-2V5c0-1.1-.9-2-2-2zM9 17H7v-7h2v7zm4 0h-2V7h2v10zm4 0h-2v-4h2v4z\"/>\n",
              "    </g>\n",
              "</svg>\n",
              "  </button>\n",
              "\n",
              "<style>\n",
              "  .colab-df-quickchart {\n",
              "      --bg-color: #E8F0FE;\n",
              "      --fill-color: #1967D2;\n",
              "      --hover-bg-color: #E2EBFA;\n",
              "      --hover-fill-color: #174EA6;\n",
              "      --disabled-fill-color: #AAA;\n",
              "      --disabled-bg-color: #DDD;\n",
              "  }\n",
              "\n",
              "  [theme=dark] .colab-df-quickchart {\n",
              "      --bg-color: #3B4455;\n",
              "      --fill-color: #D2E3FC;\n",
              "      --hover-bg-color: #434B5C;\n",
              "      --hover-fill-color: #FFFFFF;\n",
              "      --disabled-bg-color: #3B4455;\n",
              "      --disabled-fill-color: #666;\n",
              "  }\n",
              "\n",
              "  .colab-df-quickchart {\n",
              "    background-color: var(--bg-color);\n",
              "    border: none;\n",
              "    border-radius: 50%;\n",
              "    cursor: pointer;\n",
              "    display: none;\n",
              "    fill: var(--fill-color);\n",
              "    height: 32px;\n",
              "    padding: 0;\n",
              "    width: 32px;\n",
              "  }\n",
              "\n",
              "  .colab-df-quickchart:hover {\n",
              "    background-color: var(--hover-bg-color);\n",
              "    box-shadow: 0 1px 2px rgba(60, 64, 67, 0.3), 0 1px 3px 1px rgba(60, 64, 67, 0.15);\n",
              "    fill: var(--button-hover-fill-color);\n",
              "  }\n",
              "\n",
              "  .colab-df-quickchart-complete:disabled,\n",
              "  .colab-df-quickchart-complete:disabled:hover {\n",
              "    background-color: var(--disabled-bg-color);\n",
              "    fill: var(--disabled-fill-color);\n",
              "    box-shadow: none;\n",
              "  }\n",
              "\n",
              "  .colab-df-spinner {\n",
              "    border: 2px solid var(--fill-color);\n",
              "    border-color: transparent;\n",
              "    border-bottom-color: var(--fill-color);\n",
              "    animation:\n",
              "      spin 1s steps(1) infinite;\n",
              "  }\n",
              "\n",
              "  @keyframes spin {\n",
              "    0% {\n",
              "      border-color: transparent;\n",
              "      border-bottom-color: var(--fill-color);\n",
              "      border-left-color: var(--fill-color);\n",
              "    }\n",
              "    20% {\n",
              "      border-color: transparent;\n",
              "      border-left-color: var(--fill-color);\n",
              "      border-top-color: var(--fill-color);\n",
              "    }\n",
              "    30% {\n",
              "      border-color: transparent;\n",
              "      border-left-color: var(--fill-color);\n",
              "      border-top-color: var(--fill-color);\n",
              "      border-right-color: var(--fill-color);\n",
              "    }\n",
              "    40% {\n",
              "      border-color: transparent;\n",
              "      border-right-color: var(--fill-color);\n",
              "      border-top-color: var(--fill-color);\n",
              "    }\n",
              "    60% {\n",
              "      border-color: transparent;\n",
              "      border-right-color: var(--fill-color);\n",
              "    }\n",
              "    80% {\n",
              "      border-color: transparent;\n",
              "      border-right-color: var(--fill-color);\n",
              "      border-bottom-color: var(--fill-color);\n",
              "    }\n",
              "    90% {\n",
              "      border-color: transparent;\n",
              "      border-bottom-color: var(--fill-color);\n",
              "    }\n",
              "  }\n",
              "</style>\n",
              "\n",
              "  <script>\n",
              "    async function quickchart(key) {\n",
              "      const quickchartButtonEl =\n",
              "        document.querySelector('#' + key + ' button');\n",
              "      quickchartButtonEl.disabled = true;  // To prevent multiple clicks.\n",
              "      quickchartButtonEl.classList.add('colab-df-spinner');\n",
              "      try {\n",
              "        const charts = await google.colab.kernel.invokeFunction(\n",
              "            'suggestCharts', [key], {});\n",
              "      } catch (error) {\n",
              "        console.error('Error during call to suggestCharts:', error);\n",
              "      }\n",
              "      quickchartButtonEl.classList.remove('colab-df-spinner');\n",
              "      quickchartButtonEl.classList.add('colab-df-quickchart-complete');\n",
              "    }\n",
              "    (() => {\n",
              "      let quickchartButtonEl =\n",
              "        document.querySelector('#df-496b8829-ae22-4c04-8681-649b1e473ce6 button');\n",
              "      quickchartButtonEl.style.display =\n",
              "        google.colab.kernel.accessAllowed ? 'block' : 'none';\n",
              "    })();\n",
              "  </script>\n",
              "</div>\n",
              "\n",
              "    </div>\n",
              "  </div>\n"
            ],
            "application/vnd.google.colaboratory.intrinsic+json": {
              "type": "dataframe",
              "variable_name": "df",
              "summary": "{\n  \"name\": \"df\",\n  \"rows\": 20000,\n  \"fields\": [\n    {\n      \"column\": \"rewire_id\",\n      \"properties\": {\n        \"dtype\": \"string\",\n        \"num_unique_values\": 20000,\n        \"samples\": [\n          \"sexism2022_english-6244\",\n          \"sexism2022_english-8088\",\n          \"sexism2022_english-3423\"\n        ],\n        \"semantic_type\": \"\",\n        \"description\": \"\"\n      }\n    },\n    {\n      \"column\": \"text\",\n      \"properties\": {\n        \"dtype\": \"string\",\n        \"num_unique_values\": 20000,\n        \"samples\": [\n          \"We just had a kaffir black in South Africa throw his 3 year old daughter off the roof of his shack to protest it being demolished. He gets a warning. Demonic race of people.\",\n          \"What they won't tell you about is the Chiefs who run shit like the fucking mafia. Where they play the big pimp and force the girls into it, or \\\"haze\\\" them day in and day out.\",\n          \"Ah the screeching of the single mom. Tossed aside and passed over by man after man because they decided to keep their Chad Trophy. Shame us all you want. Enjoy watching the Doodlebops for the 400th time :)\"\n        ],\n        \"semantic_type\": \"\",\n        \"description\": \"\"\n      }\n    },\n    {\n      \"column\": \"label_sexist\",\n      \"properties\": {\n        \"dtype\": \"category\",\n        \"num_unique_values\": 2,\n        \"samples\": [\n          \"sexist\",\n          \"not sexist\"\n        ],\n        \"semantic_type\": \"\",\n        \"description\": \"\"\n      }\n    },\n    {\n      \"column\": \"label_category\",\n      \"properties\": {\n        \"dtype\": \"category\",\n        \"num_unique_values\": 5,\n        \"samples\": [\n          \"3. animosity\",\n          \"1. threats, plans to harm and incitement\"\n        ],\n        \"semantic_type\": \"\",\n        \"description\": \"\"\n      }\n    },\n    {\n      \"column\": \"label_vector\",\n      \"properties\": {\n        \"dtype\": \"category\",\n        \"num_unique_values\": 12,\n        \"samples\": [\n          \"1.1 threats of harm\",\n          \"3.1 casual use of gendered slurs, profanities, and insults\"\n        ],\n        \"semantic_type\": \"\",\n        \"description\": \"\"\n      }\n    },\n    {\n      \"column\": \"split\",\n      \"properties\": {\n        \"dtype\": \"category\",\n        \"num_unique_values\": 3,\n        \"samples\": [\n          \"dev\",\n          \"train\"\n        ],\n        \"semantic_type\": \"\",\n        \"description\": \"\"\n      }\n    }\n  ]\n}"
            }
          },
          "metadata": {},
          "execution_count": 3
        }
      ],
      "source": [
        "from google.colab import drive\n",
        "drive.mount('/content/drive')\n",
        "\n",
        "import os\n",
        "os.chdir('/content/drive/My Drive/Colab Notebooks/data/edos/')\n",
        "\n",
        "import pandas as pd\n",
        "df = pd.read_csv(\"edos_labelled_aggregated.csv\")\n",
        "df.head()"
      ]
    },
    {
      "cell_type": "code",
      "source": [
        "import multiprocessing\n",
        "import spacy\n",
        "import re\n",
        "import inspect\n",
        "import numpy as np\n",
        "from nltk.stem import PorterStemmer\n",
        "\n",
        "\n",
        "class BaselinePreprocessor:\n",
        "    \"\"\"Here, I'll prepare the data for the multi-label classification of the\n",
        "    baseline model. This class will preprocess the data in a parallel matter using\n",
        "    multiple processes. The original DataFrame will be split in chunks. A pipeline\n",
        "    of transformations will be ran on each chunk.\n",
        "    The pipeline of transformations will include:\n",
        "    - Text lowercasing\n",
        "    - Special symbols removal\n",
        "    - Stopwords removal\n",
        "    - Stemming (It is chosen for simplicity's sake, using lemmatization will be more resource intensive)\n",
        "\n",
        "    Args:\n",
        "        dataset (pandas.DataFrame): The dataset in a DataFrame format.\n",
        "    \"\"\"\n",
        "\n",
        "    def __init__(self, dataset: pd.DataFrame):\n",
        "        self._df_chunks = np.array_split(dataset, multiprocessing.cpu_count())\n",
        "        self._spacy_nlp = spacy.load('en_core_web_sm')\n",
        "\n",
        "        # Getting all defined methods.\n",
        "        obj_methods = list(inspect.getmembers(self, predicate=inspect.ismethod))\n",
        "        # Creating a pipeline of actions with only the '_step' methods.\n",
        "        self._pipeline = [\n",
        "            reference\n",
        "            for method_name, reference in obj_methods\n",
        "            if \"_step\" in method_name\n",
        "        ]\n",
        "\n",
        "    def preprocess(self) -> pd.DataFrame:\n",
        "        subdfs = []\n",
        "\n",
        "        with multiprocessing.Pool() as pool:\n",
        "            results = pool.map(self._run_pipeline, self._df_chunks)\n",
        "\n",
        "        for result in results:\n",
        "            subdfs.append(result)\n",
        "\n",
        "        return pd.concat(subdfs)\n",
        "\n",
        "    def _run_pipeline(self, df: pd.DataFrame) -> pd.DataFrame:\n",
        "        for step in self._pipeline:\n",
        "            df = step(df)\n",
        "\n",
        "        return df\n",
        "\n",
        "    def _step_lowercase(self, df: pd.DataFrame) -> pd.DataFrame:\n",
        "        df[\"text\"] = df[\"text\"].apply(lambda text: text.lower())\n",
        "        return df\n",
        "\n",
        "    def _step_remove_special_symbols(self, df: pd.DataFrame) -> pd.DataFrame:\n",
        "        df[\"text\"] = df[\"text\"].apply(self._remove_special_symbols)\n",
        "        return df\n",
        "\n",
        "    def _step_remove_stopwords(self, df) -> pd.DataFrame:\n",
        "        df[\"text\"] = df[\"text\"].apply(self._remove_stopwords)\n",
        "        return df\n",
        "\n",
        "    def _step_stemming(self, df) -> pd.DataFrame:\n",
        "        df[\"text\"] = df[\"text\"].apply(self._stemming)\n",
        "        return df\n",
        "\n",
        "    def _remove_stopwords(self, text: str) -> str:\n",
        "        doc = self._spacy_nlp(text)\n",
        "\n",
        "        filtered_words = [\n",
        "            token.text\n",
        "            for token in doc\n",
        "            if not token.is_stop\n",
        "        ]\n",
        "\n",
        "        return \" \".join(filtered_words)\n",
        "\n",
        "    def _stemming(self, text: str) -> str:\n",
        "        stemmer = PorterStemmer()\n",
        "        stemmed_words = [\n",
        "            stemmer.stem(token.text)\n",
        "            for token in self._spacy_nlp(text)\n",
        "        ]\n",
        "\n",
        "        return \" \".join(stemmed_words)\n",
        "\n",
        "    def _remove_special_symbols(self, text: str) -> str:\n",
        "        # Replacing symbols that are not letters, digits or whitespace with a space.\n",
        "        text = re.sub(r\"[^\\w\\d\\s]+\", \" \", text)\n",
        "        # Converting multiple whitespaces into single ones.\n",
        "        text = re.sub(r\"\\s+\", \" \", text)\n",
        "\n",
        "        return text.strip()\n",
        "\n",
        "\n",
        "bl_preprocessor = BaselinePreprocessor(df)\n",
        "prep_dataset_df = bl_preprocessor.preprocess()\n",
        "\n",
        "print(\"After preprocessing:\")\n",
        "prep_dataset_df.head()"
      ],
      "metadata": {
        "colab": {
          "base_uri": "https://localhost:8080/",
          "height": 224
        },
        "id": "OJpYHXjrc-Gf",
        "outputId": "f2cf24db-0b22-46e0-f896-c548d812b9f2"
      },
      "execution_count": null,
      "outputs": [
        {
          "output_type": "stream",
          "name": "stdout",
          "text": [
            "After preprocessing:\n"
          ]
        },
        {
          "output_type": "execute_result",
          "data": {
            "text/plain": [
              "                  rewire_id  \\\n",
              "0   sexism2022_english-9609   \n",
              "1  sexism2022_english-16993   \n",
              "2  sexism2022_english-13149   \n",
              "3  sexism2022_english-13021   \n",
              "4    sexism2022_english-966   \n",
              "\n",
              "                                                text label_sexist  \\\n",
              "0  nigeria rape woman men rape nsfw nigeria rape ...   not sexist   \n",
              "1                                           s keeper   not sexist   \n",
              "2  like metallica video poor mutil bastard say ki...   not sexist   \n",
              "3                                              woman   not sexist   \n",
              "4                                       bet wish gun   not sexist   \n",
              "\n",
              "  label_category label_vector  split  \n",
              "0           none         none    dev  \n",
              "1           none         none  train  \n",
              "2           none         none  train  \n",
              "3           none         none  train  \n",
              "4           none         none    dev  "
            ],
            "text/html": [
              "\n",
              "  <div id=\"df-3cf2093a-dbf5-4a5b-988d-0a2bbefdb7fd\" class=\"colab-df-container\">\n",
              "    <div>\n",
              "<style scoped>\n",
              "    .dataframe tbody tr th:only-of-type {\n",
              "        vertical-align: middle;\n",
              "    }\n",
              "\n",
              "    .dataframe tbody tr th {\n",
              "        vertical-align: top;\n",
              "    }\n",
              "\n",
              "    .dataframe thead th {\n",
              "        text-align: right;\n",
              "    }\n",
              "</style>\n",
              "<table border=\"1\" class=\"dataframe\">\n",
              "  <thead>\n",
              "    <tr style=\"text-align: right;\">\n",
              "      <th></th>\n",
              "      <th>rewire_id</th>\n",
              "      <th>text</th>\n",
              "      <th>label_sexist</th>\n",
              "      <th>label_category</th>\n",
              "      <th>label_vector</th>\n",
              "      <th>split</th>\n",
              "    </tr>\n",
              "  </thead>\n",
              "  <tbody>\n",
              "    <tr>\n",
              "      <th>0</th>\n",
              "      <td>sexism2022_english-9609</td>\n",
              "      <td>nigeria rape woman men rape nsfw nigeria rape ...</td>\n",
              "      <td>not sexist</td>\n",
              "      <td>none</td>\n",
              "      <td>none</td>\n",
              "      <td>dev</td>\n",
              "    </tr>\n",
              "    <tr>\n",
              "      <th>1</th>\n",
              "      <td>sexism2022_english-16993</td>\n",
              "      <td>s keeper</td>\n",
              "      <td>not sexist</td>\n",
              "      <td>none</td>\n",
              "      <td>none</td>\n",
              "      <td>train</td>\n",
              "    </tr>\n",
              "    <tr>\n",
              "      <th>2</th>\n",
              "      <td>sexism2022_english-13149</td>\n",
              "      <td>like metallica video poor mutil bastard say ki...</td>\n",
              "      <td>not sexist</td>\n",
              "      <td>none</td>\n",
              "      <td>none</td>\n",
              "      <td>train</td>\n",
              "    </tr>\n",
              "    <tr>\n",
              "      <th>3</th>\n",
              "      <td>sexism2022_english-13021</td>\n",
              "      <td>woman</td>\n",
              "      <td>not sexist</td>\n",
              "      <td>none</td>\n",
              "      <td>none</td>\n",
              "      <td>train</td>\n",
              "    </tr>\n",
              "    <tr>\n",
              "      <th>4</th>\n",
              "      <td>sexism2022_english-966</td>\n",
              "      <td>bet wish gun</td>\n",
              "      <td>not sexist</td>\n",
              "      <td>none</td>\n",
              "      <td>none</td>\n",
              "      <td>dev</td>\n",
              "    </tr>\n",
              "  </tbody>\n",
              "</table>\n",
              "</div>\n",
              "    <div class=\"colab-df-buttons\">\n",
              "\n",
              "  <div class=\"colab-df-container\">\n",
              "    <button class=\"colab-df-convert\" onclick=\"convertToInteractive('df-3cf2093a-dbf5-4a5b-988d-0a2bbefdb7fd')\"\n",
              "            title=\"Convert this dataframe to an interactive table.\"\n",
              "            style=\"display:none;\">\n",
              "\n",
              "  <svg xmlns=\"http://www.w3.org/2000/svg\" height=\"24px\" viewBox=\"0 -960 960 960\">\n",
              "    <path d=\"M120-120v-720h720v720H120Zm60-500h600v-160H180v160Zm220 220h160v-160H400v160Zm0 220h160v-160H400v160ZM180-400h160v-160H180v160Zm440 0h160v-160H620v160ZM180-180h160v-160H180v160Zm440 0h160v-160H620v160Z\"/>\n",
              "  </svg>\n",
              "    </button>\n",
              "\n",
              "  <style>\n",
              "    .colab-df-container {\n",
              "      display:flex;\n",
              "      gap: 12px;\n",
              "    }\n",
              "\n",
              "    .colab-df-convert {\n",
              "      background-color: #E8F0FE;\n",
              "      border: none;\n",
              "      border-radius: 50%;\n",
              "      cursor: pointer;\n",
              "      display: none;\n",
              "      fill: #1967D2;\n",
              "      height: 32px;\n",
              "      padding: 0 0 0 0;\n",
              "      width: 32px;\n",
              "    }\n",
              "\n",
              "    .colab-df-convert:hover {\n",
              "      background-color: #E2EBFA;\n",
              "      box-shadow: 0px 1px 2px rgba(60, 64, 67, 0.3), 0px 1px 3px 1px rgba(60, 64, 67, 0.15);\n",
              "      fill: #174EA6;\n",
              "    }\n",
              "\n",
              "    .colab-df-buttons div {\n",
              "      margin-bottom: 4px;\n",
              "    }\n",
              "\n",
              "    [theme=dark] .colab-df-convert {\n",
              "      background-color: #3B4455;\n",
              "      fill: #D2E3FC;\n",
              "    }\n",
              "\n",
              "    [theme=dark] .colab-df-convert:hover {\n",
              "      background-color: #434B5C;\n",
              "      box-shadow: 0px 1px 3px 1px rgba(0, 0, 0, 0.15);\n",
              "      filter: drop-shadow(0px 1px 2px rgba(0, 0, 0, 0.3));\n",
              "      fill: #FFFFFF;\n",
              "    }\n",
              "  </style>\n",
              "\n",
              "    <script>\n",
              "      const buttonEl =\n",
              "        document.querySelector('#df-3cf2093a-dbf5-4a5b-988d-0a2bbefdb7fd button.colab-df-convert');\n",
              "      buttonEl.style.display =\n",
              "        google.colab.kernel.accessAllowed ? 'block' : 'none';\n",
              "\n",
              "      async function convertToInteractive(key) {\n",
              "        const element = document.querySelector('#df-3cf2093a-dbf5-4a5b-988d-0a2bbefdb7fd');\n",
              "        const dataTable =\n",
              "          await google.colab.kernel.invokeFunction('convertToInteractive',\n",
              "                                                    [key], {});\n",
              "        if (!dataTable) return;\n",
              "\n",
              "        const docLinkHtml = 'Like what you see? Visit the ' +\n",
              "          '<a target=\"_blank\" href=https://colab.research.google.com/notebooks/data_table.ipynb>data table notebook</a>'\n",
              "          + ' to learn more about interactive tables.';\n",
              "        element.innerHTML = '';\n",
              "        dataTable['output_type'] = 'display_data';\n",
              "        await google.colab.output.renderOutput(dataTable, element);\n",
              "        const docLink = document.createElement('div');\n",
              "        docLink.innerHTML = docLinkHtml;\n",
              "        element.appendChild(docLink);\n",
              "      }\n",
              "    </script>\n",
              "  </div>\n",
              "\n",
              "\n",
              "<div id=\"df-d0620ff6-a02b-4f70-b39e-16ecd98061fa\">\n",
              "  <button class=\"colab-df-quickchart\" onclick=\"quickchart('df-d0620ff6-a02b-4f70-b39e-16ecd98061fa')\"\n",
              "            title=\"Suggest charts\"\n",
              "            style=\"display:none;\">\n",
              "\n",
              "<svg xmlns=\"http://www.w3.org/2000/svg\" height=\"24px\"viewBox=\"0 0 24 24\"\n",
              "     width=\"24px\">\n",
              "    <g>\n",
              "        <path d=\"M19 3H5c-1.1 0-2 .9-2 2v14c0 1.1.9 2 2 2h14c1.1 0 2-.9 2-2V5c0-1.1-.9-2-2-2zM9 17H7v-7h2v7zm4 0h-2V7h2v10zm4 0h-2v-4h2v4z\"/>\n",
              "    </g>\n",
              "</svg>\n",
              "  </button>\n",
              "\n",
              "<style>\n",
              "  .colab-df-quickchart {\n",
              "      --bg-color: #E8F0FE;\n",
              "      --fill-color: #1967D2;\n",
              "      --hover-bg-color: #E2EBFA;\n",
              "      --hover-fill-color: #174EA6;\n",
              "      --disabled-fill-color: #AAA;\n",
              "      --disabled-bg-color: #DDD;\n",
              "  }\n",
              "\n",
              "  [theme=dark] .colab-df-quickchart {\n",
              "      --bg-color: #3B4455;\n",
              "      --fill-color: #D2E3FC;\n",
              "      --hover-bg-color: #434B5C;\n",
              "      --hover-fill-color: #FFFFFF;\n",
              "      --disabled-bg-color: #3B4455;\n",
              "      --disabled-fill-color: #666;\n",
              "  }\n",
              "\n",
              "  .colab-df-quickchart {\n",
              "    background-color: var(--bg-color);\n",
              "    border: none;\n",
              "    border-radius: 50%;\n",
              "    cursor: pointer;\n",
              "    display: none;\n",
              "    fill: var(--fill-color);\n",
              "    height: 32px;\n",
              "    padding: 0;\n",
              "    width: 32px;\n",
              "  }\n",
              "\n",
              "  .colab-df-quickchart:hover {\n",
              "    background-color: var(--hover-bg-color);\n",
              "    box-shadow: 0 1px 2px rgba(60, 64, 67, 0.3), 0 1px 3px 1px rgba(60, 64, 67, 0.15);\n",
              "    fill: var(--button-hover-fill-color);\n",
              "  }\n",
              "\n",
              "  .colab-df-quickchart-complete:disabled,\n",
              "  .colab-df-quickchart-complete:disabled:hover {\n",
              "    background-color: var(--disabled-bg-color);\n",
              "    fill: var(--disabled-fill-color);\n",
              "    box-shadow: none;\n",
              "  }\n",
              "\n",
              "  .colab-df-spinner {\n",
              "    border: 2px solid var(--fill-color);\n",
              "    border-color: transparent;\n",
              "    border-bottom-color: var(--fill-color);\n",
              "    animation:\n",
              "      spin 1s steps(1) infinite;\n",
              "  }\n",
              "\n",
              "  @keyframes spin {\n",
              "    0% {\n",
              "      border-color: transparent;\n",
              "      border-bottom-color: var(--fill-color);\n",
              "      border-left-color: var(--fill-color);\n",
              "    }\n",
              "    20% {\n",
              "      border-color: transparent;\n",
              "      border-left-color: var(--fill-color);\n",
              "      border-top-color: var(--fill-color);\n",
              "    }\n",
              "    30% {\n",
              "      border-color: transparent;\n",
              "      border-left-color: var(--fill-color);\n",
              "      border-top-color: var(--fill-color);\n",
              "      border-right-color: var(--fill-color);\n",
              "    }\n",
              "    40% {\n",
              "      border-color: transparent;\n",
              "      border-right-color: var(--fill-color);\n",
              "      border-top-color: var(--fill-color);\n",
              "    }\n",
              "    60% {\n",
              "      border-color: transparent;\n",
              "      border-right-color: var(--fill-color);\n",
              "    }\n",
              "    80% {\n",
              "      border-color: transparent;\n",
              "      border-right-color: var(--fill-color);\n",
              "      border-bottom-color: var(--fill-color);\n",
              "    }\n",
              "    90% {\n",
              "      border-color: transparent;\n",
              "      border-bottom-color: var(--fill-color);\n",
              "    }\n",
              "  }\n",
              "</style>\n",
              "\n",
              "  <script>\n",
              "    async function quickchart(key) {\n",
              "      const quickchartButtonEl =\n",
              "        document.querySelector('#' + key + ' button');\n",
              "      quickchartButtonEl.disabled = true;  // To prevent multiple clicks.\n",
              "      quickchartButtonEl.classList.add('colab-df-spinner');\n",
              "      try {\n",
              "        const charts = await google.colab.kernel.invokeFunction(\n",
              "            'suggestCharts', [key], {});\n",
              "      } catch (error) {\n",
              "        console.error('Error during call to suggestCharts:', error);\n",
              "      }\n",
              "      quickchartButtonEl.classList.remove('colab-df-spinner');\n",
              "      quickchartButtonEl.classList.add('colab-df-quickchart-complete');\n",
              "    }\n",
              "    (() => {\n",
              "      let quickchartButtonEl =\n",
              "        document.querySelector('#df-d0620ff6-a02b-4f70-b39e-16ecd98061fa button');\n",
              "      quickchartButtonEl.style.display =\n",
              "        google.colab.kernel.accessAllowed ? 'block' : 'none';\n",
              "    })();\n",
              "  </script>\n",
              "</div>\n",
              "\n",
              "    </div>\n",
              "  </div>\n"
            ],
            "application/vnd.google.colaboratory.intrinsic+json": {
              "type": "dataframe",
              "variable_name": "prep_dataset_df",
              "summary": "{\n  \"name\": \"prep_dataset_df\",\n  \"rows\": 20000,\n  \"fields\": [\n    {\n      \"column\": \"rewire_id\",\n      \"properties\": {\n        \"dtype\": \"string\",\n        \"num_unique_values\": 20000,\n        \"samples\": [\n          \"sexism2022_english-6244\",\n          \"sexism2022_english-8088\",\n          \"sexism2022_english-3423\"\n        ],\n        \"semantic_type\": \"\",\n        \"description\": \"\"\n      }\n    },\n    {\n      \"column\": \"text\",\n      \"properties\": {\n        \"dtype\": \"string\",\n        \"num_unique_values\": 19970,\n        \"samples\": [\n          \"wigman girl talk lesbian rais valu eat bullshit\",\n          \"place took shot tequila smoke dope work soon nail edit grammar\",\n          \"aita esh extrem entitl asshol s tri advantag deserv gyow\"\n        ],\n        \"semantic_type\": \"\",\n        \"description\": \"\"\n      }\n    },\n    {\n      \"column\": \"label_sexist\",\n      \"properties\": {\n        \"dtype\": \"category\",\n        \"num_unique_values\": 2,\n        \"samples\": [\n          \"sexist\",\n          \"not sexist\"\n        ],\n        \"semantic_type\": \"\",\n        \"description\": \"\"\n      }\n    },\n    {\n      \"column\": \"label_category\",\n      \"properties\": {\n        \"dtype\": \"category\",\n        \"num_unique_values\": 5,\n        \"samples\": [\n          \"3. animosity\",\n          \"1. threats, plans to harm and incitement\"\n        ],\n        \"semantic_type\": \"\",\n        \"description\": \"\"\n      }\n    },\n    {\n      \"column\": \"label_vector\",\n      \"properties\": {\n        \"dtype\": \"category\",\n        \"num_unique_values\": 12,\n        \"samples\": [\n          \"1.1 threats of harm\",\n          \"3.1 casual use of gendered slurs, profanities, and insults\"\n        ],\n        \"semantic_type\": \"\",\n        \"description\": \"\"\n      }\n    },\n    {\n      \"column\": \"split\",\n      \"properties\": {\n        \"dtype\": \"category\",\n        \"num_unique_values\": 3,\n        \"samples\": [\n          \"dev\",\n          \"train\"\n        ],\n        \"semantic_type\": \"\",\n        \"description\": \"\"\n      }\n    }\n  ]\n}"
            }
          },
          "metadata": {},
          "execution_count": 4
        }
      ]
    },
    {
      "cell_type": "markdown",
      "metadata": {
        "id": "JfzuFEgACB-Z"
      },
      "source": [
        "Cargamos cada split en un dataframe distinto. Estos dataframe serán transformados en objetos Dataset y usados para construir un DatasetDict que albergue los tres splits de forma conjunta:"
      ]
    },
    {
      "cell_type": "code",
      "execution_count": null,
      "metadata": {
        "colab": {
          "base_uri": "https://localhost:8080/"
        },
        "id": "COYHbazgYPj4",
        "outputId": "da75e10c-6aa7-4ace-fef2-00ceb27e0c58"
      },
      "outputs": [
        {
          "name": "stdout",
          "output_type": "stream",
          "text": [
            "Collecting textaugment\n",
            "  Downloading textaugment-2.0.0-py3-none-any.whl (19 kB)\n",
            "Requirement already satisfied: nltk in /usr/local/lib/python3.10/dist-packages (from textaugment) (3.8.1)\n",
            "Requirement already satisfied: gensim>=4.0 in /usr/local/lib/python3.10/dist-packages (from textaugment) (4.3.2)\n",
            "Requirement already satisfied: textblob in /usr/local/lib/python3.10/dist-packages (from textaugment) (0.17.1)\n",
            "Requirement already satisfied: numpy in /usr/local/lib/python3.10/dist-packages (from textaugment) (1.25.2)\n",
            "Collecting googletrans>=2 (from textaugment)\n",
            "  Downloading googletrans-3.0.0.tar.gz (17 kB)\n",
            "  Preparing metadata (setup.py) ... \u001b[?25l\u001b[?25hdone\n",
            "Requirement already satisfied: scipy>=1.7.0 in /usr/local/lib/python3.10/dist-packages (from gensim>=4.0->textaugment) (1.11.4)\n",
            "Requirement already satisfied: smart-open>=1.8.1 in /usr/local/lib/python3.10/dist-packages (from gensim>=4.0->textaugment) (6.4.0)\n",
            "Collecting httpx==0.13.3 (from googletrans>=2->textaugment)\n",
            "  Downloading httpx-0.13.3-py3-none-any.whl (55 kB)\n",
            "\u001b[2K     \u001b[90m━━━━━━━━━━━━━━━━━━━━━━━━━━━━━━━━━━━━━━━━\u001b[0m \u001b[32m55.1/55.1 kB\u001b[0m \u001b[31m3.1 MB/s\u001b[0m eta \u001b[36m0:00:00\u001b[0m\n",
            "\u001b[?25hRequirement already satisfied: certifi in /usr/local/lib/python3.10/dist-packages (from httpx==0.13.3->googletrans>=2->textaugment) (2024.2.2)\n",
            "Collecting hstspreload (from httpx==0.13.3->googletrans>=2->textaugment)\n",
            "  Downloading hstspreload-2024.3.1-py3-none-any.whl (1.1 MB)\n",
            "\u001b[2K     \u001b[90m━━━━━━━━━━━━━━━━━━━━━━━━━━━━━━━━━━━━━━━━\u001b[0m \u001b[32m1.1/1.1 MB\u001b[0m \u001b[31m47.0 MB/s\u001b[0m eta \u001b[36m0:00:00\u001b[0m\n",
            "\u001b[?25hRequirement already satisfied: sniffio in /usr/local/lib/python3.10/dist-packages (from httpx==0.13.3->googletrans>=2->textaugment) (1.3.1)\n",
            "Collecting chardet==3.* (from httpx==0.13.3->googletrans>=2->textaugment)\n",
            "  Downloading chardet-3.0.4-py2.py3-none-any.whl (133 kB)\n",
            "\u001b[2K     \u001b[90m━━━━━━━━━━━━━━━━━━━━━━━━━━━━━━━━━━━━━━━━\u001b[0m \u001b[32m133.4/133.4 kB\u001b[0m \u001b[31m20.3 MB/s\u001b[0m eta \u001b[36m0:00:00\u001b[0m\n",
            "\u001b[?25hCollecting idna==2.* (from httpx==0.13.3->googletrans>=2->textaugment)\n",
            "  Downloading idna-2.10-py2.py3-none-any.whl (58 kB)\n",
            "\u001b[2K     \u001b[90m━━━━━━━━━━━━━━━━━━━━━━━━━━━━━━━━━━━━━━━━\u001b[0m \u001b[32m58.8/58.8 kB\u001b[0m \u001b[31m9.9 MB/s\u001b[0m eta \u001b[36m0:00:00\u001b[0m\n",
            "\u001b[?25hCollecting rfc3986<2,>=1.3 (from httpx==0.13.3->googletrans>=2->textaugment)\n",
            "  Downloading rfc3986-1.5.0-py2.py3-none-any.whl (31 kB)\n",
            "Collecting httpcore==0.9.* (from httpx==0.13.3->googletrans>=2->textaugment)\n",
            "  Downloading httpcore-0.9.1-py3-none-any.whl (42 kB)\n",
            "\u001b[2K     \u001b[90m━━━━━━━━━━━━━━━━━━━━━━━━━━━━━━━━━━━━━━━━\u001b[0m \u001b[32m42.6/42.6 kB\u001b[0m \u001b[31m6.8 MB/s\u001b[0m eta \u001b[36m0:00:00\u001b[0m\n",
            "\u001b[?25hCollecting h11<0.10,>=0.8 (from httpcore==0.9.*->httpx==0.13.3->googletrans>=2->textaugment)\n",
            "  Downloading h11-0.9.0-py2.py3-none-any.whl (53 kB)\n",
            "\u001b[2K     \u001b[90m━━━━━━━━━━━━━━━━━━━━━━━━━━━━━━━━━━━━━━━━\u001b[0m \u001b[32m53.6/53.6 kB\u001b[0m \u001b[31m7.1 MB/s\u001b[0m eta \u001b[36m0:00:00\u001b[0m\n",
            "\u001b[?25hCollecting h2==3.* (from httpcore==0.9.*->httpx==0.13.3->googletrans>=2->textaugment)\n",
            "  Downloading h2-3.2.0-py2.py3-none-any.whl (65 kB)\n",
            "\u001b[2K     \u001b[90m━━━━━━━━━━━━━━━━━━━━━━━━━━━━━━━━━━━━━━━━\u001b[0m \u001b[32m65.0/65.0 kB\u001b[0m \u001b[31m8.9 MB/s\u001b[0m eta \u001b[36m0:00:00\u001b[0m\n",
            "\u001b[?25hCollecting hyperframe<6,>=5.2.0 (from h2==3.*->httpcore==0.9.*->httpx==0.13.3->googletrans>=2->textaugment)\n",
            "  Downloading hyperframe-5.2.0-py2.py3-none-any.whl (12 kB)\n",
            "Collecting hpack<4,>=3.0 (from h2==3.*->httpcore==0.9.*->httpx==0.13.3->googletrans>=2->textaugment)\n",
            "  Downloading hpack-3.0.0-py2.py3-none-any.whl (38 kB)\n",
            "Requirement already satisfied: click in /usr/local/lib/python3.10/dist-packages (from nltk->textaugment) (8.1.7)\n",
            "Requirement already satisfied: joblib in /usr/local/lib/python3.10/dist-packages (from nltk->textaugment) (1.3.2)\n",
            "Requirement already satisfied: regex>=2021.8.3 in /usr/local/lib/python3.10/dist-packages (from nltk->textaugment) (2023.12.25)\n",
            "Requirement already satisfied: tqdm in /usr/local/lib/python3.10/dist-packages (from nltk->textaugment) (4.66.2)\n",
            "Building wheels for collected packages: googletrans\n",
            "  Building wheel for googletrans (setup.py) ... \u001b[?25l\u001b[?25hdone\n",
            "  Created wheel for googletrans: filename=googletrans-3.0.0-py3-none-any.whl size=15715 sha256=942b7d24e739dac88979a4e0497f794f8a2c1dedcfb8f488a3b34d49fa342057\n",
            "  Stored in directory: /root/.cache/pip/wheels/b3/81/ea/8b030407f8ebfc2f857814e086bb22ca2d4fea1a7be63652ab\n",
            "Successfully built googletrans\n",
            "Installing collected packages: rfc3986, hyperframe, hpack, h11, chardet, idna, hstspreload, h2, httpcore, httpx, googletrans, textaugment\n",
            "  Attempting uninstall: chardet\n",
            "    Found existing installation: chardet 5.2.0\n",
            "    Uninstalling chardet-5.2.0:\n",
            "      Successfully uninstalled chardet-5.2.0\n",
            "  Attempting uninstall: idna\n",
            "    Found existing installation: idna 3.6\n",
            "    Uninstalling idna-3.6:\n",
            "      Successfully uninstalled idna-3.6\n",
            "Successfully installed chardet-3.0.4 googletrans-3.0.0 h11-0.9.0 h2-3.2.0 hpack-3.0.0 hstspreload-2024.3.1 httpcore-0.9.1 httpx-0.13.3 hyperframe-5.2.0 idna-2.10 rfc3986-1.5.0 textaugment-2.0.0\n"
          ]
        }
      ],
      "source": [
        "pip install textaugment"
      ]
    },
    {
      "cell_type": "code",
      "execution_count": null,
      "metadata": {
        "colab": {
          "base_uri": "https://localhost:8080/"
        },
        "id": "aUgNjPN4ZuMa",
        "outputId": "8f80112c-6e2f-4fc8-b774-5746af78f7f0"
      },
      "outputs": [
        {
          "name": "stderr",
          "output_type": "stream",
          "text": [
            "[nltk_data] Downloading package stopwords to /root/nltk_data...\n",
            "[nltk_data]   Package stopwords is already up-to-date!\n",
            "[nltk_data] Downloading package wordnet to /root/nltk_data...\n"
          ]
        },
        {
          "data": {
            "text/plain": [
              "True"
            ]
          },
          "execution_count": 11,
          "metadata": {},
          "output_type": "execute_result"
        }
      ],
      "source": [
        "import nltk\n",
        "nltk.download('stopwords')\n",
        "nltk.download('wordnet')"
      ]
    },
    {
      "cell_type": "code",
      "execution_count": null,
      "metadata": {
        "id": "IvJ9UyU4YQQI"
      },
      "outputs": [],
      "source": [
        "import pandas as pd\n",
        "from textaugment import EDA\n",
        "\n",
        "# Cargar el conjunto de datos desde el archivo CSV\n",
        "archivo_csv_original = 'edos_labelled_aggregated.csv'\n",
        "df_original = pd.read_csv(archivo_csv_original)\n",
        "\n",
        "# Inicializar el objeto de aumentación de datos\n",
        "eda = EDA()\n",
        "\n",
        "# Aplicar aumentación de datos a las columnas de texto\n",
        "columnas_texto = ['text']  # Reemplaza con los nombres reales de tus columnas de texto\n",
        "\n",
        "for columna in columnas_texto:\n",
        "    df_original[columna] = df_original[columna].apply(lambda x: eda.random_deletion(x))\n",
        "    df_original[columna] = df_original[columna].apply(lambda x: eda.random_swap(x))\n",
        "    #df_original[columna] = df_original[columna].apply(lambda x: eda.random_insertion(x))\n",
        "    # Puedes agregar más técnicas de aumentación según tus necesidades\n",
        "\n",
        "# Guardar el nuevo conjunto de datos en otro archivo CSV\n",
        "archivo_csv_aumentado = 'edos_aug_eda.csv'\n",
        "df_original.to_csv(archivo_csv_aumentado, index=False)"
      ]
    },
    {
      "cell_type": "code",
      "source": [
        "df=prep_dataset_df"
      ],
      "metadata": {
        "id": "zn2yuEOXfO1O"
      },
      "execution_count": null,
      "outputs": []
    },
    {
      "cell_type": "code",
      "execution_count": null,
      "metadata": {
        "id": "sxS_XI_kCCOP"
      },
      "outputs": [],
      "source": [
        "df_train_original = df[df['split']=='train']\n",
        "df_dev = df[df['split']=='dev']\n",
        "df_test = df[df['split']=='test']"
      ]
    },
    {
      "cell_type": "markdown",
      "metadata": {
        "id": "I2Qsj5hMAfTN"
      },
      "source": [
        "También vamos a cargar un conjunto de instancias cuyos textos fueron generados de forma automática a partir de la librería textaugment:"
      ]
    },
    {
      "cell_type": "code",
      "execution_count": null,
      "metadata": {
        "colab": {
          "base_uri": "https://localhost:8080/",
          "height": 206
        },
        "id": "xvrbJGnLAqa5",
        "outputId": "67aa8237-e2f3-4f2e-ad42-ec7fe23f3f03"
      },
      "outputs": [
        {
          "data": {
            "application/vnd.google.colaboratory.intrinsic+json": {
              "summary": "{\n  \"name\": \"df_syn\",\n  \"rows\": 20000,\n  \"fields\": [\n    {\n      \"column\": \"rewire_id\",\n      \"properties\": {\n        \"dtype\": \"string\",\n        \"num_unique_values\": 20000,\n        \"samples\": [\n          \"sexism2022_english-6244\",\n          \"sexism2022_english-8088\",\n          \"sexism2022_english-3423\"\n        ],\n        \"semantic_type\": \"\",\n        \"description\": \"\"\n      }\n    },\n    {\n      \"column\": \"text\",\n      \"properties\": {\n        \"dtype\": \"string\",\n        \"num_unique_values\": 20000,\n        \"samples\": [\n          \"We just people. kaffir black in Africa throw his year daughter off roof of his shack to protest it being demolished. He gets a warning. Demonic race of a\",\n          \"What they won't tell you about is the run shit like the fucking mafia. Where they play the big pimp and force into \\\"haze\\\" or it, them day in and day out.\",\n          \"Ah the screeching of the single mom. Tossed aside to passed over by man after man because they decided and keep their Chad Trophy. Shame all you want. Enjoy watching the Doodlebops for 400th time :)\"\n        ],\n        \"semantic_type\": \"\",\n        \"description\": \"\"\n      }\n    },\n    {\n      \"column\": \"label_sexist\",\n      \"properties\": {\n        \"dtype\": \"category\",\n        \"num_unique_values\": 2,\n        \"samples\": [\n          \"sexist\",\n          \"not sexist\"\n        ],\n        \"semantic_type\": \"\",\n        \"description\": \"\"\n      }\n    },\n    {\n      \"column\": \"label_category\",\n      \"properties\": {\n        \"dtype\": \"category\",\n        \"num_unique_values\": 5,\n        \"samples\": [\n          \"3. animosity\",\n          \"1. threats, plans to harm and incitement\"\n        ],\n        \"semantic_type\": \"\",\n        \"description\": \"\"\n      }\n    },\n    {\n      \"column\": \"label_vector\",\n      \"properties\": {\n        \"dtype\": \"category\",\n        \"num_unique_values\": 12,\n        \"samples\": [\n          \"1.1 threats of harm\",\n          \"3.1 casual use of gendered slurs, profanities, and insults\"\n        ],\n        \"semantic_type\": \"\",\n        \"description\": \"\"\n      }\n    },\n    {\n      \"column\": \"split\",\n      \"properties\": {\n        \"dtype\": \"category\",\n        \"num_unique_values\": 3,\n        \"samples\": [\n          \"dev\",\n          \"train\"\n        ],\n        \"semantic_type\": \"\",\n        \"description\": \"\"\n      }\n    }\n  ]\n}",
              "type": "dataframe",
              "variable_name": "df_syn"
            },
            "text/html": [
              "\n",
              "  <div id=\"df-ecdb0714-b76a-4649-89d8-00d02b501b16\" class=\"colab-df-container\">\n",
              "    <div>\n",
              "<style scoped>\n",
              "    .dataframe tbody tr th:only-of-type {\n",
              "        vertical-align: middle;\n",
              "    }\n",
              "\n",
              "    .dataframe tbody tr th {\n",
              "        vertical-align: top;\n",
              "    }\n",
              "\n",
              "    .dataframe thead th {\n",
              "        text-align: right;\n",
              "    }\n",
              "</style>\n",
              "<table border=\"1\" class=\"dataframe\">\n",
              "  <thead>\n",
              "    <tr style=\"text-align: right;\">\n",
              "      <th></th>\n",
              "      <th>rewire_id</th>\n",
              "      <th>text</th>\n",
              "      <th>label_sexist</th>\n",
              "      <th>label_category</th>\n",
              "      <th>label_vector</th>\n",
              "      <th>split</th>\n",
              "    </tr>\n",
              "  </thead>\n",
              "  <tbody>\n",
              "    <tr>\n",
              "      <th>0</th>\n",
              "      <td>sexism2022_english-9609</td>\n",
              "      <td>rape Nigeria, if you In a woman, the you back!...</td>\n",
              "      <td>not sexist</td>\n",
              "      <td>none</td>\n",
              "      <td>none</td>\n",
              "      <td>dev</td>\n",
              "    </tr>\n",
              "    <tr>\n",
              "      <th>1</th>\n",
              "      <td>sexism2022_english-16993</td>\n",
              "      <td>Then, she's a 😉 keeper.</td>\n",
              "      <td>not sexist</td>\n",
              "      <td>none</td>\n",
              "      <td>none</td>\n",
              "      <td>train</td>\n",
              "    </tr>\n",
              "    <tr>\n",
              "      <th>2</th>\n",
              "      <td>sexism2022_english-13149</td>\n",
              "      <td>This is again, Metallica video where the poor ...</td>\n",
              "      <td>not sexist</td>\n",
              "      <td>none</td>\n",
              "      <td>none</td>\n",
              "      <td>train</td>\n",
              "    </tr>\n",
              "    <tr>\n",
              "      <th>3</th>\n",
              "      <td>sexism2022_english-13021</td>\n",
              "      <td>woman?</td>\n",
              "      <td>not sexist</td>\n",
              "      <td>none</td>\n",
              "      <td>none</td>\n",
              "      <td>train</td>\n",
              "    </tr>\n",
              "    <tr>\n",
              "      <th>4</th>\n",
              "      <td>sexism2022_english-966</td>\n",
              "      <td>I a she wished she had bet gun</td>\n",
              "      <td>not sexist</td>\n",
              "      <td>none</td>\n",
              "      <td>none</td>\n",
              "      <td>dev</td>\n",
              "    </tr>\n",
              "  </tbody>\n",
              "</table>\n",
              "</div>\n",
              "    <div class=\"colab-df-buttons\">\n",
              "\n",
              "  <div class=\"colab-df-container\">\n",
              "    <button class=\"colab-df-convert\" onclick=\"convertToInteractive('df-ecdb0714-b76a-4649-89d8-00d02b501b16')\"\n",
              "            title=\"Convert this dataframe to an interactive table.\"\n",
              "            style=\"display:none;\">\n",
              "\n",
              "  <svg xmlns=\"http://www.w3.org/2000/svg\" height=\"24px\" viewBox=\"0 -960 960 960\">\n",
              "    <path d=\"M120-120v-720h720v720H120Zm60-500h600v-160H180v160Zm220 220h160v-160H400v160Zm0 220h160v-160H400v160ZM180-400h160v-160H180v160Zm440 0h160v-160H620v160ZM180-180h160v-160H180v160Zm440 0h160v-160H620v160Z\"/>\n",
              "  </svg>\n",
              "    </button>\n",
              "\n",
              "  <style>\n",
              "    .colab-df-container {\n",
              "      display:flex;\n",
              "      gap: 12px;\n",
              "    }\n",
              "\n",
              "    .colab-df-convert {\n",
              "      background-color: #E8F0FE;\n",
              "      border: none;\n",
              "      border-radius: 50%;\n",
              "      cursor: pointer;\n",
              "      display: none;\n",
              "      fill: #1967D2;\n",
              "      height: 32px;\n",
              "      padding: 0 0 0 0;\n",
              "      width: 32px;\n",
              "    }\n",
              "\n",
              "    .colab-df-convert:hover {\n",
              "      background-color: #E2EBFA;\n",
              "      box-shadow: 0px 1px 2px rgba(60, 64, 67, 0.3), 0px 1px 3px 1px rgba(60, 64, 67, 0.15);\n",
              "      fill: #174EA6;\n",
              "    }\n",
              "\n",
              "    .colab-df-buttons div {\n",
              "      margin-bottom: 4px;\n",
              "    }\n",
              "\n",
              "    [theme=dark] .colab-df-convert {\n",
              "      background-color: #3B4455;\n",
              "      fill: #D2E3FC;\n",
              "    }\n",
              "\n",
              "    [theme=dark] .colab-df-convert:hover {\n",
              "      background-color: #434B5C;\n",
              "      box-shadow: 0px 1px 3px 1px rgba(0, 0, 0, 0.15);\n",
              "      filter: drop-shadow(0px 1px 2px rgba(0, 0, 0, 0.3));\n",
              "      fill: #FFFFFF;\n",
              "    }\n",
              "  </style>\n",
              "\n",
              "    <script>\n",
              "      const buttonEl =\n",
              "        document.querySelector('#df-ecdb0714-b76a-4649-89d8-00d02b501b16 button.colab-df-convert');\n",
              "      buttonEl.style.display =\n",
              "        google.colab.kernel.accessAllowed ? 'block' : 'none';\n",
              "\n",
              "      async function convertToInteractive(key) {\n",
              "        const element = document.querySelector('#df-ecdb0714-b76a-4649-89d8-00d02b501b16');\n",
              "        const dataTable =\n",
              "          await google.colab.kernel.invokeFunction('convertToInteractive',\n",
              "                                                    [key], {});\n",
              "        if (!dataTable) return;\n",
              "\n",
              "        const docLinkHtml = 'Like what you see? Visit the ' +\n",
              "          '<a target=\"_blank\" href=https://colab.research.google.com/notebooks/data_table.ipynb>data table notebook</a>'\n",
              "          + ' to learn more about interactive tables.';\n",
              "        element.innerHTML = '';\n",
              "        dataTable['output_type'] = 'display_data';\n",
              "        await google.colab.output.renderOutput(dataTable, element);\n",
              "        const docLink = document.createElement('div');\n",
              "        docLink.innerHTML = docLinkHtml;\n",
              "        element.appendChild(docLink);\n",
              "      }\n",
              "    </script>\n",
              "  </div>\n",
              "\n",
              "\n",
              "<div id=\"df-a418a8d0-fbed-4cba-8dc4-21e341300831\">\n",
              "  <button class=\"colab-df-quickchart\" onclick=\"quickchart('df-a418a8d0-fbed-4cba-8dc4-21e341300831')\"\n",
              "            title=\"Suggest charts\"\n",
              "            style=\"display:none;\">\n",
              "\n",
              "<svg xmlns=\"http://www.w3.org/2000/svg\" height=\"24px\"viewBox=\"0 0 24 24\"\n",
              "     width=\"24px\">\n",
              "    <g>\n",
              "        <path d=\"M19 3H5c-1.1 0-2 .9-2 2v14c0 1.1.9 2 2 2h14c1.1 0 2-.9 2-2V5c0-1.1-.9-2-2-2zM9 17H7v-7h2v7zm4 0h-2V7h2v10zm4 0h-2v-4h2v4z\"/>\n",
              "    </g>\n",
              "</svg>\n",
              "  </button>\n",
              "\n",
              "<style>\n",
              "  .colab-df-quickchart {\n",
              "      --bg-color: #E8F0FE;\n",
              "      --fill-color: #1967D2;\n",
              "      --hover-bg-color: #E2EBFA;\n",
              "      --hover-fill-color: #174EA6;\n",
              "      --disabled-fill-color: #AAA;\n",
              "      --disabled-bg-color: #DDD;\n",
              "  }\n",
              "\n",
              "  [theme=dark] .colab-df-quickchart {\n",
              "      --bg-color: #3B4455;\n",
              "      --fill-color: #D2E3FC;\n",
              "      --hover-bg-color: #434B5C;\n",
              "      --hover-fill-color: #FFFFFF;\n",
              "      --disabled-bg-color: #3B4455;\n",
              "      --disabled-fill-color: #666;\n",
              "  }\n",
              "\n",
              "  .colab-df-quickchart {\n",
              "    background-color: var(--bg-color);\n",
              "    border: none;\n",
              "    border-radius: 50%;\n",
              "    cursor: pointer;\n",
              "    display: none;\n",
              "    fill: var(--fill-color);\n",
              "    height: 32px;\n",
              "    padding: 0;\n",
              "    width: 32px;\n",
              "  }\n",
              "\n",
              "  .colab-df-quickchart:hover {\n",
              "    background-color: var(--hover-bg-color);\n",
              "    box-shadow: 0 1px 2px rgba(60, 64, 67, 0.3), 0 1px 3px 1px rgba(60, 64, 67, 0.15);\n",
              "    fill: var(--button-hover-fill-color);\n",
              "  }\n",
              "\n",
              "  .colab-df-quickchart-complete:disabled,\n",
              "  .colab-df-quickchart-complete:disabled:hover {\n",
              "    background-color: var(--disabled-bg-color);\n",
              "    fill: var(--disabled-fill-color);\n",
              "    box-shadow: none;\n",
              "  }\n",
              "\n",
              "  .colab-df-spinner {\n",
              "    border: 2px solid var(--fill-color);\n",
              "    border-color: transparent;\n",
              "    border-bottom-color: var(--fill-color);\n",
              "    animation:\n",
              "      spin 1s steps(1) infinite;\n",
              "  }\n",
              "\n",
              "  @keyframes spin {\n",
              "    0% {\n",
              "      border-color: transparent;\n",
              "      border-bottom-color: var(--fill-color);\n",
              "      border-left-color: var(--fill-color);\n",
              "    }\n",
              "    20% {\n",
              "      border-color: transparent;\n",
              "      border-left-color: var(--fill-color);\n",
              "      border-top-color: var(--fill-color);\n",
              "    }\n",
              "    30% {\n",
              "      border-color: transparent;\n",
              "      border-left-color: var(--fill-color);\n",
              "      border-top-color: var(--fill-color);\n",
              "      border-right-color: var(--fill-color);\n",
              "    }\n",
              "    40% {\n",
              "      border-color: transparent;\n",
              "      border-right-color: var(--fill-color);\n",
              "      border-top-color: var(--fill-color);\n",
              "    }\n",
              "    60% {\n",
              "      border-color: transparent;\n",
              "      border-right-color: var(--fill-color);\n",
              "    }\n",
              "    80% {\n",
              "      border-color: transparent;\n",
              "      border-right-color: var(--fill-color);\n",
              "      border-bottom-color: var(--fill-color);\n",
              "    }\n",
              "    90% {\n",
              "      border-color: transparent;\n",
              "      border-bottom-color: var(--fill-color);\n",
              "    }\n",
              "  }\n",
              "</style>\n",
              "\n",
              "  <script>\n",
              "    async function quickchart(key) {\n",
              "      const quickchartButtonEl =\n",
              "        document.querySelector('#' + key + ' button');\n",
              "      quickchartButtonEl.disabled = true;  // To prevent multiple clicks.\n",
              "      quickchartButtonEl.classList.add('colab-df-spinner');\n",
              "      try {\n",
              "        const charts = await google.colab.kernel.invokeFunction(\n",
              "            'suggestCharts', [key], {});\n",
              "      } catch (error) {\n",
              "        console.error('Error during call to suggestCharts:', error);\n",
              "      }\n",
              "      quickchartButtonEl.classList.remove('colab-df-spinner');\n",
              "      quickchartButtonEl.classList.add('colab-df-quickchart-complete');\n",
              "    }\n",
              "    (() => {\n",
              "      let quickchartButtonEl =\n",
              "        document.querySelector('#df-a418a8d0-fbed-4cba-8dc4-21e341300831 button');\n",
              "      quickchartButtonEl.style.display =\n",
              "        google.colab.kernel.accessAllowed ? 'block' : 'none';\n",
              "    })();\n",
              "  </script>\n",
              "</div>\n",
              "\n",
              "    </div>\n",
              "  </div>\n"
            ],
            "text/plain": [
              "                  rewire_id  \\\n",
              "0   sexism2022_english-9609   \n",
              "1  sexism2022_english-16993   \n",
              "2  sexism2022_english-13149   \n",
              "3  sexism2022_english-13021   \n",
              "4    sexism2022_english-966   \n",
              "\n",
              "                                                text label_sexist  \\\n",
              "0  rape Nigeria, if you In a woman, the you back!...   not sexist   \n",
              "1                            Then, she's a 😉 keeper.   not sexist   \n",
              "2  This is again, Metallica video where the poor ...   not sexist   \n",
              "3                                             woman?   not sexist   \n",
              "4                     I a she wished she had bet gun   not sexist   \n",
              "\n",
              "  label_category label_vector  split  \n",
              "0           none         none    dev  \n",
              "1           none         none  train  \n",
              "2           none         none  train  \n",
              "3           none         none  train  \n",
              "4           none         none    dev  "
            ]
          },
          "execution_count": 3,
          "metadata": {},
          "output_type": "execute_result"
        }
      ],
      "source": [
        "df_syn = pd.read_csv(\"edos_aug_eda.csv\")\n",
        "#df_syn = df_syn.drop(columns=['__index_level_0__'])\n",
        "df_syn.head()"
      ]
    },
    {
      "cell_type": "markdown",
      "metadata": {
        "id": "FNJiGSoOB1F2"
      },
      "source": [
        "Ahora vamos a concatenar el conjunto de training original y el conjunto que acabamos de cargar con los textos sintéticos:"
      ]
    },
    {
      "cell_type": "code",
      "execution_count": null,
      "metadata": {
        "colab": {
          "base_uri": "https://localhost:8080/"
        },
        "id": "nD_5ElYjB6-M",
        "outputId": "a8de404d-5c58-4022-ea7d-f93996894bc9"
      },
      "outputs": [
        {
          "output_type": "stream",
          "name": "stdout",
          "text": [
            "(14000, 6)\n",
            "(14000, 6)\n"
          ]
        }
      ],
      "source": [
        "#df_train = pd.concat([df_train_original, df_syn])\n",
        "df_train = pd.concat([df_train_original])\n",
        "print(df_train_original.shape)\n",
        "print(df_train.shape)\n"
      ]
    },
    {
      "cell_type": "code",
      "execution_count": null,
      "metadata": {
        "colab": {
          "base_uri": "https://localhost:8080/"
        },
        "id": "q4keaYWPREcx",
        "outputId": "097fc2d4-bcba-4e68-c48e-c5f36a098bb1"
      },
      "outputs": [
        {
          "name": "stdout",
          "output_type": "stream",
          "text": [
            "(14000, 6)\n",
            "(34000, 6)\n"
          ]
        }
      ],
      "source": [
        "df_train = pd.concat([df_train_original,df_syn])\n",
        "#df_train = pd.concat([df_train_original])\n",
        "print(df_train_original.shape)\n",
        "print(df_train.shape)"
      ]
    },
    {
      "cell_type": "markdown",
      "metadata": {
        "id": "tcedvl1sqvFI"
      },
      "source": [
        "Ahora ya podemos transformar los tres dataframes a objetos Dataset y crear el objeto DatasetDict, que nos facilitará procesar y pasar los datos al modelo transformer:"
      ]
    },
    {
      "cell_type": "code",
      "execution_count": null,
      "metadata": {
        "colab": {
          "base_uri": "https://localhost:8080/"
        },
        "id": "x4HJQdRB0srZ",
        "outputId": "b6118ffe-35d1-44ec-8f7e-0dba027ec95f"
      },
      "outputs": [
        {
          "output_type": "execute_result",
          "data": {
            "text/plain": [
              "DatasetDict({\n",
              "    train: Dataset({\n",
              "        features: ['rewire_id', 'text', 'label_sexist', 'label_category', 'label_vector'],\n",
              "        num_rows: 14000\n",
              "    })\n",
              "    validation: Dataset({\n",
              "        features: ['rewire_id', 'text', 'label_sexist', 'label_category', 'label_vector'],\n",
              "        num_rows: 2000\n",
              "    })\n",
              "    test: Dataset({\n",
              "        features: ['rewire_id', 'text', 'label_sexist', 'label_category', 'label_vector'],\n",
              "        num_rows: 4000\n",
              "    })\n",
              "})"
            ]
          },
          "metadata": {},
          "execution_count": 48
        }
      ],
      "source": [
        "# de dataframes a dataset\n",
        "from datasets import DatasetDict, Dataset\n",
        "dict_dataset= DatasetDict()\n",
        "dict_dataset['train'] = Dataset.from_pandas(df_train )\n",
        "dict_dataset['validation'] = Dataset.from_pandas(df_dev)\n",
        "dict_dataset['test'] = Dataset.from_pandas(df_test)\n",
        "\n",
        "# borramos las columnas que nos vamos a utilizar\n",
        "dict_dataset=dict_dataset.remove_columns(['split','__index_level_0__'])\n",
        "\n",
        "dict_dataset\n"
      ]
    },
    {
      "cell_type": "markdown",
      "metadata": {
        "id": "2QeHamMirUj6"
      },
      "source": [
        "Para la tarea B deberemos eliminar todos los mensajes que no están clasificados con la clase 'sexist' en el campo 'label_sexist':"
      ]
    },
    {
      "cell_type": "code",
      "execution_count": null,
      "metadata": {
        "colab": {
          "base_uri": "https://localhost:8080/",
          "height": 373,
          "referenced_widgets": [
            "ce0611988d014360812bcf1e086b81a3",
            "10c6a6aa4df849c3a6f0e720c505878b",
            "508a129c89154a2d84b8c6ebc93bb800",
            "0a96faf66bf64c6dbd8c4aabca8ab06f",
            "b8c137e1677547029a7e8b7e53b89031",
            "ac074197a89743879e5957872bab54fb",
            "df3e1cf95f4e452fa5e85f337e6883d3",
            "b21c369c9f5b48769240dde25b24f9cf",
            "7ccba3fe8b594d169d3f39592574b7e2",
            "18e877136d4f40b09ac1648e74252a6d",
            "ee9b6c2220684d9da58006791a93b1bf",
            "34c65138a1844bc1aacb0c476ef100d3",
            "934b7bdc1aca441e93628be1fb7bb91b",
            "9dd71f21cc5e425ab97ccd5ba6163122",
            "a626f8fdc70743998785e46217e61042",
            "9b13459ddf61440981106fd716f18242",
            "c6143f3d9a6b4db3bd68d17e285837ea",
            "02969ad6c8e340489a3fd4d2ccda871d",
            "2baeb05131d34084b7eb7a16ab5fd926",
            "7d42abeef12841c092f74235537598c9",
            "39c640cd695041048f997212c8c5c672",
            "1d231bddf01941f29ba3330264876a72",
            "281bf7c906944cf5ab1c5056e8315c81",
            "e2cf7aa413ed40eb934355ab967440cd",
            "1665588243bc47508db8475f83dfbf32",
            "e15367d3957f44519f75ecfaf62acab2",
            "551405dd3a9e4499be90d221312fbab3",
            "d5ac6746f52c47cf85bc05c4346b43fa",
            "44e66a3f2de2493e94bbb1d26ba2d331",
            "ac34fd8d13d34a77841c7768f0ec35cc",
            "c153ee4b1ced4dd18331385004a6ff0b",
            "8b96eac405c64abaacd2a7b14d9eacea",
            "5f156f5fe548423e9549ce8f191388eb"
          ]
        },
        "id": "uglSl0yQ8Qfc",
        "outputId": "19a09dbf-8344-4484-9fe2-529c19afec6c"
      },
      "outputs": [
        {
          "output_type": "display_data",
          "data": {
            "text/plain": [
              "Filter:   0%|          | 0/14000 [00:00<?, ? examples/s]"
            ],
            "application/vnd.jupyter.widget-view+json": {
              "version_major": 2,
              "version_minor": 0,
              "model_id": "ce0611988d014360812bcf1e086b81a3"
            }
          },
          "metadata": {}
        },
        {
          "output_type": "display_data",
          "data": {
            "text/plain": [
              "Filter:   0%|          | 0/2000 [00:00<?, ? examples/s]"
            ],
            "application/vnd.jupyter.widget-view+json": {
              "version_major": 2,
              "version_minor": 0,
              "model_id": "34c65138a1844bc1aacb0c476ef100d3"
            }
          },
          "metadata": {}
        },
        {
          "output_type": "display_data",
          "data": {
            "text/plain": [
              "Filter:   0%|          | 0/4000 [00:00<?, ? examples/s]"
            ],
            "application/vnd.jupyter.widget-view+json": {
              "version_major": 2,
              "version_minor": 0,
              "model_id": "281bf7c906944cf5ab1c5056e8315c81"
            }
          },
          "metadata": {}
        },
        {
          "output_type": "stream",
          "name": "stdout",
          "text": [
            "renombramos:  label_category\n"
          ]
        },
        {
          "output_type": "execute_result",
          "data": {
            "text/plain": [
              "DatasetDict({\n",
              "    train: Dataset({\n",
              "        features: ['text', 'label'],\n",
              "        num_rows: 3398\n",
              "    })\n",
              "    validation: Dataset({\n",
              "        features: ['text', 'label'],\n",
              "        num_rows: 486\n",
              "    })\n",
              "    test: Dataset({\n",
              "        features: ['text', 'label'],\n",
              "        num_rows: 970\n",
              "    })\n",
              "})"
            ]
          },
          "metadata": {},
          "execution_count": 49
        }
      ],
      "source": [
        "if TASK != 'a':\n",
        "    dict_dataset = dict_dataset.filter(lambda example: example[\"label_sexist\"]=='sexist')\n",
        "\n",
        "# Cada tarea, tiene un nombre de label distinto:\n",
        "label_task = {'a': 'label_sexist', 'b': 'label_category', 'c':'label_vector'}\n",
        "\n",
        "# Borramos todas las columnas excepto el texto y el campo label correspondiente a la tarea\n",
        "columns_to_remove = list(set(dict_dataset['train'].features) - set(['text', label_task[TASK]]))\n",
        "dict_dataset = dict_dataset.remove_columns(columns_to_remove)\n",
        "# renombramos el campo label específico de la tarea a label\n",
        "print('renombramos: ', label_task[TASK])\n",
        "dict_dataset = dict_dataset.rename_column(label_task[TASK],'label')\n",
        "dict_dataset"
      ]
    },
    {
      "cell_type": "markdown",
      "metadata": {
        "id": "nF34_S-15Inh"
      },
      "source": [
        "### Label encoding\n",
        "\n",
        "Las labels en este dataset son textos. Así, por ejemplo, para la tarea A, las labels son: 'not sexist' y 'sexist'.\n",
        "Para la tarea B, las labels son:\n",
        "- 1. threats, plans to harm and incitement\n",
        "- 2. derogation\n",
        "- 3. animosity\n",
        "- 4. prejudiced discussions\n",
        "\n",
        "Las labels deben ser transformadas en números enteros. Para ello usaremos la clase LabelEncoder de sklearn:"
      ]
    },
    {
      "cell_type": "code",
      "execution_count": null,
      "metadata": {
        "id": "1Ebgn4HMA0YD"
      },
      "outputs": [],
      "source": [
        "from sklearn.preprocessing import LabelEncoder\n",
        "le = LabelEncoder()\n",
        "\n",
        "# entrenamos el codificador de etiquetas\n",
        "le.fit(dict_dataset['train']['label'])\n",
        "# guardamos el conjunto de labels y su número\n",
        "LABELS = list(le.classes_)\n",
        "NUM_LABELS = len(LABELS)\n",
        "\n",
        "# transformamos las etiquetas de texto a número en los tres splits\n",
        "# las guardamos en tres listas\n",
        "y_train = le.transform(dict_dataset['train']['label'])\n",
        "y_val = le.transform(dict_dataset['validation']['label'])\n",
        "y_test = le.transform(dict_dataset['test']['label'])\n",
        "\n",
        "\n"
      ]
    },
    {
      "cell_type": "markdown",
      "metadata": {
        "id": "O8ivHQ-wsqHv"
      },
      "source": [
        "Vamos a comprobar que en efecto la transformación se ha hecho de forma correcta. Tomamos, por ejemplo, las 5 primero labels del conjunto test y vemos que se han codificado correctamente:"
      ]
    },
    {
      "cell_type": "code",
      "execution_count": null,
      "metadata": {
        "colab": {
          "base_uri": "https://localhost:8080/"
        },
        "id": "Cn2MegN0stQI",
        "outputId": "61f67f65-6c88-4640-e59a-3f12dced1221"
      },
      "outputs": [
        {
          "output_type": "stream",
          "name": "stdout",
          "text": [
            "['2. derogation', '2. derogation', '2. derogation', '2. derogation', '2. derogation']\n",
            "[1 1 1 1 1]\n"
          ]
        }
      ],
      "source": [
        "print(dict_dataset['test']['label'][:5])\n",
        "print(y_test[:5])"
      ]
    },
    {
      "cell_type": "markdown",
      "metadata": {
        "id": "xRTNsBQ8AT9W"
      },
      "source": [
        "# Baseline"
      ]
    },
    {
      "cell_type": "code",
      "execution_count": null,
      "metadata": {
        "id": "DzgQriuTBxF-"
      },
      "outputs": [],
      "source": [
        "from sklearn.feature_extraction.text import TfidfVectorizer\n",
        "vectorizer = TfidfVectorizer()\n",
        "vectors_train = vectorizer.fit_transform(dict_dataset['train']['text'])\n",
        "vectors_val = vectorizer.transform(dict_dataset['validation']['text'])\n",
        "vectors_test = vectorizer.transform(dict_dataset['test']['text'])"
      ]
    },
    {
      "cell_type": "code",
      "execution_count": null,
      "metadata": {
        "id": "ickewHQ9CQLV"
      },
      "outputs": [],
      "source": [
        "from keras.layers import Dense, Dropout\n",
        "from keras.models import Sequential\n",
        "def create_mlp():\n",
        "    mlp = Sequential()\n",
        "    mlp.add(Dense(256, activation='relu'))\n",
        "    mlp.add(Dense(4, activation='softmax'))\n",
        "\n",
        "    return mlp\n",
        "\n",
        "\n",
        "mlp = create_mlp()"
      ]
    },
    {
      "cell_type": "code",
      "source": [
        "!pip install tensorflow-addons==0.16.1\n",
        "import tensorflow_addons as tfa"
      ],
      "metadata": {
        "colab": {
          "base_uri": "https://localhost:8080/"
        },
        "id": "nXUZXcqditPF",
        "outputId": "2fc1bcdf-a384-4c08-f778-cfdaa111cdfd"
      },
      "execution_count": null,
      "outputs": [
        {
          "output_type": "stream",
          "name": "stdout",
          "text": [
            "Collecting tensorflow-addons==0.16.1\n",
            "  Downloading tensorflow_addons-0.16.1-cp310-cp310-manylinux_2_12_x86_64.manylinux2010_x86_64.whl (1.1 MB)\n",
            "\u001b[?25l     \u001b[90m━━━━━━━━━━━━━━━━━━━━━━━━━━━━━━━━━━━━━━━━\u001b[0m \u001b[32m0.0/1.1 MB\u001b[0m \u001b[31m?\u001b[0m eta \u001b[36m-:--:--\u001b[0m\r\u001b[2K     \u001b[91m━━━━━\u001b[0m\u001b[90m╺\u001b[0m\u001b[90m━━━━━━━━━━━━━━━━━━━━━━━━━━━━━━━━━━\u001b[0m \u001b[32m0.2/1.1 MB\u001b[0m \u001b[31m4.4 MB/s\u001b[0m eta \u001b[36m0:00:01\u001b[0m\r\u001b[2K     \u001b[91m━━━━━━━━━━━━━━━━━━━━━━━━\u001b[0m\u001b[90m╺\u001b[0m\u001b[90m━━━━━━━━━━━━━━━\u001b[0m \u001b[32m0.7/1.1 MB\u001b[0m \u001b[31m9.7 MB/s\u001b[0m eta \u001b[36m0:00:01\u001b[0m\r\u001b[2K     \u001b[91m━━━━━━━━━━━━━━━━━━━━━━━━━━━━━━━━━━━━━━━\u001b[0m\u001b[91m╸\u001b[0m \u001b[32m1.1/1.1 MB\u001b[0m \u001b[31m10.9 MB/s\u001b[0m eta \u001b[36m0:00:01\u001b[0m\r\u001b[2K     \u001b[90m━━━━━━━━━━━━━━━━━━━━━━━━━━━━━━━━━━━━━━━━\u001b[0m \u001b[32m1.1/1.1 MB\u001b[0m \u001b[31m9.6 MB/s\u001b[0m eta \u001b[36m0:00:00\u001b[0m\n",
            "\u001b[?25hCollecting typeguard>=2.7 (from tensorflow-addons==0.16.1)\n",
            "  Downloading typeguard-4.2.1-py3-none-any.whl (34 kB)\n",
            "Requirement already satisfied: typing-extensions>=4.10.0 in /usr/local/lib/python3.10/dist-packages (from typeguard>=2.7->tensorflow-addons==0.16.1) (4.11.0)\n",
            "Installing collected packages: typeguard, tensorflow-addons\n",
            "Successfully installed tensorflow-addons-0.16.1 typeguard-4.2.1\n"
          ]
        },
        {
          "output_type": "stream",
          "name": "stderr",
          "text": [
            "/usr/local/lib/python3.10/dist-packages/tensorflow_addons/utils/ensure_tf_install.py:53: UserWarning: Tensorflow Addons supports using Python ops for all Tensorflow versions above or equal to 2.6.0 and strictly below 2.9.0 (nightly versions are not supported). \n",
            " The versions of TensorFlow you are currently using is 2.15.0 and is not supported. \n",
            "Some things might work, some things might not.\n",
            "If you were to encounter a bug, do not file an issue.\n",
            "If you want to make sure you're using a tested and supported configuration, either change the TensorFlow version or the TensorFlow Addons's version. \n",
            "You can find the compatibility matrix in TensorFlow Addon's readme:\n",
            "https://github.com/tensorflow/addons\n",
            "  warnings.warn(\n"
          ]
        }
      ]
    },
    {
      "cell_type": "code",
      "execution_count": null,
      "metadata": {
        "id": "KOIft5rNCVV3"
      },
      "outputs": [],
      "source": [
        "import keras\n",
        "import tensorflow as tf\n",
        "#import tensorflow_addons as tfa\n",
        "\n",
        "# Here, I'll the define hyperparameters, loss function and optimizer of the Baseline MLP.\n",
        "L_RATE = 1e-3\n",
        "LOSS_FUNC = keras.losses.SparseCategoricalCrossentropy(from_logits=False)\n",
        "OPTIMIZER = keras.optimizers.Adam(learning_rate=L_RATE)\n",
        "EPOCHS = 15\n",
        "BATCH_SIZE = 32\n",
        "\n",
        "METRICS = [\n",
        "    keras.metrics.Precision(name=\"Precision\"),\n",
        "    tfa.metrics.F1Score(\n",
        "        name=\"F1-Score\",\n",
        "        num_classes=4,\n",
        "        # Since the dataset is imbalanced, I'll use micro averaging.\n",
        "        average=\"micro\"\n",
        "\n",
        "    )\n",
        "]"
      ]
    },
    {
      "cell_type": "code",
      "source": [
        "vectors_val[0]"
      ],
      "metadata": {
        "colab": {
          "base_uri": "https://localhost:8080/"
        },
        "id": "LDadEo80jThg",
        "outputId": "8b211a65-08e1-46e8-e69a-aedbe990349e"
      },
      "execution_count": null,
      "outputs": [
        {
          "output_type": "execute_result",
          "data": {
            "text/plain": [
              "<1x6415 sparse matrix of type '<class 'numpy.float64'>'\n",
              "\twith 18 stored elements in Compressed Sparse Row format>"
            ]
          },
          "metadata": {},
          "execution_count": 59
        }
      ]
    },
    {
      "cell_type": "code",
      "execution_count": null,
      "metadata": {
        "colab": {
          "base_uri": "https://localhost:8080/"
        },
        "id": "uUT3h_SJCZNo",
        "outputId": "728e067e-32f9-4661-a5f1-42d2e6170d65"
      },
      "outputs": [
        {
          "output_type": "stream",
          "name": "stdout",
          "text": [
            "Epoch 1/15\n",
            "107/107 [==============================] - 14s 121ms/step - loss: 1.1863 - accuracy: 0.4673 - val_loss: 1.0962 - val_accuracy: 0.5123\n",
            "Epoch 2/15\n",
            "107/107 [==============================] - 4s 38ms/step - loss: 0.9246 - accuracy: 0.6248 - val_loss: 1.0155 - val_accuracy: 0.5247\n",
            "Epoch 3/15\n",
            "107/107 [==============================] - 1s 12ms/step - loss: 0.5811 - accuracy: 0.8158 - val_loss: 1.0416 - val_accuracy: 0.5494\n",
            "Epoch 4/15\n",
            "107/107 [==============================] - 1s 13ms/step - loss: 0.3081 - accuracy: 0.9253 - val_loss: 1.1649 - val_accuracy: 0.5432\n",
            "Epoch 5/15\n",
            "107/107 [==============================] - 1s 12ms/step - loss: 0.1733 - accuracy: 0.9665 - val_loss: 1.3124 - val_accuracy: 0.5391\n",
            "Epoch 6/15\n",
            "107/107 [==============================] - 1s 9ms/step - loss: 0.1044 - accuracy: 0.9850 - val_loss: 1.4533 - val_accuracy: 0.5391\n",
            "Epoch 7/15\n",
            "107/107 [==============================] - 1s 9ms/step - loss: 0.0678 - accuracy: 0.9926 - val_loss: 1.5643 - val_accuracy: 0.5309\n",
            "Epoch 8/15\n",
            "107/107 [==============================] - 1s 11ms/step - loss: 0.0458 - accuracy: 0.9953 - val_loss: 1.6779 - val_accuracy: 0.5267\n",
            "Epoch 9/15\n",
            "107/107 [==============================] - 1s 6ms/step - loss: 0.0329 - accuracy: 0.9979 - val_loss: 1.7786 - val_accuracy: 0.5309\n",
            "Epoch 10/15\n",
            "107/107 [==============================] - 1s 8ms/step - loss: 0.0245 - accuracy: 0.9982 - val_loss: 1.8710 - val_accuracy: 0.5247\n",
            "Epoch 11/15\n",
            "107/107 [==============================] - 1s 7ms/step - loss: 0.0190 - accuracy: 0.9991 - val_loss: 1.9449 - val_accuracy: 0.5329\n",
            "Epoch 12/15\n",
            "107/107 [==============================] - 1s 8ms/step - loss: 0.0148 - accuracy: 0.9994 - val_loss: 2.0107 - val_accuracy: 0.5350\n",
            "Epoch 13/15\n",
            "107/107 [==============================] - 1s 6ms/step - loss: 0.0118 - accuracy: 1.0000 - val_loss: 2.0899 - val_accuracy: 0.5288\n",
            "Epoch 14/15\n",
            "107/107 [==============================] - 1s 8ms/step - loss: 0.0097 - accuracy: 1.0000 - val_loss: 2.1459 - val_accuracy: 0.5329\n",
            "Epoch 15/15\n",
            "107/107 [==============================] - 1s 6ms/step - loss: 0.0080 - accuracy: 1.0000 - val_loss: 2.2037 - val_accuracy: 0.5329\n"
          ]
        },
        {
          "output_type": "execute_result",
          "data": {
            "text/plain": [
              "<keras.src.callbacks.History at 0x7b4f005cb9d0>"
            ]
          },
          "metadata": {},
          "execution_count": 60
        }
      ],
      "source": [
        "def make_prediction(model: Sequential, X: np.ndarray) -> np.ndarray:\n",
        "    \"\"\"Making a prediction with the MLP model for multiclass classification.\n",
        "\n",
        "    Args:\n",
        "        model (Sequential): The model object.\n",
        "        X (numpy.ndarray): The feature matrix.\n",
        "\n",
        "    Returns:\n",
        "        np.ndarray: The predicted class labels.\n",
        "    \"\"\"\n",
        "    y_pred = model.predict(X)\n",
        "    # Retorna el índice de la clase con la probabilidad más alta\n",
        "    return np.argmax(y_pred, axis=1)\n",
        "\n",
        "\n",
        "mlp.compile(loss='sparse_categorical_crossentropy', optimizer=OPTIMIZER, metrics=['accuracy'])\n",
        "\n",
        "vectors_train.sort_indices()\n",
        "vectors_val.sort_indices()\n",
        "#vectors_test = tf.sparse.reorder(vectors_test)\n",
        "\n",
        "# Asumiendo que X_train y y_train están correctamente preprocesados y formateados\n",
        "mlp.fit(\n",
        "    vectors_train,\n",
        "    y_train,\n",
        "    validation_data=(vectors_val, y_val),\n",
        "    epochs=EPOCHS,  # Asegúrate de que EPOCHS está definido\n",
        "    batch_size=BATCH_SIZE  # Asegúrate de que BATCH_SIZE está definido\n",
        ")"
      ]
    },
    {
      "cell_type": "code",
      "execution_count": null,
      "metadata": {
        "colab": {
          "base_uri": "https://localhost:8080/"
        },
        "id": "nl07UKcDE7ds",
        "outputId": "bf52bb7d-5c29-4a29-ebc9-44417ba8db0a"
      },
      "outputs": [
        {
          "output_type": "stream",
          "name": "stdout",
          "text": [
            "31/31 [==============================] - 0s 3ms/step\n"
          ]
        }
      ],
      "source": [
        "vectors_test.sort_indices()\n",
        "y_pred = make_prediction(model=mlp, X=vectors_test)"
      ]
    },
    {
      "cell_type": "code",
      "execution_count": null,
      "metadata": {
        "colab": {
          "base_uri": "https://localhost:8080/"
        },
        "id": "Ld2iPwFNFCim",
        "outputId": "eeea58e8-2492-46d4-a943-8e1a92bf4875"
      },
      "outputs": [
        {
          "output_type": "stream",
          "name": "stdout",
          "text": [
            "                                          precision    recall  f1-score   support\n",
            "\n",
            "1. threats, plans to harm and incitement       0.51      0.37      0.43        89\n",
            "                           2. derogation       0.53      0.59      0.56       454\n",
            "                            3. animosity       0.39      0.41      0.40       333\n",
            "               4. prejudiced discussions       0.53      0.30      0.38        94\n",
            "\n",
            "                                accuracy                           0.48       970\n",
            "                               macro avg       0.49      0.42      0.44       970\n",
            "                            weighted avg       0.48      0.48      0.47       970\n",
            "\n",
            "Micro-F1 Score: 0.4773\n"
          ]
        }
      ],
      "source": [
        "from sklearn.metrics import classification_report, confusion_matrix\n",
        "from sklearn.metrics import f1_score\n",
        "print(classification_report(y_true = y_test, y_pred = y_pred, target_names = LABELS))\n",
        "\n",
        "micro_f1 = f1_score(y_true = y_test, y_pred = y_pred, average='micro')\n",
        "print('Micro-F1 Score: {:.4f}'.format(micro_f1))"
      ]
    },
    {
      "cell_type": "code",
      "execution_count": null,
      "metadata": {
        "colab": {
          "base_uri": "https://localhost:8080/",
          "height": 641
        },
        "id": "diDTN5cLFkXj",
        "outputId": "7e739bd4-01b9-420c-9588-1159c6ff7789"
      },
      "outputs": [
        {
          "output_type": "display_data",
          "data": {
            "text/plain": [
              "<Figure size 1000x700 with 2 Axes>"
            ],
            "image/png": "[encoded data removed]"
          },
          "metadata": {}
        }
      ],
      "source": [
        "import seaborn as sns\n",
        "import matplotlib.pyplot as plt\n",
        "from sklearn.metrics import confusion_matrix\n",
        "\n",
        "# Obtener la matriz de confusión\n",
        "conf_matrix = confusion_matrix(y_test, y_pred)\n",
        "\n",
        "\n",
        "\n",
        "# Crear un mapa de calor para la matriz de confusión\n",
        "plt.figure(figsize=(10, 7))\n",
        "sns.heatmap(conf_matrix, annot=True, fmt='g', cmap='Blues', xticklabels=LABELS, yticklabels=LABELS)\n",
        "plt.xlabel('Etiquetas Predichas')\n",
        "plt.ylabel('Etiquetas Verdaderas')\n",
        "plt.title('Matriz de Confusión')\n",
        "plt.show()"
      ]
    },
    {
      "cell_type": "markdown",
      "metadata": {
        "id": "mTOcqHOEWaYZ"
      },
      "source": [
        "## Tokenización\n",
        "\n",
        "Siempre es necesario cargar el tokenizador asociado con el transformer que vayamos a utilizar.\n"
      ]
    },
    {
      "cell_type": "code",
      "execution_count": null,
      "metadata": {
        "id": "xv9jZZLGWeep"
      },
      "outputs": [],
      "source": [
        "if 'uncased' in model_name:\n",
        "        do_lower_case = True\n",
        "else:\n",
        "        do_lower_case = False\n",
        "\n",
        "from transformers import AutoTokenizer\n",
        "tokenizer = AutoTokenizer.from_pretrained(model_name, do_lower_case=do_lower_case)\n"
      ]
    },
    {
      "cell_type": "code",
      "execution_count": null,
      "metadata": {
        "colab": {
          "base_uri": "https://localhost:8080/"
        },
        "id": "IgA-hn_ktG2s",
        "outputId": "aa56535c-1972-4d37-eec8-2299db79334c"
      },
      "outputs": [
        {
          "name": "stderr",
          "output_type": "stream",
          "text": [
            "Some weights of DistilBertForSequenceClassification were not initialized from the model checkpoint at distilbert-base-uncased and are newly initialized: ['classifier.bias', 'classifier.weight', 'pre_classifier.bias', 'pre_classifier.weight']\n",
            "You should probably TRAIN this model on a down-stream task to be able to use it for predictions and inference.\n"
          ]
        },
        {
          "name": "stdout",
          "output_type": "stream",
          "text": [
            "distilbert-base-uncased  cargado\n"
          ]
        }
      ],
      "source": [
        "from transformers import AutoModelForSequenceClassification\n",
        "model = AutoModelForSequenceClassification.from_pretrained(model_name, num_labels=NUM_LABELS)\n",
        "print(model_name, ' cargado')"
      ]
    },
    {
      "cell_type": "markdown",
      "metadata": {
        "id": "dQwrJEHAXo64"
      },
      "source": [
        "### Tamaño de los textos\n"
      ]
    },
    {
      "cell_type": "code",
      "execution_count": null,
      "metadata": {
        "colab": {
          "base_uri": "https://localhost:8080/"
        },
        "id": "edOil8mNXq3_",
        "outputId": "417fad4c-9390-41d3-9120-3c93b365624f"
      },
      "outputs": [
        {
          "name": "stdout",
          "output_type": "stream",
          "text": [
            "93\n"
          ]
        }
      ],
      "source": [
        "# obtenemos la longitud de la secuencia más larga en el conjunto de training\n",
        "MAX_LENGTH = max([len(tokenizer(text).tokens())  for text in dict_dataset['train']['text']])\n",
        "print(MAX_LENGTH)\n"
      ]
    },
    {
      "cell_type": "code",
      "execution_count": null,
      "metadata": {
        "id": "Wqq34RKjmnEu"
      },
      "outputs": [],
      "source": []
    },
    {
      "cell_type": "markdown",
      "metadata": {
        "id": "ZVFUW54FwlDA"
      },
      "source": [
        "Vemos que el tamaño máximo es de 93 tokens. En realidad, en esos 93 tokens habrá tokens y también subtokens, porque los tokenizadores de los transformers dividien las palabras desconocidas (es decir, aquellas que no están en la colección de textos utilizada para pre-entrenar el modelo) en subtokens para que puedan ser represenatdos.\n",
        "\n",
        "El tamaño máximo que permiten la mayoría de los modelos es 512, así que podríamos preparar nuestras entradas para que tuvieran esa longitud, pero en realidad usando una longitud de 93, vamos a representar todas los textos de nuestro dataset, y además, vamos a ahorrar recursos."
      ]
    },
    {
      "cell_type": "code",
      "execution_count": null,
      "metadata": {
        "colab": {
          "base_uri": "https://localhost:8080/"
        },
        "id": "NHuVV3AQwgBy",
        "outputId": "41750026-a796-43d9-aaca-c502f9d24cbb"
      },
      "outputs": [
        {
          "name": "stdout",
          "output_type": "stream",
          "text": [
            "MAX_LENGTH: 93\n"
          ]
        }
      ],
      "source": [
        "MAX_LENGTH = min(MAX_LENGTH, 512)\n",
        "print('MAX_LENGTH:', MAX_LENGTH)"
      ]
    },
    {
      "cell_type": "markdown",
      "metadata": {
        "id": "FvQvoMbdsCIM"
      },
      "source": [
        "Una vez que ya hemos estimado el tamaño máximo de nuestras secuencias (textos) de entrada, ya podemos definir nuestra función para tokenizar todos los textos de los tres splits.\n",
        "\n",
        "Es necesario el parámetro **truncation** igual a True, porque en el conjunto de validación o en el conjunto test, podría existir algún texto con un número mayor de tokens.\n",
        "\n"
      ]
    },
    {
      "cell_type": "code",
      "execution_count": null,
      "metadata": {
        "id": "u7_Qa3EFyGvT"
      },
      "outputs": [],
      "source": [
        "def tokenize(example):\n",
        "    return tokenizer(example[\"text\"], truncation=True, padding=True, max_length=MAX_LENGTH)\n"
      ]
    },
    {
      "cell_type": "code",
      "execution_count": null,
      "metadata": {
        "colab": {
          "base_uri": "https://localhost:8080/"
        },
        "id": "N-MsCZp3SC2f",
        "outputId": "fc62a36a-f588-4606-fd11-3767411426a7"
      },
      "outputs": [
        {
          "data": {
            "text/plain": [
              "1"
            ]
          },
          "execution_count": 32,
          "metadata": {},
          "output_type": "execute_result"
        }
      ],
      "source": [
        "\n",
        "tokenizer.pad_token = tokenizer.eos_token\n",
        "# set the pad token of the model's configuration\n",
        "model.config.pad_token_id = model.config.eos_token_id\n",
        "tokenizer.add_special_tokens({'pad_token': '[PAD]'})"
      ]
    },
    {
      "cell_type": "markdown",
      "metadata": {
        "id": "8gGs5ejJyJU3"
      },
      "source": [
        "Una vez definida la función, la aplicamos sobre todo el dataset, gracias a la función map. Además, vamos a borrar la columna text.\n",
        "\n",
        "La columna 'label' también la eliminamos porque sus valores están en formato string. Lo que hacemos es eliminar dicha columna y volver a añadirla en cada split, pero ahora guardando los valores de las labels ya codificados (transformados a números):"
      ]
    },
    {
      "cell_type": "code",
      "execution_count": null,
      "metadata": {
        "colab": {
          "base_uri": "https://localhost:8080/",
          "height": 287,
          "referenced_widgets": [
            "dcb80d5ee8f54f0ca86bea27a1e850a4",
            "523cc0d58fe645f18e9e5af0e8f477ea",
            "1858e5f230b742b8b94b32f27b08e34f",
            "f37cc887d87740658cb209bbcd3a592f",
            "83b3d5336f284ac2b3f6cc7cc5d26dcd",
            "7ee94b349fb44976b2875002519cf8c3",
            "a31fe7b883324a799efc44cbf549c74f",
            "7e783e34a8544c0a8c54a17ec846e37e",
            "10a2d224410047178129b006fbab1d8e",
            "787432ea1ffe43bba6e87ef7c167de08",
            "9474fadbf90e41b9b3fb99c413d12d26",
            "d589ad7caf834e59bf6eaa876aeddf5a",
            "f8d42d15090442ef85fb92d680d45ecc",
            "882ab6a00b794e0e96a910633d729d1f",
            "e163f562b808441bb79550e3daeb7d06",
            "e73a10a556a346859a4358cb7d90d0ed",
            "8a34e3f1c51e45258e1b0a179e73f5a3",
            "db7ced03943f4e48ad09d137b2e21500",
            "ee166041053e4c6882a3978b85f66391",
            "cb4bb4aa99c940a2868bbb9ad0c4ba8c",
            "e975b8ef8deb46aca6027c79da572ea7",
            "1c9152cd80f3478798c4a032de9cfce3",
            "a88c0bc8be514a6692d4aa1f48f35904",
            "706e5b5bf210458fb3bd3fc7fe1534e3",
            "665f659fc94c49cc9d14b22c684f1362",
            "b98d97fc14014ee2875e73ab0c08ee03",
            "7d3846c86221496f8ff21581efa4ee27",
            "63210d1a399249a985be2508ec47e4a0",
            "74b9591a143d429aabc52b66dbe132a4",
            "5d7d3fdbf9cc4c598876213b28b3ee17",
            "58fe75165c2b4ee8927c4c55c2840bb6",
            "44c43273423a4c51988b34905eb07cc5",
            "fbd93e9948ff44b5a4a3e32f23d71b87"
          ]
        },
        "id": "GM8925oeWiNK",
        "outputId": "cb7d4e91-8dba-4a38-8e9e-3dccda9cd8a9"
      },
      "outputs": [
        {
          "data": {
            "application/vnd.jupyter.widget-view+json": {
              "model_id": "dcb80d5ee8f54f0ca86bea27a1e850a4",
              "version_major": 2,
              "version_minor": 0
            },
            "text/plain": [
              "Map:   0%|          | 0/8252 [00:00<?, ? examples/s]"
            ]
          },
          "metadata": {},
          "output_type": "display_data"
        },
        {
          "data": {
            "application/vnd.jupyter.widget-view+json": {
              "model_id": "d589ad7caf834e59bf6eaa876aeddf5a",
              "version_major": 2,
              "version_minor": 0
            },
            "text/plain": [
              "Map:   0%|          | 0/486 [00:00<?, ? examples/s]"
            ]
          },
          "metadata": {},
          "output_type": "display_data"
        },
        {
          "data": {
            "application/vnd.jupyter.widget-view+json": {
              "model_id": "a88c0bc8be514a6692d4aa1f48f35904",
              "version_major": 2,
              "version_minor": 0
            },
            "text/plain": [
              "Map:   0%|          | 0/970 [00:00<?, ? examples/s]"
            ]
          },
          "metadata": {},
          "output_type": "display_data"
        },
        {
          "data": {
            "text/plain": [
              "DatasetDict({\n",
              "    train: Dataset({\n",
              "        features: ['input_ids', 'attention_mask', 'label'],\n",
              "        num_rows: 8252\n",
              "    })\n",
              "    validation: Dataset({\n",
              "        features: ['input_ids', 'attention_mask', 'label'],\n",
              "        num_rows: 486\n",
              "    })\n",
              "})"
            ]
          },
          "execution_count": 77,
          "metadata": {},
          "output_type": "execute_result"
        }
      ],
      "source": [
        "encoded_dataset = dict_dataset.map(tokenize, batched=True)\n",
        "# quitamos text y label. label se quita porque sus valores son string\n",
        "encoded_dataset = encoded_dataset.remove_columns(['text','label'])\n",
        "# añadimos a cada split la columna label otra vez, pero ahora con sus correspodientes valores transformados a números (lo hicimos en Label encoding)\n",
        "encoded_dataset['train'] = encoded_dataset['train'].add_column('label', y_train)\n",
        "encoded_dataset['validation'] = encoded_dataset['validation'].add_column('label', y_val)\n",
        "# además, borramos la codificación de test, porque realmente no se va a usar durante el entrenamiento\n",
        "del(encoded_dataset['test'] )\n",
        "encoded_dataset"
      ]
    },
    {
      "cell_type": "code",
      "execution_count": null,
      "metadata": {
        "colab": {
          "base_uri": "https://localhost:8080/"
        },
        "id": "VjZsqjkXj34b",
        "outputId": "65a9820c-8726-45af-a024-6c5562154285"
      },
      "outputs": [
        {
          "data": {
            "text/plain": [
              "int"
            ]
          },
          "execution_count": 25,
          "metadata": {},
          "output_type": "execute_result"
        }
      ],
      "source": [
        "type(len(encoded_dataset['train']['input_ids'][0]))"
      ]
    },
    {
      "cell_type": "markdown",
      "metadata": {
        "id": "jR1y5TzHXMvN"
      },
      "source": [
        "## Modelo"
      ]
    },
    {
      "cell_type": "code",
      "execution_count": null,
      "metadata": {
        "id": "GqCNt5rwZsq9"
      },
      "outputs": [],
      "source": [
        "# define metrics\n",
        "import numpy as np\n",
        "from sklearn.metrics import accuracy_score, precision_recall_fscore_support\n",
        "\n",
        "def compute_metrics(eval_pred):\n",
        "\n",
        "    predictions, labels = eval_pred\n",
        "    predictions = np.argmax(predictions, axis=1)\n",
        "    precision, recall, f1, _ = precision_recall_fscore_support(labels, predictions, average='micro')\n",
        "    acc = accuracy_score(labels, predictions)\n",
        "    return {\n",
        "        'accuracy': acc,    #we could return just the accuracy\n",
        "        'f1': f1,\n",
        "        'precision': precision,\n",
        "        'recall': recall\n",
        "    }\n",
        "\n"
      ]
    },
    {
      "cell_type": "markdown",
      "metadata": {
        "id": "cbADEHLcz51T"
      },
      "source": [
        " usaremos la clase TrainingArguments que ya tiene los hiper-parámetros definidos e inicializados para este tipo de tareas."
      ]
    },
    {
      "cell_type": "code",
      "execution_count": null,
      "metadata": {
        "id": "Qe9SswqUz6f_"
      },
      "outputs": [],
      "source": [
        "\n",
        "from transformers import TrainingArguments\n",
        "args = TrainingArguments(\n",
        "    output_dir='./outputs/',\n",
        "    # overwrite_output_dir = True,  # If `True`, overwrite the content of the output directory. Use this to continue training if `output_dir` points to a checkpoint directory.\n",
        "    logging_dir='./logs',\n",
        "    num_train_epochs=5, # usa 1 para un entrenamiento rápido, aunque lo recomendable es un valor de 3 a 5\n",
        "    evaluation_strategy = \"epoch\",  # \"steps\",   evaluate each `logging_steps`, logging_steps=400,               # log & save weights each logging_steps     save_steps=400,\n",
        "                                    # save_steps=400,\n",
        "    save_strategy = \"no\",\n",
        "    learning_rate=2e-5,\n",
        "    per_device_train_batch_size=16,\n",
        "    per_device_eval_batch_size=16,\n",
        "    weight_decay=0.01,\n",
        "    load_best_model_at_end=False,\n",
        "    metric_for_best_model=\"f1\",\n",
        "\n",
        ")"
      ]
    },
    {
      "cell_type": "markdown",
      "metadata": {
        "id": "EiVhBuR1YbLR"
      },
      "source": [
        "Ya estamos listos para crear el objeto Trainer, al que pasamos el modelo, el tokenizador, los argumentos, la función que cálcula las métricas, y los datos codificados de training y validación:"
      ]
    },
    {
      "cell_type": "code",
      "execution_count": null,
      "metadata": {
        "colab": {
          "base_uri": "https://localhost:8080/",
          "height": 356
        },
        "id": "i_ta9jO8XljS",
        "outputId": "2befc338-8603-47f7-8710-b56d52cf40f4"
      },
      "outputs": [
        {
          "name": "stderr",
          "output_type": "stream",
          "text": [
            "/usr/local/lib/python3.10/dist-packages/accelerate/accelerator.py:436: FutureWarning: Passing the following arguments to `Accelerator` is deprecated and will be removed in version 1.0 of Accelerate: dict_keys(['dispatch_batches', 'split_batches', 'even_batches', 'use_seedable_sampler']). Please pass an `accelerate.DataLoaderConfiguration` instead: \n",
            "dataloader_config = DataLoaderConfiguration(dispatch_batches=None, split_batches=False, even_batches=True, use_seedable_sampler=True)\n",
            "  warnings.warn(\n"
          ]
        },
        {
          "name": "stdout",
          "output_type": "stream",
          "text": [
            "Training:  distilbert-base-uncased\n"
          ]
        },
        {
          "data": {
            "text/html": [
              "\n",
              "    <div>\n",
              "      \n",
              "      <progress value='2580' max='2580' style='width:300px; height:20px; vertical-align: middle;'></progress>\n",
              "      [2580/2580 05:56, Epoch 5/5]\n",
              "    </div>\n",
              "    <table border=\"1\" class=\"dataframe\">\n",
              "  <thead>\n",
              " <tr style=\"text-align: left;\">\n",
              "      <th>Epoch</th>\n",
              "      <th>Training Loss</th>\n",
              "      <th>Validation Loss</th>\n",
              "      <th>Accuracy</th>\n",
              "      <th>F1</th>\n",
              "      <th>Precision</th>\n",
              "      <th>Recall</th>\n",
              "    </tr>\n",
              "  </thead>\n",
              "  <tbody>\n",
              "    <tr>\n",
              "      <td>1</td>\n",
              "      <td>0.975600</td>\n",
              "      <td>0.842632</td>\n",
              "      <td>0.652263</td>\n",
              "      <td>0.652263</td>\n",
              "      <td>0.652263</td>\n",
              "      <td>0.652263</td>\n",
              "    </tr>\n",
              "    <tr>\n",
              "      <td>2</td>\n",
              "      <td>0.670300</td>\n",
              "      <td>0.811918</td>\n",
              "      <td>0.658436</td>\n",
              "      <td>0.658436</td>\n",
              "      <td>0.658436</td>\n",
              "      <td>0.658436</td>\n",
              "    </tr>\n",
              "    <tr>\n",
              "      <td>3</td>\n",
              "      <td>0.396900</td>\n",
              "      <td>0.748512</td>\n",
              "      <td>0.713992</td>\n",
              "      <td>0.713992</td>\n",
              "      <td>0.713992</td>\n",
              "      <td>0.713992</td>\n",
              "    </tr>\n",
              "    <tr>\n",
              "      <td>4</td>\n",
              "      <td>0.225400</td>\n",
              "      <td>0.842576</td>\n",
              "      <td>0.724280</td>\n",
              "      <td>0.724280</td>\n",
              "      <td>0.724280</td>\n",
              "      <td>0.724280</td>\n",
              "    </tr>\n",
              "    <tr>\n",
              "      <td>5</td>\n",
              "      <td>0.142900</td>\n",
              "      <td>0.908639</td>\n",
              "      <td>0.726337</td>\n",
              "      <td>0.726337</td>\n",
              "      <td>0.726337</td>\n",
              "      <td>0.726337</td>\n",
              "    </tr>\n",
              "  </tbody>\n",
              "</table><p>"
            ],
            "text/plain": [
              "<IPython.core.display.HTML object>"
            ]
          },
          "metadata": {},
          "output_type": "display_data"
        },
        {
          "data": {
            "text/plain": [
              "TrainOutput(global_step=2580, training_loss=0.47102669412775555, metrics={'train_runtime': 356.6181, 'train_samples_per_second': 115.698, 'train_steps_per_second': 7.235, 'total_flos': 988276193473632.0, 'train_loss': 0.47102669412775555, 'epoch': 5.0})"
            ]
          },
          "execution_count": 80,
          "metadata": {},
          "output_type": "execute_result"
        }
      ],
      "source": [
        "from transformers import Trainer\n",
        "\n",
        "trainer = Trainer(\n",
        "    model,                                  # the model\n",
        "    args,                                   # the arguments of the model\n",
        "    train_dataset=encoded_dataset['train'],               # the training dataset\n",
        "    eval_dataset=encoded_dataset['validation'],               #the validation dataset\n",
        "    tokenizer=tokenizer,                    # the tokenizer\n",
        "    compute_metrics=compute_metrics,        # the metrics used to evaluate the validation, these are calculated in each epoch\n",
        ")\n",
        "0\n",
        "# training\n",
        "print('Training: ', model_name)\n",
        "trainer.train()"
      ]
    },
    {
      "cell_type": "markdown",
      "metadata": {
        "id": "Vdaa4BvqzpDA"
      },
      "source": [
        "Evaluando el mejor modelo obtenido durante el training sobre el conjunto de validación:"
      ]
    },
    {
      "cell_type": "code",
      "execution_count": null,
      "metadata": {
        "colab": {
          "base_uri": "https://localhost:8080/",
          "height": 193
        },
        "id": "acmXy2V2zxg7",
        "outputId": "9b8c6447-33a1-4d19-cea8-4eff44970fc1"
      },
      "outputs": [
        {
          "data": {
            "text/html": [
              "\n",
              "    <div>\n",
              "      \n",
              "      <progress value='31' max='31' style='width:300px; height:20px; vertical-align: middle;'></progress>\n",
              "      [31/31 00:00]\n",
              "    </div>\n",
              "    "
            ],
            "text/plain": [
              "<IPython.core.display.HTML object>"
            ]
          },
          "metadata": {},
          "output_type": "display_data"
        },
        {
          "data": {
            "text/plain": [
              "{'eval_loss': 0.9964725971221924,\n",
              " 'eval_accuracy': 0.7119341563786008,\n",
              " 'eval_f1': 0.7119341563786008,\n",
              " 'eval_precision': 0.7119341563786008,\n",
              " 'eval_recall': 0.7119341563786008,\n",
              " 'eval_runtime': 0.715,\n",
              " 'eval_samples_per_second': 679.763,\n",
              " 'eval_steps_per_second': 43.359,\n",
              " 'epoch': 5.0}"
            ]
          },
          "execution_count": 59,
          "metadata": {},
          "output_type": "execute_result"
        }
      ],
      "source": [
        "result = trainer.evaluate()\n",
        "result"
      ]
    },
    {
      "cell_type": "markdown",
      "metadata": {
        "id": "FWlU3XZ5aA2l"
      },
      "source": [
        "### Guardar el modelo\n",
        "\n",
        " El modelo se almacena en la subcarpeta models. Es necesario guardar el tokenizador y el modelo.\n"
      ]
    },
    {
      "cell_type": "code",
      "execution_count": null,
      "metadata": {
        "id": "qVKmNywXaDO9"
      },
      "outputs": [],
      "source": [
        "import os\n",
        "SAVE_MODEL = False\n",
        "if SAVE_MODEL:\n",
        "    models_dir = 'models2/'\n",
        "    if not os.path.exists(models_dir): ### If the file directory doesn't already exists,\n",
        "        os.makedirs(models_dir) ### Make it please\n",
        "\n",
        "    model_path = models_dir+model_name\n",
        "    model_path += \"_{}\".format(TASK)\n",
        "\n",
        "    # grabamos el modelo y el tokenizador\n",
        "    tokenizer.save_pretrained(model_path)\n",
        "    trainer.save_model(model_path)"
      ]
    },
    {
      "cell_type": "markdown",
      "metadata": {
        "id": "6I-qmr3f0nY5"
      },
      "source": [
        "Una vez entrenado el modelo, podemos usarlo sobre los textos del conjunto test para inferir sus etiquetas. Estas se comparán con las del conjunto test, y se podrán obtener los resultados finales:\n"
      ]
    },
    {
      "cell_type": "code",
      "execution_count": null,
      "metadata": {
        "id": "IEC0rp2103t5"
      },
      "outputs": [],
      "source": [
        "def get_prediction(text):\n",
        "    # recibe el texto y lo tokeniza usando la misma función que se uso para el training\n",
        "    inputs = tokenizer(text, truncation=True, padding='max_length', max_length=MAX_LENGTH, return_tensors=\"pt\").to(\"cuda\")\n",
        "    # aplica el modelo sobre la entrada\n",
        "    outputs = model(**inputs)\n",
        "    # recupera las probabilidades\n",
        "    probs = outputs[0].softmax(1)\n",
        "    # la función argmax nos devuelve la clase con mayor probabilidad\n",
        "    # devuelve el nombre de la clase, no su codificación\n",
        "    return probs.argmax().item()"
      ]
    },
    {
      "cell_type": "markdown",
      "metadata": {
        "id": "Tm9OO2bx_9aB"
      },
      "source": [
        "Aplicamos la función get_prediction sobre todos los textos del conjunto test, y además recuperamos las labels del conjunto test:"
      ]
    },
    {
      "cell_type": "code",
      "execution_count": null,
      "metadata": {
        "id": "kpKajRdyFHNz"
      },
      "outputs": [],
      "source": [
        "y_pred=[LABELS[get_prediction(text)] for text in dict_dataset['test']['text']]\n"
      ]
    },
    {
      "cell_type": "markdown",
      "metadata": {
        "id": "41W96gAYAdiY"
      },
      "source": [
        "Recuperamos las labels del conjunto (sin codificar):"
      ]
    },
    {
      "cell_type": "code",
      "execution_count": null,
      "metadata": {
        "colab": {
          "base_uri": "https://localhost:8080/"
        },
        "id": "18ydS7mJAUij",
        "outputId": "e4abe02f-98b4-4aa1-99ac-73e82874297e"
      },
      "outputs": [
        {
          "name": "stdout",
          "output_type": "stream",
          "text": [
            "['2. derogation', '2. derogation', '2. derogation', '2. derogation', '2. derogation']\n",
            "['3. animosity', '2. derogation', '2. derogation', '2. derogation', '2. derogation']\n"
          ]
        }
      ],
      "source": [
        "y_test = dict_dataset['test']['label']\n",
        "print(y_test[:5])\n",
        "print(y_pred[:5])"
      ]
    },
    {
      "cell_type": "code",
      "execution_count": null,
      "metadata": {
        "colab": {
          "base_uri": "https://localhost:8080/"
        },
        "id": "ECctTe6OFy0O",
        "outputId": "24176a91-b8f6-465e-a3c4-4bfb1b193802"
      },
      "outputs": [
        {
          "name": "stdout",
          "output_type": "stream",
          "text": [
            "                                          precision    recall  f1-score   support\n",
            "\n",
            "1. threats, plans to harm and incitement       0.79      0.49      0.61        89\n",
            "                           2. derogation       0.76      0.70      0.73       454\n",
            "                            3. animosity       0.62      0.74      0.68       333\n",
            "               4. prejudiced discussions       0.63      0.68      0.66        94\n",
            "\n",
            "                                accuracy                           0.69       970\n",
            "                               macro avg       0.70      0.65      0.67       970\n",
            "                            weighted avg       0.70      0.69      0.69       970\n",
            "\n",
            "Micro-F1 Score: 0.6938\n"
          ]
        }
      ],
      "source": [
        "from sklearn.metrics import classification_report, confusion_matrix\n",
        "from sklearn.metrics import f1_score\n",
        "print(classification_report(y_true = y_test, y_pred = y_pred, target_names=LABELS))\n",
        "micro_f1 = f1_score(y_true = y_test, y_pred = y_pred, average='micro')\n",
        "print('Micro-F1 Score: {:.4f}'.format(micro_f1))\n"
      ]
    },
    {
      "cell_type": "markdown",
      "metadata": {
        "id": "B4azCXbsAo5j"
      },
      "source": [
        "Almacenando los resultados para poder compararlos con lso de los otros modelos:"
      ]
    },
    {
      "cell_type": "code",
      "execution_count": null,
      "metadata": {
        "colab": {
          "base_uri": "https://localhost:8080/",
          "height": 909
        },
        "id": "rLYy1yilPIjr",
        "outputId": "7ccb8574-d04c-4eb1-b104-829702619ccf"
      },
      "outputs": [
        {
          "data": {
            "image/png": "[encoded data removed]",
            "text/plain": [
              "<Figure size 1000x700 with 2 Axes>"
            ]
          },
          "metadata": {},
          "output_type": "display_data"
        }
      ],
      "source": [
        "import seaborn as sns\n",
        "import matplotlib.pyplot as plt\n",
        "from sklearn.metrics import confusion_matrix\n",
        "\n",
        "# Obtener la matriz de confusión\n",
        "conf_matrix = confusion_matrix(y_test, y_pred)\n",
        "\n",
        "\n",
        "\n",
        "# Crear un mapa de calor para la matriz de confusión\n",
        "plt.figure(figsize=(10, 7))\n",
        "sns.heatmap(conf_matrix, annot=True, fmt='g', cmap='Blues', xticklabels=LABELS, yticklabels=LABELS)\n",
        "plt.xlabel('Etiquetas Predichas')\n",
        "plt.ylabel('Etiquetas Verdaderas')\n",
        "plt.title('Matriz de Confusión')\n",
        "plt.show()"
      ]
    },
    {
      "cell_type": "code",
      "execution_count": null,
      "metadata": {
        "colab": {
          "base_uri": "https://localhost:8080/"
        },
        "id": "2gIxPM8yHkIA",
        "outputId": "f333792f-24ab-42db-d233-8f84f05b2e82"
      },
      "outputs": [
        {
          "name": "stdout",
          "output_type": "stream",
          "text": [
            "results_3/distilbert-base-uncased_b.csv  grabado!\n"
          ]
        }
      ],
      "source": [
        "import os\n",
        "output_dir = 'results_3/'\n",
        "if not os.path.exists(output_dir):\n",
        "    os.makedirs(output_dir)\n",
        "\n",
        "clsf_report = pd.DataFrame(classification_report(y_true = y_test, y_pred = y_pred, target_names=LABELS, output_dict=True)).transpose()\n",
        "path_results = output_dir+model_name\n",
        "\n",
        "clsf_report.to_csv(path_results+'_{}.csv'.format(TASK), index= True)\n",
        "print(path_results+'_{}.csv'.format(TASK), ' grabado!')\n"
      ]
    },
    {
      "cell_type": "code",
      "execution_count": null,
      "metadata": {
        "colab": {
          "base_uri": "https://localhost:8080/",
          "height": 66,
          "referenced_widgets": [
            "fa220a8853424397a6827e626aab2061",
            "371a12792b9946ceb828be7641415879",
            "0039dc35427f4d6399a3e232fbd0923d",
            "aa894fd94cb2460a847f5d2be6d2fd3e",
            "95373a7f1f4c47cc8ec8b12d5124c7d3",
            "c499c09e1c664040b093fa7d61b02d04",
            "63b7100d46364a6b921842f613666755",
            "ec05c29d123d491d904c0d91b1b5e33c",
            "6133d98e5f7541008aa7d6b8e603617d",
            "83f54584e6784ff2a028293c89a483b6",
            "d7c1e85c16334c2b81608d301f16ff0f"
          ]
        },
        "id": "tHkQMZCTp7xJ",
        "outputId": "72ffda80-118f-49cc-919d-1cbf409a100d"
      },
      "outputs": [
        {
          "data": {
            "application/vnd.jupyter.widget-view+json": {
              "model_id": "fa220a8853424397a6827e626aab2061",
              "version_major": 2,
              "version_minor": 0
            },
            "text/plain": [
              "model.safetensors:   0%|          | 0.00/268M [00:00<?, ?B/s]"
            ]
          },
          "metadata": {},
          "output_type": "display_data"
        },
        {
          "name": "stdout",
          "output_type": "stream",
          "text": [
            "distilbert-base-uncased  cargado\n"
          ]
        }
      ],
      "source": [
        "from transformers import AutoModel\n",
        "model = AutoModel.from_pretrained(model_name, num_labels=NUM_LABELS)\n",
        "print(model_name, ' cargado')"
      ]
    },
    {
      "cell_type": "code",
      "execution_count": null,
      "metadata": {
        "id": "anCOFrR2uadd"
      },
      "outputs": [],
      "source": [
        "def get_embeddings(dataset):\n",
        "  cls_embeddings_list = []\n",
        "  for text in dataset:\n",
        "    inputs = tokenizer(text, return_tensors=\"pt\")\n",
        "    outputs = model(**inputs)\n",
        "\n",
        "\n",
        "    model.eval()\n",
        "    with torch.no_grad():\n",
        "      outputs = model(**inputs)\n",
        "\n",
        "    # Extraer el vector [CLS] para cada input\n",
        "    cls_embeddings = outputs.last_hidden_state[:, 0, :].detach().numpy()\n",
        "\n",
        "    cls_embeddings_list.append(cls_embeddings)\n",
        "  return np.vstack(cls_embeddings_list)"
      ]
    },
    {
      "cell_type": "code",
      "execution_count": null,
      "metadata": {
        "id": "zSCASDZF1KN_"
      },
      "outputs": [],
      "source": [
        "import torch\n",
        "from torch.utils.data import DataLoader, TensorDataset\n",
        "import numpy as np\n",
        "def get_embeddings(dataset):\n",
        "    # Tokenizar el dataset\n",
        "    inputs = tokenizer(dataset, padding=True, truncation=True, return_tensors=\"pt\", max_length=512)\n",
        "\n",
        "    # Crear DataLoader\n",
        "    batch_size = 32  # Ajusta esto según tu GPU\n",
        "    data_loader = DataLoader(TensorDataset(inputs['input_ids'], inputs['attention_mask']), batch_size=batch_size)\n",
        "\n",
        "    cls_embeddings_list = []\n",
        "\n",
        "    with torch.no_grad():\n",
        "        for batch in data_loader:\n",
        "            input_ids, attention_mask = [b.to(model.device) for b in batch]\n",
        "            outputs = model(input_ids=input_ids, attention_mask=attention_mask)\n",
        "\n",
        "            # Extraer el vector [CLS] para cada input en el batch\n",
        "            cls_embeddings = outputs.last_hidden_state[:, 0, :].cpu().numpy()\n",
        "            cls_embeddings_list.append(cls_embeddings)\n",
        "\n",
        "    # Concatenar todos los embeddings de los lotes\n",
        "    return np.vstack(cls_embeddings_list)"
      ]
    },
    {
      "cell_type": "code",
      "execution_count": null,
      "metadata": {
        "id": "KiND2pvTmpUV"
      },
      "outputs": [],
      "source": [
        "vectors_train=get_embeddings(dict_dataset['validation']['text'])\n"
      ]
    },
    {
      "cell_type": "code",
      "execution_count": null,
      "metadata": {
        "id": "ld7wbs8R1JaW"
      },
      "outputs": [],
      "source": [
        "vectors_test=get_embeddings(dict_dataset['test']['text'])"
      ]
    },
    {
      "cell_type": "code",
      "execution_count": null,
      "metadata": {
        "id": "syJ6bWmXYUwA"
      },
      "outputs": [],
      "source": [
        "vectors_test ,vectors_train = vectors_train ,vectors_test"
      ]
    },
    {
      "cell_type": "code",
      "execution_count": null,
      "metadata": {
        "id": "cTcCfXcEYxJF"
      },
      "outputs": [],
      "source": [
        "y_train=y_test\n",
        "y_test=y_val"
      ]
    },
    {
      "cell_type": "code",
      "execution_count": null,
      "metadata": {
        "colab": {
          "base_uri": "https://localhost:8080/"
        },
        "id": "VfCmVcmVvERm",
        "outputId": "046bf84b-4c7a-4377-b5e1-8939232d9382"
      },
      "outputs": [
        {
          "data": {
            "text/plain": [
              "(4000, 768)"
            ]
          },
          "execution_count": 31,
          "metadata": {},
          "output_type": "execute_result"
        }
      ],
      "source": [
        "vectors_train.shape"
      ]
    },
    {
      "cell_type": "code",
      "execution_count": null,
      "metadata": {
        "colab": {
          "base_uri": "https://localhost:8080/"
        },
        "id": "r2RNVXmOss7u",
        "outputId": "1d00e64f-473c-42ac-c46b-fd5b147528c9"
      },
      "outputs": [
        {
          "name": "stdout",
          "output_type": "stream",
          "text": [
            "n_iterations: 4\n",
            "n_required_iterations: 4\n",
            "n_possible_iterations: 4\n",
            "min_resources_: 148\n",
            "max_resources_: 4000\n",
            "aggressive_elimination: False\n",
            "factor: 3\n",
            "----------\n",
            "iter: 0\n",
            "n_candidates: 32\n",
            "n_resources: 148\n",
            "Fitting 3 folds for each of 32 candidates, totalling 96 fits\n",
            "[CV 1/3] END C=0.1, gamma=1, kernel=rbf;, score=(train=0.684, test=0.735) total time=   0.0s\n",
            "[CV 2/3] END C=0.1, gamma=1, kernel=rbf;, score=(train=0.765, test=0.857) total time=   0.0s\n",
            "[CV 3/3] END C=0.1, gamma=1, kernel=rbf;, score=(train=0.755, test=0.735) total time=   0.0s\n",
            "[CV 1/3] END C=0.1, gamma=1, kernel=linear;, score=(train=0.949, test=0.673) total time=   0.0s\n",
            "[CV 2/3] END C=0.1, gamma=1, kernel=linear;, score=(train=0.837, test=0.857) total time=   0.0s\n",
            "[CV 3/3] END C=0.1, gamma=1, kernel=linear;, score=(train=0.837, test=0.694) total time=   0.0s\n",
            "[CV 1/3] END C=0.1, gamma=0.1, kernel=rbf;, score=(train=0.684, test=0.735) total time=   0.0s\n",
            "[CV 2/3] END C=0.1, gamma=0.1, kernel=rbf;, score=(train=0.765, test=0.857) total time=   0.0s\n",
            "[CV 3/3] END C=0.1, gamma=0.1, kernel=rbf;, score=(train=0.755, test=0.735) total time=   0.0s\n",
            "[CV 1/3] END C=0.1, gamma=0.1, kernel=linear;, score=(train=0.949, test=0.673) total time=   0.0s\n",
            "[CV 2/3] END C=0.1, gamma=0.1, kernel=linear;, score=(train=0.837, test=0.857) total time=   0.0s\n",
            "[CV 3/3] END C=0.1, gamma=0.1, kernel=linear;, score=(train=0.837, test=0.694) total time=   0.0s\n",
            "[CV 1/3] END C=0.1, gamma=0.01, kernel=rbf;, score=(train=0.684, test=0.735) total time=   0.0s\n",
            "[CV 2/3] END C=0.1, gamma=0.01, kernel=rbf;, score=(train=0.765, test=0.857) total time=   0.0s\n",
            "[CV 3/3] END C=0.1, gamma=0.01, kernel=rbf;, score=(train=0.755, test=0.735) total time=   0.0s\n",
            "[CV 1/3] END C=0.1, gamma=0.01, kernel=linear;, score=(train=0.949, test=0.673) total time=   0.0s\n",
            "[CV 2/3] END C=0.1, gamma=0.01, kernel=linear;, score=(train=0.837, test=0.857) total time=   0.0s\n",
            "[CV 3/3] END C=0.1, gamma=0.01, kernel=linear;, score=(train=0.837, test=0.694) total time=   0.0s\n",
            "[CV 1/3] END C=0.1, gamma=0.001, kernel=rbf;, score=(train=0.684, test=0.735) total time=   0.0s\n",
            "[CV 2/3] END C=0.1, gamma=0.001, kernel=rbf;, score=(train=0.765, test=0.857) total time=   0.0s\n",
            "[CV 3/3] END C=0.1, gamma=0.001, kernel=rbf;, score=(train=0.755, test=0.735) total time=   0.0s\n",
            "[CV 1/3] END C=0.1, gamma=0.001, kernel=linear;, score=(train=0.949, test=0.673) total time=   0.0s\n",
            "[CV 2/3] END C=0.1, gamma=0.001, kernel=linear;, score=(train=0.837, test=0.857) total time=   0.0s\n",
            "[CV 3/3] END C=0.1, gamma=0.001, kernel=linear;, score=(train=0.837, test=0.694) total time=   0.0s\n",
            "[CV 1/3] END C=1, gamma=1, kernel=rbf;, score=(train=1.000, test=0.735) total time=   0.0s\n",
            "[CV 2/3] END C=1, gamma=1, kernel=rbf;, score=(train=1.000, test=0.857) total time=   0.0s\n",
            "[CV 3/3] END C=1, gamma=1, kernel=rbf;, score=(train=1.000, test=0.735) total time=   0.0s\n",
            "[CV 1/3] END C=1, gamma=1, kernel=linear;, score=(train=1.000, test=0.673) total time=   0.0s\n",
            "[CV 2/3] END C=1, gamma=1, kernel=linear;, score=(train=1.000, test=0.673) total time=   0.0s\n",
            "[CV 3/3] END C=1, gamma=1, kernel=linear;, score=(train=1.000, test=0.633) total time=   0.0s\n",
            "[CV 1/3] END C=1, gamma=0.1, kernel=rbf;, score=(train=0.969, test=0.714) total time=   0.0s\n",
            "[CV 2/3] END C=1, gamma=0.1, kernel=rbf;, score=(train=0.918, test=0.857) total time=   0.0s\n",
            "[CV 3/3] END C=1, gamma=0.1, kernel=rbf;, score=(train=0.918, test=0.735) total time=   0.0s\n",
            "[CV 1/3] END C=1, gamma=0.1, kernel=linear;, score=(train=1.000, test=0.673) total time=   0.0s\n",
            "[CV 2/3] END C=1, gamma=0.1, kernel=linear;, score=(train=1.000, test=0.673) total time=   0.0s\n",
            "[CV 3/3] END C=1, gamma=0.1, kernel=linear;, score=(train=1.000, test=0.633) total time=   0.0s\n",
            "[CV 1/3] END C=1, gamma=0.01, kernel=rbf;, score=(train=0.684, test=0.735) total time=   0.0s\n",
            "[CV 2/3] END C=1, gamma=0.01, kernel=rbf;, score=(train=0.765, test=0.857) total time=   0.0s\n",
            "[CV 3/3] END C=1, gamma=0.01, kernel=rbf;, score=(train=0.755, test=0.735) total time=   0.0s\n",
            "[CV 1/3] END C=1, gamma=0.01, kernel=linear;, score=(train=1.000, test=0.673) total time=   0.0s\n",
            "[CV 2/3] END C=1, gamma=0.01, kernel=linear;, score=(train=1.000, test=0.673) total time=   0.0s\n",
            "[CV 3/3] END C=1, gamma=0.01, kernel=linear;, score=(train=1.000, test=0.633) total time=   0.0s\n",
            "[CV 1/3] END C=1, gamma=0.001, kernel=rbf;, score=(train=0.684, test=0.735) total time=   0.0s\n",
            "[CV 2/3] END C=1, gamma=0.001, kernel=rbf;, score=(train=0.765, test=0.857) total time=   0.0s\n",
            "[CV 3/3] END C=1, gamma=0.001, kernel=rbf;, score=(train=0.755, test=0.735) total time=   0.0s\n",
            "[CV 1/3] END C=1, gamma=0.001, kernel=linear;, score=(train=1.000, test=0.673) total time=   0.0s\n",
            "[CV 2/3] END C=1, gamma=0.001, kernel=linear;, score=(train=1.000, test=0.673) total time=   0.0s\n",
            "[CV 3/3] END C=1, gamma=0.001, kernel=linear;, score=(train=1.000, test=0.633) total time=   0.0s\n",
            "[CV 1/3] END C=10, gamma=1, kernel=rbf;, score=(train=1.000, test=0.735) total time=   0.0s\n",
            "[CV 2/3] END C=10, gamma=1, kernel=rbf;, score=(train=1.000, test=0.857) total time=   0.0s\n",
            "[CV 3/3] END C=10, gamma=1, kernel=rbf;, score=(train=1.000, test=0.735) total time=   0.0s\n",
            "[CV 1/3] END C=10, gamma=1, kernel=linear;, score=(train=1.000, test=0.673) total time=   0.0s\n",
            "[CV 2/3] END C=10, gamma=1, kernel=linear;, score=(train=1.000, test=0.673) total time=   0.0s\n",
            "[CV 3/3] END C=10, gamma=1, kernel=linear;, score=(train=1.000, test=0.633) total time=   0.0s\n",
            "[CV 1/3] END C=10, gamma=0.1, kernel=rbf;, score=(train=1.000, test=0.694) total time=   0.0s\n",
            "[CV 2/3] END C=10, gamma=0.1, kernel=rbf;, score=(train=1.000, test=0.816) total time=   0.0s\n",
            "[CV 3/3] END C=10, gamma=0.1, kernel=rbf;, score=(train=1.000, test=0.714) total time=   0.0s\n",
            "[CV 1/3] END C=10, gamma=0.1, kernel=linear;, score=(train=1.000, test=0.673) total time=   0.0s\n",
            "[CV 2/3] END C=10, gamma=0.1, kernel=linear;, score=(train=1.000, test=0.673) total time=   0.0s\n",
            "[CV 3/3] END C=10, gamma=0.1, kernel=linear;, score=(train=1.000, test=0.633) total time=   0.0s\n",
            "[CV 1/3] END C=10, gamma=0.01, kernel=rbf;, score=(train=0.980, test=0.755) total time=   0.0s\n",
            "[CV 2/3] END C=10, gamma=0.01, kernel=rbf;, score=(train=0.980, test=0.796) total time=   0.0s\n",
            "[CV 3/3] END C=10, gamma=0.01, kernel=rbf;, score=(train=0.969, test=0.673) total time=   0.0s\n",
            "[CV 1/3] END C=10, gamma=0.01, kernel=linear;, score=(train=1.000, test=0.673) total time=   0.0s\n",
            "[CV 2/3] END C=10, gamma=0.01, kernel=linear;, score=(train=1.000, test=0.673) total time=   0.0s\n",
            "[CV 3/3] END C=10, gamma=0.01, kernel=linear;, score=(train=1.000, test=0.633) total time=   0.0s\n",
            "[CV 1/3] END C=10, gamma=0.001, kernel=rbf;, score=(train=0.684, test=0.735) total time=   0.0s\n",
            "[CV 2/3] END C=10, gamma=0.001, kernel=rbf;, score=(train=0.765, test=0.857) total time=   0.0s\n",
            "[CV 3/3] END C=10, gamma=0.001, kernel=rbf;, score=(train=0.755, test=0.735) total time=   0.0s\n",
            "[CV 1/3] END C=10, gamma=0.001, kernel=linear;, score=(train=1.000, test=0.673) total time=   0.0s\n",
            "[CV 2/3] END C=10, gamma=0.001, kernel=linear;, score=(train=1.000, test=0.673) total time=   0.0s\n",
            "[CV 3/3] END C=10, gamma=0.001, kernel=linear;, score=(train=1.000, test=0.633) total time=   0.0s\n",
            "[CV 1/3] END C=100, gamma=1, kernel=rbf;, score=(train=1.000, test=0.735) total time=   0.0s\n",
            "[CV 2/3] END C=100, gamma=1, kernel=rbf;, score=(train=1.000, test=0.857) total time=   0.0s\n",
            "[CV 3/3] END C=100, gamma=1, kernel=rbf;, score=(train=1.000, test=0.735) total time=   0.0s\n",
            "[CV 1/3] END C=100, gamma=1, kernel=linear;, score=(train=1.000, test=0.673) total time=   0.0s\n",
            "[CV 2/3] END C=100, gamma=1, kernel=linear;, score=(train=1.000, test=0.673) total time=   0.0s\n",
            "[CV 3/3] END C=100, gamma=1, kernel=linear;, score=(train=1.000, test=0.633) total time=   0.0s\n",
            "[CV 1/3] END C=100, gamma=0.1, kernel=rbf;, score=(train=1.000, test=0.694) total time=   0.0s\n",
            "[CV 2/3] END C=100, gamma=0.1, kernel=rbf;, score=(train=1.000, test=0.816) total time=   0.0s\n",
            "[CV 3/3] END C=100, gamma=0.1, kernel=rbf;, score=(train=1.000, test=0.714) total time=   0.0s\n",
            "[CV 1/3] END C=100, gamma=0.1, kernel=linear;, score=(train=1.000, test=0.673) total time=   0.0s\n",
            "[CV 2/3] END C=100, gamma=0.1, kernel=linear;, score=(train=1.000, test=0.673) total time=   0.0s\n",
            "[CV 3/3] END C=100, gamma=0.1, kernel=linear;, score=(train=1.000, test=0.633) total time=   0.0s\n",
            "[CV 1/3] END C=100, gamma=0.01, kernel=rbf;, score=(train=1.000, test=0.653) total time=   0.0s\n",
            "[CV 2/3] END C=100, gamma=0.01, kernel=rbf;, score=(train=1.000, test=0.694) total time=   0.0s\n",
            "[CV 3/3] END C=100, gamma=0.01, kernel=rbf;, score=(train=1.000, test=0.653) total time=   0.0s\n",
            "[CV 1/3] END C=100, gamma=0.01, kernel=linear;, score=(train=1.000, test=0.673) total time=   0.0s\n",
            "[CV 2/3] END C=100, gamma=0.01, kernel=linear;, score=(train=1.000, test=0.673) total time=   0.0s\n",
            "[CV 3/3] END C=100, gamma=0.01, kernel=linear;, score=(train=1.000, test=0.633) total time=   0.0s\n",
            "[CV 1/3] END C=100, gamma=0.001, kernel=rbf;, score=(train=0.980, test=0.714) total time=   0.0s\n",
            "[CV 2/3] END C=100, gamma=0.001, kernel=rbf;, score=(train=0.959, test=0.776) total time=   0.0s\n",
            "[CV 3/3] END C=100, gamma=0.001, kernel=rbf;, score=(train=0.939, test=0.653) total time=   0.0s\n",
            "[CV 1/3] END C=100, gamma=0.001, kernel=linear;, score=(train=1.000, test=0.673) total time=   0.0s\n",
            "[CV 2/3] END C=100, gamma=0.001, kernel=linear;, score=(train=1.000, test=0.673) total time=   0.0s\n",
            "[CV 3/3] END C=100, gamma=0.001, kernel=linear;, score=(train=1.000, test=0.633) total time=   0.0s\n",
            "----------\n",
            "iter: 1\n",
            "n_candidates: 11\n",
            "n_resources: 444\n",
            "Fitting 3 folds for each of 11 candidates, totalling 33 fits\n",
            "[CV 1/3] END C=1, gamma=0.1, kernel=rbf;, score=(train=0.939, test=0.696) total time=   0.1s\n",
            "[CV 2/3] END C=1, gamma=0.1, kernel=rbf;, score=(train=0.946, test=0.735) total time=   0.1s\n",
            "[CV 3/3] END C=1, gamma=0.1, kernel=rbf;, score=(train=0.939, test=0.816) total time=   0.2s\n",
            "[CV 1/3] END C=0.1, gamma=0.001, kernel=rbf;, score=(train=0.725, test=0.682) total time=   0.1s\n",
            "[CV 2/3] END C=0.1, gamma=0.001, kernel=rbf;, score=(train=0.774, test=0.735) total time=   0.2s\n",
            "[CV 3/3] END C=0.1, gamma=0.001, kernel=rbf;, score=(train=0.764, test=0.810) total time=   0.2s\n",
            "[CV 1/3] END C=10, gamma=0.001, kernel=rbf;, score=(train=0.725, test=0.682) total time=   0.2s\n",
            "[CV 2/3] END C=10, gamma=0.001, kernel=rbf;, score=(train=0.774, test=0.735) total time=   0.1s\n",
            "[CV 3/3] END C=10, gamma=0.001, kernel=rbf;, score=(train=0.764, test=0.810) total time=   0.1s\n",
            "[CV 1/3] END C=0.1, gamma=0.01, kernel=rbf;, score=(train=0.725, test=0.682) total time=   0.1s\n",
            "[CV 2/3] END C=0.1, gamma=0.01, kernel=rbf;, score=(train=0.774, test=0.735) total time=   0.1s\n",
            "[CV 3/3] END C=0.1, gamma=0.01, kernel=rbf;, score=(train=0.764, test=0.810) total time=   0.1s\n",
            "[CV 1/3] END C=100, gamma=1, kernel=rbf;, score=(train=1.000, test=0.682) total time=   0.2s\n",
            "[CV 2/3] END C=100, gamma=1, kernel=rbf;, score=(train=1.000, test=0.735) total time=   0.2s\n",
            "[CV 3/3] END C=100, gamma=1, kernel=rbf;, score=(train=1.000, test=0.810) total time=   0.2s\n",
            "[CV 1/3] END C=10, gamma=1, kernel=rbf;, score=(train=1.000, test=0.682) total time=   0.1s\n",
            "[CV 2/3] END C=10, gamma=1, kernel=rbf;, score=(train=1.000, test=0.735) total time=   0.2s\n",
            "[CV 3/3] END C=10, gamma=1, kernel=rbf;, score=(train=1.000, test=0.810) total time=   0.1s\n",
            "[CV 1/3] END C=1, gamma=0.001, kernel=rbf;, score=(train=0.725, test=0.682) total time=   0.1s\n",
            "[CV 2/3] END C=1, gamma=0.001, kernel=rbf;, score=(train=0.774, test=0.735) total time=   0.1s\n",
            "[CV 3/3] END C=1, gamma=0.001, kernel=rbf;, score=(train=0.764, test=0.810) total time=   0.1s\n",
            "[CV 1/3] END C=0.1, gamma=0.1, kernel=rbf;, score=(train=0.725, test=0.682) total time=   0.1s\n",
            "[CV 2/3] END C=0.1, gamma=0.1, kernel=rbf;, score=(train=0.774, test=0.735) total time=   0.1s\n",
            "[CV 3/3] END C=0.1, gamma=0.1, kernel=rbf;, score=(train=0.764, test=0.810) total time=   0.1s\n",
            "[CV 1/3] END C=1, gamma=1, kernel=rbf;, score=(train=1.000, test=0.682) total time=   0.1s\n",
            "[CV 2/3] END C=1, gamma=1, kernel=rbf;, score=(train=1.000, test=0.735) total time=   0.1s\n",
            "[CV 3/3] END C=1, gamma=1, kernel=rbf;, score=(train=1.000, test=0.810) total time=   0.1s\n",
            "[CV 1/3] END C=1, gamma=0.01, kernel=rbf;, score=(train=0.725, test=0.682) total time=   0.0s\n",
            "[CV 2/3] END C=1, gamma=0.01, kernel=rbf;, score=(train=0.774, test=0.735) total time=   0.0s\n",
            "[CV 3/3] END C=1, gamma=0.01, kernel=rbf;, score=(train=0.764, test=0.810) total time=   0.0s\n",
            "[CV 1/3] END C=0.1, gamma=1, kernel=rbf;, score=(train=0.725, test=0.682) total time=   0.1s\n",
            "[CV 2/3] END C=0.1, gamma=1, kernel=rbf;, score=(train=0.774, test=0.735) total time=   0.1s\n",
            "[CV 3/3] END C=0.1, gamma=1, kernel=rbf;, score=(train=0.764, test=0.810) total time=   0.1s\n",
            "----------\n",
            "iter: 2\n",
            "n_candidates: 4\n",
            "n_resources: 1332\n",
            "Fitting 3 folds for each of 4 candidates, totalling 12 fits\n",
            "[CV 1/3] END C=1, gamma=1, kernel=rbf;, score=(train=1.000, test=0.748) total time=   0.6s\n",
            "[CV 2/3] END C=1, gamma=1, kernel=rbf;, score=(train=1.000, test=0.763) total time=   0.7s\n",
            "[CV 3/3] END C=1, gamma=1, kernel=rbf;, score=(train=1.000, test=0.725) total time=   0.6s\n",
            "[CV 1/3] END C=1, gamma=0.01, kernel=rbf;, score=(train=0.779, test=0.748) total time=   0.3s\n",
            "[CV 2/3] END C=1, gamma=0.01, kernel=rbf;, score=(train=0.764, test=0.763) total time=   0.4s\n",
            "[CV 3/3] END C=1, gamma=0.01, kernel=rbf;, score=(train=0.773, test=0.725) total time=   0.3s\n",
            "[CV 1/3] END C=0.1, gamma=1, kernel=rbf;, score=(train=0.779, test=0.748) total time=   0.6s\n",
            "[CV 2/3] END C=0.1, gamma=1, kernel=rbf;, score=(train=0.764, test=0.763) total time=   0.6s\n",
            "[CV 3/3] END C=0.1, gamma=1, kernel=rbf;, score=(train=0.773, test=0.725) total time=   0.8s\n",
            "[CV 1/3] END C=1, gamma=0.1, kernel=rbf;, score=(train=0.924, test=0.764) total time=   0.7s\n",
            "[CV 2/3] END C=1, gamma=0.1, kernel=rbf;, score=(train=0.919, test=0.783) total time=   0.5s\n",
            "[CV 3/3] END C=1, gamma=0.1, kernel=rbf;, score=(train=0.916, test=0.738) total time=   0.3s\n",
            "----------\n",
            "iter: 3\n",
            "n_candidates: 2\n",
            "n_resources: 3996\n",
            "Fitting 3 folds for each of 2 candidates, totalling 6 fits\n",
            "[CV 1/3] END C=0.1, gamma=1, kernel=rbf;, score=(train=0.758, test=0.757) total time=   3.7s\n",
            "[CV 2/3] END C=0.1, gamma=1, kernel=rbf;, score=(train=0.758, test=0.757) total time=   5.0s\n",
            "[CV 3/3] END C=0.1, gamma=1, kernel=rbf;, score=(train=0.758, test=0.758) total time=   3.9s\n",
            "[CV 1/3] END C=1, gamma=0.1, kernel=rbf;, score=(train=0.918, test=0.784) total time=   3.0s\n",
            "[CV 2/3] END C=1, gamma=0.1, kernel=rbf;, score=(train=0.913, test=0.785) total time=   3.0s\n",
            "[CV 3/3] END C=1, gamma=0.1, kernel=rbf;, score=(train=0.909, test=0.777) total time=   3.3s\n",
            "Métricas en el conjunto de prueba:\n",
            "              precision    recall  f1-score   support\n",
            "\n",
            "           0       0.79      0.96      0.87      1514\n",
            "           1       0.64      0.20      0.31       486\n",
            "\n",
            "    accuracy                           0.78      2000\n",
            "   macro avg       0.71      0.58      0.59      2000\n",
            "weighted avg       0.75      0.78      0.73      2000\n",
            "\n",
            "Micro-F1 Score: 0.7780\n"
          ]
        }
      ],
      "source": [
        "from sklearn.svm import SVC\n",
        "from sklearn.experimental import enable_halving_search_cv\n",
        "from sklearn.model_selection import HalvingGridSearchCV\n",
        "from sklearn.metrics import classification_report\n",
        "from sklearn.metrics import f1_score\n",
        "\n",
        "# Definir el clasificador SVM\n",
        "svm_clf = SVC()\n",
        "\n",
        "# Definir la grilla de parámetros para la búsqueda\n",
        "param_grid = {\n",
        "    'C': [0.1, 1, 10, 100],\n",
        "    'gamma': [1, 0.1, 0.01, 0.001],\n",
        "    'kernel': ['rbf', 'linear']\n",
        "}\n",
        "\n",
        "# Realizar la búsqueda en grilla con validación cruzada\n",
        "grid_search = HalvingGridSearchCV(svm_clf, param_grid, cv=3, scoring='f1_micro',verbose=3)\n",
        "grid_search.fit(vectors_train, y_train)\n",
        "\n",
        "# Obtener el mejor clasificador\n",
        "best_svm_clf = grid_search.best_estimator_\n",
        "\n",
        "\n",
        "# Evaluar el mejor clasificador en el conjunto de prueba\n",
        "y_test_pred = best_svm_clf.predict(vectors_test)\n",
        "print('Métricas en el conjunto de prueba:')\n",
        "print(classification_report(y_test, y_test_pred))\n",
        "micro_f1 = f1_score(y_test, y_test_pred, average='micro')\n",
        "print('Micro-F1 Score: {:.4f}'.format(micro_f1))"
      ]
    },
    {
      "cell_type": "code",
      "execution_count": null,
      "metadata": {
        "colab": {
          "base_uri": "https://localhost:8080/"
        },
        "id": "4yhScoYeGmCI",
        "outputId": "79ed6acd-a8d9-40f5-d1e4-a7f182ccc3da"
      },
      "outputs": [
        {
          "name": "stdout",
          "output_type": "stream",
          "text": [
            "n_iterations: 5\n",
            "n_required_iterations: 5\n",
            "n_possible_iterations: 5\n",
            "min_resources_: 49\n",
            "max_resources_: 4000\n",
            "aggressive_elimination: False\n",
            "factor: 3\n",
            "----------\n",
            "iter: 0\n",
            "n_candidates: 81\n",
            "n_resources: 49\n",
            "Fitting 3 folds for each of 81 candidates, totalling 243 fits\n",
            "[CV 1/3] END max_depth=None, max_features=sqrt, min_samples_leaf=1, min_samples_split=2, n_estimators=100;, score=(train=1.000, test=0.812) total time=   0.1s\n",
            "[CV 2/3] END max_depth=None, max_features=sqrt, min_samples_leaf=1, min_samples_split=2, n_estimators=100;, score=(train=1.000, test=0.750) total time=   0.1s\n",
            "[CV 3/3] END max_depth=None, max_features=sqrt, min_samples_leaf=1, min_samples_split=2, n_estimators=100;, score=(train=1.000, test=0.625) total time=   0.1s\n",
            "[CV 1/3] END max_depth=None, max_features=sqrt, min_samples_leaf=1, min_samples_split=2, n_estimators=200;, score=(train=1.000, test=0.875) total time=   0.3s\n",
            "[CV 2/3] END max_depth=None, max_features=sqrt, min_samples_leaf=1, min_samples_split=2, n_estimators=200;, score=(train=1.000, test=0.750) total time=   0.3s\n",
            "[CV 3/3] END max_depth=None, max_features=sqrt, min_samples_leaf=1, min_samples_split=2, n_estimators=200;, score=(train=1.000, test=0.625) total time=   0.3s\n",
            "[CV 1/3] END max_depth=None, max_features=sqrt, min_samples_leaf=1, min_samples_split=2, n_estimators=300;, score=(train=1.000, test=0.812) total time=   0.4s\n",
            "[CV 2/3] END max_depth=None, max_features=sqrt, min_samples_leaf=1, min_samples_split=2, n_estimators=300;, score=(train=1.000, test=0.750) total time=   0.4s\n",
            "[CV 3/3] END max_depth=None, max_features=sqrt, min_samples_leaf=1, min_samples_split=2, n_estimators=300;, score=(train=1.000, test=0.625) total time=   0.4s\n",
            "[CV 1/3] END max_depth=None, max_features=sqrt, min_samples_leaf=1, min_samples_split=5, n_estimators=100;, score=(train=1.000, test=0.812) total time=   0.1s\n",
            "[CV 2/3] END max_depth=None, max_features=sqrt, min_samples_leaf=1, min_samples_split=5, n_estimators=100;, score=(train=1.000, test=0.750) total time=   0.1s\n",
            "[CV 3/3] END max_depth=None, max_features=sqrt, min_samples_leaf=1, min_samples_split=5, n_estimators=100;, score=(train=1.000, test=0.625) total time=   0.1s\n",
            "[CV 1/3] END max_depth=None, max_features=sqrt, min_samples_leaf=1, min_samples_split=5, n_estimators=200;, score=(train=1.000, test=0.875) total time=   0.3s\n",
            "[CV 2/3] END max_depth=None, max_features=sqrt, min_samples_leaf=1, min_samples_split=5, n_estimators=200;, score=(train=1.000, test=0.750) total time=   0.3s\n",
            "[CV 3/3] END max_depth=None, max_features=sqrt, min_samples_leaf=1, min_samples_split=5, n_estimators=200;, score=(train=1.000, test=0.625) total time=   0.3s\n",
            "[CV 1/3] END max_depth=None, max_features=sqrt, min_samples_leaf=1, min_samples_split=5, n_estimators=300;, score=(train=1.000, test=0.875) total time=   0.4s\n",
            "[CV 2/3] END max_depth=None, max_features=sqrt, min_samples_leaf=1, min_samples_split=5, n_estimators=300;, score=(train=1.000, test=0.750) total time=   0.4s\n",
            "[CV 3/3] END max_depth=None, max_features=sqrt, min_samples_leaf=1, min_samples_split=5, n_estimators=300;, score=(train=1.000, test=0.625) total time=   0.4s\n",
            "[CV 1/3] END max_depth=None, max_features=sqrt, min_samples_leaf=1, min_samples_split=10, n_estimators=100;, score=(train=1.000, test=0.875) total time=   0.1s\n",
            "[CV 2/3] END max_depth=None, max_features=sqrt, min_samples_leaf=1, min_samples_split=10, n_estimators=100;, score=(train=1.000, test=0.750) total time=   0.1s\n",
            "[CV 3/3] END max_depth=None, max_features=sqrt, min_samples_leaf=1, min_samples_split=10, n_estimators=100;, score=(train=1.000, test=0.625) total time=   0.1s\n",
            "[CV 1/3] END max_depth=None, max_features=sqrt, min_samples_leaf=1, min_samples_split=10, n_estimators=200;, score=(train=1.000, test=0.812) total time=   0.3s\n",
            "[CV 2/3] END max_depth=None, max_features=sqrt, min_samples_leaf=1, min_samples_split=10, n_estimators=200;, score=(train=1.000, test=0.750) total time=   0.4s\n",
            "[CV 3/3] END max_depth=None, max_features=sqrt, min_samples_leaf=1, min_samples_split=10, n_estimators=200;, score=(train=1.000, test=0.625) total time=   0.4s\n",
            "[CV 1/3] END max_depth=None, max_features=sqrt, min_samples_leaf=1, min_samples_split=10, n_estimators=300;, score=(train=1.000, test=0.875) total time=   0.6s\n",
            "[CV 2/3] END max_depth=None, max_features=sqrt, min_samples_leaf=1, min_samples_split=10, n_estimators=300;, score=(train=1.000, test=0.750) total time=   0.6s\n",
            "[CV 3/3] END max_depth=None, max_features=sqrt, min_samples_leaf=1, min_samples_split=10, n_estimators=300;, score=(train=1.000, test=0.625) total time=   0.6s\n",
            "[CV 1/3] END max_depth=None, max_features=sqrt, min_samples_leaf=2, min_samples_split=2, n_estimators=100;, score=(train=1.000, test=0.875) total time=   0.2s\n",
            "[CV 2/3] END max_depth=None, max_features=sqrt, min_samples_leaf=2, min_samples_split=2, n_estimators=100;, score=(train=1.000, test=0.750) total time=   0.2s\n",
            "[CV 3/3] END max_depth=None, max_features=sqrt, min_samples_leaf=2, min_samples_split=2, n_estimators=100;, score=(train=1.000, test=0.625) total time=   0.2s\n",
            "[CV 1/3] END max_depth=None, max_features=sqrt, min_samples_leaf=2, min_samples_split=2, n_estimators=200;, score=(train=1.000, test=0.812) total time=   0.3s\n",
            "[CV 2/3] END max_depth=None, max_features=sqrt, min_samples_leaf=2, min_samples_split=2, n_estimators=200;, score=(train=1.000, test=0.750) total time=   0.3s\n",
            "[CV 3/3] END max_depth=None, max_features=sqrt, min_samples_leaf=2, min_samples_split=2, n_estimators=200;, score=(train=1.000, test=0.625) total time=   0.3s\n",
            "[CV 1/3] END max_depth=None, max_features=sqrt, min_samples_leaf=2, min_samples_split=2, n_estimators=300;, score=(train=1.000, test=0.812) total time=   0.4s\n",
            "[CV 2/3] END max_depth=None, max_features=sqrt, min_samples_leaf=2, min_samples_split=2, n_estimators=300;, score=(train=1.000, test=0.750) total time=   0.4s\n",
            "[CV 3/3] END max_depth=None, max_features=sqrt, min_samples_leaf=2, min_samples_split=2, n_estimators=300;, score=(train=1.000, test=0.625) total time=   0.4s\n",
            "[CV 1/3] END max_depth=None, max_features=sqrt, min_samples_leaf=2, min_samples_split=5, n_estimators=100;, score=(train=1.000, test=0.812) total time=   0.1s\n",
            "[CV 2/3] END max_depth=None, max_features=sqrt, min_samples_leaf=2, min_samples_split=5, n_estimators=100;, score=(train=1.000, test=0.750) total time=   0.1s\n",
            "[CV 3/3] END max_depth=None, max_features=sqrt, min_samples_leaf=2, min_samples_split=5, n_estimators=100;, score=(train=1.000, test=0.625) total time=   0.1s\n",
            "[CV 1/3] END max_depth=None, max_features=sqrt, min_samples_leaf=2, min_samples_split=5, n_estimators=200;, score=(train=1.000, test=0.812) total time=   0.3s\n",
            "[CV 2/3] END max_depth=None, max_features=sqrt, min_samples_leaf=2, min_samples_split=5, n_estimators=200;, score=(train=1.000, test=0.750) total time=   0.3s\n",
            "[CV 3/3] END max_depth=None, max_features=sqrt, min_samples_leaf=2, min_samples_split=5, n_estimators=200;, score=(train=1.000, test=0.625) total time=   0.3s\n",
            "[CV 1/3] END max_depth=None, max_features=sqrt, min_samples_leaf=2, min_samples_split=5, n_estimators=300;, score=(train=1.000, test=0.812) total time=   0.4s\n",
            "[CV 2/3] END max_depth=None, max_features=sqrt, min_samples_leaf=2, min_samples_split=5, n_estimators=300;, score=(train=1.000, test=0.750) total time=   0.4s\n",
            "[CV 3/3] END max_depth=None, max_features=sqrt, min_samples_leaf=2, min_samples_split=5, n_estimators=300;, score=(train=0.969, test=0.625) total time=   0.4s\n",
            "[CV 1/3] END max_depth=None, max_features=sqrt, min_samples_leaf=2, min_samples_split=10, n_estimators=100;, score=(train=1.000, test=0.812) total time=   0.1s\n",
            "[CV 2/3] END max_depth=None, max_features=sqrt, min_samples_leaf=2, min_samples_split=10, n_estimators=100;, score=(train=0.969, test=0.750) total time=   0.1s\n",
            "[CV 3/3] END max_depth=None, max_features=sqrt, min_samples_leaf=2, min_samples_split=10, n_estimators=100;, score=(train=1.000, test=0.625) total time=   0.1s\n",
            "[CV 1/3] END max_depth=None, max_features=sqrt, min_samples_leaf=2, min_samples_split=10, n_estimators=200;, score=(train=1.000, test=0.875) total time=   0.3s\n",
            "[CV 2/3] END max_depth=None, max_features=sqrt, min_samples_leaf=2, min_samples_split=10, n_estimators=200;, score=(train=0.969, test=0.750) total time=   0.3s\n",
            "[CV 3/3] END max_depth=None, max_features=sqrt, min_samples_leaf=2, min_samples_split=10, n_estimators=200;, score=(train=1.000, test=0.625) total time=   0.3s\n",
            "[CV 1/3] END max_depth=None, max_features=sqrt, min_samples_leaf=2, min_samples_split=10, n_estimators=300;, score=(train=1.000, test=0.812) total time=   0.4s\n",
            "[CV 2/3] END max_depth=None, max_features=sqrt, min_samples_leaf=2, min_samples_split=10, n_estimators=300;, score=(train=1.000, test=0.750) total time=   0.4s\n",
            "[CV 3/3] END max_depth=None, max_features=sqrt, min_samples_leaf=2, min_samples_split=10, n_estimators=300;, score=(train=1.000, test=0.625) total time=   0.4s\n",
            "[CV 1/3] END max_depth=None, max_features=sqrt, min_samples_leaf=4, min_samples_split=2, n_estimators=100;, score=(train=0.969, test=0.812) total time=   0.1s\n",
            "[CV 2/3] END max_depth=None, max_features=sqrt, min_samples_leaf=4, min_samples_split=2, n_estimators=100;, score=(train=0.969, test=0.750) total time=   0.1s\n",
            "[CV 3/3] END max_depth=None, max_features=sqrt, min_samples_leaf=4, min_samples_split=2, n_estimators=100;, score=(train=0.969, test=0.625) total time=   0.1s\n",
            "[CV 1/3] END max_depth=None, max_features=sqrt, min_samples_leaf=4, min_samples_split=2, n_estimators=200;, score=(train=1.000, test=0.812) total time=   0.3s\n",
            "[CV 2/3] END max_depth=None, max_features=sqrt, min_samples_leaf=4, min_samples_split=2, n_estimators=200;, score=(train=0.938, test=0.750) total time=   0.3s\n",
            "[CV 3/3] END max_depth=None, max_features=sqrt, min_samples_leaf=4, min_samples_split=2, n_estimators=200;, score=(train=0.969, test=0.625) total time=   0.3s\n",
            "[CV 1/3] END max_depth=None, max_features=sqrt, min_samples_leaf=4, min_samples_split=2, n_estimators=300;, score=(train=0.969, test=0.812) total time=   0.4s\n",
            "[CV 2/3] END max_depth=None, max_features=sqrt, min_samples_leaf=4, min_samples_split=2, n_estimators=300;, score=(train=0.875, test=0.750) total time=   0.8s\n",
            "[CV 3/3] END max_depth=None, max_features=sqrt, min_samples_leaf=4, min_samples_split=2, n_estimators=300;, score=(train=0.938, test=0.625) total time=   1.1s\n",
            "[CV 1/3] END max_depth=None, max_features=sqrt, min_samples_leaf=4, min_samples_split=5, n_estimators=100;, score=(train=0.938, test=0.812) total time=   0.2s\n",
            "[CV 2/3] END max_depth=None, max_features=sqrt, min_samples_leaf=4, min_samples_split=5, n_estimators=100;, score=(train=0.969, test=0.750) total time=   0.2s\n",
            "[CV 3/3] END max_depth=None, max_features=sqrt, min_samples_leaf=4, min_samples_split=5, n_estimators=100;, score=(train=0.906, test=0.625) total time=   0.2s\n",
            "[CV 1/3] END max_depth=None, max_features=sqrt, min_samples_leaf=4, min_samples_split=5, n_estimators=200;, score=(train=0.906, test=0.812) total time=   0.4s\n",
            "[CV 2/3] END max_depth=None, max_features=sqrt, min_samples_leaf=4, min_samples_split=5, n_estimators=200;, score=(train=0.938, test=0.750) total time=   0.4s\n",
            "[CV 3/3] END max_depth=None, max_features=sqrt, min_samples_leaf=4, min_samples_split=5, n_estimators=200;, score=(train=0.969, test=0.625) total time=   0.4s\n",
            "[CV 1/3] END max_depth=None, max_features=sqrt, min_samples_leaf=4, min_samples_split=5, n_estimators=300;, score=(train=0.969, test=0.812) total time=   0.6s\n",
            "[CV 2/3] END max_depth=None, max_features=sqrt, min_samples_leaf=4, min_samples_split=5, n_estimators=300;, score=(train=0.938, test=0.750) total time=   0.4s\n",
            "[CV 3/3] END max_depth=None, max_features=sqrt, min_samples_leaf=4, min_samples_split=5, n_estimators=300;, score=(train=0.969, test=0.625) total time=   0.4s\n",
            "[CV 1/3] END max_depth=None, max_features=sqrt, min_samples_leaf=4, min_samples_split=10, n_estimators=100;, score=(train=0.938, test=0.812) total time=   0.1s\n",
            "[CV 2/3] END max_depth=None, max_features=sqrt, min_samples_leaf=4, min_samples_split=10, n_estimators=100;, score=(train=0.969, test=0.750) total time=   0.1s\n",
            "[CV 3/3] END max_depth=None, max_features=sqrt, min_samples_leaf=4, min_samples_split=10, n_estimators=100;, score=(train=0.938, test=0.625) total time=   0.1s\n",
            "[CV 1/3] END max_depth=None, max_features=sqrt, min_samples_leaf=4, min_samples_split=10, n_estimators=200;, score=(train=0.938, test=0.812) total time=   0.3s\n",
            "[CV 2/3] END max_depth=None, max_features=sqrt, min_samples_leaf=4, min_samples_split=10, n_estimators=200;, score=(train=0.875, test=0.750) total time=   0.3s\n",
            "[CV 3/3] END max_depth=None, max_features=sqrt, min_samples_leaf=4, min_samples_split=10, n_estimators=200;, score=(train=0.969, test=0.625) total time=   0.3s\n",
            "[CV 1/3] END max_depth=None, max_features=sqrt, min_samples_leaf=4, min_samples_split=10, n_estimators=300;, score=(train=0.938, test=0.812) total time=   0.4s\n",
            "[CV 2/3] END max_depth=None, max_features=sqrt, min_samples_leaf=4, min_samples_split=10, n_estimators=300;, score=(train=0.938, test=0.750) total time=   0.4s\n",
            "[CV 3/3] END max_depth=None, max_features=sqrt, min_samples_leaf=4, min_samples_split=10, n_estimators=300;, score=(train=0.938, test=0.625) total time=   0.4s\n",
            "[CV 1/3] END max_depth=20, max_features=sqrt, min_samples_leaf=1, min_samples_split=2, n_estimators=100;, score=(train=1.000, test=0.875) total time=   0.1s\n",
            "[CV 2/3] END max_depth=20, max_features=sqrt, min_samples_leaf=1, min_samples_split=2, n_estimators=100;, score=(train=1.000, test=0.750) total time=   0.1s\n",
            "[CV 3/3] END max_depth=20, max_features=sqrt, min_samples_leaf=1, min_samples_split=2, n_estimators=100;, score=(train=1.000, test=0.625) total time=   0.1s\n",
            "[CV 1/3] END max_depth=20, max_features=sqrt, min_samples_leaf=1, min_samples_split=2, n_estimators=200;, score=(train=1.000, test=0.875) total time=   0.3s\n",
            "[CV 2/3] END max_depth=20, max_features=sqrt, min_samples_leaf=1, min_samples_split=2, n_estimators=200;, score=(train=1.000, test=0.750) total time=   0.3s\n",
            "[CV 3/3] END max_depth=20, max_features=sqrt, min_samples_leaf=1, min_samples_split=2, n_estimators=200;, score=(train=1.000, test=0.625) total time=   0.3s\n",
            "[CV 1/3] END max_depth=20, max_features=sqrt, min_samples_leaf=1, min_samples_split=2, n_estimators=300;, score=(train=1.000, test=0.875) total time=   0.4s\n",
            "[CV 2/3] END max_depth=20, max_features=sqrt, min_samples_leaf=1, min_samples_split=2, n_estimators=300;, score=(train=1.000, test=0.750) total time=   0.4s\n",
            "[CV 3/3] END max_depth=20, max_features=sqrt, min_samples_leaf=1, min_samples_split=2, n_estimators=300;, score=(train=1.000, test=0.625) total time=   1.2s\n",
            "[CV 1/3] END max_depth=20, max_features=sqrt, min_samples_leaf=1, min_samples_split=5, n_estimators=100;, score=(train=1.000, test=0.875) total time=   0.2s\n",
            "[CV 2/3] END max_depth=20, max_features=sqrt, min_samples_leaf=1, min_samples_split=5, n_estimators=100;, score=(train=1.000, test=0.750) total time=   0.1s\n",
            "[CV 3/3] END max_depth=20, max_features=sqrt, min_samples_leaf=1, min_samples_split=5, n_estimators=100;, score=(train=1.000, test=0.625) total time=   0.1s\n",
            "[CV 1/3] END max_depth=20, max_features=sqrt, min_samples_leaf=1, min_samples_split=5, n_estimators=200;, score=(train=1.000, test=0.875) total time=   0.3s\n",
            "[CV 2/3] END max_depth=20, max_features=sqrt, min_samples_leaf=1, min_samples_split=5, n_estimators=200;, score=(train=1.000, test=0.750) total time=   0.3s\n",
            "[CV 3/3] END max_depth=20, max_features=sqrt, min_samples_leaf=1, min_samples_split=5, n_estimators=200;, score=(train=1.000, test=0.625) total time=   0.3s\n",
            "[CV 1/3] END max_depth=20, max_features=sqrt, min_samples_leaf=1, min_samples_split=5, n_estimators=300;, score=(train=1.000, test=0.812) total time=   0.4s\n",
            "[CV 2/3] END max_depth=20, max_features=sqrt, min_samples_leaf=1, min_samples_split=5, n_estimators=300;, score=(train=1.000, test=0.750) total time=   0.4s\n",
            "[CV 3/3] END max_depth=20, max_features=sqrt, min_samples_leaf=1, min_samples_split=5, n_estimators=300;, score=(train=1.000, test=0.625) total time=   0.4s\n",
            "[CV 1/3] END max_depth=20, max_features=sqrt, min_samples_leaf=1, min_samples_split=10, n_estimators=100;, score=(train=1.000, test=0.938) total time=   0.1s\n",
            "[CV 2/3] END max_depth=20, max_features=sqrt, min_samples_leaf=1, min_samples_split=10, n_estimators=100;, score=(train=1.000, test=0.750) total time=   0.1s\n",
            "[CV 3/3] END max_depth=20, max_features=sqrt, min_samples_leaf=1, min_samples_split=10, n_estimators=100;, score=(train=1.000, test=0.625) total time=   0.1s\n",
            "[CV 1/3] END max_depth=20, max_features=sqrt, min_samples_leaf=1, min_samples_split=10, n_estimators=200;, score=(train=1.000, test=0.875) total time=   0.3s\n",
            "[CV 2/3] END max_depth=20, max_features=sqrt, min_samples_leaf=1, min_samples_split=10, n_estimators=200;, score=(train=1.000, test=0.750) total time=   0.3s\n",
            "[CV 3/3] END max_depth=20, max_features=sqrt, min_samples_leaf=1, min_samples_split=10, n_estimators=200;, score=(train=1.000, test=0.625) total time=   0.4s\n",
            "[CV 1/3] END max_depth=20, max_features=sqrt, min_samples_leaf=1, min_samples_split=10, n_estimators=300;, score=(train=1.000, test=0.875) total time=   0.6s\n",
            "[CV 2/3] END max_depth=20, max_features=sqrt, min_samples_leaf=1, min_samples_split=10, n_estimators=300;, score=(train=1.000, test=0.750) total time=   0.6s\n",
            "[CV 3/3] END max_depth=20, max_features=sqrt, min_samples_leaf=1, min_samples_split=10, n_estimators=300;, score=(train=1.000, test=0.625) total time=   0.6s\n",
            "[CV 1/3] END max_depth=20, max_features=sqrt, min_samples_leaf=2, min_samples_split=2, n_estimators=100;, score=(train=1.000, test=0.875) total time=   0.2s\n",
            "[CV 2/3] END max_depth=20, max_features=sqrt, min_samples_leaf=2, min_samples_split=2, n_estimators=100;, score=(train=1.000, test=0.750) total time=   0.2s\n",
            "[CV 3/3] END max_depth=20, max_features=sqrt, min_samples_leaf=2, min_samples_split=2, n_estimators=100;, score=(train=1.000, test=0.625) total time=   0.2s\n",
            "[CV 1/3] END max_depth=20, max_features=sqrt, min_samples_leaf=2, min_samples_split=2, n_estimators=200;, score=(train=1.000, test=0.812) total time=   0.4s\n",
            "[CV 2/3] END max_depth=20, max_features=sqrt, min_samples_leaf=2, min_samples_split=2, n_estimators=200;, score=(train=1.000, test=0.750) total time=   0.3s\n",
            "[CV 3/3] END max_depth=20, max_features=sqrt, min_samples_leaf=2, min_samples_split=2, n_estimators=200;, score=(train=1.000, test=0.625) total time=   0.3s\n",
            "[CV 1/3] END max_depth=20, max_features=sqrt, min_samples_leaf=2, min_samples_split=2, n_estimators=300;, score=(train=1.000, test=0.875) total time=   0.4s\n",
            "[CV 2/3] END max_depth=20, max_features=sqrt, min_samples_leaf=2, min_samples_split=2, n_estimators=300;, score=(train=1.000, test=0.750) total time=   0.4s\n",
            "[CV 3/3] END max_depth=20, max_features=sqrt, min_samples_leaf=2, min_samples_split=2, n_estimators=300;, score=(train=1.000, test=0.625) total time=   0.4s\n",
            "[CV 1/3] END max_depth=20, max_features=sqrt, min_samples_leaf=2, min_samples_split=5, n_estimators=100;, score=(train=1.000, test=0.875) total time=   0.1s\n",
            "[CV 2/3] END max_depth=20, max_features=sqrt, min_samples_leaf=2, min_samples_split=5, n_estimators=100;, score=(train=1.000, test=0.750) total time=   0.1s\n",
            "[CV 3/3] END max_depth=20, max_features=sqrt, min_samples_leaf=2, min_samples_split=5, n_estimators=100;, score=(train=1.000, test=0.625) total time=   0.1s\n",
            "[CV 1/3] END max_depth=20, max_features=sqrt, min_samples_leaf=2, min_samples_split=5, n_estimators=200;, score=(train=1.000, test=0.812) total time=   0.3s\n",
            "[CV 2/3] END max_depth=20, max_features=sqrt, min_samples_leaf=2, min_samples_split=5, n_estimators=200;, score=(train=1.000, test=0.750) total time=   0.3s\n",
            "[CV 3/3] END max_depth=20, max_features=sqrt, min_samples_leaf=2, min_samples_split=5, n_estimators=200;, score=(train=1.000, test=0.625) total time=   0.3s\n",
            "[CV 1/3] END max_depth=20, max_features=sqrt, min_samples_leaf=2, min_samples_split=5, n_estimators=300;, score=(train=1.000, test=0.812) total time=   0.4s\n",
            "[CV 2/3] END max_depth=20, max_features=sqrt, min_samples_leaf=2, min_samples_split=5, n_estimators=300;, score=(train=1.000, test=0.750) total time=   0.4s\n",
            "[CV 3/3] END max_depth=20, max_features=sqrt, min_samples_leaf=2, min_samples_split=5, n_estimators=300;, score=(train=1.000, test=0.625) total time=   0.4s\n",
            "[CV 1/3] END max_depth=20, max_features=sqrt, min_samples_leaf=2, min_samples_split=10, n_estimators=100;, score=(train=0.969, test=0.812) total time=   0.1s\n",
            "[CV 2/3] END max_depth=20, max_features=sqrt, min_samples_leaf=2, min_samples_split=10, n_estimators=100;, score=(train=1.000, test=0.750) total time=   0.1s\n",
            "[CV 3/3] END max_depth=20, max_features=sqrt, min_samples_leaf=2, min_samples_split=10, n_estimators=100;, score=(train=0.969, test=0.625) total time=   0.1s\n",
            "[CV 1/3] END max_depth=20, max_features=sqrt, min_samples_leaf=2, min_samples_split=10, n_estimators=200;, score=(train=1.000, test=0.812) total time=   0.3s\n",
            "[CV 2/3] END max_depth=20, max_features=sqrt, min_samples_leaf=2, min_samples_split=10, n_estimators=200;, score=(train=1.000, test=0.750) total time=   0.2s\n",
            "[CV 3/3] END max_depth=20, max_features=sqrt, min_samples_leaf=2, min_samples_split=10, n_estimators=200;, score=(train=1.000, test=0.625) total time=   0.3s\n",
            "[CV 1/3] END max_depth=20, max_features=sqrt, min_samples_leaf=2, min_samples_split=10, n_estimators=300;, score=(train=1.000, test=0.875) total time=   0.4s\n",
            "[CV 2/3] END max_depth=20, max_features=sqrt, min_samples_leaf=2, min_samples_split=10, n_estimators=300;, score=(train=0.969, test=0.750) total time=   0.4s\n",
            "[CV 3/3] END max_depth=20, max_features=sqrt, min_samples_leaf=2, min_samples_split=10, n_estimators=300;, score=(train=1.000, test=0.625) total time=   0.4s\n",
            "[CV 1/3] END max_depth=20, max_features=sqrt, min_samples_leaf=4, min_samples_split=2, n_estimators=100;, score=(train=1.000, test=0.812) total time=   0.1s\n",
            "[CV 2/3] END max_depth=20, max_features=sqrt, min_samples_leaf=4, min_samples_split=2, n_estimators=100;, score=(train=0.969, test=0.750) total time=   0.1s\n",
            "[CV 3/3] END max_depth=20, max_features=sqrt, min_samples_leaf=4, min_samples_split=2, n_estimators=100;, score=(train=0.969, test=0.625) total time=   0.1s\n",
            "[CV 1/3] END max_depth=20, max_features=sqrt, min_samples_leaf=4, min_samples_split=2, n_estimators=200;, score=(train=0.969, test=0.812) total time=   0.2s\n",
            "[CV 2/3] END max_depth=20, max_features=sqrt, min_samples_leaf=4, min_samples_split=2, n_estimators=200;, score=(train=0.938, test=0.750) total time=   0.3s\n",
            "[CV 3/3] END max_depth=20, max_features=sqrt, min_samples_leaf=4, min_samples_split=2, n_estimators=200;, score=(train=0.969, test=0.625) total time=   0.2s\n",
            "[CV 1/3] END max_depth=20, max_features=sqrt, min_samples_leaf=4, min_samples_split=2, n_estimators=300;, score=(train=0.969, test=0.812) total time=   0.4s\n",
            "[CV 2/3] END max_depth=20, max_features=sqrt, min_samples_leaf=4, min_samples_split=2, n_estimators=300;, score=(train=0.938, test=0.750) total time=   0.4s\n",
            "[CV 3/3] END max_depth=20, max_features=sqrt, min_samples_leaf=4, min_samples_split=2, n_estimators=300;, score=(train=0.969, test=0.625) total time=   0.4s\n",
            "[CV 1/3] END max_depth=20, max_features=sqrt, min_samples_leaf=4, min_samples_split=5, n_estimators=100;, score=(train=0.906, test=0.812) total time=   0.1s\n",
            "[CV 2/3] END max_depth=20, max_features=sqrt, min_samples_leaf=4, min_samples_split=5, n_estimators=100;, score=(train=0.938, test=0.750) total time=   0.1s\n",
            "[CV 3/3] END max_depth=20, max_features=sqrt, min_samples_leaf=4, min_samples_split=5, n_estimators=100;, score=(train=0.938, test=0.625) total time=   0.1s\n",
            "[CV 1/3] END max_depth=20, max_features=sqrt, min_samples_leaf=4, min_samples_split=5, n_estimators=200;, score=(train=0.938, test=0.812) total time=   0.3s\n",
            "[CV 2/3] END max_depth=20, max_features=sqrt, min_samples_leaf=4, min_samples_split=5, n_estimators=200;, score=(train=0.938, test=0.750) total time=   0.3s\n",
            "[CV 3/3] END max_depth=20, max_features=sqrt, min_samples_leaf=4, min_samples_split=5, n_estimators=200;, score=(train=0.969, test=0.625) total time=   0.4s\n",
            "[CV 1/3] END max_depth=20, max_features=sqrt, min_samples_leaf=4, min_samples_split=5, n_estimators=300;, score=(train=0.969, test=0.812) total time=   0.6s\n",
            "[CV 2/3] END max_depth=20, max_features=sqrt, min_samples_leaf=4, min_samples_split=5, n_estimators=300;, score=(train=0.969, test=0.750) total time=   0.6s\n",
            "[CV 3/3] END max_depth=20, max_features=sqrt, min_samples_leaf=4, min_samples_split=5, n_estimators=300;, score=(train=0.969, test=0.625) total time=   0.6s\n",
            "[CV 1/3] END max_depth=20, max_features=sqrt, min_samples_leaf=4, min_samples_split=10, n_estimators=100;, score=(train=0.875, test=0.812) total time=   0.2s\n",
            "[CV 2/3] END max_depth=20, max_features=sqrt, min_samples_leaf=4, min_samples_split=10, n_estimators=100;, score=(train=0.875, test=0.750) total time=   0.2s\n",
            "[CV 3/3] END max_depth=20, max_features=sqrt, min_samples_leaf=4, min_samples_split=10, n_estimators=100;, score=(train=0.938, test=0.625) total time=   0.2s\n",
            "[CV 1/3] END max_depth=20, max_features=sqrt, min_samples_leaf=4, min_samples_split=10, n_estimators=200;, score=(train=0.938, test=0.812) total time=   0.4s\n",
            "[CV 2/3] END max_depth=20, max_features=sqrt, min_samples_leaf=4, min_samples_split=10, n_estimators=200;, score=(train=0.906, test=0.750) total time=   0.3s\n",
            "[CV 3/3] END max_depth=20, max_features=sqrt, min_samples_leaf=4, min_samples_split=10, n_estimators=200;, score=(train=0.938, test=0.625) total time=   0.3s\n",
            "[CV 1/3] END max_depth=20, max_features=sqrt, min_samples_leaf=4, min_samples_split=10, n_estimators=300;, score=(train=0.969, test=0.812) total time=   0.4s\n",
            "[CV 2/3] END max_depth=20, max_features=sqrt, min_samples_leaf=4, min_samples_split=10, n_estimators=300;, score=(train=0.906, test=0.750) total time=   0.4s\n",
            "[CV 3/3] END max_depth=20, max_features=sqrt, min_samples_leaf=4, min_samples_split=10, n_estimators=300;, score=(train=0.938, test=0.625) total time=   0.4s\n",
            "[CV 1/3] END max_depth=30, max_features=sqrt, min_samples_leaf=1, min_samples_split=2, n_estimators=100;, score=(train=1.000, test=0.875) total time=   0.1s\n",
            "[CV 2/3] END max_depth=30, max_features=sqrt, min_samples_leaf=1, min_samples_split=2, n_estimators=100;, score=(train=1.000, test=0.750) total time=   0.1s\n",
            "[CV 3/3] END max_depth=30, max_features=sqrt, min_samples_leaf=1, min_samples_split=2, n_estimators=100;, score=(train=1.000, test=0.625) total time=   0.1s\n",
            "[CV 1/3] END max_depth=30, max_features=sqrt, min_samples_leaf=1, min_samples_split=2, n_estimators=200;, score=(train=1.000, test=0.812) total time=   0.3s\n",
            "[CV 2/3] END max_depth=30, max_features=sqrt, min_samples_leaf=1, min_samples_split=2, n_estimators=200;, score=(train=1.000, test=0.750) total time=   0.3s\n",
            "[CV 3/3] END max_depth=30, max_features=sqrt, min_samples_leaf=1, min_samples_split=2, n_estimators=200;, score=(train=1.000, test=0.625) total time=   0.3s\n",
            "[CV 1/3] END max_depth=30, max_features=sqrt, min_samples_leaf=1, min_samples_split=2, n_estimators=300;, score=(train=1.000, test=0.875) total time=   0.4s\n",
            "[CV 2/3] END max_depth=30, max_features=sqrt, min_samples_leaf=1, min_samples_split=2, n_estimators=300;, score=(train=1.000, test=0.750) total time=   0.4s\n",
            "[CV 3/3] END max_depth=30, max_features=sqrt, min_samples_leaf=1, min_samples_split=2, n_estimators=300;, score=(train=1.000, test=0.625) total time=   0.4s\n",
            "[CV 1/3] END max_depth=30, max_features=sqrt, min_samples_leaf=1, min_samples_split=5, n_estimators=100;, score=(train=1.000, test=0.812) total time=   0.1s\n",
            "[CV 2/3] END max_depth=30, max_features=sqrt, min_samples_leaf=1, min_samples_split=5, n_estimators=100;, score=(train=1.000, test=0.750) total time=   0.1s\n",
            "[CV 3/3] END max_depth=30, max_features=sqrt, min_samples_leaf=1, min_samples_split=5, n_estimators=100;, score=(train=1.000, test=0.625) total time=   0.1s\n",
            "[CV 1/3] END max_depth=30, max_features=sqrt, min_samples_leaf=1, min_samples_split=5, n_estimators=200;, score=(train=1.000, test=0.875) total time=   0.3s\n",
            "[CV 2/3] END max_depth=30, max_features=sqrt, min_samples_leaf=1, min_samples_split=5, n_estimators=200;, score=(train=1.000, test=0.750) total time=   0.3s\n",
            "[CV 3/3] END max_depth=30, max_features=sqrt, min_samples_leaf=1, min_samples_split=5, n_estimators=200;, score=(train=1.000, test=0.625) total time=   0.3s\n",
            "[CV 1/3] END max_depth=30, max_features=sqrt, min_samples_leaf=1, min_samples_split=5, n_estimators=300;, score=(train=1.000, test=0.875) total time=   0.4s\n",
            "[CV 2/3] END max_depth=30, max_features=sqrt, min_samples_leaf=1, min_samples_split=5, n_estimators=300;, score=(train=1.000, test=0.750) total time=   0.4s\n",
            "[CV 3/3] END max_depth=30, max_features=sqrt, min_samples_leaf=1, min_samples_split=5, n_estimators=300;, score=(train=1.000, test=0.625) total time=   0.4s\n",
            "[CV 1/3] END max_depth=30, max_features=sqrt, min_samples_leaf=1, min_samples_split=10, n_estimators=100;, score=(train=1.000, test=0.812) total time=   0.1s\n",
            "[CV 2/3] END max_depth=30, max_features=sqrt, min_samples_leaf=1, min_samples_split=10, n_estimators=100;, score=(train=1.000, test=0.750) total time=   0.1s\n",
            "[CV 3/3] END max_depth=30, max_features=sqrt, min_samples_leaf=1, min_samples_split=10, n_estimators=100;, score=(train=1.000, test=0.625) total time=   0.1s\n",
            "[CV 1/3] END max_depth=30, max_features=sqrt, min_samples_leaf=1, min_samples_split=10, n_estimators=200;, score=(train=1.000, test=0.875) total time=   0.3s\n",
            "[CV 2/3] END max_depth=30, max_features=sqrt, min_samples_leaf=1, min_samples_split=10, n_estimators=200;, score=(train=1.000, test=0.750) total time=   0.3s\n",
            "[CV 3/3] END max_depth=30, max_features=sqrt, min_samples_leaf=1, min_samples_split=10, n_estimators=200;, score=(train=1.000, test=0.625) total time=   0.3s\n",
            "[CV 1/3] END max_depth=30, max_features=sqrt, min_samples_leaf=1, min_samples_split=10, n_estimators=300;, score=(train=1.000, test=0.875) total time=   0.4s\n",
            "[CV 2/3] END max_depth=30, max_features=sqrt, min_samples_leaf=1, min_samples_split=10, n_estimators=300;, score=(train=1.000, test=0.750) total time=   0.4s\n",
            "[CV 3/3] END max_depth=30, max_features=sqrt, min_samples_leaf=1, min_samples_split=10, n_estimators=300;, score=(train=1.000, test=0.625) total time=   0.4s\n",
            "[CV 1/3] END max_depth=30, max_features=sqrt, min_samples_leaf=2, min_samples_split=2, n_estimators=100;, score=(train=1.000, test=0.875) total time=   0.1s\n",
            "[CV 2/3] END max_depth=30, max_features=sqrt, min_samples_leaf=2, min_samples_split=2, n_estimators=100;, score=(train=1.000, test=0.750) total time=   0.1s\n",
            "[CV 3/3] END max_depth=30, max_features=sqrt, min_samples_leaf=2, min_samples_split=2, n_estimators=100;, score=(train=1.000, test=0.625) total time=   0.1s\n",
            "[CV 1/3] END max_depth=30, max_features=sqrt, min_samples_leaf=2, min_samples_split=2, n_estimators=200;, score=(train=1.000, test=0.812) total time=   0.3s\n",
            "[CV 2/3] END max_depth=30, max_features=sqrt, min_samples_leaf=2, min_samples_split=2, n_estimators=200;, score=(train=1.000, test=0.750) total time=   0.4s\n",
            "[CV 3/3] END max_depth=30, max_features=sqrt, min_samples_leaf=2, min_samples_split=2, n_estimators=200;, score=(train=1.000, test=0.625) total time=   0.4s\n",
            "[CV 1/3] END max_depth=30, max_features=sqrt, min_samples_leaf=2, min_samples_split=2, n_estimators=300;, score=(train=1.000, test=0.812) total time=   0.6s\n",
            "[CV 2/3] END max_depth=30, max_features=sqrt, min_samples_leaf=2, min_samples_split=2, n_estimators=300;, score=(train=1.000, test=0.750) total time=   0.6s\n",
            "[CV 3/3] END max_depth=30, max_features=sqrt, min_samples_leaf=2, min_samples_split=2, n_estimators=300;, score=(train=1.000, test=0.625) total time=   0.6s\n",
            "[CV 1/3] END max_depth=30, max_features=sqrt, min_samples_leaf=2, min_samples_split=5, n_estimators=100;, score=(train=1.000, test=0.812) total time=   0.2s\n",
            "[CV 2/3] END max_depth=30, max_features=sqrt, min_samples_leaf=2, min_samples_split=5, n_estimators=100;, score=(train=1.000, test=0.750) total time=   0.2s\n",
            "[CV 3/3] END max_depth=30, max_features=sqrt, min_samples_leaf=2, min_samples_split=5, n_estimators=100;, score=(train=1.000, test=0.625) total time=   0.2s\n",
            "[CV 1/3] END max_depth=30, max_features=sqrt, min_samples_leaf=2, min_samples_split=5, n_estimators=200;, score=(train=1.000, test=0.812) total time=   0.3s\n",
            "[CV 2/3] END max_depth=30, max_features=sqrt, min_samples_leaf=2, min_samples_split=5, n_estimators=200;, score=(train=1.000, test=0.750) total time=   0.3s\n",
            "[CV 3/3] END max_depth=30, max_features=sqrt, min_samples_leaf=2, min_samples_split=5, n_estimators=200;, score=(train=1.000, test=0.625) total time=   0.3s\n",
            "[CV 1/3] END max_depth=30, max_features=sqrt, min_samples_leaf=2, min_samples_split=5, n_estimators=300;, score=(train=1.000, test=0.875) total time=   0.4s\n",
            "[CV 2/3] END max_depth=30, max_features=sqrt, min_samples_leaf=2, min_samples_split=5, n_estimators=300;, score=(train=1.000, test=0.750) total time=   0.4s\n",
            "[CV 3/3] END max_depth=30, max_features=sqrt, min_samples_leaf=2, min_samples_split=5, n_estimators=300;, score=(train=1.000, test=0.625) total time=   0.4s\n",
            "[CV 1/3] END max_depth=30, max_features=sqrt, min_samples_leaf=2, min_samples_split=10, n_estimators=100;, score=(train=0.969, test=0.812) total time=   0.1s\n",
            "[CV 2/3] END max_depth=30, max_features=sqrt, min_samples_leaf=2, min_samples_split=10, n_estimators=100;, score=(train=0.969, test=0.750) total time=   0.1s\n",
            "[CV 3/3] END max_depth=30, max_features=sqrt, min_samples_leaf=2, min_samples_split=10, n_estimators=100;, score=(train=1.000, test=0.625) total time=   0.1s\n",
            "[CV 1/3] END max_depth=30, max_features=sqrt, min_samples_leaf=2, min_samples_split=10, n_estimators=200;, score=(train=1.000, test=0.812) total time=   0.3s\n",
            "[CV 2/3] END max_depth=30, max_features=sqrt, min_samples_leaf=2, min_samples_split=10, n_estimators=200;, score=(train=0.969, test=0.750) total time=   0.3s\n",
            "[CV 3/3] END max_depth=30, max_features=sqrt, min_samples_leaf=2, min_samples_split=10, n_estimators=200;, score=(train=1.000, test=0.625) total time=   0.3s\n",
            "[CV 1/3] END max_depth=30, max_features=sqrt, min_samples_leaf=2, min_samples_split=10, n_estimators=300;, score=(train=1.000, test=0.812) total time=   0.4s\n",
            "[CV 2/3] END max_depth=30, max_features=sqrt, min_samples_leaf=2, min_samples_split=10, n_estimators=300;, score=(train=0.969, test=0.750) total time=   0.4s\n",
            "[CV 3/3] END max_depth=30, max_features=sqrt, min_samples_leaf=2, min_samples_split=10, n_estimators=300;, score=(train=1.000, test=0.625) total time=   0.4s\n",
            "[CV 1/3] END max_depth=30, max_features=sqrt, min_samples_leaf=4, min_samples_split=2, n_estimators=100;, score=(train=1.000, test=0.812) total time=   0.1s\n",
            "[CV 2/3] END max_depth=30, max_features=sqrt, min_samples_leaf=4, min_samples_split=2, n_estimators=100;, score=(train=0.938, test=0.750) total time=   0.1s\n",
            "[CV 3/3] END max_depth=30, max_features=sqrt, min_samples_leaf=4, min_samples_split=2, n_estimators=100;, score=(train=0.938, test=0.625) total time=   0.1s\n",
            "[CV 1/3] END max_depth=30, max_features=sqrt, min_samples_leaf=4, min_samples_split=2, n_estimators=200;, score=(train=0.969, test=0.812) total time=   0.3s\n",
            "[CV 2/3] END max_depth=30, max_features=sqrt, min_samples_leaf=4, min_samples_split=2, n_estimators=200;, score=(train=0.906, test=0.750) total time=   0.2s\n",
            "[CV 3/3] END max_depth=30, max_features=sqrt, min_samples_leaf=4, min_samples_split=2, n_estimators=200;, score=(train=0.938, test=0.625) total time=   0.3s\n",
            "[CV 1/3] END max_depth=30, max_features=sqrt, min_samples_leaf=4, min_samples_split=2, n_estimators=300;, score=(train=0.938, test=0.812) total time=   0.4s\n",
            "[CV 2/3] END max_depth=30, max_features=sqrt, min_samples_leaf=4, min_samples_split=2, n_estimators=300;, score=(train=0.969, test=0.750) total time=   0.4s\n",
            "[CV 3/3] END max_depth=30, max_features=sqrt, min_samples_leaf=4, min_samples_split=2, n_estimators=300;, score=(train=0.969, test=0.625) total time=   0.4s\n",
            "[CV 1/3] END max_depth=30, max_features=sqrt, min_samples_leaf=4, min_samples_split=5, n_estimators=100;, score=(train=0.969, test=0.875) total time=   0.1s\n",
            "[CV 2/3] END max_depth=30, max_features=sqrt, min_samples_leaf=4, min_samples_split=5, n_estimators=100;, score=(train=0.969, test=0.750) total time=   0.1s\n",
            "[CV 3/3] END max_depth=30, max_features=sqrt, min_samples_leaf=4, min_samples_split=5, n_estimators=100;, score=(train=0.969, test=0.625) total time=   0.1s\n",
            "[CV 1/3] END max_depth=30, max_features=sqrt, min_samples_leaf=4, min_samples_split=5, n_estimators=200;, score=(train=0.969, test=0.812) total time=   0.3s\n",
            "[CV 2/3] END max_depth=30, max_features=sqrt, min_samples_leaf=4, min_samples_split=5, n_estimators=200;, score=(train=0.938, test=0.750) total time=   0.3s\n",
            "[CV 3/3] END max_depth=30, max_features=sqrt, min_samples_leaf=4, min_samples_split=5, n_estimators=200;, score=(train=0.969, test=0.625) total time=   0.3s\n",
            "[CV 1/3] END max_depth=30, max_features=sqrt, min_samples_leaf=4, min_samples_split=5, n_estimators=300;, score=(train=0.938, test=0.812) total time=   0.4s\n",
            "[CV 2/3] END max_depth=30, max_features=sqrt, min_samples_leaf=4, min_samples_split=5, n_estimators=300;, score=(train=0.938, test=0.750) total time=   0.4s\n",
            "[CV 3/3] END max_depth=30, max_features=sqrt, min_samples_leaf=4, min_samples_split=5, n_estimators=300;, score=(train=0.938, test=0.625) total time=   0.4s\n",
            "[CV 1/3] END max_depth=30, max_features=sqrt, min_samples_leaf=4, min_samples_split=10, n_estimators=100;, score=(train=1.000, test=0.812) total time=   0.1s\n",
            "[CV 2/3] END max_depth=30, max_features=sqrt, min_samples_leaf=4, min_samples_split=10, n_estimators=100;, score=(train=0.875, test=0.750) total time=   0.1s\n",
            "[CV 3/3] END max_depth=30, max_features=sqrt, min_samples_leaf=4, min_samples_split=10, n_estimators=100;, score=(train=0.906, test=0.625) total time=   0.1s\n",
            "[CV 1/3] END max_depth=30, max_features=sqrt, min_samples_leaf=4, min_samples_split=10, n_estimators=200;, score=(train=0.969, test=0.812) total time=   0.3s\n",
            "[CV 2/3] END max_depth=30, max_features=sqrt, min_samples_leaf=4, min_samples_split=10, n_estimators=200;, score=(train=0.938, test=0.750) total time=   0.4s\n",
            "[CV 3/3] END max_depth=30, max_features=sqrt, min_samples_leaf=4, min_samples_split=10, n_estimators=200;, score=(train=0.938, test=0.625) total time=   0.4s\n",
            "[CV 1/3] END max_depth=30, max_features=sqrt, min_samples_leaf=4, min_samples_split=10, n_estimators=300;, score=(train=0.906, test=0.812) total time=   0.6s\n",
            "[CV 2/3] END max_depth=30, max_features=sqrt, min_samples_leaf=4, min_samples_split=10, n_estimators=300;, score=(train=0.844, test=0.750) total time=   0.6s\n",
            "[CV 3/3] END max_depth=30, max_features=sqrt, min_samples_leaf=4, min_samples_split=10, n_estimators=300;, score=(train=0.969, test=0.625) total time=   0.6s\n",
            "----------\n",
            "iter: 1\n",
            "n_candidates: 27\n",
            "n_resources: 147\n",
            "Fitting 3 folds for each of 27 candidates, totalling 81 fits\n",
            "[CV 1/3] END max_depth=None, max_features=sqrt, min_samples_leaf=1, min_samples_split=10, n_estimators=300;, score=(train=1.000, test=0.878) total time=   0.8s\n",
            "[CV 2/3] END max_depth=None, max_features=sqrt, min_samples_leaf=1, min_samples_split=10, n_estimators=300;, score=(train=0.990, test=0.812) total time=   0.6s\n",
            "[CV 3/3] END max_depth=None, max_features=sqrt, min_samples_leaf=1, min_samples_split=10, n_estimators=300;, score=(train=1.000, test=0.854) total time=   0.6s\n",
            "[CV 1/3] END max_depth=None, max_features=sqrt, min_samples_leaf=1, min_samples_split=10, n_estimators=100;, score=(train=1.000, test=0.878) total time=   0.2s\n",
            "[CV 2/3] END max_depth=None, max_features=sqrt, min_samples_leaf=1, min_samples_split=10, n_estimators=100;, score=(train=0.990, test=0.833) total time=   0.2s\n",
            "[CV 3/3] END max_depth=None, max_features=sqrt, min_samples_leaf=1, min_samples_split=10, n_estimators=100;, score=(train=1.000, test=0.833) total time=   0.2s\n",
            "[CV 1/3] END max_depth=None, max_features=sqrt, min_samples_leaf=1, min_samples_split=5, n_estimators=300;, score=(train=1.000, test=0.857) total time=   0.6s\n",
            "[CV 2/3] END max_depth=None, max_features=sqrt, min_samples_leaf=1, min_samples_split=5, n_estimators=300;, score=(train=1.000, test=0.812) total time=   0.6s\n",
            "[CV 3/3] END max_depth=None, max_features=sqrt, min_samples_leaf=1, min_samples_split=5, n_estimators=300;, score=(train=1.000, test=0.854) total time=   0.5s\n",
            "[CV 1/3] END max_depth=30, max_features=sqrt, min_samples_leaf=2, min_samples_split=5, n_estimators=300;, score=(train=1.000, test=0.878) total time=   0.5s\n",
            "[CV 2/3] END max_depth=30, max_features=sqrt, min_samples_leaf=2, min_samples_split=5, n_estimators=300;, score=(train=1.000, test=0.812) total time=   0.5s\n",
            "[CV 3/3] END max_depth=30, max_features=sqrt, min_samples_leaf=2, min_samples_split=5, n_estimators=300;, score=(train=1.000, test=0.854) total time=   0.5s\n",
            "[CV 1/3] END max_depth=None, max_features=sqrt, min_samples_leaf=1, min_samples_split=5, n_estimators=200;, score=(train=1.000, test=0.837) total time=   0.4s\n",
            "[CV 2/3] END max_depth=None, max_features=sqrt, min_samples_leaf=1, min_samples_split=5, n_estimators=200;, score=(train=1.000, test=0.812) total time=   0.4s\n",
            "[CV 3/3] END max_depth=None, max_features=sqrt, min_samples_leaf=1, min_samples_split=5, n_estimators=200;, score=(train=1.000, test=0.854) total time=   0.4s\n",
            "[CV 1/3] END max_depth=30, max_features=sqrt, min_samples_leaf=4, min_samples_split=5, n_estimators=100;, score=(train=1.000, test=0.878) total time=   0.2s\n",
            "[CV 2/3] END max_depth=30, max_features=sqrt, min_samples_leaf=4, min_samples_split=5, n_estimators=100;, score=(train=0.959, test=0.812) total time=   0.2s\n",
            "[CV 3/3] END max_depth=30, max_features=sqrt, min_samples_leaf=4, min_samples_split=5, n_estimators=100;, score=(train=0.990, test=0.854) total time=   0.2s\n",
            "[CV 1/3] END max_depth=None, max_features=sqrt, min_samples_leaf=1, min_samples_split=2, n_estimators=200;, score=(train=1.000, test=0.878) total time=   0.4s\n",
            "[CV 2/3] END max_depth=None, max_features=sqrt, min_samples_leaf=1, min_samples_split=2, n_estimators=200;, score=(train=1.000, test=0.833) total time=   0.4s\n",
            "[CV 3/3] END max_depth=None, max_features=sqrt, min_samples_leaf=1, min_samples_split=2, n_estimators=200;, score=(train=1.000, test=0.854) total time=   0.4s\n",
            "[CV 1/3] END max_depth=30, max_features=sqrt, min_samples_leaf=2, min_samples_split=2, n_estimators=100;, score=(train=1.000, test=0.878) total time=   0.2s\n",
            "[CV 2/3] END max_depth=30, max_features=sqrt, min_samples_leaf=2, min_samples_split=2, n_estimators=100;, score=(train=1.000, test=0.812) total time=   0.2s\n",
            "[CV 3/3] END max_depth=30, max_features=sqrt, min_samples_leaf=2, min_samples_split=2, n_estimators=100;, score=(train=1.000, test=0.854) total time=   0.2s\n",
            "[CV 1/3] END max_depth=30, max_features=sqrt, min_samples_leaf=1, min_samples_split=2, n_estimators=300;, score=(train=1.000, test=0.878) total time=   0.5s\n",
            "[CV 2/3] END max_depth=30, max_features=sqrt, min_samples_leaf=1, min_samples_split=2, n_estimators=300;, score=(train=1.000, test=0.812) total time=   0.5s\n",
            "[CV 3/3] END max_depth=30, max_features=sqrt, min_samples_leaf=1, min_samples_split=2, n_estimators=300;, score=(train=1.000, test=0.833) total time=   0.9s\n",
            "[CV 1/3] END max_depth=30, max_features=sqrt, min_samples_leaf=1, min_samples_split=10, n_estimators=200;, score=(train=1.000, test=0.857) total time=   0.6s\n",
            "[CV 2/3] END max_depth=30, max_features=sqrt, min_samples_leaf=1, min_samples_split=10, n_estimators=200;, score=(train=1.000, test=0.812) total time=   0.6s\n",
            "[CV 3/3] END max_depth=30, max_features=sqrt, min_samples_leaf=1, min_samples_split=10, n_estimators=200;, score=(train=1.000, test=0.854) total time=   0.6s\n",
            "[CV 1/3] END max_depth=20, max_features=sqrt, min_samples_leaf=1, min_samples_split=10, n_estimators=200;, score=(train=1.000, test=0.857) total time=   0.6s\n",
            "[CV 2/3] END max_depth=20, max_features=sqrt, min_samples_leaf=1, min_samples_split=10, n_estimators=200;, score=(train=0.990, test=0.812) total time=   0.5s\n",
            "[CV 3/3] END max_depth=20, max_features=sqrt, min_samples_leaf=1, min_samples_split=10, n_estimators=200;, score=(train=1.000, test=0.854) total time=   0.4s\n",
            "[CV 1/3] END max_depth=20, max_features=sqrt, min_samples_leaf=1, min_samples_split=10, n_estimators=300;, score=(train=1.000, test=0.878) total time=   0.5s\n",
            "[CV 2/3] END max_depth=20, max_features=sqrt, min_samples_leaf=1, min_samples_split=10, n_estimators=300;, score=(train=1.000, test=0.812) total time=   0.5s\n",
            "[CV 3/3] END max_depth=20, max_features=sqrt, min_samples_leaf=1, min_samples_split=10, n_estimators=300;, score=(train=1.000, test=0.833) total time=   0.6s\n",
            "[CV 1/3] END max_depth=20, max_features=sqrt, min_samples_leaf=2, min_samples_split=2, n_estimators=100;, score=(train=1.000, test=0.857) total time=   0.2s\n",
            "[CV 2/3] END max_depth=20, max_features=sqrt, min_samples_leaf=2, min_samples_split=2, n_estimators=100;, score=(train=1.000, test=0.833) total time=   0.2s\n",
            "[CV 3/3] END max_depth=20, max_features=sqrt, min_samples_leaf=2, min_samples_split=2, n_estimators=100;, score=(train=1.000, test=0.833) total time=   0.2s\n",
            "[CV 1/3] END max_depth=20, max_features=sqrt, min_samples_leaf=1, min_samples_split=5, n_estimators=100;, score=(train=1.000, test=0.878) total time=   0.2s\n",
            "[CV 2/3] END max_depth=20, max_features=sqrt, min_samples_leaf=1, min_samples_split=5, n_estimators=100;, score=(train=1.000, test=0.812) total time=   0.2s\n",
            "[CV 3/3] END max_depth=20, max_features=sqrt, min_samples_leaf=1, min_samples_split=5, n_estimators=100;, score=(train=1.000, test=0.854) total time=   0.2s\n",
            "[CV 1/3] END max_depth=20, max_features=sqrt, min_samples_leaf=2, min_samples_split=2, n_estimators=300;, score=(train=1.000, test=0.857) total time=   1.7s\n",
            "[CV 2/3] END max_depth=20, max_features=sqrt, min_samples_leaf=2, min_samples_split=2, n_estimators=300;, score=(train=1.000, test=0.812) total time=   0.5s\n",
            "[CV 3/3] END max_depth=20, max_features=sqrt, min_samples_leaf=2, min_samples_split=2, n_estimators=300;, score=(train=1.000, test=0.854) total time=   0.5s\n",
            "[CV 1/3] END max_depth=20, max_features=sqrt, min_samples_leaf=2, min_samples_split=5, n_estimators=100;, score=(train=1.000, test=0.878) total time=   0.2s\n",
            "[CV 2/3] END max_depth=20, max_features=sqrt, min_samples_leaf=2, min_samples_split=5, n_estimators=100;, score=(train=1.000, test=0.812) total time=   0.2s\n",
            "[CV 3/3] END max_depth=20, max_features=sqrt, min_samples_leaf=2, min_samples_split=5, n_estimators=100;, score=(train=1.000, test=0.854) total time=   0.2s\n",
            "[CV 1/3] END max_depth=20, max_features=sqrt, min_samples_leaf=1, min_samples_split=2, n_estimators=300;, score=(train=1.000, test=0.878) total time=   0.6s\n",
            "[CV 2/3] END max_depth=20, max_features=sqrt, min_samples_leaf=1, min_samples_split=2, n_estimators=300;, score=(train=1.000, test=0.812) total time=   0.5s\n",
            "[CV 3/3] END max_depth=20, max_features=sqrt, min_samples_leaf=1, min_samples_split=2, n_estimators=300;, score=(train=1.000, test=0.854) total time=   0.5s\n",
            "[CV 1/3] END max_depth=20, max_features=sqrt, min_samples_leaf=1, min_samples_split=2, n_estimators=200;, score=(train=1.000, test=0.878) total time=   0.4s\n",
            "[CV 2/3] END max_depth=20, max_features=sqrt, min_samples_leaf=1, min_samples_split=2, n_estimators=200;, score=(train=1.000, test=0.812) total time=   0.4s\n",
            "[CV 3/3] END max_depth=20, max_features=sqrt, min_samples_leaf=1, min_samples_split=2, n_estimators=200;, score=(train=1.000, test=0.833) total time=   0.4s\n",
            "[CV 1/3] END max_depth=20, max_features=sqrt, min_samples_leaf=1, min_samples_split=2, n_estimators=100;, score=(train=1.000, test=0.878) total time=   0.2s\n",
            "[CV 2/3] END max_depth=20, max_features=sqrt, min_samples_leaf=1, min_samples_split=2, n_estimators=100;, score=(train=1.000, test=0.833) total time=   0.3s\n",
            "[CV 3/3] END max_depth=20, max_features=sqrt, min_samples_leaf=1, min_samples_split=2, n_estimators=100;, score=(train=1.000, test=0.854) total time=   0.3s\n",
            "[CV 1/3] END max_depth=20, max_features=sqrt, min_samples_leaf=2, min_samples_split=10, n_estimators=300;, score=(train=1.000, test=0.878) total time=   0.8s\n",
            "[CV 2/3] END max_depth=20, max_features=sqrt, min_samples_leaf=2, min_samples_split=10, n_estimators=300;, score=(train=0.990, test=0.833) total time=   0.8s\n",
            "[CV 3/3] END max_depth=20, max_features=sqrt, min_samples_leaf=2, min_samples_split=10, n_estimators=300;, score=(train=1.000, test=0.854) total time=   0.9s\n",
            "[CV 1/3] END max_depth=30, max_features=sqrt, min_samples_leaf=1, min_samples_split=2, n_estimators=100;, score=(train=1.000, test=0.857) total time=   0.3s\n",
            "[CV 2/3] END max_depth=30, max_features=sqrt, min_samples_leaf=1, min_samples_split=2, n_estimators=100;, score=(train=1.000, test=0.812) total time=   0.2s\n",
            "[CV 3/3] END max_depth=30, max_features=sqrt, min_samples_leaf=1, min_samples_split=2, n_estimators=100;, score=(train=1.000, test=0.875) total time=   0.2s\n",
            "[CV 1/3] END max_depth=None, max_features=sqrt, min_samples_leaf=2, min_samples_split=10, n_estimators=200;, score=(train=1.000, test=0.878) total time=   0.4s\n",
            "[CV 2/3] END max_depth=None, max_features=sqrt, min_samples_leaf=2, min_samples_split=10, n_estimators=200;, score=(train=0.990, test=0.812) total time=   0.3s\n",
            "[CV 3/3] END max_depth=None, max_features=sqrt, min_samples_leaf=2, min_samples_split=10, n_estimators=200;, score=(train=1.000, test=0.854) total time=   0.4s\n",
            "[CV 1/3] END max_depth=20, max_features=sqrt, min_samples_leaf=1, min_samples_split=5, n_estimators=200;, score=(train=1.000, test=0.878) total time=   0.4s\n",
            "[CV 2/3] END max_depth=20, max_features=sqrt, min_samples_leaf=1, min_samples_split=5, n_estimators=200;, score=(train=1.000, test=0.833) total time=   0.4s\n",
            "[CV 3/3] END max_depth=20, max_features=sqrt, min_samples_leaf=1, min_samples_split=5, n_estimators=200;, score=(train=1.000, test=0.833) total time=   0.4s\n",
            "[CV 1/3] END max_depth=30, max_features=sqrt, min_samples_leaf=1, min_samples_split=5, n_estimators=200;, score=(train=1.000, test=0.878) total time=   0.4s\n",
            "[CV 2/3] END max_depth=30, max_features=sqrt, min_samples_leaf=1, min_samples_split=5, n_estimators=200;, score=(train=1.000, test=0.833) total time=   0.4s\n",
            "[CV 3/3] END max_depth=30, max_features=sqrt, min_samples_leaf=1, min_samples_split=5, n_estimators=200;, score=(train=1.000, test=0.854) total time=   0.4s\n",
            "[CV 1/3] END max_depth=30, max_features=sqrt, min_samples_leaf=1, min_samples_split=5, n_estimators=300;, score=(train=1.000, test=0.878) total time=   0.6s\n",
            "[CV 2/3] END max_depth=30, max_features=sqrt, min_samples_leaf=1, min_samples_split=5, n_estimators=300;, score=(train=1.000, test=0.812) total time=   0.6s\n",
            "[CV 3/3] END max_depth=30, max_features=sqrt, min_samples_leaf=1, min_samples_split=5, n_estimators=300;, score=(train=1.000, test=0.833) total time=   0.6s\n",
            "[CV 1/3] END max_depth=30, max_features=sqrt, min_samples_leaf=1, min_samples_split=10, n_estimators=300;, score=(train=1.000, test=0.878) total time=   0.5s\n",
            "[CV 2/3] END max_depth=30, max_features=sqrt, min_samples_leaf=1, min_samples_split=10, n_estimators=300;, score=(train=0.990, test=0.812) total time=   0.5s\n",
            "[CV 3/3] END max_depth=30, max_features=sqrt, min_samples_leaf=1, min_samples_split=10, n_estimators=300;, score=(train=1.000, test=0.854) total time=   0.5s\n",
            "[CV 1/3] END max_depth=20, max_features=sqrt, min_samples_leaf=1, min_samples_split=10, n_estimators=100;, score=(train=1.000, test=0.878) total time=   0.2s\n",
            "[CV 2/3] END max_depth=20, max_features=sqrt, min_samples_leaf=1, min_samples_split=10, n_estimators=100;, score=(train=0.990, test=0.812) total time=   0.2s\n",
            "[CV 3/3] END max_depth=20, max_features=sqrt, min_samples_leaf=1, min_samples_split=10, n_estimators=100;, score=(train=1.000, test=0.854) total time=   0.2s\n",
            "----------\n",
            "iter: 2\n",
            "n_candidates: 9\n",
            "n_resources: 441\n",
            "Fitting 3 folds for each of 9 candidates, totalling 27 fits\n",
            "[CV 1/3] END max_depth=30, max_features=sqrt, min_samples_leaf=1, min_samples_split=10, n_estimators=300;, score=(train=0.997, test=0.796) total time=   1.3s\n",
            "[CV 2/3] END max_depth=30, max_features=sqrt, min_samples_leaf=1, min_samples_split=10, n_estimators=300;, score=(train=1.000, test=0.747) total time=   1.6s\n",
            "[CV 3/3] END max_depth=30, max_features=sqrt, min_samples_leaf=1, min_samples_split=10, n_estimators=300;, score=(train=1.000, test=0.781) total time=   1.9s\n",
            "[CV 1/3] END max_depth=20, max_features=sqrt, min_samples_leaf=1, min_samples_split=10, n_estimators=100;, score=(train=1.000, test=0.810) total time=   0.6s\n",
            "[CV 2/3] END max_depth=20, max_features=sqrt, min_samples_leaf=1, min_samples_split=10, n_estimators=100;, score=(train=0.993, test=0.740) total time=   0.5s\n",
            "[CV 3/3] END max_depth=20, max_features=sqrt, min_samples_leaf=1, min_samples_split=10, n_estimators=100;, score=(train=1.000, test=0.774) total time=   0.4s\n",
            "[CV 1/3] END max_depth=20, max_features=sqrt, min_samples_leaf=1, min_samples_split=5, n_estimators=200;, score=(train=1.000, test=0.796) total time=   0.9s\n",
            "[CV 2/3] END max_depth=20, max_features=sqrt, min_samples_leaf=1, min_samples_split=5, n_estimators=200;, score=(train=1.000, test=0.753) total time=   0.9s\n",
            "[CV 3/3] END max_depth=20, max_features=sqrt, min_samples_leaf=1, min_samples_split=5, n_estimators=200;, score=(train=1.000, test=0.788) total time=   0.9s\n",
            "[CV 1/3] END max_depth=None, max_features=sqrt, min_samples_leaf=1, min_samples_split=10, n_estimators=100;, score=(train=0.997, test=0.789) total time=   0.5s\n",
            "[CV 2/3] END max_depth=None, max_features=sqrt, min_samples_leaf=1, min_samples_split=10, n_estimators=100;, score=(train=0.993, test=0.740) total time=   0.5s\n",
            "[CV 3/3] END max_depth=None, max_features=sqrt, min_samples_leaf=1, min_samples_split=10, n_estimators=100;, score=(train=1.000, test=0.774) total time=   0.5s\n",
            "[CV 1/3] END max_depth=30, max_features=sqrt, min_samples_leaf=1, min_samples_split=2, n_estimators=100;, score=(train=1.000, test=0.789) total time=   0.4s\n",
            "[CV 2/3] END max_depth=30, max_features=sqrt, min_samples_leaf=1, min_samples_split=2, n_estimators=100;, score=(train=1.000, test=0.726) total time=   0.5s\n",
            "[CV 3/3] END max_depth=30, max_features=sqrt, min_samples_leaf=1, min_samples_split=2, n_estimators=100;, score=(train=1.000, test=0.788) total time=   0.5s\n",
            "[CV 1/3] END max_depth=None, max_features=sqrt, min_samples_leaf=1, min_samples_split=2, n_estimators=200;, score=(train=1.000, test=0.796) total time=   0.9s\n",
            "[CV 2/3] END max_depth=None, max_features=sqrt, min_samples_leaf=1, min_samples_split=2, n_estimators=200;, score=(train=1.000, test=0.740) total time=   0.9s\n",
            "[CV 3/3] END max_depth=None, max_features=sqrt, min_samples_leaf=1, min_samples_split=2, n_estimators=200;, score=(train=1.000, test=0.788) total time=   0.9s\n",
            "[CV 1/3] END max_depth=20, max_features=sqrt, min_samples_leaf=1, min_samples_split=2, n_estimators=100;, score=(train=1.000, test=0.796) total time=   0.5s\n",
            "[CV 2/3] END max_depth=20, max_features=sqrt, min_samples_leaf=1, min_samples_split=2, n_estimators=100;, score=(train=1.000, test=0.733) total time=   0.6s\n",
            "[CV 3/3] END max_depth=20, max_features=sqrt, min_samples_leaf=1, min_samples_split=2, n_estimators=100;, score=(train=1.000, test=0.774) total time=   0.6s\n",
            "[CV 1/3] END max_depth=20, max_features=sqrt, min_samples_leaf=2, min_samples_split=10, n_estimators=300;, score=(train=0.993, test=0.796) total time=   1.7s\n",
            "[CV 2/3] END max_depth=20, max_features=sqrt, min_samples_leaf=2, min_samples_split=10, n_estimators=300;, score=(train=0.983, test=0.747) total time=   1.5s\n",
            "[CV 3/3] END max_depth=20, max_features=sqrt, min_samples_leaf=2, min_samples_split=10, n_estimators=300;, score=(train=0.983, test=0.788) total time=   1.2s\n",
            "[CV 1/3] END max_depth=30, max_features=sqrt, min_samples_leaf=1, min_samples_split=5, n_estimators=200;, score=(train=1.000, test=0.796) total time=   0.9s\n",
            "[CV 2/3] END max_depth=30, max_features=sqrt, min_samples_leaf=1, min_samples_split=5, n_estimators=200;, score=(train=1.000, test=0.740) total time=   0.9s\n",
            "[CV 3/3] END max_depth=30, max_features=sqrt, min_samples_leaf=1, min_samples_split=5, n_estimators=200;, score=(train=1.000, test=0.788) total time=   0.9s\n",
            "----------\n",
            "iter: 3\n",
            "n_candidates: 3\n",
            "n_resources: 1323\n",
            "Fitting 3 folds for each of 3 candidates, totalling 9 fits\n",
            "[CV 1/3] END max_depth=30, max_features=sqrt, min_samples_leaf=1, min_samples_split=5, n_estimators=200;, score=(train=1.000, test=0.753) total time=   3.1s\n",
            "[CV 2/3] END max_depth=30, max_features=sqrt, min_samples_leaf=1, min_samples_split=5, n_estimators=200;, score=(train=1.000, test=0.768) total time=   3.7s\n",
            "[CV 3/3] END max_depth=30, max_features=sqrt, min_samples_leaf=1, min_samples_split=5, n_estimators=200;, score=(train=1.000, test=0.791) total time=   3.3s\n",
            "[CV 1/3] END max_depth=20, max_features=sqrt, min_samples_leaf=2, min_samples_split=10, n_estimators=300;, score=(train=0.991, test=0.757) total time=   4.1s\n",
            "[CV 2/3] END max_depth=20, max_features=sqrt, min_samples_leaf=2, min_samples_split=10, n_estimators=300;, score=(train=0.995, test=0.766) total time=   4.2s\n",
            "[CV 3/3] END max_depth=20, max_features=sqrt, min_samples_leaf=2, min_samples_split=10, n_estimators=300;, score=(train=0.989, test=0.793) total time=   4.8s\n",
            "[CV 1/3] END max_depth=20, max_features=sqrt, min_samples_leaf=1, min_samples_split=5, n_estimators=200;, score=(train=1.000, test=0.760) total time=   3.0s\n",
            "[CV 2/3] END max_depth=20, max_features=sqrt, min_samples_leaf=1, min_samples_split=5, n_estimators=200;, score=(train=1.000, test=0.773) total time=   3.0s\n",
            "[CV 3/3] END max_depth=20, max_features=sqrt, min_samples_leaf=1, min_samples_split=5, n_estimators=200;, score=(train=1.000, test=0.782) total time=   3.3s\n",
            "----------\n",
            "iter: 4\n",
            "n_candidates: 1\n",
            "n_resources: 3969\n",
            "Fitting 3 folds for each of 1 candidates, totalling 3 fits\n",
            "[CV 1/3] END max_depth=20, max_features=sqrt, min_samples_leaf=2, min_samples_split=10, n_estimators=300;, score=(train=0.993, test=0.766) total time=  17.1s\n",
            "[CV 2/3] END max_depth=20, max_features=sqrt, min_samples_leaf=2, min_samples_split=10, n_estimators=300;, score=(train=0.991, test=0.772) total time=  16.5s\n",
            "[CV 3/3] END max_depth=20, max_features=sqrt, min_samples_leaf=2, min_samples_split=10, n_estimators=300;, score=(train=0.991, test=0.772) total time=  16.1s\n",
            "Métricas en el conjunto de prueba:\n",
            "              precision    recall  f1-score   support\n",
            "\n",
            "  not sexist       0.77      0.99      0.87      1514\n",
            "      sexist       0.77      0.08      0.14       486\n",
            "\n",
            "    accuracy                           0.77      2000\n",
            "   macro avg       0.77      0.53      0.50      2000\n",
            "weighted avg       0.77      0.77      0.69      2000\n",
            "\n",
            "Micro-F1 Score: 0.7700\n"
          ]
        }
      ],
      "source": [
        "from sklearn.ensemble import RandomForestClassifier\n",
        "from sklearn.experimental import enable_halving_search_cv\n",
        "from sklearn.model_selection import HalvingGridSearchCV\n",
        "from sklearn.metrics import classification_report\n",
        "\n",
        "# Definir el clasificador Random Forest\n",
        "rf_clf = RandomForestClassifier()\n",
        "\n",
        "# Definir la grilla de parámetros para la búsqueda\n",
        "param_grid = {\n",
        "    'n_estimators': [100, 200, 300],\n",
        "    'max_depth': [None, 20, 30],\n",
        "    'min_samples_split': [2, 5, 10],\n",
        "    'min_samples_leaf': [1, 2, 4],\n",
        "    'max_features': [ 'sqrt']\n",
        "}\n",
        "\n",
        "\n",
        "# Realizar la búsqueda en grilla con validación cruzada\n",
        "grid_search = HalvingGridSearchCV(rf_clf, param_grid, cv=3, scoring='f1_micro',verbose=3)\n",
        "grid_search.fit(vectors_train, y_train)\n",
        "\n",
        "# Obtener el mejor clasificador\n",
        "best_rf_clf = grid_search.best_estimator_\n",
        "\n",
        "\n",
        "# Evaluar el mejor clasificador en el conjunto de prueba\n",
        "y_test_pred = best_rf_clf.predict(vectors_test)\n",
        "print('Métricas en el conjunto de prueba:')\n",
        "print(classification_report(y_test, y_test_pred,target_names=LABELS))\n",
        "micro_f1 = f1_score(y_test, y_test_pred, average='micro')\n",
        "print('Micro-F1 Score: {:.4f}'.format(micro_f1))"
      ]
    },
    {
      "cell_type": "code",
      "execution_count": null,
      "metadata": {
        "colab": {
          "base_uri": "https://localhost:8080/"
        },
        "id": "bT8kDgF8LNhU",
        "outputId": "fb15d4a5-0290-47e7-c598-47b7c275c441"
      },
      "outputs": [
        {
          "name": "stdout",
          "output_type": "stream",
          "text": [
            "Métricas en el conjunto de prueba:\n",
            "              precision    recall  f1-score   support\n",
            "\n",
            "  not sexist       0.80      0.95      0.87      1514\n",
            "      sexist       0.61      0.25      0.35       486\n",
            "\n",
            "    accuracy                           0.78      2000\n",
            "   macro avg       0.70      0.60      0.61      2000\n",
            "weighted avg       0.75      0.78      0.74      2000\n",
            "\n",
            "Micro-F1 Score: 1.0000\n"
          ]
        }
      ],
      "source": [
        "from xgboost import XGBClassifier\n",
        "from sklearn.experimental import enable_halving_search_cv\n",
        "from sklearn.model_selection import HalvingGridSearchCV\n",
        "from sklearn.metrics import classification_report\n",
        "from sklearn.metrics import f1_score\n",
        "\n",
        "# Definir el clasificador XGBoost\n",
        "#xgb_clf = XGBClassifier(use_label_encoder=False, eval_metric='mlogloss',objective='multi:softmax', num_class=20, random_state=42)\n",
        "\n",
        "# Definir la grilla de parámetros para la búsqueda\n",
        "param_grid = {\n",
        "    'max_depth': [3, 6],#, 9],\n",
        "    'learning_rate': [ 0.01],#, 0.001],\n",
        "    'subsample': [0.8 ]#, 1]\n",
        "}\n",
        "\n",
        "\n",
        "# Realizar la búsqueda en grilla con validación cruzada\n",
        "#grid_search = HalvingGridSearchCV(xgb_clf, param_grid, cv=3, scoring='f1_micro',verbose=3)\n",
        "#grid_search.fit(vectors_train, y_train_num)\n",
        "\n",
        "# Obtener el mejor clasificador\n",
        "#best_xgb_clf = grid_search.best_estimator_\n",
        "\n",
        "xgb_clf = XGBClassifier(n_estimators=300, max_depth=9, learning_rate=0.1)\n",
        "\n",
        "xgb_clf.fit(vectors_train, y_train, verbose=3)\n",
        "\n",
        "# Evaluar el mejor clasificador en el conjunto de prueba\n",
        "y_test_pred = xgb_clf.predict(vectors_test)\n",
        "print('Métricas en el conjunto de prueba:')\n",
        "print(classification_report(y_test, y_test_pred,target_names=LABELS))\n",
        "micro_f1 = f1_score(y_test, y_test_pred, average='micro')\n",
        "print('Micro-F1 Score: {:.4f}'.format(micro_f1))"
      ]
    },
    {
      "cell_type": "code",
      "execution_count": null,
      "metadata": {
        "colab": {
          "base_uri": "https://localhost:8080/"
        },
        "id": "hnhE9zgBPRMR",
        "outputId": "a7ffec9d-744d-4164-aa2b-1b3ea36b9f5b"
      },
      "outputs": [
        {
          "name": "stdout",
          "output_type": "stream",
          "text": [
            "Micro-F1 Score: 0.7790\n"
          ]
        }
      ],
      "source": [
        "micro_f1 = f1_score(y_test, y_test_pred, average='micro')\n",
        "print('Micro-F1 Score: {:.4f}'.format(micro_f1))"
      ]
    },
    {
      "cell_type": "code",
      "execution_count": null,
      "metadata": {
        "colab": {
          "base_uri": "https://localhost:8080/",
          "height": 641
        },
        "id": "TlfVZE8tniah",
        "outputId": "fbda8b72-a5a1-4192-9a8c-12111efd23e7"
      },
      "outputs": [
        {
          "data": {
            "image/png": "[encoded data removed]",
            "text/plain": [
              "<Figure size 1000x700 with 2 Axes>"
            ]
          },
          "metadata": {},
          "output_type": "display_data"
        }
      ],
      "source": [
        "import seaborn as sns\n",
        "import matplotlib.pyplot as plt\n",
        "from sklearn.metrics import confusion_matrix\n",
        "\n",
        "# Obtener la matriz de confusión\n",
        "conf_matrix = confusion_matrix(y_test, y_test_pred)\n",
        "\n",
        "\n",
        "\n",
        "# Crear un mapa de calor para la matriz de confusión\n",
        "plt.figure(figsize=(10, 7))\n",
        "sns.heatmap(conf_matrix, annot=True, fmt='g', cmap='Blues', xticklabels=LABELS, yticklabels=LABELS)\n",
        "plt.xlabel('Etiquetas Predichas')\n",
        "plt.ylabel('Etiquetas Verdaderas')\n",
        "plt.title('Matriz de Confusión')\n",
        "plt.show()"
      ]
    },
    {
      "cell_type": "code",
      "execution_count": null,
      "metadata": {
        "id": "pbyJpQFyGkpZ"
      },
      "outputs": [],
      "source": []
    }
  ],
  "metadata": {
    "accelerator": "GPU",
    "colab": {
      "gpuType": "T4",
      "toc_visible": true,
      "provenance": [],
      "include_colab_link": true
    },
    "kernelspec": {
      "display_name": "Python 3",
      "name": "python3"
    },
    "language_info": {
      "name": "python"
    },
    "widgets": {
      "application/vnd.jupyter.widget-state+json": {
        "0039dc35427f4d6399a3e232fbd0923d": {
          "model_module": "@jupyter-widgets/controls",
          "model_module_version": "1.5.0",
          "model_name": "FloatProgressModel",
          "state": {
            "_dom_classes": [],
            "_model_module": "@jupyter-widgets/controls",
            "_model_module_version": "1.5.0",
            "_model_name": "FloatProgressModel",
            "_view_count": null,
            "_view_module": "@jupyter-widgets/controls",
            "_view_module_version": "1.5.0",
            "_view_name": "ProgressView",
            "bar_style": "success",
            "description": "",
            "description_tooltip": null,
            "layout": "IPY_MODEL_ec05c29d123d491d904c0d91b1b5e33c",
            "max": 267954768,
            "min": 0,
            "orientation": "horizontal",
            "style": "IPY_MODEL_6133d98e5f7541008aa7d6b8e603617d",
            "value": 267954768
          }
        },
        "10a2d224410047178129b006fbab1d8e": {
          "model_module": "@jupyter-widgets/controls",
          "model_module_version": "1.5.0",
          "model_name": "ProgressStyleModel",
          "state": {
            "_model_module": "@jupyter-widgets/controls",
            "_model_module_version": "1.5.0",
            "_model_name": "ProgressStyleModel",
            "_view_count": null,
            "_view_module": "@jupyter-widgets/base",
            "_view_module_version": "1.2.0",
            "_view_name": "StyleView",
            "bar_color": null,
            "description_width": ""
          }
        },
        "1858e5f230b742b8b94b32f27b08e34f": {
          "model_module": "@jupyter-widgets/controls",
          "model_module_version": "1.5.0",
          "model_name": "FloatProgressModel",
          "state": {
            "_dom_classes": [],
            "_model_module": "@jupyter-widgets/controls",
            "_model_module_version": "1.5.0",
            "_model_name": "FloatProgressModel",
            "_view_count": null,
            "_view_module": "@jupyter-widgets/controls",
            "_view_module_version": "1.5.0",
            "_view_name": "ProgressView",
            "bar_style": "success",
            "description": "",
            "description_tooltip": null,
            "layout": "IPY_MODEL_7e783e34a8544c0a8c54a17ec846e37e",
            "max": 8252,
            "min": 0,
            "orientation": "horizontal",
            "style": "IPY_MODEL_10a2d224410047178129b006fbab1d8e",
            "value": 8252
          }
        },
        "1c9152cd80f3478798c4a032de9cfce3": {
          "model_module": "@jupyter-widgets/controls",
          "model_module_version": "1.5.0",
          "model_name": "DescriptionStyleModel",
          "state": {
            "_model_module": "@jupyter-widgets/controls",
            "_model_module_version": "1.5.0",
            "_model_name": "DescriptionStyleModel",
            "_view_count": null,
            "_view_module": "@jupyter-widgets/base",
            "_view_module_version": "1.2.0",
            "_view_name": "StyleView",
            "description_width": ""
          }
        },
        "371a12792b9946ceb828be7641415879": {
          "model_module": "@jupyter-widgets/controls",
          "model_module_version": "1.5.0",
          "model_name": "HTMLModel",
          "state": {
            "_dom_classes": [],
            "_model_module": "@jupyter-widgets/controls",
            "_model_module_version": "1.5.0",
            "_model_name": "HTMLModel",
            "_view_count": null,
            "_view_module": "@jupyter-widgets/controls",
            "_view_module_version": "1.5.0",
            "_view_name": "HTMLView",
            "description": "",
            "description_tooltip": null,
            "layout": "IPY_MODEL_c499c09e1c664040b093fa7d61b02d04",
            "placeholder": "​",
            "style": "IPY_MODEL_63b7100d46364a6b921842f613666755",
            "value": "model.safetensors: 100%"
          }
        },
        "44c43273423a4c51988b34905eb07cc5": {
          "model_module": "@jupyter-widgets/base",
          "model_module_version": "1.2.0",
          "model_name": "LayoutModel",
          "state": {
            "_model_module": "@jupyter-widgets/base",
            "_model_module_version": "1.2.0",
            "_model_name": "LayoutModel",
            "_view_count": null,
            "_view_module": "@jupyter-widgets/base",
            "_view_module_version": "1.2.0",
            "_view_name": "LayoutView",
            "align_content": null,
            "align_items": null,
            "align_self": null,
            "border": null,
            "bottom": null,
            "display": null,
            "flex": null,
            "flex_flow": null,
            "grid_area": null,
            "grid_auto_columns": null,
            "grid_auto_flow": null,
            "grid_auto_rows": null,
            "grid_column": null,
            "grid_gap": null,
            "grid_row": null,
            "grid_template_areas": null,
            "grid_template_columns": null,
            "grid_template_rows": null,
            "height": null,
            "justify_content": null,
            "justify_items": null,
            "left": null,
            "margin": null,
            "max_height": null,
            "max_width": null,
            "min_height": null,
            "min_width": null,
            "object_fit": null,
            "object_position": null,
            "order": null,
            "overflow": null,
            "overflow_x": null,
            "overflow_y": null,
            "padding": null,
            "right": null,
            "top": null,
            "visibility": null,
            "width": null
          }
        },
        "523cc0d58fe645f18e9e5af0e8f477ea": {
          "model_module": "@jupyter-widgets/controls",
          "model_module_version": "1.5.0",
          "model_name": "HTMLModel",
          "state": {
            "_dom_classes": [],
            "_model_module": "@jupyter-widgets/controls",
            "_model_module_version": "1.5.0",
            "_model_name": "HTMLModel",
            "_view_count": null,
            "_view_module": "@jupyter-widgets/controls",
            "_view_module_version": "1.5.0",
            "_view_name": "HTMLView",
            "description": "",
            "description_tooltip": null,
            "layout": "IPY_MODEL_7ee94b349fb44976b2875002519cf8c3",
            "placeholder": "​",
            "style": "IPY_MODEL_a31fe7b883324a799efc44cbf549c74f",
            "value": "Map: 100%"
          }
        },
        "58fe75165c2b4ee8927c4c55c2840bb6": {
          "model_module": "@jupyter-widgets/controls",
          "model_module_version": "1.5.0",
          "model_name": "ProgressStyleModel",
          "state": {
            "_model_module": "@jupyter-widgets/controls",
            "_model_module_version": "1.5.0",
            "_model_name": "ProgressStyleModel",
            "_view_count": null,
            "_view_module": "@jupyter-widgets/base",
            "_view_module_version": "1.2.0",
            "_view_name": "StyleView",
            "bar_color": null,
            "description_width": ""
          }
        },
        "5d7d3fdbf9cc4c598876213b28b3ee17": {
          "model_module": "@jupyter-widgets/base",
          "model_module_version": "1.2.0",
          "model_name": "LayoutModel",
          "state": {
            "_model_module": "@jupyter-widgets/base",
            "_model_module_version": "1.2.0",
            "_model_name": "LayoutModel",
            "_view_count": null,
            "_view_module": "@jupyter-widgets/base",
            "_view_module_version": "1.2.0",
            "_view_name": "LayoutView",
            "align_content": null,
            "align_items": null,
            "align_self": null,
            "border": null,
            "bottom": null,
            "display": null,
            "flex": null,
            "flex_flow": null,
            "grid_area": null,
            "grid_auto_columns": null,
            "grid_auto_flow": null,
            "grid_auto_rows": null,
            "grid_column": null,
            "grid_gap": null,
            "grid_row": null,
            "grid_template_areas": null,
            "grid_template_columns": null,
            "grid_template_rows": null,
            "height": null,
            "justify_content": null,
            "justify_items": null,
            "left": null,
            "margin": null,
            "max_height": null,
            "max_width": null,
            "min_height": null,
            "min_width": null,
            "object_fit": null,
            "object_position": null,
            "order": null,
            "overflow": null,
            "overflow_x": null,
            "overflow_y": null,
            "padding": null,
            "right": null,
            "top": null,
            "visibility": null,
            "width": null
          }
        },
        "6133d98e5f7541008aa7d6b8e603617d": {
          "model_module": "@jupyter-widgets/controls",
          "model_module_version": "1.5.0",
          "model_name": "ProgressStyleModel",
          "state": {
            "_model_module": "@jupyter-widgets/controls",
            "_model_module_version": "1.5.0",
            "_model_name": "ProgressStyleModel",
            "_view_count": null,
            "_view_module": "@jupyter-widgets/base",
            "_view_module_version": "1.2.0",
            "_view_name": "StyleView",
            "bar_color": null,
            "description_width": ""
          }
        },
        "63210d1a399249a985be2508ec47e4a0": {
          "model_module": "@jupyter-widgets/base",
          "model_module_version": "1.2.0",
          "model_name": "LayoutModel",
          "state": {
            "_model_module": "@jupyter-widgets/base",
            "_model_module_version": "1.2.0",
            "_model_name": "LayoutModel",
            "_view_count": null,
            "_view_module": "@jupyter-widgets/base",
            "_view_module_version": "1.2.0",
            "_view_name": "LayoutView",
            "align_content": null,
            "align_items": null,
            "align_self": null,
            "border": null,
            "bottom": null,
            "display": null,
            "flex": null,
            "flex_flow": null,
            "grid_area": null,
            "grid_auto_columns": null,
            "grid_auto_flow": null,
            "grid_auto_rows": null,
            "grid_column": null,
            "grid_gap": null,
            "grid_row": null,
            "grid_template_areas": null,
            "grid_template_columns": null,
            "grid_template_rows": null,
            "height": null,
            "justify_content": null,
            "justify_items": null,
            "left": null,
            "margin": null,
            "max_height": null,
            "max_width": null,
            "min_height": null,
            "min_width": null,
            "object_fit": null,
            "object_position": null,
            "order": null,
            "overflow": null,
            "overflow_x": null,
            "overflow_y": null,
            "padding": null,
            "right": null,
            "top": null,
            "visibility": null,
            "width": null
          }
        },
        "63b7100d46364a6b921842f613666755": {
          "model_module": "@jupyter-widgets/controls",
          "model_module_version": "1.5.0",
          "model_name": "DescriptionStyleModel",
          "state": {
            "_model_module": "@jupyter-widgets/controls",
            "_model_module_version": "1.5.0",
            "_model_name": "DescriptionStyleModel",
            "_view_count": null,
            "_view_module": "@jupyter-widgets/base",
            "_view_module_version": "1.2.0",
            "_view_name": "StyleView",
            "description_width": ""
          }
        },
        "665f659fc94c49cc9d14b22c684f1362": {
          "model_module": "@jupyter-widgets/controls",
          "model_module_version": "1.5.0",
          "model_name": "FloatProgressModel",
          "state": {
            "_dom_classes": [],
            "_model_module": "@jupyter-widgets/controls",
            "_model_module_version": "1.5.0",
            "_model_name": "FloatProgressModel",
            "_view_count": null,
            "_view_module": "@jupyter-widgets/controls",
            "_view_module_version": "1.5.0",
            "_view_name": "ProgressView",
            "bar_style": "success",
            "description": "",
            "description_tooltip": null,
            "layout": "IPY_MODEL_5d7d3fdbf9cc4c598876213b28b3ee17",
            "max": 970,
            "min": 0,
            "orientation": "horizontal",
            "style": "IPY_MODEL_58fe75165c2b4ee8927c4c55c2840bb6",
            "value": 970
          }
        },
        "706e5b5bf210458fb3bd3fc7fe1534e3": {
          "model_module": "@jupyter-widgets/controls",
          "model_module_version": "1.5.0",
          "model_name": "HTMLModel",
          "state": {
            "_dom_classes": [],
            "_model_module": "@jupyter-widgets/controls",
            "_model_module_version": "1.5.0",
            "_model_name": "HTMLModel",
            "_view_count": null,
            "_view_module": "@jupyter-widgets/controls",
            "_view_module_version": "1.5.0",
            "_view_name": "HTMLView",
            "description": "",
            "description_tooltip": null,
            "layout": "IPY_MODEL_63210d1a399249a985be2508ec47e4a0",
            "placeholder": "​",
            "style": "IPY_MODEL_74b9591a143d429aabc52b66dbe132a4",
            "value": "Map: 100%"
          }
        },
        "74b9591a143d429aabc52b66dbe132a4": {
          "model_module": "@jupyter-widgets/controls",
          "model_module_version": "1.5.0",
          "model_name": "DescriptionStyleModel",
          "state": {
            "_model_module": "@jupyter-widgets/controls",
            "_model_module_version": "1.5.0",
            "_model_name": "DescriptionStyleModel",
            "_view_count": null,
            "_view_module": "@jupyter-widgets/base",
            "_view_module_version": "1.2.0",
            "_view_name": "StyleView",
            "description_width": ""
          }
        },
        "787432ea1ffe43bba6e87ef7c167de08": {
          "model_module": "@jupyter-widgets/base",
          "model_module_version": "1.2.0",
          "model_name": "LayoutModel",
          "state": {
            "_model_module": "@jupyter-widgets/base",
            "_model_module_version": "1.2.0",
            "_model_name": "LayoutModel",
            "_view_count": null,
            "_view_module": "@jupyter-widgets/base",
            "_view_module_version": "1.2.0",
            "_view_name": "LayoutView",
            "align_content": null,
            "align_items": null,
            "align_self": null,
            "border": null,
            "bottom": null,
            "display": null,
            "flex": null,
            "flex_flow": null,
            "grid_area": null,
            "grid_auto_columns": null,
            "grid_auto_flow": null,
            "grid_auto_rows": null,
            "grid_column": null,
            "grid_gap": null,
            "grid_row": null,
            "grid_template_areas": null,
            "grid_template_columns": null,
            "grid_template_rows": null,
            "height": null,
            "justify_content": null,
            "justify_items": null,
            "left": null,
            "margin": null,
            "max_height": null,
            "max_width": null,
            "min_height": null,
            "min_width": null,
            "object_fit": null,
            "object_position": null,
            "order": null,
            "overflow": null,
            "overflow_x": null,
            "overflow_y": null,
            "padding": null,
            "right": null,
            "top": null,
            "visibility": null,
            "width": null
          }
        },
        "7d3846c86221496f8ff21581efa4ee27": {
          "model_module": "@jupyter-widgets/base",
          "model_module_version": "1.2.0",
          "model_name": "LayoutModel",
          "state": {
            "_model_module": "@jupyter-widgets/base",
            "_model_module_version": "1.2.0",
            "_model_name": "LayoutModel",
            "_view_count": null,
            "_view_module": "@jupyter-widgets/base",
            "_view_module_version": "1.2.0",
            "_view_name": "LayoutView",
            "align_content": null,
            "align_items": null,
            "align_self": null,
            "border": null,
            "bottom": null,
            "display": null,
            "flex": null,
            "flex_flow": null,
            "grid_area": null,
            "grid_auto_columns": null,
            "grid_auto_flow": null,
            "grid_auto_rows": null,
            "grid_column": null,
            "grid_gap": null,
            "grid_row": null,
            "grid_template_areas": null,
            "grid_template_columns": null,
            "grid_template_rows": null,
            "height": null,
            "justify_content": null,
            "justify_items": null,
            "left": null,
            "margin": null,
            "max_height": null,
            "max_width": null,
            "min_height": null,
            "min_width": null,
            "object_fit": null,
            "object_position": null,
            "order": null,
            "overflow": null,
            "overflow_x": null,
            "overflow_y": null,
            "padding": null,
            "right": null,
            "top": null,
            "visibility": null,
            "width": null
          }
        },
        "7e783e34a8544c0a8c54a17ec846e37e": {
          "model_module": "@jupyter-widgets/base",
          "model_module_version": "1.2.0",
          "model_name": "LayoutModel",
          "state": {
            "_model_module": "@jupyter-widgets/base",
            "_model_module_version": "1.2.0",
            "_model_name": "LayoutModel",
            "_view_count": null,
            "_view_module": "@jupyter-widgets/base",
            "_view_module_version": "1.2.0",
            "_view_name": "LayoutView",
            "align_content": null,
            "align_items": null,
            "align_self": null,
            "border": null,
            "bottom": null,
            "display": null,
            "flex": null,
            "flex_flow": null,
            "grid_area": null,
            "grid_auto_columns": null,
            "grid_auto_flow": null,
            "grid_auto_rows": null,
            "grid_column": null,
            "grid_gap": null,
            "grid_row": null,
            "grid_template_areas": null,
            "grid_template_columns": null,
            "grid_template_rows": null,
            "height": null,
            "justify_content": null,
            "justify_items": null,
            "left": null,
            "margin": null,
            "max_height": null,
            "max_width": null,
            "min_height": null,
            "min_width": null,
            "object_fit": null,
            "object_position": null,
            "order": null,
            "overflow": null,
            "overflow_x": null,
            "overflow_y": null,
            "padding": null,
            "right": null,
            "top": null,
            "visibility": null,
            "width": null
          }
        },
        "7ee94b349fb44976b2875002519cf8c3": {
          "model_module": "@jupyter-widgets/base",
          "model_module_version": "1.2.0",
          "model_name": "LayoutModel",
          "state": {
            "_model_module": "@jupyter-widgets/base",
            "_model_module_version": "1.2.0",
            "_model_name": "LayoutModel",
            "_view_count": null,
            "_view_module": "@jupyter-widgets/base",
            "_view_module_version": "1.2.0",
            "_view_name": "LayoutView",
            "align_content": null,
            "align_items": null,
            "align_self": null,
            "border": null,
            "bottom": null,
            "display": null,
            "flex": null,
            "flex_flow": null,
            "grid_area": null,
            "grid_auto_columns": null,
            "grid_auto_flow": null,
            "grid_auto_rows": null,
            "grid_column": null,
            "grid_gap": null,
            "grid_row": null,
            "grid_template_areas": null,
            "grid_template_columns": null,
            "grid_template_rows": null,
            "height": null,
            "justify_content": null,
            "justify_items": null,
            "left": null,
            "margin": null,
            "max_height": null,
            "max_width": null,
            "min_height": null,
            "min_width": null,
            "object_fit": null,
            "object_position": null,
            "order": null,
            "overflow": null,
            "overflow_x": null,
            "overflow_y": null,
            "padding": null,
            "right": null,
            "top": null,
            "visibility": null,
            "width": null
          }
        },
        "83b3d5336f284ac2b3f6cc7cc5d26dcd": {
          "model_module": "@jupyter-widgets/base",
          "model_module_version": "1.2.0",
          "model_name": "LayoutModel",
          "state": {
            "_model_module": "@jupyter-widgets/base",
            "_model_module_version": "1.2.0",
            "_model_name": "LayoutModel",
            "_view_count": null,
            "_view_module": "@jupyter-widgets/base",
            "_view_module_version": "1.2.0",
            "_view_name": "LayoutView",
            "align_content": null,
            "align_items": null,
            "align_self": null,
            "border": null,
            "bottom": null,
            "display": null,
            "flex": null,
            "flex_flow": null,
            "grid_area": null,
            "grid_auto_columns": null,
            "grid_auto_flow": null,
            "grid_auto_rows": null,
            "grid_column": null,
            "grid_gap": null,
            "grid_row": null,
            "grid_template_areas": null,
            "grid_template_columns": null,
            "grid_template_rows": null,
            "height": null,
            "justify_content": null,
            "justify_items": null,
            "left": null,
            "margin": null,
            "max_height": null,
            "max_width": null,
            "min_height": null,
            "min_width": null,
            "object_fit": null,
            "object_position": null,
            "order": null,
            "overflow": null,
            "overflow_x": null,
            "overflow_y": null,
            "padding": null,
            "right": null,
            "top": null,
            "visibility": null,
            "width": null
          }
        },
        "83f54584e6784ff2a028293c89a483b6": {
          "model_module": "@jupyter-widgets/base",
          "model_module_version": "1.2.0",
          "model_name": "LayoutModel",
          "state": {
            "_model_module": "@jupyter-widgets/base",
            "_model_module_version": "1.2.0",
            "_model_name": "LayoutModel",
            "_view_count": null,
            "_view_module": "@jupyter-widgets/base",
            "_view_module_version": "1.2.0",
            "_view_name": "LayoutView",
            "align_content": null,
            "align_items": null,
            "align_self": null,
            "border": null,
            "bottom": null,
            "display": null,
            "flex": null,
            "flex_flow": null,
            "grid_area": null,
            "grid_auto_columns": null,
            "grid_auto_flow": null,
            "grid_auto_rows": null,
            "grid_column": null,
            "grid_gap": null,
            "grid_row": null,
            "grid_template_areas": null,
            "grid_template_columns": null,
            "grid_template_rows": null,
            "height": null,
            "justify_content": null,
            "justify_items": null,
            "left": null,
            "margin": null,
            "max_height": null,
            "max_width": null,
            "min_height": null,
            "min_width": null,
            "object_fit": null,
            "object_position": null,
            "order": null,
            "overflow": null,
            "overflow_x": null,
            "overflow_y": null,
            "padding": null,
            "right": null,
            "top": null,
            "visibility": null,
            "width": null
          }
        },
        "882ab6a00b794e0e96a910633d729d1f": {
          "model_module": "@jupyter-widgets/controls",
          "model_module_version": "1.5.0",
          "model_name": "FloatProgressModel",
          "state": {
            "_dom_classes": [],
            "_model_module": "@jupyter-widgets/controls",
            "_model_module_version": "1.5.0",
            "_model_name": "FloatProgressModel",
            "_view_count": null,
            "_view_module": "@jupyter-widgets/controls",
            "_view_module_version": "1.5.0",
            "_view_name": "ProgressView",
            "bar_style": "success",
            "description": "",
            "description_tooltip": null,
            "layout": "IPY_MODEL_ee166041053e4c6882a3978b85f66391",
            "max": 486,
            "min": 0,
            "orientation": "horizontal",
            "style": "IPY_MODEL_cb4bb4aa99c940a2868bbb9ad0c4ba8c",
            "value": 486
          }
        },
        "8a34e3f1c51e45258e1b0a179e73f5a3": {
          "model_module": "@jupyter-widgets/base",
          "model_module_version": "1.2.0",
          "model_name": "LayoutModel",
          "state": {
            "_model_module": "@jupyter-widgets/base",
            "_model_module_version": "1.2.0",
            "_model_name": "LayoutModel",
            "_view_count": null,
            "_view_module": "@jupyter-widgets/base",
            "_view_module_version": "1.2.0",
            "_view_name": "LayoutView",
            "align_content": null,
            "align_items": null,
            "align_self": null,
            "border": null,
            "bottom": null,
            "display": null,
            "flex": null,
            "flex_flow": null,
            "grid_area": null,
            "grid_auto_columns": null,
            "grid_auto_flow": null,
            "grid_auto_rows": null,
            "grid_column": null,
            "grid_gap": null,
            "grid_row": null,
            "grid_template_areas": null,
            "grid_template_columns": null,
            "grid_template_rows": null,
            "height": null,
            "justify_content": null,
            "justify_items": null,
            "left": null,
            "margin": null,
            "max_height": null,
            "max_width": null,
            "min_height": null,
            "min_width": null,
            "object_fit": null,
            "object_position": null,
            "order": null,
            "overflow": null,
            "overflow_x": null,
            "overflow_y": null,
            "padding": null,
            "right": null,
            "top": null,
            "visibility": null,
            "width": null
          }
        },
        "9474fadbf90e41b9b3fb99c413d12d26": {
          "model_module": "@jupyter-widgets/controls",
          "model_module_version": "1.5.0",
          "model_name": "DescriptionStyleModel",
          "state": {
            "_model_module": "@jupyter-widgets/controls",
            "_model_module_version": "1.5.0",
            "_model_name": "DescriptionStyleModel",
            "_view_count": null,
            "_view_module": "@jupyter-widgets/base",
            "_view_module_version": "1.2.0",
            "_view_name": "StyleView",
            "description_width": ""
          }
        },
        "95373a7f1f4c47cc8ec8b12d5124c7d3": {
          "model_module": "@jupyter-widgets/base",
          "model_module_version": "1.2.0",
          "model_name": "LayoutModel",
          "state": {
            "_model_module": "@jupyter-widgets/base",
            "_model_module_version": "1.2.0",
            "_model_name": "LayoutModel",
            "_view_count": null,
            "_view_module": "@jupyter-widgets/base",
            "_view_module_version": "1.2.0",
            "_view_name": "LayoutView",
            "align_content": null,
            "align_items": null,
            "align_self": null,
            "border": null,
            "bottom": null,
            "display": null,
            "flex": null,
            "flex_flow": null,
            "grid_area": null,
            "grid_auto_columns": null,
            "grid_auto_flow": null,
            "grid_auto_rows": null,
            "grid_column": null,
            "grid_gap": null,
            "grid_row": null,
            "grid_template_areas": null,
            "grid_template_columns": null,
            "grid_template_rows": null,
            "height": null,
            "justify_content": null,
            "justify_items": null,
            "left": null,
            "margin": null,
            "max_height": null,
            "max_width": null,
            "min_height": null,
            "min_width": null,
            "object_fit": null,
            "object_position": null,
            "order": null,
            "overflow": null,
            "overflow_x": null,
            "overflow_y": null,
            "padding": null,
            "right": null,
            "top": null,
            "visibility": null,
            "width": null
          }
        },
        "a31fe7b883324a799efc44cbf549c74f": {
          "model_module": "@jupyter-widgets/controls",
          "model_module_version": "1.5.0",
          "model_name": "DescriptionStyleModel",
          "state": {
            "_model_module": "@jupyter-widgets/controls",
            "_model_module_version": "1.5.0",
            "_model_name": "DescriptionStyleModel",
            "_view_count": null,
            "_view_module": "@jupyter-widgets/base",
            "_view_module_version": "1.2.0",
            "_view_name": "StyleView",
            "description_width": ""
          }
        },
        "a88c0bc8be514a6692d4aa1f48f35904": {
          "model_module": "@jupyter-widgets/controls",
          "model_module_version": "1.5.0",
          "model_name": "HBoxModel",
          "state": {
            "_dom_classes": [],
            "_model_module": "@jupyter-widgets/controls",
            "_model_module_version": "1.5.0",
            "_model_name": "HBoxModel",
            "_view_count": null,
            "_view_module": "@jupyter-widgets/controls",
            "_view_module_version": "1.5.0",
            "_view_name": "HBoxView",
            "box_style": "",
            "children": [
              "IPY_MODEL_706e5b5bf210458fb3bd3fc7fe1534e3",
              "IPY_MODEL_665f659fc94c49cc9d14b22c684f1362",
              "IPY_MODEL_b98d97fc14014ee2875e73ab0c08ee03"
            ],
            "layout": "IPY_MODEL_7d3846c86221496f8ff21581efa4ee27"
          }
        },
        "aa894fd94cb2460a847f5d2be6d2fd3e": {
          "model_module": "@jupyter-widgets/controls",
          "model_module_version": "1.5.0",
          "model_name": "HTMLModel",
          "state": {
            "_dom_classes": [],
            "_model_module": "@jupyter-widgets/controls",
            "_model_module_version": "1.5.0",
            "_model_name": "HTMLModel",
            "_view_count": null,
            "_view_module": "@jupyter-widgets/controls",
            "_view_module_version": "1.5.0",
            "_view_name": "HTMLView",
            "description": "",
            "description_tooltip": null,
            "layout": "IPY_MODEL_83f54584e6784ff2a028293c89a483b6",
            "placeholder": "​",
            "style": "IPY_MODEL_d7c1e85c16334c2b81608d301f16ff0f",
            "value": " 268M/268M [00:01&lt;00:00, 181MB/s]"
          }
        },
        "b98d97fc14014ee2875e73ab0c08ee03": {
          "model_module": "@jupyter-widgets/controls",
          "model_module_version": "1.5.0",
          "model_name": "HTMLModel",
          "state": {
            "_dom_classes": [],
            "_model_module": "@jupyter-widgets/controls",
            "_model_module_version": "1.5.0",
            "_model_name": "HTMLModel",
            "_view_count": null,
            "_view_module": "@jupyter-widgets/controls",
            "_view_module_version": "1.5.0",
            "_view_name": "HTMLView",
            "description": "",
            "description_tooltip": null,
            "layout": "IPY_MODEL_44c43273423a4c51988b34905eb07cc5",
            "placeholder": "​",
            "style": "IPY_MODEL_fbd93e9948ff44b5a4a3e32f23d71b87",
            "value": " 970/970 [00:00&lt;00:00, 6629.87 examples/s]"
          }
        },
        "c499c09e1c664040b093fa7d61b02d04": {
          "model_module": "@jupyter-widgets/base",
          "model_module_version": "1.2.0",
          "model_name": "LayoutModel",
          "state": {
            "_model_module": "@jupyter-widgets/base",
            "_model_module_version": "1.2.0",
            "_model_name": "LayoutModel",
            "_view_count": null,
            "_view_module": "@jupyter-widgets/base",
            "_view_module_version": "1.2.0",
            "_view_name": "LayoutView",
            "align_content": null,
            "align_items": null,
            "align_self": null,
            "border": null,
            "bottom": null,
            "display": null,
            "flex": null,
            "flex_flow": null,
            "grid_area": null,
            "grid_auto_columns": null,
            "grid_auto_flow": null,
            "grid_auto_rows": null,
            "grid_column": null,
            "grid_gap": null,
            "grid_row": null,
            "grid_template_areas": null,
            "grid_template_columns": null,
            "grid_template_rows": null,
            "height": null,
            "justify_content": null,
            "justify_items": null,
            "left": null,
            "margin": null,
            "max_height": null,
            "max_width": null,
            "min_height": null,
            "min_width": null,
            "object_fit": null,
            "object_position": null,
            "order": null,
            "overflow": null,
            "overflow_x": null,
            "overflow_y": null,
            "padding": null,
            "right": null,
            "top": null,
            "visibility": null,
            "width": null
          }
        },
        "cb4bb4aa99c940a2868bbb9ad0c4ba8c": {
          "model_module": "@jupyter-widgets/controls",
          "model_module_version": "1.5.0",
          "model_name": "ProgressStyleModel",
          "state": {
            "_model_module": "@jupyter-widgets/controls",
            "_model_module_version": "1.5.0",
            "_model_name": "ProgressStyleModel",
            "_view_count": null,
            "_view_module": "@jupyter-widgets/base",
            "_view_module_version": "1.2.0",
            "_view_name": "StyleView",
            "bar_color": null,
            "description_width": ""
          }
        },
        "d589ad7caf834e59bf6eaa876aeddf5a": {
          "model_module": "@jupyter-widgets/controls",
          "model_module_version": "1.5.0",
          "model_name": "HBoxModel",
          "state": {
            "_dom_classes": [],
            "_model_module": "@jupyter-widgets/controls",
            "_model_module_version": "1.5.0",
            "_model_name": "HBoxModel",
            "_view_count": null,
            "_view_module": "@jupyter-widgets/controls",
            "_view_module_version": "1.5.0",
            "_view_name": "HBoxView",
            "box_style": "",
            "children": [
              "IPY_MODEL_f8d42d15090442ef85fb92d680d45ecc",
              "IPY_MODEL_882ab6a00b794e0e96a910633d729d1f",
              "IPY_MODEL_e163f562b808441bb79550e3daeb7d06"
            ],
            "layout": "IPY_MODEL_e73a10a556a346859a4358cb7d90d0ed"
          }
        },
        "d7c1e85c16334c2b81608d301f16ff0f": {
          "model_module": "@jupyter-widgets/controls",
          "model_module_version": "1.5.0",
          "model_name": "DescriptionStyleModel",
          "state": {
            "_model_module": "@jupyter-widgets/controls",
            "_model_module_version": "1.5.0",
            "_model_name": "DescriptionStyleModel",
            "_view_count": null,
            "_view_module": "@jupyter-widgets/base",
            "_view_module_version": "1.2.0",
            "_view_name": "StyleView",
            "description_width": ""
          }
        },
        "db7ced03943f4e48ad09d137b2e21500": {
          "model_module": "@jupyter-widgets/controls",
          "model_module_version": "1.5.0",
          "model_name": "DescriptionStyleModel",
          "state": {
            "_model_module": "@jupyter-widgets/controls",
            "_model_module_version": "1.5.0",
            "_model_name": "DescriptionStyleModel",
            "_view_count": null,
            "_view_module": "@jupyter-widgets/base",
            "_view_module_version": "1.2.0",
            "_view_name": "StyleView",
            "description_width": ""
          }
        },
        "dcb80d5ee8f54f0ca86bea27a1e850a4": {
          "model_module": "@jupyter-widgets/controls",
          "model_module_version": "1.5.0",
          "model_name": "HBoxModel",
          "state": {
            "_dom_classes": [],
            "_model_module": "@jupyter-widgets/controls",
            "_model_module_version": "1.5.0",
            "_model_name": "HBoxModel",
            "_view_count": null,
            "_view_module": "@jupyter-widgets/controls",
            "_view_module_version": "1.5.0",
            "_view_name": "HBoxView",
            "box_style": "",
            "children": [
              "IPY_MODEL_523cc0d58fe645f18e9e5af0e8f477ea",
              "IPY_MODEL_1858e5f230b742b8b94b32f27b08e34f",
              "IPY_MODEL_f37cc887d87740658cb209bbcd3a592f"
            ],
            "layout": "IPY_MODEL_83b3d5336f284ac2b3f6cc7cc5d26dcd"
          }
        },
        "e163f562b808441bb79550e3daeb7d06": {
          "model_module": "@jupyter-widgets/controls",
          "model_module_version": "1.5.0",
          "model_name": "HTMLModel",
          "state": {
            "_dom_classes": [],
            "_model_module": "@jupyter-widgets/controls",
            "_model_module_version": "1.5.0",
            "_model_name": "HTMLModel",
            "_view_count": null,
            "_view_module": "@jupyter-widgets/controls",
            "_view_module_version": "1.5.0",
            "_view_name": "HTMLView",
            "description": "",
            "description_tooltip": null,
            "layout": "IPY_MODEL_e975b8ef8deb46aca6027c79da572ea7",
            "placeholder": "​",
            "style": "IPY_MODEL_1c9152cd80f3478798c4a032de9cfce3",
            "value": " 486/486 [00:00&lt;00:00, 4857.63 examples/s]"
          }
        },
        "e73a10a556a346859a4358cb7d90d0ed": {
          "model_module": "@jupyter-widgets/base",
          "model_module_version": "1.2.0",
          "model_name": "LayoutModel",
          "state": {
            "_model_module": "@jupyter-widgets/base",
            "_model_module_version": "1.2.0",
            "_model_name": "LayoutModel",
            "_view_count": null,
            "_view_module": "@jupyter-widgets/base",
            "_view_module_version": "1.2.0",
            "_view_name": "LayoutView",
            "align_content": null,
            "align_items": null,
            "align_self": null,
            "border": null,
            "bottom": null,
            "display": null,
            "flex": null,
            "flex_flow": null,
            "grid_area": null,
            "grid_auto_columns": null,
            "grid_auto_flow": null,
            "grid_auto_rows": null,
            "grid_column": null,
            "grid_gap": null,
            "grid_row": null,
            "grid_template_areas": null,
            "grid_template_columns": null,
            "grid_template_rows": null,
            "height": null,
            "justify_content": null,
            "justify_items": null,
            "left": null,
            "margin": null,
            "max_height": null,
            "max_width": null,
            "min_height": null,
            "min_width": null,
            "object_fit": null,
            "object_position": null,
            "order": null,
            "overflow": null,
            "overflow_x": null,
            "overflow_y": null,
            "padding": null,
            "right": null,
            "top": null,
            "visibility": null,
            "width": null
          }
        },
        "e975b8ef8deb46aca6027c79da572ea7": {
          "model_module": "@jupyter-widgets/base",
          "model_module_version": "1.2.0",
          "model_name": "LayoutModel",
          "state": {
            "_model_module": "@jupyter-widgets/base",
            "_model_module_version": "1.2.0",
            "_model_name": "LayoutModel",
            "_view_count": null,
            "_view_module": "@jupyter-widgets/base",
            "_view_module_version": "1.2.0",
            "_view_name": "LayoutView",
            "align_content": null,
            "align_items": null,
            "align_self": null,
            "border": null,
            "bottom": null,
            "display": null,
            "flex": null,
            "flex_flow": null,
            "grid_area": null,
            "grid_auto_columns": null,
            "grid_auto_flow": null,
            "grid_auto_rows": null,
            "grid_column": null,
            "grid_gap": null,
            "grid_row": null,
            "grid_template_areas": null,
            "grid_template_columns": null,
            "grid_template_rows": null,
            "height": null,
            "justify_content": null,
            "justify_items": null,
            "left": null,
            "margin": null,
            "max_height": null,
            "max_width": null,
            "min_height": null,
            "min_width": null,
            "object_fit": null,
            "object_position": null,
            "order": null,
            "overflow": null,
            "overflow_x": null,
            "overflow_y": null,
            "padding": null,
            "right": null,
            "top": null,
            "visibility": null,
            "width": null
          }
        },
        "ec05c29d123d491d904c0d91b1b5e33c": {
          "model_module": "@jupyter-widgets/base",
          "model_module_version": "1.2.0",
          "model_name": "LayoutModel",
          "state": {
            "_model_module": "@jupyter-widgets/base",
            "_model_module_version": "1.2.0",
            "_model_name": "LayoutModel",
            "_view_count": null,
            "_view_module": "@jupyter-widgets/base",
            "_view_module_version": "1.2.0",
            "_view_name": "LayoutView",
            "align_content": null,
            "align_items": null,
            "align_self": null,
            "border": null,
            "bottom": null,
            "display": null,
            "flex": null,
            "flex_flow": null,
            "grid_area": null,
            "grid_auto_columns": null,
            "grid_auto_flow": null,
            "grid_auto_rows": null,
            "grid_column": null,
            "grid_gap": null,
            "grid_row": null,
            "grid_template_areas": null,
            "grid_template_columns": null,
            "grid_template_rows": null,
            "height": null,
            "justify_content": null,
            "justify_items": null,
            "left": null,
            "margin": null,
            "max_height": null,
            "max_width": null,
            "min_height": null,
            "min_width": null,
            "object_fit": null,
            "object_position": null,
            "order": null,
            "overflow": null,
            "overflow_x": null,
            "overflow_y": null,
            "padding": null,
            "right": null,
            "top": null,
            "visibility": null,
            "width": null
          }
        },
        "ee166041053e4c6882a3978b85f66391": {
          "model_module": "@jupyter-widgets/base",
          "model_module_version": "1.2.0",
          "model_name": "LayoutModel",
          "state": {
            "_model_module": "@jupyter-widgets/base",
            "_model_module_version": "1.2.0",
            "_model_name": "LayoutModel",
            "_view_count": null,
            "_view_module": "@jupyter-widgets/base",
            "_view_module_version": "1.2.0",
            "_view_name": "LayoutView",
            "align_content": null,
            "align_items": null,
            "align_self": null,
            "border": null,
            "bottom": null,
            "display": null,
            "flex": null,
            "flex_flow": null,
            "grid_area": null,
            "grid_auto_columns": null,
            "grid_auto_flow": null,
            "grid_auto_rows": null,
            "grid_column": null,
            "grid_gap": null,
            "grid_row": null,
            "grid_template_areas": null,
            "grid_template_columns": null,
            "grid_template_rows": null,
            "height": null,
            "justify_content": null,
            "justify_items": null,
            "left": null,
            "margin": null,
            "max_height": null,
            "max_width": null,
            "min_height": null,
            "min_width": null,
            "object_fit": null,
            "object_position": null,
            "order": null,
            "overflow": null,
            "overflow_x": null,
            "overflow_y": null,
            "padding": null,
            "right": null,
            "top": null,
            "visibility": null,
            "width": null
          }
        },
        "f37cc887d87740658cb209bbcd3a592f": {
          "model_module": "@jupyter-widgets/controls",
          "model_module_version": "1.5.0",
          "model_name": "HTMLModel",
          "state": {
            "_dom_classes": [],
            "_model_module": "@jupyter-widgets/controls",
            "_model_module_version": "1.5.0",
            "_model_name": "HTMLModel",
            "_view_count": null,
            "_view_module": "@jupyter-widgets/controls",
            "_view_module_version": "1.5.0",
            "_view_name": "HTMLView",
            "description": "",
            "description_tooltip": null,
            "layout": "IPY_MODEL_787432ea1ffe43bba6e87ef7c167de08",
            "placeholder": "​",
            "style": "IPY_MODEL_9474fadbf90e41b9b3fb99c413d12d26",
            "value": " 8252/8252 [00:01&lt;00:00, 5822.79 examples/s]"
          }
        },
        "f8d42d15090442ef85fb92d680d45ecc": {
          "model_module": "@jupyter-widgets/controls",
          "model_module_version": "1.5.0",
          "model_name": "HTMLModel",
          "state": {
            "_dom_classes": [],
            "_model_module": "@jupyter-widgets/controls",
            "_model_module_version": "1.5.0",
            "_model_name": "HTMLModel",
            "_view_count": null,
            "_view_module": "@jupyter-widgets/controls",
            "_view_module_version": "1.5.0",
            "_view_name": "HTMLView",
            "description": "",
            "description_tooltip": null,
            "layout": "IPY_MODEL_8a34e3f1c51e45258e1b0a179e73f5a3",
            "placeholder": "​",
            "style": "IPY_MODEL_db7ced03943f4e48ad09d137b2e21500",
            "value": "Map: 100%"
          }
        },
        "fa220a8853424397a6827e626aab2061": {
          "model_module": "@jupyter-widgets/controls",
          "model_module_version": "1.5.0",
          "model_name": "HBoxModel",
          "state": {
            "_dom_classes": [],
            "_model_module": "@jupyter-widgets/controls",
            "_model_module_version": "1.5.0",
            "_model_name": "HBoxModel",
            "_view_count": null,
            "_view_module": "@jupyter-widgets/controls",
            "_view_module_version": "1.5.0",
            "_view_name": "HBoxView",
            "box_style": "",
            "children": [
              "IPY_MODEL_371a12792b9946ceb828be7641415879",
              "IPY_MODEL_0039dc35427f4d6399a3e232fbd0923d",
              "IPY_MODEL_aa894fd94cb2460a847f5d2be6d2fd3e"
            ],
            "layout": "IPY_MODEL_95373a7f1f4c47cc8ec8b12d5124c7d3"
          }
        },
        "fbd93e9948ff44b5a4a3e32f23d71b87": {
          "model_module": "@jupyter-widgets/controls",
          "model_module_version": "1.5.0",
          "model_name": "DescriptionStyleModel",
          "state": {
            "_model_module": "@jupyter-widgets/controls",
            "_model_module_version": "1.5.0",
            "_model_name": "DescriptionStyleModel",
            "_view_count": null,
            "_view_module": "@jupyter-widgets/base",
            "_view_module_version": "1.2.0",
            "_view_name": "StyleView",
            "description_width": ""
          }
        },
        "ce0611988d014360812bcf1e086b81a3": {
          "model_module": "@jupyter-widgets/controls",
          "model_name": "HBoxModel",
          "model_module_version": "1.5.0",
          "state": {
            "_dom_classes": [],
            "_model_module": "@jupyter-widgets/controls",
            "_model_module_version": "1.5.0",
            "_model_name": "HBoxModel",
            "_view_count": null,
            "_view_module": "@jupyter-widgets/controls",
            "_view_module_version": "1.5.0",
            "_view_name": "HBoxView",
            "box_style": "",
            "children": [
              "IPY_MODEL_10c6a6aa4df849c3a6f0e720c505878b",
              "IPY_MODEL_508a129c89154a2d84b8c6ebc93bb800",
              "IPY_MODEL_0a96faf66bf64c6dbd8c4aabca8ab06f"
            ],
            "layout": "IPY_MODEL_b8c137e1677547029a7e8b7e53b89031"
          }
        },
        "10c6a6aa4df849c3a6f0e720c505878b": {
          "model_module": "@jupyter-widgets/controls",
          "model_name": "HTMLModel",
          "model_module_version": "1.5.0",
          "state": {
            "_dom_classes": [],
            "_model_module": "@jupyter-widgets/controls",
            "_model_module_version": "1.5.0",
            "_model_name": "HTMLModel",
            "_view_count": null,
            "_view_module": "@jupyter-widgets/controls",
            "_view_module_version": "1.5.0",
            "_view_name": "HTMLView",
            "description": "",
            "description_tooltip": null,
            "layout": "IPY_MODEL_ac074197a89743879e5957872bab54fb",
            "placeholder": "​",
            "style": "IPY_MODEL_df3e1cf95f4e452fa5e85f337e6883d3",
            "value": "Filter: 100%"
          }
        },
        "508a129c89154a2d84b8c6ebc93bb800": {
          "model_module": "@jupyter-widgets/controls",
          "model_name": "FloatProgressModel",
          "model_module_version": "1.5.0",
          "state": {
            "_dom_classes": [],
            "_model_module": "@jupyter-widgets/controls",
            "_model_module_version": "1.5.0",
            "_model_name": "FloatProgressModel",
            "_view_count": null,
            "_view_module": "@jupyter-widgets/controls",
            "_view_module_version": "1.5.0",
            "_view_name": "ProgressView",
            "bar_style": "success",
            "description": "",
            "description_tooltip": null,
            "layout": "IPY_MODEL_b21c369c9f5b48769240dde25b24f9cf",
            "max": 14000,
            "min": 0,
            "orientation": "horizontal",
            "style": "IPY_MODEL_7ccba3fe8b594d169d3f39592574b7e2",
            "value": 14000
          }
        },
        "0a96faf66bf64c6dbd8c4aabca8ab06f": {
          "model_module": "@jupyter-widgets/controls",
          "model_name": "HTMLModel",
          "model_module_version": "1.5.0",
          "state": {
            "_dom_classes": [],
            "_model_module": "@jupyter-widgets/controls",
            "_model_module_version": "1.5.0",
            "_model_name": "HTMLModel",
            "_view_count": null,
            "_view_module": "@jupyter-widgets/controls",
            "_view_module_version": "1.5.0",
            "_view_name": "HTMLView",
            "description": "",
            "description_tooltip": null,
            "layout": "IPY_MODEL_18e877136d4f40b09ac1648e74252a6d",
            "placeholder": "​",
            "style": "IPY_MODEL_ee9b6c2220684d9da58006791a93b1bf",
            "value": " 14000/14000 [00:00&lt;00:00, 66347.72 examples/s]"
          }
        },
        "b8c137e1677547029a7e8b7e53b89031": {
          "model_module": "@jupyter-widgets/base",
          "model_name": "LayoutModel",
          "model_module_version": "1.2.0",
          "state": {
            "_model_module": "@jupyter-widgets/base",
            "_model_module_version": "1.2.0",
            "_model_name": "LayoutModel",
            "_view_count": null,
            "_view_module": "@jupyter-widgets/base",
            "_view_module_version": "1.2.0",
            "_view_name": "LayoutView",
            "align_content": null,
            "align_items": null,
            "align_self": null,
            "border": null,
            "bottom": null,
            "display": null,
            "flex": null,
            "flex_flow": null,
            "grid_area": null,
            "grid_auto_columns": null,
            "grid_auto_flow": null,
            "grid_auto_rows": null,
            "grid_column": null,
            "grid_gap": null,
            "grid_row": null,
            "grid_template_areas": null,
            "grid_template_columns": null,
            "grid_template_rows": null,
            "height": null,
            "justify_content": null,
            "justify_items": null,
            "left": null,
            "margin": null,
            "max_height": null,
            "max_width": null,
            "min_height": null,
            "min_width": null,
            "object_fit": null,
            "object_position": null,
            "order": null,
            "overflow": null,
            "overflow_x": null,
            "overflow_y": null,
            "padding": null,
            "right": null,
            "top": null,
            "visibility": null,
            "width": null
          }
        },
        "ac074197a89743879e5957872bab54fb": {
          "model_module": "@jupyter-widgets/base",
          "model_name": "LayoutModel",
          "model_module_version": "1.2.0",
          "state": {
            "_model_module": "@jupyter-widgets/base",
            "_model_module_version": "1.2.0",
            "_model_name": "LayoutModel",
            "_view_count": null,
            "_view_module": "@jupyter-widgets/base",
            "_view_module_version": "1.2.0",
            "_view_name": "LayoutView",
            "align_content": null,
            "align_items": null,
            "align_self": null,
            "border": null,
            "bottom": null,
            "display": null,
            "flex": null,
            "flex_flow": null,
            "grid_area": null,
            "grid_auto_columns": null,
            "grid_auto_flow": null,
            "grid_auto_rows": null,
            "grid_column": null,
            "grid_gap": null,
            "grid_row": null,
            "grid_template_areas": null,
            "grid_template_columns": null,
            "grid_template_rows": null,
            "height": null,
            "justify_content": null,
            "justify_items": null,
            "left": null,
            "margin": null,
            "max_height": null,
            "max_width": null,
            "min_height": null,
            "min_width": null,
            "object_fit": null,
            "object_position": null,
            "order": null,
            "overflow": null,
            "overflow_x": null,
            "overflow_y": null,
            "padding": null,
            "right": null,
            "top": null,
            "visibility": null,
            "width": null
          }
        },
        "df3e1cf95f4e452fa5e85f337e6883d3": {
          "model_module": "@jupyter-widgets/controls",
          "model_name": "DescriptionStyleModel",
          "model_module_version": "1.5.0",
          "state": {
            "_model_module": "@jupyter-widgets/controls",
            "_model_module_version": "1.5.0",
            "_model_name": "DescriptionStyleModel",
            "_view_count": null,
            "_view_module": "@jupyter-widgets/base",
            "_view_module_version": "1.2.0",
            "_view_name": "StyleView",
            "description_width": ""
          }
        },
        "b21c369c9f5b48769240dde25b24f9cf": {
          "model_module": "@jupyter-widgets/base",
          "model_name": "LayoutModel",
          "model_module_version": "1.2.0",
          "state": {
            "_model_module": "@jupyter-widgets/base",
            "_model_module_version": "1.2.0",
            "_model_name": "LayoutModel",
            "_view_count": null,
            "_view_module": "@jupyter-widgets/base",
            "_view_module_version": "1.2.0",
            "_view_name": "LayoutView",
            "align_content": null,
            "align_items": null,
            "align_self": null,
            "border": null,
            "bottom": null,
            "display": null,
            "flex": null,
            "flex_flow": null,
            "grid_area": null,
            "grid_auto_columns": null,
            "grid_auto_flow": null,
            "grid_auto_rows": null,
            "grid_column": null,
            "grid_gap": null,
            "grid_row": null,
            "grid_template_areas": null,
            "grid_template_columns": null,
            "grid_template_rows": null,
            "height": null,
            "justify_content": null,
            "justify_items": null,
            "left": null,
            "margin": null,
            "max_height": null,
            "max_width": null,
            "min_height": null,
            "min_width": null,
            "object_fit": null,
            "object_position": null,
            "order": null,
            "overflow": null,
            "overflow_x": null,
            "overflow_y": null,
            "padding": null,
            "right": null,
            "top": null,
            "visibility": null,
            "width": null
          }
        },
        "7ccba3fe8b594d169d3f39592574b7e2": {
          "model_module": "@jupyter-widgets/controls",
          "model_name": "ProgressStyleModel",
          "model_module_version": "1.5.0",
          "state": {
            "_model_module": "@jupyter-widgets/controls",
            "_model_module_version": "1.5.0",
            "_model_name": "ProgressStyleModel",
            "_view_count": null,
            "_view_module": "@jupyter-widgets/base",
            "_view_module_version": "1.2.0",
            "_view_name": "StyleView",
            "bar_color": null,
            "description_width": ""
          }
        },
        "18e877136d4f40b09ac1648e74252a6d": {
          "model_module": "@jupyter-widgets/base",
          "model_name": "LayoutModel",
          "model_module_version": "1.2.0",
          "state": {
            "_model_module": "@jupyter-widgets/base",
            "_model_module_version": "1.2.0",
            "_model_name": "LayoutModel",
            "_view_count": null,
            "_view_module": "@jupyter-widgets/base",
            "_view_module_version": "1.2.0",
            "_view_name": "LayoutView",
            "align_content": null,
            "align_items": null,
            "align_self": null,
            "border": null,
            "bottom": null,
            "display": null,
            "flex": null,
            "flex_flow": null,
            "grid_area": null,
            "grid_auto_columns": null,
            "grid_auto_flow": null,
            "grid_auto_rows": null,
            "grid_column": null,
            "grid_gap": null,
            "grid_row": null,
            "grid_template_areas": null,
            "grid_template_columns": null,
            "grid_template_rows": null,
            "height": null,
            "justify_content": null,
            "justify_items": null,
            "left": null,
            "margin": null,
            "max_height": null,
            "max_width": null,
            "min_height": null,
            "min_width": null,
            "object_fit": null,
            "object_position": null,
            "order": null,
            "overflow": null,
            "overflow_x": null,
            "overflow_y": null,
            "padding": null,
            "right": null,
            "top": null,
            "visibility": null,
            "width": null
          }
        },
        "ee9b6c2220684d9da58006791a93b1bf": {
          "model_module": "@jupyter-widgets/controls",
          "model_name": "DescriptionStyleModel",
          "model_module_version": "1.5.0",
          "state": {
            "_model_module": "@jupyter-widgets/controls",
            "_model_module_version": "1.5.0",
            "_model_name": "DescriptionStyleModel",
            "_view_count": null,
            "_view_module": "@jupyter-widgets/base",
            "_view_module_version": "1.2.0",
            "_view_name": "StyleView",
            "description_width": ""
          }
        },
        "34c65138a1844bc1aacb0c476ef100d3": {
          "model_module": "@jupyter-widgets/controls",
          "model_name": "HBoxModel",
          "model_module_version": "1.5.0",
          "state": {
            "_dom_classes": [],
            "_model_module": "@jupyter-widgets/controls",
            "_model_module_version": "1.5.0",
            "_model_name": "HBoxModel",
            "_view_count": null,
            "_view_module": "@jupyter-widgets/controls",
            "_view_module_version": "1.5.0",
            "_view_name": "HBoxView",
            "box_style": "",
            "children": [
              "IPY_MODEL_934b7bdc1aca441e93628be1fb7bb91b",
              "IPY_MODEL_9dd71f21cc5e425ab97ccd5ba6163122",
              "IPY_MODEL_a626f8fdc70743998785e46217e61042"
            ],
            "layout": "IPY_MODEL_9b13459ddf61440981106fd716f18242"
          }
        },
        "934b7bdc1aca441e93628be1fb7bb91b": {
          "model_module": "@jupyter-widgets/controls",
          "model_name": "HTMLModel",
          "model_module_version": "1.5.0",
          "state": {
            "_dom_classes": [],
            "_model_module": "@jupyter-widgets/controls",
            "_model_module_version": "1.5.0",
            "_model_name": "HTMLModel",
            "_view_count": null,
            "_view_module": "@jupyter-widgets/controls",
            "_view_module_version": "1.5.0",
            "_view_name": "HTMLView",
            "description": "",
            "description_tooltip": null,
            "layout": "IPY_MODEL_c6143f3d9a6b4db3bd68d17e285837ea",
            "placeholder": "​",
            "style": "IPY_MODEL_02969ad6c8e340489a3fd4d2ccda871d",
            "value": "Filter: 100%"
          }
        },
        "9dd71f21cc5e425ab97ccd5ba6163122": {
          "model_module": "@jupyter-widgets/controls",
          "model_name": "FloatProgressModel",
          "model_module_version": "1.5.0",
          "state": {
            "_dom_classes": [],
            "_model_module": "@jupyter-widgets/controls",
            "_model_module_version": "1.5.0",
            "_model_name": "FloatProgressModel",
            "_view_count": null,
            "_view_module": "@jupyter-widgets/controls",
            "_view_module_version": "1.5.0",
            "_view_name": "ProgressView",
            "bar_style": "success",
            "description": "",
            "description_tooltip": null,
            "layout": "IPY_MODEL_2baeb05131d34084b7eb7a16ab5fd926",
            "max": 2000,
            "min": 0,
            "orientation": "horizontal",
            "style": "IPY_MODEL_7d42abeef12841c092f74235537598c9",
            "value": 2000
          }
        },
        "a626f8fdc70743998785e46217e61042": {
          "model_module": "@jupyter-widgets/controls",
          "model_name": "HTMLModel",
          "model_module_version": "1.5.0",
          "state": {
            "_dom_classes": [],
            "_model_module": "@jupyter-widgets/controls",
            "_model_module_version": "1.5.0",
            "_model_name": "HTMLModel",
            "_view_count": null,
            "_view_module": "@jupyter-widgets/controls",
            "_view_module_version": "1.5.0",
            "_view_name": "HTMLView",
            "description": "",
            "description_tooltip": null,
            "layout": "IPY_MODEL_39c640cd695041048f997212c8c5c672",
            "placeholder": "​",
            "style": "IPY_MODEL_1d231bddf01941f29ba3330264876a72",
            "value": " 2000/2000 [00:00&lt;00:00, 46321.33 examples/s]"
          }
        },
        "9b13459ddf61440981106fd716f18242": {
          "model_module": "@jupyter-widgets/base",
          "model_name": "LayoutModel",
          "model_module_version": "1.2.0",
          "state": {
            "_model_module": "@jupyter-widgets/base",
            "_model_module_version": "1.2.0",
            "_model_name": "LayoutModel",
            "_view_count": null,
            "_view_module": "@jupyter-widgets/base",
            "_view_module_version": "1.2.0",
            "_view_name": "LayoutView",
            "align_content": null,
            "align_items": null,
            "align_self": null,
            "border": null,
            "bottom": null,
            "display": null,
            "flex": null,
            "flex_flow": null,
            "grid_area": null,
            "grid_auto_columns": null,
            "grid_auto_flow": null,
            "grid_auto_rows": null,
            "grid_column": null,
            "grid_gap": null,
            "grid_row": null,
            "grid_template_areas": null,
            "grid_template_columns": null,
            "grid_template_rows": null,
            "height": null,
            "justify_content": null,
            "justify_items": null,
            "left": null,
            "margin": null,
            "max_height": null,
            "max_width": null,
            "min_height": null,
            "min_width": null,
            "object_fit": null,
            "object_position": null,
            "order": null,
            "overflow": null,
            "overflow_x": null,
            "overflow_y": null,
            "padding": null,
            "right": null,
            "top": null,
            "visibility": null,
            "width": null
          }
        },
        "c6143f3d9a6b4db3bd68d17e285837ea": {
          "model_module": "@jupyter-widgets/base",
          "model_name": "LayoutModel",
          "model_module_version": "1.2.0",
          "state": {
            "_model_module": "@jupyter-widgets/base",
            "_model_module_version": "1.2.0",
            "_model_name": "LayoutModel",
            "_view_count": null,
            "_view_module": "@jupyter-widgets/base",
            "_view_module_version": "1.2.0",
            "_view_name": "LayoutView",
            "align_content": null,
            "align_items": null,
            "align_self": null,
            "border": null,
            "bottom": null,
            "display": null,
            "flex": null,
            "flex_flow": null,
            "grid_area": null,
            "grid_auto_columns": null,
            "grid_auto_flow": null,
            "grid_auto_rows": null,
            "grid_column": null,
            "grid_gap": null,
            "grid_row": null,
            "grid_template_areas": null,
            "grid_template_columns": null,
            "grid_template_rows": null,
            "height": null,
            "justify_content": null,
            "justify_items": null,
            "left": null,
            "margin": null,
            "max_height": null,
            "max_width": null,
            "min_height": null,
            "min_width": null,
            "object_fit": null,
            "object_position": null,
            "order": null,
            "overflow": null,
            "overflow_x": null,
            "overflow_y": null,
            "padding": null,
            "right": null,
            "top": null,
            "visibility": null,
            "width": null
          }
        },
        "02969ad6c8e340489a3fd4d2ccda871d": {
          "model_module": "@jupyter-widgets/controls",
          "model_name": "DescriptionStyleModel",
          "model_module_version": "1.5.0",
          "state": {
            "_model_module": "@jupyter-widgets/controls",
            "_model_module_version": "1.5.0",
            "_model_name": "DescriptionStyleModel",
            "_view_count": null,
            "_view_module": "@jupyter-widgets/base",
            "_view_module_version": "1.2.0",
            "_view_name": "StyleView",
            "description_width": ""
          }
        },
        "2baeb05131d34084b7eb7a16ab5fd926": {
          "model_module": "@jupyter-widgets/base",
          "model_name": "LayoutModel",
          "model_module_version": "1.2.0",
          "state": {
            "_model_module": "@jupyter-widgets/base",
            "_model_module_version": "1.2.0",
            "_model_name": "LayoutModel",
            "_view_count": null,
            "_view_module": "@jupyter-widgets/base",
            "_view_module_version": "1.2.0",
            "_view_name": "LayoutView",
            "align_content": null,
            "align_items": null,
            "align_self": null,
            "border": null,
            "bottom": null,
            "display": null,
            "flex": null,
            "flex_flow": null,
            "grid_area": null,
            "grid_auto_columns": null,
            "grid_auto_flow": null,
            "grid_auto_rows": null,
            "grid_column": null,
            "grid_gap": null,
            "grid_row": null,
            "grid_template_areas": null,
            "grid_template_columns": null,
            "grid_template_rows": null,
            "height": null,
            "justify_content": null,
            "justify_items": null,
            "left": null,
            "margin": null,
            "max_height": null,
            "max_width": null,
            "min_height": null,
            "min_width": null,
            "object_fit": null,
            "object_position": null,
            "order": null,
            "overflow": null,
            "overflow_x": null,
            "overflow_y": null,
            "padding": null,
            "right": null,
            "top": null,
            "visibility": null,
            "width": null
          }
        },
        "7d42abeef12841c092f74235537598c9": {
          "model_module": "@jupyter-widgets/controls",
          "model_name": "ProgressStyleModel",
          "model_module_version": "1.5.0",
          "state": {
            "_model_module": "@jupyter-widgets/controls",
            "_model_module_version": "1.5.0",
            "_model_name": "ProgressStyleModel",
            "_view_count": null,
            "_view_module": "@jupyter-widgets/base",
            "_view_module_version": "1.2.0",
            "_view_name": "StyleView",
            "bar_color": null,
            "description_width": ""
          }
        },
        "39c640cd695041048f997212c8c5c672": {
          "model_module": "@jupyter-widgets/base",
          "model_name": "LayoutModel",
          "model_module_version": "1.2.0",
          "state": {
            "_model_module": "@jupyter-widgets/base",
            "_model_module_version": "1.2.0",
            "_model_name": "LayoutModel",
            "_view_count": null,
            "_view_module": "@jupyter-widgets/base",
            "_view_module_version": "1.2.0",
            "_view_name": "LayoutView",
            "align_content": null,
            "align_items": null,
            "align_self": null,
            "border": null,
            "bottom": null,
            "display": null,
            "flex": null,
            "flex_flow": null,
            "grid_area": null,
            "grid_auto_columns": null,
            "grid_auto_flow": null,
            "grid_auto_rows": null,
            "grid_column": null,
            "grid_gap": null,
            "grid_row": null,
            "grid_template_areas": null,
            "grid_template_columns": null,
            "grid_template_rows": null,
            "height": null,
            "justify_content": null,
            "justify_items": null,
            "left": null,
            "margin": null,
            "max_height": null,
            "max_width": null,
            "min_height": null,
            "min_width": null,
            "object_fit": null,
            "object_position": null,
            "order": null,
            "overflow": null,
            "overflow_x": null,
            "overflow_y": null,
            "padding": null,
            "right": null,
            "top": null,
            "visibility": null,
            "width": null
          }
        },
        "1d231bddf01941f29ba3330264876a72": {
          "model_module": "@jupyter-widgets/controls",
          "model_name": "DescriptionStyleModel",
          "model_module_version": "1.5.0",
          "state": {
            "_model_module": "@jupyter-widgets/controls",
            "_model_module_version": "1.5.0",
            "_model_name": "DescriptionStyleModel",
            "_view_count": null,
            "_view_module": "@jupyter-widgets/base",
            "_view_module_version": "1.2.0",
            "_view_name": "StyleView",
            "description_width": ""
          }
        },
        "281bf7c906944cf5ab1c5056e8315c81": {
          "model_module": "@jupyter-widgets/controls",
          "model_name": "HBoxModel",
          "model_module_version": "1.5.0",
          "state": {
            "_dom_classes": [],
            "_model_module": "@jupyter-widgets/controls",
            "_model_module_version": "1.5.0",
            "_model_name": "HBoxModel",
            "_view_count": null,
            "_view_module": "@jupyter-widgets/controls",
            "_view_module_version": "1.5.0",
            "_view_name": "HBoxView",
            "box_style": "",
            "children": [
              "IPY_MODEL_e2cf7aa413ed40eb934355ab967440cd",
              "IPY_MODEL_1665588243bc47508db8475f83dfbf32",
              "IPY_MODEL_e15367d3957f44519f75ecfaf62acab2"
            ],
            "layout": "IPY_MODEL_551405dd3a9e4499be90d221312fbab3"
          }
        },
        "e2cf7aa413ed40eb934355ab967440cd": {
          "model_module": "@jupyter-widgets/controls",
          "model_name": "HTMLModel",
          "model_module_version": "1.5.0",
          "state": {
            "_dom_classes": [],
            "_model_module": "@jupyter-widgets/controls",
            "_model_module_version": "1.5.0",
            "_model_name": "HTMLModel",
            "_view_count": null,
            "_view_module": "@jupyter-widgets/controls",
            "_view_module_version": "1.5.0",
            "_view_name": "HTMLView",
            "description": "",
            "description_tooltip": null,
            "layout": "IPY_MODEL_d5ac6746f52c47cf85bc05c4346b43fa",
            "placeholder": "​",
            "style": "IPY_MODEL_44e66a3f2de2493e94bbb1d26ba2d331",
            "value": "Filter: 100%"
          }
        },
        "1665588243bc47508db8475f83dfbf32": {
          "model_module": "@jupyter-widgets/controls",
          "model_name": "FloatProgressModel",
          "model_module_version": "1.5.0",
          "state": {
            "_dom_classes": [],
            "_model_module": "@jupyter-widgets/controls",
            "_model_module_version": "1.5.0",
            "_model_name": "FloatProgressModel",
            "_view_count": null,
            "_view_module": "@jupyter-widgets/controls",
            "_view_module_version": "1.5.0",
            "_view_name": "ProgressView",
            "bar_style": "success",
            "description": "",
            "description_tooltip": null,
            "layout": "IPY_MODEL_ac34fd8d13d34a77841c7768f0ec35cc",
            "max": 4000,
            "min": 0,
            "orientation": "horizontal",
            "style": "IPY_MODEL_c153ee4b1ced4dd18331385004a6ff0b",
            "value": 4000
          }
        },
        "e15367d3957f44519f75ecfaf62acab2": {
          "model_module": "@jupyter-widgets/controls",
          "model_name": "HTMLModel",
          "model_module_version": "1.5.0",
          "state": {
            "_dom_classes": [],
            "_model_module": "@jupyter-widgets/controls",
            "_model_module_version": "1.5.0",
            "_model_name": "HTMLModel",
            "_view_count": null,
            "_view_module": "@jupyter-widgets/controls",
            "_view_module_version": "1.5.0",
            "_view_name": "HTMLView",
            "description": "",
            "description_tooltip": null,
            "layout": "IPY_MODEL_8b96eac405c64abaacd2a7b14d9eacea",
            "placeholder": "​",
            "style": "IPY_MODEL_5f156f5fe548423e9549ce8f191388eb",
            "value": " 4000/4000 [00:00&lt;00:00, 61864.72 examples/s]"
          }
        },
        "551405dd3a9e4499be90d221312fbab3": {
          "model_module": "@jupyter-widgets/base",
          "model_name": "LayoutModel",
          "model_module_version": "1.2.0",
          "state": {
            "_model_module": "@jupyter-widgets/base",
            "_model_module_version": "1.2.0",
            "_model_name": "LayoutModel",
            "_view_count": null,
            "_view_module": "@jupyter-widgets/base",
            "_view_module_version": "1.2.0",
            "_view_name": "LayoutView",
            "align_content": null,
            "align_items": null,
            "align_self": null,
            "border": null,
            "bottom": null,
            "display": null,
            "flex": null,
            "flex_flow": null,
            "grid_area": null,
            "grid_auto_columns": null,
            "grid_auto_flow": null,
            "grid_auto_rows": null,
            "grid_column": null,
            "grid_gap": null,
            "grid_row": null,
            "grid_template_areas": null,
            "grid_template_columns": null,
            "grid_template_rows": null,
            "height": null,
            "justify_content": null,
            "justify_items": null,
            "left": null,
            "margin": null,
            "max_height": null,
            "max_width": null,
            "min_height": null,
            "min_width": null,
            "object_fit": null,
            "object_position": null,
            "order": null,
            "overflow": null,
            "overflow_x": null,
            "overflow_y": null,
            "padding": null,
            "right": null,
            "top": null,
            "visibility": null,
            "width": null
          }
        },
        "d5ac6746f52c47cf85bc05c4346b43fa": {
          "model_module": "@jupyter-widgets/base",
          "model_name": "LayoutModel",
          "model_module_version": "1.2.0",
          "state": {
            "_model_module": "@jupyter-widgets/base",
            "_model_module_version": "1.2.0",
            "_model_name": "LayoutModel",
            "_view_count": null,
            "_view_module": "@jupyter-widgets/base",
            "_view_module_version": "1.2.0",
            "_view_name": "LayoutView",
            "align_content": null,
            "align_items": null,
            "align_self": null,
            "border": null,
            "bottom": null,
            "display": null,
            "flex": null,
            "flex_flow": null,
            "grid_area": null,
            "grid_auto_columns": null,
            "grid_auto_flow": null,
            "grid_auto_rows": null,
            "grid_column": null,
            "grid_gap": null,
            "grid_row": null,
            "grid_template_areas": null,
            "grid_template_columns": null,
            "grid_template_rows": null,
            "height": null,
            "justify_content": null,
            "justify_items": null,
            "left": null,
            "margin": null,
            "max_height": null,
            "max_width": null,
            "min_height": null,
            "min_width": null,
            "object_fit": null,
            "object_position": null,
            "order": null,
            "overflow": null,
            "overflow_x": null,
            "overflow_y": null,
            "padding": null,
            "right": null,
            "top": null,
            "visibility": null,
            "width": null
          }
        },
        "44e66a3f2de2493e94bbb1d26ba2d331": {
          "model_module": "@jupyter-widgets/controls",
          "model_name": "DescriptionStyleModel",
          "model_module_version": "1.5.0",
          "state": {
            "_model_module": "@jupyter-widgets/controls",
            "_model_module_version": "1.5.0",
            "_model_name": "DescriptionStyleModel",
            "_view_count": null,
            "_view_module": "@jupyter-widgets/base",
            "_view_module_version": "1.2.0",
            "_view_name": "StyleView",
            "description_width": ""
          }
        },
        "ac34fd8d13d34a77841c7768f0ec35cc": {
          "model_module": "@jupyter-widgets/base",
          "model_name": "LayoutModel",
          "model_module_version": "1.2.0",
          "state": {
            "_model_module": "@jupyter-widgets/base",
            "_model_module_version": "1.2.0",
            "_model_name": "LayoutModel",
            "_view_count": null,
            "_view_module": "@jupyter-widgets/base",
            "_view_module_version": "1.2.0",
            "_view_name": "LayoutView",
            "align_content": null,
            "align_items": null,
            "align_self": null,
            "border": null,
            "bottom": null,
            "display": null,
            "flex": null,
            "flex_flow": null,
            "grid_area": null,
            "grid_auto_columns": null,
            "grid_auto_flow": null,
            "grid_auto_rows": null,
            "grid_column": null,
            "grid_gap": null,
            "grid_row": null,
            "grid_template_areas": null,
            "grid_template_columns": null,
            "grid_template_rows": null,
            "height": null,
            "justify_content": null,
            "justify_items": null,
            "left": null,
            "margin": null,
            "max_height": null,
            "max_width": null,
            "min_height": null,
            "min_width": null,
            "object_fit": null,
            "object_position": null,
            "order": null,
            "overflow": null,
            "overflow_x": null,
            "overflow_y": null,
            "padding": null,
            "right": null,
            "top": null,
            "visibility": null,
            "width": null
          }
        },
        "c153ee4b1ced4dd18331385004a6ff0b": {
          "model_module": "@jupyter-widgets/controls",
          "model_name": "ProgressStyleModel",
          "model_module_version": "1.5.0",
          "state": {
            "_model_module": "@jupyter-widgets/controls",
            "_model_module_version": "1.5.0",
            "_model_name": "ProgressStyleModel",
            "_view_count": null,
            "_view_module": "@jupyter-widgets/base",
            "_view_module_version": "1.2.0",
            "_view_name": "StyleView",
            "bar_color": null,
            "description_width": ""
          }
        },
        "8b96eac405c64abaacd2a7b14d9eacea": {
          "model_module": "@jupyter-widgets/base",
          "model_name": "LayoutModel",
          "model_module_version": "1.2.0",
          "state": {
            "_model_module": "@jupyter-widgets/base",
            "_model_module_version": "1.2.0",
            "_model_name": "LayoutModel",
            "_view_count": null,
            "_view_module": "@jupyter-widgets/base",
            "_view_module_version": "1.2.0",
            "_view_name": "LayoutView",
            "align_content": null,
            "align_items": null,
            "align_self": null,
            "border": null,
            "bottom": null,
            "display": null,
            "flex": null,
            "flex_flow": null,
            "grid_area": null,
            "grid_auto_columns": null,
            "grid_auto_flow": null,
            "grid_auto_rows": null,
            "grid_column": null,
            "grid_gap": null,
            "grid_row": null,
            "grid_template_areas": null,
            "grid_template_columns": null,
            "grid_template_rows": null,
            "height": null,
            "justify_content": null,
            "justify_items": null,
            "left": null,
            "margin": null,
            "max_height": null,
            "max_width": null,
            "min_height": null,
            "min_width": null,
            "object_fit": null,
            "object_position": null,
            "order": null,
            "overflow": null,
            "overflow_x": null,
            "overflow_y": null,
            "padding": null,
            "right": null,
            "top": null,
            "visibility": null,
            "width": null
          }
        },
        "5f156f5fe548423e9549ce8f191388eb": {
          "model_module": "@jupyter-widgets/controls",
          "model_name": "DescriptionStyleModel",
          "model_module_version": "1.5.0",
          "state": {
            "_model_module": "@jupyter-widgets/controls",
            "_model_module_version": "1.5.0",
            "_model_name": "DescriptionStyleModel",
            "_view_count": null,
            "_view_module": "@jupyter-widgets/base",
            "_view_module_version": "1.2.0",
            "_view_name": "StyleView",
            "description_width": ""
          }
        }
      }
    }
  },
  "nbformat": 4,
  "nbformat_minor": 0
}