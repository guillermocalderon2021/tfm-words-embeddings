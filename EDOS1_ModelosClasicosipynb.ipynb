{
  "nbformat": 4,
  "nbformat_minor": 0,
  "metadata": {
    "colab": {
      "provenance": [],
      "authorship_tag": "ABX9TyPC032sDCJ4k3Buovg5O4bB",
      "include_colab_link": true
    },
    "kernelspec": {
      "name": "python3",
      "display_name": "Python 3"
    },
    "language_info": {
      "name": "python"
    }
  },
  "cells": [
    {
      "cell_type": "markdown",
      "metadata": {
        "id": "view-in-github",
        "colab_type": "text"
      },
      "source": [
        "<a href=\"https://colab.research.google.com/github/guillermocalderon2021/tfm-words-embeddings/blob/main/EDOS1_ModelosClasicosipynb.ipynb\" target=\"_parent\"><img src=\"https://colab.research.google.com/assets/colab-badge.svg\" alt=\"Open In Colab\"/></a>"
      ]
    },
    {
      "cell_type": "markdown",
      "source": [
        "# Cargando dataset"
      ],
      "metadata": {
        "id": "fL9bNmbKTnr3"
      }
    },
    {
      "cell_type": "code",
      "source": [
        "from google.colab import drive\n",
        "drive.mount('/content/drive')\n",
        "\n",
        "import os\n",
        "os.chdir('/content/drive/My Drive/Colab Notebooks/data/edos/')\n",
        "\n",
        "import pandas as pd\n",
        "df = pd.read_csv(\"edos_labelled_aggregated.csv\")\n",
        "df.head()"
      ],
      "metadata": {
        "colab": {
          "base_uri": "https://localhost:8080/",
          "height": 224
        },
        "id": "lAe0sSPvTsDn",
        "outputId": "8d75b17a-5598-406a-8437-a31282e7f78d"
      },
      "execution_count": null,
      "outputs": [
        {
          "output_type": "stream",
          "name": "stdout",
          "text": [
            "Mounted at /content/drive\n"
          ]
        },
        {
          "output_type": "execute_result",
          "data": {
            "text/plain": [
              "                  rewire_id  \\\n",
              "0   sexism2022_english-9609   \n",
              "1  sexism2022_english-16993   \n",
              "2  sexism2022_english-13149   \n",
              "3  sexism2022_english-13021   \n",
              "4    sexism2022_english-966   \n",
              "\n",
              "                                                text label_sexist  \\\n",
              "0  In Nigeria, if you rape a woman, the men rape ...   not sexist   \n",
              "1                            Then, she's a keeper. 😉   not sexist   \n",
              "2  This is like the Metallica video where the poo...   not sexist   \n",
              "3                                             woman?   not sexist   \n",
              "4                     I bet she wished she had a gun   not sexist   \n",
              "\n",
              "  label_category label_vector  split  \n",
              "0           none         none    dev  \n",
              "1           none         none  train  \n",
              "2           none         none  train  \n",
              "3           none         none  train  \n",
              "4           none         none    dev  "
            ],
            "text/html": [
              "\n",
              "  <div id=\"df-ce656d5b-a289-459a-a687-ada68ecc7646\" class=\"colab-df-container\">\n",
              "    <div>\n",
              "<style scoped>\n",
              "    .dataframe tbody tr th:only-of-type {\n",
              "        vertical-align: middle;\n",
              "    }\n",
              "\n",
              "    .dataframe tbody tr th {\n",
              "        vertical-align: top;\n",
              "    }\n",
              "\n",
              "    .dataframe thead th {\n",
              "        text-align: right;\n",
              "    }\n",
              "</style>\n",
              "<table border=\"1\" class=\"dataframe\">\n",
              "  <thead>\n",
              "    <tr style=\"text-align: right;\">\n",
              "      <th></th>\n",
              "      <th>rewire_id</th>\n",
              "      <th>text</th>\n",
              "      <th>label_sexist</th>\n",
              "      <th>label_category</th>\n",
              "      <th>label_vector</th>\n",
              "      <th>split</th>\n",
              "    </tr>\n",
              "  </thead>\n",
              "  <tbody>\n",
              "    <tr>\n",
              "      <th>0</th>\n",
              "      <td>sexism2022_english-9609</td>\n",
              "      <td>In Nigeria, if you rape a woman, the men rape ...</td>\n",
              "      <td>not sexist</td>\n",
              "      <td>none</td>\n",
              "      <td>none</td>\n",
              "      <td>dev</td>\n",
              "    </tr>\n",
              "    <tr>\n",
              "      <th>1</th>\n",
              "      <td>sexism2022_english-16993</td>\n",
              "      <td>Then, she's a keeper. 😉</td>\n",
              "      <td>not sexist</td>\n",
              "      <td>none</td>\n",
              "      <td>none</td>\n",
              "      <td>train</td>\n",
              "    </tr>\n",
              "    <tr>\n",
              "      <th>2</th>\n",
              "      <td>sexism2022_english-13149</td>\n",
              "      <td>This is like the Metallica video where the poo...</td>\n",
              "      <td>not sexist</td>\n",
              "      <td>none</td>\n",
              "      <td>none</td>\n",
              "      <td>train</td>\n",
              "    </tr>\n",
              "    <tr>\n",
              "      <th>3</th>\n",
              "      <td>sexism2022_english-13021</td>\n",
              "      <td>woman?</td>\n",
              "      <td>not sexist</td>\n",
              "      <td>none</td>\n",
              "      <td>none</td>\n",
              "      <td>train</td>\n",
              "    </tr>\n",
              "    <tr>\n",
              "      <th>4</th>\n",
              "      <td>sexism2022_english-966</td>\n",
              "      <td>I bet she wished she had a gun</td>\n",
              "      <td>not sexist</td>\n",
              "      <td>none</td>\n",
              "      <td>none</td>\n",
              "      <td>dev</td>\n",
              "    </tr>\n",
              "  </tbody>\n",
              "</table>\n",
              "</div>\n",
              "    <div class=\"colab-df-buttons\">\n",
              "\n",
              "  <div class=\"colab-df-container\">\n",
              "    <button class=\"colab-df-convert\" onclick=\"convertToInteractive('df-ce656d5b-a289-459a-a687-ada68ecc7646')\"\n",
              "            title=\"Convert this dataframe to an interactive table.\"\n",
              "            style=\"display:none;\">\n",
              "\n",
              "  <svg xmlns=\"http://www.w3.org/2000/svg\" height=\"24px\" viewBox=\"0 -960 960 960\">\n",
              "    <path d=\"M120-120v-720h720v720H120Zm60-500h600v-160H180v160Zm220 220h160v-160H400v160Zm0 220h160v-160H400v160ZM180-400h160v-160H180v160Zm440 0h160v-160H620v160ZM180-180h160v-160H180v160Zm440 0h160v-160H620v160Z\"/>\n",
              "  </svg>\n",
              "    </button>\n",
              "\n",
              "  <style>\n",
              "    .colab-df-container {\n",
              "      display:flex;\n",
              "      gap: 12px;\n",
              "    }\n",
              "\n",
              "    .colab-df-convert {\n",
              "      background-color: #E8F0FE;\n",
              "      border: none;\n",
              "      border-radius: 50%;\n",
              "      cursor: pointer;\n",
              "      display: none;\n",
              "      fill: #1967D2;\n",
              "      height: 32px;\n",
              "      padding: 0 0 0 0;\n",
              "      width: 32px;\n",
              "    }\n",
              "\n",
              "    .colab-df-convert:hover {\n",
              "      background-color: #E2EBFA;\n",
              "      box-shadow: 0px 1px 2px rgba(60, 64, 67, 0.3), 0px 1px 3px 1px rgba(60, 64, 67, 0.15);\n",
              "      fill: #174EA6;\n",
              "    }\n",
              "\n",
              "    .colab-df-buttons div {\n",
              "      margin-bottom: 4px;\n",
              "    }\n",
              "\n",
              "    [theme=dark] .colab-df-convert {\n",
              "      background-color: #3B4455;\n",
              "      fill: #D2E3FC;\n",
              "    }\n",
              "\n",
              "    [theme=dark] .colab-df-convert:hover {\n",
              "      background-color: #434B5C;\n",
              "      box-shadow: 0px 1px 3px 1px rgba(0, 0, 0, 0.15);\n",
              "      filter: drop-shadow(0px 1px 2px rgba(0, 0, 0, 0.3));\n",
              "      fill: #FFFFFF;\n",
              "    }\n",
              "  </style>\n",
              "\n",
              "    <script>\n",
              "      const buttonEl =\n",
              "        document.querySelector('#df-ce656d5b-a289-459a-a687-ada68ecc7646 button.colab-df-convert');\n",
              "      buttonEl.style.display =\n",
              "        google.colab.kernel.accessAllowed ? 'block' : 'none';\n",
              "\n",
              "      async function convertToInteractive(key) {\n",
              "        const element = document.querySelector('#df-ce656d5b-a289-459a-a687-ada68ecc7646');\n",
              "        const dataTable =\n",
              "          await google.colab.kernel.invokeFunction('convertToInteractive',\n",
              "                                                    [key], {});\n",
              "        if (!dataTable) return;\n",
              "\n",
              "        const docLinkHtml = 'Like what you see? Visit the ' +\n",
              "          '<a target=\"_blank\" href=https://colab.research.google.com/notebooks/data_table.ipynb>data table notebook</a>'\n",
              "          + ' to learn more about interactive tables.';\n",
              "        element.innerHTML = '';\n",
              "        dataTable['output_type'] = 'display_data';\n",
              "        await google.colab.output.renderOutput(dataTable, element);\n",
              "        const docLink = document.createElement('div');\n",
              "        docLink.innerHTML = docLinkHtml;\n",
              "        element.appendChild(docLink);\n",
              "      }\n",
              "    </script>\n",
              "  </div>\n",
              "\n",
              "\n",
              "<div id=\"df-712de973-f7d5-47e9-94e8-996471787093\">\n",
              "  <button class=\"colab-df-quickchart\" onclick=\"quickchart('df-712de973-f7d5-47e9-94e8-996471787093')\"\n",
              "            title=\"Suggest charts\"\n",
              "            style=\"display:none;\">\n",
              "\n",
              "<svg xmlns=\"http://www.w3.org/2000/svg\" height=\"24px\"viewBox=\"0 0 24 24\"\n",
              "     width=\"24px\">\n",
              "    <g>\n",
              "        <path d=\"M19 3H5c-1.1 0-2 .9-2 2v14c0 1.1.9 2 2 2h14c1.1 0 2-.9 2-2V5c0-1.1-.9-2-2-2zM9 17H7v-7h2v7zm4 0h-2V7h2v10zm4 0h-2v-4h2v4z\"/>\n",
              "    </g>\n",
              "</svg>\n",
              "  </button>\n",
              "\n",
              "<style>\n",
              "  .colab-df-quickchart {\n",
              "      --bg-color: #E8F0FE;\n",
              "      --fill-color: #1967D2;\n",
              "      --hover-bg-color: #E2EBFA;\n",
              "      --hover-fill-color: #174EA6;\n",
              "      --disabled-fill-color: #AAA;\n",
              "      --disabled-bg-color: #DDD;\n",
              "  }\n",
              "\n",
              "  [theme=dark] .colab-df-quickchart {\n",
              "      --bg-color: #3B4455;\n",
              "      --fill-color: #D2E3FC;\n",
              "      --hover-bg-color: #434B5C;\n",
              "      --hover-fill-color: #FFFFFF;\n",
              "      --disabled-bg-color: #3B4455;\n",
              "      --disabled-fill-color: #666;\n",
              "  }\n",
              "\n",
              "  .colab-df-quickchart {\n",
              "    background-color: var(--bg-color);\n",
              "    border: none;\n",
              "    border-radius: 50%;\n",
              "    cursor: pointer;\n",
              "    display: none;\n",
              "    fill: var(--fill-color);\n",
              "    height: 32px;\n",
              "    padding: 0;\n",
              "    width: 32px;\n",
              "  }\n",
              "\n",
              "  .colab-df-quickchart:hover {\n",
              "    background-color: var(--hover-bg-color);\n",
              "    box-shadow: 0 1px 2px rgba(60, 64, 67, 0.3), 0 1px 3px 1px rgba(60, 64, 67, 0.15);\n",
              "    fill: var(--button-hover-fill-color);\n",
              "  }\n",
              "\n",
              "  .colab-df-quickchart-complete:disabled,\n",
              "  .colab-df-quickchart-complete:disabled:hover {\n",
              "    background-color: var(--disabled-bg-color);\n",
              "    fill: var(--disabled-fill-color);\n",
              "    box-shadow: none;\n",
              "  }\n",
              "\n",
              "  .colab-df-spinner {\n",
              "    border: 2px solid var(--fill-color);\n",
              "    border-color: transparent;\n",
              "    border-bottom-color: var(--fill-color);\n",
              "    animation:\n",
              "      spin 1s steps(1) infinite;\n",
              "  }\n",
              "\n",
              "  @keyframes spin {\n",
              "    0% {\n",
              "      border-color: transparent;\n",
              "      border-bottom-color: var(--fill-color);\n",
              "      border-left-color: var(--fill-color);\n",
              "    }\n",
              "    20% {\n",
              "      border-color: transparent;\n",
              "      border-left-color: var(--fill-color);\n",
              "      border-top-color: var(--fill-color);\n",
              "    }\n",
              "    30% {\n",
              "      border-color: transparent;\n",
              "      border-left-color: var(--fill-color);\n",
              "      border-top-color: var(--fill-color);\n",
              "      border-right-color: var(--fill-color);\n",
              "    }\n",
              "    40% {\n",
              "      border-color: transparent;\n",
              "      border-right-color: var(--fill-color);\n",
              "      border-top-color: var(--fill-color);\n",
              "    }\n",
              "    60% {\n",
              "      border-color: transparent;\n",
              "      border-right-color: var(--fill-color);\n",
              "    }\n",
              "    80% {\n",
              "      border-color: transparent;\n",
              "      border-right-color: var(--fill-color);\n",
              "      border-bottom-color: var(--fill-color);\n",
              "    }\n",
              "    90% {\n",
              "      border-color: transparent;\n",
              "      border-bottom-color: var(--fill-color);\n",
              "    }\n",
              "  }\n",
              "</style>\n",
              "\n",
              "  <script>\n",
              "    async function quickchart(key) {\n",
              "      const quickchartButtonEl =\n",
              "        document.querySelector('#' + key + ' button');\n",
              "      quickchartButtonEl.disabled = true;  // To prevent multiple clicks.\n",
              "      quickchartButtonEl.classList.add('colab-df-spinner');\n",
              "      try {\n",
              "        const charts = await google.colab.kernel.invokeFunction(\n",
              "            'suggestCharts', [key], {});\n",
              "      } catch (error) {\n",
              "        console.error('Error during call to suggestCharts:', error);\n",
              "      }\n",
              "      quickchartButtonEl.classList.remove('colab-df-spinner');\n",
              "      quickchartButtonEl.classList.add('colab-df-quickchart-complete');\n",
              "    }\n",
              "    (() => {\n",
              "      let quickchartButtonEl =\n",
              "        document.querySelector('#df-712de973-f7d5-47e9-94e8-996471787093 button');\n",
              "      quickchartButtonEl.style.display =\n",
              "        google.colab.kernel.accessAllowed ? 'block' : 'none';\n",
              "    })();\n",
              "  </script>\n",
              "</div>\n",
              "\n",
              "    </div>\n",
              "  </div>\n"
            ],
            "application/vnd.google.colaboratory.intrinsic+json": {
              "type": "dataframe",
              "variable_name": "df",
              "summary": "{\n  \"name\": \"df\",\n  \"rows\": 20000,\n  \"fields\": [\n    {\n      \"column\": \"rewire_id\",\n      \"properties\": {\n        \"dtype\": \"string\",\n        \"num_unique_values\": 20000,\n        \"samples\": [\n          \"sexism2022_english-6244\",\n          \"sexism2022_english-8088\",\n          \"sexism2022_english-3423\"\n        ],\n        \"semantic_type\": \"\",\n        \"description\": \"\"\n      }\n    },\n    {\n      \"column\": \"text\",\n      \"properties\": {\n        \"dtype\": \"string\",\n        \"num_unique_values\": 20000,\n        \"samples\": [\n          \"We just had a kaffir black in South Africa throw his 3 year old daughter off the roof of his shack to protest it being demolished. He gets a warning. Demonic race of people.\",\n          \"What they won't tell you about is the Chiefs who run shit like the fucking mafia. Where they play the big pimp and force the girls into it, or \\\"haze\\\" them day in and day out.\",\n          \"Ah the screeching of the single mom. Tossed aside and passed over by man after man because they decided to keep their Chad Trophy. Shame us all you want. Enjoy watching the Doodlebops for the 400th time :)\"\n        ],\n        \"semantic_type\": \"\",\n        \"description\": \"\"\n      }\n    },\n    {\n      \"column\": \"label_sexist\",\n      \"properties\": {\n        \"dtype\": \"category\",\n        \"num_unique_values\": 2,\n        \"samples\": [\n          \"sexist\",\n          \"not sexist\"\n        ],\n        \"semantic_type\": \"\",\n        \"description\": \"\"\n      }\n    },\n    {\n      \"column\": \"label_category\",\n      \"properties\": {\n        \"dtype\": \"category\",\n        \"num_unique_values\": 5,\n        \"samples\": [\n          \"3. animosity\",\n          \"1. threats, plans to harm and incitement\"\n        ],\n        \"semantic_type\": \"\",\n        \"description\": \"\"\n      }\n    },\n    {\n      \"column\": \"label_vector\",\n      \"properties\": {\n        \"dtype\": \"category\",\n        \"num_unique_values\": 12,\n        \"samples\": [\n          \"1.1 threats of harm\",\n          \"3.1 casual use of gendered slurs, profanities, and insults\"\n        ],\n        \"semantic_type\": \"\",\n        \"description\": \"\"\n      }\n    },\n    {\n      \"column\": \"split\",\n      \"properties\": {\n        \"dtype\": \"category\",\n        \"num_unique_values\": 3,\n        \"samples\": [\n          \"dev\",\n          \"train\"\n        ],\n        \"semantic_type\": \"\",\n        \"description\": \"\"\n      }\n    }\n  ]\n}"
            }
          },
          "metadata": {},
          "execution_count": 2
        }
      ]
    },
    {
      "cell_type": "code",
      "source": [
        "import nltk\n",
        "nltk.download('stopwords')\n",
        "nltk.download('wordnet')"
      ],
      "metadata": {
        "colab": {
          "base_uri": "https://localhost:8080/"
        },
        "id": "P8gTREokslOo",
        "outputId": "59b89e3c-0f24-4edb-ed9e-f91fb98054bb"
      },
      "execution_count": null,
      "outputs": [
        {
          "output_type": "stream",
          "name": "stderr",
          "text": [
            "[nltk_data] Downloading package stopwords to /root/nltk_data...\n",
            "[nltk_data]   Unzipping corpora/stopwords.zip.\n",
            "[nltk_data] Downloading package wordnet to /root/nltk_data...\n"
          ]
        },
        {
          "output_type": "execute_result",
          "data": {
            "text/plain": [
              "True"
            ]
          },
          "metadata": {},
          "execution_count": 2
        }
      ]
    },
    {
      "cell_type": "code",
      "source": [
        "df_syn = pd.read_csv(\"edos_aug_eda.csv\")\n",
        "#df_syn = df_syn.drop(columns=['__index_level_0__'])\n",
        "df_syn.head()"
      ],
      "metadata": {
        "colab": {
          "base_uri": "https://localhost:8080/",
          "height": 206
        },
        "id": "PDHoo4dqsxK7",
        "outputId": "dbf53efb-48ef-47ad-cd70-aa524a02d6ed"
      },
      "execution_count": null,
      "outputs": [
        {
          "output_type": "execute_result",
          "data": {
            "text/plain": [
              "                  rewire_id  \\\n",
              "0   sexism2022_english-9609   \n",
              "1  sexism2022_english-16993   \n",
              "2  sexism2022_english-13149   \n",
              "3  sexism2022_english-13021   \n",
              "4    sexism2022_english-966   \n",
              "\n",
              "                                                text label_sexist  \\\n",
              "0  rape Nigeria, if you In a woman, the you back!...   not sexist   \n",
              "1                            Then, she's a 😉 keeper.   not sexist   \n",
              "2  This is again, Metallica video where the poor ...   not sexist   \n",
              "3                                             woman?   not sexist   \n",
              "4                     I a she wished she had bet gun   not sexist   \n",
              "\n",
              "  label_category label_vector  split  \n",
              "0           none         none    dev  \n",
              "1           none         none  train  \n",
              "2           none         none  train  \n",
              "3           none         none  train  \n",
              "4           none         none    dev  "
            ],
            "text/html": [
              "\n",
              "  <div id=\"df-7b7af4a0-44f4-49a6-836d-84738b6cdb61\" class=\"colab-df-container\">\n",
              "    <div>\n",
              "<style scoped>\n",
              "    .dataframe tbody tr th:only-of-type {\n",
              "        vertical-align: middle;\n",
              "    }\n",
              "\n",
              "    .dataframe tbody tr th {\n",
              "        vertical-align: top;\n",
              "    }\n",
              "\n",
              "    .dataframe thead th {\n",
              "        text-align: right;\n",
              "    }\n",
              "</style>\n",
              "<table border=\"1\" class=\"dataframe\">\n",
              "  <thead>\n",
              "    <tr style=\"text-align: right;\">\n",
              "      <th></th>\n",
              "      <th>rewire_id</th>\n",
              "      <th>text</th>\n",
              "      <th>label_sexist</th>\n",
              "      <th>label_category</th>\n",
              "      <th>label_vector</th>\n",
              "      <th>split</th>\n",
              "    </tr>\n",
              "  </thead>\n",
              "  <tbody>\n",
              "    <tr>\n",
              "      <th>0</th>\n",
              "      <td>sexism2022_english-9609</td>\n",
              "      <td>rape Nigeria, if you In a woman, the you back!...</td>\n",
              "      <td>not sexist</td>\n",
              "      <td>none</td>\n",
              "      <td>none</td>\n",
              "      <td>dev</td>\n",
              "    </tr>\n",
              "    <tr>\n",
              "      <th>1</th>\n",
              "      <td>sexism2022_english-16993</td>\n",
              "      <td>Then, she's a 😉 keeper.</td>\n",
              "      <td>not sexist</td>\n",
              "      <td>none</td>\n",
              "      <td>none</td>\n",
              "      <td>train</td>\n",
              "    </tr>\n",
              "    <tr>\n",
              "      <th>2</th>\n",
              "      <td>sexism2022_english-13149</td>\n",
              "      <td>This is again, Metallica video where the poor ...</td>\n",
              "      <td>not sexist</td>\n",
              "      <td>none</td>\n",
              "      <td>none</td>\n",
              "      <td>train</td>\n",
              "    </tr>\n",
              "    <tr>\n",
              "      <th>3</th>\n",
              "      <td>sexism2022_english-13021</td>\n",
              "      <td>woman?</td>\n",
              "      <td>not sexist</td>\n",
              "      <td>none</td>\n",
              "      <td>none</td>\n",
              "      <td>train</td>\n",
              "    </tr>\n",
              "    <tr>\n",
              "      <th>4</th>\n",
              "      <td>sexism2022_english-966</td>\n",
              "      <td>I a she wished she had bet gun</td>\n",
              "      <td>not sexist</td>\n",
              "      <td>none</td>\n",
              "      <td>none</td>\n",
              "      <td>dev</td>\n",
              "    </tr>\n",
              "  </tbody>\n",
              "</table>\n",
              "</div>\n",
              "    <div class=\"colab-df-buttons\">\n",
              "\n",
              "  <div class=\"colab-df-container\">\n",
              "    <button class=\"colab-df-convert\" onclick=\"convertToInteractive('df-7b7af4a0-44f4-49a6-836d-84738b6cdb61')\"\n",
              "            title=\"Convert this dataframe to an interactive table.\"\n",
              "            style=\"display:none;\">\n",
              "\n",
              "  <svg xmlns=\"http://www.w3.org/2000/svg\" height=\"24px\" viewBox=\"0 -960 960 960\">\n",
              "    <path d=\"M120-120v-720h720v720H120Zm60-500h600v-160H180v160Zm220 220h160v-160H400v160Zm0 220h160v-160H400v160ZM180-400h160v-160H180v160Zm440 0h160v-160H620v160ZM180-180h160v-160H180v160Zm440 0h160v-160H620v160Z\"/>\n",
              "  </svg>\n",
              "    </button>\n",
              "\n",
              "  <style>\n",
              "    .colab-df-container {\n",
              "      display:flex;\n",
              "      gap: 12px;\n",
              "    }\n",
              "\n",
              "    .colab-df-convert {\n",
              "      background-color: #E8F0FE;\n",
              "      border: none;\n",
              "      border-radius: 50%;\n",
              "      cursor: pointer;\n",
              "      display: none;\n",
              "      fill: #1967D2;\n",
              "      height: 32px;\n",
              "      padding: 0 0 0 0;\n",
              "      width: 32px;\n",
              "    }\n",
              "\n",
              "    .colab-df-convert:hover {\n",
              "      background-color: #E2EBFA;\n",
              "      box-shadow: 0px 1px 2px rgba(60, 64, 67, 0.3), 0px 1px 3px 1px rgba(60, 64, 67, 0.15);\n",
              "      fill: #174EA6;\n",
              "    }\n",
              "\n",
              "    .colab-df-buttons div {\n",
              "      margin-bottom: 4px;\n",
              "    }\n",
              "\n",
              "    [theme=dark] .colab-df-convert {\n",
              "      background-color: #3B4455;\n",
              "      fill: #D2E3FC;\n",
              "    }\n",
              "\n",
              "    [theme=dark] .colab-df-convert:hover {\n",
              "      background-color: #434B5C;\n",
              "      box-shadow: 0px 1px 3px 1px rgba(0, 0, 0, 0.15);\n",
              "      filter: drop-shadow(0px 1px 2px rgba(0, 0, 0, 0.3));\n",
              "      fill: #FFFFFF;\n",
              "    }\n",
              "  </style>\n",
              "\n",
              "    <script>\n",
              "      const buttonEl =\n",
              "        document.querySelector('#df-7b7af4a0-44f4-49a6-836d-84738b6cdb61 button.colab-df-convert');\n",
              "      buttonEl.style.display =\n",
              "        google.colab.kernel.accessAllowed ? 'block' : 'none';\n",
              "\n",
              "      async function convertToInteractive(key) {\n",
              "        const element = document.querySelector('#df-7b7af4a0-44f4-49a6-836d-84738b6cdb61');\n",
              "        const dataTable =\n",
              "          await google.colab.kernel.invokeFunction('convertToInteractive',\n",
              "                                                    [key], {});\n",
              "        if (!dataTable) return;\n",
              "\n",
              "        const docLinkHtml = 'Like what you see? Visit the ' +\n",
              "          '<a target=\"_blank\" href=https://colab.research.google.com/notebooks/data_table.ipynb>data table notebook</a>'\n",
              "          + ' to learn more about interactive tables.';\n",
              "        element.innerHTML = '';\n",
              "        dataTable['output_type'] = 'display_data';\n",
              "        await google.colab.output.renderOutput(dataTable, element);\n",
              "        const docLink = document.createElement('div');\n",
              "        docLink.innerHTML = docLinkHtml;\n",
              "        element.appendChild(docLink);\n",
              "      }\n",
              "    </script>\n",
              "  </div>\n",
              "\n",
              "\n",
              "<div id=\"df-f0351a67-c230-41f1-b426-50adb5a09141\">\n",
              "  <button class=\"colab-df-quickchart\" onclick=\"quickchart('df-f0351a67-c230-41f1-b426-50adb5a09141')\"\n",
              "            title=\"Suggest charts\"\n",
              "            style=\"display:none;\">\n",
              "\n",
              "<svg xmlns=\"http://www.w3.org/2000/svg\" height=\"24px\"viewBox=\"0 0 24 24\"\n",
              "     width=\"24px\">\n",
              "    <g>\n",
              "        <path d=\"M19 3H5c-1.1 0-2 .9-2 2v14c0 1.1.9 2 2 2h14c1.1 0 2-.9 2-2V5c0-1.1-.9-2-2-2zM9 17H7v-7h2v7zm4 0h-2V7h2v10zm4 0h-2v-4h2v4z\"/>\n",
              "    </g>\n",
              "</svg>\n",
              "  </button>\n",
              "\n",
              "<style>\n",
              "  .colab-df-quickchart {\n",
              "      --bg-color: #E8F0FE;\n",
              "      --fill-color: #1967D2;\n",
              "      --hover-bg-color: #E2EBFA;\n",
              "      --hover-fill-color: #174EA6;\n",
              "      --disabled-fill-color: #AAA;\n",
              "      --disabled-bg-color: #DDD;\n",
              "  }\n",
              "\n",
              "  [theme=dark] .colab-df-quickchart {\n",
              "      --bg-color: #3B4455;\n",
              "      --fill-color: #D2E3FC;\n",
              "      --hover-bg-color: #434B5C;\n",
              "      --hover-fill-color: #FFFFFF;\n",
              "      --disabled-bg-color: #3B4455;\n",
              "      --disabled-fill-color: #666;\n",
              "  }\n",
              "\n",
              "  .colab-df-quickchart {\n",
              "    background-color: var(--bg-color);\n",
              "    border: none;\n",
              "    border-radius: 50%;\n",
              "    cursor: pointer;\n",
              "    display: none;\n",
              "    fill: var(--fill-color);\n",
              "    height: 32px;\n",
              "    padding: 0;\n",
              "    width: 32px;\n",
              "  }\n",
              "\n",
              "  .colab-df-quickchart:hover {\n",
              "    background-color: var(--hover-bg-color);\n",
              "    box-shadow: 0 1px 2px rgba(60, 64, 67, 0.3), 0 1px 3px 1px rgba(60, 64, 67, 0.15);\n",
              "    fill: var(--button-hover-fill-color);\n",
              "  }\n",
              "\n",
              "  .colab-df-quickchart-complete:disabled,\n",
              "  .colab-df-quickchart-complete:disabled:hover {\n",
              "    background-color: var(--disabled-bg-color);\n",
              "    fill: var(--disabled-fill-color);\n",
              "    box-shadow: none;\n",
              "  }\n",
              "\n",
              "  .colab-df-spinner {\n",
              "    border: 2px solid var(--fill-color);\n",
              "    border-color: transparent;\n",
              "    border-bottom-color: var(--fill-color);\n",
              "    animation:\n",
              "      spin 1s steps(1) infinite;\n",
              "  }\n",
              "\n",
              "  @keyframes spin {\n",
              "    0% {\n",
              "      border-color: transparent;\n",
              "      border-bottom-color: var(--fill-color);\n",
              "      border-left-color: var(--fill-color);\n",
              "    }\n",
              "    20% {\n",
              "      border-color: transparent;\n",
              "      border-left-color: var(--fill-color);\n",
              "      border-top-color: var(--fill-color);\n",
              "    }\n",
              "    30% {\n",
              "      border-color: transparent;\n",
              "      border-left-color: var(--fill-color);\n",
              "      border-top-color: var(--fill-color);\n",
              "      border-right-color: var(--fill-color);\n",
              "    }\n",
              "    40% {\n",
              "      border-color: transparent;\n",
              "      border-right-color: var(--fill-color);\n",
              "      border-top-color: var(--fill-color);\n",
              "    }\n",
              "    60% {\n",
              "      border-color: transparent;\n",
              "      border-right-color: var(--fill-color);\n",
              "    }\n",
              "    80% {\n",
              "      border-color: transparent;\n",
              "      border-right-color: var(--fill-color);\n",
              "      border-bottom-color: var(--fill-color);\n",
              "    }\n",
              "    90% {\n",
              "      border-color: transparent;\n",
              "      border-bottom-color: var(--fill-color);\n",
              "    }\n",
              "  }\n",
              "</style>\n",
              "\n",
              "  <script>\n",
              "    async function quickchart(key) {\n",
              "      const quickchartButtonEl =\n",
              "        document.querySelector('#' + key + ' button');\n",
              "      quickchartButtonEl.disabled = true;  // To prevent multiple clicks.\n",
              "      quickchartButtonEl.classList.add('colab-df-spinner');\n",
              "      try {\n",
              "        const charts = await google.colab.kernel.invokeFunction(\n",
              "            'suggestCharts', [key], {});\n",
              "      } catch (error) {\n",
              "        console.error('Error during call to suggestCharts:', error);\n",
              "      }\n",
              "      quickchartButtonEl.classList.remove('colab-df-spinner');\n",
              "      quickchartButtonEl.classList.add('colab-df-quickchart-complete');\n",
              "    }\n",
              "    (() => {\n",
              "      let quickchartButtonEl =\n",
              "        document.querySelector('#df-f0351a67-c230-41f1-b426-50adb5a09141 button');\n",
              "      quickchartButtonEl.style.display =\n",
              "        google.colab.kernel.accessAllowed ? 'block' : 'none';\n",
              "    })();\n",
              "  </script>\n",
              "</div>\n",
              "\n",
              "    </div>\n",
              "  </div>\n"
            ],
            "application/vnd.google.colaboratory.intrinsic+json": {
              "type": "dataframe",
              "variable_name": "df_syn",
              "summary": "{\n  \"name\": \"df_syn\",\n  \"rows\": 20000,\n  \"fields\": [\n    {\n      \"column\": \"rewire_id\",\n      \"properties\": {\n        \"dtype\": \"string\",\n        \"num_unique_values\": 20000,\n        \"samples\": [\n          \"sexism2022_english-6244\",\n          \"sexism2022_english-8088\",\n          \"sexism2022_english-3423\"\n        ],\n        \"semantic_type\": \"\",\n        \"description\": \"\"\n      }\n    },\n    {\n      \"column\": \"text\",\n      \"properties\": {\n        \"dtype\": \"string\",\n        \"num_unique_values\": 20000,\n        \"samples\": [\n          \"We just people. kaffir black in Africa throw his year daughter off roof of his shack to protest it being demolished. He gets a warning. Demonic race of a\",\n          \"What they won't tell you about is the run shit like the fucking mafia. Where they play the big pimp and force into \\\"haze\\\" or it, them day in and day out.\",\n          \"Ah the screeching of the single mom. Tossed aside to passed over by man after man because they decided and keep their Chad Trophy. Shame all you want. Enjoy watching the Doodlebops for 400th time :)\"\n        ],\n        \"semantic_type\": \"\",\n        \"description\": \"\"\n      }\n    },\n    {\n      \"column\": \"label_sexist\",\n      \"properties\": {\n        \"dtype\": \"category\",\n        \"num_unique_values\": 2,\n        \"samples\": [\n          \"sexist\",\n          \"not sexist\"\n        ],\n        \"semantic_type\": \"\",\n        \"description\": \"\"\n      }\n    },\n    {\n      \"column\": \"label_category\",\n      \"properties\": {\n        \"dtype\": \"category\",\n        \"num_unique_values\": 5,\n        \"samples\": [\n          \"3. animosity\",\n          \"1. threats, plans to harm and incitement\"\n        ],\n        \"semantic_type\": \"\",\n        \"description\": \"\"\n      }\n    },\n    {\n      \"column\": \"label_vector\",\n      \"properties\": {\n        \"dtype\": \"category\",\n        \"num_unique_values\": 12,\n        \"samples\": [\n          \"1.1 threats of harm\",\n          \"3.1 casual use of gendered slurs, profanities, and insults\"\n        ],\n        \"semantic_type\": \"\",\n        \"description\": \"\"\n      }\n    },\n    {\n      \"column\": \"split\",\n      \"properties\": {\n        \"dtype\": \"category\",\n        \"num_unique_values\": 3,\n        \"samples\": [\n          \"dev\",\n          \"train\"\n        ],\n        \"semantic_type\": \"\",\n        \"description\": \"\"\n      }\n    }\n  ]\n}"
            }
          },
          "metadata": {},
          "execution_count": 3
        }
      ]
    },
    {
      "cell_type": "code",
      "source": [
        "df_train_original = df[df['split']=='train']\n",
        "df_dev = df[df['split']=='dev']\n",
        "df_test = df[df['split']=='test']"
      ],
      "metadata": {
        "id": "BVhgVfmHtU9z"
      },
      "execution_count": null,
      "outputs": []
    },
    {
      "cell_type": "code",
      "source": [
        "df_train = pd.concat([df_train_original, df_syn[(df_syn['split'] == 'train') & (df_syn['label_sexist'] == 'sexist')]])\n",
        "#df_train = pd.concat([df_train_original])\n",
        "print(df_train_original.shape)\n",
        "print(df_train.shape)"
      ],
      "metadata": {
        "colab": {
          "base_uri": "https://localhost:8080/"
        },
        "id": "par-JbqktI7H",
        "outputId": "7bb11ed5-6428-491f-f06c-47fa681b5f4a"
      },
      "execution_count": null,
      "outputs": [
        {
          "output_type": "stream",
          "name": "stdout",
          "text": [
            "(14000, 6)\n",
            "(17398, 6)\n"
          ]
        }
      ]
    },
    {
      "cell_type": "code",
      "source": [],
      "metadata": {
        "id": "1a23QuDBswZN"
      },
      "execution_count": null,
      "outputs": []
    },
    {
      "cell_type": "code",
      "source": [
        "\n",
        "X_train = df_train['text'].fillna('')\n",
        "X_val = df_dev['text'].fillna('')\n",
        "X_test= df_test['text'].fillna('')"
      ],
      "metadata": {
        "id": "rkIqEEryV6tW"
      },
      "execution_count": null,
      "outputs": []
    },
    {
      "cell_type": "code",
      "source": [
        "import nltk\n",
        "nltk.download('stopwords')\n",
        "nltk.download('punkt')\n",
        "from nltk.corpus import stopwords\n",
        "from nltk.tokenize import word_tokenize\n",
        "import string\n",
        "\n",
        "stop_words = set(stopwords.words('english'))\n",
        "def preprocess(text):\n",
        "    text = text.lower()\n",
        "    text = ''.join([word for word in text if word not in string.punctuation])\n",
        "    tokens = word_tokenize(text)\n",
        "    tokens = [word for word in tokens if word not in stop_words]\n",
        "    return ' '.join(tokens)\n",
        "\n"
      ],
      "metadata": {
        "colab": {
          "base_uri": "https://localhost:8080/"
        },
        "id": "6-b3lDBmTS-C",
        "outputId": "bb731489-cf28-47e8-f898-7683be8af162"
      },
      "execution_count": null,
      "outputs": [
        {
          "output_type": "stream",
          "name": "stderr",
          "text": [
            "[nltk_data] Downloading package stopwords to /root/nltk_data...\n",
            "[nltk_data]   Unzipping corpora/stopwords.zip.\n",
            "[nltk_data] Downloading package punkt to /root/nltk_data...\n",
            "[nltk_data]   Unzipping tokenizers/punkt.zip.\n"
          ]
        }
      ]
    },
    {
      "cell_type": "code",
      "source": [
        "X_train = X_train.apply(preprocess)\n",
        "X_val = X_val.apply(preprocess)\n",
        "X_test = X_test.apply(preprocess)"
      ],
      "metadata": {
        "id": "S7k3A9UdTYUq"
      },
      "execution_count": null,
      "outputs": []
    },
    {
      "cell_type": "code",
      "source": [
        "from sklearn.preprocessing import LabelEncoder\n",
        "# Inicializa el codificador de etiquetas\n",
        "label_encoder = LabelEncoder()\n",
        "\n",
        "# Ajusta el codificador y transforma las etiquetas de texto a números\n",
        "y_train_num = label_encoder.fit_transform(df_train['label_sexist'])\n",
        "y_val_num = label_encoder.transform(df_dev['label_sexist'])\n",
        "y_test_num = label_encoder.transform(df_test['label_sexist'])\n",
        "# Obtener los nombres de las etiquetas\n",
        "label_names = label_encoder.inverse_transform(range(len(set(y_train_num))))\n",
        "print(y_test_num)\n"
      ],
      "metadata": {
        "colab": {
          "base_uri": "https://localhost:8080/"
        },
        "id": "6oofSdrwb97t",
        "outputId": "6f9488cb-48d5-4f85-9bb9-a27eb0004c13"
      },
      "execution_count": null,
      "outputs": [
        {
          "output_type": "stream",
          "name": "stdout",
          "text": [
            "[0 1 0 ... 0 0 1]\n"
          ]
        }
      ]
    },
    {
      "cell_type": "markdown",
      "source": [
        "# Frecuencias"
      ],
      "metadata": {
        "id": "trEr0t4-CBXy"
      }
    },
    {
      "cell_type": "code",
      "source": [
        "# Frecuencias\n",
        "from sklearn.feature_extraction.text import CountVectorizer\n",
        "\n",
        "vectorizer = CountVectorizer(stop_words='english')\n",
        "vectors_train = vectorizer.fit_transform(X_train)\n",
        "vectors_val = vectorizer.transform(X_val)\n",
        "vectors_test = vectorizer.transform(X_test)\n"
      ],
      "metadata": {
        "id": "p3OGwr0JCEKj"
      },
      "execution_count": null,
      "outputs": []
    },
    {
      "cell_type": "code",
      "source": [
        "# Para validación cruzada\n",
        "from scipy.sparse import vstack\n",
        "import numpy as np\n",
        "\n",
        "vectors_train = vstack([vectors_train, vectors_val])\n"
      ],
      "metadata": {
        "id": "cFT53LkwCLKb"
      },
      "execution_count": null,
      "outputs": []
    },
    {
      "cell_type": "code",
      "source": [
        "y_train_num=np.concatenate((y_train_num,y_val_num))"
      ],
      "metadata": {
        "id": "Uwb63cmJxwBw"
      },
      "execution_count": null,
      "outputs": []
    },
    {
      "cell_type": "markdown",
      "source": [
        "## TFIDF"
      ],
      "metadata": {
        "id": "IEsE0scYUNDg"
      }
    },
    {
      "cell_type": "code",
      "source": [
        "from sklearn.feature_extraction.text import TfidfVectorizer\n",
        "vectorizer = TfidfVectorizer()\n",
        "vectors_train = vectorizer.fit_transform(X_train)\n",
        "vectors_val = vectorizer.transform(X_val)\n",
        "vectors_test = vectorizer.transform(X_test)"
      ],
      "metadata": {
        "id": "krL14p3rT5rT"
      },
      "execution_count": null,
      "outputs": []
    },
    {
      "cell_type": "code",
      "source": [
        "# Para validación cruzada\n",
        "from scipy.sparse import vstack\n",
        "import numpy as np\n",
        "\n",
        "vectors_train = vstack([vectors_train, vectors_val])\n",
        "y_train_num=np.concatenate((y_train_num,y_val_num))"
      ],
      "metadata": {
        "id": "rxM4JYCuUzJB"
      },
      "execution_count": null,
      "outputs": []
    },
    {
      "cell_type": "markdown",
      "source": [
        "# Embedding estaticos"
      ],
      "metadata": {
        "id": "FcS0JPOzoiit"
      }
    },
    {
      "cell_type": "code",
      "source": [
        "def vectorize_text(text, model):\n",
        "    vectors = [model[word] for word in text.split() if word in model]\n",
        "    if len(vectors) == 0:\n",
        "        return np.zeros(model.vector_size)\n",
        "    else:\n",
        "        return np.mean(vectors, axis=0)"
      ],
      "metadata": {
        "id": "JUv3ixmSsNG-"
      },
      "execution_count": null,
      "outputs": []
    },
    {
      "cell_type": "code",
      "source": [
        "import gensim.downloader\n",
        "# Show all available models in gensim-data\n",
        "models=['fasttext-wiki-news-subwords-300',  'word2vec-ruscorpora-300', 'word2vec-google-news-300', 'glove-wiki-gigaword-50', 'glove-wiki-gigaword-100',\n",
        "        'glove-wiki-gigaword-200', 'glove-wiki-gigaword-300', 'glove-twitter-25', 'glove-twitter-50', 'glove-twitter-100', 'glove-twitter-200']\n",
        "# Download the \"glove-twitter-25\" embeddings\n",
        "glove_vectors = gensim.downloader.load(''word2vec-google-news-300')\n",
        "\n",
        "# Use the downloaded vectors as usual:\n",
        "glove_vectors.most_similar('twitter')\n",
        "[('facebook', 0.948005199432373),\n",
        " ('tweet', 0.9403423070907593),\n",
        " ('fb', 0.9342358708381653),\n",
        " ('instagram', 0.9104824066162109),\n",
        " ('chat', 0.8964964747428894),\n",
        " ('hashtag', 0.8885937333106995),\n",
        " ('tweets', 0.8878158330917358),\n",
        " ('tl', 0.8778461217880249),\n",
        " ('link', 0.8778210878372192),\n",
        " ('internet', 0.8753897547721863)]"
      ],
      "metadata": {
        "id": "ViU3daOrooKg"
      },
      "execution_count": null,
      "outputs": []
    },
    {
      "cell_type": "code",
      "source": [
        "import gensim.downloader\n",
        "word2_vectors = gensim.downloader.load('fasttext-wiki-news-subwords-300')\n",
        "#embeddings_path = '/content/drive/My Drive/Embeddings/word2vec-google-news-300.bin.gz'\n",
        "#word2_vectors.save_word2vec_format(embeddings_path, binary=True)"
      ],
      "metadata": {
        "colab": {
          "base_uri": "https://localhost:8080/"
        },
        "id": "b2Pwmzl5pxhf",
        "outputId": "65654657-1bd0-49dd-b2c3-f0c14afbc5dd"
      },
      "execution_count": null,
      "outputs": [
        {
          "output_type": "stream",
          "name": "stdout",
          "text": [
            "[==================================================] 100.0% 958.5/958.4MB downloaded\n"
          ]
        }
      ]
    },
    {
      "cell_type": "code",
      "source": [
        "import numpy as np\n",
        "vectors_train = np.array([vectorize_text(text, word2_vectors) for text in X_train])\n",
        "vectors_val = np.array([vectorize_text(text, word2_vectors) for text in X_val])\n",
        "vectors_test = np.array([vectorize_text(text, word2_vectors) for text in X_test])"
      ],
      "metadata": {
        "id": "8PLwR3J0tWQG"
      },
      "execution_count": null,
      "outputs": []
    },
    {
      "cell_type": "code",
      "source": [
        "vocab_size=len(word2_vectors.key_to_index)\n",
        "print(vocab_size)"
      ],
      "metadata": {
        "colab": {
          "base_uri": "https://localhost:8080/"
        },
        "id": "1f09SwrA_vQ8",
        "outputId": "86859e4d-9f4a-477c-a8d6-3ea14d3332fc"
      },
      "execution_count": null,
      "outputs": [
        {
          "output_type": "stream",
          "name": "stdout",
          "text": [
            "400000\n"
          ]
        }
      ]
    },
    {
      "cell_type": "code",
      "source": [
        "# Para validacion cruzada\n",
        "vectors_train=np.concatenate((vectors_train,vectors_val))\n"
      ],
      "metadata": {
        "id": "pkGUq6FZKo7q"
      },
      "execution_count": null,
      "outputs": []
    },
    {
      "cell_type": "code",
      "source": [
        "y_train_num=np.concatenate((y_train_num,y_val_num))"
      ],
      "metadata": {
        "id": "Gti9datFVTbs"
      },
      "execution_count": null,
      "outputs": []
    },
    {
      "cell_type": "markdown",
      "source": [
        "# Entrenando embeddings"
      ],
      "metadata": {
        "id": "s_t2rYVpUjuC"
      }
    },
    {
      "cell_type": "code",
      "source": [
        "from gensim.models import Word2Vec\n",
        "\n",
        "sentences = [sentence.split() for sentence in X_train]\n",
        "w2v_model = Word2Vec(sentences, vector_size=300, window=5, min_count=5, workers=4)"
      ],
      "metadata": {
        "id": "QRRNIDXXUoKu"
      },
      "execution_count": null,
      "outputs": []
    },
    {
      "cell_type": "code",
      "source": [
        "import numpy as np\n",
        "\n",
        "def vectorize(sentence):\n",
        "    words = sentence.split()\n",
        "    words_vecs = [w2v_model.wv[word] for word in words if word in w2v_model.wv]\n",
        "    if len(words_vecs) == 0:\n",
        "        return np.zeros(300)\n",
        "    words_vecs = np.array(words_vecs)\n",
        "    return words_vecs.mean(axis=0)"
      ],
      "metadata": {
        "id": "Tn3EHmRbWsXI"
      },
      "execution_count": null,
      "outputs": []
    },
    {
      "cell_type": "code",
      "source": [
        "vectors_train = np.array([vectorize(sentence) for sentence in X_train])\n",
        "vectors_val = np.array([vectorize(sentence) for sentence in X_val])\n",
        "vectors_test = np.array([vectorize(sentence) for sentence in X_test])"
      ],
      "metadata": {
        "id": "aR-BZuQHXaGL"
      },
      "execution_count": null,
      "outputs": []
    },
    {
      "cell_type": "code",
      "source": [
        "# Para validacion cruzada\n",
        "vectors_train=np.concatenate((vectors_train,vectors_val))"
      ],
      "metadata": {
        "id": "dEBISjfeW4Nk"
      },
      "execution_count": null,
      "outputs": []
    },
    {
      "cell_type": "code",
      "source": [
        "y_train_num=np.concatenate((y_train_num,y_val_num))"
      ],
      "metadata": {
        "id": "m3c4AbVokNLP"
      },
      "execution_count": null,
      "outputs": []
    },
    {
      "cell_type": "markdown",
      "source": [
        "# SVM"
      ],
      "metadata": {
        "id": "JHrRWQVdvyzF"
      }
    },
    {
      "cell_type": "code",
      "source": [
        "print(vectors_train.shape)\n",
        "print(y_train_num.shape)\n"
      ],
      "metadata": {
        "colab": {
          "base_uri": "https://localhost:8080/"
        },
        "id": "w4RN8lPqBOJJ",
        "outputId": "ea7ff525-2974-460e-d117-18a99993c70d"
      },
      "execution_count": null,
      "outputs": [
        {
          "output_type": "stream",
          "name": "stdout",
          "text": [
            "(19398, 200)\n",
            "(19398,)\n"
          ]
        }
      ]
    },
    {
      "cell_type": "code",
      "source": [
        "from sklearn.svm import SVC\n",
        "from sklearn.experimental import enable_halving_search_cv\n",
        "from sklearn.model_selection import HalvingGridSearchCV\n",
        "from sklearn.metrics import classification_report\n",
        "from sklearn.metrics import f1_score\n",
        "\n",
        "# Definir el clasificador SVM\n",
        "svm_clf = SVC()\n",
        "\n",
        "# Definir la grilla de parámetros para la búsqueda\n",
        "param_grid = {\n",
        "    'C': [0.1, 1, 10, 100],\n",
        "    'gamma': [1, 0.1, 0.01, 0.001],\n",
        "    'kernel': ['rbf', 'linear']\n",
        "}\n",
        "\n",
        "# Realizar la búsqueda en grilla con validación cruzada\n",
        "grid_search = HalvingGridSearchCV(svm_clf, param_grid, cv=3, scoring='f1_micro',verbose=3)\n",
        "grid_search.fit(vectors_train, y_train_num)\n",
        "\n",
        "# Obtener el mejor clasificador\n",
        "best_svm_clf = grid_search.best_estimator_\n",
        "\n",
        "\n",
        "# Evaluar el mejor clasificador en el conjunto de prueba\n",
        "y_test_pred = best_svm_clf.predict(vectors_test)\n",
        "print('Métricas en el conjunto de prueba:')\n",
        "print(classification_report(y_test_num, y_test_pred,target_names=label_names))\n",
        "micro_f1 = f1_score(y_test_num, y_test_pred, average='micro')\n",
        "print('Micro-F1 Score: {:.4f}'.format(micro_f1))"
      ],
      "metadata": {
        "colab": {
          "base_uri": "https://localhost:8080/"
        },
        "id": "4y-zMxprv4gV",
        "outputId": "3200df26-e43f-4fb4-d08b-2bfae780ebe6"
      },
      "execution_count": null,
      "outputs": [
        {
          "output_type": "stream",
          "name": "stdout",
          "text": [
            "n_iterations: 4\n",
            "n_required_iterations: 4\n",
            "n_possible_iterations: 4\n",
            "min_resources_: 718\n",
            "max_resources_: 19398\n",
            "aggressive_elimination: False\n",
            "factor: 3\n",
            "----------\n",
            "iter: 0\n",
            "n_candidates: 32\n",
            "n_resources: 718\n",
            "Fitting 3 folds for each of 32 candidates, totalling 96 fits\n",
            "[CV 1/3] END C=0.1, gamma=1, kernel=rbf;, score=(train=0.621, test=0.640) total time=   0.1s\n",
            "[CV 2/3] END C=0.1, gamma=1, kernel=rbf;, score=(train=0.636, test=0.636) total time=   0.0s\n",
            "[CV 3/3] END C=0.1, gamma=1, kernel=rbf;, score=(train=0.590, test=0.623) total time=   0.1s\n",
            "[CV 1/3] END C=0.1, gamma=1, kernel=linear;, score=(train=0.621, test=0.640) total time=   0.0s\n",
            "[CV 2/3] END C=0.1, gamma=1, kernel=linear;, score=(train=0.636, test=0.636) total time=   0.0s\n",
            "[CV 3/3] END C=0.1, gamma=1, kernel=linear;, score=(train=0.590, test=0.623) total time=   0.0s\n",
            "[CV 1/3] END C=0.1, gamma=0.1, kernel=rbf;, score=(train=0.621, test=0.640) total time=   0.1s\n",
            "[CV 2/3] END C=0.1, gamma=0.1, kernel=rbf;, score=(train=0.636, test=0.636) total time=   0.1s\n",
            "[CV 3/3] END C=0.1, gamma=0.1, kernel=rbf;, score=(train=0.590, test=0.623) total time=   0.1s\n",
            "[CV 1/3] END C=0.1, gamma=0.1, kernel=linear;, score=(train=0.621, test=0.640) total time=   0.0s\n",
            "[CV 2/3] END C=0.1, gamma=0.1, kernel=linear;, score=(train=0.636, test=0.636) total time=   0.0s\n",
            "[CV 3/3] END C=0.1, gamma=0.1, kernel=linear;, score=(train=0.590, test=0.623) total time=   0.0s\n",
            "[CV 1/3] END C=0.1, gamma=0.01, kernel=rbf;, score=(train=0.621, test=0.640) total time=   0.0s\n",
            "[CV 2/3] END C=0.1, gamma=0.01, kernel=rbf;, score=(train=0.636, test=0.636) total time=   0.0s\n",
            "[CV 3/3] END C=0.1, gamma=0.01, kernel=rbf;, score=(train=0.590, test=0.623) total time=   0.1s\n",
            "[CV 1/3] END C=0.1, gamma=0.01, kernel=linear;, score=(train=0.621, test=0.640) total time=   0.0s\n",
            "[CV 2/3] END C=0.1, gamma=0.01, kernel=linear;, score=(train=0.636, test=0.636) total time=   0.0s\n",
            "[CV 3/3] END C=0.1, gamma=0.01, kernel=linear;, score=(train=0.590, test=0.623) total time=   0.0s\n",
            "[CV 1/3] END C=0.1, gamma=0.001, kernel=rbf;, score=(train=0.621, test=0.640) total time=   0.1s\n",
            "[CV 2/3] END C=0.1, gamma=0.001, kernel=rbf;, score=(train=0.636, test=0.636) total time=   0.0s\n",
            "[CV 3/3] END C=0.1, gamma=0.001, kernel=rbf;, score=(train=0.590, test=0.623) total time=   0.1s\n",
            "[CV 1/3] END C=0.1, gamma=0.001, kernel=linear;, score=(train=0.621, test=0.640) total time=   0.0s\n",
            "[CV 2/3] END C=0.1, gamma=0.001, kernel=linear;, score=(train=0.636, test=0.636) total time=   0.0s\n",
            "[CV 3/3] END C=0.1, gamma=0.001, kernel=linear;, score=(train=0.590, test=0.623) total time=   0.0s\n",
            "[CV 1/3] END C=1, gamma=1, kernel=rbf;, score=(train=0.665, test=0.657) total time=   0.1s\n",
            "[CV 2/3] END C=1, gamma=1, kernel=rbf;, score=(train=0.674, test=0.649) total time=   0.1s\n",
            "[CV 3/3] END C=1, gamma=1, kernel=rbf;, score=(train=0.707, test=0.682) total time=   0.1s\n",
            "[CV 1/3] END C=1, gamma=1, kernel=linear;, score=(train=0.626, test=0.640) total time=   0.0s\n",
            "[CV 2/3] END C=1, gamma=1, kernel=linear;, score=(train=0.644, test=0.636) total time=   0.0s\n",
            "[CV 3/3] END C=1, gamma=1, kernel=linear;, score=(train=0.655, test=0.669) total time=   0.0s\n",
            "[CV 1/3] END C=1, gamma=0.1, kernel=rbf;, score=(train=0.621, test=0.640) total time=   0.1s\n",
            "[CV 2/3] END C=1, gamma=0.1, kernel=rbf;, score=(train=0.636, test=0.636) total time=   0.1s\n",
            "[CV 3/3] END C=1, gamma=0.1, kernel=rbf;, score=(train=0.590, test=0.623) total time=   0.1s\n",
            "[CV 1/3] END C=1, gamma=0.1, kernel=linear;, score=(train=0.626, test=0.640) total time=   0.0s\n",
            "[CV 2/3] END C=1, gamma=0.1, kernel=linear;, score=(train=0.644, test=0.636) total time=   0.0s\n",
            "[CV 3/3] END C=1, gamma=0.1, kernel=linear;, score=(train=0.655, test=0.669) total time=   0.0s\n",
            "[CV 1/3] END C=1, gamma=0.01, kernel=rbf;, score=(train=0.621, test=0.640) total time=   0.1s\n",
            "[CV 2/3] END C=1, gamma=0.01, kernel=rbf;, score=(train=0.636, test=0.636) total time=   0.1s\n",
            "[CV 3/3] END C=1, gamma=0.01, kernel=rbf;, score=(train=0.590, test=0.623) total time=   0.1s\n",
            "[CV 1/3] END C=1, gamma=0.01, kernel=linear;, score=(train=0.626, test=0.640) total time=   0.0s\n",
            "[CV 2/3] END C=1, gamma=0.01, kernel=linear;, score=(train=0.644, test=0.636) total time=   0.0s\n",
            "[CV 3/3] END C=1, gamma=0.01, kernel=linear;, score=(train=0.655, test=0.669) total time=   0.0s\n",
            "[CV 1/3] END C=1, gamma=0.001, kernel=rbf;, score=(train=0.621, test=0.640) total time=   0.1s\n",
            "[CV 2/3] END C=1, gamma=0.001, kernel=rbf;, score=(train=0.636, test=0.636) total time=   0.1s\n",
            "[CV 3/3] END C=1, gamma=0.001, kernel=rbf;, score=(train=0.590, test=0.623) total time=   0.1s\n",
            "[CV 1/3] END C=1, gamma=0.001, kernel=linear;, score=(train=0.626, test=0.640) total time=   0.0s\n",
            "[CV 2/3] END C=1, gamma=0.001, kernel=linear;, score=(train=0.644, test=0.636) total time=   0.0s\n",
            "[CV 3/3] END C=1, gamma=0.001, kernel=linear;, score=(train=0.655, test=0.669) total time=   0.0s\n",
            "[CV 1/3] END C=10, gamma=1, kernel=rbf;, score=(train=0.881, test=0.703) total time=   0.0s\n",
            "[CV 2/3] END C=10, gamma=1, kernel=rbf;, score=(train=0.885, test=0.699) total time=   0.1s\n",
            "[CV 3/3] END C=10, gamma=1, kernel=rbf;, score=(train=0.910, test=0.682) total time=   0.1s\n",
            "[CV 1/3] END C=10, gamma=1, kernel=linear;, score=(train=0.776, test=0.674) total time=   0.0s\n",
            "[CV 2/3] END C=10, gamma=1, kernel=linear;, score=(train=0.803, test=0.699) total time=   0.0s\n",
            "[CV 3/3] END C=10, gamma=1, kernel=linear;, score=(train=0.826, test=0.669) total time=   0.0s\n",
            "[CV 1/3] END C=10, gamma=0.1, kernel=rbf;, score=(train=0.669, test=0.653) total time=   0.1s\n",
            "[CV 2/3] END C=10, gamma=0.1, kernel=rbf;, score=(train=0.665, test=0.649) total time=   0.1s\n",
            "[CV 3/3] END C=10, gamma=0.1, kernel=rbf;, score=(train=0.690, test=0.665) total time=   0.1s\n",
            "[CV 1/3] END C=10, gamma=0.1, kernel=linear;, score=(train=0.776, test=0.674) total time=   0.0s\n",
            "[CV 2/3] END C=10, gamma=0.1, kernel=linear;, score=(train=0.803, test=0.699) total time=   0.0s\n",
            "[CV 3/3] END C=10, gamma=0.1, kernel=linear;, score=(train=0.826, test=0.669) total time=   0.0s\n",
            "[CV 1/3] END C=10, gamma=0.01, kernel=rbf;, score=(train=0.621, test=0.640) total time=   0.1s\n",
            "[CV 2/3] END C=10, gamma=0.01, kernel=rbf;, score=(train=0.636, test=0.636) total time=   0.1s\n",
            "[CV 3/3] END C=10, gamma=0.01, kernel=rbf;, score=(train=0.590, test=0.623) total time=   0.1s\n",
            "[CV 1/3] END C=10, gamma=0.01, kernel=linear;, score=(train=0.776, test=0.674) total time=   0.0s\n",
            "[CV 2/3] END C=10, gamma=0.01, kernel=linear;, score=(train=0.803, test=0.699) total time=   0.0s\n",
            "[CV 3/3] END C=10, gamma=0.01, kernel=linear;, score=(train=0.826, test=0.669) total time=   0.0s\n",
            "[CV 1/3] END C=10, gamma=0.001, kernel=rbf;, score=(train=0.621, test=0.640) total time=   0.1s\n",
            "[CV 2/3] END C=10, gamma=0.001, kernel=rbf;, score=(train=0.636, test=0.636) total time=   0.1s\n",
            "[CV 3/3] END C=10, gamma=0.001, kernel=rbf;, score=(train=0.590, test=0.623) total time=   0.1s\n",
            "[CV 1/3] END C=10, gamma=0.001, kernel=linear;, score=(train=0.776, test=0.674) total time=   0.0s\n",
            "[CV 2/3] END C=10, gamma=0.001, kernel=linear;, score=(train=0.803, test=0.699) total time=   0.0s\n",
            "[CV 3/3] END C=10, gamma=0.001, kernel=linear;, score=(train=0.826, test=0.669) total time=   0.0s\n",
            "[CV 1/3] END C=100, gamma=1, kernel=rbf;, score=(train=0.998, test=0.665) total time=   0.1s\n",
            "[CV 2/3] END C=100, gamma=1, kernel=rbf;, score=(train=0.998, test=0.669) total time=   0.1s\n",
            "[CV 3/3] END C=100, gamma=1, kernel=rbf;, score=(train=0.998, test=0.661) total time=   0.1s\n",
            "[CV 1/3] END C=100, gamma=1, kernel=linear;, score=(train=0.885, test=0.649) total time=   0.0s\n",
            "[CV 2/3] END C=100, gamma=1, kernel=linear;, score=(train=0.897, test=0.695) total time=   0.0s\n",
            "[CV 3/3] END C=100, gamma=1, kernel=linear;, score=(train=0.927, test=0.640) total time=   0.1s\n",
            "[CV 1/3] END C=100, gamma=0.1, kernel=rbf;, score=(train=0.839, test=0.715) total time=   0.1s\n",
            "[CV 2/3] END C=100, gamma=0.1, kernel=rbf;, score=(train=0.845, test=0.699) total time=   0.1s\n",
            "[CV 3/3] END C=100, gamma=0.1, kernel=rbf;, score=(train=0.881, test=0.661) total time=   0.1s\n",
            "[CV 1/3] END C=100, gamma=0.1, kernel=linear;, score=(train=0.885, test=0.649) total time=   0.1s\n",
            "[CV 2/3] END C=100, gamma=0.1, kernel=linear;, score=(train=0.897, test=0.695) total time=   0.1s\n",
            "[CV 3/3] END C=100, gamma=0.1, kernel=linear;, score=(train=0.927, test=0.640) total time=   0.1s\n",
            "[CV 1/3] END C=100, gamma=0.01, kernel=rbf;, score=(train=0.669, test=0.653) total time=   0.1s\n",
            "[CV 2/3] END C=100, gamma=0.01, kernel=rbf;, score=(train=0.665, test=0.649) total time=   0.1s\n",
            "[CV 3/3] END C=100, gamma=0.01, kernel=rbf;, score=(train=0.686, test=0.665) total time=   0.1s\n",
            "[CV 1/3] END C=100, gamma=0.01, kernel=linear;, score=(train=0.885, test=0.649) total time=   0.1s\n",
            "[CV 2/3] END C=100, gamma=0.01, kernel=linear;, score=(train=0.897, test=0.695) total time=   0.1s\n",
            "[CV 3/3] END C=100, gamma=0.01, kernel=linear;, score=(train=0.927, test=0.640) total time=   0.1s\n",
            "[CV 1/3] END C=100, gamma=0.001, kernel=rbf;, score=(train=0.621, test=0.640) total time=   0.1s\n",
            "[CV 2/3] END C=100, gamma=0.001, kernel=rbf;, score=(train=0.636, test=0.636) total time=   0.1s\n",
            "[CV 3/3] END C=100, gamma=0.001, kernel=rbf;, score=(train=0.590, test=0.623) total time=   0.1s\n",
            "[CV 1/3] END C=100, gamma=0.001, kernel=linear;, score=(train=0.885, test=0.649) total time=   0.1s\n",
            "[CV 2/3] END C=100, gamma=0.001, kernel=linear;, score=(train=0.897, test=0.695) total time=   0.1s\n",
            "[CV 3/3] END C=100, gamma=0.001, kernel=linear;, score=(train=0.927, test=0.640) total time=   0.1s\n",
            "----------\n",
            "iter: 1\n",
            "n_candidates: 11\n",
            "n_resources: 2154\n",
            "Fitting 3 folds for each of 11 candidates, totalling 33 fits\n",
            "[CV 1/3] END C=100, gamma=0.1, kernel=linear;, score=(train=0.812, test=0.662) total time=   0.8s\n",
            "[CV 2/3] END C=100, gamma=0.1, kernel=linear;, score=(train=0.813, test=0.662) total time=   0.6s\n",
            "[CV 3/3] END C=100, gamma=0.1, kernel=linear;, score=(train=0.810, test=0.664) total time=   0.5s\n",
            "[CV 1/3] END C=100, gamma=1, kernel=linear;, score=(train=0.812, test=0.662) total time=   0.5s\n",
            "[CV 2/3] END C=100, gamma=1, kernel=linear;, score=(train=0.813, test=0.662) total time=   0.5s\n",
            "[CV 3/3] END C=100, gamma=1, kernel=linear;, score=(train=0.810, test=0.664) total time=   0.5s\n",
            "[CV 1/3] END C=100, gamma=0.001, kernel=linear;, score=(train=0.812, test=0.662) total time=   0.5s\n",
            "[CV 2/3] END C=100, gamma=0.001, kernel=linear;, score=(train=0.813, test=0.662) total time=   0.9s\n",
            "[CV 3/3] END C=100, gamma=0.001, kernel=linear;, score=(train=0.810, test=0.664) total time=   0.6s\n",
            "[CV 1/3] END C=1, gamma=1, kernel=rbf;, score=(train=0.710, test=0.685) total time=   0.5s\n",
            "[CV 2/3] END C=1, gamma=1, kernel=rbf;, score=(train=0.712, test=0.642) total time=   0.5s\n",
            "[CV 3/3] END C=1, gamma=1, kernel=rbf;, score=(train=0.709, test=0.727) total time=   0.5s\n",
            "[CV 1/3] END C=100, gamma=1, kernel=rbf;, score=(train=0.976, test=0.691) total time=   0.6s\n",
            "[CV 2/3] END C=100, gamma=1, kernel=rbf;, score=(train=0.975, test=0.671) total time=   0.7s\n",
            "[CV 3/3] END C=100, gamma=1, kernel=rbf;, score=(train=0.967, test=0.682) total time=   0.9s\n",
            "[CV 1/3] END C=10, gamma=0.01, kernel=linear;, score=(train=0.765, test=0.698) total time=   0.4s\n",
            "[CV 2/3] END C=10, gamma=0.01, kernel=linear;, score=(train=0.770, test=0.656) total time=   0.4s\n",
            "[CV 3/3] END C=10, gamma=0.01, kernel=linear;, score=(train=0.768, test=0.696) total time=   0.4s\n",
            "[CV 1/3] END C=10, gamma=0.1, kernel=linear;, score=(train=0.765, test=0.698) total time=   0.3s\n",
            "[CV 2/3] END C=10, gamma=0.1, kernel=linear;, score=(train=0.770, test=0.656) total time=   0.3s\n",
            "[CV 3/3] END C=10, gamma=0.1, kernel=linear;, score=(train=0.768, test=0.696) total time=   0.3s\n",
            "[CV 1/3] END C=10, gamma=1, kernel=linear;, score=(train=0.765, test=0.698) total time=   0.3s\n",
            "[CV 2/3] END C=10, gamma=1, kernel=linear;, score=(train=0.770, test=0.656) total time=   0.3s\n",
            "[CV 3/3] END C=10, gamma=1, kernel=linear;, score=(train=0.768, test=0.696) total time=   0.3s\n",
            "[CV 1/3] END C=10, gamma=0.001, kernel=linear;, score=(train=0.765, test=0.698) total time=   0.3s\n",
            "[CV 2/3] END C=10, gamma=0.001, kernel=linear;, score=(train=0.770, test=0.656) total time=   0.3s\n",
            "[CV 3/3] END C=10, gamma=0.001, kernel=linear;, score=(train=0.768, test=0.696) total time=   0.3s\n",
            "[CV 1/3] END C=100, gamma=0.1, kernel=rbf;, score=(train=0.806, test=0.694) total time=   0.4s\n",
            "[CV 2/3] END C=100, gamma=0.1, kernel=rbf;, score=(train=0.802, test=0.678) total time=   0.5s\n",
            "[CV 3/3] END C=100, gamma=0.1, kernel=rbf;, score=(train=0.797, test=0.696) total time=   0.5s\n",
            "[CV 1/3] END C=10, gamma=1, kernel=rbf;, score=(train=0.850, test=0.708) total time=   0.5s\n",
            "[CV 2/3] END C=10, gamma=1, kernel=rbf;, score=(train=0.843, test=0.677) total time=   0.5s\n",
            "[CV 3/3] END C=10, gamma=1, kernel=rbf;, score=(train=0.843, test=0.709) total time=   0.5s\n",
            "----------\n",
            "iter: 2\n",
            "n_candidates: 4\n",
            "n_resources: 6462\n",
            "Fitting 3 folds for each of 4 candidates, totalling 12 fits\n",
            "[CV 1/3] END C=10, gamma=0.001, kernel=linear;, score=(train=0.735, test=0.717) total time=   3.7s\n",
            "[CV 2/3] END C=10, gamma=0.001, kernel=linear;, score=(train=0.750, test=0.711) total time=   2.7s\n",
            "[CV 3/3] END C=10, gamma=0.001, kernel=linear;, score=(train=0.753, test=0.718) total time=   2.8s\n",
            "[CV 1/3] END C=1, gamma=1, kernel=rbf;, score=(train=0.731, test=0.720) total time=   5.3s\n",
            "[CV 2/3] END C=1, gamma=1, kernel=rbf;, score=(train=0.744, test=0.711) total time=   3.9s\n",
            "[CV 3/3] END C=1, gamma=1, kernel=rbf;, score=(train=0.747, test=0.726) total time=   4.2s\n",
            "[CV 1/3] END C=100, gamma=0.1, kernel=rbf;, score=(train=0.766, test=0.732) total time=   5.4s\n",
            "[CV 2/3] END C=100, gamma=0.1, kernel=rbf;, score=(train=0.778, test=0.721) total time=   3.8s\n",
            "[CV 3/3] END C=100, gamma=0.1, kernel=rbf;, score=(train=0.781, test=0.729) total time=   4.4s\n",
            "[CV 1/3] END C=10, gamma=1, kernel=rbf;, score=(train=0.809, test=0.750) total time=   3.9s\n",
            "[CV 2/3] END C=10, gamma=1, kernel=rbf;, score=(train=0.826, test=0.734) total time=   3.8s\n",
            "[CV 3/3] END C=10, gamma=1, kernel=rbf;, score=(train=0.827, test=0.741) total time=   4.8s\n",
            "----------\n",
            "iter: 3\n",
            "n_candidates: 2\n",
            "n_resources: 19386\n",
            "Fitting 3 folds for each of 2 candidates, totalling 6 fits\n",
            "[CV 1/3] END C=100, gamma=0.1, kernel=rbf;, score=(train=0.758, test=0.751) total time=  59.8s\n",
            "[CV 2/3] END C=100, gamma=0.1, kernel=rbf;, score=(train=0.766, test=0.742) total time=  56.2s\n",
            "[CV 3/3] END C=100, gamma=0.1, kernel=rbf;, score=(train=0.767, test=0.740) total time=  55.6s\n",
            "[CV 1/3] END C=10, gamma=1, kernel=rbf;, score=(train=0.808, test=0.776) total time=  54.3s\n",
            "[CV 2/3] END C=10, gamma=1, kernel=rbf;, score=(train=0.813, test=0.762) total time=  53.2s\n",
            "[CV 3/3] END C=10, gamma=1, kernel=rbf;, score=(train=0.814, test=0.766) total time=  51.2s\n",
            "Métricas en el conjunto de prueba:\n",
            "              precision    recall  f1-score   support\n",
            "\n",
            "  not sexist       0.86      0.87      0.87      3030\n",
            "      sexist       0.59      0.56      0.57       970\n",
            "\n",
            "    accuracy                           0.80      4000\n",
            "   macro avg       0.72      0.72      0.72      4000\n",
            "weighted avg       0.79      0.80      0.80      4000\n",
            "\n",
            "Micro-F1 Score: 0.7980\n"
          ]
        }
      ]
    },
    {
      "cell_type": "code",
      "source": [
        "print('Métricas en el conjunto de prueba:')\n",
        "print(classification_report(y_test_num, y_test_pred,target_names=label_names))\n",
        "micro_f1 = f1_score(y_test_num, y_test_pred, average='micro')\n",
        "print('Micro-F1 Score: {:.4f}'.format(micro_f1))"
      ],
      "metadata": {
        "colab": {
          "base_uri": "https://localhost:8080/"
        },
        "id": "TN5IV6FpuMLn",
        "outputId": "53bba00f-ef72-4143-b304-e7014377cca8"
      },
      "execution_count": null,
      "outputs": [
        {
          "output_type": "stream",
          "name": "stdout",
          "text": [
            "Métricas en el conjunto de prueba:\n",
            "              precision    recall  f1-score   support\n",
            "\n",
            "  not sexist       0.86      0.87      0.87      3030\n",
            "      sexist       0.59      0.56      0.57       970\n",
            "\n",
            "    accuracy                           0.80      4000\n",
            "   macro avg       0.72      0.72      0.72      4000\n",
            "weighted avg       0.79      0.80      0.80      4000\n",
            "\n",
            "Micro-F1 Score: 0.7980\n"
          ]
        }
      ]
    },
    {
      "cell_type": "code",
      "source": [
        "import seaborn as sns\n",
        "import matplotlib.pyplot as plt\n",
        "from sklearn.metrics import confusion_matrix\n",
        "\n",
        "# Obtener la matriz de confusión\n",
        "conf_matrix = confusion_matrix(y_test_num, y_test_pred)\n",
        "\n",
        "\n",
        "\n",
        "# Crear un mapa de calor para la matriz de confusión\n",
        "plt.figure(figsize=(10, 7))\n",
        "sns.heatmap(conf_matrix, annot=True, fmt='g', cmap='Blues', xticklabels=label_names, yticklabels=label_names)\n",
        "plt.xlabel('Etiquetas Predichas')\n",
        "plt.ylabel('Etiquetas Verdaderas')\n",
        "plt.title('Matriz de Confusión')\n",
        "plt.show()"
      ],
      "metadata": {
        "colab": {
          "base_uri": "https://localhost:8080/",
          "height": 641
        },
        "id": "SA27qXeQeSPP",
        "outputId": "008bc06d-96ac-49a9-829d-ebe39a12ea85"
      },
      "execution_count": null,
      "outputs": [
        {
          "output_type": "display_data",
          "data": {
            "text/plain": [
              "<Figure size 1000x700 with 2 Axes>"
            ],
            "image/png": "[encoded data removed]"
          },
          "metadata": {}
        }
      ]
    },
    {
      "cell_type": "markdown",
      "source": [
        "# Random Forest"
      ],
      "metadata": {
        "id": "3AGVuGSWNBoz"
      }
    },
    {
      "cell_type": "code",
      "source": [
        "from sklearn.ensemble import RandomForestClassifier\n",
        "from sklearn.experimental import enable_halving_search_cv\n",
        "from sklearn.model_selection import HalvingGridSearchCV\n",
        "from sklearn.metrics import classification_report\n",
        "\n",
        "# Definir el clasificador Random Forest\n",
        "rf_clf = RandomForestClassifier()\n",
        "\n",
        "# Definir la grilla de parámetros para la búsqueda\n",
        "param_grid = {\n",
        "    'n_estimators': [100, 200, 300],\n",
        "    'max_depth': [None, 20, 30],\n",
        "    'min_samples_split': [2, 5, 10],\n",
        "    'min_samples_leaf': [1, 2, 4],\n",
        "    'max_features': [ 'sqrt']\n",
        "}\n",
        "\n",
        "\n",
        "# Realizar la búsqueda en grilla con validación cruzada\n",
        "grid_search = HalvingGridSearchCV(rf_clf, param_grid, cv=3, scoring='f1_micro',verbose=3)\n",
        "grid_search.fit(vectors_train, y_train_num)\n",
        "\n",
        "# Obtener el mejor clasificador\n",
        "best_rf_clf = grid_search.best_estimator_\n",
        "\n",
        "\n",
        "# Evaluar el mejor clasificador en el conjunto de prueba\n",
        "y_test_pred = best_rf_clf.predict(vectors_test)\n",
        "print('Métricas en el conjunto de prueba:')\n",
        "print(classification_report(y_test_num, y_test_pred,target_names=label_names))\n",
        "micro_f1 = f1_score(y_test_num, y_test_pred, average='micro')\n",
        "print('Micro-F1 Score: {:.4f}'.format(micro_f1))"
      ],
      "metadata": {
        "colab": {
          "base_uri": "https://localhost:8080/"
        },
        "id": "9Qhg4c6whk7b",
        "outputId": "b99fae1c-0302-4071-f574-dfd258bad369"
      },
      "execution_count": null,
      "outputs": [
        {
          "output_type": "stream",
          "name": "stdout",
          "text": [
            "n_iterations: 5\n",
            "n_required_iterations: 5\n",
            "n_possible_iterations: 5\n",
            "min_resources_: 239\n",
            "max_resources_: 19398\n",
            "aggressive_elimination: False\n",
            "factor: 3\n",
            "----------\n",
            "iter: 0\n",
            "n_candidates: 81\n",
            "n_resources: 239\n",
            "Fitting 3 folds for each of 81 candidates, totalling 243 fits\n",
            "[CV 1/3] END max_depth=None, max_features=sqrt, min_samples_leaf=1, min_samples_split=2, n_estimators=100;, score=(train=1.000, test=0.608) total time=   0.2s\n",
            "[CV 2/3] END max_depth=None, max_features=sqrt, min_samples_leaf=1, min_samples_split=2, n_estimators=100;, score=(train=1.000, test=0.595) total time=   0.2s\n",
            "[CV 3/3] END max_depth=None, max_features=sqrt, min_samples_leaf=1, min_samples_split=2, n_estimators=100;, score=(train=1.000, test=0.646) total time=   0.2s\n",
            "[CV 1/3] END max_depth=None, max_features=sqrt, min_samples_leaf=1, min_samples_split=2, n_estimators=200;, score=(train=1.000, test=0.646) total time=   0.5s\n",
            "[CV 2/3] END max_depth=None, max_features=sqrt, min_samples_leaf=1, min_samples_split=2, n_estimators=200;, score=(train=1.000, test=0.570) total time=   0.4s\n",
            "[CV 3/3] END max_depth=None, max_features=sqrt, min_samples_leaf=1, min_samples_split=2, n_estimators=200;, score=(train=1.000, test=0.671) total time=   0.7s\n",
            "[CV 1/3] END max_depth=None, max_features=sqrt, min_samples_leaf=1, min_samples_split=2, n_estimators=300;, score=(train=1.000, test=0.671) total time=   1.0s\n",
            "[CV 2/3] END max_depth=None, max_features=sqrt, min_samples_leaf=1, min_samples_split=2, n_estimators=300;, score=(train=1.000, test=0.582) total time=   1.0s\n",
            "[CV 3/3] END max_depth=None, max_features=sqrt, min_samples_leaf=1, min_samples_split=2, n_estimators=300;, score=(train=1.000, test=0.722) total time=   0.9s\n",
            "[CV 1/3] END max_depth=None, max_features=sqrt, min_samples_leaf=1, min_samples_split=5, n_estimators=100;, score=(train=1.000, test=0.696) total time=   0.2s\n",
            "[CV 2/3] END max_depth=None, max_features=sqrt, min_samples_leaf=1, min_samples_split=5, n_estimators=100;, score=(train=1.000, test=0.557) total time=   0.2s\n",
            "[CV 3/3] END max_depth=None, max_features=sqrt, min_samples_leaf=1, min_samples_split=5, n_estimators=100;, score=(train=1.000, test=0.671) total time=   0.2s\n",
            "[CV 1/3] END max_depth=None, max_features=sqrt, min_samples_leaf=1, min_samples_split=5, n_estimators=200;, score=(train=1.000, test=0.671) total time=   0.5s\n",
            "[CV 2/3] END max_depth=None, max_features=sqrt, min_samples_leaf=1, min_samples_split=5, n_estimators=200;, score=(train=1.000, test=0.595) total time=   0.5s\n",
            "[CV 3/3] END max_depth=None, max_features=sqrt, min_samples_leaf=1, min_samples_split=5, n_estimators=200;, score=(train=1.000, test=0.709) total time=   0.4s\n",
            "[CV 1/3] END max_depth=None, max_features=sqrt, min_samples_leaf=1, min_samples_split=5, n_estimators=300;, score=(train=1.000, test=0.684) total time=   0.7s\n",
            "[CV 2/3] END max_depth=None, max_features=sqrt, min_samples_leaf=1, min_samples_split=5, n_estimators=300;, score=(train=1.000, test=0.582) total time=   0.7s\n",
            "[CV 3/3] END max_depth=None, max_features=sqrt, min_samples_leaf=1, min_samples_split=5, n_estimators=300;, score=(train=1.000, test=0.646) total time=   0.7s\n",
            "[CV 1/3] END max_depth=None, max_features=sqrt, min_samples_leaf=1, min_samples_split=10, n_estimators=100;, score=(train=1.000, test=0.570) total time=   0.2s\n",
            "[CV 2/3] END max_depth=None, max_features=sqrt, min_samples_leaf=1, min_samples_split=10, n_estimators=100;, score=(train=1.000, test=0.608) total time=   0.2s\n",
            "[CV 3/3] END max_depth=None, max_features=sqrt, min_samples_leaf=1, min_samples_split=10, n_estimators=100;, score=(train=1.000, test=0.747) total time=   0.2s\n",
            "[CV 1/3] END max_depth=None, max_features=sqrt, min_samples_leaf=1, min_samples_split=10, n_estimators=200;, score=(train=1.000, test=0.696) total time=   0.4s\n",
            "[CV 2/3] END max_depth=None, max_features=sqrt, min_samples_leaf=1, min_samples_split=10, n_estimators=200;, score=(train=1.000, test=0.633) total time=   0.5s\n",
            "[CV 3/3] END max_depth=None, max_features=sqrt, min_samples_leaf=1, min_samples_split=10, n_estimators=200;, score=(train=1.000, test=0.722) total time=   0.5s\n",
            "[CV 1/3] END max_depth=None, max_features=sqrt, min_samples_leaf=1, min_samples_split=10, n_estimators=300;, score=(train=1.000, test=0.709) total time=   0.7s\n",
            "[CV 2/3] END max_depth=None, max_features=sqrt, min_samples_leaf=1, min_samples_split=10, n_estimators=300;, score=(train=1.000, test=0.620) total time=   0.7s\n",
            "[CV 3/3] END max_depth=None, max_features=sqrt, min_samples_leaf=1, min_samples_split=10, n_estimators=300;, score=(train=1.000, test=0.722) total time=   0.7s\n",
            "[CV 1/3] END max_depth=None, max_features=sqrt, min_samples_leaf=2, min_samples_split=2, n_estimators=100;, score=(train=1.000, test=0.658) total time=   0.2s\n",
            "[CV 2/3] END max_depth=None, max_features=sqrt, min_samples_leaf=2, min_samples_split=2, n_estimators=100;, score=(train=1.000, test=0.582) total time=   0.2s\n",
            "[CV 3/3] END max_depth=None, max_features=sqrt, min_samples_leaf=2, min_samples_split=2, n_estimators=100;, score=(train=1.000, test=0.684) total time=   0.2s\n",
            "[CV 1/3] END max_depth=None, max_features=sqrt, min_samples_leaf=2, min_samples_split=2, n_estimators=200;, score=(train=1.000, test=0.696) total time=   0.4s\n",
            "[CV 2/3] END max_depth=None, max_features=sqrt, min_samples_leaf=2, min_samples_split=2, n_estimators=200;, score=(train=1.000, test=0.595) total time=   0.5s\n",
            "[CV 3/3] END max_depth=None, max_features=sqrt, min_samples_leaf=2, min_samples_split=2, n_estimators=200;, score=(train=1.000, test=0.734) total time=   0.6s\n",
            "[CV 1/3] END max_depth=None, max_features=sqrt, min_samples_leaf=2, min_samples_split=2, n_estimators=300;, score=(train=1.000, test=0.709) total time=   1.0s\n",
            "[CV 2/3] END max_depth=None, max_features=sqrt, min_samples_leaf=2, min_samples_split=2, n_estimators=300;, score=(train=1.000, test=0.582) total time=   1.0s\n",
            "[CV 3/3] END max_depth=None, max_features=sqrt, min_samples_leaf=2, min_samples_split=2, n_estimators=300;, score=(train=1.000, test=0.734) total time=   0.9s\n",
            "[CV 1/3] END max_depth=None, max_features=sqrt, min_samples_leaf=2, min_samples_split=5, n_estimators=100;, score=(train=1.000, test=0.671) total time=   0.2s\n",
            "[CV 2/3] END max_depth=None, max_features=sqrt, min_samples_leaf=2, min_samples_split=5, n_estimators=100;, score=(train=1.000, test=0.544) total time=   0.2s\n",
            "[CV 3/3] END max_depth=None, max_features=sqrt, min_samples_leaf=2, min_samples_split=5, n_estimators=100;, score=(train=1.000, test=0.658) total time=   0.2s\n",
            "[CV 1/3] END max_depth=None, max_features=sqrt, min_samples_leaf=2, min_samples_split=5, n_estimators=200;, score=(train=1.000, test=0.684) total time=   0.4s\n",
            "[CV 2/3] END max_depth=None, max_features=sqrt, min_samples_leaf=2, min_samples_split=5, n_estimators=200;, score=(train=1.000, test=0.608) total time=   0.4s\n",
            "[CV 3/3] END max_depth=None, max_features=sqrt, min_samples_leaf=2, min_samples_split=5, n_estimators=200;, score=(train=1.000, test=0.722) total time=   0.4s\n",
            "[CV 1/3] END max_depth=None, max_features=sqrt, min_samples_leaf=2, min_samples_split=5, n_estimators=300;, score=(train=1.000, test=0.671) total time=   0.7s\n",
            "[CV 2/3] END max_depth=None, max_features=sqrt, min_samples_leaf=2, min_samples_split=5, n_estimators=300;, score=(train=1.000, test=0.570) total time=   0.7s\n",
            "[CV 3/3] END max_depth=None, max_features=sqrt, min_samples_leaf=2, min_samples_split=5, n_estimators=300;, score=(train=1.000, test=0.684) total time=   0.6s\n",
            "[CV 1/3] END max_depth=None, max_features=sqrt, min_samples_leaf=2, min_samples_split=10, n_estimators=100;, score=(train=1.000, test=0.684) total time=   0.2s\n",
            "[CV 2/3] END max_depth=None, max_features=sqrt, min_samples_leaf=2, min_samples_split=10, n_estimators=100;, score=(train=1.000, test=0.620) total time=   0.2s\n",
            "[CV 3/3] END max_depth=None, max_features=sqrt, min_samples_leaf=2, min_samples_split=10, n_estimators=100;, score=(train=1.000, test=0.747) total time=   0.2s\n",
            "[CV 1/3] END max_depth=None, max_features=sqrt, min_samples_leaf=2, min_samples_split=10, n_estimators=200;, score=(train=1.000, test=0.684) total time=   0.4s\n",
            "[CV 2/3] END max_depth=None, max_features=sqrt, min_samples_leaf=2, min_samples_split=10, n_estimators=200;, score=(train=1.000, test=0.544) total time=   0.4s\n",
            "[CV 3/3] END max_depth=None, max_features=sqrt, min_samples_leaf=2, min_samples_split=10, n_estimators=200;, score=(train=1.000, test=0.684) total time=   0.4s\n",
            "[CV 1/3] END max_depth=None, max_features=sqrt, min_samples_leaf=2, min_samples_split=10, n_estimators=300;, score=(train=1.000, test=0.684) total time=   0.6s\n",
            "[CV 2/3] END max_depth=None, max_features=sqrt, min_samples_leaf=2, min_samples_split=10, n_estimators=300;, score=(train=0.994, test=0.608) total time=   0.6s\n",
            "[CV 3/3] END max_depth=None, max_features=sqrt, min_samples_leaf=2, min_samples_split=10, n_estimators=300;, score=(train=1.000, test=0.722) total time=   0.6s\n",
            "[CV 1/3] END max_depth=None, max_features=sqrt, min_samples_leaf=4, min_samples_split=2, n_estimators=100;, score=(train=1.000, test=0.658) total time=   0.2s\n",
            "[CV 2/3] END max_depth=None, max_features=sqrt, min_samples_leaf=4, min_samples_split=2, n_estimators=100;, score=(train=0.994, test=0.582) total time=   0.2s\n",
            "[CV 3/3] END max_depth=None, max_features=sqrt, min_samples_leaf=4, min_samples_split=2, n_estimators=100;, score=(train=1.000, test=0.709) total time=   0.2s\n",
            "[CV 1/3] END max_depth=None, max_features=sqrt, min_samples_leaf=4, min_samples_split=2, n_estimators=200;, score=(train=1.000, test=0.658) total time=   0.4s\n",
            "[CV 2/3] END max_depth=None, max_features=sqrt, min_samples_leaf=4, min_samples_split=2, n_estimators=200;, score=(train=1.000, test=0.595) total time=   0.4s\n",
            "[CV 3/3] END max_depth=None, max_features=sqrt, min_samples_leaf=4, min_samples_split=2, n_estimators=200;, score=(train=1.000, test=0.709) total time=   0.5s\n",
            "[CV 1/3] END max_depth=None, max_features=sqrt, min_samples_leaf=4, min_samples_split=2, n_estimators=300;, score=(train=1.000, test=0.696) total time=   1.0s\n",
            "[CV 2/3] END max_depth=None, max_features=sqrt, min_samples_leaf=4, min_samples_split=2, n_estimators=300;, score=(train=1.000, test=0.582) total time=   1.0s\n",
            "[CV 3/3] END max_depth=None, max_features=sqrt, min_samples_leaf=4, min_samples_split=2, n_estimators=300;, score=(train=1.000, test=0.696) total time=   1.0s\n",
            "[CV 1/3] END max_depth=None, max_features=sqrt, min_samples_leaf=4, min_samples_split=5, n_estimators=100;, score=(train=1.000, test=0.646) total time=   0.3s\n",
            "[CV 2/3] END max_depth=None, max_features=sqrt, min_samples_leaf=4, min_samples_split=5, n_estimators=100;, score=(train=0.987, test=0.608) total time=   0.2s\n",
            "[CV 3/3] END max_depth=None, max_features=sqrt, min_samples_leaf=4, min_samples_split=5, n_estimators=100;, score=(train=0.994, test=0.722) total time=   0.2s\n",
            "[CV 1/3] END max_depth=None, max_features=sqrt, min_samples_leaf=4, min_samples_split=5, n_estimators=200;, score=(train=1.000, test=0.684) total time=   0.4s\n",
            "[CV 2/3] END max_depth=None, max_features=sqrt, min_samples_leaf=4, min_samples_split=5, n_estimators=200;, score=(train=1.000, test=0.582) total time=   0.4s\n",
            "[CV 3/3] END max_depth=None, max_features=sqrt, min_samples_leaf=4, min_samples_split=5, n_estimators=200;, score=(train=0.994, test=0.696) total time=   0.4s\n",
            "[CV 1/3] END max_depth=None, max_features=sqrt, min_samples_leaf=4, min_samples_split=5, n_estimators=300;, score=(train=1.000, test=0.747) total time=   0.6s\n",
            "[CV 2/3] END max_depth=None, max_features=sqrt, min_samples_leaf=4, min_samples_split=5, n_estimators=300;, score=(train=1.000, test=0.582) total time=   0.6s\n",
            "[CV 3/3] END max_depth=None, max_features=sqrt, min_samples_leaf=4, min_samples_split=5, n_estimators=300;, score=(train=1.000, test=0.671) total time=   0.6s\n",
            "[CV 1/3] END max_depth=None, max_features=sqrt, min_samples_leaf=4, min_samples_split=10, n_estimators=100;, score=(train=1.000, test=0.646) total time=   0.2s\n",
            "[CV 2/3] END max_depth=None, max_features=sqrt, min_samples_leaf=4, min_samples_split=10, n_estimators=100;, score=(train=0.994, test=0.595) total time=   0.2s\n",
            "[CV 3/3] END max_depth=None, max_features=sqrt, min_samples_leaf=4, min_samples_split=10, n_estimators=100;, score=(train=1.000, test=0.684) total time=   0.2s\n",
            "[CV 1/3] END max_depth=None, max_features=sqrt, min_samples_leaf=4, min_samples_split=10, n_estimators=200;, score=(train=1.000, test=0.633) total time=   0.4s\n",
            "[CV 2/3] END max_depth=None, max_features=sqrt, min_samples_leaf=4, min_samples_split=10, n_estimators=200;, score=(train=0.994, test=0.608) total time=   0.4s\n",
            "[CV 3/3] END max_depth=None, max_features=sqrt, min_samples_leaf=4, min_samples_split=10, n_estimators=200;, score=(train=1.000, test=0.722) total time=   0.4s\n",
            "[CV 1/3] END max_depth=None, max_features=sqrt, min_samples_leaf=4, min_samples_split=10, n_estimators=300;, score=(train=1.000, test=0.658) total time=   0.6s\n",
            "[CV 2/3] END max_depth=None, max_features=sqrt, min_samples_leaf=4, min_samples_split=10, n_estimators=300;, score=(train=0.994, test=0.570) total time=   0.6s\n",
            "[CV 3/3] END max_depth=None, max_features=sqrt, min_samples_leaf=4, min_samples_split=10, n_estimators=300;, score=(train=1.000, test=0.696) total time=   0.6s\n",
            "[CV 1/3] END max_depth=20, max_features=sqrt, min_samples_leaf=1, min_samples_split=2, n_estimators=100;, score=(train=1.000, test=0.658) total time=   0.2s\n",
            "[CV 2/3] END max_depth=20, max_features=sqrt, min_samples_leaf=1, min_samples_split=2, n_estimators=100;, score=(train=1.000, test=0.557) total time=   0.2s\n",
            "[CV 3/3] END max_depth=20, max_features=sqrt, min_samples_leaf=1, min_samples_split=2, n_estimators=100;, score=(train=1.000, test=0.772) total time=   0.2s\n",
            "[CV 1/3] END max_depth=20, max_features=sqrt, min_samples_leaf=1, min_samples_split=2, n_estimators=200;, score=(train=1.000, test=0.671) total time=   0.5s\n",
            "[CV 2/3] END max_depth=20, max_features=sqrt, min_samples_leaf=1, min_samples_split=2, n_estimators=200;, score=(train=1.000, test=0.582) total time=   0.4s\n",
            "[CV 3/3] END max_depth=20, max_features=sqrt, min_samples_leaf=1, min_samples_split=2, n_estimators=200;, score=(train=1.000, test=0.722) total time=   0.5s\n",
            "[CV 1/3] END max_depth=20, max_features=sqrt, min_samples_leaf=1, min_samples_split=2, n_estimators=300;, score=(train=1.000, test=0.747) total time=   0.8s\n",
            "[CV 2/3] END max_depth=20, max_features=sqrt, min_samples_leaf=1, min_samples_split=2, n_estimators=300;, score=(train=1.000, test=0.582) total time=   1.0s\n",
            "[CV 3/3] END max_depth=20, max_features=sqrt, min_samples_leaf=1, min_samples_split=2, n_estimators=300;, score=(train=1.000, test=0.696) total time=   1.0s\n",
            "[CV 1/3] END max_depth=20, max_features=sqrt, min_samples_leaf=1, min_samples_split=5, n_estimators=100;, score=(train=1.000, test=0.658) total time=   0.3s\n",
            "[CV 2/3] END max_depth=20, max_features=sqrt, min_samples_leaf=1, min_samples_split=5, n_estimators=100;, score=(train=1.000, test=0.532) total time=   0.4s\n",
            "[CV 3/3] END max_depth=20, max_features=sqrt, min_samples_leaf=1, min_samples_split=5, n_estimators=100;, score=(train=1.000, test=0.696) total time=   0.3s\n",
            "[CV 1/3] END max_depth=20, max_features=sqrt, min_samples_leaf=1, min_samples_split=5, n_estimators=200;, score=(train=1.000, test=0.696) total time=   0.4s\n",
            "[CV 2/3] END max_depth=20, max_features=sqrt, min_samples_leaf=1, min_samples_split=5, n_estimators=200;, score=(train=1.000, test=0.570) total time=   0.4s\n",
            "[CV 3/3] END max_depth=20, max_features=sqrt, min_samples_leaf=1, min_samples_split=5, n_estimators=200;, score=(train=1.000, test=0.696) total time=   0.4s\n",
            "[CV 1/3] END max_depth=20, max_features=sqrt, min_samples_leaf=1, min_samples_split=5, n_estimators=300;, score=(train=1.000, test=0.734) total time=   0.6s\n",
            "[CV 2/3] END max_depth=20, max_features=sqrt, min_samples_leaf=1, min_samples_split=5, n_estimators=300;, score=(train=1.000, test=0.557) total time=   0.7s\n",
            "[CV 3/3] END max_depth=20, max_features=sqrt, min_samples_leaf=1, min_samples_split=5, n_estimators=300;, score=(train=1.000, test=0.696) total time=   0.7s\n",
            "[CV 1/3] END max_depth=20, max_features=sqrt, min_samples_leaf=1, min_samples_split=10, n_estimators=100;, score=(train=1.000, test=0.620) total time=   0.2s\n",
            "[CV 2/3] END max_depth=20, max_features=sqrt, min_samples_leaf=1, min_samples_split=10, n_estimators=100;, score=(train=1.000, test=0.570) total time=   0.2s\n",
            "[CV 3/3] END max_depth=20, max_features=sqrt, min_samples_leaf=1, min_samples_split=10, n_estimators=100;, score=(train=1.000, test=0.684) total time=   0.2s\n",
            "[CV 1/3] END max_depth=20, max_features=sqrt, min_samples_leaf=1, min_samples_split=10, n_estimators=200;, score=(train=1.000, test=0.646) total time=   0.4s\n",
            "[CV 2/3] END max_depth=20, max_features=sqrt, min_samples_leaf=1, min_samples_split=10, n_estimators=200;, score=(train=1.000, test=0.570) total time=   0.4s\n",
            "[CV 3/3] END max_depth=20, max_features=sqrt, min_samples_leaf=1, min_samples_split=10, n_estimators=200;, score=(train=1.000, test=0.684) total time=   0.4s\n",
            "[CV 1/3] END max_depth=20, max_features=sqrt, min_samples_leaf=1, min_samples_split=10, n_estimators=300;, score=(train=1.000, test=0.684) total time=   0.6s\n",
            "[CV 2/3] END max_depth=20, max_features=sqrt, min_samples_leaf=1, min_samples_split=10, n_estimators=300;, score=(train=1.000, test=0.582) total time=   0.7s\n",
            "[CV 3/3] END max_depth=20, max_features=sqrt, min_samples_leaf=1, min_samples_split=10, n_estimators=300;, score=(train=1.000, test=0.722) total time=   0.6s\n",
            "[CV 1/3] END max_depth=20, max_features=sqrt, min_samples_leaf=2, min_samples_split=2, n_estimators=100;, score=(train=1.000, test=0.709) total time=   0.2s\n",
            "[CV 2/3] END max_depth=20, max_features=sqrt, min_samples_leaf=2, min_samples_split=2, n_estimators=100;, score=(train=1.000, test=0.570) total time=   0.2s\n",
            "[CV 3/3] END max_depth=20, max_features=sqrt, min_samples_leaf=2, min_samples_split=2, n_estimators=100;, score=(train=1.000, test=0.684) total time=   0.2s\n",
            "[CV 1/3] END max_depth=20, max_features=sqrt, min_samples_leaf=2, min_samples_split=2, n_estimators=200;, score=(train=1.000, test=0.671) total time=   0.4s\n",
            "[CV 2/3] END max_depth=20, max_features=sqrt, min_samples_leaf=2, min_samples_split=2, n_estimators=200;, score=(train=1.000, test=0.595) total time=   0.4s\n",
            "[CV 3/3] END max_depth=20, max_features=sqrt, min_samples_leaf=2, min_samples_split=2, n_estimators=200;, score=(train=1.000, test=0.709) total time=   0.4s\n",
            "[CV 1/3] END max_depth=20, max_features=sqrt, min_samples_leaf=2, min_samples_split=2, n_estimators=300;, score=(train=1.000, test=0.658) total time=   0.7s\n",
            "[CV 2/3] END max_depth=20, max_features=sqrt, min_samples_leaf=2, min_samples_split=2, n_estimators=300;, score=(train=1.000, test=0.608) total time=   1.0s\n",
            "[CV 3/3] END max_depth=20, max_features=sqrt, min_samples_leaf=2, min_samples_split=2, n_estimators=300;, score=(train=1.000, test=0.722) total time=   1.0s\n",
            "[CV 1/3] END max_depth=20, max_features=sqrt, min_samples_leaf=2, min_samples_split=5, n_estimators=100;, score=(train=1.000, test=0.658) total time=   0.3s\n",
            "[CV 2/3] END max_depth=20, max_features=sqrt, min_samples_leaf=2, min_samples_split=5, n_estimators=100;, score=(train=1.000, test=0.582) total time=   0.3s\n",
            "[CV 3/3] END max_depth=20, max_features=sqrt, min_samples_leaf=2, min_samples_split=5, n_estimators=100;, score=(train=1.000, test=0.709) total time=   0.3s\n",
            "[CV 1/3] END max_depth=20, max_features=sqrt, min_samples_leaf=2, min_samples_split=5, n_estimators=200;, score=(train=1.000, test=0.633) total time=   0.6s\n",
            "[CV 2/3] END max_depth=20, max_features=sqrt, min_samples_leaf=2, min_samples_split=5, n_estimators=200;, score=(train=1.000, test=0.595) total time=   0.4s\n",
            "[CV 3/3] END max_depth=20, max_features=sqrt, min_samples_leaf=2, min_samples_split=5, n_estimators=200;, score=(train=1.000, test=0.722) total time=   0.4s\n",
            "[CV 1/3] END max_depth=20, max_features=sqrt, min_samples_leaf=2, min_samples_split=5, n_estimators=300;, score=(train=1.000, test=0.709) total time=   0.6s\n",
            "[CV 2/3] END max_depth=20, max_features=sqrt, min_samples_leaf=2, min_samples_split=5, n_estimators=300;, score=(train=1.000, test=0.582) total time=   0.6s\n",
            "[CV 3/3] END max_depth=20, max_features=sqrt, min_samples_leaf=2, min_samples_split=5, n_estimators=300;, score=(train=1.000, test=0.684) total time=   0.6s\n",
            "[CV 1/3] END max_depth=20, max_features=sqrt, min_samples_leaf=2, min_samples_split=10, n_estimators=100;, score=(train=1.000, test=0.633) total time=   0.2s\n",
            "[CV 2/3] END max_depth=20, max_features=sqrt, min_samples_leaf=2, min_samples_split=10, n_estimators=100;, score=(train=1.000, test=0.582) total time=   0.2s\n",
            "[CV 3/3] END max_depth=20, max_features=sqrt, min_samples_leaf=2, min_samples_split=10, n_estimators=100;, score=(train=0.994, test=0.696) total time=   0.2s\n",
            "[CV 1/3] END max_depth=20, max_features=sqrt, min_samples_leaf=2, min_samples_split=10, n_estimators=200;, score=(train=1.000, test=0.684) total time=   0.4s\n",
            "[CV 2/3] END max_depth=20, max_features=sqrt, min_samples_leaf=2, min_samples_split=10, n_estimators=200;, score=(train=1.000, test=0.570) total time=   0.4s\n",
            "[CV 3/3] END max_depth=20, max_features=sqrt, min_samples_leaf=2, min_samples_split=10, n_estimators=200;, score=(train=1.000, test=0.722) total time=   0.4s\n",
            "[CV 1/3] END max_depth=20, max_features=sqrt, min_samples_leaf=2, min_samples_split=10, n_estimators=300;, score=(train=1.000, test=0.671) total time=   0.6s\n",
            "[CV 2/3] END max_depth=20, max_features=sqrt, min_samples_leaf=2, min_samples_split=10, n_estimators=300;, score=(train=1.000, test=0.608) total time=   0.7s\n",
            "[CV 3/3] END max_depth=20, max_features=sqrt, min_samples_leaf=2, min_samples_split=10, n_estimators=300;, score=(train=1.000, test=0.709) total time=   0.6s\n",
            "[CV 1/3] END max_depth=20, max_features=sqrt, min_samples_leaf=4, min_samples_split=2, n_estimators=100;, score=(train=0.994, test=0.646) total time=   0.2s\n",
            "[CV 2/3] END max_depth=20, max_features=sqrt, min_samples_leaf=4, min_samples_split=2, n_estimators=100;, score=(train=1.000, test=0.557) total time=   0.2s\n",
            "[CV 3/3] END max_depth=20, max_features=sqrt, min_samples_leaf=4, min_samples_split=2, n_estimators=100;, score=(train=0.994, test=0.734) total time=   0.2s\n",
            "[CV 1/3] END max_depth=20, max_features=sqrt, min_samples_leaf=4, min_samples_split=2, n_estimators=200;, score=(train=1.000, test=0.671) total time=   0.4s\n",
            "[CV 2/3] END max_depth=20, max_features=sqrt, min_samples_leaf=4, min_samples_split=2, n_estimators=200;, score=(train=0.994, test=0.582) total time=   0.4s\n",
            "[CV 3/3] END max_depth=20, max_features=sqrt, min_samples_leaf=4, min_samples_split=2, n_estimators=200;, score=(train=1.000, test=0.696) total time=   0.4s\n",
            "[CV 1/3] END max_depth=20, max_features=sqrt, min_samples_leaf=4, min_samples_split=2, n_estimators=300;, score=(train=1.000, test=0.684) total time=   0.6s\n",
            "[CV 2/3] END max_depth=20, max_features=sqrt, min_samples_leaf=4, min_samples_split=2, n_estimators=300;, score=(train=1.000, test=0.582) total time=   0.8s\n",
            "[CV 3/3] END max_depth=20, max_features=sqrt, min_samples_leaf=4, min_samples_split=2, n_estimators=300;, score=(train=1.000, test=0.684) total time=   0.9s\n",
            "[CV 1/3] END max_depth=20, max_features=sqrt, min_samples_leaf=4, min_samples_split=5, n_estimators=100;, score=(train=1.000, test=0.684) total time=   0.3s\n",
            "[CV 2/3] END max_depth=20, max_features=sqrt, min_samples_leaf=4, min_samples_split=5, n_estimators=100;, score=(train=0.987, test=0.595) total time=   0.3s\n",
            "[CV 3/3] END max_depth=20, max_features=sqrt, min_samples_leaf=4, min_samples_split=5, n_estimators=100;, score=(train=0.987, test=0.595) total time=   0.3s\n",
            "[CV 1/3] END max_depth=20, max_features=sqrt, min_samples_leaf=4, min_samples_split=5, n_estimators=200;, score=(train=1.000, test=0.696) total time=   0.6s\n",
            "[CV 2/3] END max_depth=20, max_features=sqrt, min_samples_leaf=4, min_samples_split=5, n_estimators=200;, score=(train=1.000, test=0.557) total time=   0.6s\n",
            "[CV 3/3] END max_depth=20, max_features=sqrt, min_samples_leaf=4, min_samples_split=5, n_estimators=200;, score=(train=1.000, test=0.696) total time=   0.4s\n",
            "[CV 1/3] END max_depth=20, max_features=sqrt, min_samples_leaf=4, min_samples_split=5, n_estimators=300;, score=(train=1.000, test=0.734) total time=   0.6s\n",
            "[CV 2/3] END max_depth=20, max_features=sqrt, min_samples_leaf=4, min_samples_split=5, n_estimators=300;, score=(train=0.994, test=0.570) total time=   0.6s\n",
            "[CV 3/3] END max_depth=20, max_features=sqrt, min_samples_leaf=4, min_samples_split=5, n_estimators=300;, score=(train=1.000, test=0.696) total time=   0.6s\n",
            "[CV 1/3] END max_depth=20, max_features=sqrt, min_samples_leaf=4, min_samples_split=10, n_estimators=100;, score=(train=1.000, test=0.658) total time=   0.2s\n",
            "[CV 2/3] END max_depth=20, max_features=sqrt, min_samples_leaf=4, min_samples_split=10, n_estimators=100;, score=(train=0.987, test=0.608) total time=   0.2s\n",
            "[CV 3/3] END max_depth=20, max_features=sqrt, min_samples_leaf=4, min_samples_split=10, n_estimators=100;, score=(train=1.000, test=0.658) total time=   0.2s\n",
            "[CV 1/3] END max_depth=20, max_features=sqrt, min_samples_leaf=4, min_samples_split=10, n_estimators=200;, score=(train=1.000, test=0.646) total time=   0.4s\n",
            "[CV 2/3] END max_depth=20, max_features=sqrt, min_samples_leaf=4, min_samples_split=10, n_estimators=200;, score=(train=0.994, test=0.582) total time=   0.4s\n",
            "[CV 3/3] END max_depth=20, max_features=sqrt, min_samples_leaf=4, min_samples_split=10, n_estimators=200;, score=(train=1.000, test=0.709) total time=   0.4s\n",
            "[CV 1/3] END max_depth=20, max_features=sqrt, min_samples_leaf=4, min_samples_split=10, n_estimators=300;, score=(train=1.000, test=0.696) total time=   0.6s\n",
            "[CV 2/3] END max_depth=20, max_features=sqrt, min_samples_leaf=4, min_samples_split=10, n_estimators=300;, score=(train=0.994, test=0.582) total time=   0.6s\n",
            "[CV 3/3] END max_depth=20, max_features=sqrt, min_samples_leaf=4, min_samples_split=10, n_estimators=300;, score=(train=1.000, test=0.722) total time=   0.6s\n",
            "[CV 1/3] END max_depth=30, max_features=sqrt, min_samples_leaf=1, min_samples_split=2, n_estimators=100;, score=(train=1.000, test=0.684) total time=   0.2s\n",
            "[CV 2/3] END max_depth=30, max_features=sqrt, min_samples_leaf=1, min_samples_split=2, n_estimators=100;, score=(train=1.000, test=0.570) total time=   0.2s\n",
            "[CV 3/3] END max_depth=30, max_features=sqrt, min_samples_leaf=1, min_samples_split=2, n_estimators=100;, score=(train=1.000, test=0.608) total time=   0.2s\n",
            "[CV 1/3] END max_depth=30, max_features=sqrt, min_samples_leaf=1, min_samples_split=2, n_estimators=200;, score=(train=1.000, test=0.671) total time=   0.4s\n",
            "[CV 2/3] END max_depth=30, max_features=sqrt, min_samples_leaf=1, min_samples_split=2, n_estimators=200;, score=(train=1.000, test=0.595) total time=   0.4s\n",
            "[CV 3/3] END max_depth=30, max_features=sqrt, min_samples_leaf=1, min_samples_split=2, n_estimators=200;, score=(train=1.000, test=0.696) total time=   0.4s\n",
            "[CV 1/3] END max_depth=30, max_features=sqrt, min_samples_leaf=1, min_samples_split=2, n_estimators=300;, score=(train=1.000, test=0.709) total time=   0.7s\n",
            "[CV 2/3] END max_depth=30, max_features=sqrt, min_samples_leaf=1, min_samples_split=2, n_estimators=300;, score=(train=1.000, test=0.582) total time=   0.7s\n",
            "[CV 3/3] END max_depth=30, max_features=sqrt, min_samples_leaf=1, min_samples_split=2, n_estimators=300;, score=(train=1.000, test=0.722) total time=   0.8s\n",
            "[CV 1/3] END max_depth=30, max_features=sqrt, min_samples_leaf=1, min_samples_split=5, n_estimators=100;, score=(train=1.000, test=0.658) total time=   0.3s\n",
            "[CV 2/3] END max_depth=30, max_features=sqrt, min_samples_leaf=1, min_samples_split=5, n_estimators=100;, score=(train=1.000, test=0.519) total time=   0.3s\n",
            "[CV 3/3] END max_depth=30, max_features=sqrt, min_samples_leaf=1, min_samples_split=5, n_estimators=100;, score=(train=1.000, test=0.722) total time=   0.3s\n",
            "[CV 1/3] END max_depth=30, max_features=sqrt, min_samples_leaf=1, min_samples_split=5, n_estimators=200;, score=(train=1.000, test=0.684) total time=   0.7s\n",
            "[CV 2/3] END max_depth=30, max_features=sqrt, min_samples_leaf=1, min_samples_split=5, n_estimators=200;, score=(train=1.000, test=0.557) total time=   0.7s\n",
            "[CV 3/3] END max_depth=30, max_features=sqrt, min_samples_leaf=1, min_samples_split=5, n_estimators=200;, score=(train=1.000, test=0.709) total time=   0.7s\n",
            "[CV 1/3] END max_depth=30, max_features=sqrt, min_samples_leaf=1, min_samples_split=5, n_estimators=300;, score=(train=1.000, test=0.671) total time=   0.7s\n",
            "[CV 2/3] END max_depth=30, max_features=sqrt, min_samples_leaf=1, min_samples_split=5, n_estimators=300;, score=(train=1.000, test=0.557) total time=   0.7s\n",
            "[CV 3/3] END max_depth=30, max_features=sqrt, min_samples_leaf=1, min_samples_split=5, n_estimators=300;, score=(train=1.000, test=0.646) total time=   0.7s\n",
            "[CV 1/3] END max_depth=30, max_features=sqrt, min_samples_leaf=1, min_samples_split=10, n_estimators=100;, score=(train=1.000, test=0.646) total time=   0.2s\n",
            "[CV 2/3] END max_depth=30, max_features=sqrt, min_samples_leaf=1, min_samples_split=10, n_estimators=100;, score=(train=0.994, test=0.595) total time=   0.2s\n",
            "[CV 3/3] END max_depth=30, max_features=sqrt, min_samples_leaf=1, min_samples_split=10, n_estimators=100;, score=(train=1.000, test=0.620) total time=   0.2s\n",
            "[CV 1/3] END max_depth=30, max_features=sqrt, min_samples_leaf=1, min_samples_split=10, n_estimators=200;, score=(train=1.000, test=0.684) total time=   0.4s\n",
            "[CV 2/3] END max_depth=30, max_features=sqrt, min_samples_leaf=1, min_samples_split=10, n_estimators=200;, score=(train=1.000, test=0.557) total time=   0.4s\n",
            "[CV 3/3] END max_depth=30, max_features=sqrt, min_samples_leaf=1, min_samples_split=10, n_estimators=200;, score=(train=1.000, test=0.709) total time=   0.5s\n",
            "[CV 1/3] END max_depth=30, max_features=sqrt, min_samples_leaf=1, min_samples_split=10, n_estimators=300;, score=(train=1.000, test=0.709) total time=   0.7s\n",
            "[CV 2/3] END max_depth=30, max_features=sqrt, min_samples_leaf=1, min_samples_split=10, n_estimators=300;, score=(train=1.000, test=0.620) total time=   0.6s\n",
            "[CV 3/3] END max_depth=30, max_features=sqrt, min_samples_leaf=1, min_samples_split=10, n_estimators=300;, score=(train=1.000, test=0.684) total time=   0.7s\n",
            "[CV 1/3] END max_depth=30, max_features=sqrt, min_samples_leaf=2, min_samples_split=2, n_estimators=100;, score=(train=1.000, test=0.608) total time=   0.2s\n",
            "[CV 2/3] END max_depth=30, max_features=sqrt, min_samples_leaf=2, min_samples_split=2, n_estimators=100;, score=(train=1.000, test=0.620) total time=   0.2s\n",
            "[CV 3/3] END max_depth=30, max_features=sqrt, min_samples_leaf=2, min_samples_split=2, n_estimators=100;, score=(train=1.000, test=0.709) total time=   0.2s\n",
            "[CV 1/3] END max_depth=30, max_features=sqrt, min_samples_leaf=2, min_samples_split=2, n_estimators=200;, score=(train=1.000, test=0.658) total time=   0.4s\n",
            "[CV 2/3] END max_depth=30, max_features=sqrt, min_samples_leaf=2, min_samples_split=2, n_estimators=200;, score=(train=1.000, test=0.595) total time=   0.5s\n",
            "[CV 3/3] END max_depth=30, max_features=sqrt, min_samples_leaf=2, min_samples_split=2, n_estimators=200;, score=(train=1.000, test=0.709) total time=   0.4s\n",
            "[CV 1/3] END max_depth=30, max_features=sqrt, min_samples_leaf=2, min_samples_split=2, n_estimators=300;, score=(train=1.000, test=0.709) total time=   0.6s\n",
            "[CV 2/3] END max_depth=30, max_features=sqrt, min_samples_leaf=2, min_samples_split=2, n_estimators=300;, score=(train=1.000, test=0.582) total time=   0.6s\n",
            "[CV 3/3] END max_depth=30, max_features=sqrt, min_samples_leaf=2, min_samples_split=2, n_estimators=300;, score=(train=1.000, test=0.759) total time=   0.8s\n",
            "[CV 1/3] END max_depth=30, max_features=sqrt, min_samples_leaf=2, min_samples_split=5, n_estimators=100;, score=(train=1.000, test=0.646) total time=   0.3s\n",
            "[CV 2/3] END max_depth=30, max_features=sqrt, min_samples_leaf=2, min_samples_split=5, n_estimators=100;, score=(train=1.000, test=0.633) total time=   0.3s\n",
            "[CV 3/3] END max_depth=30, max_features=sqrt, min_samples_leaf=2, min_samples_split=5, n_estimators=100;, score=(train=1.000, test=0.696) total time=   0.3s\n",
            "[CV 1/3] END max_depth=30, max_features=sqrt, min_samples_leaf=2, min_samples_split=5, n_estimators=200;, score=(train=1.000, test=0.671) total time=   0.7s\n",
            "[CV 2/3] END max_depth=30, max_features=sqrt, min_samples_leaf=2, min_samples_split=5, n_estimators=200;, score=(train=1.000, test=0.582) total time=   0.7s\n",
            "[CV 3/3] END max_depth=30, max_features=sqrt, min_samples_leaf=2, min_samples_split=5, n_estimators=200;, score=(train=1.000, test=0.709) total time=   0.7s\n",
            "[CV 1/3] END max_depth=30, max_features=sqrt, min_samples_leaf=2, min_samples_split=5, n_estimators=300;, score=(train=1.000, test=0.684) total time=   0.6s\n",
            "[CV 2/3] END max_depth=30, max_features=sqrt, min_samples_leaf=2, min_samples_split=5, n_estimators=300;, score=(train=1.000, test=0.570) total time=   0.7s\n",
            "[CV 3/3] END max_depth=30, max_features=sqrt, min_samples_leaf=2, min_samples_split=5, n_estimators=300;, score=(train=1.000, test=0.747) total time=   0.7s\n",
            "[CV 1/3] END max_depth=30, max_features=sqrt, min_samples_leaf=2, min_samples_split=10, n_estimators=100;, score=(train=1.000, test=0.684) total time=   0.2s\n",
            "[CV 2/3] END max_depth=30, max_features=sqrt, min_samples_leaf=2, min_samples_split=10, n_estimators=100;, score=(train=1.000, test=0.595) total time=   0.2s\n",
            "[CV 3/3] END max_depth=30, max_features=sqrt, min_samples_leaf=2, min_samples_split=10, n_estimators=100;, score=(train=1.000, test=0.696) total time=   0.2s\n",
            "[CV 1/3] END max_depth=30, max_features=sqrt, min_samples_leaf=2, min_samples_split=10, n_estimators=200;, score=(train=1.000, test=0.696) total time=   0.4s\n",
            "[CV 2/3] END max_depth=30, max_features=sqrt, min_samples_leaf=2, min_samples_split=10, n_estimators=200;, score=(train=1.000, test=0.582) total time=   0.4s\n",
            "[CV 3/3] END max_depth=30, max_features=sqrt, min_samples_leaf=2, min_samples_split=10, n_estimators=200;, score=(train=1.000, test=0.684) total time=   0.4s\n",
            "[CV 1/3] END max_depth=30, max_features=sqrt, min_samples_leaf=2, min_samples_split=10, n_estimators=300;, score=(train=1.000, test=0.671) total time=   0.7s\n",
            "[CV 2/3] END max_depth=30, max_features=sqrt, min_samples_leaf=2, min_samples_split=10, n_estimators=300;, score=(train=1.000, test=0.582) total time=   0.6s\n",
            "[CV 3/3] END max_depth=30, max_features=sqrt, min_samples_leaf=2, min_samples_split=10, n_estimators=300;, score=(train=1.000, test=0.734) total time=   0.6s\n",
            "[CV 1/3] END max_depth=30, max_features=sqrt, min_samples_leaf=4, min_samples_split=2, n_estimators=100;, score=(train=0.994, test=0.696) total time=   0.2s\n",
            "[CV 2/3] END max_depth=30, max_features=sqrt, min_samples_leaf=4, min_samples_split=2, n_estimators=100;, score=(train=1.000, test=0.608) total time=   0.2s\n",
            "[CV 3/3] END max_depth=30, max_features=sqrt, min_samples_leaf=4, min_samples_split=2, n_estimators=100;, score=(train=1.000, test=0.684) total time=   0.2s\n",
            "[CV 1/3] END max_depth=30, max_features=sqrt, min_samples_leaf=4, min_samples_split=2, n_estimators=200;, score=(train=1.000, test=0.696) total time=   0.4s\n",
            "[CV 2/3] END max_depth=30, max_features=sqrt, min_samples_leaf=4, min_samples_split=2, n_estimators=200;, score=(train=1.000, test=0.633) total time=   0.4s\n",
            "[CV 3/3] END max_depth=30, max_features=sqrt, min_samples_leaf=4, min_samples_split=2, n_estimators=200;, score=(train=1.000, test=0.684) total time=   0.4s\n",
            "[CV 1/3] END max_depth=30, max_features=sqrt, min_samples_leaf=4, min_samples_split=2, n_estimators=300;, score=(train=1.000, test=0.734) total time=   0.6s\n",
            "[CV 2/3] END max_depth=30, max_features=sqrt, min_samples_leaf=4, min_samples_split=2, n_estimators=300;, score=(train=1.000, test=0.595) total time=   0.6s\n",
            "[CV 3/3] END max_depth=30, max_features=sqrt, min_samples_leaf=4, min_samples_split=2, n_estimators=300;, score=(train=1.000, test=0.709) total time=   0.6s\n",
            "[CV 1/3] END max_depth=30, max_features=sqrt, min_samples_leaf=4, min_samples_split=5, n_estimators=100;, score=(train=1.000, test=0.684) total time=   0.3s\n",
            "[CV 2/3] END max_depth=30, max_features=sqrt, min_samples_leaf=4, min_samples_split=5, n_estimators=100;, score=(train=0.994, test=0.633) total time=   0.3s\n",
            "[CV 3/3] END max_depth=30, max_features=sqrt, min_samples_leaf=4, min_samples_split=5, n_estimators=100;, score=(train=1.000, test=0.747) total time=   0.3s\n",
            "[CV 1/3] END max_depth=30, max_features=sqrt, min_samples_leaf=4, min_samples_split=5, n_estimators=200;, score=(train=1.000, test=0.722) total time=   0.6s\n",
            "[CV 2/3] END max_depth=30, max_features=sqrt, min_samples_leaf=4, min_samples_split=5, n_estimators=200;, score=(train=1.000, test=0.595) total time=   0.6s\n",
            "[CV 3/3] END max_depth=30, max_features=sqrt, min_samples_leaf=4, min_samples_split=5, n_estimators=200;, score=(train=1.000, test=0.658) total time=   0.7s\n",
            "[CV 1/3] END max_depth=30, max_features=sqrt, min_samples_leaf=4, min_samples_split=5, n_estimators=300;, score=(train=1.000, test=0.696) total time=   0.9s\n",
            "[CV 2/3] END max_depth=30, max_features=sqrt, min_samples_leaf=4, min_samples_split=5, n_estimators=300;, score=(train=1.000, test=0.570) total time=   0.6s\n",
            "[CV 3/3] END max_depth=30, max_features=sqrt, min_samples_leaf=4, min_samples_split=5, n_estimators=300;, score=(train=1.000, test=0.684) total time=   0.6s\n",
            "[CV 1/3] END max_depth=30, max_features=sqrt, min_samples_leaf=4, min_samples_split=10, n_estimators=100;, score=(train=1.000, test=0.658) total time=   0.2s\n",
            "[CV 2/3] END max_depth=30, max_features=sqrt, min_samples_leaf=4, min_samples_split=10, n_estimators=100;, score=(train=0.994, test=0.570) total time=   0.2s\n",
            "[CV 3/3] END max_depth=30, max_features=sqrt, min_samples_leaf=4, min_samples_split=10, n_estimators=100;, score=(train=0.994, test=0.684) total time=   0.2s\n",
            "[CV 1/3] END max_depth=30, max_features=sqrt, min_samples_leaf=4, min_samples_split=10, n_estimators=200;, score=(train=1.000, test=0.709) total time=   0.4s\n",
            "[CV 2/3] END max_depth=30, max_features=sqrt, min_samples_leaf=4, min_samples_split=10, n_estimators=200;, score=(train=0.994, test=0.595) total time=   0.4s\n",
            "[CV 3/3] END max_depth=30, max_features=sqrt, min_samples_leaf=4, min_samples_split=10, n_estimators=200;, score=(train=0.994, test=0.684) total time=   0.4s\n",
            "[CV 1/3] END max_depth=30, max_features=sqrt, min_samples_leaf=4, min_samples_split=10, n_estimators=300;, score=(train=1.000, test=0.709) total time=   0.6s\n",
            "[CV 2/3] END max_depth=30, max_features=sqrt, min_samples_leaf=4, min_samples_split=10, n_estimators=300;, score=(train=0.994, test=0.582) total time=   0.6s\n",
            "[CV 3/3] END max_depth=30, max_features=sqrt, min_samples_leaf=4, min_samples_split=10, n_estimators=300;, score=(train=1.000, test=0.709) total time=   0.6s\n",
            "----------\n",
            "iter: 1\n",
            "n_candidates: 27\n",
            "n_resources: 717\n",
            "Fitting 3 folds for each of 27 candidates, totalling 81 fits\n",
            "[CV 1/3] END max_depth=20, max_features=sqrt, min_samples_leaf=2, min_samples_split=10, n_estimators=300;, score=(train=1.000, test=0.661) total time=   1.5s\n",
            "[CV 2/3] END max_depth=20, max_features=sqrt, min_samples_leaf=2, min_samples_split=10, n_estimators=300;, score=(train=1.000, test=0.736) total time=   1.5s\n",
            "[CV 3/3] END max_depth=20, max_features=sqrt, min_samples_leaf=2, min_samples_split=10, n_estimators=300;, score=(train=1.000, test=0.603) total time=   1.5s\n",
            "[CV 1/3] END max_depth=30, max_features=sqrt, min_samples_leaf=4, min_samples_split=10, n_estimators=200;, score=(train=1.000, test=0.674) total time=   1.3s\n",
            "[CV 2/3] END max_depth=30, max_features=sqrt, min_samples_leaf=4, min_samples_split=10, n_estimators=200;, score=(train=0.998, test=0.720) total time=   1.4s\n",
            "[CV 3/3] END max_depth=30, max_features=sqrt, min_samples_leaf=4, min_samples_split=10, n_estimators=200;, score=(train=0.998, test=0.623) total time=   1.3s\n",
            "[CV 1/3] END max_depth=20, max_features=sqrt, min_samples_leaf=2, min_samples_split=2, n_estimators=300;, score=(train=1.000, test=0.686) total time=   1.5s\n",
            "[CV 2/3] END max_depth=20, max_features=sqrt, min_samples_leaf=2, min_samples_split=2, n_estimators=300;, score=(train=1.000, test=0.741) total time=   1.5s\n",
            "[CV 3/3] END max_depth=20, max_features=sqrt, min_samples_leaf=2, min_samples_split=2, n_estimators=300;, score=(train=1.000, test=0.644) total time=   1.5s\n",
            "[CV 1/3] END max_depth=30, max_features=sqrt, min_samples_leaf=4, min_samples_split=2, n_estimators=100;, score=(train=0.998, test=0.678) total time=   0.5s\n",
            "[CV 2/3] END max_depth=30, max_features=sqrt, min_samples_leaf=4, min_samples_split=2, n_estimators=100;, score=(train=0.998, test=0.715) total time=   0.5s\n",
            "[CV 3/3] END max_depth=30, max_features=sqrt, min_samples_leaf=4, min_samples_split=2, n_estimators=100;, score=(train=1.000, test=0.640) total time=   0.5s\n",
            "[CV 1/3] END max_depth=20, max_features=sqrt, min_samples_leaf=1, min_samples_split=10, n_estimators=300;, score=(train=1.000, test=0.682) total time=   1.6s\n",
            "[CV 2/3] END max_depth=20, max_features=sqrt, min_samples_leaf=1, min_samples_split=10, n_estimators=300;, score=(train=1.000, test=0.745) total time=   1.6s\n",
            "[CV 3/3] END max_depth=20, max_features=sqrt, min_samples_leaf=1, min_samples_split=10, n_estimators=300;, score=(train=1.000, test=0.623) total time=   2.1s\n",
            "[CV 1/3] END max_depth=20, max_features=sqrt, min_samples_leaf=1, min_samples_split=5, n_estimators=300;, score=(train=1.000, test=0.669) total time=   2.1s\n",
            "[CV 2/3] END max_depth=20, max_features=sqrt, min_samples_leaf=1, min_samples_split=5, n_estimators=300;, score=(train=1.000, test=0.736) total time=   1.6s\n",
            "[CV 3/3] END max_depth=20, max_features=sqrt, min_samples_leaf=1, min_samples_split=5, n_estimators=300;, score=(train=1.000, test=0.615) total time=   1.6s\n",
            "[CV 1/3] END max_depth=20, max_features=sqrt, min_samples_leaf=1, min_samples_split=2, n_estimators=100;, score=(train=1.000, test=0.695) total time=   0.6s\n",
            "[CV 2/3] END max_depth=20, max_features=sqrt, min_samples_leaf=1, min_samples_split=2, n_estimators=100;, score=(train=1.000, test=0.715) total time=   0.6s\n",
            "[CV 3/3] END max_depth=20, max_features=sqrt, min_samples_leaf=1, min_samples_split=2, n_estimators=100;, score=(train=1.000, test=0.644) total time=   0.6s\n",
            "[CV 1/3] END max_depth=30, max_features=sqrt, min_samples_leaf=2, min_samples_split=10, n_estimators=300;, score=(train=1.000, test=0.682) total time=   1.5s\n",
            "[CV 2/3] END max_depth=30, max_features=sqrt, min_samples_leaf=2, min_samples_split=10, n_estimators=300;, score=(train=1.000, test=0.736) total time=   1.5s\n",
            "[CV 3/3] END max_depth=30, max_features=sqrt, min_samples_leaf=2, min_samples_split=10, n_estimators=300;, score=(train=1.000, test=0.640) total time=   1.5s\n",
            "[CV 1/3] END max_depth=30, max_features=sqrt, min_samples_leaf=2, min_samples_split=5, n_estimators=300;, score=(train=1.000, test=0.674) total time=   2.1s\n",
            "[CV 2/3] END max_depth=30, max_features=sqrt, min_samples_leaf=2, min_samples_split=5, n_estimators=300;, score=(train=1.000, test=0.711) total time=   2.0s\n",
            "[CV 3/3] END max_depth=30, max_features=sqrt, min_samples_leaf=2, min_samples_split=5, n_estimators=300;, score=(train=1.000, test=0.628) total time=   1.6s\n",
            "[CV 1/3] END max_depth=30, max_features=sqrt, min_samples_leaf=4, min_samples_split=10, n_estimators=300;, score=(train=1.000, test=0.661) total time=   1.4s\n",
            "[CV 2/3] END max_depth=30, max_features=sqrt, min_samples_leaf=4, min_samples_split=10, n_estimators=300;, score=(train=0.998, test=0.711) total time=   1.5s\n",
            "[CV 3/3] END max_depth=30, max_features=sqrt, min_samples_leaf=4, min_samples_split=10, n_estimators=300;, score=(train=1.000, test=0.636) total time=   1.4s\n",
            "[CV 1/3] END max_depth=20, max_features=sqrt, min_samples_leaf=4, min_samples_split=10, n_estimators=300;, score=(train=1.000, test=0.686) total time=   1.4s\n",
            "[CV 2/3] END max_depth=20, max_features=sqrt, min_samples_leaf=4, min_samples_split=10, n_estimators=300;, score=(train=0.996, test=0.745) total time=   1.4s\n",
            "[CV 3/3] END max_depth=20, max_features=sqrt, min_samples_leaf=4, min_samples_split=10, n_estimators=300;, score=(train=1.000, test=0.615) total time=   1.7s\n",
            "[CV 1/3] END max_depth=None, max_features=sqrt, min_samples_leaf=4, min_samples_split=5, n_estimators=300;, score=(train=1.000, test=0.682) total time=   2.0s\n",
            "[CV 2/3] END max_depth=None, max_features=sqrt, min_samples_leaf=4, min_samples_split=5, n_estimators=300;, score=(train=1.000, test=0.720) total time=   1.6s\n",
            "[CV 3/3] END max_depth=None, max_features=sqrt, min_samples_leaf=4, min_samples_split=5, n_estimators=300;, score=(train=1.000, test=0.607) total time=   1.4s\n",
            "[CV 1/3] END max_depth=20, max_features=sqrt, min_samples_leaf=4, min_samples_split=5, n_estimators=300;, score=(train=1.000, test=0.678) total time=   1.4s\n",
            "[CV 2/3] END max_depth=20, max_features=sqrt, min_samples_leaf=4, min_samples_split=5, n_estimators=300;, score=(train=1.000, test=0.715) total time=   1.4s\n",
            "[CV 3/3] END max_depth=20, max_features=sqrt, min_samples_leaf=4, min_samples_split=5, n_estimators=300;, score=(train=1.000, test=0.623) total time=   1.4s\n",
            "[CV 1/3] END max_depth=30, max_features=sqrt, min_samples_leaf=4, min_samples_split=2, n_estimators=200;, score=(train=1.000, test=0.674) total time=   0.9s\n",
            "[CV 2/3] END max_depth=30, max_features=sqrt, min_samples_leaf=4, min_samples_split=2, n_estimators=200;, score=(train=0.998, test=0.724) total time=   0.9s\n",
            "[CV 3/3] END max_depth=30, max_features=sqrt, min_samples_leaf=4, min_samples_split=2, n_estimators=200;, score=(train=1.000, test=0.636) total time=   1.0s\n",
            "[CV 1/3] END max_depth=None, max_features=sqrt, min_samples_leaf=2, min_samples_split=5, n_estimators=200;, score=(train=1.000, test=0.665) total time=   1.5s\n",
            "[CV 2/3] END max_depth=None, max_features=sqrt, min_samples_leaf=2, min_samples_split=5, n_estimators=200;, score=(train=1.000, test=0.720) total time=   1.4s\n",
            "[CV 3/3] END max_depth=None, max_features=sqrt, min_samples_leaf=2, min_samples_split=5, n_estimators=200;, score=(train=1.000, test=0.632) total time=   1.2s\n",
            "[CV 1/3] END max_depth=30, max_features=sqrt, min_samples_leaf=1, min_samples_split=2, n_estimators=300;, score=(train=1.000, test=0.686) total time=   1.5s\n",
            "[CV 2/3] END max_depth=30, max_features=sqrt, min_samples_leaf=1, min_samples_split=2, n_estimators=300;, score=(train=1.000, test=0.720) total time=   1.6s\n",
            "[CV 3/3] END max_depth=30, max_features=sqrt, min_samples_leaf=1, min_samples_split=2, n_estimators=300;, score=(train=1.000, test=0.636) total time=   1.6s\n",
            "[CV 1/3] END max_depth=None, max_features=sqrt, min_samples_leaf=2, min_samples_split=10, n_estimators=300;, score=(train=1.000, test=0.678) total time=   1.5s\n",
            "[CV 2/3] END max_depth=None, max_features=sqrt, min_samples_leaf=2, min_samples_split=10, n_estimators=300;, score=(train=1.000, test=0.724) total time=   1.6s\n",
            "[CV 3/3] END max_depth=None, max_features=sqrt, min_samples_leaf=2, min_samples_split=10, n_estimators=300;, score=(train=1.000, test=0.628) total time=   1.6s\n",
            "[CV 1/3] END max_depth=30, max_features=sqrt, min_samples_leaf=1, min_samples_split=10, n_estimators=300;, score=(train=1.000, test=0.669) total time=   2.2s\n",
            "[CV 2/3] END max_depth=30, max_features=sqrt, min_samples_leaf=1, min_samples_split=10, n_estimators=300;, score=(train=1.000, test=0.707) total time=   1.9s\n",
            "[CV 3/3] END max_depth=30, max_features=sqrt, min_samples_leaf=1, min_samples_split=10, n_estimators=300;, score=(train=1.000, test=0.636) total time=   1.6s\n",
            "[CV 1/3] END max_depth=20, max_features=sqrt, min_samples_leaf=1, min_samples_split=2, n_estimators=300;, score=(train=1.000, test=0.690) total time=   1.6s\n",
            "[CV 2/3] END max_depth=20, max_features=sqrt, min_samples_leaf=1, min_samples_split=2, n_estimators=300;, score=(train=1.000, test=0.724) total time=   1.7s\n",
            "[CV 3/3] END max_depth=20, max_features=sqrt, min_samples_leaf=1, min_samples_split=2, n_estimators=300;, score=(train=1.000, test=0.632) total time=   1.7s\n",
            "[CV 1/3] END max_depth=None, max_features=sqrt, min_samples_leaf=2, min_samples_split=2, n_estimators=200;, score=(train=1.000, test=0.682) total time=   1.1s\n",
            "[CV 2/3] END max_depth=None, max_features=sqrt, min_samples_leaf=2, min_samples_split=2, n_estimators=200;, score=(train=1.000, test=0.732) total time=   1.1s\n",
            "[CV 3/3] END max_depth=None, max_features=sqrt, min_samples_leaf=2, min_samples_split=2, n_estimators=200;, score=(train=1.000, test=0.623) total time=   1.4s\n",
            "[CV 1/3] END max_depth=None, max_features=sqrt, min_samples_leaf=2, min_samples_split=2, n_estimators=300;, score=(train=1.000, test=0.674) total time=   2.2s\n",
            "[CV 2/3] END max_depth=None, max_features=sqrt, min_samples_leaf=2, min_samples_split=2, n_estimators=300;, score=(train=1.000, test=0.724) total time=   1.6s\n",
            "[CV 3/3] END max_depth=None, max_features=sqrt, min_samples_leaf=2, min_samples_split=2, n_estimators=300;, score=(train=1.000, test=0.632) total time=   1.5s\n",
            "[CV 1/3] END max_depth=30, max_features=sqrt, min_samples_leaf=4, min_samples_split=2, n_estimators=300;, score=(train=1.000, test=0.686) total time=   1.4s\n",
            "[CV 2/3] END max_depth=30, max_features=sqrt, min_samples_leaf=4, min_samples_split=2, n_estimators=300;, score=(train=1.000, test=0.732) total time=   1.4s\n",
            "[CV 3/3] END max_depth=30, max_features=sqrt, min_samples_leaf=4, min_samples_split=2, n_estimators=300;, score=(train=1.000, test=0.623) total time=   1.4s\n",
            "[CV 1/3] END max_depth=None, max_features=sqrt, min_samples_leaf=1, min_samples_split=10, n_estimators=200;, score=(train=1.000, test=0.682) total time=   1.0s\n",
            "[CV 2/3] END max_depth=None, max_features=sqrt, min_samples_leaf=1, min_samples_split=10, n_estimators=200;, score=(train=1.000, test=0.711) total time=   1.1s\n",
            "[CV 3/3] END max_depth=None, max_features=sqrt, min_samples_leaf=1, min_samples_split=10, n_estimators=200;, score=(train=1.000, test=0.674) total time=   1.3s\n",
            "[CV 1/3] END max_depth=None, max_features=sqrt, min_samples_leaf=1, min_samples_split=10, n_estimators=300;, score=(train=1.000, test=0.686) total time=   2.1s\n",
            "[CV 2/3] END max_depth=None, max_features=sqrt, min_samples_leaf=1, min_samples_split=10, n_estimators=300;, score=(train=1.000, test=0.724) total time=   1.8s\n",
            "[CV 3/3] END max_depth=None, max_features=sqrt, min_samples_leaf=1, min_samples_split=10, n_estimators=300;, score=(train=1.000, test=0.632) total time=   1.6s\n",
            "[CV 1/3] END max_depth=None, max_features=sqrt, min_samples_leaf=2, min_samples_split=10, n_estimators=100;, score=(train=1.000, test=0.669) total time=   0.5s\n",
            "[CV 2/3] END max_depth=None, max_features=sqrt, min_samples_leaf=2, min_samples_split=10, n_estimators=100;, score=(train=1.000, test=0.707) total time=   0.5s\n",
            "[CV 3/3] END max_depth=None, max_features=sqrt, min_samples_leaf=2, min_samples_split=10, n_estimators=100;, score=(train=0.998, test=0.623) total time=   0.5s\n",
            "[CV 1/3] END max_depth=30, max_features=sqrt, min_samples_leaf=2, min_samples_split=2, n_estimators=300;, score=(train=1.000, test=0.682) total time=   1.5s\n",
            "[CV 2/3] END max_depth=30, max_features=sqrt, min_samples_leaf=2, min_samples_split=2, n_estimators=300;, score=(train=1.000, test=0.699) total time=   1.5s\n",
            "[CV 3/3] END max_depth=30, max_features=sqrt, min_samples_leaf=2, min_samples_split=2, n_estimators=300;, score=(train=1.000, test=0.636) total time=   1.5s\n",
            "[CV 1/3] END max_depth=30, max_features=sqrt, min_samples_leaf=4, min_samples_split=5, n_estimators=100;, score=(train=0.996, test=0.686) total time=   0.5s\n",
            "[CV 2/3] END max_depth=30, max_features=sqrt, min_samples_leaf=4, min_samples_split=5, n_estimators=100;, score=(train=0.998, test=0.741) total time=   0.5s\n",
            "[CV 3/3] END max_depth=30, max_features=sqrt, min_samples_leaf=4, min_samples_split=5, n_estimators=100;, score=(train=0.998, test=0.628) total time=   0.7s\n",
            "----------\n",
            "iter: 2\n",
            "n_candidates: 9\n",
            "n_resources: 2151\n",
            "Fitting 3 folds for each of 9 candidates, totalling 27 fits\n",
            "[CV 1/3] END max_depth=None, max_features=sqrt, min_samples_leaf=1, min_samples_split=10, n_estimators=300;, score=(train=1.000, test=0.696) total time=   6.1s\n",
            "[CV 2/3] END max_depth=None, max_features=sqrt, min_samples_leaf=1, min_samples_split=10, n_estimators=300;, score=(train=1.000, test=0.693) total time=   5.2s\n",
            "[CV 3/3] END max_depth=None, max_features=sqrt, min_samples_leaf=1, min_samples_split=10, n_estimators=300;, score=(train=1.000, test=0.702) total time=   6.2s\n",
            "[CV 1/3] END max_depth=20, max_features=sqrt, min_samples_leaf=1, min_samples_split=2, n_estimators=300;, score=(train=1.000, test=0.699) total time=   5.4s\n",
            "[CV 2/3] END max_depth=20, max_features=sqrt, min_samples_leaf=1, min_samples_split=2, n_estimators=300;, score=(train=1.000, test=0.697) total time=   6.2s\n",
            "[CV 3/3] END max_depth=20, max_features=sqrt, min_samples_leaf=1, min_samples_split=2, n_estimators=300;, score=(train=1.000, test=0.703) total time=   5.5s\n",
            "[CV 1/3] END max_depth=20, max_features=sqrt, min_samples_leaf=4, min_samples_split=10, n_estimators=300;, score=(train=0.998, test=0.689) total time=   4.8s\n",
            "[CV 2/3] END max_depth=20, max_features=sqrt, min_samples_leaf=4, min_samples_split=10, n_estimators=300;, score=(train=0.997, test=0.699) total time=   5.6s\n",
            "[CV 3/3] END max_depth=20, max_features=sqrt, min_samples_leaf=4, min_samples_split=10, n_estimators=300;, score=(train=0.998, test=0.683) total time=   4.8s\n",
            "[CV 1/3] END max_depth=20, max_features=sqrt, min_samples_leaf=1, min_samples_split=10, n_estimators=300;, score=(train=1.000, test=0.686) total time=   6.2s\n",
            "[CV 2/3] END max_depth=20, max_features=sqrt, min_samples_leaf=1, min_samples_split=10, n_estimators=300;, score=(train=1.000, test=0.704) total time=   5.4s\n",
            "[CV 3/3] END max_depth=20, max_features=sqrt, min_samples_leaf=1, min_samples_split=10, n_estimators=300;, score=(train=1.000, test=0.690) total time=   5.4s\n",
            "[CV 1/3] END max_depth=30, max_features=sqrt, min_samples_leaf=4, min_samples_split=5, n_estimators=100;, score=(train=0.999, test=0.686) total time=   2.2s\n",
            "[CV 2/3] END max_depth=30, max_features=sqrt, min_samples_leaf=4, min_samples_split=5, n_estimators=100;, score=(train=0.999, test=0.686) total time=   1.7s\n",
            "[CV 3/3] END max_depth=30, max_features=sqrt, min_samples_leaf=4, min_samples_split=5, n_estimators=100;, score=(train=0.999, test=0.690) total time=   1.6s\n",
            "[CV 1/3] END max_depth=20, max_features=sqrt, min_samples_leaf=1, min_samples_split=2, n_estimators=100;, score=(train=1.000, test=0.695) total time=   1.8s\n",
            "[CV 2/3] END max_depth=20, max_features=sqrt, min_samples_leaf=1, min_samples_split=2, n_estimators=100;, score=(train=1.000, test=0.678) total time=   1.8s\n",
            "[CV 3/3] END max_depth=20, max_features=sqrt, min_samples_leaf=1, min_samples_split=2, n_estimators=100;, score=(train=1.000, test=0.683) total time=   1.8s\n",
            "[CV 1/3] END max_depth=30, max_features=sqrt, min_samples_leaf=2, min_samples_split=10, n_estimators=300;, score=(train=1.000, test=0.689) total time=   6.1s\n",
            "[CV 2/3] END max_depth=30, max_features=sqrt, min_samples_leaf=2, min_samples_split=10, n_estimators=300;, score=(train=0.999, test=0.697) total time=   5.0s\n",
            "[CV 3/3] END max_depth=30, max_features=sqrt, min_samples_leaf=2, min_samples_split=10, n_estimators=300;, score=(train=0.999, test=0.690) total time=   5.6s\n",
            "[CV 1/3] END max_depth=None, max_features=sqrt, min_samples_leaf=1, min_samples_split=10, n_estimators=200;, score=(train=1.000, test=0.678) total time=   3.8s\n",
            "[CV 2/3] END max_depth=None, max_features=sqrt, min_samples_leaf=1, min_samples_split=10, n_estimators=200;, score=(train=1.000, test=0.704) total time=   3.5s\n",
            "[CV 3/3] END max_depth=None, max_features=sqrt, min_samples_leaf=1, min_samples_split=10, n_estimators=200;, score=(train=1.000, test=0.696) total time=   3.6s\n",
            "[CV 1/3] END max_depth=20, max_features=sqrt, min_samples_leaf=2, min_samples_split=2, n_estimators=300;, score=(train=1.000, test=0.689) total time=   5.9s\n",
            "[CV 2/3] END max_depth=20, max_features=sqrt, min_samples_leaf=2, min_samples_split=2, n_estimators=300;, score=(train=1.000, test=0.706) total time=   5.1s\n",
            "[CV 3/3] END max_depth=20, max_features=sqrt, min_samples_leaf=2, min_samples_split=2, n_estimators=300;, score=(train=1.000, test=0.703) total time=   5.9s\n",
            "----------\n",
            "iter: 3\n",
            "n_candidates: 3\n",
            "n_resources: 6453\n",
            "Fitting 3 folds for each of 3 candidates, totalling 9 fits\n",
            "[CV 1/3] END max_depth=None, max_features=sqrt, min_samples_leaf=1, min_samples_split=10, n_estimators=300;, score=(train=1.000, test=0.745) total time=  19.8s\n",
            "[CV 2/3] END max_depth=None, max_features=sqrt, min_samples_leaf=1, min_samples_split=10, n_estimators=300;, score=(train=1.000, test=0.755) total time=  20.5s\n",
            "[CV 3/3] END max_depth=None, max_features=sqrt, min_samples_leaf=1, min_samples_split=10, n_estimators=300;, score=(train=0.999, test=0.720) total time=  19.4s\n",
            "[CV 1/3] END max_depth=20, max_features=sqrt, min_samples_leaf=2, min_samples_split=2, n_estimators=300;, score=(train=1.000, test=0.751) total time=  19.6s\n",
            "[CV 2/3] END max_depth=20, max_features=sqrt, min_samples_leaf=2, min_samples_split=2, n_estimators=300;, score=(train=1.000, test=0.753) total time=  18.7s\n",
            "[CV 3/3] END max_depth=20, max_features=sqrt, min_samples_leaf=2, min_samples_split=2, n_estimators=300;, score=(train=1.000, test=0.721) total time=  19.2s\n",
            "[CV 1/3] END max_depth=20, max_features=sqrt, min_samples_leaf=1, min_samples_split=2, n_estimators=300;, score=(train=1.000, test=0.756) total time=  20.2s\n",
            "[CV 2/3] END max_depth=20, max_features=sqrt, min_samples_leaf=1, min_samples_split=2, n_estimators=300;, score=(train=1.000, test=0.757) total time=  20.4s\n",
            "[CV 3/3] END max_depth=20, max_features=sqrt, min_samples_leaf=1, min_samples_split=2, n_estimators=300;, score=(train=1.000, test=0.725) total time=  19.6s\n",
            "----------\n",
            "iter: 4\n",
            "n_candidates: 1\n",
            "n_resources: 19359\n",
            "Fitting 3 folds for each of 1 candidates, totalling 3 fits\n",
            "[CV 1/3] END max_depth=20, max_features=sqrt, min_samples_leaf=1, min_samples_split=2, n_estimators=300;, score=(train=1.000, test=0.859) total time= 1.2min\n",
            "[CV 2/3] END max_depth=20, max_features=sqrt, min_samples_leaf=1, min_samples_split=2, n_estimators=300;, score=(train=1.000, test=0.855) total time= 1.2min\n",
            "[CV 3/3] END max_depth=20, max_features=sqrt, min_samples_leaf=1, min_samples_split=2, n_estimators=300;, score=(train=1.000, test=0.822) total time= 1.2min\n",
            "Métricas en el conjunto de prueba:\n",
            "              precision    recall  f1-score   support\n",
            "\n",
            "  not sexist       0.80      0.95      0.87      3030\n",
            "      sexist       0.64      0.27      0.38       970\n",
            "\n",
            "    accuracy                           0.79      4000\n",
            "   macro avg       0.72      0.61      0.62      4000\n",
            "weighted avg       0.76      0.79      0.75      4000\n",
            "\n",
            "Micro-F1 Score: 0.7863\n"
          ]
        }
      ]
    },
    {
      "cell_type": "code",
      "source": [
        "import seaborn as sns\n",
        "import matplotlib.pyplot as plt\n",
        "from sklearn.metrics import confusion_matrix\n",
        "\n",
        "# Obtener la matriz de confusión\n",
        "conf_matrix = confusion_matrix(y_test_num, y_test_pred)\n",
        "\n",
        "\n",
        "\n",
        "# Crear un mapa de calor para la matriz de confusión\n",
        "plt.figure(figsize=(10, 7))\n",
        "sns.heatmap(conf_matrix, annot=True, fmt='g', cmap='Blues', xticklabels=label_names, yticklabels=label_names)\n",
        "plt.xlabel('Etiquetas Predichas')\n",
        "plt.ylabel('Etiquetas Verdaderas')\n",
        "plt.title('Matriz de Confusión')\n",
        "plt.show()"
      ],
      "metadata": {
        "colab": {
          "base_uri": "https://localhost:8080/",
          "height": 641
        },
        "id": "yTUX41VZakiy",
        "outputId": "9edf095e-56c9-453d-8491-aa095f0b8ac2"
      },
      "execution_count": null,
      "outputs": [
        {
          "output_type": "display_data",
          "data": {
            "text/plain": [
              "<Figure size 1000x700 with 2 Axes>"
            ],
            "image/png": "[encoded data removed]"
          },
          "metadata": {}
        }
      ]
    },
    {
      "cell_type": "code",
      "source": [
        "from xgboost import XGBClassifier\n",
        "from sklearn.experimental import enable_halving_search_cv\n",
        "from sklearn.model_selection import HalvingGridSearchCV\n",
        "from sklearn.metrics import classification_report\n",
        "from sklearn.metrics import f1_score\n",
        "\n",
        "# Definir el clasificador XGBoost\n",
        "#xgb_clf = XGBClassifier(use_label_encoder=False, eval_metric='mlogloss',objective='multi:softmax', num_class=20, random_state=42)\n",
        "\n",
        "# Definir la grilla de parámetros para la búsqueda\n",
        "param_grid = {\n",
        "    'max_depth': [3, 6],#, 9],\n",
        "    'learning_rate': [ 0.01],#, 0.001],\n",
        "    'subsample': [0.8 ]#, 1]\n",
        "}\n",
        "\n",
        "\n",
        "# Realizar la búsqueda en grilla con validación cruzada\n",
        "#grid_search = HalvingGridSearchCV(xgb_clf, param_grid, cv=3, scoring='f1_micro',verbose=3)\n",
        "#grid_search.fit(vectors_train, y_train_num)\n",
        "\n",
        "# Obtener el mejor clasificador\n",
        "#best_xgb_clf = grid_search.best_estimator_\n",
        "\n",
        "xgb_clf = XGBClassifier(n_estimators=300, max_depth=9, learning_rate=0.1)\n",
        "\n",
        "xgb_clf.fit(vectors_train, y_train_num, verbose=1)\n",
        "\n",
        "# Evaluar el mejor clasificador en el conjunto de prueba\n",
        "y_test_pred = xgb_clf.predict(vectors_test)\n",
        "print('Métricas en el conjunto de prueba:')\n",
        "print(classification_report(y_test_num, y_test_pred,target_names=label_names))\n",
        "micro_f1 = f1_score(y_test_num, y_test_pred, average='micro')\n",
        "print('Micro-F1 Score: {:.4f}'.format(micro_f1))"
      ],
      "metadata": {
        "id": "pLYItZ3LogfP",
        "colab": {
          "base_uri": "https://localhost:8080/"
        },
        "outputId": "5cdba5e1-9da8-482c-a8ed-84c4f0d64e6d"
      },
      "execution_count": null,
      "outputs": [
        {
          "output_type": "stream",
          "name": "stdout",
          "text": [
            "Métricas en el conjunto de prueba:\n",
            "              precision    recall  f1-score   support\n",
            "\n",
            "  not sexist       0.83      0.93      0.88      3030\n",
            "      sexist       0.64      0.39      0.49       970\n",
            "\n",
            "    accuracy                           0.80      4000\n",
            "   macro avg       0.73      0.66      0.68      4000\n",
            "weighted avg       0.78      0.80      0.78      4000\n",
            "\n",
            "Micro-F1 Score: 0.7997\n"
          ]
        }
      ]
    },
    {
      "cell_type": "code",
      "source": [
        "import seaborn as sns\n",
        "import matplotlib.pyplot as plt\n",
        "from sklearn.metrics import confusion_matrix\n",
        "\n",
        "# Obtener la matriz de confusión\n",
        "conf_matrix = confusion_matrix(y_test_num, y_test_pred)\n",
        "\n",
        "\n",
        "\n",
        "# Crear un mapa de calor para la matriz de confusión\n",
        "plt.figure(figsize=(10, 7))\n",
        "sns.heatmap(conf_matrix, annot=True, fmt='g', cmap='Blues', xticklabels=label_names, yticklabels=label_names)\n",
        "plt.xlabel('Etiquetas Predichas')\n",
        "plt.ylabel('Etiquetas Verdaderas')\n",
        "plt.title('Matriz de Confusión')\n",
        "plt.show()"
      ],
      "metadata": {
        "colab": {
          "base_uri": "https://localhost:8080/",
          "height": 641
        },
        "id": "XxxT3jUFZ9xi",
        "outputId": "743bc1b7-aa66-4f08-d946-1359544d9001"
      },
      "execution_count": null,
      "outputs": [
        {
          "output_type": "display_data",
          "data": {
            "text/plain": [
              "<Figure size 1000x700 with 2 Axes>"
            ],
            "image/png": "[encoded data removed]"
          },
          "metadata": {}
        }
      ]
    },
    {
      "cell_type": "markdown",
      "source": [
        "# RNN"
      ],
      "metadata": {
        "id": "R0H2g_F7B482"
      }
    },
    {
      "cell_type": "code",
      "source": [
        "import tensorflow as tf\n",
        "\n",
        "# Suponiendo que 'word2vec_embeddings' es una matriz NumPy que contiene tus embeddings de Word2Vec\n",
        "# y 'max_vocab' es el tamaño de tu vocabulario\n",
        "\n",
        "model = tf.keras.Sequential([\n",
        "    tf.keras.layers.Embedding(3000000, 300, trainable=False),\n",
        "    tf.keras.layers.Bidirectional(tf.keras.layers.LSTM(64, return_sequences=True)),\n",
        "    tf.keras.layers.Bidirectional(tf.keras.layers.LSTM(16)),\n",
        "    tf.keras.layers.Dense(64, activation='relu'),\n",
        "    tf.keras.layers.Dropout(0.5),\n",
        "    tf.keras.layers.Dense(20,activation='softmax')\n",
        "])\n",
        "\n",
        "model.summary()"
      ],
      "metadata": {
        "id": "T3FkzpluPm6d"
      },
      "execution_count": null,
      "outputs": []
    },
    {
      "cell_type": "code",
      "source": [
        "# Configurar el callback de parada temprana\n",
        "early_stop = tf.keras.callbacks.EarlyStopping(monitor='val_loss', patience=2, restore_best_weights=True)\n",
        "\n",
        "# Compilar el modelo con la función de pérdida y el optimizador adecuados para clasificación multiclase\n",
        "model.compile(loss=tf.keras.losses.SparseCategoricalCrossentropy(from_logits=False),\n",
        "              optimizer=tf.keras.optimizers.Adam(1e-4),\n",
        "              metrics=['accuracy'])\n",
        "\n",
        "# Entrenar el modelo\n",
        "history = model.fit(vectors_train, y_train_num, epochs=10, validation_data=(vectors_val, y_val_num), batch_size=32, shuffle=True, callbacks=[early_stop])"
      ],
      "metadata": {
        "colab": {
          "base_uri": "https://localhost:8080/"
        },
        "id": "MoNwqN0pDTQr",
        "outputId": "4696bf04-d4f4-45d2-b9e4-7e247234ef40"
      },
      "execution_count": null,
      "outputs": [
        {
          "output_type": "stream",
          "name": "stdout",
          "text": [
            "Epoch 1/10\n",
            "377/377 [==============================] - ETA: 0s - loss: 2.9941 - accuracy: 0.0547"
          ]
        }
      ]
    },
    {
      "cell_type": "code",
      "source": [],
      "metadata": {
        "id": "tAiFKZZsIlBj"
      },
      "execution_count": null,
      "outputs": []
    }
  ]
}