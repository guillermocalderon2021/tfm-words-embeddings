{
  "cells": [
    {
      "cell_type": "markdown",
      "metadata": {
        "id": "view-in-github",
        "colab_type": "text"
      },
      "source": [
        "<a href=\"https://colab.research.google.com/github/guillermocalderon2021/tfm-words-embeddings/blob/main/TransformerArxiv.ipynb\" target=\"_parent\"><img src=\"https://colab.research.google.com/assets/colab-badge.svg\" alt=\"Open In Colab\"/></a>"
      ]
    },
    {
      "cell_type": "markdown",
      "metadata": {
        "id": "0mTl38BPWupb"
      },
      "source": [
        "\n",
        "\n",
        "<h1><font color='#12007a'>Embeddings contextuales </p>\n",
        "\n"
      ]
    },
    {
      "cell_type": "markdown",
      "metadata": {
        "id": "d3-lXDoddKFy"
      },
      "source": [
        "En concreto, vamos a comparar los siguientes transformers, y los aplicaremos a las tareas de clasificación binaria y clasificación multiclase:\n"
      ]
    },
    {
      "cell_type": "code",
      "execution_count": null,
      "metadata": {
        "colab": {
          "base_uri": "https://localhost:8080/"
        },
        "id": "ZZZaOmIedPrs",
        "outputId": "87876d04-ec25-47bd-ef3f-1fdf6eb093e5"
      },
      "outputs": [
        {
          "output_type": "stream",
          "name": "stdout",
          "text": [
            "xlnet-base-cased\n"
          ]
        }
      ],
      "source": [
        "models = ['bert-base-uncased',\n",
        "          'distilbert-base-uncased',\n",
        "          'roberta-base',\n",
        "          'xlnet-base-cased',\n",
        "          'gpt2', 't5-small']\n",
        "\n",
        "model_name = models[3]\n",
        "\n",
        "\n",
        "\n",
        "print(model_name)\n"
      ]
    },
    {
      "cell_type": "markdown",
      "metadata": {
        "id": "q3HoftRfdYDT"
      },
      "source": [
        "## Instalar librerías\n",
        "\n",
        "Debemos instalar las librerías de transformers y datasets:"
      ]
    },
    {
      "cell_type": "code",
      "execution_count": null,
      "metadata": {
        "colab": {
          "base_uri": "https://localhost:8080/",
          "height": 35
        },
        "id": "5entTJMF3eRW",
        "outputId": "f088b46e-28aa-4248-ab88-c5b12bc764ca"
      },
      "outputs": [
        {
          "output_type": "execute_result",
          "data": {
            "text/plain": [
              "'2.2.1+cu121'"
            ],
            "application/vnd.google.colaboratory.intrinsic+json": {
              "type": "string"
            }
          },
          "metadata": {},
          "execution_count": 2
        }
      ],
      "source": [
        "import torch\n",
        "torch.__version__"
      ]
    },
    {
      "cell_type": "code",
      "source": [
        "!pip install -q datasets"
      ],
      "metadata": {
        "id": "SxlqwqcIRqDM"
      },
      "execution_count": null,
      "outputs": []
    },
    {
      "cell_type": "code",
      "execution_count": null,
      "metadata": {
        "id": "i1Z5GP9rVKH8"
      },
      "outputs": [],
      "source": [
        "!pip install -q transformers[torch] datasets\n"
      ]
    },
    {
      "cell_type": "markdown",
      "metadata": {
        "id": "pJCjbt0yOM-m"
      },
      "source": [
        "Para garantizar la reproductividad de nuestros experimentos vamos a fijar una semilla. Con esto conseguimos que las inicializaciones siempre sean las mismas:"
      ]
    },
    {
      "cell_type": "code",
      "execution_count": null,
      "metadata": {
        "id": "Le_8SaPLNTlx"
      },
      "outputs": [],
      "source": [
        "from transformers import set_seed\n",
        "set_seed(42)"
      ]
    },
    {
      "cell_type": "markdown",
      "metadata": {
        "id": "PDy2_5uzsX0o"
      },
      "source": [
        "## Dataset\n",
        "\n",
        "Vamos a cargar el dataset, tal y como ya hicimos en la primera parte de esta práctica:\n"
      ]
    },
    {
      "cell_type": "code",
      "execution_count": null,
      "metadata": {
        "colab": {
          "base_uri": "https://localhost:8080/",
          "height": 224
        },
        "id": "J2ZVL7hlqrg0",
        "outputId": "acd9a6d9-b486-44ae-f49b-f8d299a971d1"
      },
      "outputs": [
        {
          "output_type": "stream",
          "name": "stdout",
          "text": [
            "Drive already mounted at /content/drive; to attempt to forcibly remount, call drive.mount(\"/content/drive\", force_remount=True).\n"
          ]
        },
        {
          "output_type": "execute_result",
          "data": {
            "text/plain": [
              "       paper_id                                              title  \\\n",
              "0  2301.02657v1  TarViS: A Unified Approach for Target-based Vi...   \n",
              "1  2301.02642v1  Triple-stream Deep Metric Learning of Great Ap...   \n",
              "2  2301.02610v1              Feedback-Gated Rectified Linear Units   \n",
              "3  2301.02593v1  Multi-Agent Reinforcement Learning for Fast-Ti...   \n",
              "4  2301.02561v1  Multi-Vehicle Trajectory Prediction at Interse...   \n",
              "\n",
              "                                            abstract  \\\n",
              "0  The general domain of video segmentation is cu...   \n",
              "1  We propose the first metric learning system fo...   \n",
              "2  Feedback connections play a prominent role in ...   \n",
              "3  To integrate high amounts of renewable energy ...   \n",
              "4  Traditional approaches to prediction of future...   \n",
              "\n",
              "                        year primary_category               categories  \n",
              "0  2023-01-06 18:59:52+00:00            cs.CV        cs.CV cs.AI cs.LG  \n",
              "1  2023-01-06 18:36:04+00:00            cs.CV        cs.CV cs.AI cs.LG  \n",
              "2  2023-01-06 17:14:11+00:00            cs.NE              cs.NE cs.AI  \n",
              "3  2023-01-06 16:41:51+00:00            cs.MA  cs.MA cs.AI cs.LG cs.SY  \n",
              "4  2023-01-06 15:13:23+00:00            cs.RO              cs.RO cs.AI  "
            ],
            "text/html": [
              "\n",
              "  <div id=\"df-21701352-29c7-441f-b977-e6ca42104b66\" class=\"colab-df-container\">\n",
              "    <div>\n",
              "<style scoped>\n",
              "    .dataframe tbody tr th:only-of-type {\n",
              "        vertical-align: middle;\n",
              "    }\n",
              "\n",
              "    .dataframe tbody tr th {\n",
              "        vertical-align: top;\n",
              "    }\n",
              "\n",
              "    .dataframe thead th {\n",
              "        text-align: right;\n",
              "    }\n",
              "</style>\n",
              "<table border=\"1\" class=\"dataframe\">\n",
              "  <thead>\n",
              "    <tr style=\"text-align: right;\">\n",
              "      <th></th>\n",
              "      <th>paper_id</th>\n",
              "      <th>title</th>\n",
              "      <th>abstract</th>\n",
              "      <th>year</th>\n",
              "      <th>primary_category</th>\n",
              "      <th>categories</th>\n",
              "    </tr>\n",
              "  </thead>\n",
              "  <tbody>\n",
              "    <tr>\n",
              "      <th>0</th>\n",
              "      <td>2301.02657v1</td>\n",
              "      <td>TarViS: A Unified Approach for Target-based Vi...</td>\n",
              "      <td>The general domain of video segmentation is cu...</td>\n",
              "      <td>2023-01-06 18:59:52+00:00</td>\n",
              "      <td>cs.CV</td>\n",
              "      <td>cs.CV cs.AI cs.LG</td>\n",
              "    </tr>\n",
              "    <tr>\n",
              "      <th>1</th>\n",
              "      <td>2301.02642v1</td>\n",
              "      <td>Triple-stream Deep Metric Learning of Great Ap...</td>\n",
              "      <td>We propose the first metric learning system fo...</td>\n",
              "      <td>2023-01-06 18:36:04+00:00</td>\n",
              "      <td>cs.CV</td>\n",
              "      <td>cs.CV cs.AI cs.LG</td>\n",
              "    </tr>\n",
              "    <tr>\n",
              "      <th>2</th>\n",
              "      <td>2301.02610v1</td>\n",
              "      <td>Feedback-Gated Rectified Linear Units</td>\n",
              "      <td>Feedback connections play a prominent role in ...</td>\n",
              "      <td>2023-01-06 17:14:11+00:00</td>\n",
              "      <td>cs.NE</td>\n",
              "      <td>cs.NE cs.AI</td>\n",
              "    </tr>\n",
              "    <tr>\n",
              "      <th>3</th>\n",
              "      <td>2301.02593v1</td>\n",
              "      <td>Multi-Agent Reinforcement Learning for Fast-Ti...</td>\n",
              "      <td>To integrate high amounts of renewable energy ...</td>\n",
              "      <td>2023-01-06 16:41:51+00:00</td>\n",
              "      <td>cs.MA</td>\n",
              "      <td>cs.MA cs.AI cs.LG cs.SY</td>\n",
              "    </tr>\n",
              "    <tr>\n",
              "      <th>4</th>\n",
              "      <td>2301.02561v1</td>\n",
              "      <td>Multi-Vehicle Trajectory Prediction at Interse...</td>\n",
              "      <td>Traditional approaches to prediction of future...</td>\n",
              "      <td>2023-01-06 15:13:23+00:00</td>\n",
              "      <td>cs.RO</td>\n",
              "      <td>cs.RO cs.AI</td>\n",
              "    </tr>\n",
              "  </tbody>\n",
              "</table>\n",
              "</div>\n",
              "    <div class=\"colab-df-buttons\">\n",
              "\n",
              "  <div class=\"colab-df-container\">\n",
              "    <button class=\"colab-df-convert\" onclick=\"convertToInteractive('df-21701352-29c7-441f-b977-e6ca42104b66')\"\n",
              "            title=\"Convert this dataframe to an interactive table.\"\n",
              "            style=\"display:none;\">\n",
              "\n",
              "  <svg xmlns=\"http://www.w3.org/2000/svg\" height=\"24px\" viewBox=\"0 -960 960 960\">\n",
              "    <path d=\"M120-120v-720h720v720H120Zm60-500h600v-160H180v160Zm220 220h160v-160H400v160Zm0 220h160v-160H400v160ZM180-400h160v-160H180v160Zm440 0h160v-160H620v160ZM180-180h160v-160H180v160Zm440 0h160v-160H620v160Z\"/>\n",
              "  </svg>\n",
              "    </button>\n",
              "\n",
              "  <style>\n",
              "    .colab-df-container {\n",
              "      display:flex;\n",
              "      gap: 12px;\n",
              "    }\n",
              "\n",
              "    .colab-df-convert {\n",
              "      background-color: #E8F0FE;\n",
              "      border: none;\n",
              "      border-radius: 50%;\n",
              "      cursor: pointer;\n",
              "      display: none;\n",
              "      fill: #1967D2;\n",
              "      height: 32px;\n",
              "      padding: 0 0 0 0;\n",
              "      width: 32px;\n",
              "    }\n",
              "\n",
              "    .colab-df-convert:hover {\n",
              "      background-color: #E2EBFA;\n",
              "      box-shadow: 0px 1px 2px rgba(60, 64, 67, 0.3), 0px 1px 3px 1px rgba(60, 64, 67, 0.15);\n",
              "      fill: #174EA6;\n",
              "    }\n",
              "\n",
              "    .colab-df-buttons div {\n",
              "      margin-bottom: 4px;\n",
              "    }\n",
              "\n",
              "    [theme=dark] .colab-df-convert {\n",
              "      background-color: #3B4455;\n",
              "      fill: #D2E3FC;\n",
              "    }\n",
              "\n",
              "    [theme=dark] .colab-df-convert:hover {\n",
              "      background-color: #434B5C;\n",
              "      box-shadow: 0px 1px 3px 1px rgba(0, 0, 0, 0.15);\n",
              "      filter: drop-shadow(0px 1px 2px rgba(0, 0, 0, 0.3));\n",
              "      fill: #FFFFFF;\n",
              "    }\n",
              "  </style>\n",
              "\n",
              "    <script>\n",
              "      const buttonEl =\n",
              "        document.querySelector('#df-21701352-29c7-441f-b977-e6ca42104b66 button.colab-df-convert');\n",
              "      buttonEl.style.display =\n",
              "        google.colab.kernel.accessAllowed ? 'block' : 'none';\n",
              "\n",
              "      async function convertToInteractive(key) {\n",
              "        const element = document.querySelector('#df-21701352-29c7-441f-b977-e6ca42104b66');\n",
              "        const dataTable =\n",
              "          await google.colab.kernel.invokeFunction('convertToInteractive',\n",
              "                                                    [key], {});\n",
              "        if (!dataTable) return;\n",
              "\n",
              "        const docLinkHtml = 'Like what you see? Visit the ' +\n",
              "          '<a target=\"_blank\" href=https://colab.research.google.com/notebooks/data_table.ipynb>data table notebook</a>'\n",
              "          + ' to learn more about interactive tables.';\n",
              "        element.innerHTML = '';\n",
              "        dataTable['output_type'] = 'display_data';\n",
              "        await google.colab.output.renderOutput(dataTable, element);\n",
              "        const docLink = document.createElement('div');\n",
              "        docLink.innerHTML = docLinkHtml;\n",
              "        element.appendChild(docLink);\n",
              "      }\n",
              "    </script>\n",
              "  </div>\n",
              "\n",
              "\n",
              "<div id=\"df-e8a4a6d5-a540-45ae-9b2e-3fa00158f066\">\n",
              "  <button class=\"colab-df-quickchart\" onclick=\"quickchart('df-e8a4a6d5-a540-45ae-9b2e-3fa00158f066')\"\n",
              "            title=\"Suggest charts\"\n",
              "            style=\"display:none;\">\n",
              "\n",
              "<svg xmlns=\"http://www.w3.org/2000/svg\" height=\"24px\"viewBox=\"0 0 24 24\"\n",
              "     width=\"24px\">\n",
              "    <g>\n",
              "        <path d=\"M19 3H5c-1.1 0-2 .9-2 2v14c0 1.1.9 2 2 2h14c1.1 0 2-.9 2-2V5c0-1.1-.9-2-2-2zM9 17H7v-7h2v7zm4 0h-2V7h2v10zm4 0h-2v-4h2v4z\"/>\n",
              "    </g>\n",
              "</svg>\n",
              "  </button>\n",
              "\n",
              "<style>\n",
              "  .colab-df-quickchart {\n",
              "      --bg-color: #E8F0FE;\n",
              "      --fill-color: #1967D2;\n",
              "      --hover-bg-color: #E2EBFA;\n",
              "      --hover-fill-color: #174EA6;\n",
              "      --disabled-fill-color: #AAA;\n",
              "      --disabled-bg-color: #DDD;\n",
              "  }\n",
              "\n",
              "  [theme=dark] .colab-df-quickchart {\n",
              "      --bg-color: #3B4455;\n",
              "      --fill-color: #D2E3FC;\n",
              "      --hover-bg-color: #434B5C;\n",
              "      --hover-fill-color: #FFFFFF;\n",
              "      --disabled-bg-color: #3B4455;\n",
              "      --disabled-fill-color: #666;\n",
              "  }\n",
              "\n",
              "  .colab-df-quickchart {\n",
              "    background-color: var(--bg-color);\n",
              "    border: none;\n",
              "    border-radius: 50%;\n",
              "    cursor: pointer;\n",
              "    display: none;\n",
              "    fill: var(--fill-color);\n",
              "    height: 32px;\n",
              "    padding: 0;\n",
              "    width: 32px;\n",
              "  }\n",
              "\n",
              "  .colab-df-quickchart:hover {\n",
              "    background-color: var(--hover-bg-color);\n",
              "    box-shadow: 0 1px 2px rgba(60, 64, 67, 0.3), 0 1px 3px 1px rgba(60, 64, 67, 0.15);\n",
              "    fill: var(--button-hover-fill-color);\n",
              "  }\n",
              "\n",
              "  .colab-df-quickchart-complete:disabled,\n",
              "  .colab-df-quickchart-complete:disabled:hover {\n",
              "    background-color: var(--disabled-bg-color);\n",
              "    fill: var(--disabled-fill-color);\n",
              "    box-shadow: none;\n",
              "  }\n",
              "\n",
              "  .colab-df-spinner {\n",
              "    border: 2px solid var(--fill-color);\n",
              "    border-color: transparent;\n",
              "    border-bottom-color: var(--fill-color);\n",
              "    animation:\n",
              "      spin 1s steps(1) infinite;\n",
              "  }\n",
              "\n",
              "  @keyframes spin {\n",
              "    0% {\n",
              "      border-color: transparent;\n",
              "      border-bottom-color: var(--fill-color);\n",
              "      border-left-color: var(--fill-color);\n",
              "    }\n",
              "    20% {\n",
              "      border-color: transparent;\n",
              "      border-left-color: var(--fill-color);\n",
              "      border-top-color: var(--fill-color);\n",
              "    }\n",
              "    30% {\n",
              "      border-color: transparent;\n",
              "      border-left-color: var(--fill-color);\n",
              "      border-top-color: var(--fill-color);\n",
              "      border-right-color: var(--fill-color);\n",
              "    }\n",
              "    40% {\n",
              "      border-color: transparent;\n",
              "      border-right-color: var(--fill-color);\n",
              "      border-top-color: var(--fill-color);\n",
              "    }\n",
              "    60% {\n",
              "      border-color: transparent;\n",
              "      border-right-color: var(--fill-color);\n",
              "    }\n",
              "    80% {\n",
              "      border-color: transparent;\n",
              "      border-right-color: var(--fill-color);\n",
              "      border-bottom-color: var(--fill-color);\n",
              "    }\n",
              "    90% {\n",
              "      border-color: transparent;\n",
              "      border-bottom-color: var(--fill-color);\n",
              "    }\n",
              "  }\n",
              "</style>\n",
              "\n",
              "  <script>\n",
              "    async function quickchart(key) {\n",
              "      const quickchartButtonEl =\n",
              "        document.querySelector('#' + key + ' button');\n",
              "      quickchartButtonEl.disabled = true;  // To prevent multiple clicks.\n",
              "      quickchartButtonEl.classList.add('colab-df-spinner');\n",
              "      try {\n",
              "        const charts = await google.colab.kernel.invokeFunction(\n",
              "            'suggestCharts', [key], {});\n",
              "      } catch (error) {\n",
              "        console.error('Error during call to suggestCharts:', error);\n",
              "      }\n",
              "      quickchartButtonEl.classList.remove('colab-df-spinner');\n",
              "      quickchartButtonEl.classList.add('colab-df-quickchart-complete');\n",
              "    }\n",
              "    (() => {\n",
              "      let quickchartButtonEl =\n",
              "        document.querySelector('#df-e8a4a6d5-a540-45ae-9b2e-3fa00158f066 button');\n",
              "      quickchartButtonEl.style.display =\n",
              "        google.colab.kernel.accessAllowed ? 'block' : 'none';\n",
              "    })();\n",
              "  </script>\n",
              "</div>\n",
              "\n",
              "    </div>\n",
              "  </div>\n"
            ],
            "application/vnd.google.colaboratory.intrinsic+json": {
              "type": "dataframe",
              "variable_name": "df"
            }
          },
          "metadata": {},
          "execution_count": 6
        }
      ],
      "source": [
        "from google.colab import drive\n",
        "drive.mount('/content/drive')\n",
        "import os\n",
        "import pandas as pd\n",
        "\n",
        "os.chdir('/content/drive/My Drive/Colab Notebooks/data/arxiv/')\n",
        "df = pd.read_csv('cs_papers_api.csv')\n",
        "df.head()"
      ]
    },
    {
      "cell_type": "code",
      "source": [
        "df=df[0:20000]\n",
        "len(df)"
      ],
      "metadata": {
        "colab": {
          "base_uri": "https://localhost:8080/"
        },
        "id": "RFsFmTt0yeVz",
        "outputId": "b19643da-5b1a-4a14-9460-f496bf43acab"
      },
      "execution_count": null,
      "outputs": [
        {
          "output_type": "execute_result",
          "data": {
            "text/plain": [
              "20000"
            ]
          },
          "metadata": {},
          "execution_count": 7
        }
      ]
    },
    {
      "cell_type": "markdown",
      "source": [
        "# BASELINE"
      ],
      "metadata": {
        "id": "Nzr-AXEh0j_C"
      }
    },
    {
      "cell_type": "code",
      "source": [
        "%%time\n",
        "\n",
        "import multiprocessing\n",
        "import spacy\n",
        "import re\n",
        "import inspect\n",
        "import numpy as np\n",
        "from nltk.stem import PorterStemmer\n",
        "\n",
        "\n",
        "class BaselinePreprocessor:\n",
        "    \"\"\"Here, I'll prepare the data for the multi-label classification of the\n",
        "    baseline model. This class will preprocess the data in a parallel matter using\n",
        "    multiple processes. The original DataFrame will be split in chunks. A pipeline\n",
        "    of transformations will be ran on each chunk.\n",
        "    The pipeline of transformations will include:\n",
        "    - Text lowercasing\n",
        "    - Special symbols removal\n",
        "    - Stopwords removal\n",
        "    - Stemming (It is chosen for simplicity's sake, using lemmatization will be more resource intensive)\n",
        "\n",
        "    Args:\n",
        "        dataset (pandas.DataFrame): The dataset in a DataFrame format.\n",
        "    \"\"\"\n",
        "\n",
        "    def __init__(self, dataset: pd.DataFrame):\n",
        "        self._df_chunks = np.array_split(dataset, multiprocessing.cpu_count())\n",
        "        self._spacy_nlp = spacy.load('en_core_web_sm')\n",
        "\n",
        "        # Getting all defined methods.\n",
        "        obj_methods = list(inspect.getmembers(self, predicate=inspect.ismethod))\n",
        "        # Creating a pipeline of actions with only the '_step' methods.\n",
        "        self._pipeline = [\n",
        "            reference\n",
        "            for method_name, reference in obj_methods\n",
        "            if \"_step\" in method_name\n",
        "        ]\n",
        "\n",
        "    def preprocess(self) -> pd.DataFrame:\n",
        "        subdfs = []\n",
        "\n",
        "        with multiprocessing.Pool() as pool:\n",
        "            results = pool.map(self._run_pipeline, self._df_chunks)\n",
        "\n",
        "        for result in results:\n",
        "            subdfs.append(result)\n",
        "\n",
        "        return pd.concat(subdfs)\n",
        "\n",
        "    def _run_pipeline(self, df: pd.DataFrame) -> pd.DataFrame:\n",
        "        for step in self._pipeline:\n",
        "            df = step(df)\n",
        "\n",
        "        return df\n",
        "\n",
        "    def _step_lowercase(self, df: pd.DataFrame) -> pd.DataFrame:\n",
        "        df[\"abstract\"] = df[\"abstract\"].apply(lambda text: text.lower())\n",
        "        return df\n",
        "\n",
        "    def _step_remove_special_symbols(self, df: pd.DataFrame) -> pd.DataFrame:\n",
        "        df[\"abstract\"] = df[\"abstract\"].apply(self._remove_special_symbols)\n",
        "        return df\n",
        "\n",
        "    def _step_remove_stopwords(self, df) -> pd.DataFrame:\n",
        "        df[\"abstract\"] = df[\"abstract\"].apply(self._remove_stopwords)\n",
        "        return df\n",
        "\n",
        "    def _step_stemming(self, df) -> pd.DataFrame:\n",
        "        df[\"abstract\"] = df[\"abstract\"].apply(self._stemming)\n",
        "        return df\n",
        "\n",
        "    def _remove_stopwords(self, text: str) -> str:\n",
        "        doc = self._spacy_nlp(text)\n",
        "\n",
        "        filtered_words = [\n",
        "            token.text\n",
        "            for token in doc\n",
        "            if not token.is_stop\n",
        "        ]\n",
        "\n",
        "        return \" \".join(filtered_words)\n",
        "\n",
        "    def _stemming(self, text: str) -> str:\n",
        "        stemmer = PorterStemmer()\n",
        "        stemmed_words = [\n",
        "            stemmer.stem(token.text)\n",
        "            for token in self._spacy_nlp(text)\n",
        "        ]\n",
        "\n",
        "        return \" \".join(stemmed_words)\n",
        "\n",
        "    def _remove_special_symbols(self, text: str) -> str:\n",
        "        # Replacing symbols that are not letters, digits or whitespace with a space.\n",
        "        text = re.sub(r\"[^\\w\\d\\s]+\", \" \", text)\n",
        "        # Converting multiple whitespaces into single ones.\n",
        "        text = re.sub(r\"\\s+\", \" \", text)\n",
        "\n",
        "        return text.strip()\n",
        "\n",
        "\n",
        "bl_preprocessor = BaselinePreprocessor(df)\n",
        "prep_dataset_df = bl_preprocessor.preprocess()\n",
        "\n",
        "print(\"After preprocessing:\")\n",
        "prep_dataset_df.head()"
      ],
      "metadata": {
        "colab": {
          "base_uri": "https://localhost:8080/",
          "height": 313
        },
        "id": "E3xpTbuLv1NJ",
        "outputId": "e6ee9318-1cec-427b-b3c1-01e8425400ca"
      },
      "execution_count": null,
      "outputs": [
        {
          "output_type": "stream",
          "name": "stderr",
          "text": [
            "/usr/lib/python3.10/multiprocessing/popen_fork.py:66: RuntimeWarning: os.fork() was called. os.fork() is incompatible with multithreaded code, and JAX is multithreaded, so this will likely lead to a deadlock.\n",
            "  self.pid = os.fork()\n"
          ]
        },
        {
          "output_type": "stream",
          "name": "stdout",
          "text": [
            "After preprocessing:\n",
            "CPU times: user 5.46 s, sys: 983 ms, total: 6.44 s\n",
            "Wall time: 14min 36s\n"
          ]
        },
        {
          "output_type": "execute_result",
          "data": {
            "text/plain": [
              "       paper_id                                              title  \\\n",
              "0  2301.02657v1  TarViS: A Unified Approach for Target-based Vi...   \n",
              "1  2301.02642v1  Triple-stream Deep Metric Learning of Great Ap...   \n",
              "2  2301.02610v1              Feedback-Gated Rectified Linear Units   \n",
              "3  2301.02593v1  Multi-Agent Reinforcement Learning for Fast-Ti...   \n",
              "4  2301.02561v1  Multi-Vehicle Trajectory Prediction at Interse...   \n",
              "\n",
              "                                            abstract  \\\n",
              "0  gener domain video segment current fragment di...   \n",
              "1  propos metric learn system recognit great ape ...   \n",
              "2  feedback connect play promin role human brain ...   \n",
              "3  integr high amount renew energi resourc electr...   \n",
              "4  tradit approach predict futur trajectori road ...   \n",
              "\n",
              "                        year primary_category                    categories  \n",
              "0  2023-01-06 18:59:52+00:00            cs.CV         [cs.CV, cs.AI, cs.LG]  \n",
              "1  2023-01-06 18:36:04+00:00            cs.CV         [cs.CV, cs.AI, cs.LG]  \n",
              "2  2023-01-06 17:14:11+00:00            cs.NE                [cs.NE, cs.AI]  \n",
              "3  2023-01-06 16:41:51+00:00            cs.MA  [cs.MA, cs.AI, cs.LG, cs.SY]  \n",
              "4  2023-01-06 15:13:23+00:00            cs.RO                [cs.RO, cs.AI]  "
            ],
            "text/html": [
              "\n",
              "  <div id=\"df-baaa08e4-2d3a-4690-867d-6de94edb2473\" class=\"colab-df-container\">\n",
              "    <div>\n",
              "<style scoped>\n",
              "    .dataframe tbody tr th:only-of-type {\n",
              "        vertical-align: middle;\n",
              "    }\n",
              "\n",
              "    .dataframe tbody tr th {\n",
              "        vertical-align: top;\n",
              "    }\n",
              "\n",
              "    .dataframe thead th {\n",
              "        text-align: right;\n",
              "    }\n",
              "</style>\n",
              "<table border=\"1\" class=\"dataframe\">\n",
              "  <thead>\n",
              "    <tr style=\"text-align: right;\">\n",
              "      <th></th>\n",
              "      <th>paper_id</th>\n",
              "      <th>title</th>\n",
              "      <th>abstract</th>\n",
              "      <th>year</th>\n",
              "      <th>primary_category</th>\n",
              "      <th>categories</th>\n",
              "    </tr>\n",
              "  </thead>\n",
              "  <tbody>\n",
              "    <tr>\n",
              "      <th>0</th>\n",
              "      <td>2301.02657v1</td>\n",
              "      <td>TarViS: A Unified Approach for Target-based Vi...</td>\n",
              "      <td>gener domain video segment current fragment di...</td>\n",
              "      <td>2023-01-06 18:59:52+00:00</td>\n",
              "      <td>cs.CV</td>\n",
              "      <td>[cs.CV, cs.AI, cs.LG]</td>\n",
              "    </tr>\n",
              "    <tr>\n",
              "      <th>1</th>\n",
              "      <td>2301.02642v1</td>\n",
              "      <td>Triple-stream Deep Metric Learning of Great Ap...</td>\n",
              "      <td>propos metric learn system recognit great ape ...</td>\n",
              "      <td>2023-01-06 18:36:04+00:00</td>\n",
              "      <td>cs.CV</td>\n",
              "      <td>[cs.CV, cs.AI, cs.LG]</td>\n",
              "    </tr>\n",
              "    <tr>\n",
              "      <th>2</th>\n",
              "      <td>2301.02610v1</td>\n",
              "      <td>Feedback-Gated Rectified Linear Units</td>\n",
              "      <td>feedback connect play promin role human brain ...</td>\n",
              "      <td>2023-01-06 17:14:11+00:00</td>\n",
              "      <td>cs.NE</td>\n",
              "      <td>[cs.NE, cs.AI]</td>\n",
              "    </tr>\n",
              "    <tr>\n",
              "      <th>3</th>\n",
              "      <td>2301.02593v1</td>\n",
              "      <td>Multi-Agent Reinforcement Learning for Fast-Ti...</td>\n",
              "      <td>integr high amount renew energi resourc electr...</td>\n",
              "      <td>2023-01-06 16:41:51+00:00</td>\n",
              "      <td>cs.MA</td>\n",
              "      <td>[cs.MA, cs.AI, cs.LG, cs.SY]</td>\n",
              "    </tr>\n",
              "    <tr>\n",
              "      <th>4</th>\n",
              "      <td>2301.02561v1</td>\n",
              "      <td>Multi-Vehicle Trajectory Prediction at Interse...</td>\n",
              "      <td>tradit approach predict futur trajectori road ...</td>\n",
              "      <td>2023-01-06 15:13:23+00:00</td>\n",
              "      <td>cs.RO</td>\n",
              "      <td>[cs.RO, cs.AI]</td>\n",
              "    </tr>\n",
              "  </tbody>\n",
              "</table>\n",
              "</div>\n",
              "    <div class=\"colab-df-buttons\">\n",
              "\n",
              "  <div class=\"colab-df-container\">\n",
              "    <button class=\"colab-df-convert\" onclick=\"convertToInteractive('df-baaa08e4-2d3a-4690-867d-6de94edb2473')\"\n",
              "            title=\"Convert this dataframe to an interactive table.\"\n",
              "            style=\"display:none;\">\n",
              "\n",
              "  <svg xmlns=\"http://www.w3.org/2000/svg\" height=\"24px\" viewBox=\"0 -960 960 960\">\n",
              "    <path d=\"M120-120v-720h720v720H120Zm60-500h600v-160H180v160Zm220 220h160v-160H400v160Zm0 220h160v-160H400v160ZM180-400h160v-160H180v160Zm440 0h160v-160H620v160ZM180-180h160v-160H180v160Zm440 0h160v-160H620v160Z\"/>\n",
              "  </svg>\n",
              "    </button>\n",
              "\n",
              "  <style>\n",
              "    .colab-df-container {\n",
              "      display:flex;\n",
              "      gap: 12px;\n",
              "    }\n",
              "\n",
              "    .colab-df-convert {\n",
              "      background-color: #E8F0FE;\n",
              "      border: none;\n",
              "      border-radius: 50%;\n",
              "      cursor: pointer;\n",
              "      display: none;\n",
              "      fill: #1967D2;\n",
              "      height: 32px;\n",
              "      padding: 0 0 0 0;\n",
              "      width: 32px;\n",
              "    }\n",
              "\n",
              "    .colab-df-convert:hover {\n",
              "      background-color: #E2EBFA;\n",
              "      box-shadow: 0px 1px 2px rgba(60, 64, 67, 0.3), 0px 1px 3px 1px rgba(60, 64, 67, 0.15);\n",
              "      fill: #174EA6;\n",
              "    }\n",
              "\n",
              "    .colab-df-buttons div {\n",
              "      margin-bottom: 4px;\n",
              "    }\n",
              "\n",
              "    [theme=dark] .colab-df-convert {\n",
              "      background-color: #3B4455;\n",
              "      fill: #D2E3FC;\n",
              "    }\n",
              "\n",
              "    [theme=dark] .colab-df-convert:hover {\n",
              "      background-color: #434B5C;\n",
              "      box-shadow: 0px 1px 3px 1px rgba(0, 0, 0, 0.15);\n",
              "      filter: drop-shadow(0px 1px 2px rgba(0, 0, 0, 0.3));\n",
              "      fill: #FFFFFF;\n",
              "    }\n",
              "  </style>\n",
              "\n",
              "    <script>\n",
              "      const buttonEl =\n",
              "        document.querySelector('#df-baaa08e4-2d3a-4690-867d-6de94edb2473 button.colab-df-convert');\n",
              "      buttonEl.style.display =\n",
              "        google.colab.kernel.accessAllowed ? 'block' : 'none';\n",
              "\n",
              "      async function convertToInteractive(key) {\n",
              "        const element = document.querySelector('#df-baaa08e4-2d3a-4690-867d-6de94edb2473');\n",
              "        const dataTable =\n",
              "          await google.colab.kernel.invokeFunction('convertToInteractive',\n",
              "                                                    [key], {});\n",
              "        if (!dataTable) return;\n",
              "\n",
              "        const docLinkHtml = 'Like what you see? Visit the ' +\n",
              "          '<a target=\"_blank\" href=https://colab.research.google.com/notebooks/data_table.ipynb>data table notebook</a>'\n",
              "          + ' to learn more about interactive tables.';\n",
              "        element.innerHTML = '';\n",
              "        dataTable['output_type'] = 'display_data';\n",
              "        await google.colab.output.renderOutput(dataTable, element);\n",
              "        const docLink = document.createElement('div');\n",
              "        docLink.innerHTML = docLinkHtml;\n",
              "        element.appendChild(docLink);\n",
              "      }\n",
              "    </script>\n",
              "  </div>\n",
              "\n",
              "\n",
              "<div id=\"df-c83401b7-e3cd-4ddc-940d-2adf0a847812\">\n",
              "  <button class=\"colab-df-quickchart\" onclick=\"quickchart('df-c83401b7-e3cd-4ddc-940d-2adf0a847812')\"\n",
              "            title=\"Suggest charts\"\n",
              "            style=\"display:none;\">\n",
              "\n",
              "<svg xmlns=\"http://www.w3.org/2000/svg\" height=\"24px\"viewBox=\"0 0 24 24\"\n",
              "     width=\"24px\">\n",
              "    <g>\n",
              "        <path d=\"M19 3H5c-1.1 0-2 .9-2 2v14c0 1.1.9 2 2 2h14c1.1 0 2-.9 2-2V5c0-1.1-.9-2-2-2zM9 17H7v-7h2v7zm4 0h-2V7h2v10zm4 0h-2v-4h2v4z\"/>\n",
              "    </g>\n",
              "</svg>\n",
              "  </button>\n",
              "\n",
              "<style>\n",
              "  .colab-df-quickchart {\n",
              "      --bg-color: #E8F0FE;\n",
              "      --fill-color: #1967D2;\n",
              "      --hover-bg-color: #E2EBFA;\n",
              "      --hover-fill-color: #174EA6;\n",
              "      --disabled-fill-color: #AAA;\n",
              "      --disabled-bg-color: #DDD;\n",
              "  }\n",
              "\n",
              "  [theme=dark] .colab-df-quickchart {\n",
              "      --bg-color: #3B4455;\n",
              "      --fill-color: #D2E3FC;\n",
              "      --hover-bg-color: #434B5C;\n",
              "      --hover-fill-color: #FFFFFF;\n",
              "      --disabled-bg-color: #3B4455;\n",
              "      --disabled-fill-color: #666;\n",
              "  }\n",
              "\n",
              "  .colab-df-quickchart {\n",
              "    background-color: var(--bg-color);\n",
              "    border: none;\n",
              "    border-radius: 50%;\n",
              "    cursor: pointer;\n",
              "    display: none;\n",
              "    fill: var(--fill-color);\n",
              "    height: 32px;\n",
              "    padding: 0;\n",
              "    width: 32px;\n",
              "  }\n",
              "\n",
              "  .colab-df-quickchart:hover {\n",
              "    background-color: var(--hover-bg-color);\n",
              "    box-shadow: 0 1px 2px rgba(60, 64, 67, 0.3), 0 1px 3px 1px rgba(60, 64, 67, 0.15);\n",
              "    fill: var(--button-hover-fill-color);\n",
              "  }\n",
              "\n",
              "  .colab-df-quickchart-complete:disabled,\n",
              "  .colab-df-quickchart-complete:disabled:hover {\n",
              "    background-color: var(--disabled-bg-color);\n",
              "    fill: var(--disabled-fill-color);\n",
              "    box-shadow: none;\n",
              "  }\n",
              "\n",
              "  .colab-df-spinner {\n",
              "    border: 2px solid var(--fill-color);\n",
              "    border-color: transparent;\n",
              "    border-bottom-color: var(--fill-color);\n",
              "    animation:\n",
              "      spin 1s steps(1) infinite;\n",
              "  }\n",
              "\n",
              "  @keyframes spin {\n",
              "    0% {\n",
              "      border-color: transparent;\n",
              "      border-bottom-color: var(--fill-color);\n",
              "      border-left-color: var(--fill-color);\n",
              "    }\n",
              "    20% {\n",
              "      border-color: transparent;\n",
              "      border-left-color: var(--fill-color);\n",
              "      border-top-color: var(--fill-color);\n",
              "    }\n",
              "    30% {\n",
              "      border-color: transparent;\n",
              "      border-left-color: var(--fill-color);\n",
              "      border-top-color: var(--fill-color);\n",
              "      border-right-color: var(--fill-color);\n",
              "    }\n",
              "    40% {\n",
              "      border-color: transparent;\n",
              "      border-right-color: var(--fill-color);\n",
              "      border-top-color: var(--fill-color);\n",
              "    }\n",
              "    60% {\n",
              "      border-color: transparent;\n",
              "      border-right-color: var(--fill-color);\n",
              "    }\n",
              "    80% {\n",
              "      border-color: transparent;\n",
              "      border-right-color: var(--fill-color);\n",
              "      border-bottom-color: var(--fill-color);\n",
              "    }\n",
              "    90% {\n",
              "      border-color: transparent;\n",
              "      border-bottom-color: var(--fill-color);\n",
              "    }\n",
              "  }\n",
              "</style>\n",
              "\n",
              "  <script>\n",
              "    async function quickchart(key) {\n",
              "      const quickchartButtonEl =\n",
              "        document.querySelector('#' + key + ' button');\n",
              "      quickchartButtonEl.disabled = true;  // To prevent multiple clicks.\n",
              "      quickchartButtonEl.classList.add('colab-df-spinner');\n",
              "      try {\n",
              "        const charts = await google.colab.kernel.invokeFunction(\n",
              "            'suggestCharts', [key], {});\n",
              "      } catch (error) {\n",
              "        console.error('Error during call to suggestCharts:', error);\n",
              "      }\n",
              "      quickchartButtonEl.classList.remove('colab-df-spinner');\n",
              "      quickchartButtonEl.classList.add('colab-df-quickchart-complete');\n",
              "    }\n",
              "    (() => {\n",
              "      let quickchartButtonEl =\n",
              "        document.querySelector('#df-c83401b7-e3cd-4ddc-940d-2adf0a847812 button');\n",
              "      quickchartButtonEl.style.display =\n",
              "        google.colab.kernel.accessAllowed ? 'block' : 'none';\n",
              "    })();\n",
              "  </script>\n",
              "</div>\n",
              "\n",
              "    </div>\n",
              "  </div>\n"
            ],
            "application/vnd.google.colaboratory.intrinsic+json": {
              "type": "dataframe",
              "summary": "{\n  \"name\": \"get_ipython()\",\n  \"rows\": 5,\n  \"fields\": [\n    {\n      \"column\": \"paper_id\",\n      \"properties\": {\n        \"dtype\": \"string\",\n        \"num_unique_values\": 5,\n        \"samples\": [\n          \"2301.02642v1\",\n          \"2301.02561v1\",\n          \"2301.02610v1\"\n        ],\n        \"semantic_type\": \"\",\n        \"description\": \"\"\n      }\n    },\n    {\n      \"column\": \"title\",\n      \"properties\": {\n        \"dtype\": \"string\",\n        \"num_unique_values\": 5,\n        \"samples\": [\n          \"Triple-stream Deep Metric Learning of Great Ape Behavioural Actions\",\n          \"Multi-Vehicle Trajectory Prediction at Intersections using State and Intention Information\",\n          \"Feedback-Gated Rectified Linear Units\"\n        ],\n        \"semantic_type\": \"\",\n        \"description\": \"\"\n      }\n    },\n    {\n      \"column\": \"abstract\",\n      \"properties\": {\n        \"dtype\": \"string\",\n        \"num_unique_values\": 5,\n        \"samples\": [\n          \"propos metric learn system recognit great ape behaviour action propos tripl stream embed architectur work camera trap video taken directli wild demonstr utilis explicit densepos c chimpanze bodi segment stream effect complement tradit rgb appear optic flow stream evalu system variant differ featur fusion techniqu long tail recognit approach result ablat perform improv 12 1 accuraci previou result achiev panaf 500 dataset contain 180 000 manual annot frame behaviour action furthermor provid qualit analysi find augment metric learn system long tail recognit techniqu show averag class accuraci critic domain improv 23 compar literatur dataset final embed space construct metric provid data driven visualis great ape behaviour action space reveal emerg geometri topolog hope work spark interest vital applic area comput vision benefit endang great ape\",\n          \"tradit approach predict futur trajectori road agent reli know inform past trajectori work reli have knowledg current state intend direct predict multipl vehicl intersect furthermor messag pass inform vehicl provid holist overview environ allow inform predict train neural network take state intent multipl vehicl predict futur trajectori intent input allow approach extend addit control multipl vehicl drive desir path experiment result demonstr robust approach term trajectori predict vehicl control intersect complet train evalu code work avail url http github com dekai21 multi_agent_intersect\",\n          \"feedback connect play promin role human brain receiv attent artifici neural network research biolog inspir feedback mechan gate rectifi linear unit propos mnist dataset autoencod feedback faster converg better perform robust nois compar counterpart feedback benefit pronounc consist observ network feedback appli cifar 10 dataset\"\n        ],\n        \"semantic_type\": \"\",\n        \"description\": \"\"\n      }\n    },\n    {\n      \"column\": \"year\",\n      \"properties\": {\n        \"dtype\": \"object\",\n        \"num_unique_values\": 5,\n        \"samples\": [\n          \"2023-01-06 18:36:04+00:00\",\n          \"2023-01-06 15:13:23+00:00\",\n          \"2023-01-06 17:14:11+00:00\"\n        ],\n        \"semantic_type\": \"\",\n        \"description\": \"\"\n      }\n    },\n    {\n      \"column\": \"primary_category\",\n      \"properties\": {\n        \"dtype\": \"string\",\n        \"num_unique_values\": 4,\n        \"samples\": [\n          \"cs.NE\",\n          \"cs.RO\",\n          \"cs.CV\"\n        ],\n        \"semantic_type\": \"\",\n        \"description\": \"\"\n      }\n    },\n    {\n      \"column\": \"categories\",\n      \"properties\": {\n        \"dtype\": \"object\",\n        \"semantic_type\": \"\",\n        \"description\": \"\"\n      }\n    }\n  ]\n}"
            }
          },
          "metadata": {},
          "execution_count": 16
        }
      ]
    },
    {
      "cell_type": "code",
      "source": [
        "print(type(prep_dataset_df['categories'][0]))"
      ],
      "metadata": {
        "colab": {
          "base_uri": "https://localhost:8080/"
        },
        "id": "BTc10lZsAGhP",
        "outputId": "b83b3a16-d739-40a3-d27f-50b9d1ad2e02"
      },
      "execution_count": null,
      "outputs": [
        {
          "output_type": "stream",
          "name": "stdout",
          "text": [
            "<class 'str'>\n"
          ]
        }
      ]
    },
    {
      "cell_type": "code",
      "source": [
        "from sklearn.preprocessing import MultiLabelBinarizer\n",
        "from sklearn.feature_extraction.text import TfidfVectorizer\n",
        "from typing import Dict, Any, Generator, Tuple, Optional\n",
        "\n",
        "vectorizer = TfidfVectorizer()\n",
        "mlb = MultiLabelBinarizer()\n",
        "\n",
        "\n",
        "def vectorize_dataset(\n",
        "    dataset: pd.DataFrame,\n",
        "    tfidf: TfidfVectorizer, binarizer: MultiLabelBinarizer,\n",
        "    train: bool = False\n",
        ") -> Tuple[np.ndarray, Optional[np.ndarray]]:\n",
        "    if train:\n",
        "        tfidf.fit(dataset[\"abstract\"])\n",
        "        binarizer.fit(dataset[\"categories\"])\n",
        "\n",
        "    X = tfidf.transform(dataset[\"abstract\"])\n",
        "\n",
        "    dataset[\"categories\"] = dataset[\"categories\"].apply(lambda x: x.split() if isinstance(x, str) else x)\n",
        "\n",
        "    if train:\n",
        "        y = binarizer.transform(dataset[\"categories\"])\n",
        "        return X, y\n",
        "\n",
        "    return X\n",
        "\n",
        "\n",
        "X, y = vectorize_dataset(\n",
        "    dataset=prep_dataset_df,\n",
        "    tfidf=vectorizer,\n",
        "    binarizer=mlb,\n",
        "    train=True\n",
        ")\n",
        "\n",
        "print(f\"X.shape\", X.shape)\n",
        "print(f\"y.shape\", y.shape)\n",
        "labels_list = mlb.classes_.tolist()\n",
        "print(labels_list)\n"
      ],
      "metadata": {
        "colab": {
          "base_uri": "https://localhost:8080/"
        },
        "id": "gBq8fJRdzcgZ",
        "outputId": "a2068da0-6247-44e3-9d4b-11706dd0ed0a"
      },
      "execution_count": null,
      "outputs": [
        {
          "output_type": "stream",
          "name": "stdout",
          "text": [
            "X.shape (20000, 31955)\n",
            "y.shape (20000, 42)\n",
            "['cs.AI', 'cs.AR', 'cs.CC', 'cs.CE', 'cs.CG', 'cs.CL', 'cs.CL,', 'cs.CR', 'cs.CV', 'cs.CY', 'cs.DB', 'cs.DC', 'cs.DL', 'cs.DM', 'cs.DS', 'cs.ET', 'cs.FL', 'cs.GL', 'cs.GR', 'cs.GT', 'cs.HC', 'cs.IR', 'cs.IT', 'cs.LG', 'cs.LO', 'cs.MA', 'cs.MM', 'cs.MS', 'cs.NA', 'cs.NE', 'cs.NI', 'cs.OH', 'cs.OS', 'cs.PF', 'cs.PL', 'cs.RO', 'cs.SC', 'cs.SD', 'cs.SE', 'cs.SI', 'cs.SY', 'cs.cc']\n"
          ]
        }
      ]
    },
    {
      "cell_type": "code",
      "source": [
        "display(y)"
      ],
      "metadata": {
        "colab": {
          "base_uri": "https://localhost:8080/",
          "height": 138
        },
        "id": "zToO6zUzCNuI",
        "outputId": "4e777ea1-11a3-42c1-9e22-ed2db1b3073e"
      },
      "execution_count": null,
      "outputs": [
        {
          "output_type": "display_data",
          "data": {
            "text/plain": [
              "array([[1, 0, 0, ..., 0, 0, 0],\n",
              "       [1, 0, 0, ..., 0, 0, 0],\n",
              "       [1, 0, 0, ..., 0, 0, 0],\n",
              "       ...,\n",
              "       [0, 0, 0, ..., 0, 0, 0],\n",
              "       [0, 0, 0, ..., 0, 0, 0],\n",
              "       [0, 0, 0, ..., 0, 0, 0]])"
            ]
          },
          "metadata": {}
        }
      ]
    },
    {
      "cell_type": "code",
      "source": [
        "from sklearn.model_selection import train_test_split\n",
        "\n",
        "X_training, X_test, y_training, y_test = train_test_split(X, y, random_state=42, train_size = .80)\n",
        "\n",
        "X_train, X_val, y_train, y_val = train_test_split(X_training, y_training, random_state=42, train_size = .80)\n",
        "\n",
        "\n",
        "print('tamaño del conjunto de entrenamiento: ', X_train.shape)\n",
        "print('tamaño del conjunto de validación: ', X_val.shape)\n",
        "print('tamaño del conjunto de test: ', X_test.shape)"
      ],
      "metadata": {
        "colab": {
          "base_uri": "https://localhost:8080/"
        },
        "id": "eGICYxcH0o97",
        "outputId": "bf3f4bfb-3382-46e5-d099-cee2e5eb37f1"
      },
      "execution_count": null,
      "outputs": [
        {
          "output_type": "stream",
          "name": "stdout",
          "text": [
            "tamaño del conjunto de entrenamiento:  (12800, 31955)\n",
            "tamaño del conjunto de validación:  (3200, 31955)\n",
            "tamaño del conjunto de test:  (4000, 31955)\n"
          ]
        }
      ]
    },
    {
      "cell_type": "code",
      "source": [
        "print(y_test)"
      ],
      "metadata": {
        "colab": {
          "base_uri": "https://localhost:8080/"
        },
        "id": "RkKSBTrkw6YA",
        "outputId": "02dec84d-5e4a-4af2-bbe5-1b763884c84b"
      },
      "execution_count": null,
      "outputs": [
        {
          "output_type": "stream",
          "name": "stdout",
          "text": [
            "[[0 0 0 ... 0 0 0]\n",
            " [1 0 0 ... 0 1 0]\n",
            " [1 0 0 ... 0 0 0]\n",
            " ...\n",
            " [0 0 0 ... 0 0 0]\n",
            " [1 0 0 ... 0 0 0]\n",
            " [0 0 0 ... 0 0 0]]\n"
          ]
        }
      ]
    },
    {
      "cell_type": "code",
      "source": [
        "from keras.layers import Dense, Dropout\n",
        "from keras.models import Sequential\n",
        "def create_mlp():\n",
        "    mlp = Sequential()\n",
        "    mlp.add(Dense(256, activation='relu'))\n",
        "    mlp.add(Dense(len(mlb.classes_), activation='sigmoid'))\n",
        "\n",
        "    return mlp\n",
        "\n",
        "\n",
        "mlp = create_mlp()"
      ],
      "metadata": {
        "id": "I_G0ZjEN06OA"
      },
      "execution_count": null,
      "outputs": []
    },
    {
      "cell_type": "code",
      "source": [
        "!pip install tensorflow-addons==0.16.1\n",
        "import tensorflow_addons as tfa"
      ],
      "metadata": {
        "colab": {
          "base_uri": "https://localhost:8080/"
        },
        "id": "6cj91IuF1-q9",
        "outputId": "c6cbc79f-dc6e-41c3-934b-936277a373bb"
      },
      "execution_count": null,
      "outputs": [
        {
          "output_type": "stream",
          "name": "stdout",
          "text": [
            "Requirement already satisfied: tensorflow-addons==0.16.1 in /usr/local/lib/python3.10/dist-packages (0.16.1)\n",
            "Requirement already satisfied: typeguard>=2.7 in /usr/local/lib/python3.10/dist-packages (from tensorflow-addons==0.16.1) (4.2.1)\n",
            "Requirement already satisfied: typing-extensions>=4.10.0 in /usr/local/lib/python3.10/dist-packages (from typeguard>=2.7->tensorflow-addons==0.16.1) (4.11.0)\n"
          ]
        },
        {
          "output_type": "stream",
          "name": "stderr",
          "text": [
            "/usr/local/lib/python3.10/dist-packages/tensorflow_addons/utils/ensure_tf_install.py:53: UserWarning: Tensorflow Addons supports using Python ops for all Tensorflow versions above or equal to 2.6.0 and strictly below 2.9.0 (nightly versions are not supported). \n",
            " The versions of TensorFlow you are currently using is 2.15.0 and is not supported. \n",
            "Some things might work, some things might not.\n",
            "If you were to encounter a bug, do not file an issue.\n",
            "If you want to make sure you're using a tested and supported configuration, either change the TensorFlow version or the TensorFlow Addons's version. \n",
            "You can find the compatibility matrix in TensorFlow Addon's readme:\n",
            "https://github.com/tensorflow/addons\n",
            "  warnings.warn(\n"
          ]
        }
      ]
    },
    {
      "cell_type": "code",
      "source": [
        "import keras\n",
        "import tensorflow as tf\n",
        "import tensorflow_addons as tfa\n",
        "\n",
        "# Here, I'll the define hyperparameters, loss function and optimizer of the Baseline MLP.\n",
        "L_RATE = 1e-3\n",
        "LOSS_FUNC = keras.losses.BinaryCrossentropy(from_logits=False)\n",
        "OPTIMIZER = keras.optimizers.Adam(learning_rate=L_RATE)\n",
        "EPOCHS = 15\n",
        "BATCH_SIZE = 32\n",
        "\n",
        "METRICS = [\n",
        "    keras.metrics.Precision(name=\"Precision\"),\n",
        "    tfa.metrics.F1Score(\n",
        "        name=\"F1-Score\",\n",
        "        num_classes=len(mlb.classes_),\n",
        "        # Since the dataset is imbalanced, I'll use micro averaging.\n",
        "        average=\"micro\"\n",
        "\n",
        "    )\n",
        "]"
      ],
      "metadata": {
        "id": "Va75rjb11V87"
      },
      "execution_count": null,
      "outputs": []
    },
    {
      "cell_type": "code",
      "source": [
        "def make_prediction(\n",
        "    model: Sequential, X: np.ndarray, threshold: float = 0.5\n",
        ") -> np.ndarray:\n",
        "    \"\"\"Making a prediction with the Baseline MLP model.\n",
        "\n",
        "    Args:\n",
        "        model (Sequential): The model object.\n",
        "        X (numpy.ndarray): The feature matrix.\n",
        "        threshold (float): Rounding threshold.\n",
        "    \"\"\"\n",
        "    y_pred = model.predict(X)\n",
        "    return (y_pred > threshold).astype(int)\n",
        "\n",
        "\n",
        "mlp.compile(\n",
        "    loss=LOSS_FUNC,\n",
        "    optimizer=OPTIMIZER,\n",
        "    # I'll calculate Precision and F1-Score below, on the validation set.\n",
        "    # This metric is just for good measure.\n",
        "    metrics=METRICS,\n",
        ")\n",
        "X_train.sort_indices()\n",
        "X_val.sort_indices()\n",
        "\n",
        "mlp.fit(\n",
        "    X_train,\n",
        "    y_train,\n",
        "    validation_data=(X_val, y_val),\n",
        "    epochs=EPOCHS,\n",
        "    batch_size=BATCH_SIZE\n",
        ")\n",
        "\n",
        "\n",
        "\n",
        "\n"
      ],
      "metadata": {
        "colab": {
          "base_uri": "https://localhost:8080/"
        },
        "id": "mus5z5sS2NUj",
        "outputId": "375aaec1-5451-4a4a-a364-449abfb53989"
      },
      "execution_count": null,
      "outputs": [
        {
          "output_type": "stream",
          "name": "stdout",
          "text": [
            "Epoch 1/15\n",
            "400/400 [==============================] - 46s 103ms/step - loss: 0.1436 - Precision: 0.6657 - F1-Score: 0.5587 - val_loss: 0.0863 - val_Precision: 0.7551 - val_F1-Score: 0.6666\n",
            "Epoch 2/15\n",
            "400/400 [==============================] - 7s 17ms/step - loss: 0.0706 - Precision: 0.8164 - F1-Score: 0.7304 - val_loss: 0.0716 - val_Precision: 0.7959 - val_F1-Score: 0.7229\n",
            "Epoch 3/15\n",
            "400/400 [==============================] - 4s 11ms/step - loss: 0.0543 - Precision: 0.8667 - F1-Score: 0.7946 - val_loss: 0.0658 - val_Precision: 0.7957 - val_F1-Score: 0.7361\n",
            "Epoch 4/15\n",
            "400/400 [==============================] - 5s 12ms/step - loss: 0.0420 - Precision: 0.9036 - F1-Score: 0.8420 - val_loss: 0.0637 - val_Precision: 0.7976 - val_F1-Score: 0.7331\n",
            "Epoch 5/15\n",
            "400/400 [==============================] - 3s 8ms/step - loss: 0.0319 - Precision: 0.9330 - F1-Score: 0.8853 - val_loss: 0.0644 - val_Precision: 0.7860 - val_F1-Score: 0.7368\n",
            "Epoch 6/15\n",
            "400/400 [==============================] - 4s 10ms/step - loss: 0.0237 - Precision: 0.9553 - F1-Score: 0.9217 - val_loss: 0.0664 - val_Precision: 0.7861 - val_F1-Score: 0.7293\n",
            "Epoch 7/15\n",
            "400/400 [==============================] - 4s 9ms/step - loss: 0.0173 - Precision: 0.9706 - F1-Score: 0.9484 - val_loss: 0.0699 - val_Precision: 0.7815 - val_F1-Score: 0.7263\n",
            "Epoch 8/15\n",
            "400/400 [==============================] - 3s 8ms/step - loss: 0.0125 - Precision: 0.9819 - F1-Score: 0.9689 - val_loss: 0.0743 - val_Precision: 0.7752 - val_F1-Score: 0.7269\n",
            "Epoch 9/15\n",
            "400/400 [==============================] - 3s 7ms/step - loss: 0.0089 - Precision: 0.9888 - F1-Score: 0.9817 - val_loss: 0.0782 - val_Precision: 0.7749 - val_F1-Score: 0.7218\n",
            "Epoch 10/15\n",
            "400/400 [==============================] - 3s 8ms/step - loss: 0.0063 - Precision: 0.9938 - F1-Score: 0.9906 - val_loss: 0.0833 - val_Precision: 0.7754 - val_F1-Score: 0.7196\n",
            "Epoch 11/15\n",
            "400/400 [==============================] - 4s 9ms/step - loss: 0.0045 - Precision: 0.9968 - F1-Score: 0.9950 - val_loss: 0.0887 - val_Precision: 0.7728 - val_F1-Score: 0.7168\n",
            "Epoch 12/15\n",
            "400/400 [==============================] - 3s 7ms/step - loss: 0.0032 - Precision: 0.9986 - F1-Score: 0.9977 - val_loss: 0.0937 - val_Precision: 0.7722 - val_F1-Score: 0.7114\n",
            "Epoch 13/15\n",
            "400/400 [==============================] - 3s 7ms/step - loss: 0.0023 - Precision: 0.9992 - F1-Score: 0.9990 - val_loss: 0.0991 - val_Precision: 0.7678 - val_F1-Score: 0.7167\n",
            "Epoch 14/15\n",
            "400/400 [==============================] - 3s 8ms/step - loss: 0.0017 - Precision: 0.9996 - F1-Score: 0.9995 - val_loss: 0.1039 - val_Precision: 0.7711 - val_F1-Score: 0.7117\n",
            "Epoch 15/15\n",
            "400/400 [==============================] - 4s 9ms/step - loss: 0.0013 - Precision: 0.9998 - F1-Score: 0.9996 - val_loss: 0.1080 - val_Precision: 0.7659 - val_F1-Score: 0.7137\n"
          ]
        },
        {
          "output_type": "execute_result",
          "data": {
            "text/plain": [
              "<keras.src.callbacks.History at 0x7a88fa27bf40>"
            ]
          },
          "metadata": {},
          "execution_count": 22
        }
      ]
    },
    {
      "cell_type": "code",
      "source": [
        "X_test.sort_indices()\n",
        "\n",
        "y_pred = make_prediction(model=mlp, X=X_test)\n",
        "#print(vectorizer.inverse_transform(X_test))\n",
        "print(mlb.inverse_transform(y_pred))"
      ],
      "metadata": {
        "colab": {
          "base_uri": "https://localhost:8080/"
        },
        "id": "SobjiFAb2_UH",
        "outputId": "870bb82b-8618-4dda-973d-bb1a10d8d276"
      },
      "execution_count": null,
      "outputs": [
        {
          "output_type": "stream",
          "name": "stdout",
          "text": [
            "125/125 [==============================] - 0s 2ms/step\n",
            "[('cs.CV', 'cs.LG'), ('cs.AI',), ('cs.AI', 'cs.CV', 'cs.RO'), ('cs.AI', 'cs.LG'), ('cs.LG',), ('cs.AI', 'cs.CV'), (), ('cs.LG',), ('cs.IT', 'cs.LG'), ('cs.AI', 'cs.LG'), ('cs.LG', 'cs.SD'), ('cs.LG',), ('cs.IT',), ('cs.IT',), ('cs.IT', 'cs.LG'), ('cs.LG',), ('cs.IT',), ('cs.CR', 'cs.IT'), ('cs.AI', 'cs.LG'), ('cs.CR', 'cs.LG'), ('cs.LG',), ('cs.AI', 'cs.LG'), ('cs.AI', 'cs.IT'), ('cs.IT',), ('cs.AI',), ('cs.IT',), ('cs.IT',), ('cs.AI',), ('cs.IT',), ('cs.AI', 'cs.CL', 'cs.LG'), ('cs.AI', 'cs.LG'), ('cs.IT', 'cs.LG'), ('cs.IT',), ('cs.IT', 'cs.LG'), ('cs.LG',), ('cs.AI', 'cs.LG'), ('cs.AI', 'cs.LG'), ('cs.AI',), ('cs.IT',), ('cs.IT',), ('cs.IT',), ('cs.LG',), ('cs.AI', 'cs.SD'), ('cs.AI', 'cs.IR', 'cs.LG'), ('cs.IT',), ('cs.IT',), ('cs.AI', 'cs.CL', 'cs.LG'), ('cs.LG',), ('cs.IT',), ('cs.AI', 'cs.LG'), ('cs.IT',), ('cs.CR', 'cs.IT'), ('cs.AI', 'cs.RO'), ('cs.AI', 'cs.CV', 'cs.LG'), ('cs.AI',), ('cs.CR', 'cs.IT'), ('cs.AI', 'cs.LG'), ('cs.LG',), ('cs.IT',), ('cs.CR', 'cs.IT'), ('cs.AI', 'cs.RO'), ('cs.AI', 'cs.CV', 'cs.LG'), ('cs.CR', 'cs.IT'), ('cs.IT', 'cs.LG'), ('cs.LG',), ('cs.IT',), ('cs.AI', 'cs.LG'), ('cs.AI',), ('cs.CV',), ('cs.DC', 'cs.IT', 'cs.LG'), ('cs.AI', 'cs.LG'), ('cs.AI', 'cs.CL'), ('cs.CR', 'cs.LG'), ('cs.AI', 'cs.LG'), ('cs.IT',), ('cs.IT',), ('cs.IT',), ('cs.AI', 'cs.CR', 'cs.LG'), ('cs.CL', 'cs.IT', 'cs.LG'), ('cs.LG',), ('cs.AI', 'cs.LG'), ('cs.AI', 'cs.LG'), ('cs.CR', 'cs.LG'), ('cs.IT',), ('cs.CV', 'cs.LG'), ('cs.CV', 'cs.LG'), ('cs.CR', 'cs.LG'), ('cs.AI', 'cs.CL'), ('cs.AI', 'cs.LG'), ('cs.IT', 'cs.LG'), ('cs.AI', 'cs.CV', 'cs.LG'), ('cs.IT',), ('cs.LG',), ('cs.LG',), ('cs.AI', 'cs.CV', 'cs.CY'), ('cs.CR', 'cs.CY', 'cs.LG'), ('cs.IT',), ('cs.LG',), ('cs.IT',), ('cs.AI', 'cs.CV', 'cs.LG'), ('cs.IT',), ('cs.CV', 'cs.LG'), ('cs.CV', 'cs.LG', 'cs.RO'), ('cs.AI', 'cs.LG'), ('cs.CV',), ('cs.AI', 'cs.CV', 'cs.RO'), ('cs.AI', 'cs.CL', 'cs.CR', 'cs.LG'), ('cs.IT',), ('cs.LG', 'cs.SD'), ('cs.AI', 'cs.LO'), ('cs.AI', 'cs.CV'), ('cs.LG',), ('cs.AI',), ('cs.IT',), ('cs.SD',), ('cs.AI',), ('cs.AI', 'cs.LG'), ('cs.CV', 'cs.LG'), (), ('cs.LG',), ('cs.AI', 'cs.CV', 'cs.LG'), ('cs.AI', 'cs.CL'), ('cs.AI', 'cs.LG'), ('cs.AI', 'cs.LG'), ('cs.AI', 'cs.LG'), ('cs.CV', 'cs.LG'), ('cs.AI',), ('cs.CV', 'cs.LG'), ('cs.AI', 'cs.CV', 'cs.LG'), ('cs.IT', 'cs.LG'), ('cs.LG',), ('cs.AI',), ('cs.AI', 'cs.CV', 'cs.LG'), ('cs.AI', 'cs.CL', 'cs.LG'), ('cs.LG',), ('cs.LG',), ('cs.AI',), (), ('cs.IT',), ('cs.IT',), ('cs.LG',), ('cs.IT',), ('cs.LG', 'cs.RO'), ('cs.AI', 'cs.CL'), ('cs.AI', 'cs.CL'), ('cs.IT',), ('cs.IT',), ('cs.IT',), ('cs.LG',), ('cs.AI', 'cs.CV'), ('cs.AI', 'cs.CL'), ('cs.CL', 'cs.LG'), ('cs.AI', 'cs.LG'), ('cs.IT',), ('cs.LG',), ('cs.AI', 'cs.CV'), ('cs.CV', 'cs.LG'), ('cs.LG',), ('cs.AI', 'cs.CY'), ('cs.AI', 'cs.CV', 'cs.RO'), ('cs.AI', 'cs.LG'), ('cs.AI', 'cs.CL'), ('cs.IT',), ('cs.IR', 'cs.LG'), ('cs.AI', 'cs.MA', 'cs.RO'), ('cs.CV', 'cs.LG'), ('cs.AI', 'cs.CR', 'cs.SD'), ('cs.LG',), ('cs.AI', 'cs.CV', 'cs.LG'), ('cs.LG',), ('cs.AI',), ('cs.IT',), ('cs.LG',), ('cs.AI', 'cs.CL', 'cs.LG'), ('cs.AI', 'cs.CL'), ('cs.AI', 'cs.DB', 'cs.LG'), ('cs.IT',), ('cs.IT',), ('cs.CV', 'cs.LG'), ('cs.SE',), ('cs.IT',), ('cs.AI', 'cs.CY', 'cs.LG'), ('cs.IT',), ('cs.LG',), ('cs.IT',), ('cs.AI', 'cs.LG'), ('cs.AI', 'cs.CL', 'cs.LG'), ('cs.LG',), ('cs.LG',), ('cs.LG',), ('cs.LG',), ('cs.LG',), ('cs.AI',), (), ('cs.CV',), ('cs.AI', 'cs.LG'), ('cs.AI', 'cs.LG'), ('cs.AI', 'cs.CL', 'cs.CV'), ('cs.AI', 'cs.IR'), ('cs.AI', 'cs.CV'), ('cs.IT',), ('cs.LG',), ('cs.AI', 'cs.LG'), ('cs.AI', 'cs.CL'), ('cs.IT',), ('cs.AI', 'cs.CV'), ('cs.LG',), (), ('cs.AI', 'cs.LG'), ('cs.AI', 'cs.CV', 'cs.RO'), ('cs.CL', 'cs.CV', 'cs.LG'), ('cs.IT',), ('cs.AI', 'cs.LG', 'cs.NE'), ('cs.AI',), ('cs.AI', 'cs.CL'), ('cs.AI', 'cs.GT', 'cs.LG', 'cs.MA'), ('cs.AI', 'cs.CV'), ('cs.AI', 'cs.CV', 'cs.LG'), ('cs.LG',), ('cs.IT',), ('cs.AI', 'cs.LG'), ('cs.AI', 'cs.LG'), ('cs.IT',), ('cs.AI',), ('cs.LG',), ('cs.LG',), ('cs.AI', 'cs.CL', 'cs.LG'), ('cs.IT',), ('cs.AI', 'cs.LG'), ('cs.AI',), ('cs.IT',), ('cs.AI', 'cs.CV', 'cs.LG'), ('cs.AI', 'cs.CL'), ('cs.AI', 'cs.CV', 'cs.LG'), ('cs.AI', 'cs.CV', 'cs.LG'), ('cs.AI', 'cs.CV'), ('cs.CL', 'cs.LG'), ('cs.AI', 'cs.CV', 'cs.LG'), ('cs.AI', 'cs.RO'), ('cs.AI', 'cs.LG'), ('cs.LG',), ('cs.CL', 'cs.LG'), ('cs.AI', 'cs.LG'), ('cs.LG',), ('cs.AI', 'cs.CL'), ('cs.IT',), ('cs.IT',), ('cs.LG',), ('cs.AI', 'cs.CV'), ('cs.IT',), ('cs.IT',), ('cs.AI', 'cs.LG'), ('cs.AI', 'cs.LG'), ('cs.IT',), ('cs.AR', 'cs.IT'), ('cs.IT',), ('cs.LG',), ('cs.IT',), ('cs.IT', 'cs.LG'), ('cs.AI', 'cs.SE'), ('cs.AI', 'cs.CV', 'cs.LG', 'cs.RO'), ('cs.AI', 'cs.LG'), ('cs.AI', 'cs.CV', 'cs.GR', 'cs.LG'), ('cs.LG',), ('cs.IT',), ('cs.AI',), ('cs.AI', 'cs.CL', 'cs.LG'), ('cs.IT', 'cs.LG'), ('cs.AI', 'cs.LG'), ('cs.AI', 'cs.DC', 'cs.LG'), ('cs.AI', 'cs.IR', 'cs.LG'), ('cs.IT',), ('cs.AI', 'cs.CV'), ('cs.AI', 'cs.CV', 'cs.LG'), ('cs.LG',), ('cs.AI', 'cs.RO'), ('cs.IT',), ('cs.LG',), ('cs.IT',), ('cs.IT',), ('cs.AI', 'cs.CV'), ('cs.LG',), ('cs.AI', 'cs.DB'), ('cs.CR', 'cs.LG'), ('cs.LG',), ('cs.LG',), ('cs.AI', 'cs.LG'), ('cs.AI', 'cs.LG'), ('cs.AI', 'cs.LG'), ('cs.AI', 'cs.SE'), ('cs.AI', 'cs.CL', 'cs.CR'), ('cs.AI', 'cs.CV', 'cs.LG'), ('cs.IT',), ('cs.IT',), ('cs.CR', 'cs.IT'), ('cs.AI', 'cs.CV'), ('cs.IT',), ('cs.AI',), ('cs.AI', 'cs.CV', 'cs.LG'), ('cs.AI', 'cs.LG'), ('cs.IT', 'cs.LG', 'cs.SY'), ('cs.AI', 'cs.CV', 'cs.LG'), ('cs.DC', 'cs.IT', 'cs.LG'), ('cs.AI', 'cs.LG', 'cs.RO'), ('cs.IT',), ('cs.LG',), ('cs.AI', 'cs.IT', 'cs.NI'), ('cs.AI', 'cs.CL', 'cs.LG'), ('cs.IT', 'cs.LG'), ('cs.IT',), ('cs.AI', 'cs.LG'), ('cs.AI', 'cs.CL'), ('cs.IT', 'cs.LG'), ('cs.AI', 'cs.AR', 'cs.LG'), ('cs.AI', 'cs.LG'), ('cs.AI', 'cs.CV', 'cs.LG'), ('cs.IT',), ('cs.LG',), ('cs.AI',), ('cs.IT',), ('cs.AI', 'cs.CL', 'cs.LG'), ('cs.AI', 'cs.CL', 'cs.CV'), ('cs.AI', 'cs.CL'), ('cs.CR',), ('cs.AI', 'cs.LG'), ('cs.AI', 'cs.LG'), (), ('cs.IT',), ('cs.AI', 'cs.CV'), ('cs.AI', 'cs.LG'), ('cs.CV', 'cs.LG'), ('cs.LG',), ('cs.AI', 'cs.LG'), ('cs.AI', 'cs.LG'), ('cs.IT',), ('cs.LG',), ('cs.IT', 'cs.NI'), ('cs.AI', 'cs.IT', 'cs.MA'), ('cs.IT', 'cs.RO'), ('cs.AI', 'cs.CV', 'cs.LG'), (), ('cs.AI', 'cs.LG'), ('cs.CL',), ('cs.CV', 'cs.LG'), ('cs.IT',), ('cs.AI', 'cs.CV'), ('cs.LG',), ('cs.IT',), ('cs.AI', 'cs.LG'), ('cs.AI', 'cs.LG'), ('cs.AI',), ('cs.LG',), ('cs.AI', 'cs.CV', 'cs.RO'), ('cs.IT',), ('cs.AI',), ('cs.IT',), ('cs.DC', 'cs.IT'), ('cs.LG', 'cs.SD'), ('cs.AI', 'cs.LG'), ('cs.AI', 'cs.LG', 'cs.RO'), ('cs.IT',), ('cs.AI', 'cs.PL'), ('cs.CR', 'cs.CV', 'cs.LG'), ('cs.AI',), ('cs.AI',), ('cs.AI',), ('cs.AI', 'cs.SD'), ('cs.IT',), ('cs.IT',), ('cs.LG',), ('cs.AI', 'cs.LG'), ('cs.AI',), ('cs.LG',), ('cs.AI', 'cs.CV', 'cs.LG'), ('cs.AI', 'cs.CL'), ('cs.IT',), ('cs.AI', 'cs.CV', 'cs.LG'), ('cs.IT', 'cs.NI'), ('cs.LG',), ('cs.IT',), ('cs.IT',), ('cs.IT',), ('cs.DC', 'cs.LG'), ('cs.AI',), ('cs.LG',), ('cs.AI', 'cs.LG'), ('cs.IT', 'cs.LG', 'cs.NI'), ('cs.AI', 'cs.CL', 'cs.LG'), ('cs.AI', 'cs.LG'), ('cs.AI', 'cs.LG'), ('cs.AI', 'cs.CV'), ('cs.AI', 'cs.CV', 'cs.LG'), ('cs.AI', 'cs.CL'), ('cs.LG',), ('cs.IT',), ('cs.IT',), ('cs.LG',), ('cs.CR', 'cs.IT', 'cs.LG'), ('cs.AI', 'cs.CV', 'cs.LG'), ('cs.AI', 'cs.LG'), ('cs.AI', 'cs.CV'), ('cs.IT',), ('cs.IT',), ('cs.AI', 'cs.LG'), ('cs.AI', 'cs.LG'), ('cs.CV', 'cs.LG', 'cs.RO'), ('cs.IT',), ('cs.AI', 'cs.CL'), ('cs.AI', 'cs.LG'), ('cs.LG',), ('cs.AI',), ('cs.IT', 'cs.LG'), ('cs.LG',), ('cs.AI', 'cs.HC', 'cs.RO'), ('cs.AI',), ('cs.CR', 'cs.LG'), ('cs.AI',), ('cs.AI',), ('cs.AI', 'cs.CV'), ('cs.LG',), ('cs.IT', 'cs.LG'), ('cs.AI', 'cs.LG', 'cs.NI'), ('cs.AI', 'cs.LG'), ('cs.CV', 'cs.LG'), ('cs.LG',), ('cs.AI', 'cs.CL', 'cs.LG'), ('cs.AI', 'cs.LG'), ('cs.AI',), ('cs.AI', 'cs.IT'), ('cs.AI', 'cs.CV', 'cs.LG'), ('cs.LG',), ('cs.AI', 'cs.CL', 'cs.LG'), ('cs.CL',), ('cs.AI',), ('cs.AI', 'cs.CR', 'cs.LG'), ('cs.IT',), ('cs.AI', 'cs.CV', 'cs.LG', 'cs.RO'), ('cs.LG',), ('cs.IT',), ('cs.AI', 'cs.CV', 'cs.LG', 'cs.RO'), ('cs.IT',), ('cs.LG',), ('cs.LG',), ('cs.LG', 'cs.RO'), ('cs.AI', 'cs.LG'), ('cs.IT', 'cs.LG'), ('cs.AI', 'cs.CV', 'cs.LG'), ('cs.IT',), ('cs.AI', 'cs.LO'), ('cs.IT',), ('cs.LG',), ('cs.IT',), ('cs.AI', 'cs.LG'), ('cs.AI', 'cs.CV', 'cs.RO'), ('cs.AI', 'cs.CV'), ('cs.AI', 'cs.LG'), ('cs.AI',), ('cs.AI', 'cs.CV', 'cs.GR', 'cs.HC', 'cs.LG'), ('cs.IT',), ('cs.LG',), ('cs.LG',), ('cs.LG',), ('cs.LG',), ('cs.IT',), ('cs.IT', 'cs.LG'), ('cs.IT',), ('cs.AI',), ('cs.IT',), ('cs.LG',), ('cs.LG',), ('cs.AI', 'cs.LG'), ('cs.AI', 'cs.CV', 'cs.LG'), ('cs.AI', 'cs.CV'), ('cs.LG',), ('cs.AI', 'cs.RO'), ('cs.AI', 'cs.LG'), ('cs.AI', 'cs.LG'), ('cs.IT',), ('cs.IT',), ('cs.CV', 'cs.LG'), ('cs.LG',), ('cs.AI', 'cs.CV'), ('cs.IT', 'cs.LG'), ('cs.AI', 'cs.CL'), ('cs.AI', 'cs.LG'), ('cs.LG',), ('cs.LG',), ('cs.LG',), ('cs.AI', 'cs.LG'), ('cs.AI', 'cs.CV', 'cs.LG'), ('cs.IT',), ('cs.AI', 'cs.CL', 'cs.IR'), ('cs.AI', 'cs.LG', 'cs.RO'), ('cs.AI', 'cs.CL', 'cs.LG'), ('cs.AI', 'cs.CL', 'cs.LG'), ('cs.IT',), ('cs.LG',), ('cs.AI',), ('cs.IT',), ('cs.LG',), ('cs.AI', 'cs.CL'), ('cs.AI', 'cs.CV', 'cs.LG'), ('cs.LG',), ('cs.AI', 'cs.CV'), ('cs.AI', 'cs.LG', 'cs.NE'), ('cs.AI', 'cs.CV', 'cs.LG'), ('cs.AI', 'cs.CL'), ('cs.CR', 'cs.LG'), ('cs.AI', 'cs.CV', 'cs.LG'), ('cs.CL', 'cs.CY', 'cs.LG'), ('cs.LG',), ('cs.AI', 'cs.CV', 'cs.RO'), ('cs.AI', 'cs.CV', 'cs.LG'), ('cs.AI', 'cs.CV'), ('cs.IT',), ('cs.AI', 'cs.IR'), ('cs.LG',), ('cs.AI',), ('cs.CV', 'cs.LG'), ('cs.CV', 'cs.LG'), ('cs.AI', 'cs.CR', 'cs.LG'), ('cs.IT',), ('cs.AI',), ('cs.AI',), ('cs.IT',), ('cs.IT',), ('cs.RO',), ('cs.AI', 'cs.CV', 'cs.LG'), ('cs.AI', 'cs.CV', 'cs.GR'), ('cs.LG',), ('cs.LG',), ('cs.AI', 'cs.CL', 'cs.CR'), ('cs.HC', 'cs.LG'), ('cs.AI', 'cs.LG'), ('cs.AI', 'cs.CL'), ('cs.AI', 'cs.LG', 'cs.SD'), ('cs.DC', 'cs.IT'), ('cs.AI', 'cs.CR'), ('cs.LG',), ('cs.IT',), ('cs.CL',), ('cs.AI', 'cs.CL', 'cs.LG'), ('cs.AI', 'cs.LG'), ('cs.AI', 'cs.CV', 'cs.LG'), ('cs.AI',), ('cs.AI', 'cs.LG', 'cs.MA'), ('cs.LG',), ('cs.IT',), ('cs.IT',), ('cs.IT', 'cs.NI'), ('cs.LG',), ('cs.AI', 'cs.LG', 'cs.RO'), ('cs.LG',), ('cs.IT', 'cs.LG'), ('cs.AI', 'cs.LG'), ('cs.IT', 'cs.LG'), ('cs.IT',), ('cs.CV', 'cs.LG'), ('cs.IT',), ('cs.AI', 'cs.CV', 'cs.LG', 'cs.MM'), ('cs.AI', 'cs.LG'), ('cs.AI', 'cs.GT'), ('cs.IT', 'cs.LG'), ('cs.AI', 'cs.LG'), ('cs.LG',), ('cs.AI', 'cs.CL'), ('cs.AI',), ('cs.AI', 'cs.LG'), ('cs.AI',), ('cs.AI', 'cs.CL', 'cs.LG'), ('cs.LG',), ('cs.LG',), ('cs.AI', 'cs.CV', 'cs.LG'), ('cs.AI', 'cs.MA', 'cs.RO'), ('cs.AI', 'cs.CL'), ('cs.AI',), ('cs.AI', 'cs.LG'), ('cs.IT',), ('cs.IT',), ('cs.IT',), ('cs.IT',), ('cs.AI', 'cs.IT', 'cs.LG'), ('cs.AI', 'cs.SY'), ('cs.AI', 'cs.LG', 'cs.RO'), ('cs.IT',), ('cs.AI', 'cs.LG'), ('cs.AI',), ('cs.AI', 'cs.CL', 'cs.LG'), ('cs.AI',), ('cs.AI', 'cs.LG'), ('cs.CV', 'cs.LG'), ('cs.IT',), ('cs.IT',), ('cs.LG',), ('cs.AI', 'cs.CL', 'cs.LG'), ('cs.LG',), ('cs.IT', 'cs.LG'), ('cs.AI',), ('cs.AI', 'cs.LG'), ('cs.AI', 'cs.CY'), ('cs.IT',), ('cs.IT', 'cs.LG'), ('cs.AI', 'cs.LG'), ('cs.CV', 'cs.LG'), ('cs.AI', 'cs.CL', 'cs.LG'), ('cs.IT',), ('cs.LG',), ('cs.CR', 'cs.LG'), ('cs.AI', 'cs.CL'), ('cs.AI', 'cs.RO'), ('cs.AI', 'cs.LG'), ('cs.AI', 'cs.LG'), ('cs.AI', 'cs.LG'), ('cs.AI', 'cs.CR', 'cs.LG'), ('cs.CV',), ('cs.LG',), ('cs.IT',), ('cs.AI', 'cs.CL'), ('cs.AI', 'cs.LG'), ('cs.LG',), ('cs.IT', 'cs.LG'), ('cs.AI', 'cs.CV', 'cs.LG'), ('cs.AI', 'cs.LG'), ('cs.IT',), ('cs.AI', 'cs.CV', 'cs.LG'), ('cs.IT',), ('cs.AI', 'cs.LG'), ('cs.LG',), ('cs.IT', 'cs.LG'), ('cs.AI', 'cs.LG'), ('cs.AI', 'cs.CL'), ('cs.AI', 'cs.CV', 'cs.LG'), ('cs.AI', 'cs.LG'), ('cs.AI', 'cs.LG'), ('cs.AI', 'cs.RO'), ('cs.IT',), ('cs.LG',), ('cs.AI', 'cs.LG'), ('cs.AI', 'cs.CV', 'cs.LG'), ('cs.IT',), ('cs.AI', 'cs.CL', 'cs.LG'), ('cs.AI', 'cs.LG'), ('cs.LG',), ('cs.LG',), ('cs.LG',), ('cs.AI', 'cs.LO'), ('cs.AI', 'cs.HC'), ('cs.AI',), ('cs.AI', 'cs.LG'), ('cs.IT',), ('cs.AI', 'cs.CV', 'cs.LG'), ('cs.AI', 'cs.LG'), ('cs.LG',), ('cs.IT',), ('cs.LG',), ('cs.IT', 'cs.LG'), ('cs.AI', 'cs.CL', 'cs.LG'), ('cs.AI', 'cs.LG', 'cs.RO'), ('cs.LG', 'cs.NE'), ('cs.CV', 'cs.LG'), ('cs.CV', 'cs.LG'), ('cs.AI', 'cs.CV'), ('cs.AI', 'cs.LG'), (), ('cs.LG',), ('cs.IT', 'cs.LG'), ('cs.IT',), ('cs.AI', 'cs.LG'), ('cs.AI', 'cs.CL'), ('cs.AI', 'cs.CL', 'cs.LG'), ('cs.IT',), ('cs.AI', 'cs.CV', 'cs.LG'), ('cs.IT',), ('cs.CV', 'cs.LG'), ('cs.IT',), ('cs.AI', 'cs.LG'), ('cs.LG',), ('cs.AI', 'cs.LG'), ('cs.AI', 'cs.CV', 'cs.LG'), ('cs.AI', 'cs.CL', 'cs.LG'), ('cs.AI',), ('cs.AI', 'cs.CV', 'cs.LG'), ('cs.IT',), ('cs.AI', 'cs.LG'), ('cs.AI', 'cs.CL'), ('cs.IT',), ('cs.IT',), ('cs.IT',), ('cs.AI', 'cs.CV'), ('cs.AI',), ('cs.IT',), (), ('cs.LG',), ('cs.LG',), ('cs.IT', 'cs.LG'), ('cs.AI', 'cs.LG', 'cs.RO'), ('cs.CV',), ('cs.AI',), ('cs.LG',), ('cs.LG',), ('cs.IT',), ('cs.LG',), ('cs.IT',), ('cs.AI', 'cs.CL', 'cs.LG'), (), ('cs.LG',), ('cs.LG',), ('cs.CV', 'cs.LG'), ('cs.AI', 'cs.CV'), ('cs.CV', 'cs.LG'), ('cs.AI', 'cs.LG'), ('cs.IT',), ('cs.LG',), ('cs.IT',), ('cs.LG',), ('cs.LG',), ('cs.IT',), (), ('cs.AI', 'cs.LG'), ('cs.IT',), ('cs.CV', 'cs.LG'), ('cs.IT',), ('cs.IT',), ('cs.LG',), ('cs.IT',), ('cs.AI', 'cs.CV'), ('cs.IT', 'cs.LG'), ('cs.IT',), ('cs.AI', 'cs.CL'), ('cs.CR', 'cs.IT'), ('cs.AI', 'cs.LG'), ('cs.AI', 'cs.LG'), ('cs.IT',), ('cs.LG',), ('cs.LG',), ('cs.IT', 'cs.NI'), ('cs.IT',), ('cs.IT',), ('cs.IT',), ('cs.CV', 'cs.CY', 'cs.LG'), ('cs.LG',), ('cs.AI', 'cs.LG'), ('cs.LG',), ('cs.LG',), ('cs.AI', 'cs.LG', 'cs.SE'), ('cs.IT',), ('cs.IT',), ('cs.IT', 'cs.NI'), ('cs.IT', 'cs.LG'), ('cs.CR', 'cs.IT', 'cs.LG'), ('cs.AI', 'cs.CL'), ('cs.AI', 'cs.LG'), ('cs.LG',), ('cs.LG',), ('cs.LG',), ('cs.AI', 'cs.CV'), ('cs.AI', 'cs.IT', 'cs.LG'), ('cs.AI', 'cs.LG'), ('cs.AI', 'cs.HC'), ('cs.IT',), ('cs.AI', 'cs.CL', 'cs.LG'), ('cs.CY',), ('cs.AI',), ('cs.IT',), ('cs.IT',), ('cs.AI', 'cs.CL', 'cs.LG'), ('cs.AI', 'cs.LG'), ('cs.AI', 'cs.LG'), ('cs.IT',), ('cs.LG',), ('cs.CL', 'cs.LG'), ('cs.IT', 'cs.LG'), ('cs.LG', 'cs.SD'), ('cs.AI', 'cs.CL', 'cs.LG'), ('cs.AI', 'cs.LG'), ('cs.IT',), ('cs.IT',), (), ('cs.ET', 'cs.IT'), ('cs.AI', 'cs.PL', 'cs.SE'), ('cs.LG',), ('cs.LG',), ('cs.AI',), ('cs.IT', 'cs.LG'), ('cs.CR', 'cs.CV', 'cs.LG'), ('cs.AI', 'cs.LG'), ('cs.AI',), ('cs.IT',), ('cs.CR', 'cs.IT'), ('cs.AI', 'cs.LG'), ('cs.LG', 'cs.SE'), ('cs.AI', 'cs.RO', 'cs.SY'), ('cs.AI', 'cs.LG'), ('cs.AI', 'cs.LG'), ('cs.IT',), ('cs.IT',), ('cs.AI', 'cs.CV', 'cs.LG'), ('cs.CL', 'cs.LG'), ('cs.AI', 'cs.LG'), ('cs.LG',), ('cs.AI', 'cs.CV', 'cs.LG'), ('cs.CV', 'cs.LG'), ('cs.AI',), ('cs.LG',), ('cs.DC', 'cs.IT', 'cs.LG'), ('cs.AI', 'cs.CL'), ('cs.AI',), ('cs.CV', 'cs.LG'), ('cs.AI', 'cs.LG'), ('cs.AI', 'cs.CR', 'cs.LG'), ('cs.AI', 'cs.CV', 'cs.LG', 'cs.SD'), ('cs.AI', 'cs.LG'), ('cs.AI', 'cs.LG', 'cs.NE'), ('cs.AI', 'cs.CL'), ('cs.AI', 'cs.CV', 'cs.LG'), ('cs.IT',), ('cs.AI',), ('cs.IT',), ('cs.AI',), (), ('cs.CV', 'cs.LG'), ('cs.AI', 'cs.LG'), ('cs.AI', 'cs.LG'), ('cs.CV', 'cs.LG'), ('cs.LG',), ('cs.AI', 'cs.CL', 'cs.LG'), ('cs.LG',), ('cs.LG',), ('cs.AI',), ('cs.LG',), ('cs.AI', 'cs.LG'), ('cs.IT',), ('cs.AI', 'cs.CR', 'cs.CV', 'cs.LG'), ('cs.AI', 'cs.LG'), ('cs.IT',), ('cs.LG',), ('cs.AI', 'cs.CV'), ('cs.LG',), ('cs.IT',), ('cs.LG',), ('cs.AI',), ('cs.IT', 'cs.LG'), ('cs.IT',), ('cs.AI',), ('cs.LG',), ('cs.IT',), ('cs.AI', 'cs.LG'), ('cs.AI', 'cs.CL', 'cs.LG'), ('cs.IT',), ('cs.LG',), ('cs.IT',), ('cs.AI', 'cs.LG'), ('cs.IT',), ('cs.IT',), ('cs.CV', 'cs.LG'), ('cs.IT',), ('cs.AI', 'cs.CV', 'cs.LG'), ('cs.CV', 'cs.NE'), ('cs.AI',), ('cs.LG',), ('cs.AI', 'cs.LG'), ('cs.AI', 'cs.CV'), ('cs.AI', 'cs.CV', 'cs.LG'), ('cs.LG',), ('cs.IT',), ('cs.AI', 'cs.CL', 'cs.LG'), ('cs.AI',), ('cs.IT', 'cs.NI'), ('cs.LG',), ('cs.DC', 'cs.IT', 'cs.LG'), ('cs.IT',), ('cs.AI', 'cs.LG'), ('cs.AI',), ('cs.IT', 'cs.NI'), ('cs.AI', 'cs.LG'), ('cs.AI',), ('cs.AI', 'cs.LG'), ('cs.IT',), ('cs.IT',), ('cs.CR', 'cs.IT'), ('cs.HC', 'cs.LG'), ('cs.IT',), ('cs.IT', 'cs.NI'), ('cs.AI', 'cs.LG'), ('cs.AI', 'cs.LG'), ('cs.LG',), ('cs.AI', 'cs.LG'), ('cs.AI', 'cs.IR', 'cs.LG'), ('cs.IT',), ('cs.HC',), ('cs.AI', 'cs.LG'), ('cs.AI', 'cs.CL'), ('cs.AI', 'cs.CV', 'cs.HC', 'cs.RO'), ('cs.LG',), ('cs.AI', 'cs.LG'), ('cs.DC', 'cs.LG'), ('cs.AI', 'cs.LG', 'cs.RO'), ('cs.AI',), ('cs.IT',), (), ('cs.LG',), ('cs.AI', 'cs.LG'), ('cs.LG',), ('cs.AI',), ('cs.AI', 'cs.LG'), ('cs.IT',), ('cs.IT',), ('cs.AI', 'cs.LG', 'cs.RO'), ('cs.CV', 'cs.LG'), ('cs.LG',), ('cs.AI', 'cs.LG'), ('cs.IT',), ('cs.CV', 'cs.LG'), ('cs.IT',), ('cs.LG', 'cs.NE'), ('cs.IT',), ('cs.AI', 'cs.LG'), ('cs.AI', 'cs.LG'), ('cs.LG',), ('cs.AI', 'cs.LG'), ('cs.AI', 'cs.RO'), ('cs.LG',), ('cs.LG',), ('cs.LG',), ('cs.LG',), ('cs.IT',), ('cs.AI', 'cs.CL', 'cs.SD'), ('cs.CV', 'cs.LG'), ('cs.IT',), ('cs.AI',), ('cs.AI', 'cs.LG'), ('cs.AI', 'cs.LG'), ('cs.LG',), ('cs.AI', 'cs.LG'), ('cs.LG', 'cs.SD'), ('cs.CV', 'cs.LG'), ('cs.LG',), ('cs.AI', 'cs.CV', 'cs.LG'), ('cs.AI', 'cs.CV', 'cs.LG'), ('cs.LG',), ('cs.IT', 'cs.NI'), ('cs.AI', 'cs.LG'), ('cs.AI', 'cs.LG', 'cs.MA'), ('cs.AI', 'cs.LG'), ('cs.AI', 'cs.CL'), ('cs.AI',), ('cs.LG',), ('cs.IT',), ('cs.CV', 'cs.LG'), ('cs.IT',), ('cs.CR', 'cs.IT'), ('cs.AI', 'cs.LG'), ('cs.LG',), ('cs.AI', 'cs.CV', 'cs.LG'), ('cs.AI', 'cs.CV'), ('cs.LG',), ('cs.AI', 'cs.CV'), ('cs.IT',), ('cs.LG',), ('cs.AI', 'cs.CR', 'cs.LG'), ('cs.IT',), ('cs.IT',), ('cs.AI', 'cs.CV', 'cs.RO'), ('cs.LG',), ('cs.LG',), ('cs.AI', 'cs.CV', 'cs.LG'), ('cs.AI', 'cs.LG'), ('cs.AI', 'cs.CV', 'cs.LG', 'cs.NE'), ('cs.AI', 'cs.LG'), ('cs.AI', 'cs.LG'), ('cs.AI', 'cs.CV'), ('cs.CV', 'cs.LG'), ('cs.IT', 'cs.LG'), ('cs.AI',), ('cs.AI',), ('cs.LG',), ('cs.AI', 'cs.LG'), ('cs.IT',), ('cs.AI', 'cs.LG'), ('cs.AI', 'cs.CV', 'cs.LG'), (), ('cs.LG',), ('cs.AI', 'cs.CL', 'cs.CV'), ('cs.AI', 'cs.CV'), ('cs.AI', 'cs.CR', 'cs.NE'), ('cs.IT',), ('cs.AI', 'cs.CL'), ('cs.AI', 'cs.LO'), ('cs.AI', 'cs.LG'), ('cs.AI', 'cs.CR', 'cs.LG'), ('cs.IT',), ('cs.IT',), ('cs.AI', 'cs.LG'), ('cs.AI', 'cs.CV', 'cs.LG'), ('cs.AI', 'cs.LG'), ('cs.AI', 'cs.LG'), ('cs.IT',), ('cs.LG',), ('cs.LG',), ('cs.IT', 'cs.LG'), ('cs.LG',), ('cs.LG',), ('cs.LG',), ('cs.AI',), ('cs.CV', 'cs.LG'), ('cs.IT', 'cs.LG'), ('cs.CV', 'cs.LG'), ('cs.AI',), ('cs.AI', 'cs.CL', 'cs.LG'), ('cs.IT',), ('cs.AI', 'cs.CV', 'cs.LG'), ('cs.IT',), ('cs.LG',), ('cs.IT',), ('cs.CL', 'cs.LG'), ('cs.IT',), ('cs.IT',), ('cs.AI', 'cs.CL', 'cs.LG'), ('cs.AI', 'cs.LG'), ('cs.IT',), ('cs.AI', 'cs.CV'), ('cs.AI', 'cs.CV'), ('cs.AI', 'cs.CR', 'cs.LG'), ('cs.AI', 'cs.CV'), ('cs.AI', 'cs.CL'), ('cs.IT',), ('cs.IT', 'cs.LG'), ('cs.IT',), ('cs.IT',), ('cs.AI', 'cs.CL', 'cs.LG'), ('cs.AI', 'cs.SI'), ('cs.AI', 'cs.CR'), ('cs.IR', 'cs.LG'), ('cs.IT',), ('cs.IT',), ('cs.CV', 'cs.LG'), ('cs.AI', 'cs.LG'), ('cs.AI',), ('cs.AI', 'cs.CL', 'cs.LG'), ('cs.AI', 'cs.LG'), ('cs.IT',), ('cs.AI', 'cs.HC'), ('cs.AI', 'cs.LG'), ('cs.CV', 'cs.LG'), ('cs.IT', 'cs.NI'), ('cs.AI', 'cs.LG'), ('cs.IT',), ('cs.LG',), ('cs.AI', 'cs.RO'), ('cs.AI', 'cs.LG'), ('cs.AI', 'cs.LG'), ('cs.IT',), ('cs.IT',), ('cs.IT', 'cs.NI'), ('cs.AI', 'cs.HC', 'cs.LG'), ('cs.AI', 'cs.CL'), ('cs.AI', 'cs.CV', 'cs.LG'), ('cs.IT', 'cs.LG'), ('cs.AI', 'cs.RO'), ('cs.AI',), ('cs.IT',), ('cs.CR', 'cs.LG'), ('cs.CV', 'cs.RO'), ('cs.LG',), ('cs.IT',), ('cs.AI',), ('cs.LG',), ('cs.IT',), ('cs.AI',), ('cs.AI', 'cs.SD'), ('cs.AI', 'cs.CV', 'cs.LG'), ('cs.AI', 'cs.LG'), ('cs.CV', 'cs.LG'), ('cs.AI', 'cs.CV', 'cs.SD'), ('cs.IT', 'cs.LG'), ('cs.DC', 'cs.LG', 'cs.PF'), ('cs.IT',), ('cs.AI', 'cs.LG'), ('cs.AI', 'cs.LO'), ('cs.AI', 'cs.CV'), ('cs.IT',), ('cs.IT', 'cs.LG'), ('cs.CV', 'cs.LG'), ('cs.LG',), ('cs.IT',), ('cs.AI', 'cs.CL', 'cs.LG'), ('cs.AI', 'cs.RO'), ('cs.AI', 'cs.CV'), ('cs.CR', 'cs.LG'), ('cs.IT',), ('cs.CL',), ('cs.IT',), ('cs.CY', 'cs.LG'), ('cs.CR', 'cs.LG'), ('cs.IR', 'cs.LG'), ('cs.AI', 'cs.LG'), ('cs.CL', 'cs.IT'), ('cs.LG',), ('cs.AI', 'cs.CL'), ('cs.IT',), ('cs.AI',), ('cs.AI',), ('cs.CV', 'cs.LG'), ('cs.IT', 'cs.LG'), ('cs.AI',), ('cs.CL', 'cs.LG', 'cs.SD'), ('cs.LG',), ('cs.AI', 'cs.LG'), ('cs.AI',), ('cs.CV', 'cs.LG'), ('cs.CL', 'cs.LG'), ('cs.AI', 'cs.IR'), ('cs.AI', 'cs.CV', 'cs.LG'), ('cs.IR',), ('cs.IT',), ('cs.IT',), ('cs.AI',), ('cs.AI', 'cs.LG'), ('cs.AI', 'cs.CV'), ('cs.AI', 'cs.CY', 'cs.LG'), ('cs.IT', 'cs.LG'), ('cs.AI', 'cs.LG', 'cs.RO'), ('cs.AI', 'cs.LG'), ('cs.LG',), ('cs.AI', 'cs.LG'), ('cs.AI', 'cs.CV', 'cs.LG'), ('cs.AI', 'cs.LG'), ('cs.IT',), ('cs.AI', 'cs.MA'), ('cs.LG',), ('cs.CL', 'cs.CV', 'cs.CY'), ('cs.IT',), ('cs.IT',), ('cs.LG',), ('cs.IT', 'cs.LG'), ('cs.IT',), ('cs.AI', 'cs.SY'), ('cs.IT',), ('cs.CL',), ('cs.AI', 'cs.CV', 'cs.LG'), ('cs.AI', 'cs.CV'), ('cs.LG', 'cs.SD'), ('cs.LG', 'cs.SE'), ('cs.AI', 'cs.LG'), ('cs.AI', 'cs.LG'), ('cs.IT',), ('cs.IT', 'cs.NI'), ('cs.IT',), ('cs.AI', 'cs.CL', 'cs.LG'), ('cs.IT',), ('cs.AI', 'cs.LG', 'cs.RO'), ('cs.IT',), ('cs.AI', 'cs.CV', 'cs.LG'), ('cs.AI', 'cs.LG'), ('cs.GT',), ('cs.LG',), ('cs.AI', 'cs.CL', 'cs.LG'), ('cs.LG',), ('cs.IT',), ('cs.IT', 'cs.LG'), ('cs.IT',), ('cs.AI', 'cs.CV', 'cs.LG'), ('cs.IT',), ('cs.AI', 'cs.LG'), ('cs.AI', 'cs.LO'), ('cs.LG',), ('cs.IT', 'cs.LG'), ('cs.LG',), ('cs.IT', 'cs.LG'), ('cs.AI', 'cs.LG'), ('cs.IT',), ('cs.AI', 'cs.LG'), ('cs.AI', 'cs.LG'), ('cs.IT',), ('cs.AI', 'cs.CL', 'cs.LG'), ('cs.IT',), ('cs.CR', 'cs.LG'), ('cs.AI', 'cs.LG'), ('cs.AI', 'cs.RO'), ('cs.AI', 'cs.LG'), ('cs.AI', 'cs.LG'), ('cs.LG',), ('cs.AI', 'cs.LG'), ('cs.AI', 'cs.CL'), ('cs.AI', 'cs.CL'), ('cs.AI',), ('cs.IT',), ('cs.AI', 'cs.CV', 'cs.LG'), ('cs.LG',), (), ('cs.AI', 'cs.CV', 'cs.LG'), ('cs.GT', 'cs.IR', 'cs.LG'), ('cs.LG',), ('cs.IT', 'cs.LG'), ('cs.IT',), ('cs.AI', 'cs.CL'), ('cs.LG',), ('cs.AI', 'cs.SD'), ('cs.IT',), ('cs.CR', 'cs.LG'), ('cs.CV', 'cs.IT', 'cs.LG'), ('cs.LG',), ('cs.LG',), ('cs.IT',), ('cs.AI', 'cs.LG'), ('cs.IT',), ('cs.AI', 'cs.LG'), ('cs.AI', 'cs.CL', 'cs.CV'), ('cs.CR', 'cs.LG'), ('cs.CR', 'cs.LG'), ('cs.AI', 'cs.LG'), ('cs.LG',), ('cs.AI', 'cs.CV'), ('cs.AI', 'cs.CV'), ('cs.IT',), ('cs.AI', 'cs.LG'), ('cs.IT',), ('cs.AI', 'cs.LG', 'cs.RO'), ('cs.AI', 'cs.CV', 'cs.LG'), ('cs.IT',), ('cs.AI', 'cs.LG', 'cs.MA', 'cs.RO'), ('cs.AI', 'cs.CV'), ('cs.LG',), ('cs.LG', 'cs.MA'), ('cs.LG',), ('cs.CR', 'cs.CV', 'cs.LG'), ('cs.LG',), ('cs.IT', 'cs.LG'), ('cs.AI', 'cs.LG'), ('cs.AI',), ('cs.IT',), ('cs.AI', 'cs.LG'), ('cs.LG',), ('cs.IT', 'cs.NI'), ('cs.LG',), ('cs.IT',), ('cs.AI', 'cs.CV', 'cs.LG'), ('cs.LG',), ('cs.AI', 'cs.RO'), ('cs.IT',), ('cs.IT',), ('cs.AI', 'cs.CV'), ('cs.IT',), ('cs.LG',), ('cs.AI', 'cs.CV', 'cs.NE'), ('cs.IT',), ('cs.IT', 'cs.LG'), ('cs.AI', 'cs.LG'), ('cs.IT',), ('cs.IT',), ('cs.AI', 'cs.LG'), ('cs.AI', 'cs.LG'), ('cs.IT',), ('cs.AI', 'cs.LG'), ('cs.AI', 'cs.LG'), ('cs.AI', 'cs.LG', 'cs.RO'), ('cs.AI',), ('cs.AI', 'cs.LG'), ('cs.LG',), ('cs.AI', 'cs.CV'), ('cs.AI',), ('cs.IT',), ('cs.AI', 'cs.LG'), ('cs.LG',), ('cs.LG',), ('cs.IT',), ('cs.AI', 'cs.CV', 'cs.LG'), ('cs.LG', 'cs.RO'), ('cs.AI', 'cs.CV', 'cs.LG'), ('cs.CV', 'cs.LG'), ('cs.IT',), ('cs.LG',), ('cs.AI', 'cs.LG', 'cs.RO'), ('cs.LG',), ('cs.CV', 'cs.LG'), ('cs.IT',), ('cs.IT',), ('cs.IT',), ('cs.AI', 'cs.LG'), ('cs.IT',), ('cs.AI', 'cs.LG'), ('cs.AI', 'cs.LG'), ('cs.AI', 'cs.LG', 'cs.RO'), ('cs.IT',), ('cs.IT',), ('cs.IT',), ('cs.LG',), ('cs.AI', 'cs.LG'), ('cs.IT',), ('cs.IT',), ('cs.LG',), ('cs.CV', 'cs.LG'), ('cs.IT',), ('cs.LG',), ('cs.IT',), ('cs.AI', 'cs.HC', 'cs.LG'), ('cs.AI', 'cs.CV', 'cs.LG'), ('cs.CR', 'cs.LG'), ('cs.AI', 'cs.LG'), ('cs.AI', 'cs.LG'), ('cs.AI', 'cs.LG'), ('cs.LG',), ('cs.AI', 'cs.CV', 'cs.LG'), ('cs.AI', 'cs.CV', 'cs.LG', 'cs.RO'), ('cs.LG',), ('cs.AI', 'cs.LG'), ('cs.AI', 'cs.LG'), ('cs.IT',), ('cs.AI', 'cs.LG'), ('cs.LG',), ('cs.SE',), ('cs.AI', 'cs.LG'), ('cs.AI', 'cs.LG'), ('cs.LG',), ('cs.IT',), ('cs.AI', 'cs.CV', 'cs.LG'), ('cs.IT', 'cs.SY'), ('cs.AI', 'cs.CL', 'cs.SD'), ('cs.IT',), ('cs.AI', 'cs.CL', 'cs.LG'), ('cs.AI',), ('cs.AI', 'cs.CL', 'cs.CV'), ('cs.IT',), ('cs.IT',), ('cs.LG',), ('cs.AI', 'cs.LG'), ('cs.LG',), ('cs.CL', 'cs.LG'), ('cs.AI', 'cs.CV'), ('cs.AI', 'cs.CV', 'cs.LG'), ('cs.LG',), ('cs.AI', 'cs.IR'), ('cs.IT',), ('cs.AI', 'cs.CR'), ('cs.AI', 'cs.CR', 'cs.CV', 'cs.LG'), ('cs.LG',), ('cs.LG',), ('cs.LG',), ('cs.IT',), ('cs.AI',), ('cs.IT',), ('cs.CV', 'cs.LG'), ('cs.AI', 'cs.LG', 'cs.NE'), (), ('cs.IT',), ('cs.AI', 'cs.CL'), ('cs.IT',), ('cs.CL', 'cs.LG'), ('cs.AI', 'cs.CV', 'cs.LG'), ('cs.LG',), ('cs.CV', 'cs.LG'), ('cs.AI', 'cs.LG', 'cs.MM', 'cs.SD'), ('cs.AI', 'cs.CL', 'cs.LG'), ('cs.IT',), ('cs.IT',), ('cs.IT',), ('cs.IT',), ('cs.AI', 'cs.CL'), ('cs.AI', 'cs.CL'), ('cs.AI', 'cs.CV', 'cs.LG'), ('cs.AI', 'cs.CL'), ('cs.IT',), ('cs.AI', 'cs.IR'), ('cs.CR',), ('cs.AI', 'cs.LG'), ('cs.AI',), ('cs.AI', 'cs.LG'), ('cs.AI', 'cs.CV'), ('cs.AI', 'cs.CL'), ('cs.LG',), ('cs.IT',), ('cs.LG',), ('cs.AI', 'cs.LG'), ('cs.AI', 'cs.LG'), ('cs.AI',), ('cs.AI', 'cs.LG', 'cs.RO'), ('cs.IT',), ('cs.LG',), ('cs.CR', 'cs.LG'), ('cs.IT',), ('cs.CV', 'cs.LG'), ('cs.AI', 'cs.CV'), ('cs.IT',), ('cs.AI', 'cs.LG'), ('cs.LG',), ('cs.AI', 'cs.CV', 'cs.LG'), ('cs.AI', 'cs.LG'), ('cs.IT',), ('cs.CV', 'cs.LG'), ('cs.IT', 'cs.LG'), ('cs.IT',), ('cs.AI', 'cs.LG'), ('cs.AI', 'cs.CL', 'cs.LG'), ('cs.LG',), ('cs.AI', 'cs.CV'), ('cs.AI', 'cs.LG'), ('cs.AI', 'cs.CL'), ('cs.CV', 'cs.LG'), ('cs.AI', 'cs.LG'), ('cs.IT',), ('cs.AI', 'cs.LG'), ('cs.AI', 'cs.LG'), ('cs.LG',), ('cs.LG', 'cs.RO'), ('cs.LG',), ('cs.IT', 'cs.LG'), (), ('cs.AI',), ('cs.AI', 'cs.LG', 'cs.NE'), ('cs.IT',), ('cs.AI',), ('cs.IT',), ('cs.AI',), ('cs.LG', 'cs.RO'), ('cs.AI', 'cs.LG'), ('cs.CV', 'cs.GR', 'cs.LG'), ('cs.IT', 'cs.LG'), ('cs.AI', 'cs.LG'), ('cs.AI', 'cs.CV'), ('cs.IT',), ('cs.AI', 'cs.CL', 'cs.LG'), ('cs.AI', 'cs.CV'), ('cs.AI', 'cs.LG'), ('cs.AI', 'cs.CV', 'cs.LG'), ('cs.AI', 'cs.LG'), ('cs.AI', 'cs.LG'), ('cs.IT',), ('cs.IT',), ('cs.AI', 'cs.LG'), ('cs.AI', 'cs.CL'), ('cs.LG',), (), ('cs.AI',), ('cs.IT',), ('cs.AI', 'cs.LG'), ('cs.IT',), ('cs.IT',), ('cs.AI', 'cs.LG'), ('cs.AI', 'cs.CV'), ('cs.AI', 'cs.LG'), ('cs.AI', 'cs.LG'), ('cs.IT',), ('cs.AI', 'cs.LG'), ('cs.LG',), ('cs.IT',), ('cs.IT',), ('cs.LG',), ('cs.CR',), ('cs.IT',), ('cs.LG',), ('cs.AI', 'cs.LG', 'cs.RO'), ('cs.IT',), (), ('cs.AI', 'cs.LG'), ('cs.AI', 'cs.CV', 'cs.LG'), ('cs.IT',), ('cs.AI', 'cs.LG'), ('cs.AI', 'cs.LG'), ('cs.AI',), ('cs.IT',), ('cs.AI', 'cs.LG'), ('cs.IT',), ('cs.IT', 'cs.LG'), ('cs.IT', 'cs.LG'), ('cs.LG',), ('cs.AI', 'cs.LG'), ('cs.IT',), ('cs.AI', 'cs.LG'), ('cs.AI',), ('cs.AI', 'cs.LG'), ('cs.AI', 'cs.CV', 'cs.LG'), ('cs.AI', 'cs.CL'), ('cs.LG',), ('cs.AI',), ('cs.AI', 'cs.CV', 'cs.LG'), ('cs.LG',), ('cs.IT',), ('cs.IT',), ('cs.IT',), ('cs.DS', 'cs.IT'), ('cs.AI', 'cs.LG'), ('cs.AI', 'cs.CV'), ('cs.AI', 'cs.CL', 'cs.LG'), ('cs.LG',), ('cs.AI',), ('cs.LG',), ('cs.IT', 'cs.LG'), ('cs.IT',), ('cs.DC', 'cs.LG'), ('cs.AI', 'cs.IT'), ('cs.AI', 'cs.CV', 'cs.LG'), ('cs.AI', 'cs.LG'), ('cs.CV', 'cs.LG'), ('cs.CR', 'cs.LG'), ('cs.LG',), ('cs.AI', 'cs.LG'), ('cs.AI', 'cs.CL', 'cs.LG'), ('cs.LG',), ('cs.LG',), ('cs.AI',), ('cs.AI', 'cs.CL', 'cs.LG'), ('cs.IT',), ('cs.IT',), ('cs.AI', 'cs.LG'), ('cs.IT', 'cs.NI', 'cs.SY'), ('cs.AI',), ('cs.AI', 'cs.CL'), ('cs.CV',), ('cs.AI',), ('cs.IT',), ('cs.IT',), ('cs.LG',), ('cs.IT',), ('cs.AI', 'cs.CV', 'cs.LG'), ('cs.AI', 'cs.CL', 'cs.LG'), ('cs.IT', 'cs.LG'), ('cs.AI', 'cs.LG', 'cs.NA'), ('cs.AI', 'cs.CV', 'cs.LG'), ('cs.AI', 'cs.CV', 'cs.LG'), ('cs.AI', 'cs.CL'), ('cs.LG',), ('cs.LG',), ('cs.AI', 'cs.CV', 'cs.LG'), ('cs.LG',), ('cs.AI', 'cs.LG'), ('cs.AI',), ('cs.AI', 'cs.LG'), ('cs.LG',), ('cs.IR', 'cs.LG'), ('cs.AI', 'cs.CL'), ('cs.CV', 'cs.LG'), ('cs.IT',), ('cs.IR',), ('cs.IT',), ('cs.IT',), ('cs.AI', 'cs.LG'), ('cs.CR', 'cs.IT'), ('cs.IT',), ('cs.CR', 'cs.LG'), (), ('cs.CR', 'cs.LG'), ('cs.AI', 'cs.RO'), ('cs.AI', 'cs.CL', 'cs.LG'), ('cs.AI', 'cs.HC'), ('cs.AI', 'cs.CV', 'cs.LG'), ('cs.AI',), ('cs.CR', 'cs.IT'), ('cs.IT',), ('cs.IT',), ('cs.AI', 'cs.CV', 'cs.LG'), ('cs.AI', 'cs.CL'), ('cs.LG',), ('cs.AI', 'cs.CL'), ('cs.LG',), ('cs.IT', 'cs.LG'), ('cs.AI', 'cs.LG'), ('cs.IT',), ('cs.IT',), ('cs.AI', 'cs.IR'), ('cs.AI',), ('cs.AI', 'cs.LG'), ('cs.IT',), ('cs.LG',), ('cs.CV', 'cs.LG'), ('cs.IT', 'cs.LG'), ('cs.AI', 'cs.LG', 'cs.SI'), ('cs.AI', 'cs.CV', 'cs.LG'), ('cs.AI', 'cs.CV', 'cs.LG'), ('cs.LG',), ('cs.AI', 'cs.LG'), ('cs.CV', 'cs.LG'), ('cs.AI', 'cs.LG'), (), ('cs.AI', 'cs.CV'), ('cs.IT',), ('cs.AI', 'cs.LG'), ('cs.AI',), ('cs.IT', 'cs.SY'), ('cs.AI', 'cs.LG'), ('cs.CR', 'cs.DC', 'cs.LG'), ('cs.AI', 'cs.IT'), ('cs.AI', 'cs.CL', 'cs.LG'), ('cs.IR', 'cs.LG'), (), ('cs.AI', 'cs.GT', 'cs.LG'), ('cs.AI', 'cs.CV', 'cs.LG'), ('cs.AI', 'cs.LG'), ('cs.AI', 'cs.HC', 'cs.LG'), ('cs.AI', 'cs.LG'), ('cs.CY', 'cs.SE'), ('cs.IT', 'cs.LG'), ('cs.AI', 'cs.CR', 'cs.LG'), ('cs.AI', 'cs.CY', 'cs.LG'), ('cs.AI', 'cs.CV', 'cs.LG'), ('cs.IT',), ('cs.AI', 'cs.CL'), ('cs.IT',), ('cs.LG',), ('cs.AI', 'cs.CL', 'cs.IR'), ('cs.IT', 'cs.NI'), ('cs.CV', 'cs.LG'), ('cs.GT', 'cs.LG'), ('cs.LG',), ('cs.IT',), ('cs.AI', 'cs.CV', 'cs.LG'), ('cs.AI', 'cs.LG'), ('cs.AI', 'cs.CV', 'cs.LG'), ('cs.IT',), ('cs.IT',), ('cs.IT',), ('cs.IT',), ('cs.AI', 'cs.RO'), ('cs.AI', 'cs.CV'), ('cs.AI', 'cs.LG'), ('cs.AI', 'cs.CL'), ('cs.IT',), ('cs.AI', 'cs.CR', 'cs.LG'), ('cs.AI', 'cs.LG'), ('cs.AI',), ('cs.IT',), ('cs.LG',), ('cs.AI',), ('cs.AI', 'cs.LG'), ('cs.AI', 'cs.CL'), ('cs.GT', 'cs.LG'), ('cs.IR', 'cs.LG'), ('cs.AI', 'cs.CL', 'cs.LG'), ('cs.IT',), ('cs.LG',), ('cs.AI', 'cs.CV', 'cs.LG'), ('cs.IT',), ('cs.IT',), ('cs.LG', 'cs.MA'), ('cs.LG',), ('cs.IT',), ('cs.IT',), ('cs.LG',), ('cs.LG',), ('cs.AI', 'cs.LG', 'cs.RO'), ('cs.AI', 'cs.CL', 'cs.CV', 'cs.LG'), ('cs.LG',), ('cs.LG',), ('cs.AI',), ('cs.LG',), ('cs.AI', 'cs.LG'), ('cs.AI', 'cs.CL'), ('cs.AI', 'cs.RO'), ('cs.AI', 'cs.LG'), ('cs.AI', 'cs.CY', 'cs.LG'), ('cs.AI',), ('cs.AI', 'cs.LG'), ('cs.AI', 'cs.CV', 'cs.LG'), ('cs.AI', 'cs.LG'), ('cs.IT',), ('cs.AI', 'cs.LG'), ('cs.LG',), ('cs.AI', 'cs.CL'), ('cs.CV', 'cs.LG'), ('cs.AI', 'cs.CV', 'cs.LG'), ('cs.AI', 'cs.LG'), ('cs.AI', 'cs.CL'), ('cs.IT',), ('cs.AI', 'cs.CL', 'cs.LG'), ('cs.AI', 'cs.LG'), ('cs.IT', 'cs.LG'), ('cs.LG',), ('cs.LG',), ('cs.IT', 'cs.NI'), ('cs.AI', 'cs.CR', 'cs.LG'), ('cs.AI', 'cs.CL', 'cs.LG'), ('cs.CV', 'cs.LG'), ('cs.AI', 'cs.SD'), ('cs.CL', 'cs.LG', 'cs.SI'), ('cs.AI', 'cs.IR', 'cs.LG'), ('cs.AI', 'cs.LG'), ('cs.LG',), ('cs.LG',), ('cs.AI',), ('cs.IT', 'cs.LG'), ('cs.CL', 'cs.CV', 'cs.LG'), ('cs.IT', 'cs.LG'), ('cs.LG',), ('cs.AI', 'cs.SY'), ('cs.AI', 'cs.CV', 'cs.LG'), ('cs.IT',), ('cs.AI',), ('cs.IT',), ('cs.AI', 'cs.CV'), ('cs.CV', 'cs.IT'), ('cs.LG',), ('cs.LG',), ('cs.LG',), ('cs.CL', 'cs.LG'), ('cs.LG',), ('cs.AI', 'cs.LG'), ('cs.IT',), ('cs.AI', 'cs.CV', 'cs.LG'), ('cs.AI', 'cs.LG'), ('cs.AI', 'cs.LG'), ('cs.IT',), ('cs.AI', 'cs.CR', 'cs.LG'), ('cs.AI', 'cs.CL', 'cs.CV', 'cs.LG'), ('cs.IT',), ('cs.AI', 'cs.CL', 'cs.LG'), ('cs.AI', 'cs.CV'), ('cs.AI', 'cs.CV', 'cs.LG'), ('cs.AI', 'cs.CV', 'cs.RO'), ('cs.AI', 'cs.CL', 'cs.LG', 'cs.PL', 'cs.SE'), ('cs.IT',), ('cs.LG',), ('cs.LG',), ('cs.CV', 'cs.LG'), ('cs.AI', 'cs.CL', 'cs.LG'), ('cs.AI', 'cs.LG'), ('cs.IT',), ('cs.AI', 'cs.LG'), ('cs.AI',), ('cs.AI', 'cs.LG'), ('cs.AI',), ('cs.LG',), ('cs.AI', 'cs.CL', 'cs.LG'), ('cs.IT',), ('cs.AI', 'cs.LG'), ('cs.AI', 'cs.LG'), ('cs.IT',), ('cs.AI', 'cs.IR'), ('cs.AI', 'cs.LG'), ('cs.AI', 'cs.LG'), ('cs.IT', 'cs.LG'), ('cs.LG',), ('cs.IT',), ('cs.AI', 'cs.CL', 'cs.RO'), ('cs.AI', 'cs.MA'), ('cs.AI', 'cs.CV'), ('cs.IT',), ('cs.AI', 'cs.CL'), ('cs.IT',), ('cs.AI', 'cs.CR', 'cs.LG'), ('cs.LG',), ('cs.IT',), ('cs.AI',), ('cs.IT',), ('cs.IT',), ('cs.AI', 'cs.LG'), ('cs.CV', 'cs.LG'), ('cs.AI', 'cs.IT', 'cs.LG'), ('cs.AI', 'cs.LG'), ('cs.AI', 'cs.LG'), ('cs.AI', 'cs.LG'), ('cs.AI',), ('cs.AI',), ('cs.AI', 'cs.LG', 'cs.SE'), ('cs.FL', 'cs.LG'), ('cs.LG',), ('cs.AI', 'cs.CV', 'cs.LG'), ('cs.AI', 'cs.CV', 'cs.LG'), ('cs.AI',), ('cs.IT',), ('cs.AI', 'cs.CV', 'cs.LG'), ('cs.IT', 'cs.LG'), (), ('cs.AI', 'cs.CY', 'cs.LG'), ('cs.AI', 'cs.CL'), ('cs.LG',), ('cs.AI', 'cs.LG'), ('cs.LG',), ('cs.IT',), ('cs.AI', 'cs.LG'), ('cs.LG',), ('cs.AI', 'cs.RO', 'cs.SY'), ('cs.AI', 'cs.LG'), ('cs.AI', 'cs.CV', 'cs.LG'), ('cs.LG',), ('cs.AI', 'cs.SE'), ('cs.IT',), ('cs.AI', 'cs.LG', 'cs.RO'), ('cs.AI', 'cs.LG'), ('cs.AI', 'cs.CV', 'cs.LG'), ('cs.IT',), (), ('cs.AI', 'cs.LG'), ('cs.IT', 'cs.LG'), ('cs.AI',), ('cs.AI', 'cs.CV', 'cs.RO'), ('cs.AI', 'cs.CV', 'cs.LG'), ('cs.AI', 'cs.LG', 'cs.SD'), ('cs.CL', 'cs.LG'), ('cs.CV', 'cs.LG'), ('cs.AI', 'cs.LG'), ('cs.AI', 'cs.LG'), ('cs.AI', 'cs.LG'), ('cs.AI', 'cs.CV', 'cs.LG'), ('cs.CR', 'cs.IT'), ('cs.AI', 'cs.CL', 'cs.LG'), ('cs.AI', 'cs.CL', 'cs.CV'), ('cs.IT',), ('cs.AI', 'cs.CV'), ('cs.IT',), ('cs.IT',), ('cs.LG',), ('cs.AI', 'cs.LG'), ('cs.AI', 'cs.CV'), ('cs.LG',), ('cs.AI',), ('cs.IT',), ('cs.AI', 'cs.LG'), ('cs.AI',), ('cs.IT',), ('cs.IT',), ('cs.IT',), ('cs.AI',), ('cs.LG',), ('cs.CV', 'cs.LG'), ('cs.AI', 'cs.CV', 'cs.LG'), ('cs.LG', 'cs.SI'), ('cs.AI', 'cs.LG'), ('cs.AI', 'cs.CV', 'cs.LG'), ('cs.AI', 'cs.CL', 'cs.LG'), ('cs.IT',), ('cs.AI', 'cs.LG'), ('cs.IT',), ('cs.IT',), ('cs.IT', 'cs.LG', 'cs.NI'), ('cs.IT',), ('cs.LG',), ('cs.CR', 'cs.LG'), ('cs.LG',), ('cs.IT',), ('cs.AI', 'cs.CY', 'cs.IR', 'cs.LG'), ('cs.IT',), ('cs.AI',), ('cs.AI', 'cs.CL'), ('cs.AI', 'cs.LG'), ('cs.AI', 'cs.LG', 'cs.NE'), ('cs.AI', 'cs.LG'), ('cs.IT',), ('cs.IR',), ('cs.LG',), ('cs.IT',), ('cs.IT',), ('cs.IT', 'cs.LG'), ('cs.AI',), ('cs.AI',), ('cs.CV', 'cs.LG'), ('cs.AI', 'cs.LG'), ('cs.AI', 'cs.CL'), ('cs.LG',), ('cs.LG',), ('cs.IT',), ('cs.AI', 'cs.LG', 'cs.RO'), ('cs.AI', 'cs.CL', 'cs.LG'), ('cs.AI', 'cs.CV'), ('cs.IT', 'cs.NI'), ('cs.AI', 'cs.LG', 'cs.RO'), ('cs.AI', 'cs.CV'), ('cs.IT',), ('cs.LG',), ('cs.AI', 'cs.CL', 'cs.LG'), ('cs.IT',), ('cs.IT',), ('cs.CV', 'cs.LG'), ('cs.AI', 'cs.CL'), ('cs.IT',), ('cs.AI', 'cs.LG'), ('cs.AI', 'cs.LG'), ('cs.AI', 'cs.CV'), ('cs.CR', 'cs.DB', 'cs.IT'), (), ('cs.IT',), ('cs.LG', 'cs.SI'), ('cs.IT',), ('cs.AI',), ('cs.AI', 'cs.CL', 'cs.LG'), ('cs.IT',), ('cs.IT',), ('cs.AI', 'cs.LG'), ('cs.AI', 'cs.LG'), ('cs.IT',), ('cs.LG',), ('cs.IT',), ('cs.AI', 'cs.LG'), ('cs.CR', 'cs.IT'), ('cs.IT',), ('cs.IT',), ('cs.IT',), ('cs.AI', 'cs.CV', 'cs.LG'), ('cs.IT',), ('cs.AI', 'cs.LG', 'cs.RO'), ('cs.AI', 'cs.LG'), ('cs.LG',), ('cs.IT',), ('cs.IT',), ('cs.IT',), ('cs.LG',), ('cs.IT',), ('cs.CR', 'cs.LG'), ('cs.AI',), ('cs.AI', 'cs.CV'), ('cs.IT', 'cs.LG'), ('cs.LG',), ('cs.AI', 'cs.IR', 'cs.LG'), ('cs.IT',), ('cs.IT',), ('cs.AI',), ('cs.IT',), ('cs.AI', 'cs.LG'), ('cs.AI',), ('cs.IT', 'cs.LG'), ('cs.AI', 'cs.CV', 'cs.LG', 'cs.MA', 'cs.RO'), ('cs.IT', 'cs.LG'), ('cs.AI', 'cs.CL'), ('cs.AI', 'cs.CV'), ('cs.CV', 'cs.LG'), ('cs.AI', 'cs.CV'), ('cs.CL', 'cs.LG'), ('cs.IT',), ('cs.AI', 'cs.CL'), ('cs.LG',), ('cs.IT', 'cs.LG'), ('cs.AI', 'cs.HC', 'cs.MA', 'cs.RO'), ('cs.AI', 'cs.LG'), ('cs.AI', 'cs.LG'), ('cs.AI',), ('cs.AI', 'cs.CV'), ('cs.ET', 'cs.IT'), ('cs.AI', 'cs.LG'), ('cs.AI', 'cs.CV', 'cs.RO'), ('cs.AI', 'cs.LG'), ('cs.AI', 'cs.CL'), ('cs.IT',), ('cs.IT',), ('cs.AI', 'cs.CL'), ('cs.AI', 'cs.LG'), ('cs.LG',), ('cs.AI',), ('cs.IT',), ('cs.AI', 'cs.LG'), ('cs.AI', 'cs.CL'), ('cs.CV', 'cs.LG'), ('cs.AI', 'cs.CR', 'cs.LG'), ('cs.AI', 'cs.CL'), ('cs.LG',), ('cs.AI', 'cs.DC'), ('cs.CV',), ('cs.ET', 'cs.LG'), ('cs.CV', 'cs.LG'), ('cs.LG',), ('cs.CV', 'cs.LG'), ('cs.CV', 'cs.LG'), (), ('cs.LG',), ('cs.IT',), ('cs.AI', 'cs.CL'), ('cs.IT',), ('cs.CR', 'cs.LG', 'cs.NI'), ('cs.AI', 'cs.LG'), ('cs.CV',), ('cs.CR', 'cs.IT'), ('cs.CL', 'cs.LG'), ('cs.IT',), ('cs.AI', 'cs.CV'), ('cs.LG',), ('cs.AI', 'cs.LG', 'cs.RO'), ('cs.AI', 'cs.LG'), ('cs.AI', 'cs.CR', 'cs.LG'), ('cs.IT',), ('cs.AI',), ('cs.AI', 'cs.LG', 'cs.MA', 'cs.RO'), ('cs.AI', 'cs.LG'), ('cs.CL', 'cs.IR', 'cs.LG'), ('cs.AI', 'cs.CV'), ('cs.AI', 'cs.RO'), ('cs.IT',), ('cs.AI', 'cs.CL'), ('cs.LG',), ('cs.AI', 'cs.CL'), ('cs.IT',), ('cs.AI', 'cs.CV'), ('cs.IT',), ('cs.LG',), ('cs.IT',), ('cs.AI', 'cs.CV'), ('cs.AI', 'cs.CR', 'cs.LG'), ('cs.AI', 'cs.LG'), ('cs.CR', 'cs.LG'), ('cs.IT', 'cs.LG'), ('cs.AI',), ('cs.AI', 'cs.DC', 'cs.LG'), ('cs.AI', 'cs.CV', 'cs.LG'), ('cs.AI', 'cs.CV', 'cs.LG'), ('cs.CV', 'cs.LG'), ('cs.IT',), ('cs.AI', 'cs.CY', 'cs.HC'), ('cs.IT',), ('cs.CV', 'cs.LG'), ('cs.AI', 'cs.CV', 'cs.LG'), ('cs.LG',), ('cs.AI', 'cs.LG'), ('cs.LG', 'cs.NA'), ('cs.IT',), ('cs.IT',), ('cs.LG',), ('cs.AI', 'cs.LG'), ('cs.IT',), ('cs.AI', 'cs.CL', 'cs.LG'), ('cs.AI', 'cs.LG'), ('cs.CV',), ('cs.IT',), ('cs.AI', 'cs.LG', 'cs.SD'), ('cs.AI', 'cs.CL', 'cs.LG'), ('cs.LG', 'cs.NE'), ('cs.CV', 'cs.LG'), ('cs.IT',), ('cs.IT',), ('cs.LG',), ('cs.IT',), ('cs.AI', 'cs.LG'), ('cs.CR', 'cs.LG'), ('cs.IT',), ('cs.IT',), ('cs.AI', 'cs.LG', 'cs.MA', 'cs.NE'), ('cs.CR', 'cs.LG'), ('cs.AI', 'cs.LG'), ('cs.AI', 'cs.IR', 'cs.LG'), ('cs.AI', 'cs.CL'), ('cs.LG',), ('cs.IT',), ('cs.IT', 'cs.LG'), ('cs.AI', 'cs.CV'), ('cs.LG',), ('cs.LG',), ('cs.AI', 'cs.LG'), ('cs.AI', 'cs.CV', 'cs.RO'), ('cs.AI', 'cs.CV', 'cs.LG'), ('cs.CL',), ('cs.AI', 'cs.LG', 'cs.RO'), ('cs.IT',), ('cs.AI',), ('cs.AI', 'cs.LG'), ('cs.AI', 'cs.SD'), ('cs.LG',), ('cs.IT', 'cs.LG'), ('cs.LG',), ('cs.IT',), ('cs.AI', 'cs.CY'), ('cs.AI', 'cs.LG'), ('cs.AI',), ('cs.AI', 'cs.CL', 'cs.LG'), ('cs.AI', 'cs.CR', 'cs.LG'), ('cs.AI', 'cs.CL', 'cs.LG'), ('cs.AI', 'cs.CL'), ('cs.LG',), ('cs.AI', 'cs.CV', 'cs.LG'), ('cs.AI',), ('cs.AI', 'cs.LG', 'cs.MA'), ('cs.LG',), ('cs.AI', 'cs.HC'), ('cs.IT',), ('cs.LG',), ('cs.IT', 'cs.LG'), ('cs.LG',), ('cs.AI', 'cs.CL', 'cs.LG'), ('cs.LG',), ('cs.AI', 'cs.LG'), ('cs.CV',), ('cs.IT',), ('cs.CV', 'cs.LG', 'cs.RO'), ('cs.IT',), ('cs.AI', 'cs.CV'), ('cs.AI', 'cs.LG'), ('cs.AI', 'cs.LG'), ('cs.AI', 'cs.CV'), ('cs.CV', 'cs.LG', 'cs.RO'), ('cs.AR', 'cs.LG'), ('cs.CR',), ('cs.CV', 'cs.LG'), ('cs.AI',), ('cs.IT',), ('cs.AI', 'cs.CL', 'cs.LG'), ('cs.AI', 'cs.IR'), ('cs.IT',), ('cs.AI', 'cs.LG'), ('cs.AI', 'cs.CV'), ('cs.AI', 'cs.CV', 'cs.LG'), ('cs.IT', 'cs.LG', 'cs.NI'), ('cs.AI',), ('cs.AI', 'cs.CL', 'cs.HC'), ('cs.CV', 'cs.LG'), ('cs.AI', 'cs.CL', 'cs.IR', 'cs.LG'), ('cs.CV', 'cs.LG'), ('cs.AI', 'cs.CL'), ('cs.IT',), ('cs.CV', 'cs.LG'), ('cs.IT',), ('cs.CV', 'cs.LG'), ('cs.AI', 'cs.LG'), ('cs.AI', 'cs.CL'), ('cs.IT',), ('cs.HC', 'cs.RO'), ('cs.AI', 'cs.CV'), ('cs.IT',), ('cs.IR', 'cs.LG'), ('cs.AI', 'cs.CV', 'cs.LG'), ('cs.AI', 'cs.CL', 'cs.LG'), ('cs.AI',), ('cs.IT',), ('cs.IT',), ('cs.AI', 'cs.CL'), ('cs.LG',), ('cs.AI',), ('cs.AI', 'cs.CL', 'cs.IR', 'cs.LG'), ('cs.LG',), ('cs.LG',), ('cs.AI', 'cs.LG'), ('cs.AI', 'cs.CL', 'cs.LG'), ('cs.AI', 'cs.LG'), ('cs.IT',), ('cs.AI', 'cs.LG'), ('cs.LG',), ('cs.IT',), ('cs.IT',), ('cs.AI', 'cs.CV', 'cs.LG'), ('cs.IT',), ('cs.CL', 'cs.LG'), ('cs.IT',), ('cs.IT',), ('cs.IT',), ('cs.AI', 'cs.LG'), ('cs.AI', 'cs.CV'), ('cs.LG',), (), ('cs.AI',), ('cs.AI', 'cs.LG'), ('cs.LG',), ('cs.AI',), ('cs.AI', 'cs.LG'), ('cs.AI', 'cs.CV', 'cs.NE'), ('cs.LG',), ('cs.LG',), ('cs.AI', 'cs.LG'), ('cs.IT',), ('cs.AI', 'cs.CL'), ('cs.LG',), ('cs.CL', 'cs.LG'), ('cs.AI', 'cs.CV', 'cs.LG'), ('cs.AI', 'cs.CY', 'cs.LG'), ('cs.LG', 'cs.PL'), ('cs.LG',), ('cs.AI', 'cs.CL'), ('cs.AI', 'cs.CV'), ('cs.AI', 'cs.CV'), ('cs.CV', 'cs.LG'), ('cs.AI', 'cs.CL', 'cs.LG'), ('cs.AI', 'cs.CL', 'cs.LG'), ('cs.AI',), ('cs.LG',), ('cs.AI',), ('cs.AI', 'cs.CV'), ('cs.IT',), ('cs.IT', 'cs.LG'), ('cs.CR', 'cs.LG'), ('cs.AI', 'cs.LG'), ('cs.AI',), ('cs.CL', 'cs.CV', 'cs.LG'), ('cs.IT',), ('cs.LG',), ('cs.CY', 'cs.LG'), ('cs.AI',), ('cs.IT',), (), ('cs.AI', 'cs.CV'), ('cs.IT',), ('cs.LG',), ('cs.IT',), ('cs.IT', 'cs.LG'), ('cs.AI', 'cs.CY', 'cs.LG'), ('cs.LG',), ('cs.AI', 'cs.CY'), ('cs.IT',), ('cs.AI', 'cs.CV', 'cs.LG'), ('cs.AI', 'cs.LG'), ('cs.AI', 'cs.CY', 'cs.LG'), ('cs.AI', 'cs.CL', 'cs.LG'), ('cs.CY',), (), ('cs.AI', 'cs.CV'), ('cs.IT',), ('cs.AI', 'cs.NE'), ('cs.IT',), ('cs.LG',), ('cs.AI', 'cs.CV', 'cs.LG', 'cs.RO'), ('cs.AI',), (), ('cs.CV',), ('cs.LG',), ('cs.LG',), ('cs.AI', 'cs.LG', 'cs.MA'), ('cs.IT',), ('cs.IT',), ('cs.AI', 'cs.LG'), (), ('cs.IT',), ('cs.AI', 'cs.CL', 'cs.LG'), ('cs.AI', 'cs.LG'), ('cs.AI', 'cs.CV'), ('cs.AI', 'cs.LG'), ('cs.CR', 'cs.DB', 'cs.IT'), ('cs.IT',), ('cs.LG',), ('cs.AI',), ('cs.AI', 'cs.CV'), ('cs.IT',), ('cs.AI',), ('cs.LG',), ('cs.AI', 'cs.LG'), ('cs.LG',), ('cs.LG',), ('cs.AI', 'cs.CL', 'cs.LG'), ('cs.AI', 'cs.NI'), ('cs.AI',), ('cs.IT',), ('cs.AI', 'cs.LG'), ('cs.IT',), ('cs.IT',), ('cs.LG',), ('cs.AI', 'cs.LG'), ('cs.AI', 'cs.LG'), ('cs.AI', 'cs.CV'), ('cs.AI', 'cs.LG'), ('cs.IT',), ('cs.AI', 'cs.LG'), ('cs.IT',), ('cs.AI', 'cs.CV'), ('cs.AI', 'cs.IT'), ('cs.AI',), ('cs.AI',), ('cs.IT',), ('cs.AI',), ('cs.AI', 'cs.CL'), ('cs.DC', 'cs.LG'), ('cs.IT',), ('cs.CV', 'cs.LG'), ('cs.AI', 'cs.CV', 'cs.LG'), ('cs.IT',), ('cs.AI', 'cs.LG'), ('cs.AI',), ('cs.LG',), ('cs.LG', 'cs.RO'), ('cs.AI', 'cs.LG', 'cs.SD'), ('cs.AI', 'cs.CL'), ('cs.AI', 'cs.LG'), ('cs.AI', 'cs.LG'), ('cs.IT',), ('cs.IT',), ('cs.LG',), ('cs.LG',), ('cs.AI', 'cs.LG'), (), ('cs.LG', 'cs.RO'), ('cs.AI',), ('cs.IT',), ('cs.AI', 'cs.CL', 'cs.LG'), ('cs.IT',), ('cs.AI', 'cs.CV'), ('cs.AI', 'cs.LG'), ('cs.IT',), ('cs.AI', 'cs.LG'), ('cs.AI', 'cs.IR', 'cs.LG'), ('cs.LG',), ('cs.IT',), ('cs.AI', 'cs.CL', 'cs.CY', 'cs.LG'), ('cs.IT',), ('cs.IT',), ('cs.AI', 'cs.LG', 'cs.NE'), ('cs.AI', 'cs.LG'), ('cs.IT',), ('cs.AI', 'cs.LG'), ('cs.AI',), ('cs.IT',), ('cs.LG',), ('cs.AI', 'cs.CL', 'cs.LG'), ('cs.AI',), ('cs.LG',), ('cs.AI', 'cs.LG'), ('cs.AI',), ('cs.LG',), ('cs.AI', 'cs.CV', 'cs.LG'), ('cs.AI', 'cs.LG'), ('cs.AI', 'cs.LG'), ('cs.AI', 'cs.CL'), ('cs.IT',), ('cs.AI', 'cs.CL', 'cs.LG'), ('cs.AI', 'cs.LG'), ('cs.AI', 'cs.LG'), ('cs.AI', 'cs.CV'), ('cs.LG',), ('cs.AI',), ('cs.AI', 'cs.MA', 'cs.NI'), ('cs.LG',), ('cs.LG',), ('cs.CL', 'cs.LG'), ('cs.IT',), ('cs.AI', 'cs.CR', 'cs.CV', 'cs.LG'), ('cs.AI',), ('cs.LG',), ('cs.AI', 'cs.LG', 'cs.RO'), ('cs.IT',), ('cs.IT',), ('cs.IT',), ('cs.AI', 'cs.LG', 'cs.MA'), ('cs.AI', 'cs.CL', 'cs.LG'), ('cs.IT',), ('cs.AI', 'cs.LG'), ('cs.LG',), ('cs.LG',), ('cs.AI', 'cs.CL'), ('cs.CV',), ('cs.AI',), ('cs.IT', 'cs.NI'), ('cs.AI', 'cs.LG'), ('cs.LG',), ('cs.AI', 'cs.LG'), ('cs.AI', 'cs.LG'), ('cs.IT',), ('cs.IT',), ('cs.LG',), ('cs.IT',), ('cs.AI',), ('cs.IT',), ('cs.AI', 'cs.NE', 'cs.RO'), ('cs.AI', 'cs.LG'), ('cs.AI', 'cs.CL', 'cs.LG'), ('cs.IT', 'cs.NI'), ('cs.AI', 'cs.LG', 'cs.RO', 'cs.SY'), ('cs.LG',), ('cs.AI', 'cs.CL', 'cs.CV'), ('cs.LG',), ('cs.AI', 'cs.IT'), ('cs.LG',), ('cs.AI', 'cs.CV', 'cs.LG'), ('cs.AI', 'cs.LG'), ('cs.AI', 'cs.CL'), ('cs.IT',), ('cs.AI', 'cs.CV', 'cs.LG'), ('cs.AI', 'cs.LG'), ('cs.IT',), ('cs.AI', 'cs.RO'), ('cs.IT',), ('cs.IT',), ('cs.IT',), ('cs.LG',), ('cs.AI', 'cs.CL', 'cs.LG'), ('cs.IT',), ('cs.LG',), ('cs.AI', 'cs.CL'), ('cs.AI', 'cs.CL'), ('cs.AI', 'cs.CV', 'cs.LG', 'cs.RO'), ('cs.LG',), ('cs.IT', 'cs.LG'), ('cs.AI', 'cs.LG'), ('cs.AI',), ('cs.AI', 'cs.CV'), ('cs.CR', 'cs.IT', 'cs.NI'), (), ('cs.AI', 'cs.IR'), ('cs.AI', 'cs.LG'), ('cs.AI', 'cs.CL', 'cs.CV'), ('cs.AI', 'cs.LG'), ('cs.LG',), ('cs.AI', 'cs.CY'), ('cs.LG',), ('cs.AI',), ('cs.LG',), ('cs.LG',), ('cs.LG',), ('cs.AI', 'cs.IR'), ('cs.AI', 'cs.CV', 'cs.LG'), ('cs.AI',), ('cs.IT',), ('cs.LG',), ('cs.IT',), ('cs.AI', 'cs.LG'), ('cs.AI', 'cs.CV', 'cs.LG', 'cs.RO'), ('cs.AI',), ('cs.AI',), ('cs.AI', 'cs.CV'), ('cs.AI',), ('cs.LG',), ('cs.IT',), ('cs.LG',), ('cs.AI', 'cs.CL'), ('cs.AI', 'cs.CV', 'cs.GR', 'cs.LG'), ('cs.AI', 'cs.LG'), ('cs.LG',), ('cs.AI', 'cs.LG'), ('cs.LG',), ('cs.AI', 'cs.CV'), (), ('cs.LG',), ('cs.IT',), ('cs.LG',), ('cs.IT', 'cs.NI'), ('cs.AI', 'cs.CV'), ('cs.AI', 'cs.LG'), ('cs.AI', 'cs.LO', 'cs.PL', 'cs.SE'), ('cs.AI', 'cs.LG'), ('cs.CV',), ('cs.AI', 'cs.CL', 'cs.LG'), ('cs.IT',), ('cs.LG', 'cs.SI'), ('cs.IT',), ('cs.CV', 'cs.LG'), ('cs.AI', 'cs.CL'), ('cs.CL',), ('cs.AI', 'cs.RO'), ('cs.AI', 'cs.CR', 'cs.CV', 'cs.LG'), ('cs.AI', 'cs.CL'), ('cs.AI', 'cs.CL', 'cs.LG'), ('cs.IT', 'cs.LG', 'cs.NI'), ('cs.AI', 'cs.SD'), ('cs.LG',), ('cs.IT',), ('cs.AI', 'cs.LG'), ('cs.AI', 'cs.LG'), ('cs.IT',), ('cs.LG',), ('cs.AI', 'cs.LG'), ('cs.CV',), ('cs.CV', 'cs.LG', 'cs.SD'), ('cs.LG',), ('cs.AI', 'cs.LG'), ('cs.IT',), ('cs.IT', 'cs.LG'), ('cs.AI', 'cs.CL'), ('cs.AI', 'cs.DC', 'cs.LG'), ('cs.AI', 'cs.CV', 'cs.LG'), ('cs.IT',), ('cs.IT',), ('cs.AI', 'cs.LG'), ('cs.AI', 'cs.CV', 'cs.LG'), ('cs.AI', 'cs.PL'), ('cs.AI', 'cs.CL'), ('cs.LG',), ('cs.LG',), ('cs.AI', 'cs.CV', 'cs.LG'), ('cs.CV', 'cs.LG'), ('cs.LG',), ('cs.LG',), ('cs.AI', 'cs.LG', 'cs.MA'), ('cs.AI', 'cs.CV', 'cs.LG'), ('cs.IT',), ('cs.CV', 'cs.LG'), ('cs.IT',), ('cs.DS', 'cs.IT', 'cs.LG'), ('cs.CL', 'cs.LG'), ('cs.IT',), ('cs.AI', 'cs.LG', 'cs.MA', 'cs.RO'), ('cs.CL', 'cs.LG'), ('cs.LG',), ('cs.IT', 'cs.NI'), ('cs.AI', 'cs.CL', 'cs.LG'), ('cs.AI', 'cs.CV', 'cs.LG'), ('cs.CV', 'cs.LG'), ('cs.AI', 'cs.CV', 'cs.LG'), ('cs.IT', 'cs.LG'), ('cs.LG',), ('cs.AI', 'cs.LG', 'cs.MA'), ('cs.IT',), ('cs.AI', 'cs.LG'), ('cs.IT',), ('cs.AI', 'cs.LG'), ('cs.AI', 'cs.CL', 'cs.LG', 'cs.SE'), ('cs.AI',), ('cs.AI', 'cs.LG'), ('cs.LG',), ('cs.IT', 'cs.LG'), ('cs.AI', 'cs.SE'), ('cs.IT',), ('cs.AI', 'cs.CL'), ('cs.IT',), ('cs.LG',), ('cs.LG',), ('cs.AI', 'cs.CV', 'cs.LG'), ('cs.IT',), ('cs.LG',), ('cs.CV', 'cs.LG'), ('cs.CV', 'cs.LG', 'cs.SY'), ('cs.AI', 'cs.CV', 'cs.LG'), ('cs.AI', 'cs.CL', 'cs.LG'), ('cs.CV', 'cs.LG'), ('cs.AI', 'cs.LG'), ('cs.CV', 'cs.LG'), ('cs.LG',), ('cs.CL', 'cs.LG'), ('cs.AI', 'cs.CV', 'cs.LG'), ('cs.LG',), ('cs.AI', 'cs.LG'), ('cs.AI', 'cs.CL'), ('cs.LG', 'cs.SD'), ('cs.AI', 'cs.LG'), ('cs.LG',), ('cs.DC', 'cs.IT'), ('cs.IT',), ('cs.IT',), ('cs.IT',), ('cs.IT',), ('cs.AI', 'cs.LG', 'cs.NE'), ('cs.LG', 'cs.NE'), ('cs.IT',), ('cs.AI',), (), ('cs.AI', 'cs.CL', 'cs.LG'), ('cs.LG',), ('cs.AI', 'cs.CL'), ('cs.IT',), ('cs.AI', 'cs.CV', 'cs.LG'), ('cs.AI', 'cs.LG'), ('cs.LG',), ('cs.AI', 'cs.CR', 'cs.LG'), ('cs.AI', 'cs.CV'), ('cs.IT',), ('cs.LG',), ('cs.AI', 'cs.CL'), ('cs.LG',), ('cs.AI',), ('cs.IT', 'cs.LG'), ('cs.LG',), ('cs.AI',), ('cs.AI', 'cs.IT'), ('cs.AI', 'cs.LG'), ('cs.IT',), ('cs.IT',), ('cs.IT',), ('cs.IT',), ('cs.IT', 'cs.LG'), ('cs.LG',), ('cs.AI', 'cs.LG', 'cs.SD'), ('cs.AI', 'cs.LG'), ('cs.IT',), ('cs.IT',), ('cs.AI', 'cs.CL', 'cs.LG'), ('cs.LG',), ('cs.AI', 'cs.IR', 'cs.LG'), ('cs.LG',), ('cs.LG',), ('cs.AI', 'cs.CY', 'cs.LG'), ('cs.AI', 'cs.CV'), ('cs.AI', 'cs.CL'), ('cs.AI',), ('cs.IT',), ('cs.IT',), ('cs.LG',), ('cs.AI', 'cs.LG', 'cs.MA'), ('cs.AI', 'cs.LG', 'cs.NE'), ('cs.AI',), ('cs.AI', 'cs.GT'), ('cs.CR', 'cs.LG'), ('cs.AI',), ('cs.AI', 'cs.LG'), ('cs.AI', 'cs.LG'), ('cs.LG',), ('cs.AI', 'cs.CV'), ('cs.AI', 'cs.CV'), ('cs.AI', 'cs.LG'), ('cs.CV', 'cs.LG'), ('cs.IT',), ('cs.AI', 'cs.LG'), ('cs.AI', 'cs.RO'), ('cs.CL', 'cs.LG'), ('cs.LG',), ('cs.AI',), ('cs.AI', 'cs.LG'), ('cs.IT',), ('cs.LG',), ('cs.CV', 'cs.LG'), ('cs.AI',), ('cs.IT',), ('cs.LG',), ('cs.AI', 'cs.CL'), ('cs.LG',), ('cs.AI', 'cs.LG'), ('cs.AI', 'cs.LG'), ('cs.IT',), ('cs.AI', 'cs.CV', 'cs.LG', 'cs.MM'), ('cs.AI', 'cs.CV'), ('cs.CR', 'cs.LG'), ('cs.CV', 'cs.LG'), ('cs.LG', 'cs.RO'), ('cs.AI', 'cs.CV'), ('cs.IT',), ('cs.IT',), ('cs.AI', 'cs.CV', 'cs.LG'), ('cs.AI', 'cs.LG'), ('cs.IT',), ('cs.AI', 'cs.LG'), ('cs.LG',), ('cs.AI', 'cs.LG'), ('cs.LG',), ('cs.AI', 'cs.CY', 'cs.HC', 'cs.LG'), ('cs.CV', 'cs.LG'), ('cs.AI', 'cs.CL'), ('cs.AI', 'cs.LG'), ('cs.IT',), ('cs.AI',), ('cs.LG',), ('cs.AI', 'cs.CV', 'cs.LG'), ('cs.AI', 'cs.LG'), ('cs.IT',), ('cs.AI', 'cs.LG'), ('cs.IT',), ('cs.AI', 'cs.CR', 'cs.DC', 'cs.LG'), ('cs.CL',), ('cs.LG', 'cs.SD'), ('cs.IT',), ('cs.IT', 'cs.LG'), ('cs.LG',), ('cs.SE',), ('cs.IT',), ('cs.IT',), ('cs.IT',), ('cs.CV', 'cs.LG'), ('cs.CR', 'cs.IT', 'cs.LG'), ('cs.IT',), ('cs.CR', 'cs.LG'), ('cs.AI', 'cs.CV', 'cs.LG'), ('cs.AI', 'cs.CL', 'cs.LG'), ('cs.AI', 'cs.CV', 'cs.LG', 'cs.RO'), ('cs.IT',), ('cs.LG',), ('cs.AI', 'cs.CR', 'cs.CV', 'cs.LG'), ('cs.AI',), ('cs.LG',), ('cs.CL', 'cs.LG'), ('cs.IT',), ('cs.LG',), ('cs.CV', 'cs.LG'), ('cs.CV', 'cs.LG'), ('cs.AI', 'cs.LG'), ('cs.LG',), ('cs.IT', 'cs.LG'), ('cs.IT',), ('cs.AI', 'cs.CV', 'cs.LG'), ('cs.LG',), ('cs.AI', 'cs.LG'), ('cs.AI', 'cs.CV', 'cs.LG'), ('cs.LG',), ('cs.AI', 'cs.CR', 'cs.CV', 'cs.LG'), ('cs.CV', 'cs.LG'), ('cs.AI', 'cs.CV', 'cs.LG'), ('cs.IT',), ('cs.AI', 'cs.CV'), ('cs.IT',), ('cs.IT',), ('cs.AI', 'cs.LG'), ('cs.IT',), ('cs.AI', 'cs.LG'), ('cs.LG',), ('cs.AI', 'cs.IR', 'cs.LG', 'cs.SI'), ('cs.LG',), ('cs.AI',), ('cs.AI', 'cs.LG'), ('cs.AI', 'cs.LG', 'cs.MA'), ('cs.CL', 'cs.LG'), ('cs.AI', 'cs.LG'), ('cs.AI', 'cs.LG', 'cs.RO'), ('cs.IT', 'cs.LG'), ('cs.AI', 'cs.LG'), ('cs.LG',), ('cs.AI', 'cs.CV', 'cs.RO'), ('cs.IT',), ('cs.AI', 'cs.CR', 'cs.LG'), ('cs.CV', 'cs.LG'), ('cs.LG',), ('cs.IT', 'cs.LG'), ('cs.AI', 'cs.CV'), ('cs.AI', 'cs.LG'), ('cs.IT',), ('cs.AI', 'cs.CV', 'cs.LG'), ('cs.AI', 'cs.LG'), ('cs.IT',), ('cs.IT',), ('cs.IT',), ('cs.LG',), ('cs.IT',), ('cs.LG',), ('cs.IT', 'cs.NI'), ('cs.AI', 'cs.LG'), ('cs.AI', 'cs.LG', 'cs.SD'), ('cs.AI', 'cs.CV'), ('cs.IT', 'cs.LG'), ('cs.IT',), ('cs.IT',), ('cs.AI',), ('cs.IT',), ('cs.IT',), ('cs.AI', 'cs.CL'), ('cs.AI', 'cs.LG'), ('cs.AI', 'cs.IR'), ('cs.AI', 'cs.CV', 'cs.LG'), ('cs.IT',), ('cs.AI', 'cs.CL', 'cs.LG'), ('cs.AI', 'cs.GT', 'cs.MA'), ('cs.AI', 'cs.CL', 'cs.CV', 'cs.LG'), ('cs.IT',), ('cs.IT', 'cs.NI'), ('cs.IT',), ('cs.LG',), ('cs.LG',), ('cs.AI', 'cs.CV'), ('cs.LG',), ('cs.AI', 'cs.LG', 'cs.MA', 'cs.RO'), ('cs.AI', 'cs.IR'), ('cs.CR', 'cs.LG'), ('cs.AI', 'cs.CV', 'cs.LG', 'cs.RO'), ('cs.IT',), ('cs.AI', 'cs.CL', 'cs.LG'), ('cs.AI', 'cs.LG'), ('cs.IT',), ('cs.NE',), ('cs.LG',), ('cs.AI', 'cs.LG'), ('cs.IT',), ('cs.IT',), ('cs.AI',), ('cs.LG',), ('cs.IT',), ('cs.AI', 'cs.CL', 'cs.LG'), ('cs.CV',), ('cs.AI', 'cs.LG'), ('cs.AI',), ('cs.AI', 'cs.CV', 'cs.LG'), ('cs.AI', 'cs.CV'), ('cs.AI', 'cs.LG', 'cs.RO'), ('cs.IT',), ('cs.AI', 'cs.LG'), ('cs.AI', 'cs.LG', 'cs.RO'), ('cs.IT',), ('cs.AI', 'cs.CV', 'cs.GR'), ('cs.LG',), ('cs.CV', 'cs.LG'), ('cs.IT',), ('cs.AI',), ('cs.LG',), ('cs.IT',), ('cs.IT',), ('cs.LG',), ('cs.AI', 'cs.CL'), ('cs.HC', 'cs.IR', 'cs.LG'), ('cs.CL', 'cs.LG'), ('cs.AI', 'cs.LG'), ('cs.IT', 'cs.LG'), ('cs.IT',), ('cs.LG',), ('cs.IT',), ('cs.AI', 'cs.LG'), ('cs.IT',), ('cs.GT', 'cs.LG'), ('cs.AI', 'cs.PL', 'cs.SE'), ('cs.AI', 'cs.CL'), ('cs.CV', 'cs.LG'), ('cs.AI', 'cs.LG'), ('cs.CV', 'cs.LG'), ('cs.RO',), ('cs.LG',), ('cs.AI', 'cs.CL', 'cs.LG'), ('cs.AI',), ('cs.DC', 'cs.IT', 'cs.LG'), ('cs.AI', 'cs.CV'), ('cs.LG',), ('cs.AI', 'cs.LG'), ('cs.AI', 'cs.LG'), ('cs.AI', 'cs.LG'), ('cs.AI', 'cs.CR', 'cs.CV', 'cs.LG'), ('cs.AI',), ('cs.IT', 'cs.NI'), ('cs.IT',), ('cs.AI', 'cs.CR', 'cs.LG'), ('cs.IT',), ('cs.AI', 'cs.HC', 'cs.LG', 'cs.MA', 'cs.RO'), ('cs.AI', 'cs.LG'), ('cs.IT',), ('cs.AI', 'cs.CL', 'cs.LG'), ('cs.IT',), ('cs.LG',), ('cs.IT', 'cs.LG'), ('cs.IT',), ('cs.LG',), ('cs.IT',), ('cs.LG',), ('cs.IT',), ('cs.IT',), (), ('cs.CV', 'cs.LG'), ('cs.IT',), ('cs.IT', 'cs.LG'), ('cs.AI',), ('cs.IT',), ('cs.IT',), ('cs.AI', 'cs.LG'), ('cs.LG',), ('cs.IT',), ('cs.AI', 'cs.CV'), ('cs.CV', 'cs.LG'), ('cs.LG',), ('cs.AI', 'cs.CL', 'cs.LG'), ('cs.LG',), ('cs.IT',), ('cs.AI', 'cs.CR', 'cs.LG'), ('cs.IT',), ('cs.AI', 'cs.IR', 'cs.LG'), ('cs.AI',), ('cs.IT',), ('cs.AI', 'cs.IR', 'cs.LG'), ('cs.AI', 'cs.IR', 'cs.LG'), ('cs.CL', 'cs.LG'), ('cs.AI', 'cs.LG'), ('cs.LG',), ('cs.AI', 'cs.CL', 'cs.LG'), ('cs.LG',), ('cs.IT',), ('cs.AI', 'cs.DC', 'cs.LG'), ('cs.AI', 'cs.CR', 'cs.LG'), ('cs.IT',), ('cs.LG',), ('cs.LG', 'cs.SD'), ('cs.LG',), ('cs.CL', 'cs.SI'), ('cs.AI', 'cs.LG'), ('cs.IT',), ('cs.AI', 'cs.LG'), ('cs.AI', 'cs.RO', 'cs.SY'), ('cs.CV', 'cs.LG'), ('cs.AI', 'cs.RO'), ('cs.AI', 'cs.CV', 'cs.LG'), ('cs.CV', 'cs.LG'), ('cs.IT', 'cs.LG'), ('cs.LG', 'cs.SE'), ('cs.IT',), ('cs.AI',), ('cs.IT',), ('cs.IT',), ('cs.IT',), ('cs.AI', 'cs.RO'), ('cs.IT', 'cs.LG'), ('cs.IT',), ('cs.AI', 'cs.CV'), ('cs.AI', 'cs.LG'), ('cs.IT',), ('cs.AI',), ('cs.IT',), ('cs.LG',), ('cs.LG',), ('cs.AI', 'cs.CL'), ('cs.AI', 'cs.LG'), ('cs.LG',), ('cs.AI', 'cs.CV', 'cs.LG'), ('cs.AI', 'cs.CL', 'cs.LG'), ('cs.IT',), ('cs.AI',), ('cs.AI', 'cs.LG'), ('cs.AI', 'cs.CV'), ('cs.IT',), ('cs.LG',), ('cs.AI', 'cs.LG'), ('cs.AI', 'cs.CV', 'cs.LG'), (), ('cs.AI', 'cs.AR', 'cs.LG'), ('cs.AI', 'cs.CR', 'cs.LG'), ('cs.LG',), ('cs.AI', 'cs.LG'), ('cs.AI', 'cs.CV', 'cs.RO'), ('cs.IT',), ('cs.AI', 'cs.LG'), ('cs.AI', 'cs.CV', 'cs.LG'), ('cs.AI', 'cs.IR', 'cs.LG'), ('cs.LG',), ('cs.AI',), ('cs.AI', 'cs.CV', 'cs.LG'), ('cs.AI',), ('cs.LG',), ('cs.IT',), ('cs.AI', 'cs.LG'), ('cs.CV',), ('cs.LG',), ('cs.CV', 'cs.LG'), ('cs.AI', 'cs.LG'), ('cs.IT',), ('cs.AI', 'cs.LG'), ('cs.AI', 'cs.SE'), ('cs.IT',), ('cs.CV', 'cs.LG'), ('cs.IT',), ('cs.IR', 'cs.LG'), ('cs.RO',), ('cs.LG',), ('cs.AI', 'cs.LG', 'cs.RO'), ('cs.AI', 'cs.LG'), ('cs.AI', 'cs.CV', 'cs.LG'), ('cs.AI', 'cs.GT', 'cs.LG', 'cs.MA'), ('cs.CV', 'cs.LG'), ('cs.AI', 'cs.LG'), ('cs.AI', 'cs.CL'), ('cs.LG',), ('cs.IT',), ('cs.IT',), ('cs.IT',), ('cs.IT',), ('cs.AI', 'cs.LG'), ('cs.IT',), ('cs.AI', 'cs.CL', 'cs.LG'), ('cs.IT',), ('cs.IT',), ('cs.AI', 'cs.CL', 'cs.CV'), ('cs.IT',), ('cs.CL', 'cs.LG'), ('cs.AI', 'cs.CR'), ('cs.IT',), ('cs.LG',), ('cs.CV', 'cs.LG'), ('cs.AI', 'cs.LG'), ('cs.IT',), ('cs.IT',), ('cs.AI', 'cs.LG'), ('cs.AI', 'cs.CV', 'cs.LG'), ('cs.AI', 'cs.CR', 'cs.IT'), ('cs.CL', 'cs.LG', 'cs.SD'), ('cs.IT',), ('cs.AI', 'cs.LG', 'cs.LO'), ('cs.AI', 'cs.CY', 'cs.LG'), (), ('cs.IT',), ('cs.AI', 'cs.LG'), ('cs.AI',), ('cs.AI', 'cs.LG'), ('cs.IT',), ('cs.IT', 'cs.NI'), ('cs.IT',), ('cs.AI',), ('cs.AI', 'cs.DS'), ('cs.LG',), ('cs.AI', 'cs.LG'), ('cs.AI', 'cs.LG'), ('cs.AI', 'cs.LG'), ('cs.IT',), ('cs.LG',), ('cs.AI', 'cs.CV', 'cs.RO'), ('cs.AI', 'cs.CL', 'cs.LG'), ('cs.IT',), ('cs.LG',), ('cs.AI',), ('cs.AI', 'cs.LG'), ('cs.LG',), ('cs.IT',), ('cs.CV',), ('cs.LG',), ('cs.AI', 'cs.LG'), ('cs.IT',), ('cs.AI', 'cs.CV', 'cs.LG'), ('cs.IT',), ('cs.IT',), ('cs.LG',), ('cs.AI', 'cs.CV'), ('cs.IT',), ('cs.IT',), ('cs.CR', 'cs.LG'), ('cs.AI', 'cs.LG'), ('cs.AI', 'cs.CV', 'cs.LG'), ('cs.LG',), ('cs.LG',), ('cs.AI',), ('cs.LG',), ('cs.LG', 'cs.SI'), ('cs.IT',), ('cs.AI', 'cs.CV', 'cs.LG'), ('cs.AI', 'cs.IR'), ('cs.IT',), ('cs.AI', 'cs.CL'), ('cs.IT',), ('cs.AI', 'cs.CL', 'cs.LG'), ('cs.LG',), ('cs.IT',), ('cs.LG',), ('cs.IT',), ('cs.AI', 'cs.LG'), ('cs.IT',), ('cs.AI', 'cs.IT'), ('cs.AI', 'cs.LG'), ('cs.IT',), ('cs.LG',), ('cs.IT',), ('cs.AI', 'cs.LG'), ('cs.LG',), ('cs.AI', 'cs.CV'), ('cs.IT',), ('cs.AI', 'cs.LG'), ('cs.AI',), ('cs.LG',), ('cs.AI', 'cs.LG'), ('cs.CV', 'cs.LG'), ('cs.AI',), ('cs.AI', 'cs.CL'), ('cs.LG',), ('cs.LG',), ('cs.AI', 'cs.CV'), ('cs.IT',), ('cs.AI', 'cs.LG'), ('cs.CV', 'cs.LG'), ('cs.AI', 'cs.LG'), ('cs.IT',), ('cs.IT',), ('cs.LG',), ('cs.AI', 'cs.CR', 'cs.LG'), ('cs.IT',), ('cs.AI', 'cs.CV', 'cs.LG'), ('cs.IT',), ('cs.LG',), ('cs.LG',), ('cs.AI', 'cs.LG'), ('cs.AI', 'cs.LG'), ('cs.IT',), ('cs.AI', 'cs.CV', 'cs.LG'), ('cs.AI', 'cs.RO'), ('cs.CV', 'cs.IT'), ('cs.AI', 'cs.LG'), ('cs.CL',), ('cs.AI', 'cs.CL'), ('cs.LG',), ('cs.AI', 'cs.LG'), ('cs.AR', 'cs.LG'), ('cs.LG',), ('cs.AI', 'cs.MA'), ('cs.AI', 'cs.CL'), ('cs.LG',), ('cs.AI', 'cs.LG'), ('cs.DC', 'cs.LG'), ('cs.IT', 'cs.NI'), ('cs.LG',), ('cs.AI',), ('cs.IT', 'cs.RO'), ('cs.AI', 'cs.CL'), ('cs.IT',), ('cs.AI', 'cs.LG'), ('cs.IT',), ('cs.DC', 'cs.LG'), ('cs.CL', 'cs.LG'), ('cs.IT', 'cs.NI'), ('cs.AI', 'cs.CV', 'cs.LG'), ('cs.AI', 'cs.CV'), ('cs.IT', 'cs.LG'), ('cs.AI', 'cs.LG'), ('cs.LG',), ('cs.AI', 'cs.LG'), ('cs.AI', 'cs.LG'), ('cs.IT',), ('cs.AI', 'cs.LG'), ('cs.AI',), ('cs.LG',), ('cs.AI', 'cs.CV', 'cs.LG'), ('cs.IT',), ('cs.AI', 'cs.CV', 'cs.RO'), ('cs.IT',), ('cs.CV', 'cs.LG'), ('cs.IT',), ('cs.AI', 'cs.CV', 'cs.LG'), ('cs.IT', 'cs.LG'), ('cs.AI', 'cs.CY'), ('cs.IT',), ('cs.AI', 'cs.LG'), ('cs.IT',), ('cs.AI', 'cs.CR', 'cs.LG'), ('cs.AI', 'cs.CL', 'cs.CR', 'cs.LG'), ('cs.AI', 'cs.LG'), ('cs.AI', 'cs.LG'), ('cs.CR', 'cs.IR', 'cs.LG'), ('cs.IT', 'cs.NI'), ('cs.CV', 'cs.LG'), ('cs.IT',), ('cs.AI', 'cs.LG'), ('cs.LG',), ('cs.IR', 'cs.LG'), ('cs.AI', 'cs.LG'), (), ('cs.AI', 'cs.LG'), ('cs.AI', 'cs.LG'), ('cs.IT', 'cs.LG'), ('cs.IT',), ('cs.AI', 'cs.CV'), ('cs.IT',), ('cs.AI', 'cs.LG'), ('cs.AI', 'cs.GT', 'cs.IT', 'cs.NI'), ('cs.AI', 'cs.LG'), ('cs.CR', 'cs.LG', 'cs.SD'), ('cs.IT',), ('cs.AI', 'cs.CL', 'cs.LG'), ('cs.AI', 'cs.LG'), ('cs.IT',), ('cs.AI', 'cs.LG', 'cs.RO'), ('cs.AR', 'cs.LG'), ('cs.AI', 'cs.CL'), ('cs.AI', 'cs.CL'), ('cs.LG',), ('cs.AI', 'cs.LG'), ('cs.IT',), ('cs.IT', 'cs.LG'), ('cs.AI',), ('cs.IT',), ('cs.CV', 'cs.LG'), ('cs.AI', 'cs.CY', 'cs.LG'), ('cs.IT',), ('cs.AI', 'cs.LG'), ('cs.IT',), ('cs.LG',), ('cs.LG',), ('cs.LG',), ('cs.LG',), ('cs.LG', 'cs.RO'), ('cs.AI', 'cs.CR', 'cs.CV', 'cs.LG'), ('cs.AI',), ('cs.IT',), ('cs.AI',), ('cs.AI', 'cs.LG'), ('cs.LG', 'cs.SI'), ('cs.CR', 'cs.CV', 'cs.LG'), ('cs.IT', 'cs.LG'), ('cs.AI', 'cs.CV'), ('cs.LG', 'cs.SD'), ('cs.LG',), ('cs.IT',), ('cs.AI', 'cs.IT', 'cs.LG'), ('cs.AI', 'cs.LG'), ('cs.LG',), ('cs.AI', 'cs.LG'), ('cs.LG',), ('cs.CV', 'cs.NE'), ('cs.IT', 'cs.LG'), ('cs.AI', 'cs.CL', 'cs.IR'), ('cs.AI', 'cs.LG'), ('cs.IT',), ('cs.IT', 'cs.LG'), ('cs.LG',), ('cs.AI', 'cs.CL'), ('cs.AI', 'cs.CV', 'cs.LG', 'cs.NE'), ('cs.CR', 'cs.LG'), ('cs.AI', 'cs.CY'), ('cs.IT',), ('cs.AI', 'cs.LG'), ('cs.LG',), ('cs.AI', 'cs.LG'), ('cs.IT',), ('cs.AI', 'cs.CV', 'cs.LG'), ('cs.AI', 'cs.LG'), ('cs.LG',), ('cs.AI', 'cs.LG'), ('cs.AI', 'cs.CL'), ('cs.SE',), ('cs.IT',), ('cs.AI',), ('cs.IT',), ('cs.AI', 'cs.LG'), ('cs.AI', 'cs.DC', 'cs.LG'), ('cs.LG',), ('cs.AI', 'cs.CV'), ('cs.AI',), ('cs.LG',), ('cs.AI', 'cs.LG'), ('cs.AI', 'cs.CV', 'cs.LG'), ('cs.AI', 'cs.CV', 'cs.LG'), ('cs.IT',), ('cs.AI', 'cs.IR', 'cs.LG'), ('cs.AI', 'cs.LG', 'cs.NE'), ('cs.AI', 'cs.CR', 'cs.LG'), ('cs.AI', 'cs.LG'), ('cs.IT',), ('cs.IT',), ('cs.AI', 'cs.LG', 'cs.SE'), ('cs.LG',), ('cs.LG',), ('cs.CV', 'cs.LG'), (), ('cs.IT',), ('cs.AI', 'cs.LG', 'cs.RO'), ('cs.AI', 'cs.RO'), ('cs.CR',), ('cs.IT',), ('cs.LG',), ('cs.IT',), ('cs.AI', 'cs.LG'), ('cs.IT',), ('cs.IT',), ('cs.AI', 'cs.CV', 'cs.LG'), ('cs.AI', 'cs.CV'), ('cs.IT',), ('cs.IT',), ('cs.AI', 'cs.LG'), ('cs.AI', 'cs.CL', 'cs.SE'), ('cs.CR', 'cs.LG'), ('cs.AI', 'cs.LG'), ('cs.AI', 'cs.CL', 'cs.LG'), ('cs.LG',), ('cs.LG',), (), ('cs.AI', 'cs.CV', 'cs.LG'), ('cs.AI', 'cs.LG'), ('cs.AI', 'cs.CV', 'cs.LG'), ('cs.AI', 'cs.LG'), ('cs.LG',), ('cs.IT',), ('cs.AI', 'cs.CL', 'cs.LG'), ('cs.IT',), ('cs.AI', 'cs.LG'), ('cs.LG',), ('cs.LG',), ('cs.IT',), ('cs.CV', 'cs.LG'), ('cs.LG', 'cs.SI'), ('cs.IT',), ('cs.LG',), ('cs.AI', 'cs.NE'), ('cs.AI',), ('cs.CV', 'cs.LG'), ('cs.LG',), ('cs.AI',), ('cs.AI', 'cs.CL', 'cs.LG'), ('cs.AI', 'cs.LG'), (), ('cs.AI', 'cs.DC'), ('cs.AI', 'cs.CL'), ('cs.AI', 'cs.CY', 'cs.LG'), ('cs.AI',), ('cs.LG',), ('cs.AI', 'cs.LG'), ('cs.AI', 'cs.LG'), ('cs.LG',), ('cs.CR', 'cs.LG'), ('cs.AI',), ('cs.AI', 'cs.LG'), ('cs.AI', 'cs.LG'), ('cs.AI', 'cs.MA', 'cs.RO'), ('cs.LG',), ('cs.AI', 'cs.LG'), ('cs.AI', 'cs.LG'), ('cs.LG',), ('cs.DC', 'cs.IT', 'cs.LG'), ('cs.AI', 'cs.LG'), ('cs.AI', 'cs.CV'), ('cs.IT', 'cs.LG', 'cs.MA', 'cs.NI'), ('cs.AI', 'cs.LG'), ('cs.AI', 'cs.HC'), ('cs.CV', 'cs.LG'), ('cs.CV', 'cs.LG'), ('cs.AI',), ('cs.LG',), ('cs.AI',), ('cs.IT',), ('cs.AI', 'cs.LG'), ('cs.LG',), ('cs.LG',), ('cs.LG',), ('cs.AI', 'cs.LG'), ('cs.CR', 'cs.CV', 'cs.LG'), ('cs.AI', 'cs.CR', 'cs.LG'), ('cs.IT',), ('cs.AI', 'cs.LG'), ('cs.IT',), ('cs.AI', 'cs.CR'), ('cs.CV', 'cs.LG'), ('cs.LG',), ('cs.IT',), ('cs.AI', 'cs.IR', 'cs.LG'), ('cs.IT', 'cs.LG'), ('cs.IT',), ('cs.IT',), ('cs.CV', 'cs.LG'), ('cs.LG',), ('cs.LG',), (), ('cs.LG',), ('cs.AI',), ('cs.CR', 'cs.LG'), ('cs.AI', 'cs.LG'), ('cs.IT',), ('cs.IT',), ('cs.LG',), ('cs.LG',), ('cs.AI', 'cs.CV', 'cs.LG'), ('cs.LG',), ('cs.IT',), ('cs.AI', 'cs.IT'), ('cs.AI', 'cs.CY'), ('cs.AI', 'cs.LG'), ('cs.LG',), ('cs.AI', 'cs.CL'), ('cs.AI', 'cs.LG'), ('cs.AI', 'cs.RO'), ('cs.AI', 'cs.CL', 'cs.LG'), ('cs.IT',), ('cs.AI', 'cs.CV', 'cs.LG'), ('cs.CL', 'cs.LG'), ('cs.AI', 'cs.CR', 'cs.LG'), ('cs.IT',), ('cs.AI', 'cs.CL'), ('cs.IT', 'cs.LG'), ('cs.AI',), ('cs.AI', 'cs.HC'), ('cs.IT',), ('cs.IT',), ('cs.LG',), ('cs.CL',), ('cs.IT',), ('cs.CL', 'cs.LG'), ('cs.IT',), ('cs.LG',), ('cs.AI', 'cs.LG'), ('cs.AI', 'cs.CL', 'cs.LG'), ('cs.AI', 'cs.CL', 'cs.LG'), ('cs.AI', 'cs.IT'), ('cs.CR', 'cs.LG'), ('cs.AI', 'cs.CV', 'cs.LG'), ('cs.AI', 'cs.CV', 'cs.LG'), ('cs.IT',), ('cs.AI', 'cs.CV'), ('cs.AI',), ('cs.CR', 'cs.DC', 'cs.IT'), ('cs.AI', 'cs.CL', 'cs.LG'), ('cs.AI', 'cs.LG'), ('cs.AI', 'cs.LG'), ('cs.IT',), ('cs.AI', 'cs.LG'), ('cs.IT',), ('cs.IT',), ('cs.IT',), ('cs.AI', 'cs.LG'), ('cs.IT',), ('cs.CV', 'cs.LG'), ('cs.IT',), ('cs.AI', 'cs.CR', 'cs.LG'), ('cs.AI', 'cs.CV'), ('cs.IT',), ('cs.CL', 'cs.IT', 'cs.LG'), ('cs.IT',), ('cs.AI', 'cs.CL'), ('cs.AI', 'cs.CV', 'cs.LG', 'cs.RO'), ('cs.AI', 'cs.LG'), ('cs.AI',), ('cs.IT', 'cs.LG'), ('cs.IT',), ('cs.AI', 'cs.LG'), ('cs.LG', 'cs.SD'), ('cs.IT',), (), ('cs.LG',), ('cs.LG',), ('cs.IT', 'cs.LG'), ('cs.LG', 'cs.SD'), ('cs.CV', 'cs.LG'), ('cs.LG',), ('cs.LG',), ('cs.IT',), ('cs.AI', 'cs.CL', 'cs.LG'), ('cs.IT',), ('cs.IT',), ('cs.IT',), ('cs.AI',), ('cs.LG',), ('cs.IT',), ('cs.LG', 'cs.SI'), ('cs.AI', 'cs.LG'), ('cs.AI', 'cs.AR', 'cs.LG'), ('cs.LG',), ('cs.AI',), ('cs.AI', 'cs.LG'), ('cs.IT',), ('cs.AI', 'cs.LG'), ('cs.AI', 'cs.CV'), ('cs.AI', 'cs.IT'), ('cs.IT', 'cs.LG'), ('cs.AI', 'cs.IT'), ('cs.AI', 'cs.CL', 'cs.LG'), ('cs.IT',), ('cs.AI',), ('cs.IT',), ('cs.CV', 'cs.LG'), ('cs.AI', 'cs.CV', 'cs.LG'), ('cs.IT',), ('cs.AI', 'cs.LG'), ('cs.LG',), ('cs.IT',), ('cs.CL', 'cs.LG'), ('cs.AI', 'cs.LG'), ('cs.CV', 'cs.LG'), ('cs.LG',), ('cs.AI', 'cs.LG'), ('cs.AI', 'cs.CL', 'cs.LG'), ('cs.AI',), ('cs.AI', 'cs.LG'), ('cs.LG',), ('cs.LG',), ('cs.CV',), ('cs.AI', 'cs.CV'), ('cs.AI', 'cs.CV', 'cs.LG'), ('cs.LG',), ('cs.LG',), ('cs.CR', 'cs.IT'), ('cs.AI', 'cs.CV', 'cs.LG'), ('cs.AI', 'cs.LG'), ('cs.CL', 'cs.LG'), ('cs.IT', 'cs.LG'), ('cs.LG',), ('cs.AI', 'cs.CV'), ('cs.AI', 'cs.LG'), ('cs.CV', 'cs.LG'), ('cs.LG',), ('cs.AI', 'cs.CV', 'cs.LG'), ('cs.AI',), ('cs.AI',), ('cs.AI',), ('cs.AI',), ('cs.IT',), ('cs.AI', 'cs.CL', 'cs.HC'), ('cs.AI', 'cs.LG'), ('cs.AI', 'cs.CV', 'cs.LG'), ('cs.AI', 'cs.LG'), ('cs.IT',), ('cs.AI', 'cs.LG'), ('cs.IT',), ('cs.AI', 'cs.CL'), ('cs.LG',), ('cs.AI', 'cs.RO'), ('cs.AI',), ('cs.IT',), ('cs.LG',), ('cs.AI', 'cs.LG'), ('cs.AI', 'cs.CV', 'cs.LG'), ('cs.AI',), ('cs.CR', 'cs.IT'), ('cs.IT',), ('cs.AI', 'cs.CR', 'cs.LG'), ('cs.IT',), ('cs.IT',), ('cs.AI', 'cs.CL', 'cs.LG'), ('cs.AI', 'cs.LG', 'cs.RO'), ('cs.LG',), ('cs.CV', 'cs.LG'), ('cs.AI', 'cs.LG', 'cs.RO'), ('cs.AI', 'cs.CV', 'cs.LG'), ('cs.IT',), ('cs.IT',), ('cs.LG',), ('cs.AI', 'cs.CL', 'cs.LG'), ('cs.IT',), ('cs.IT',), ('cs.AI', 'cs.LG'), ('cs.IT',), ('cs.IT',), ('cs.IT', 'cs.LG'), ('cs.AI', 'cs.CL', 'cs.LG'), ('cs.AI', 'cs.LG'), ('cs.LG',), ('cs.IT',), ('cs.AI', 'cs.IT'), (), ('cs.IT',), ('cs.IT',), ('cs.LG', 'cs.SY'), ('cs.AI', 'cs.CL'), ('cs.AI', 'cs.IT'), ('cs.IT',), ('cs.LG', 'cs.SD'), ('cs.IT',), ('cs.AI', 'cs.CV', 'cs.LG'), ('cs.AI', 'cs.CV', 'cs.LG'), ('cs.AI', 'cs.LG'), ('cs.LG',), ('cs.LG',), ('cs.AI',), ('cs.IT', 'cs.NI'), ('cs.AI', 'cs.CL', 'cs.LG'), ('cs.LG',), ('cs.AI', 'cs.CV', 'cs.LG'), ('cs.LG',), ('cs.CR', 'cs.IT', 'cs.LG', 'cs.NI'), ('cs.CL', 'cs.LG'), ('cs.IT',), ('cs.AI', 'cs.CL', 'cs.LG'), ('cs.CV',), ('cs.AI', 'cs.CV', 'cs.LG'), ('cs.CV', 'cs.IR', 'cs.LG', 'cs.SD'), ('cs.LG',), ('cs.AI', 'cs.LG'), ('cs.IT',), ('cs.AI', 'cs.CL', 'cs.LG'), ('cs.IT',), ('cs.IT', 'cs.NI'), ('cs.IT',), ('cs.CR', 'cs.IT'), ('cs.AI',), ('cs.AI', 'cs.CV', 'cs.LG'), ('cs.CV', 'cs.LG'), ('cs.IT',), ('cs.AI', 'cs.LG'), ('cs.IT',), ('cs.AI', 'cs.CL'), ('cs.AI', 'cs.LG'), ('cs.AI', 'cs.CL', 'cs.CR'), ('cs.LG',), ('cs.AI', 'cs.CV', 'cs.LG'), ('cs.LG',), ('cs.LG',), ('cs.LG',), ('cs.AI',), ('cs.AI',), ('cs.IT',), ('cs.AI', 'cs.HC'), ('cs.AI', 'cs.CV', 'cs.LG'), ('cs.LG',), ('cs.AI', 'cs.LG'), ('cs.LG', 'cs.NI'), ('cs.LG',), ('cs.AI', 'cs.LG'), ('cs.AI', 'cs.CL', 'cs.LG'), ('cs.AI', 'cs.CV'), ('cs.LG',), ('cs.LG',), ('cs.AI', 'cs.SD'), ('cs.LG',), ('cs.LG', 'cs.NI'), ('cs.AI', 'cs.CR'), ('cs.IT',), ('cs.CV', 'cs.LG'), ('cs.CV',), ('cs.LG',), ('cs.AI', 'cs.LG', 'cs.RO'), ('cs.LG',), ('cs.IT',), ('cs.IT',), ('cs.AI', 'cs.CL'), ('cs.LG',), ('cs.AI',), ('cs.CR', 'cs.LG', 'cs.NI'), ('cs.CV',), ('cs.IT',), ('cs.AI', 'cs.LG', 'cs.NE'), ('cs.AI', 'cs.CV'), ('cs.AI', 'cs.RO'), ('cs.AI', 'cs.CV'), ('cs.LG',), ('cs.IT',), ('cs.AI', 'cs.CV', 'cs.LG'), ('cs.IT',), ('cs.IT',), ('cs.AI', 'cs.MA'), ('cs.IT', 'cs.LG'), ('cs.DC', 'cs.LG'), ('cs.IT', 'cs.LG'), ('cs.AI', 'cs.CY'), ('cs.CL', 'cs.LG'), ('cs.CL', 'cs.LG'), ('cs.IT',), ('cs.AI', 'cs.LG'), ('cs.CR', 'cs.IT', 'cs.LG'), ('cs.AI', 'cs.CV', 'cs.LG'), ('cs.LG',), ('cs.LG',), ('cs.AI', 'cs.CV', 'cs.LG'), ('cs.IT',), ('cs.AI', 'cs.CV'), ('cs.IT',), ('cs.AI', 'cs.LG', 'cs.RO'), ('cs.AI', 'cs.LG'), (), ('cs.AI', 'cs.CV', 'cs.LG'), ('cs.AI', 'cs.LG'), ('cs.AI', 'cs.LG'), ('cs.AI', 'cs.CL'), ('cs.LG',), ('cs.CR', 'cs.LG', 'cs.NI'), ('cs.AI', 'cs.LG'), ('cs.CL', 'cs.LG'), ('cs.IT',), ('cs.AI', 'cs.LG', 'cs.RO'), ('cs.AI',), ('cs.IT', 'cs.LG'), ('cs.AI', 'cs.CL', 'cs.LG'), ('cs.IT',), (), ('cs.IT',), ('cs.IT',), ('cs.CV', 'cs.LG'), ('cs.AI', 'cs.CR', 'cs.CV', 'cs.LG'), ('cs.LG',), ('cs.IT',), (), ('cs.AI', 'cs.LG'), ('cs.AI', 'cs.SY'), ('cs.IT',), ('cs.LG', 'cs.RO'), ('cs.AI', 'cs.LG'), ('cs.LG',), ('cs.LG',), ('cs.LG',), ('cs.AI', 'cs.LG'), ('cs.LG',), ('cs.CL', 'cs.LG'), ('cs.IT',), ('cs.IT',), ('cs.AI', 'cs.LG'), ('cs.AI', 'cs.CR', 'cs.LG'), ('cs.CV', 'cs.LG'), ('cs.IT',), ('cs.AI', 'cs.CV'), ('cs.AI', 'cs.LG'), ('cs.AI',), ('cs.LG',), ('cs.LG',), ('cs.AI', 'cs.CV', 'cs.LG'), ('cs.AI',), ('cs.LG',), ('cs.AI', 'cs.CV'), ('cs.LG',), ('cs.AI', 'cs.CL', 'cs.LG', 'cs.SD'), ('cs.LG',), ('cs.AI', 'cs.LG'), ('cs.AI', 'cs.LG'), ('cs.CV', 'cs.LG'), ('cs.AI', 'cs.CV'), ('cs.AI', 'cs.LG'), ('cs.LG',), ('cs.AI', 'cs.LG'), ('cs.LG',), ('cs.LG',), ('cs.AI', 'cs.LG'), ('cs.LG',), ('cs.AI', 'cs.CV', 'cs.LG'), ('cs.IT', 'cs.NI'), ('cs.LG',), ('cs.IT',), ('cs.IT',), ('cs.CV', 'cs.LG'), ('cs.IT',), ('cs.IT',), ('cs.IT', 'cs.LG'), ('cs.AI', 'cs.LG'), ('cs.AI', 'cs.LG'), ('cs.AI', 'cs.LG'), ('cs.AI',), ('cs.AI', 'cs.CV'), ('cs.AI', 'cs.CV', 'cs.LG', 'cs.RO'), ('cs.LG',), ('cs.AI',), ('cs.LG', 'cs.NE'), ('cs.IT',), ('cs.LG',), ('cs.CV', 'cs.LG'), ('cs.IT',), ('cs.IT', 'cs.LG', 'cs.NI'), ('cs.LG',), ('cs.AI', 'cs.CL', 'cs.CV'), ('cs.IT',), ('cs.AI', 'cs.LG', 'cs.SD'), ('cs.CR', 'cs.IT'), ('cs.LG',), ('cs.AI', 'cs.LG'), ('cs.IT',), ('cs.IT',), ('cs.AI', 'cs.CV', 'cs.LG'), ('cs.AI', 'cs.LG'), ('cs.IT',), ('cs.AI', 'cs.CV'), ('cs.IT', 'cs.LG'), ('cs.AI', 'cs.LG'), ('cs.AI', 'cs.CY', 'cs.LG'), (), ('cs.AI', 'cs.LG'), ('cs.AI', 'cs.CL'), ('cs.AI', 'cs.CV', 'cs.LG'), ('cs.AI', 'cs.LG'), ('cs.AI', 'cs.CV', 'cs.LG'), ('cs.LG',), ('cs.LG',), ('cs.LG',), ('cs.AI', 'cs.CV', 'cs.LG'), ('cs.IT',), ('cs.LG',), ('cs.IT',), ('cs.AI', 'cs.LG'), ('cs.IT',), ('cs.AI', 'cs.LO'), ('cs.AI', 'cs.LG'), ('cs.AI', 'cs.LG'), ('cs.AI', 'cs.CV', 'cs.LG'), ('cs.AI', 'cs.CV'), ('cs.LG',), ('cs.AI', 'cs.CL'), ('cs.LG',), ('cs.AI',), ('cs.IT',), ('cs.CR', 'cs.LG'), ('cs.AI', 'cs.CL'), ('cs.AI', 'cs.LG'), ('cs.AI', 'cs.CV', 'cs.LG'), ('cs.AI', 'cs.CV', 'cs.LG'), ('cs.LG', 'cs.NE'), ('cs.IT',), ('cs.SE',), ('cs.AI', 'cs.CR', 'cs.CV', 'cs.LG'), ('cs.AI', 'cs.CV', 'cs.LG'), ('cs.AI',), ('cs.LG',), ('cs.AI', 'cs.CV'), ('cs.LG',), ('cs.LG',), ('cs.IT',), ('cs.LG',), ('cs.LG',), ('cs.AI', 'cs.CY'), ('cs.IT',), ('cs.LG',), ('cs.AI', 'cs.CV'), ('cs.IT',), ('cs.AI', 'cs.SE'), ('cs.CV', 'cs.LG'), ('cs.AI', 'cs.LG'), ('cs.IT',), ('cs.IT',), ('cs.CV', 'cs.LG'), ('cs.IT',), ('cs.AI', 'cs.LG'), ('cs.AI', 'cs.CL'), ('cs.AI', 'cs.CL'), ('cs.AI', 'cs.LG'), ('cs.IT',), ('cs.CL', 'cs.LG'), ('cs.AI', 'cs.LG'), ('cs.AI', 'cs.CL'), ('cs.LG',), ('cs.LG',), ('cs.AI', 'cs.LG'), ('cs.CL', 'cs.LG'), ('cs.AI', 'cs.CV', 'cs.LG'), ('cs.CV', 'cs.LG'), ('cs.AI', 'cs.CV'), ('cs.IT',), ('cs.CR', 'cs.IT', 'cs.LG'), ('cs.LG',), ('cs.AI', 'cs.CV', 'cs.LG'), ('cs.AI', 'cs.CV', 'cs.LG'), ('cs.CV',), ('cs.AI', 'cs.CY'), ('cs.IT',), ('cs.AI', 'cs.LG'), ('cs.CV', 'cs.LG'), ('cs.LG',), ('cs.IT',), ('cs.IT',), ('cs.AI', 'cs.CL'), ('cs.IT',), ('cs.AI', 'cs.LG', 'cs.RO'), ('cs.AI', 'cs.CL'), ('cs.AI', 'cs.CR', 'cs.LG'), ('cs.AI', 'cs.CV'), ('cs.IT',), ('cs.AI', 'cs.LG'), ('cs.AI', 'cs.LG'), ('cs.AI', 'cs.LG'), ('cs.IT',), ('cs.AI', 'cs.LG'), ('cs.AI', 'cs.LG'), ('cs.CR', 'cs.LG'), ('cs.IT',), ('cs.IT',), ('cs.IT',), ('cs.AI', 'cs.CL', 'cs.LG'), ('cs.IT', 'cs.LG'), ('cs.SE',), ('cs.AI', 'cs.CL'), ('cs.LG',), (), ('cs.AI',), ('cs.CL', 'cs.LG'), ('cs.AI', 'cs.CV', 'cs.LG'), ('cs.AI',), ('cs.IT',), ('cs.AI', 'cs.CL', 'cs.LG'), ('cs.IT',), ('cs.AI', 'cs.LG'), ('cs.LG',), ('cs.IT',), ('cs.AI', 'cs.CY', 'cs.LG', 'cs.SI'), ('cs.AI',), ('cs.LG',), ('cs.IT',), ('cs.AI', 'cs.CR', 'cs.LG'), ('cs.LG',), ('cs.LG',), ('cs.AI', 'cs.CL', 'cs.LG'), ('cs.LG',), ('cs.AI',), ('cs.AI', 'cs.CY'), ('cs.AI', 'cs.CV'), ('cs.AI', 'cs.CV', 'cs.LG'), (), ('cs.AI', 'cs.RO'), ('cs.IT',), ('cs.AI', 'cs.IR'), ('cs.CV', 'cs.LG'), ('cs.AI', 'cs.CL', 'cs.LG'), ('cs.AI', 'cs.LG'), ('cs.AI', 'cs.CL'), ('cs.IT',), ('cs.LG',), ('cs.AI', 'cs.CV', 'cs.LG'), ('cs.AI', 'cs.LG', 'cs.NE'), ('cs.IT', 'cs.NI'), ('cs.AI', 'cs.LG'), ('cs.AI', 'cs.LG'), ('cs.CR', 'cs.IT'), ('cs.IT',), ('cs.CV', 'cs.LG'), ('cs.LG',), ('cs.IT', 'cs.LG'), ('cs.AI', 'cs.CV', 'cs.LG'), ('cs.AI', 'cs.LG'), ('cs.AI',), ('cs.AI', 'cs.LG'), ('cs.LG',), ('cs.LG',), ('cs.IT',), ('cs.IT', 'cs.LG', 'cs.NI'), ('cs.IT',), ('cs.AI', 'cs.CV'), ('cs.AI',), ('cs.LG',), ('cs.AI', 'cs.IT'), ('cs.AI', 'cs.LG'), ('cs.AI', 'cs.CV'), ('cs.AI', 'cs.HC'), ('cs.LG',), ('cs.AI', 'cs.LG'), ('cs.LG',), ('cs.CV', 'cs.LG'), ('cs.IT',), ('cs.AI', 'cs.LG'), ('cs.AI', 'cs.LG'), ('cs.AI', 'cs.CV', 'cs.LG'), ('cs.AI', 'cs.LG'), ('cs.AI', 'cs.LG'), ('cs.CV', 'cs.LG'), ('cs.IT',), ('cs.IT',), ('cs.IT',), ('cs.IT',), ('cs.LG',), ('cs.AI', 'cs.CL', 'cs.CV'), ('cs.AI', 'cs.LG'), ('cs.AI',), (), ('cs.CV', 'cs.LG'), ('cs.IT',), ('cs.LG',), ('cs.IT',), ('cs.AI', 'cs.CL', 'cs.LG'), ('cs.AI', 'cs.CV'), ('cs.AI', 'cs.CL', 'cs.LG'), ('cs.CV', 'cs.LG'), ('cs.LG',), ('cs.IT',), ('cs.IT',), ('cs.AI', 'cs.CV', 'cs.LG'), ('cs.AI', 'cs.CY', 'cs.LG'), (), ('cs.AI', 'cs.RO'), ('cs.AI',), ('cs.IT',), ('cs.LG',), ('cs.AI', 'cs.LG', 'cs.RO'), ('cs.AI', 'cs.CV', 'cs.LG', 'cs.RO'), ('cs.CV', 'cs.LG'), ('cs.LG',), ('cs.AI',), ('cs.LG',), ('cs.AI', 'cs.CL', 'cs.CY'), ('cs.AI', 'cs.LG', 'cs.RO'), ('cs.CV', 'cs.LG'), ('cs.AI', 'cs.MA', 'cs.RO'), ('cs.LG',), ('cs.AI', 'cs.LG', 'cs.RO'), ('cs.AI', 'cs.CV', 'cs.LG'), ('cs.LG',), ('cs.CR', 'cs.LG'), ('cs.IT', 'cs.LG'), ('cs.AI', 'cs.LG'), ('cs.AI', 'cs.CL'), ('cs.LG',), ('cs.AI', 'cs.CV'), ('cs.AI', 'cs.LG'), ('cs.AI', 'cs.CL', 'cs.LG', 'cs.SD'), ('cs.IT',), ('cs.AI', 'cs.CL'), ('cs.IT',), ('cs.AI', 'cs.LG'), ('cs.AI', 'cs.CV', 'cs.LG', 'cs.RO'), (), ('cs.CV', 'cs.LG'), ('cs.AI', 'cs.CV', 'cs.LG'), ('cs.IT',), ('cs.AI', 'cs.CL', 'cs.LG'), ('cs.IT',), ('cs.AI', 'cs.LG'), ('cs.AI', 'cs.CV'), ('cs.AI', 'cs.CL'), ('cs.AI', 'cs.CV', 'cs.LG'), ('cs.LG',), ('cs.AI', 'cs.CL'), ('cs.AI', 'cs.CV'), ('cs.IT',), ('cs.AI',), ('cs.AI', 'cs.HC', 'cs.NI'), ('cs.AI',), ('cs.AI', 'cs.SD'), ('cs.AI', 'cs.CL'), ('cs.AI', 'cs.LG'), ('cs.IT',), ('cs.AI', 'cs.LG'), ('cs.IT',), ('cs.AI', 'cs.LG', 'cs.RO'), ('cs.LG',), ('cs.AI', 'cs.LG'), (), ('cs.CR', 'cs.IT'), ('cs.AI', 'cs.CL'), ('cs.AI',), ('cs.AI', 'cs.CY'), ('cs.IT',), ('cs.LG',), ('cs.IT',), ('cs.AI', 'cs.LG'), ('cs.AI', 'cs.CV'), ('cs.IT',), ('cs.LG',), ('cs.AI', 'cs.CV', 'cs.LG'), ('cs.AI',), ('cs.AI', 'cs.LG'), ('cs.AI', 'cs.LG'), ('cs.CR', 'cs.IT'), ('cs.CR', 'cs.IT'), ('cs.AI', 'cs.RO'), ('cs.CV', 'cs.LG'), ('cs.IT',), ('cs.IT',), ('cs.CV', 'cs.LG'), ('cs.IT',), ('cs.AI',), ('cs.AI', 'cs.CV'), ('cs.AI', 'cs.CL'), ('cs.AI', 'cs.CV', 'cs.LG'), ('cs.LG',), ('cs.LG',), ('cs.AI', 'cs.LG'), ('cs.AI', 'cs.CL', 'cs.LG'), ('cs.GT', 'cs.LG', 'cs.MA'), ('cs.AI', 'cs.RO'), ('cs.CL', 'cs.LG'), ('cs.AI', 'cs.LG'), ('cs.AI', 'cs.CR', 'cs.LG'), ('cs.CV', 'cs.LG'), ('cs.IT',), ('cs.AI', 'cs.CR', 'cs.LG'), ('cs.LG',), ('cs.IT',), ('cs.AI', 'cs.LG'), ('cs.LG',), ('cs.IT',), ('cs.AI', 'cs.CL', 'cs.SD'), ('cs.AI', 'cs.LG', 'cs.LO'), ('cs.AI', 'cs.CL', 'cs.LG'), ('cs.IT',), ('cs.IT', 'cs.LG'), ('cs.AI', 'cs.DC'), ('cs.LG', 'cs.NE'), ('cs.AI', 'cs.LG'), ('cs.AI', 'cs.CL', 'cs.LG'), ('cs.LG',), ('cs.AI', 'cs.LG'), ('cs.AI', 'cs.LG', 'cs.RO', 'cs.SY'), ('cs.AI', 'cs.CV', 'cs.LG'), ('cs.IT', 'cs.LG'), ('cs.AI', 'cs.CL', 'cs.LG'), ('cs.DC', 'cs.IT'), ('cs.AI', 'cs.CV', 'cs.LG'), ('cs.LG',), ('cs.AI',), ('cs.AI', 'cs.CL'), ('cs.AI', 'cs.CL'), ('cs.IT',), ('cs.AI', 'cs.CL'), ('cs.AI',), ('cs.AI', 'cs.LG'), ('cs.DC', 'cs.LG'), (), ('cs.IT',)]\n"
          ]
        }
      ]
    },
    {
      "cell_type": "code",
      "source": [
        "from sklearn.metrics import classification_report, confusion_matrix\n",
        "from sklearn.metrics import f1_score\n",
        "print(classification_report(y_true = y_test, y_pred = y_pred, target_names = labels_list))\n",
        "\n",
        "micro_f1 = f1_score(y_true = y_test, y_pred = y_pred, average='micro')\n",
        "print('Micro-F1 Score: {:.4f}'.format(micro_f1))"
      ],
      "metadata": {
        "colab": {
          "base_uri": "https://localhost:8080/"
        },
        "id": "WsCFU6j335sg",
        "outputId": "e1e35f83-ea79-46a7-e2a0-11b46c0424d3"
      },
      "execution_count": null,
      "outputs": [
        {
          "output_type": "stream",
          "name": "stdout",
          "text": [
            "              precision    recall  f1-score   support\n",
            "\n",
            "       cs.AI       0.69      0.69      0.69      1891\n",
            "       cs.AR       0.86      0.25      0.39        24\n",
            "       cs.CC       0.00      0.00      0.00        17\n",
            "       cs.CE       0.00      0.00      0.00        11\n",
            "       cs.CG       0.00      0.00      0.00         2\n",
            "       cs.CL       0.86      0.70      0.77       454\n",
            "      cs.CL,       0.00      0.00      0.00         0\n",
            "       cs.CR       0.71      0.57      0.63       186\n",
            "       cs.CV       0.80      0.74      0.77       666\n",
            "       cs.CY       0.58      0.27      0.37        93\n",
            "       cs.DB       0.75      0.10      0.18        30\n",
            "       cs.DC       0.70      0.25      0.37        84\n",
            "       cs.DL       0.00      0.00      0.00         2\n",
            "       cs.DM       0.00      0.00      0.00        17\n",
            "       cs.DS       0.67      0.05      0.09        40\n",
            "       cs.ET       0.00      0.00      0.00        13\n",
            "       cs.FL       1.00      0.25      0.40         4\n",
            "       cs.GL       0.00      0.00      0.00         1\n",
            "       cs.GR       0.33      0.08      0.13        25\n",
            "       cs.GT       0.77      0.32      0.45        31\n",
            "       cs.HC       0.70      0.24      0.36        78\n",
            "       cs.IR       0.77      0.37      0.50       108\n",
            "       cs.IT       0.94      0.89      0.92      1120\n",
            "       cs.LG       0.78      0.79      0.78      2191\n",
            "       cs.LO       0.70      0.22      0.33        32\n",
            "       cs.MA       0.68      0.38      0.48        61\n",
            "       cs.MM       0.67      0.07      0.12        29\n",
            "       cs.MS       0.00      0.00      0.00         1\n",
            "       cs.NA       0.00      0.00      0.00        24\n",
            "       cs.NE       0.71      0.24      0.35        93\n",
            "       cs.NI       0.37      0.24      0.29        80\n",
            "       cs.OH       0.00      0.00      0.00         1\n",
            "       cs.OS       0.00      0.00      0.00         0\n",
            "       cs.PF       0.00      0.00      0.00        14\n",
            "       cs.PL       0.43      0.14      0.21        22\n",
            "       cs.RO       0.76      0.57      0.65       188\n",
            "       cs.SC       0.00      0.00      0.00         8\n",
            "       cs.SD       0.93      0.54      0.68        76\n",
            "       cs.SE       0.76      0.34      0.47        56\n",
            "       cs.SI       0.69      0.13      0.21        71\n",
            "       cs.SY       0.33      0.07      0.12        69\n",
            "       cs.cc       0.00      0.00      0.00         0\n",
            "\n",
            "   micro avg       0.78      0.68      0.72      7913\n",
            "   macro avg       0.45      0.23      0.28      7913\n",
            "weighted avg       0.76      0.68      0.70      7913\n",
            " samples avg       0.80      0.74      0.74      7913\n",
            "\n",
            "Micro-F1 Score: 0.7219\n"
          ]
        },
        {
          "output_type": "stream",
          "name": "stderr",
          "text": [
            "/usr/local/lib/python3.10/dist-packages/sklearn/metrics/_classification.py:1344: UndefinedMetricWarning: Precision and F-score are ill-defined and being set to 0.0 in labels with no predicted samples. Use `zero_division` parameter to control this behavior.\n",
            "  _warn_prf(average, modifier, msg_start, len(result))\n",
            "/usr/local/lib/python3.10/dist-packages/sklearn/metrics/_classification.py:1344: UndefinedMetricWarning: Recall and F-score are ill-defined and being set to 0.0 in labels with no true samples. Use `zero_division` parameter to control this behavior.\n",
            "  _warn_prf(average, modifier, msg_start, len(result))\n",
            "/usr/local/lib/python3.10/dist-packages/sklearn/metrics/_classification.py:1344: UndefinedMetricWarning: Precision and F-score are ill-defined and being set to 0.0 in samples with no predicted labels. Use `zero_division` parameter to control this behavior.\n",
            "  _warn_prf(average, modifier, msg_start, len(result))\n"
          ]
        }
      ]
    },
    {
      "cell_type": "markdown",
      "source": [
        "# For transformers"
      ],
      "metadata": {
        "id": "CPLeHixl0-sT"
      }
    },
    {
      "cell_type": "code",
      "source": [
        "MAX_SEQ_LEN = 256"
      ],
      "metadata": {
        "id": "mqath_KiIYMk"
      },
      "execution_count": null,
      "outputs": []
    },
    {
      "cell_type": "code",
      "source": [
        "df[\"categories\"] = df[\"categories\"] .apply(lambda x: x.split() if isinstance(x, str) else x)"
      ],
      "metadata": {
        "id": "i49OQFYNMYZ_"
      },
      "execution_count": null,
      "outputs": []
    },
    {
      "cell_type": "markdown",
      "metadata": {
        "id": "JfzuFEgACB-Z"
      },
      "source": [
        "Cargamos cada split en un dataframe distinto. Estos dataframe serán transformados en objetos Dataset y usados para construir un DatasetDict que albergue los tres splits de forma conjunta:"
      ]
    },
    {
      "cell_type": "code",
      "source": [
        "from sklearn.model_selection import train_test_split\n",
        "\n",
        "X_training, X_test, y_training, y_test = train_test_split(df[['title','abstract','categories']], df['categories'], random_state=42, train_size = .80)\n",
        "\n",
        "X_train, X_val, y_train, y_val = train_test_split(X_training, y_training, random_state=42, train_size = .80)\n",
        "\n",
        "\n",
        "print('tamaño del conjunto de entrenamiento: ', X_train.shape)\n",
        "print('tamaño del conjunto de validación: ', X_val.shape)\n",
        "print('tamaño del conjunto de test: ', X_test.shape)"
      ],
      "metadata": {
        "colab": {
          "base_uri": "https://localhost:8080/"
        },
        "id": "1kZwK9DNW-Jr",
        "outputId": "8c8cd0db-311b-405a-df72-7a1d8eae209c"
      },
      "execution_count": null,
      "outputs": [
        {
          "output_type": "stream",
          "name": "stdout",
          "text": [
            "tamaño del conjunto de entrenamiento:  (12800, 3)\n",
            "tamaño del conjunto de validación:  (3200, 3)\n",
            "tamaño del conjunto de test:  (4000, 3)\n"
          ]
        }
      ]
    },
    {
      "cell_type": "code",
      "source": [
        "X_train['abstract'] = X_train['abstract'].fillna('')\n",
        "X_val['abstract'] = X_val['abstract'].fillna('')\n",
        "X_test['abstract'] = X_test['abstract'].fillna('')"
      ],
      "metadata": {
        "id": "oN7A38y9dp9s"
      },
      "execution_count": null,
      "outputs": []
    },
    {
      "cell_type": "code",
      "execution_count": null,
      "metadata": {
        "id": "sxS_XI_kCCOP"
      },
      "outputs": [],
      "source": [
        "df_train = X_train\n",
        "df_dev = X_val\n",
        "df_test = X_test"
      ]
    },
    {
      "cell_type": "markdown",
      "metadata": {
        "id": "tcedvl1sqvFI"
      },
      "source": [
        "Ahora ya podemos transformar los tres dataframes a objetos Dataset y crear el objeto DatasetDict, que nos facilitará procesar y pasar los datos al modelo transformer:"
      ]
    },
    {
      "cell_type": "code",
      "execution_count": null,
      "metadata": {
        "colab": {
          "base_uri": "https://localhost:8080/"
        },
        "id": "x4HJQdRB0srZ",
        "outputId": "00e407f8-90f2-4b83-f454-da001e229eca"
      },
      "outputs": [
        {
          "output_type": "execute_result",
          "data": {
            "text/plain": [
              "DatasetDict({\n",
              "    train: Dataset({\n",
              "        features: ['title', 'abstract', 'categories', '__index_level_0__'],\n",
              "        num_rows: 12800\n",
              "    })\n",
              "    validation: Dataset({\n",
              "        features: ['title', 'abstract', 'categories', '__index_level_0__'],\n",
              "        num_rows: 3200\n",
              "    })\n",
              "    test: Dataset({\n",
              "        features: ['title', 'abstract', 'categories', '__index_level_0__'],\n",
              "        num_rows: 4000\n",
              "    })\n",
              "})"
            ]
          },
          "metadata": {},
          "execution_count": 81
        }
      ],
      "source": [
        "# de dataframes a dataset\n",
        "from datasets import DatasetDict, Dataset\n",
        "dict_dataset= DatasetDict()\n",
        "dict_dataset['train'] = Dataset.from_pandas(df_train )\n",
        "dict_dataset['validation'] = Dataset.from_pandas(df_dev)\n",
        "dict_dataset['test'] = Dataset.from_pandas(df_test)\n",
        "\n",
        "\n",
        "dict_dataset\n"
      ]
    },
    {
      "cell_type": "code",
      "source": [
        "if 'uncased' in model_name:\n",
        "        do_lower_case = True\n",
        "else:\n",
        "        do_lower_case = False\n",
        "\n",
        "from transformers import AutoTokenizer\n",
        "tokenizer = AutoTokenizer.from_pretrained(model_name, do_lower_case=do_lower_case)"
      ],
      "metadata": {
        "colab": {
          "base_uri": "https://localhost:8080/",
          "height": 113,
          "referenced_widgets": [
            "1276a2ce31774cd082a196c8a897f562",
            "eacfd6c0a17f457d85221f66a380a424",
            "5186132e63b048c0a317a609125ec6cf",
            "dd348a4c3cae4c61a9075195eaab5ce3",
            "493246b0fd884d4abfa0fc7e24a4d60b",
            "f6d3d409afa64760a834ee15518f1007",
            "4618ce6c13f34f99ae7f395a772867d3",
            "6bf44e16b5ac4d428a62904d49548e40",
            "255fee846e6e4366bb62e68eed299deb",
            "b689bd59a3234c9790a1e1f86146cb7d",
            "52a77a930fd04f43a23de1f8eb88990c",
            "344adfecda1245818e512a823b408481",
            "c69f72ccbd764fee9869f791afabc5ef",
            "d20813eade6b441da64a9f11fd3efe58",
            "f9e980af64c248dbb731518bd0eed12c",
            "cde56f304d68400db2f3134e9f2d5678",
            "335674de88fa4b3bb45bfd464608daad",
            "af9db76490a6423484c68f750b06279f",
            "58e04191d8d84b9d9abbf3bc2b1f0db3",
            "ff1d529e23e9483bbcc2eba7f233a891",
            "34988aea76d743e380c6b53ca83f2cce",
            "5ecddaafa11743eda0c3ae46cdc683f5",
            "2aa6f77ff1f44193a59dae7841903525",
            "477f3e3627494ac1a3b48568c9ba0aed",
            "63faa433caa041ebbc6e3fe35de79a0f",
            "7bdfd3745f694b6990d52a21c9e12d3c",
            "b246265fd9a547fdb300ee32b15abdf0",
            "2da1cda9b90b446e948b1e9ca7dc4256",
            "80d4534f4dae4aa5a3e8cd5727137c3b",
            "65c7ba620eef4bfe85dc7e31028dec9f",
            "8defb871d6cc4924bc6b14ed20aadc4c",
            "a1632649a9604cd6b9565d64c24085c0",
            "585ac4fd137f4785a3b96fbc0e9f2cb9"
          ]
        },
        "id": "yCuKkOrFSShx",
        "outputId": "1996088e-402a-49fa-bd09-5aae0af1a983"
      },
      "execution_count": null,
      "outputs": [
        {
          "output_type": "display_data",
          "data": {
            "text/plain": [
              "config.json:   0%|          | 0.00/760 [00:00<?, ?B/s]"
            ],
            "application/vnd.jupyter.widget-view+json": {
              "version_major": 2,
              "version_minor": 0,
              "model_id": "1276a2ce31774cd082a196c8a897f562"
            }
          },
          "metadata": {}
        },
        {
          "output_type": "display_data",
          "data": {
            "text/plain": [
              "spiece.model:   0%|          | 0.00/798k [00:00<?, ?B/s]"
            ],
            "application/vnd.jupyter.widget-view+json": {
              "version_major": 2,
              "version_minor": 0,
              "model_id": "344adfecda1245818e512a823b408481"
            }
          },
          "metadata": {}
        },
        {
          "output_type": "display_data",
          "data": {
            "text/plain": [
              "tokenizer.json:   0%|          | 0.00/1.38M [00:00<?, ?B/s]"
            ],
            "application/vnd.jupyter.widget-view+json": {
              "version_major": 2,
              "version_minor": 0,
              "model_id": "2aa6f77ff1f44193a59dae7841903525"
            }
          },
          "metadata": {}
        }
      ]
    },
    {
      "cell_type": "code",
      "source": [
        "\n",
        "\n",
        "def tokenize_example(examples):\n",
        "    tokenized_output = tokenizer(\n",
        "        examples[\"abstract\"],\n",
        "        padding=\"max_length\",\n",
        "        return_tensors=\"np\",\n",
        "        max_length=MAX_SEQ_LEN,\n",
        "        truncation=True\n",
        "    )\n",
        "\n",
        "\n",
        "\n",
        "    labels = examples[\"categories\"]\n",
        "\n",
        "\n",
        "    return {\n",
        "        \"input_ids\": tokenized_output[\"input_ids\"].tolist(),\n",
        "        \"attention_mask\": tokenized_output[\"attention_mask\"].tolist(),\n",
        "        \"labels\": mlb.transform(labels),\n",
        "    }\n",
        "\n",
        "\n",
        "print(\"Original Abstract:\")\n",
        "print(dict_dataset[\"train\"][0][\"abstract\"])\n",
        "tokenized_dataset = dict_dataset.map(\n",
        "    tokenize_example,\n",
        "    batched=True,\n",
        "    remove_columns=[\"abstract\", \"categories\"]\n",
        ")\n",
        "print(\"Tokenized Abstract:\")\n",
        "print(tokenized_dataset[\"train\"][0][\"input_ids\"])"
      ],
      "metadata": {
        "colab": {
          "base_uri": "https://localhost:8080/",
          "height": 202,
          "referenced_widgets": [
            "6d454dbac3bb479db85ddb66e13cf273",
            "d5859f5305824ed0b8fb235d610c6df0",
            "608b56e1c93547afb16dc7268d47b0b9",
            "2b761515117a4d1580f0e7bdea097fa9",
            "7af5534286e442a5a880dca9cf1f0c43",
            "5d444802573c4f5598c5cb8a7833c17a",
            "4d4076e29e4e432fab8d8697a0c2e242",
            "fe96139d448943889b51ad932311e5e1",
            "99640ad42d6542e5ab878ebe3a3b32c0",
            "9fb3f11ffc6547e0b600de68e33da67a",
            "0f3b0ed102974ef5848af24ad82170ec",
            "893b8c0024bb4546ba467bbdf02d4b48",
            "af8c840a01734c979936c43fcb9990b1",
            "c1f2a069579445d2b99ecc74c2d963ab",
            "5f21c5efe4c845769d8167a91c6ea94f",
            "abaa1e362ce04f1f9142b8c6b792fb5b",
            "b42aa1403d9046c3978cb8108241b838",
            "d2a7d56572a74edc9aa6f617dec6a154",
            "8939005e7ec34dee95f44e9f59dfa39e",
            "b502d2627d50449e9f8b50c96a3a7009",
            "1c5971bb08cb449dabf9b9e4ef2103be",
            "2ba0ff63ea7c447285476380f6e0e2e6",
            "af2bf40e0ee149728cc2af4fa4852b39",
            "6b50241e4b704cfdbcf7d12cee0554fd",
            "40fcc8875314402c87ccbc3e5808a5a6",
            "7d390e2e041e4f21b794cf73aaa31de4",
            "8e1e733a6f6c4b17a949476f332c9f25",
            "51f0fcae58f84b1a8e00f04e9bb6df94",
            "1c5425e54d1c40dba599d43617d0a9eb",
            "93e9fa3a865d4a9a8f57028504cb800a",
            "16acd1a010a045eaa426f45564e8fdf1",
            "1cbc0d850ac64e65b17914ef4d54832f",
            "db8fabc5ab0a46af8324645ccd86e07a"
          ]
        },
        "id": "jMWpvomMHomb",
        "outputId": "3f1e77ab-8a2d-4d74-a52a-d232cf57246c"
      },
      "execution_count": null,
      "outputs": [
        {
          "output_type": "stream",
          "name": "stdout",
          "text": [
            "Original Abstract:\n",
            "The demand of high-resolution video contents has grown over the years. However, the delivery of high-resolution video is constrained by either computational resources required for rendering or network bandwidth for remote transmission. To remedy this limitation, we leverage the eye trackers found alongside existing augmented and virtual reality headsets. We propose the application of video super-resolution (VSR) technique to fuse low-resolution context with regional high-resolution context for resource-constrained consumption of high-resolution content without perceivable drop in quality. Eye trackers provide us the gaze direction of a user, aiding us in the extraction of the regional high-resolution context. As only pixels that falls within the gaze region can be resolved by the human eye, a large amount of the delivered content is redundant as we can't perceive the difference in quality of the region beyond the observed region. To generate a visually pleasing frame from the fusion of high-resolution region and low-resolution region, we study the capability of a deep neural network of transferring the context of the observed region to other regions (low-resolution) of the current and future frames. We label this task a Foveated Video Super-Resolution (FVSR), as we need to super-resolve the low-resolution regions of current and future frames through the fusion of pixels from the gaze region. We propose Cross-Resolution Flow Propagation (CRFP) for FVSR. We train and evaluate CRFP on REDS dataset on the task of 8x FVSR, i.e. a combination of 8x VSR and the fusion of foveated region. Departing from the conventional evaluation of per frame quality using SSIM or PSNR, we propose the evaluation of past foveated region, measuring the capability of a model to leverage the noise present in eye trackers during FVSR. Code is made available at https://github.com/eugenelet/CRFP.\n"
          ]
        },
        {
          "output_type": "display_data",
          "data": {
            "text/plain": [
              "Map:   0%|          | 0/12800 [00:00<?, ? examples/s]"
            ],
            "application/vnd.jupyter.widget-view+json": {
              "version_major": 2,
              "version_minor": 0,
              "model_id": "6d454dbac3bb479db85ddb66e13cf273"
            }
          },
          "metadata": {}
        },
        {
          "output_type": "display_data",
          "data": {
            "text/plain": [
              "Map:   0%|          | 0/3200 [00:00<?, ? examples/s]"
            ],
            "application/vnd.jupyter.widget-view+json": {
              "version_major": 2,
              "version_minor": 0,
              "model_id": "893b8c0024bb4546ba467bbdf02d4b48"
            }
          },
          "metadata": {}
        },
        {
          "output_type": "display_data",
          "data": {
            "text/plain": [
              "Map:   0%|          | 0/4000 [00:00<?, ? examples/s]"
            ],
            "application/vnd.jupyter.widget-view+json": {
              "version_major": 2,
              "version_minor": 0,
              "model_id": "af2bf40e0ee149728cc2af4fa4852b39"
            }
          },
          "metadata": {}
        },
        {
          "output_type": "stream",
          "name": "stdout",
          "text": [
            "Tokenized Abstract:\n",
            "[32, 1480, 20, 227, 13, 26590, 894, 7957, 51, 3521, 95, 18, 123, 9, 476, 19, 18, 2571, 20, 227, 13, 26590, 894, 27, 29141, 37, 725, 23228, 1485, 978, 28, 17202, 49, 1090, 16780, 28, 3851, 5795, 9, 324, 13950, 52, 16476, 19, 80, 11757, 18, 1715, 1272, 270, 255, 4253, 2166, 18339, 68, 21, 5411, 2767, 3303, 4667, 9, 169, 12797, 18, 1479, 20, 894, 2653, 13, 26590, 17, 10, 1142, 12192, 11, 5088, 22, 17, 17759, 599, 13, 26590, 3773, 33, 1736, 227, 13, 26590, 3773, 28, 3991, 13, 10874, 14431, 5427, 20, 227, 13, 26590, 1286, 286, 451, 1138, 5510, 386, 1907, 25, 882, 9, 13011, 1272, 270, 444, 211, 18, 4817, 2070, 20, 24, 1930, 19, 1443, 56, 211, 25, 18, 20597, 20, 18, 1736, 227, 13, 26590, 3773, 9, 228, 114, 14604, 23, 29, 5439, 364, 18, 4817, 653, 64, 39, 7483, 37, 18, 594, 1715, 19, 24, 392, 1065, 20, 18, 3182, 1286, 27, 25732, 34, 80, 64, 26, 46, 18530, 18, 2122, 25, 882, 20, 18, 653, 1756, 18, 4887, 653, 9, 324, 5324, 24, 19849, 23282, 4240, 40, 18, 17, 9427, 20, 227, 13, 26590, 653, 21, 599, 13, 26590, 653, 19, 80, 757, 18, 8557, 20, 24, 1429, 23699, 1090, 20, 17274, 18, 3773, 20, 18, 4887, 653, 22, 86, 3594, 17, 10, 2637, 13, 26590, 11, 20, 18, 604, 21, 623, 13013, 9, 169, 3772, 52, 2578, 24, 8043, 189, 2120, 6733, 2173, 13, 2564, 29510, 17, 10, 847, 1142, 12192, 11, 19, 4, 3]\n"
          ]
        }
      ]
    },
    {
      "cell_type": "code",
      "source": [
        "print(tokenized_dataset[\"train\"][\"labels\"][:1])\n",
        "mlb.inverse_transform(np.array(tokenized_dataset[\"train\"][\"labels\"][:1]))"
      ],
      "metadata": {
        "colab": {
          "base_uri": "https://localhost:8080/"
        },
        "id": "1d4C8K6LONjo",
        "outputId": "2b7dbf32-f780-4fca-aabd-ba7e7626fbe3"
      },
      "execution_count": null,
      "outputs": [
        {
          "output_type": "stream",
          "name": "stdout",
          "text": [
            "[[1, 0, 0, 0, 0, 0, 0, 0, 1, 0, 0, 0, 0, 0, 0, 0, 0, 0, 0, 0, 0, 0, 0, 0, 0, 0, 0, 0, 0, 0, 0, 0, 0, 0, 0, 0, 0, 0, 0, 0, 0, 0]]\n"
          ]
        },
        {
          "output_type": "execute_result",
          "data": {
            "text/plain": [
              "[('cs.AI', 'cs.CV')]"
            ]
          },
          "metadata": {},
          "execution_count": 84
        }
      ]
    },
    {
      "cell_type": "markdown",
      "metadata": {
        "id": "2QeHamMirUj6"
      },
      "source": [
        "Para la tarea B deberemos eliminar todos los mensajes que no están clasificados con la clase 'sexist' en el campo 'label_sexist':"
      ]
    },
    {
      "cell_type": "code",
      "source": [
        "from huggingface_hub import notebook_login, KerasModelHubMixin\n",
        "\n",
        "class ArxivBert(keras.Model, KerasModelHubMixin):\n",
        "    \"\"\"Appending additional layers to the BERT model, so that it can be used\n",
        "    for multi-label classification.\n",
        "    \"\"\"\n",
        "\n",
        "    def __init__(self, base_model_id: str, num_labels: int):\n",
        "        super().__init__()\n",
        "        self._base = TFAutoModel.from_pretrained(base_model_id, from_pt=True)\n",
        "        self._base.trainable = True\n",
        "\n",
        "        self._additional_layers = keras.Sequential([\n",
        "            Dropout(0.1),\n",
        "            Dense(256, activation=\"relu\"),\n",
        "            Dense(num_labels, activation=\"sigmoid\"),\n",
        "        ])\n",
        "\n",
        "    def call(self, inputs):\n",
        "        out = self._base(inputs)\n",
        "        out = out[\"last_hidden_state\"][:, 0, :]\n",
        "\n",
        "        return self._additional_layers(out)"
      ],
      "metadata": {
        "id": "nrQQRqAmOb7M"
      },
      "execution_count": null,
      "outputs": []
    },
    {
      "cell_type": "code",
      "source": [
        "from transformers import (\n",
        "    AutoTokenizer,\n",
        "    TFAutoModelForSequenceClassification,\n",
        "    TFAutoModel,\n",
        "    create_optimizer,\n",
        ")\n",
        "\n",
        "IDS2LABELS = {idx: label for idx, label in enumerate(mlb.classes_)}\n",
        "LABELS2IDS = {label: idx for idx, label in enumerate(mlb.classes_)}\n",
        "\n",
        "\n",
        "# I'll try to use both of these models to see which one does better.\n",
        "arxiv_bert_hf = TFAutoModelForSequenceClassification.from_pretrained(\n",
        "    model_name,\n",
        "    num_labels=len(mlb.classes_),\n",
        "    id2label=IDS2LABELS,\n",
        "    label2id=LABELS2IDS,\n",
        "    problem_type=\"multi_label_classification\"\n",
        ")\n",
        "arxiv_bert = ArxivBert(model_name, len(mlb.classes_))"
      ],
      "metadata": {
        "colab": {
          "base_uri": "https://localhost:8080/",
          "height": 309,
          "referenced_widgets": [
            "b96a38f136d94abba2665b2bf0dbe5f1",
            "63da21101c534433b4ab06a882e981cf",
            "b58bb8317d6545e2bade65a2956abf69",
            "9f5da436dd504bbe8349fec0bbf4e283",
            "d136cac0db8e410faf6702abed98f688",
            "906345a427a34971b521b52125387d69",
            "0680824d11624175b0dcf9ea53e5316e",
            "1fc58ee86115468eb18d8cc6d4d5efbe",
            "035ddc53558f46ffacf595d0e51498cc",
            "6293e516a2af49fc8cab7c2725be0c19",
            "7ed3a46a1e8d45afb2f3b210cd26284d",
            "b4972d5dc3eb4ff79db082e89caccb7f",
            "e18cda8e9783486dbb953f0e9e440da8",
            "abc330960dee4e43ab0e49841f6cd944",
            "d7f17a8bbee94f519adee7197c0cb39c",
            "98a11412bf7c4413af4e9cf1da90e645",
            "b4d3ddef327247b5b92d155a752a6f99",
            "61f28ace9ad14d77a174c28df6805991",
            "06ec034c8803454f9cf09d6c1347ed70",
            "df55df2614de41dd8dc1d2acfbdb94b5",
            "7daef0fc38774b19ada28a0e238eacdd",
            "0144a87ec23b4c1b9d23634f0c217d8b"
          ]
        },
        "id": "g9jj6Wt6PagS",
        "outputId": "c4ef5c73-3d66-44d1-8b6a-db76b92f554d"
      },
      "execution_count": null,
      "outputs": [
        {
          "output_type": "display_data",
          "data": {
            "text/plain": [
              "tf_model.h5:   0%|          | 0.00/565M [00:00<?, ?B/s]"
            ],
            "application/vnd.jupyter.widget-view+json": {
              "version_major": 2,
              "version_minor": 0,
              "model_id": "b96a38f136d94abba2665b2bf0dbe5f1"
            }
          },
          "metadata": {}
        },
        {
          "output_type": "stream",
          "name": "stderr",
          "text": [
            "/usr/local/lib/python3.10/dist-packages/tf_keras/src/initializers/initializers.py:121: UserWarning: The initializer TruncatedNormal is unseeded and being called multiple times, which will return identical values each time (even if the initializer is unseeded). Please update your code to provide a seed to the initializer, or avoid using the same initializer instance more than once.\n",
            "  warnings.warn(\n",
            "Some layers from the model checkpoint at xlnet-base-cased were not used when initializing TFXLNetForSequenceClassification: ['lm_loss']\n",
            "- This IS expected if you are initializing TFXLNetForSequenceClassification from the checkpoint of a model trained on another task or with another architecture (e.g. initializing a BertForSequenceClassification model from a BertForPreTraining model).\n",
            "- This IS NOT expected if you are initializing TFXLNetForSequenceClassification from the checkpoint of a model that you expect to be exactly identical (initializing a BertForSequenceClassification model from a BertForSequenceClassification model).\n",
            "Some layers of TFXLNetForSequenceClassification were not initialized from the model checkpoint at xlnet-base-cased and are newly initialized: ['sequence_summary', 'logits_proj']\n",
            "You should probably TRAIN this model on a down-stream task to be able to use it for predictions and inference.\n"
          ]
        },
        {
          "output_type": "display_data",
          "data": {
            "text/plain": [
              "pytorch_model.bin:   0%|          | 0.00/467M [00:00<?, ?B/s]"
            ],
            "application/vnd.jupyter.widget-view+json": {
              "version_major": 2,
              "version_minor": 0,
              "model_id": "b4972d5dc3eb4ff79db082e89caccb7f"
            }
          },
          "metadata": {}
        },
        {
          "output_type": "stream",
          "name": "stderr",
          "text": [
            "Some weights of the PyTorch model were not used when initializing the TF 2.0 model TFXLNetModel: ['lm_loss.weight', 'lm_loss.bias']\n",
            "- This IS expected if you are initializing TFXLNetModel from a PyTorch model trained on another task or with another architecture (e.g. initializing a TFBertForSequenceClassification model from a BertForPreTraining model).\n",
            "- This IS NOT expected if you are initializing TFXLNetModel from a PyTorch model that you expect to be exactly identical (e.g. initializing a TFBertForSequenceClassification model from a BertForSequenceClassification model).\n",
            "All the weights of TFXLNetModel were initialized from the PyTorch model.\n",
            "If your task is similar to the task the model of the checkpoint was trained on, you can already use TFXLNetModel for predictions without further training.\n"
          ]
        }
      ]
    },
    {
      "cell_type": "code",
      "source": [
        "\n",
        "\n",
        "tf_train_dataset = arxiv_bert_hf.prepare_tf_dataset(\n",
        "    tokenized_dataset[\"train\"],\n",
        "    batch_size=32,\n",
        "    # It was already shuffled in the cell above.\n",
        "    shuffle=False\n",
        ")\n",
        "tf_eval_dataset = arxiv_bert_hf.prepare_tf_dataset(\n",
        "    tokenized_dataset[\"validation\"],\n",
        "    batch_size=32,\n",
        "    # It was already shuffled in the cell above.\n",
        "    shuffle=False\n",
        ")\n",
        "\n",
        "tf_test_dataset = arxiv_bert_hf.prepare_tf_dataset(\n",
        "    tokenized_dataset[\"test\"],\n",
        "    batch_size=32,\n",
        "    # It was already shuffled in the cell above.\n",
        "    shuffle=False\n",
        ")\n"
      ],
      "metadata": {
        "id": "goKZrLZIQhzH"
      },
      "execution_count": null,
      "outputs": []
    },
    {
      "cell_type": "code",
      "source": [
        "print(type(dict_dataset['train']))"
      ],
      "metadata": {
        "colab": {
          "base_uri": "https://localhost:8080/"
        },
        "id": "SERRpdaoYp8u",
        "outputId": "d74131dd-a953-49b6-c2c0-8469b0587ea4"
      },
      "execution_count": null,
      "outputs": [
        {
          "output_type": "stream",
          "name": "stdout",
          "text": [
            "<class 'datasets.arrow_dataset.Dataset'>\n"
          ]
        }
      ]
    },
    {
      "cell_type": "code",
      "source": [
        "# One of the learning rates recommended in the original BERT paper.\n",
        "L_RATE = 2e-5\n",
        "EPOCHS = 5\n",
        "\n",
        "OPTIMIZER = keras.optimizers.Adam(learning_rate=L_RATE)\n",
        "LOSS_FUNC = keras.losses.BinaryCrossentropy(from_logits=False)\n",
        "\n",
        "\n",
        "arxiv_bert.compile(\n",
        "    loss=LOSS_FUNC,\n",
        "    optimizer=OPTIMIZER,\n",
        "    metrics=METRICS,\n",
        "    jit_compile=True\n",
        ")\n",
        "\n",
        "arxiv_bert.fit(\n",
        "    tf_train_dataset,\n",
        "    validation_data=tf_eval_dataset,\n",
        "    epochs=EPOCHS,\n",
        "    # Used this line to save the model on each epoch.\n",
        "    # callbacks=[EpochSaver(),]\n",
        ")"
      ],
      "metadata": {
        "colab": {
          "base_uri": "https://localhost:8080/",
          "height": 1000
        },
        "id": "6Nfte-gzbBbW",
        "outputId": "7fee1daa-a3f4-434c-b92f-53f2f24642eb"
      },
      "execution_count": null,
      "outputs": [
        {
          "output_type": "stream",
          "name": "stdout",
          "text": [
            "Epoch 1/5\n"
          ]
        },
        {
          "output_type": "stream",
          "name": "stderr",
          "text": [
            "WARNING:tensorflow:Gradients do not exist for variables ['tfxl_net_model/transformer/mask_emb:0', 'tfxl_net_model/transformer/layer_._0/rel_attn/r_s_bias:0', 'tfxl_net_model/transformer/layer_._0/rel_attn/seg_embed:0', 'tfxl_net_model/transformer/layer_._1/rel_attn/r_s_bias:0', 'tfxl_net_model/transformer/layer_._1/rel_attn/seg_embed:0', 'tfxl_net_model/transformer/layer_._2/rel_attn/r_s_bias:0', 'tfxl_net_model/transformer/layer_._2/rel_attn/seg_embed:0', 'tfxl_net_model/transformer/layer_._3/rel_attn/r_s_bias:0', 'tfxl_net_model/transformer/layer_._3/rel_attn/seg_embed:0', 'tfxl_net_model/transformer/layer_._4/rel_attn/r_s_bias:0', 'tfxl_net_model/transformer/layer_._4/rel_attn/seg_embed:0', 'tfxl_net_model/transformer/layer_._5/rel_attn/r_s_bias:0', 'tfxl_net_model/transformer/layer_._5/rel_attn/seg_embed:0', 'tfxl_net_model/transformer/layer_._6/rel_attn/r_s_bias:0', 'tfxl_net_model/transformer/layer_._6/rel_attn/seg_embed:0', 'tfxl_net_model/transformer/layer_._7/rel_attn/r_s_bias:0', 'tfxl_net_model/transformer/layer_._7/rel_attn/seg_embed:0', 'tfxl_net_model/transformer/layer_._8/rel_attn/r_s_bias:0', 'tfxl_net_model/transformer/layer_._8/rel_attn/seg_embed:0', 'tfxl_net_model/transformer/layer_._9/rel_attn/r_s_bias:0', 'tfxl_net_model/transformer/layer_._9/rel_attn/seg_embed:0', 'tfxl_net_model/transformer/layer_._10/rel_attn/r_s_bias:0', 'tfxl_net_model/transformer/layer_._10/rel_attn/seg_embed:0', 'tfxl_net_model/transformer/layer_._11/rel_attn/r_s_bias:0', 'tfxl_net_model/transformer/layer_._11/rel_attn/seg_embed:0'] when minimizing the loss. If you're using `model.compile()`, did you forget to provide a `loss` argument?\n",
            "WARNING:tensorflow:Gradients do not exist for variables ['tfxl_net_model/transformer/mask_emb:0', 'tfxl_net_model/transformer/layer_._0/rel_attn/r_s_bias:0', 'tfxl_net_model/transformer/layer_._0/rel_attn/seg_embed:0', 'tfxl_net_model/transformer/layer_._1/rel_attn/r_s_bias:0', 'tfxl_net_model/transformer/layer_._1/rel_attn/seg_embed:0', 'tfxl_net_model/transformer/layer_._2/rel_attn/r_s_bias:0', 'tfxl_net_model/transformer/layer_._2/rel_attn/seg_embed:0', 'tfxl_net_model/transformer/layer_._3/rel_attn/r_s_bias:0', 'tfxl_net_model/transformer/layer_._3/rel_attn/seg_embed:0', 'tfxl_net_model/transformer/layer_._4/rel_attn/r_s_bias:0', 'tfxl_net_model/transformer/layer_._4/rel_attn/seg_embed:0', 'tfxl_net_model/transformer/layer_._5/rel_attn/r_s_bias:0', 'tfxl_net_model/transformer/layer_._5/rel_attn/seg_embed:0', 'tfxl_net_model/transformer/layer_._6/rel_attn/r_s_bias:0', 'tfxl_net_model/transformer/layer_._6/rel_attn/seg_embed:0', 'tfxl_net_model/transformer/layer_._7/rel_attn/r_s_bias:0', 'tfxl_net_model/transformer/layer_._7/rel_attn/seg_embed:0', 'tfxl_net_model/transformer/layer_._8/rel_attn/r_s_bias:0', 'tfxl_net_model/transformer/layer_._8/rel_attn/seg_embed:0', 'tfxl_net_model/transformer/layer_._9/rel_attn/r_s_bias:0', 'tfxl_net_model/transformer/layer_._9/rel_attn/seg_embed:0', 'tfxl_net_model/transformer/layer_._10/rel_attn/r_s_bias:0', 'tfxl_net_model/transformer/layer_._10/rel_attn/seg_embed:0', 'tfxl_net_model/transformer/layer_._11/rel_attn/r_s_bias:0', 'tfxl_net_model/transformer/layer_._11/rel_attn/seg_embed:0'] when minimizing the loss. If you're using `model.compile()`, did you forget to provide a `loss` argument?\n",
            "WARNING:tensorflow:Gradients do not exist for variables ['tfxl_net_model/transformer/mask_emb:0', 'tfxl_net_model/transformer/layer_._0/rel_attn/r_s_bias:0', 'tfxl_net_model/transformer/layer_._0/rel_attn/seg_embed:0', 'tfxl_net_model/transformer/layer_._1/rel_attn/r_s_bias:0', 'tfxl_net_model/transformer/layer_._1/rel_attn/seg_embed:0', 'tfxl_net_model/transformer/layer_._2/rel_attn/r_s_bias:0', 'tfxl_net_model/transformer/layer_._2/rel_attn/seg_embed:0', 'tfxl_net_model/transformer/layer_._3/rel_attn/r_s_bias:0', 'tfxl_net_model/transformer/layer_._3/rel_attn/seg_embed:0', 'tfxl_net_model/transformer/layer_._4/rel_attn/r_s_bias:0', 'tfxl_net_model/transformer/layer_._4/rel_attn/seg_embed:0', 'tfxl_net_model/transformer/layer_._5/rel_attn/r_s_bias:0', 'tfxl_net_model/transformer/layer_._5/rel_attn/seg_embed:0', 'tfxl_net_model/transformer/layer_._6/rel_attn/r_s_bias:0', 'tfxl_net_model/transformer/layer_._6/rel_attn/seg_embed:0', 'tfxl_net_model/transformer/layer_._7/rel_attn/r_s_bias:0', 'tfxl_net_model/transformer/layer_._7/rel_attn/seg_embed:0', 'tfxl_net_model/transformer/layer_._8/rel_attn/r_s_bias:0', 'tfxl_net_model/transformer/layer_._8/rel_attn/seg_embed:0', 'tfxl_net_model/transformer/layer_._9/rel_attn/r_s_bias:0', 'tfxl_net_model/transformer/layer_._9/rel_attn/seg_embed:0', 'tfxl_net_model/transformer/layer_._10/rel_attn/r_s_bias:0', 'tfxl_net_model/transformer/layer_._10/rel_attn/seg_embed:0', 'tfxl_net_model/transformer/layer_._11/rel_attn/r_s_bias:0', 'tfxl_net_model/transformer/layer_._11/rel_attn/seg_embed:0'] when minimizing the loss. If you're using `model.compile()`, did you forget to provide a `loss` argument?\n",
            "WARNING:tensorflow:Gradients do not exist for variables ['tfxl_net_model/transformer/mask_emb:0', 'tfxl_net_model/transformer/layer_._0/rel_attn/r_s_bias:0', 'tfxl_net_model/transformer/layer_._0/rel_attn/seg_embed:0', 'tfxl_net_model/transformer/layer_._1/rel_attn/r_s_bias:0', 'tfxl_net_model/transformer/layer_._1/rel_attn/seg_embed:0', 'tfxl_net_model/transformer/layer_._2/rel_attn/r_s_bias:0', 'tfxl_net_model/transformer/layer_._2/rel_attn/seg_embed:0', 'tfxl_net_model/transformer/layer_._3/rel_attn/r_s_bias:0', 'tfxl_net_model/transformer/layer_._3/rel_attn/seg_embed:0', 'tfxl_net_model/transformer/layer_._4/rel_attn/r_s_bias:0', 'tfxl_net_model/transformer/layer_._4/rel_attn/seg_embed:0', 'tfxl_net_model/transformer/layer_._5/rel_attn/r_s_bias:0', 'tfxl_net_model/transformer/layer_._5/rel_attn/seg_embed:0', 'tfxl_net_model/transformer/layer_._6/rel_attn/r_s_bias:0', 'tfxl_net_model/transformer/layer_._6/rel_attn/seg_embed:0', 'tfxl_net_model/transformer/layer_._7/rel_attn/r_s_bias:0', 'tfxl_net_model/transformer/layer_._7/rel_attn/seg_embed:0', 'tfxl_net_model/transformer/layer_._8/rel_attn/r_s_bias:0', 'tfxl_net_model/transformer/layer_._8/rel_attn/seg_embed:0', 'tfxl_net_model/transformer/layer_._9/rel_attn/r_s_bias:0', 'tfxl_net_model/transformer/layer_._9/rel_attn/seg_embed:0', 'tfxl_net_model/transformer/layer_._10/rel_attn/r_s_bias:0', 'tfxl_net_model/transformer/layer_._10/rel_attn/seg_embed:0', 'tfxl_net_model/transformer/layer_._11/rel_attn/r_s_bias:0', 'tfxl_net_model/transformer/layer_._11/rel_attn/seg_embed:0'] when minimizing the loss. If you're using `model.compile()`, did you forget to provide a `loss` argument?\n"
          ]
        },
        {
          "output_type": "error",
          "ename": "ResourceExhaustedError",
          "evalue": "Graph execution error:\n\nDetected at node StatefulPartitionedCall defined at (most recent call last):\n  File \"/usr/lib/python3.10/runpy.py\", line 196, in _run_module_as_main\n\n  File \"/usr/lib/python3.10/runpy.py\", line 86, in _run_code\n\n  File \"/usr/local/lib/python3.10/dist-packages/colab_kernel_launcher.py\", line 37, in <module>\n\n  File \"/usr/local/lib/python3.10/dist-packages/traitlets/config/application.py\", line 992, in launch_instance\n\n  File \"/usr/local/lib/python3.10/dist-packages/ipykernel/kernelapp.py\", line 619, in start\n\n  File \"/usr/local/lib/python3.10/dist-packages/tornado/platform/asyncio.py\", line 195, in start\n\n  File \"/usr/lib/python3.10/asyncio/base_events.py\", line 603, in run_forever\n\n  File \"/usr/lib/python3.10/asyncio/base_events.py\", line 1909, in _run_once\n\n  File \"/usr/lib/python3.10/asyncio/events.py\", line 80, in _run\n\n  File \"/usr/local/lib/python3.10/dist-packages/tornado/ioloop.py\", line 685, in <lambda>\n\n  File \"/usr/local/lib/python3.10/dist-packages/tornado/ioloop.py\", line 738, in _run_callback\n\n  File \"/usr/local/lib/python3.10/dist-packages/tornado/gen.py\", line 825, in inner\n\n  File \"/usr/local/lib/python3.10/dist-packages/tornado/gen.py\", line 786, in run\n\n  File \"/usr/local/lib/python3.10/dist-packages/ipykernel/kernelbase.py\", line 361, in process_one\n\n  File \"/usr/local/lib/python3.10/dist-packages/tornado/gen.py\", line 234, in wrapper\n\n  File \"/usr/local/lib/python3.10/dist-packages/ipykernel/kernelbase.py\", line 261, in dispatch_shell\n\n  File \"/usr/local/lib/python3.10/dist-packages/tornado/gen.py\", line 234, in wrapper\n\n  File \"/usr/local/lib/python3.10/dist-packages/ipykernel/kernelbase.py\", line 539, in execute_request\n\n  File \"/usr/local/lib/python3.10/dist-packages/tornado/gen.py\", line 234, in wrapper\n\n  File \"/usr/local/lib/python3.10/dist-packages/ipykernel/ipkernel.py\", line 302, in do_execute\n\n  File \"/usr/local/lib/python3.10/dist-packages/ipykernel/zmqshell.py\", line 539, in run_cell\n\n  File \"/usr/local/lib/python3.10/dist-packages/IPython/core/interactiveshell.py\", line 2975, in run_cell\n\n  File \"/usr/local/lib/python3.10/dist-packages/IPython/core/interactiveshell.py\", line 3030, in _run_cell\n\n  File \"/usr/local/lib/python3.10/dist-packages/IPython/core/async_helpers.py\", line 78, in _pseudo_sync_runner\n\n  File \"/usr/local/lib/python3.10/dist-packages/IPython/core/interactiveshell.py\", line 3257, in run_cell_async\n\n  File \"/usr/local/lib/python3.10/dist-packages/IPython/core/interactiveshell.py\", line 3473, in run_ast_nodes\n\n  File \"/usr/local/lib/python3.10/dist-packages/IPython/core/interactiveshell.py\", line 3553, in run_code\n\n  File \"<ipython-input-88-d8bd99066a9b>\", line 16, in <cell line: 16>\n\n  File \"/usr/local/lib/python3.10/dist-packages/keras/src/utils/traceback_utils.py\", line 65, in error_handler\n\n  File \"/usr/local/lib/python3.10/dist-packages/keras/src/engine/training.py\", line 1807, in fit\n\n  File \"/usr/local/lib/python3.10/dist-packages/keras/src/engine/training.py\", line 1401, in train_function\n\n  File \"/usr/local/lib/python3.10/dist-packages/keras/src/engine/training.py\", line 1384, in step_function\n\nOut of memory while trying to allocate 7420777936 bytes.\nBufferAssignment OOM Debugging.\nBufferAssignment stats:\n             parameter allocation:    1.31GiB\n              constant allocation:    1.75MiB\n        maybe_live_out allocation:    1.31GiB\n     preallocated temp allocation:    6.91GiB\n  preallocated temp fragmentation:       124B (0.00%)\n                 total allocation:    8.22GiB\n              total fragmentation:  298.37MiB (3.54%)\nPeak buffers:\n\tBuffer 1:\n\t\tSize: 96.00MiB\n\t\tOperator: op_type=\"Mul\" op_name=\"arxiv_bert_3/tfxl_net_model/transformer/layer_._4/ff/Gelu/mul_1\" source_file=\"/usr/local/lib/python3.10/dist-packages/tensorflow/python/framework/ops.py\" source_line=1160 deduplicated_name=\"fusion.1210\"\n\t\tXLA Label: fusion\n\t\tShape: f32[256,32,3072]\n\t\t==========================\n\n\tBuffer 2:\n\t\tSize: 96.00MiB\n\t\tOperator: op_type=\"MatMul\" op_name=\"arxiv_bert_3/tfxl_net_model/transformer/layer_._4/ff/layer_1/Tensordot/MatMul\" source_file=\"/usr/local/lib/python3.10/dist-packages/tensorflow/python/framework/ops.py\" source_line=1160\n\t\tXLA Label: custom-call\n\t\tShape: f32[8192,3072]\n\t\t==========================\n\n\tBuffer 3:\n\t\tSize: 96.00MiB\n\t\tOperator: op_type=\"Softmax\" op_name=\"arxiv_bert_3/tfxl_net_model/transformer/layer_._4/rel_attn/Softmax\" deduplicated_name=\"fusion.852\"\n\t\tXLA Label: fusion\n\t\tShape: f32[32,12,256,256]\n\t\t==========================\n\n\tBuffer 4:\n\t\tSize: 96.00MiB\n\t\tOperator: op_type=\"Mul\" op_name=\"arxiv_bert_3/tfxl_net_model/transformer/layer_._3/ff/Gelu/mul_1\" source_file=\"/usr/local/lib/python3.10/dist-packages/tensorflow/python/framework/ops.py\" source_line=1160 deduplicated_name=\"fusion.1210\"\n\t\tXLA Label: fusion\n\t\tShape: f32[256,32,3072]\n\t\t==========================\n\n\tBuffer 5:\n\t\tSize: 96.00MiB\n\t\tOperator: op_type=\"MatMul\" op_name=\"arxiv_bert_3/tfxl_net_model/transformer/layer_._3/ff/layer_1/Tensordot/MatMul\" source_file=\"/usr/local/lib/python3.10/dist-packages/tensorflow/python/framework/ops.py\" source_line=1160\n\t\tXLA Label: custom-call\n\t\tShape: f32[8192,3072]\n\t\t==========================\n\n\tBuffer 6:\n\t\tSize: 96.00MiB\n\t\tOperator: op_type=\"Softmax\" op_name=\"arxiv_bert_3/tfxl_net_model/transformer/layer_._3/rel_attn/Softmax\" deduplicated_name=\"fusion.852\"\n\t\tXLA Label: fusion\n\t\tShape: f32[32,12,256,256]\n\t\t==========================\n\n\tBuffer 7:\n\t\tSize: 96.00MiB\n\t\tOperator: op_type=\"Mul\" op_name=\"arxiv_bert_3/tfxl_net_model/transformer/layer_._2/ff/Gelu/mul_1\" source_file=\"/usr/local/lib/python3.10/dist-packages/tensorflow/python/framework/ops.py\" source_line=1160 deduplicated_name=\"fusion.1210\"\n\t\tXLA Label: fusion\n\t\tShape: f32[256,32,3072]\n\t\t==========================\n\n\tBuffer 8:\n\t\tSize: 96.00MiB\n\t\tOperator: op_type=\"MatMul\" op_name=\"arxiv_bert_3/tfxl_net_model/transformer/layer_._2/ff/layer_1/Tensordot/MatMul\" source_file=\"/usr/local/lib/python3.10/dist-packages/tensorflow/python/framework/ops.py\" source_line=1160\n\t\tXLA Label: custom-call\n\t\tShape: f32[8192,3072]\n\t\t==========================\n\n\tBuffer 9:\n\t\tSize: 96.00MiB\n\t\tOperator: op_type=\"Softmax\" op_name=\"arxiv_bert_3/tfxl_net_model/transformer/layer_._2/rel_attn/Softmax\" deduplicated_name=\"fusion.852\"\n\t\tXLA Label: fusion\n\t\tShape: f32[32,12,256,256]\n\t\t==========================\n\n\tBuffer 10:\n\t\tSize: 96.00MiB\n\t\tOperator: op_type=\"Mul\" op_name=\"arxiv_bert_3/tfxl_net_model/transformer/layer_._1/ff/Gelu/mul_1\" source_file=\"/usr/local/lib/python3.10/dist-packages/tensorflow/python/framework/ops.py\" source_line=1160 deduplicated_name=\"fusion.1210\"\n\t\tXLA Label: fusion\n\t\tShape: f32[256,32,3072]\n\t\t==========================\n\n\tBuffer 11:\n\t\tSize: 96.00MiB\n\t\tOperator: op_type=\"MatMul\" op_name=\"arxiv_bert_3/tfxl_net_model/transformer/layer_._1/ff/layer_1/Tensordot/MatMul\" source_file=\"/usr/local/lib/python3.10/dist-packages/tensorflow/python/framework/ops.py\" source_line=1160\n\t\tXLA Label: custom-call\n\t\tShape: f32[8192,3072]\n\t\t==========================\n\n\tBuffer 12:\n\t\tSize: 96.00MiB\n\t\tOperator: op_type=\"Softmax\" op_name=\"arxiv_bert_3/tfxl_net_model/transformer/layer_._1/rel_attn/Softmax\" deduplicated_name=\"fusion.852\"\n\t\tXLA Label: fusion\n\t\tShape: f32[32,12,256,256]\n\t\t==========================\n\n\tBuffer 13:\n\t\tSize: 96.00MiB\n\t\tOperator: op_type=\"Mul\" op_name=\"arxiv_bert_3/tfxl_net_model/transformer/layer_._0/ff/Gelu/mul_1\" source_file=\"/usr/local/lib/python3.10/dist-packages/tensorflow/python/framework/ops.py\" source_line=1160 deduplicated_name=\"fusion.1210\"\n\t\tXLA Label: fusion\n\t\tShape: f32[256,32,3072]\n\t\t==========================\n\n\tBuffer 14:\n\t\tSize: 96.00MiB\n\t\tOperator: op_type=\"MatMul\" op_name=\"arxiv_bert_3/tfxl_net_model/transformer/layer_._0/ff/layer_1/Tensordot/MatMul\" source_file=\"/usr/local/lib/python3.10/dist-packages/tensorflow/python/framework/ops.py\" source_line=1160\n\t\tXLA Label: custom-call\n\t\tShape: f32[8192,3072]\n\t\t==========================\n\n\tBuffer 15:\n\t\tSize: 96.00MiB\n\t\tOperator: op_type=\"Softmax\" op_name=\"arxiv_bert_3/tfxl_net_model/transformer/layer_._0/rel_attn/Softmax\" deduplicated_name=\"fusion.852\"\n\t\tXLA Label: fusion\n\t\tShape: f32[32,12,256,256]\n\t\t==========================\n\n\n\t [[{{node StatefulPartitionedCall}}]]\nHint: If you want to see a list of allocated tensors when OOM happens, add report_tensor_allocations_upon_oom to RunOptions for current allocation info. This isn't available when running in Eager mode.\n [Op:__inference_train_function_369800]",
          "traceback": [
            "\u001b[0;31m---------------------------------------------------------------------------\u001b[0m",
            "\u001b[0;31mResourceExhaustedError\u001b[0m                    Traceback (most recent call last)",
            "\u001b[0;32m<ipython-input-88-d8bd99066a9b>\u001b[0m in \u001b[0;36m<cell line: 16>\u001b[0;34m()\u001b[0m\n\u001b[1;32m     14\u001b[0m )\n\u001b[1;32m     15\u001b[0m \u001b[0;34m\u001b[0m\u001b[0m\n\u001b[0;32m---> 16\u001b[0;31m arxiv_bert.fit(\n\u001b[0m\u001b[1;32m     17\u001b[0m     \u001b[0mtf_train_dataset\u001b[0m\u001b[0;34m,\u001b[0m\u001b[0;34m\u001b[0m\u001b[0;34m\u001b[0m\u001b[0m\n\u001b[1;32m     18\u001b[0m     \u001b[0mvalidation_data\u001b[0m\u001b[0;34m=\u001b[0m\u001b[0mtf_eval_dataset\u001b[0m\u001b[0;34m,\u001b[0m\u001b[0;34m\u001b[0m\u001b[0;34m\u001b[0m\u001b[0m\n",
            "\u001b[0;32m/usr/local/lib/python3.10/dist-packages/keras/src/utils/traceback_utils.py\u001b[0m in \u001b[0;36merror_handler\u001b[0;34m(*args, **kwargs)\u001b[0m\n\u001b[1;32m     68\u001b[0m             \u001b[0;31m# To get the full stack trace, call:\u001b[0m\u001b[0;34m\u001b[0m\u001b[0;34m\u001b[0m\u001b[0m\n\u001b[1;32m     69\u001b[0m             \u001b[0;31m# `tf.debugging.disable_traceback_filtering()`\u001b[0m\u001b[0;34m\u001b[0m\u001b[0;34m\u001b[0m\u001b[0m\n\u001b[0;32m---> 70\u001b[0;31m             \u001b[0;32mraise\u001b[0m \u001b[0me\u001b[0m\u001b[0;34m.\u001b[0m\u001b[0mwith_traceback\u001b[0m\u001b[0;34m(\u001b[0m\u001b[0mfiltered_tb\u001b[0m\u001b[0;34m)\u001b[0m \u001b[0;32mfrom\u001b[0m \u001b[0;32mNone\u001b[0m\u001b[0;34m\u001b[0m\u001b[0;34m\u001b[0m\u001b[0m\n\u001b[0m\u001b[1;32m     71\u001b[0m         \u001b[0;32mfinally\u001b[0m\u001b[0;34m:\u001b[0m\u001b[0;34m\u001b[0m\u001b[0;34m\u001b[0m\u001b[0m\n\u001b[1;32m     72\u001b[0m             \u001b[0;32mdel\u001b[0m \u001b[0mfiltered_tb\u001b[0m\u001b[0;34m\u001b[0m\u001b[0;34m\u001b[0m\u001b[0m\n",
            "\u001b[0;32m/usr/local/lib/python3.10/dist-packages/tensorflow/python/eager/execute.py\u001b[0m in \u001b[0;36mquick_execute\u001b[0;34m(op_name, num_outputs, inputs, attrs, ctx, name)\u001b[0m\n\u001b[1;32m     51\u001b[0m   \u001b[0;32mtry\u001b[0m\u001b[0;34m:\u001b[0m\u001b[0;34m\u001b[0m\u001b[0;34m\u001b[0m\u001b[0m\n\u001b[1;32m     52\u001b[0m     \u001b[0mctx\u001b[0m\u001b[0;34m.\u001b[0m\u001b[0mensure_initialized\u001b[0m\u001b[0;34m(\u001b[0m\u001b[0;34m)\u001b[0m\u001b[0;34m\u001b[0m\u001b[0;34m\u001b[0m\u001b[0m\n\u001b[0;32m---> 53\u001b[0;31m     tensors = pywrap_tfe.TFE_Py_Execute(ctx._handle, device_name, op_name,\n\u001b[0m\u001b[1;32m     54\u001b[0m                                         inputs, attrs, num_outputs)\n\u001b[1;32m     55\u001b[0m   \u001b[0;32mexcept\u001b[0m \u001b[0mcore\u001b[0m\u001b[0;34m.\u001b[0m\u001b[0m_NotOkStatusException\u001b[0m \u001b[0;32mas\u001b[0m \u001b[0me\u001b[0m\u001b[0;34m:\u001b[0m\u001b[0;34m\u001b[0m\u001b[0;34m\u001b[0m\u001b[0m\n",
            "\u001b[0;31mResourceExhaustedError\u001b[0m: Graph execution error:\n\nDetected at node StatefulPartitionedCall defined at (most recent call last):\n  File \"/usr/lib/python3.10/runpy.py\", line 196, in _run_module_as_main\n\n  File \"/usr/lib/python3.10/runpy.py\", line 86, in _run_code\n\n  File \"/usr/local/lib/python3.10/dist-packages/colab_kernel_launcher.py\", line 37, in <module>\n\n  File \"/usr/local/lib/python3.10/dist-packages/traitlets/config/application.py\", line 992, in launch_instance\n\n  File \"/usr/local/lib/python3.10/dist-packages/ipykernel/kernelapp.py\", line 619, in start\n\n  File \"/usr/local/lib/python3.10/dist-packages/tornado/platform/asyncio.py\", line 195, in start\n\n  File \"/usr/lib/python3.10/asyncio/base_events.py\", line 603, in run_forever\n\n  File \"/usr/lib/python3.10/asyncio/base_events.py\", line 1909, in _run_once\n\n  File \"/usr/lib/python3.10/asyncio/events.py\", line 80, in _run\n\n  File \"/usr/local/lib/python3.10/dist-packages/tornado/ioloop.py\", line 685, in <lambda>\n\n  File \"/usr/local/lib/python3.10/dist-packages/tornado/ioloop.py\", line 738, in _run_callback\n\n  File \"/usr/local/lib/python3.10/dist-packages/tornado/gen.py\", line 825, in inner\n\n  File \"/usr/local/lib/python3.10/dist-packages/tornado/gen.py\", line 786, in run\n\n  File \"/usr/local/lib/python3.10/dist-packages/ipykernel/kernelbase.py\", line 361, in process_one\n\n  File \"/usr/local/lib/python3.10/dist-packages/tornado/gen.py\", line 234, in wrapper\n\n  File \"/usr/local/lib/python3.10/dist-packages/ipykernel/kernelbase.py\", line 261, in dispatch_shell\n\n  File \"/usr/local/lib/python3.10/dist-packages/tornado/gen.py\", line 234, in wrapper\n\n  File \"/usr/local/lib/python3.10/dist-packages/ipykernel/kernelbase.py\", line 539, in execute_request\n\n  File \"/usr/local/lib/python3.10/dist-packages/tornado/gen.py\", line 234, in wrapper\n\n  File \"/usr/local/lib/python3.10/dist-packages/ipykernel/ipkernel.py\", line 302, in do_execute\n\n  File \"/usr/local/lib/python3.10/dist-packages/ipykernel/zmqshell.py\", line 539, in run_cell\n\n  File \"/usr/local/lib/python3.10/dist-packages/IPython/core/interactiveshell.py\", line 2975, in run_cell\n\n  File \"/usr/local/lib/python3.10/dist-packages/IPython/core/interactiveshell.py\", line 3030, in _run_cell\n\n  File \"/usr/local/lib/python3.10/dist-packages/IPython/core/async_helpers.py\", line 78, in _pseudo_sync_runner\n\n  File \"/usr/local/lib/python3.10/dist-packages/IPython/core/interactiveshell.py\", line 3257, in run_cell_async\n\n  File \"/usr/local/lib/python3.10/dist-packages/IPython/core/interactiveshell.py\", line 3473, in run_ast_nodes\n\n  File \"/usr/local/lib/python3.10/dist-packages/IPython/core/interactiveshell.py\", line 3553, in run_code\n\n  File \"<ipython-input-88-d8bd99066a9b>\", line 16, in <cell line: 16>\n\n  File \"/usr/local/lib/python3.10/dist-packages/keras/src/utils/traceback_utils.py\", line 65, in error_handler\n\n  File \"/usr/local/lib/python3.10/dist-packages/keras/src/engine/training.py\", line 1807, in fit\n\n  File \"/usr/local/lib/python3.10/dist-packages/keras/src/engine/training.py\", line 1401, in train_function\n\n  File \"/usr/local/lib/python3.10/dist-packages/keras/src/engine/training.py\", line 1384, in step_function\n\nOut of memory while trying to allocate 7420777936 bytes.\nBufferAssignment OOM Debugging.\nBufferAssignment stats:\n             parameter allocation:    1.31GiB\n              constant allocation:    1.75MiB\n        maybe_live_out allocation:    1.31GiB\n     preallocated temp allocation:    6.91GiB\n  preallocated temp fragmentation:       124B (0.00%)\n                 total allocation:    8.22GiB\n              total fragmentation:  298.37MiB (3.54%)\nPeak buffers:\n\tBuffer 1:\n\t\tSize: 96.00MiB\n\t\tOperator: op_type=\"Mul\" op_name=\"arxiv_bert_3/tfxl_net_model/transformer/layer_._4/ff/Gelu/mul_1\" source_file=\"/usr/local/lib/python3.10/dist-packages/tensorflow/python/framework/ops.py\" source_line=1160 deduplicated_name=\"fusion.1210\"\n\t\tXLA Label: fusion\n\t\tShape: f32[256,32,3072]\n\t\t==========================\n\n\tBuffer 2:\n\t\tSize: 96.00MiB\n\t\tOperator: op_type=\"MatMul\" op_name=\"arxiv_bert_3/tfxl_net_model/transformer/layer_._4/ff/layer_1/Tensordot/MatMul\" source_file=\"/usr/local/lib/python3.10/dist-packages/tensorflow/python/framework/ops.py\" source_line=1160\n\t\tXLA Label: custom-call\n\t\tShape: f32[8192,3072]\n\t\t==========================\n\n\tBuffer 3:\n\t\tSize: 96.00MiB\n\t\tOperator: op_type=\"Softmax\" op_name=\"arxiv_bert_3/tfxl_net_model/transformer/layer_._4/rel_attn/Softmax\" deduplicated_name=\"fusion.852\"\n\t\tXLA Label: fusion\n\t\tShape: f32[32,12,256,256]\n\t\t==========================\n\n\tBuffer 4:\n\t\tSize: 96.00MiB\n\t\tOperator: op_type=\"Mul\" op_name=\"arxiv_bert_3/tfxl_net_model/transformer/layer_._3/ff/Gelu/mul_1\" source_file=\"/usr/local/lib/python3.10/dist-packages/tensorflow/python/framework/ops.py\" source_line=1160 deduplicated_name=\"fusion.1210\"\n\t\tXLA Label: fusion\n\t\tShape: f32[256,32,3072]\n\t\t==========================\n\n\tBuffer 5:\n\t\tSize: 96.00MiB\n\t\tOperator: op_type=\"MatMul\" op_name=\"arxiv_bert_3/tfxl_net_model/transformer/layer_._3/ff/layer_1/Tensordot/MatMul\" source_file=\"/usr/local/lib/python3.10/dist-packages/tensorflow/python/framework/ops.py\" source_line=1160\n\t\tXLA Label: custom-call\n\t\tShape: f32[8192,3072]\n\t\t==========================\n\n\tBuffer 6:\n\t\tSize: 96.00MiB\n\t\tOperator: op_type=\"Softmax\" op_name=\"arxiv_bert_3/tfxl_net_model/transformer/layer_._3/rel_attn/Softmax\" deduplicated_name=\"fusion.852\"\n\t\tXLA Label: fusion\n\t\tShape: f32[32,12,256,256]\n\t\t==========================\n\n\tBuffer 7:\n\t\tSize: 96.00MiB\n\t\tOperator: op_type=\"Mul\" op_name=\"arxiv_bert_3/tfxl_net_model/transformer/layer_._2/ff/Gelu/mul_1\" source_file=\"/usr/local/lib/python3.10/dist-packages/tensorflow/python/framework/ops.py\" source_line=1160 deduplicated_name=\"fusion.1210\"\n\t\tXLA Label: fusion\n\t\tShape: f32[256,32,3072]\n\t\t==========================\n\n\tBuffer 8:\n\t\tSize: 96.00MiB\n\t\tOperator: op_type=\"MatMul\" op_name=\"arxiv_bert_3/tfxl_net_model/transformer/layer_._2/ff/layer_1/Tensordot/MatMul\" source_file=\"/usr/local/lib/python3.10/dist-packages/tensorflow/python/framework/ops.py\" source_line=1160\n\t\tXLA Label: custom-call\n\t\tShape: f32[8192,3072]\n\t\t==========================\n\n\tBuffer 9:\n\t\tSize: 96.00MiB\n\t\tOperator: op_type=\"Softmax\" op_name=\"arxiv_bert_3/tfxl_net_model/transformer/layer_._2/rel_attn/Softmax\" deduplicated_name=\"fusion.852\"\n\t\tXLA Label: fusion\n\t\tShape: f32[32,12,256,256]\n\t\t==========================\n\n\tBuffer 10:\n\t\tSize: 96.00MiB\n\t\tOperator: op_type=\"Mul\" op_name=\"arxiv_bert_3/tfxl_net_model/transformer/layer_._1/ff/Gelu/mul_1\" source_file=\"/usr/local/lib/python3.10/dist-packages/tensorflow/python/framework/ops.py\" source_line=1160 deduplicated_name=\"fusion.1210\"\n\t\tXLA Label: fusion\n\t\tShape: f32[256,32,3072]\n\t\t==========================\n\n\tBuffer 11:\n\t\tSize: 96.00MiB\n\t\tOperator: op_type=\"MatMul\" op_name=\"arxiv_bert_3/tfxl_net_model/transformer/layer_._1/ff/layer_1/Tensordot/MatMul\" source_file=\"/usr/local/lib/python3.10/dist-packages/tensorflow/python/framework/ops.py\" source_line=1160\n\t\tXLA Label: custom-call\n\t\tShape: f32[8192,3072]\n\t\t==========================\n\n\tBuffer 12:\n\t\tSize: 96.00MiB\n\t\tOperator: op_type=\"Softmax\" op_name=\"arxiv_bert_3/tfxl_net_model/transformer/layer_._1/rel_attn/Softmax\" deduplicated_name=\"fusion.852\"\n\t\tXLA Label: fusion\n\t\tShape: f32[32,12,256,256]\n\t\t==========================\n\n\tBuffer 13:\n\t\tSize: 96.00MiB\n\t\tOperator: op_type=\"Mul\" op_name=\"arxiv_bert_3/tfxl_net_model/transformer/layer_._0/ff/Gelu/mul_1\" source_file=\"/usr/local/lib/python3.10/dist-packages/tensorflow/python/framework/ops.py\" source_line=1160 deduplicated_name=\"fusion.1210\"\n\t\tXLA Label: fusion\n\t\tShape: f32[256,32,3072]\n\t\t==========================\n\n\tBuffer 14:\n\t\tSize: 96.00MiB\n\t\tOperator: op_type=\"MatMul\" op_name=\"arxiv_bert_3/tfxl_net_model/transformer/layer_._0/ff/layer_1/Tensordot/MatMul\" source_file=\"/usr/local/lib/python3.10/dist-packages/tensorflow/python/framework/ops.py\" source_line=1160\n\t\tXLA Label: custom-call\n\t\tShape: f32[8192,3072]\n\t\t==========================\n\n\tBuffer 15:\n\t\tSize: 96.00MiB\n\t\tOperator: op_type=\"Softmax\" op_name=\"arxiv_bert_3/tfxl_net_model/transformer/layer_._0/rel_attn/Softmax\" deduplicated_name=\"fusion.852\"\n\t\tXLA Label: fusion\n\t\tShape: f32[32,12,256,256]\n\t\t==========================\n\n\n\t [[{{node StatefulPartitionedCall}}]]\nHint: If you want to see a list of allocated tensors when OOM happens, add report_tensor_allocations_upon_oom to RunOptions for current allocation info. This isn't available when running in Eager mode.\n [Op:__inference_train_function_369800]"
          ]
        }
      ]
    },
    {
      "cell_type": "code",
      "source": [
        "def make_prediction(\n",
        "    model: Sequential, X: np.ndarray, threshold: float = 0.5\n",
        ") -> np.ndarray:\n",
        "    \"\"\"Making a prediction with the Baseline MLP model.\n",
        "\n",
        "    Args:\n",
        "        model (Sequential): The model object.\n",
        "        X (numpy.ndarray): The feature matrix.\n",
        "        threshold (float): Rounding threshold.\n",
        "    \"\"\"\n",
        "    y_pred = model.predict(X)\n",
        "    return (y_pred > threshold).astype(int)\n"
      ],
      "metadata": {
        "id": "_YFEf3FWey7z"
      },
      "execution_count": null,
      "outputs": []
    },
    {
      "cell_type": "code",
      "source": [
        "y_pred = make_prediction(model=arxiv_bert, X=tf_test_dataset)\n",
        "#print(vectorizer.inverse_transform(X_test))\n",
        "print(mlb.inverse_transform(y_pred))"
      ],
      "metadata": {
        "colab": {
          "base_uri": "https://localhost:8080/"
        },
        "id": "QxONT-t4fG09",
        "outputId": "c629915b-7427-4575-8938-7ffde12597ba"
      },
      "execution_count": null,
      "outputs": [
        {
          "output_type": "stream",
          "name": "stdout",
          "text": [
            "125/125 [==============================] - 67s 437ms/step\n",
            "[('cs.IR', 'cs.LG'), ('cs.AI', 'cs.LG'), ('cs.AI', 'cs.RO'), ('cs.AI', 'cs.LG'), ('cs.LG', 'cs.NE'), ('cs.AI', 'cs.CV'), ('cs.AI', 'cs.CL', 'cs.LG'), ('cs.AI', 'cs.LG'), ('cs.IT',), ('cs.AI', 'cs.MA'), ('cs.IT', 'cs.SD'), ('cs.AI', 'cs.LG', 'cs.SY'), ('cs.IT',), ('cs.IT',), ('cs.IT', 'cs.LG'), ('cs.LG',), ('cs.IT',), ('cs.IT',), ('cs.LG',), ('cs.CR', 'cs.LG', 'cs.NI'), ('cs.AI', 'cs.LG'), ('cs.AI', 'cs.LG'), ('cs.IT',), ('cs.IT',), ('cs.IT',), ('cs.IT',), ('cs.IT',), ('cs.AI', 'cs.CL', 'cs.LG'), ('cs.IT',), ('cs.AI', 'cs.CL'), ('cs.LG',), ('cs.IT',), ('cs.IT',), ('cs.LG',), ('cs.LG',), ('cs.LG',), ('cs.AI', 'cs.CV'), ('cs.AI',), ('cs.IT',), ('cs.IT',), ('cs.IT',), ('cs.LG',), ('cs.AI', 'cs.SD'), ('cs.AI', 'cs.IR', 'cs.LG'), ('cs.IT',), ('cs.IT',), ('cs.AI', 'cs.CL'), ('cs.LG',), ('cs.IT',), ('cs.LG',), ('cs.IT',), ('cs.IT',), ('cs.AI', 'cs.RO'), ('cs.LG',), ('cs.AI',), ('cs.CR', 'cs.IT'), ('cs.LG', 'cs.SI'), ('cs.CV', 'cs.LG'), ('cs.IT',), ('cs.IT',), ('cs.AI',), ('cs.AI', 'cs.CV'), ('cs.DC', 'cs.IT'), ('cs.IT',), ('cs.CV', 'cs.LG'), ('cs.IT',), ('cs.AI', 'cs.LG'), ('cs.AI', 'cs.PL', 'cs.SE'), ('cs.AI', 'cs.CV', 'cs.LG'), ('cs.DC', 'cs.IT'), ('cs.AI', 'cs.LG'), ('cs.AI', 'cs.CL'), ('cs.CR', 'cs.LG'), ('cs.AI', 'cs.LG'), ('cs.IT',), ('cs.IT',), ('cs.IT',), ('cs.CR', 'cs.LG'), ('cs.AI', 'cs.CL'), ('cs.AI', 'cs.CV', 'cs.LG'), ('cs.LG',), ('cs.LG', 'cs.SI'), ('cs.LG',), ('cs.IT',), ('cs.AI', 'cs.CL', 'cs.CV'), ('cs.CV', 'cs.LG'), ('cs.AI', 'cs.CR', 'cs.IR', 'cs.LG'), ('cs.AI', 'cs.CL'), ('cs.AI',), ('cs.IT',), ('cs.AI', 'cs.CV'), ('cs.IT',), ('cs.LG',), ('cs.LG',), ('cs.CY', 'cs.LG'), ('cs.CR', 'cs.LG'), ('cs.IT',), ('cs.AI',), ('cs.IT',), ('cs.AI', 'cs.CV', 'cs.LG'), ('cs.IT', 'cs.LG'), ('cs.LG',), ('cs.AI', 'cs.CV', 'cs.RO'), ('cs.LG',), ('cs.AI', 'cs.CV'), ('cs.AI', 'cs.CV', 'cs.RO'), ('cs.CL',), ('cs.IT',), ('cs.LG', 'cs.MM', 'cs.SD'), ('cs.AI',), ('cs.AI', 'cs.CV', 'cs.GR', 'cs.LG'), ('cs.CL', 'cs.LG'), ('cs.AI',), ('cs.IT',), ('cs.LG', 'cs.SD'), ('cs.AI', 'cs.LG'), ('cs.LG',), ('cs.AI', 'cs.CV'), ('cs.LG',), ('cs.AI', 'cs.CL', 'cs.LG'), ('cs.AI', 'cs.CV', 'cs.LG'), ('cs.AI', 'cs.CL'), ('cs.LG',), ('cs.AI', 'cs.CL'), ('cs.CL',), ('cs.LG',), ('cs.AI',), ('cs.CV', 'cs.LG'), ('cs.CL', 'cs.CV', 'cs.LG'), ('cs.IT',), (), ('cs.CV', 'cs.LG'), ('cs.AI', 'cs.RO'), ('cs.CL', 'cs.SD'), ('cs.CV', 'cs.LG'), ('cs.LG',), ('cs.AI',), ('cs.IT',), ('cs.IT',), ('cs.IT',), ('cs.LG',), ('cs.IT',), ('cs.AI', 'cs.RO'), ('cs.AI', 'cs.CL'), ('cs.AI', 'cs.CL'), ('cs.LG',), ('cs.IT',), ('cs.IT',), ('cs.CV', 'cs.LG'), ('cs.AI', 'cs.CV'), ('cs.AI', 'cs.CL'), ('cs.AI', 'cs.CL'), ('cs.AI', 'cs.GT', 'cs.LG'), ('cs.IT',), ('cs.IT',), ('cs.AI', 'cs.CV', 'cs.RO'), ('cs.AI', 'cs.CV', 'cs.GR', 'cs.RO'), ('cs.AI', 'cs.LG'), ('cs.AI', 'cs.CL', 'cs.CY'), ('cs.AI', 'cs.RO'), ('cs.LG',), ('cs.AI', 'cs.CV', 'cs.LG'), ('cs.IT',), ('cs.IR', 'cs.LG'), ('cs.AI', 'cs.MA'), ('cs.AI', 'cs.CV'), ('cs.CR', 'cs.LG', 'cs.SD'), ('cs.LG',), ('cs.AI', 'cs.CV'), ('cs.LG',), ('cs.AI',), ('cs.IT',), ('cs.AI', 'cs.LG'), ('cs.AI', 'cs.CL'), ('cs.AI', 'cs.CL', 'cs.LG'), (), ('cs.IT',), ('cs.IT',), ('cs.CV', 'cs.LG'), ('cs.SE',), ('cs.IT',), ('cs.CY', 'cs.LG'), ('cs.IT',), ('cs.IR', 'cs.LG'), ('cs.IT',), ('cs.AI', 'cs.LG'), ('cs.AI', 'cs.CL', 'cs.LG'), ('cs.AI', 'cs.CV', 'cs.LG'), ('cs.IR',), ('cs.LG',), ('cs.IR', 'cs.LG'), ('cs.AI', 'cs.SE'), ('cs.AI', 'cs.MA'), ('cs.IT',), ('cs.IT', 'cs.LG'), ('cs.CR', 'cs.LG', 'cs.NI'), ('cs.LG',), ('cs.AI', 'cs.CL'), ('cs.AI', 'cs.IR'), ('cs.AI', 'cs.CV'), ('cs.IT',), ('cs.AI',), ('cs.IR', 'cs.LG'), ('cs.AI', 'cs.CL'), ('cs.IT',), ('cs.AI', 'cs.CV'), ('cs.RO',), ('cs.LG',), (), ('cs.AI', 'cs.RO'), ('cs.AI', 'cs.CL', 'cs.CV'), ('cs.IT',), ('cs.LG', 'cs.SI'), ('cs.AI', 'cs.MA'), ('cs.AI', 'cs.CL'), ('cs.GT', 'cs.MA'), ('cs.AI', 'cs.CV'), ('cs.AI', 'cs.CV', 'cs.LG'), ('cs.IT',), ('cs.IT',), ('cs.AI', 'cs.LG'), ('cs.AI', 'cs.LG'), ('cs.IT',), ('cs.AI',), ('cs.LG',), ('cs.DC', 'cs.LG'), ('cs.CL', 'cs.CR', 'cs.LG'), ('cs.IT',), ('cs.LG',), ('cs.MA',), ('cs.IT',), ('cs.CV', 'cs.LG'), ('cs.AI', 'cs.CL', 'cs.LG'), ('cs.AI', 'cs.CL'), ('cs.AI', 'cs.CV'), ('cs.AI', 'cs.CV', 'cs.NE'), ('cs.AI', 'cs.CL', 'cs.LG'), ('cs.AI', 'cs.CV', 'cs.LG'), ('cs.AI', 'cs.RO'), ('cs.AI', 'cs.LG'), ('cs.IT', 'cs.NI'), ('cs.AI', 'cs.CL'), ('cs.LG', 'cs.NI'), ('cs.LG',), ('cs.AI', 'cs.CL'), ('cs.IT',), ('cs.IT',), ('cs.AI', 'cs.CR', 'cs.LG'), ('cs.AI', 'cs.CL', 'cs.CV'), ('cs.IT',), ('cs.IT',), ('cs.DC', 'cs.LG'), ('cs.LG',), ('cs.IT',), ('cs.IT',), ('cs.IT',), ('cs.LG',), ('cs.IT',), ('cs.IT',), ('cs.AI', 'cs.LG'), ('cs.AI', 'cs.CV', 'cs.RO'), ('cs.AI', 'cs.LG'), ('cs.AI', 'cs.CV', 'cs.GR', 'cs.LG'), ('cs.AI', 'cs.CV'), ('cs.IT',), ('cs.AI', 'cs.NE'), ('cs.AI', 'cs.CL'), ('cs.IT', 'cs.LG'), ('cs.AI', 'cs.IR', 'cs.LG'), ('cs.DC', 'cs.LG'), ('cs.AI', 'cs.IR', 'cs.LG'), ('cs.IT',), ('cs.CV', 'cs.LG'), ('cs.CV',), ('cs.DC', 'cs.IT', 'cs.LG'), ('cs.AI', 'cs.RO'), ('cs.IT',), ('cs.AI', 'cs.LG'), ('cs.IT',), ('cs.IT',), ('cs.AI', 'cs.CV', 'cs.LG'), ('cs.LG',), ('cs.AI', 'cs.CL'), ('cs.LG',), ('cs.LG',), ('cs.LG',), ('cs.AI', 'cs.LG'), ('cs.LG',), ('cs.AI', 'cs.LG'), ('cs.AI', 'cs.SE'), ('cs.AI', 'cs.CL', 'cs.CR'), ('cs.AI', 'cs.RO'), ('cs.IT',), ('cs.IT',), ('cs.IT',), ('cs.AI', 'cs.CV'), ('cs.IT',), ('cs.AI', 'cs.LG'), ('cs.AI', 'cs.LG'), ('cs.LG',), ('cs.IT',), ('cs.LG',), ('cs.DC', 'cs.IT', 'cs.LG'), ('cs.AI', 'cs.LG', 'cs.RO'), ('cs.IT',), ('cs.LG',), ('cs.IT',), ('cs.AI', 'cs.CL'), ('cs.AI',), ('cs.IT',), ('cs.LG',), ('cs.AI', 'cs.CL'), ('cs.LG',), ('cs.DC', 'cs.LG'), ('cs.AI', 'cs.LG'), ('cs.AI', 'cs.CV'), ('cs.IT',), ('cs.LG',), ('cs.LG',), ('cs.IT',), ('cs.CL', 'cs.LG'), ('cs.AI', 'cs.CL', 'cs.RO'), ('cs.AI', 'cs.CL', 'cs.LG'), ('cs.CR', 'cs.LG'), ('cs.LG',), ('cs.LG',), ('cs.LG',), ('cs.IT',), ('cs.AI', 'cs.CV', 'cs.LG'), ('cs.AI', 'cs.CV'), ('cs.AI', 'cs.CV', 'cs.LG'), ('cs.LG',), ('cs.AI', 'cs.LG'), ('cs.AI',), ('cs.IT',), ('cs.CL', 'cs.LG'), ('cs.IT',), ('cs.IT', 'cs.LG', 'cs.MA'), ('cs.IT',), ('cs.AI', 'cs.CV'), ('cs.AI', 'cs.CV'), ('cs.CL', 'cs.LG'), ('cs.AI', 'cs.CL'), ('cs.AI', 'cs.CL'), ('cs.IT',), ('cs.AI', 'cs.LG', 'cs.NE'), ('cs.LG',), ('cs.IT',), ('cs.AI', 'cs.LG'), ('cs.AI', 'cs.CL'), ('cs.CV', 'cs.LG'), ('cs.CV', 'cs.LG'), ('cs.AI', 'cs.CV', 'cs.RO'), ('cs.IT',), ('cs.IT',), ('cs.IT',), ('cs.DC', 'cs.IT'), ('cs.AI', 'cs.CL'), ('cs.AI', 'cs.LG'), ('cs.AI', 'cs.RO'), ('cs.IT',), ('cs.AI', 'cs.LG'), ('cs.AI', 'cs.CR', 'cs.LG'), ('cs.IT',), ('cs.AI', 'cs.IT'), ('cs.LG',), ('cs.AI', 'cs.LG', 'cs.SD'), ('cs.IT',), ('cs.IT',), ('cs.LG',), ('cs.LG',), ('cs.IR', 'cs.LG'), ('cs.AI', 'cs.LG'), ('cs.AI', 'cs.LG'), ('cs.AI', 'cs.CL', 'cs.LG'), ('cs.IT',), ('cs.AI', 'cs.CR', 'cs.CV'), ('cs.IT',), ('cs.AI', 'cs.LG'), ('cs.IT',), ('cs.IT',), ('cs.IT',), ('cs.DC', 'cs.LG'), ('cs.AI',), ('cs.LG',), ('cs.LG',), ('cs.IT', 'cs.NI'), ('cs.AI', 'cs.CL', 'cs.CV'), ('cs.AI', 'cs.LG'), ('cs.AI', 'cs.CV'), ('cs.AI', 'cs.CV'), ('cs.AI', 'cs.CL', 'cs.SD'), ('cs.AI', 'cs.CL'), ('cs.CV', 'cs.LG'), ('cs.IT',), ('cs.IT',), ('cs.LG',), ('cs.IT',), ('cs.AI', 'cs.LG', 'cs.NE'), ('cs.AI', 'cs.NE'), ('cs.AI', 'cs.CV'), ('cs.IT',), ('cs.IT',), ('cs.LG',), ('cs.LG',), ('cs.AI', 'cs.CV', 'cs.RO'), ('cs.IT',), ('cs.CL', 'cs.IT'), ('cs.AI', 'cs.LG'), ('cs.LG',), ('cs.AI',), ('cs.IT', 'cs.LG'), ('cs.LG',), ('cs.AI', 'cs.RO'), ('cs.AI', 'cs.CL'), ('cs.CR', 'cs.DC', 'cs.LG'), ('cs.AI', 'cs.LG'), ('cs.IT',), ('cs.AI', 'cs.CV'), ('cs.LG',), ('cs.IT',), ('cs.IT', 'cs.NI'), ('cs.LG',), ('cs.CV',), ('cs.LG',), ('cs.AI', 'cs.CL'), ('cs.IT', 'cs.LG'), ('cs.AI', 'cs.LG'), ('cs.IT',), ('cs.AI', 'cs.LG'), ('cs.IT', 'cs.LG'), ('cs.AI', 'cs.CL'), ('cs.AI', 'cs.CL', 'cs.IR'), ('cs.AI',), ('cs.AI', 'cs.CR', 'cs.LG'), ('cs.IT',), ('cs.CV', 'cs.LG', 'cs.RO'), ('cs.DC', 'cs.LG'), ('cs.IT',), ('cs.AI', 'cs.CV', 'cs.RO'), ('cs.IT',), ('cs.LG',), ('cs.IT', 'cs.LG'), ('cs.AI', 'cs.LG', 'cs.RO', 'cs.SY'), ('cs.AI', 'cs.LG'), ('cs.IT', 'cs.LG'), ('cs.CV', 'cs.LG'), ('cs.AI', 'cs.LG'), ('cs.AI', 'cs.LO'), ('cs.IT',), ('cs.AI', 'cs.LG', 'cs.NE'), ('cs.IT',), ('cs.LG',), ('cs.AI', 'cs.CV'), ('cs.AI', 'cs.CV', 'cs.GR', 'cs.LG'), ('cs.LG',), ('cs.AI', 'cs.LG'), ('cs.AI', 'cs.CV', 'cs.GR', 'cs.HC', 'cs.LG', 'cs.RO'), ('cs.IT', 'cs.LG'), ('cs.LG',), ('cs.AI', 'cs.LG'), ('cs.LG', 'cs.MA'), ('cs.LG',), ('cs.IT',), ('cs.IT',), ('cs.IT',), ('cs.AI', 'cs.MA'), ('cs.IT',), ('cs.LG',), ('cs.LG',), ('cs.AI', 'cs.LG', 'cs.SE'), ('cs.AI', 'cs.CV'), ('cs.AI', 'cs.CV'), ('cs.LG',), ('cs.AI', 'cs.RO'), ('cs.AI', 'cs.LG', 'cs.RO'), ('cs.AI', 'cs.RO'), ('cs.IT',), ('cs.IT',), ('cs.CV', 'cs.LG'), ('cs.AI',), ('cs.AI', 'cs.CV'), ('cs.IT',), ('cs.AI', 'cs.CL', 'cs.LG'), ('cs.AI', 'cs.CL'), ('cs.IT',), ('cs.LG',), ('cs.AI',), ('cs.AI', 'cs.LG'), ('cs.LG',), ('cs.IT',), ('cs.AI', 'cs.CL'), ('cs.AI', 'cs.LG', 'cs.RO'), ('cs.CL', 'cs.LG'), ('cs.AI', 'cs.CL'), ('cs.IT',), ('cs.CV', 'cs.LG'), ('cs.AI', 'cs.DC'), ('cs.IT',), ('cs.AI', 'cs.CV'), ('cs.AI', 'cs.CL'), ('cs.AI', 'cs.CV'), ('cs.AI', 'cs.CV'), ('cs.AI', 'cs.CV'), ('cs.AI', 'cs.LG', 'cs.NE'), ('cs.AI', 'cs.CL', 'cs.CV'), ('cs.AI', 'cs.CL'), ('cs.CR', 'cs.LG'), ('cs.AI', 'cs.CV', 'cs.LG'), ('cs.AI', 'cs.CL'), ('cs.IR', 'cs.LG'), ('cs.AI', 'cs.CV', 'cs.LG', 'cs.RO'), ('cs.AI', 'cs.CR', 'cs.CV'), ('cs.AI', 'cs.CV', 'cs.LG', 'cs.RO'), ('cs.IT',), ('cs.AI', 'cs.IR', 'cs.LG'), ('cs.IT',), ('cs.AI', 'cs.LG'), ('cs.LG',), ('cs.IT', 'cs.LG'), ('cs.CR', 'cs.LG'), ('cs.IT',), ('cs.AI',), ('cs.AI', 'cs.CL'), ('cs.IT',), ('cs.IT',), ('cs.AI', 'cs.RO'), ('cs.CV', 'cs.LG'), ('cs.AI', 'cs.CV'), ('cs.LG', 'cs.SD'), ('cs.AI', 'cs.LG'), ('cs.AI', 'cs.CL', 'cs.SI'), ('cs.AI', 'cs.HC', 'cs.LG'), ('cs.AI', 'cs.LG'), ('cs.AI', 'cs.CL', 'cs.LG'), ('cs.AI', 'cs.HC', 'cs.LG'), ('cs.DC', 'cs.IT'), ('cs.CR', 'cs.DC', 'cs.LG'), ('cs.LG',), ('cs.IT',), ('cs.CL', 'cs.LG'), ('cs.AI', 'cs.CL'), ('cs.AI', 'cs.LG'), ('cs.AI', 'cs.CV'), ('cs.AI', 'cs.SY'), ('cs.LG', 'cs.MA'), ('cs.LG',), ('cs.IT',), ('cs.IT',), ('cs.IT',), ('cs.LG', 'cs.SI'), ('cs.AI', 'cs.CV', 'cs.LG', 'cs.RO'), ('cs.AI', 'cs.CV', 'cs.LG'), ('cs.IT',), ('cs.IT',), ('cs.IT',), ('cs.IT',), ('cs.AI', 'cs.CV'), ('cs.IT',), ('cs.AI', 'cs.CV'), ('cs.IT', 'cs.LG'), ('cs.IT',), ('cs.IT',), ('cs.AI', 'cs.LG'), ('cs.LG',), ('cs.AI', 'cs.CL'), ('cs.AI',), ('cs.AI', 'cs.LG'), ('cs.CR', 'cs.LG'), ('cs.AI', 'cs.CL'), ('cs.AI', 'cs.CL'), ('cs.AI', 'cs.CL'), ('cs.AI', 'cs.CV'), ('cs.AI', 'cs.MA'), ('cs.CL',), ('cs.LG',), ('cs.AI', 'cs.LG', 'cs.NE'), ('cs.IT',), ('cs.IT', 'cs.LG', 'cs.NI'), ('cs.IT',), ('cs.IT',), ('cs.IT', 'cs.LG', 'cs.NI'), ('cs.SY',), ('cs.AI', 'cs.LG'), ('cs.IT',), ('cs.CV', 'cs.LG'), ('cs.AI', 'cs.MA'), ('cs.AI', 'cs.CL', 'cs.LG'), ('cs.AI', 'cs.CV', 'cs.LG'), ('cs.IT', 'cs.LG'), ('cs.AI', 'cs.CV'), ('cs.IT',), ('cs.IT',), ('cs.LG',), ('cs.CL', 'cs.LG'), ('cs.LG',), ('cs.IT',), ('cs.AI', 'cs.LG'), ('cs.AI', 'cs.CY'), ('cs.AI', 'cs.CY'), ('cs.IT',), ('cs.IT',), ('cs.AI', 'cs.LG'), ('cs.IT', 'cs.LG', 'cs.NI'), ('cs.AI', 'cs.CL', 'cs.CY', 'cs.LG'), ('cs.IT',), ('cs.AI', 'cs.LG'), ('cs.CR', 'cs.LG'), ('cs.AI', 'cs.CL'), ('cs.AI',), ('cs.AI',), ('cs.AI', 'cs.LG'), ('cs.AI', 'cs.LG'), ('cs.DC',), ('cs.CV', 'cs.LG'), ('cs.LG',), ('cs.IT',), ('cs.AI', 'cs.CL'), ('cs.AI', 'cs.LG'), ('cs.LG',), ('cs.IT', 'cs.LG'), ('cs.CV', 'cs.LG'), ('cs.AI',), ('cs.IT',), ('cs.AI', 'cs.CV'), ('cs.IT',), ('cs.DC', 'cs.LG'), ('cs.LG',), ('cs.IT', 'cs.LG'), ('cs.AI', 'cs.HC'), ('cs.AI', 'cs.CL'), ('cs.AI', 'cs.CV'), ('cs.AI', 'cs.NE'), ('cs.AI', 'cs.CL'), ('cs.AI', 'cs.RO'), ('cs.IT',), ('cs.LG',), ('cs.CL', 'cs.LG'), ('cs.AI', 'cs.LG'), ('cs.IT',), ('cs.CL', 'cs.LG'), ('cs.LG',), ('cs.LG',), ('cs.CR', 'cs.LG'), ('cs.IT', 'cs.LG'), ('cs.AI', 'cs.LO'), ('cs.AI', 'cs.HC'), ('cs.AI', 'cs.CL', 'cs.CY'), ('cs.LG',), ('cs.IT',), ('cs.AI', 'cs.LG'), ('cs.LG',), ('cs.AI', 'cs.CR'), ('cs.IT',), ('cs.LG',), ('cs.IT', 'cs.LG'), ('cs.AI', 'cs.CL'), ('cs.AI', 'cs.RO'), ('cs.LG',), ('cs.AI', 'cs.CV'), ('cs.AI', 'cs.CV'), ('cs.AI', 'cs.CV'), ('cs.AI', 'cs.LG'), ('cs.IT',), ('cs.AI',), ('cs.IT',), ('cs.IT',), ('cs.IT', 'cs.LG'), ('cs.AI', 'cs.CL', 'cs.IR'), ('cs.AI', 'cs.CL'), ('cs.IT',), ('cs.AI', 'cs.CV'), ('cs.IT',), ('cs.LG',), ('cs.IT',), ('cs.LG', 'cs.SI'), ('cs.LG',), ('cs.AI', 'cs.LG'), ('cs.AI', 'cs.CV', 'cs.LG'), ('cs.IT',), ('cs.LG',), ('cs.AI', 'cs.CL', 'cs.LG'), ('cs.IT',), ('cs.LG',), ('cs.AI', 'cs.CL'), ('cs.IT',), ('cs.IT',), ('cs.IT',), ('cs.AI', 'cs.CV'), ('cs.AI', 'cs.LG'), ('cs.CR', 'cs.IT'), ('cs.IT',), ('cs.LG', 'cs.SE'), ('cs.LG',), ('cs.IT', 'cs.LG'), ('cs.AI', 'cs.LG', 'cs.RO'), ('cs.CV', 'cs.LG'), ('cs.AI', 'cs.LG'), ('cs.IT', 'cs.LG'), ('cs.LG',), ('cs.IT',), ('cs.IT', 'cs.LG'), ('cs.IT',), ('cs.AI', 'cs.CL', 'cs.IR'), ('cs.IT',), ('cs.LG',), ('cs.AI', 'cs.CL'), ('cs.LG',), ('cs.AI', 'cs.CV'), ('cs.AI', 'cs.CV'), ('cs.AI', 'cs.LG'), ('cs.DC', 'cs.IT', 'cs.LG'), ('cs.AI', 'cs.LG'), ('cs.IT',), ('cs.LG',), ('cs.DC', 'cs.LG'), ('cs.IT',), ('cs.CL', 'cs.LG'), ('cs.LG',), ('cs.IT',), ('cs.AI', 'cs.CV', 'cs.LG'), ('cs.IT',), ('cs.IT',), ('cs.LG', 'cs.NE'), ('cs.IT',), ('cs.AI', 'cs.CV', 'cs.LG'), ('cs.LG',), ('cs.IT',), ('cs.AI', 'cs.CL'), ('cs.IT',), ('cs.AI', 'cs.CL'), ('cs.AI', 'cs.LG'), ('cs.IT',), ('cs.LG',), ('cs.LG',), ('cs.IT',), ('cs.IT',), ('cs.IT',), ('cs.IT',), ('cs.AI', 'cs.CV', 'cs.LG'), ('cs.LG',), ('cs.LG',), ('cs.DS', 'cs.IT'), ('cs.LG',), ('cs.LG', 'cs.SE'), ('cs.IT',), ('cs.IT',), ('cs.IT', 'cs.NI'), ('cs.IT', 'cs.LG'), ('cs.CR', 'cs.DC', 'cs.LG'), ('cs.CL',), ('cs.LG',), ('cs.IT',), ('cs.IR', 'cs.LG'), ('cs.AI', 'cs.CL'), ('cs.AI', 'cs.CV'), ('cs.IT', 'cs.LG'), ('cs.AI', 'cs.CL'), ('cs.AI', 'cs.HC'), ('cs.IT',), ('cs.AI', 'cs.CL'), ('cs.CY', 'cs.LG'), ('cs.AI',), ('cs.IT',), ('cs.IT',), ('cs.AI', 'cs.CL'), ('cs.LG',), ('cs.AI', 'cs.LG'), ('cs.IT',), ('cs.CR', 'cs.LG'), ('cs.CL', 'cs.LG'), ('cs.IT',), ('cs.LG', 'cs.SD'), ('cs.AI', 'cs.CL'), ('cs.AI',), ('cs.IT',), ('cs.IT',), ('cs.LG',), ('cs.IT',), ('cs.AI', 'cs.SE'), ('cs.IT',), ('cs.AI', 'cs.CL', 'cs.SE'), ('cs.CV', 'cs.LG'), ('cs.IT', 'cs.LG'), ('cs.CR', 'cs.CV', 'cs.LG'), ('cs.AI', 'cs.LG'), ('cs.LG', 'cs.SE'), ('cs.IT',), ('cs.IT',), ('cs.AI', 'cs.CV'), ('cs.AI', 'cs.LG', 'cs.SE'), ('cs.AI', 'cs.RO', 'cs.SY'), ('cs.AI', 'cs.LG'), ('cs.DC', 'cs.LG'), ('cs.IT',), ('cs.IT',), ('cs.AI', 'cs.CV', 'cs.LG', 'cs.RO'), ('cs.AI', 'cs.CL', 'cs.CV'), ('cs.LG',), ('cs.IT',), ('cs.CV', 'cs.LG'), ('cs.CV', 'cs.LG'), ('cs.LG', 'cs.NE'), ('cs.LG',), ('cs.DC', 'cs.IT'), ('cs.AI', 'cs.CL', 'cs.IR', 'cs.LG'), ('cs.AI', 'cs.RO'), ('cs.AI', 'cs.CV', 'cs.LG'), ('cs.LG',), ('cs.AI', 'cs.CR', 'cs.CV', 'cs.LG'), ('cs.CL', 'cs.LG', 'cs.SD'), ('cs.CV', 'cs.LG'), ('cs.AI', 'cs.LG'), ('cs.AI', 'cs.CL'), ('cs.AI', 'cs.CV'), ('cs.IT',), ('cs.LG',), ('cs.IT',), ('cs.AI', 'cs.LG'), ('cs.LG',), ('cs.CV', 'cs.LG'), ('cs.AI', 'cs.CL', 'cs.IR', 'cs.LG'), ('cs.LG',), ('cs.LG',), ('cs.LG',), ('cs.AI', 'cs.CL'), ('cs.LG',), ('cs.LG',), ('cs.LG',), ('cs.CL', 'cs.LG'), ('cs.AI', 'cs.CL'), ('cs.IT',), ('cs.CR', 'cs.LG'), ('cs.AI', 'cs.CL'), ('cs.IT',), ('cs.LG',), ('cs.AI', 'cs.CV'), ('cs.LG',), ('cs.IT',), ('cs.LG',), ('cs.IT', 'cs.NI'), ('cs.IT',), ('cs.IT',), ('cs.AI', 'cs.RO'), ('cs.CL', 'cs.LG'), ('cs.IT', 'cs.LG'), ('cs.AI',), ('cs.AI', 'cs.CL', 'cs.CV'), ('cs.IT',), ('cs.AI', 'cs.LG'), ('cs.IT',), ('cs.LG', 'cs.NE'), ('cs.IT',), ('cs.IT',), ('cs.AI', 'cs.CV'), ('cs.IT',), ('cs.LG',), ('cs.AI', 'cs.AR', 'cs.LG', 'cs.NE'), ('cs.AI', 'cs.LG'), ('cs.IT', 'cs.LG'), ('cs.AI', 'cs.LG'), ('cs.CV', 'cs.LG'), ('cs.AI', 'cs.NE'), ('cs.LG',), ('cs.IT',), ('cs.AI', 'cs.CL'), ('cs.AI', 'cs.CL', 'cs.IR'), ('cs.IT',), ('cs.LG',), ('cs.DC', 'cs.IT', 'cs.LG'), ('cs.IT',), ('cs.LG',), ('cs.AI', 'cs.RO', 'cs.SY'), ('cs.IT',), ('cs.CV', 'cs.LG'), ('cs.LG', 'cs.NE'), ('cs.AI', 'cs.LG'), ('cs.IT',), ('cs.IT',), ('cs.IT',), ('cs.AI', 'cs.HC'), ('cs.IT',), ('cs.IT', 'cs.NI'), ('cs.AI', 'cs.LG'), ('cs.AI', 'cs.HC', 'cs.RO'), ('cs.CV', 'cs.LG'), ('cs.AI', 'cs.LG'), ('cs.IR', 'cs.LG'), ('cs.IT',), ('cs.AI',), ('cs.LG',), ('cs.CL', 'cs.LG'), ('cs.AI', 'cs.CV', 'cs.RO'), ('cs.LG',), ('cs.AI', 'cs.LG'), ('cs.DC', 'cs.IT', 'cs.LG'), ('cs.AI', 'cs.LG', 'cs.RO'), ('cs.AI',), ('cs.IT',), ('cs.IT',), ('cs.AI', 'cs.LG'), ('cs.LG',), ('cs.LG',), ('cs.AI',), ('cs.AI', 'cs.LG'), ('cs.IT',), ('cs.DC', 'cs.IT'), ('cs.LG',), ('cs.AI', 'cs.LG'), ('cs.AI',), ('cs.LG',), ('cs.IT',), ('cs.AI', 'cs.CR', 'cs.CV', 'cs.LG'), ('cs.IT',), ('cs.AI', 'cs.LG', 'cs.NE'), ('cs.IT',), ('cs.AI', 'cs.LG'), ('cs.LG',), ('cs.LG',), ('cs.LG', 'cs.NI'), ('cs.AI', 'cs.RO'), ('cs.LG',), ('cs.AI',), ('cs.CL', 'cs.LG'), ('cs.LG',), ('cs.IT',), ('cs.AI', 'cs.CL', 'cs.SD'), ('cs.LG',), ('cs.IT',), ('cs.LG',), ('cs.LG',), ('cs.AI', 'cs.CL'), ('cs.CL', 'cs.CY', 'cs.LG'), ('cs.LG',), ('cs.LG', 'cs.SD'), ('cs.AI', 'cs.CV'), ('cs.LG',), ('cs.AI', 'cs.CV'), ('cs.AI', 'cs.CV', 'cs.LG'), ('cs.AI',), ('cs.IT',), ('cs.CV', 'cs.LG'), ('cs.AI', 'cs.LG', 'cs.MA'), ('cs.LG',), ('cs.AI', 'cs.CL'), ('cs.AI',), ('cs.LG',), ('cs.IT',), ('cs.AI', 'cs.CV'), ('cs.IT',), ('cs.IT', 'cs.LG'), ('cs.AI', 'cs.LG'), ('cs.LG',), ('cs.AI', 'cs.CV'), ('cs.AI', 'cs.CV'), ('cs.AI', 'cs.LG'), ('cs.AI', 'cs.CV'), ('cs.IT',), ('cs.LG',), ('cs.CR', 'cs.LG', 'cs.NI'), ('cs.IT',), ('cs.IT',), ('cs.AI', 'cs.CV'), ('cs.LG',), ('cs.LG',), ('cs.AI', 'cs.CV'), ('cs.LG',), ('cs.AI', 'cs.LG', 'cs.NE'), ('cs.IR', 'cs.LG', 'cs.SI'), ('cs.LG',), ('cs.AI', 'cs.CV'), ('cs.LG',), ('cs.IT',), ('cs.AI', 'cs.CV'), ('cs.AI', 'cs.DC', 'cs.LG'), ('cs.LG',), ('cs.LG', 'cs.NE'), ('cs.IT',), ('cs.LG',), ('cs.LG',), ('cs.CL', 'cs.LG'), ('cs.LG',), ('cs.AI', 'cs.CL'), ('cs.AI', 'cs.CV'), ('cs.AI', 'cs.CR', 'cs.LG', 'cs.NE'), ('cs.IT',), ('cs.AI', 'cs.CL'), ('cs.AI', 'cs.CL'), ('cs.LG',), ('cs.AI', 'cs.CR', 'cs.LG'), ('cs.IT',), ('cs.IT',), ('cs.LG',), ('cs.AI', 'cs.CV'), ('cs.AI', 'cs.RO'), ('cs.AI', 'cs.LG'), ('cs.IT',), ('cs.AI',), ('cs.LG',), ('cs.AI',), ('cs.LG',), ('cs.LG', 'cs.NE'), ('cs.LG',), ('cs.CL', 'cs.LG'), ('cs.CV', 'cs.LG'), ('cs.IT', 'cs.LG'), ('cs.CL', 'cs.LG'), ('cs.LG',), ('cs.AI', 'cs.CL'), ('cs.IT',), ('cs.CV', 'cs.LG'), ('cs.IT',), ('cs.LG',), ('cs.IT',), ('cs.AI', 'cs.CL'), ('cs.IT',), ('cs.IT',), ('cs.AI', 'cs.CL'), ('cs.AI', 'cs.LG'), ('cs.IT',), ('cs.AI', 'cs.CV', 'cs.LG'), ('cs.AI', 'cs.CV'), ('cs.CR', 'cs.LG'), ('cs.AI', 'cs.CV'), ('cs.AI', 'cs.CL'), ('cs.IT',), ('cs.IT', 'cs.LG'), ('cs.IT',), ('cs.IT',), ('cs.AI', 'cs.CL'), ('cs.AI', 'cs.CL'), ('cs.AI', 'cs.CR', 'cs.CY'), ('cs.IR', 'cs.LG'), ('cs.IT',), ('cs.IT',), ('cs.AI', 'cs.CV'), ('cs.LG',), ('cs.AI',), ('cs.AI', 'cs.CL', 'cs.MM'), ('cs.CV', 'cs.LG'), ('cs.IT',), ('cs.AI', 'cs.CL', 'cs.HC'), ('cs.LG',), ('cs.AI', 'cs.CV'), ('cs.IT',), ('cs.CL', 'cs.LG'), ('cs.IT',), ('cs.LG',), ('cs.AI', 'cs.RO'), ('cs.LG',), ('cs.LG', 'cs.NE'), ('cs.IT',), ('cs.IT',), ('cs.IT',), ('cs.AI', 'cs.CL', 'cs.LG'), ('cs.AI', 'cs.CL'), ('cs.CV', 'cs.LG'), ('cs.IT',), ('cs.AI', 'cs.RO'), ('cs.AI',), ('cs.IT',), ('cs.IT', 'cs.NI'), ('cs.CV',), ('cs.AI',), ('cs.IT',), ('cs.AI',), ('cs.LG',), ('cs.IT',), ('cs.AI', 'cs.MA', 'cs.RO'), ('cs.AI', 'cs.SD'), ('cs.AI', 'cs.CV'), ('cs.AI', 'cs.LG'), ('cs.AI', 'cs.CL'), ('cs.AI', 'cs.CV', 'cs.SD'), ('cs.IT',), ('cs.DC', 'cs.LG'), ('cs.IT',), ('cs.IT',), ('cs.AI',), ('cs.AI', 'cs.CV'), ('cs.IT',), ('cs.IT',), ('cs.CV', 'cs.LG'), ('cs.AI', 'cs.LG'), ('cs.IT',), ('cs.AI', 'cs.CL'), ('cs.AI', 'cs.IT', 'cs.RO'), ('cs.CV', 'cs.LG'), ('cs.CR', 'cs.LG'), ('cs.IT',), ('cs.AI', 'cs.CL', 'cs.CY'), ('cs.IT',), ('cs.CY', 'cs.LG'), ('cs.DC', 'cs.IT', 'cs.LG'), ('cs.AI', 'cs.IR'), ('cs.LG',), ('cs.CL', 'cs.IT', 'cs.LG'), ('cs.LG',), ('cs.AI', 'cs.CL', 'cs.LG'), ('cs.IT',), ('cs.AI',), ('cs.AI', 'cs.CY', 'cs.SI'), ('cs.CV', 'cs.LG'), ('cs.IT', 'cs.LG'), ('cs.LG', 'cs.SI'), ('cs.AI', 'cs.CL', 'cs.SD'), ('cs.LG',), ('cs.LG',), ('cs.AI', 'cs.CV'), ('cs.AI', 'cs.CV', 'cs.LG'), ('cs.AI', 'cs.CL'), ('cs.AI', 'cs.IR'), ('cs.AI', 'cs.LG'), ('cs.AI', 'cs.IR'), ('cs.IT',), ('cs.IT',), ('cs.AI',), ('cs.AI',), ('cs.AI', 'cs.CV'), ('cs.CY', 'cs.LG'), ('cs.IT', 'cs.LG'), ('cs.AI', 'cs.LG', 'cs.RO'), ('cs.LG',), ('cs.AI', 'cs.LG'), ('cs.LG',), ('cs.AI', 'cs.CV'), ('cs.LG',), ('cs.IT',), ('cs.AI',), ('cs.LG', 'cs.SD'), ('cs.AI', 'cs.CL', 'cs.CV'), ('cs.IT',), ('cs.IT',), ('cs.LG',), ('cs.LG',), ('cs.IT',), ('cs.AI', 'cs.LG'), ('cs.IT',), ('cs.IT',), ('cs.LG',), ('cs.AI', 'cs.CL'), ('cs.LG', 'cs.SD'), ('cs.LG', 'cs.SE'), ('cs.LG', 'cs.MA'), ('cs.CV',), ('cs.IT',), ('cs.IT',), ('cs.IT',), ('cs.CL', 'cs.LG'), ('cs.IT',), ('cs.AI', 'cs.LG'), ('cs.IT',), ('cs.CV', 'cs.HC', 'cs.LG'), ('cs.LG',), ('cs.AI', 'cs.GT'), ('cs.LG',), ('cs.CL', 'cs.LG'), ('cs.AI', 'cs.LG'), ('cs.IT',), ('cs.IT', 'cs.LG'), ('cs.IT',), ('cs.LG',), ('cs.IT',), ('cs.AI', 'cs.CV', 'cs.LG', 'cs.NE'), ('cs.AI',), ('cs.LG',), ('cs.IT', 'cs.LG'), ('cs.AI',), ('cs.IT',), ('cs.AI', 'cs.LG'), ('cs.IT',), ('cs.LG',), ('cs.AI', 'cs.LG', 'cs.RO', 'cs.SY'), ('cs.IT',), ('cs.CV', 'cs.LG'), ('cs.IT',), ('cs.CR', 'cs.LG'), ('cs.AI', 'cs.CV'), ('cs.AI', 'cs.RO'), ('cs.AI', 'cs.LG'), ('cs.AI',), ('cs.CV', 'cs.LG'), ('cs.LG',), ('cs.AI', 'cs.CL'), ('cs.AI', 'cs.CL'), ('cs.AI', 'cs.CV'), ('cs.IT',), ('cs.CV', 'cs.LG'), ('cs.LG', 'cs.NE'), ('cs.AI', 'cs.PL'), ('cs.CV',), ('cs.IR', 'cs.LG'), ('cs.LG', 'cs.SE'), ('cs.IT',), ('cs.IT',), ('cs.AI', 'cs.CL'), ('cs.DC', 'cs.IT', 'cs.LG'), ('cs.AI', 'cs.CL', 'cs.SD'), ('cs.IT',), ('cs.CR', 'cs.LG'), ('cs.IT',), ('cs.LG', 'cs.SD'), ('cs.LG',), ('cs.IT',), ('cs.LG', 'cs.MA', 'cs.SY'), ('cs.IT',), ('cs.AI', 'cs.CL'), ('cs.AI', 'cs.CL', 'cs.CV'), ('cs.LG', 'cs.SI'), ('cs.CR', 'cs.IT'), ('cs.LG',), ('cs.AI', 'cs.CV', 'cs.LG'), ('cs.CV', 'cs.LG'), ('cs.AI', 'cs.CV'), ('cs.IT',), ('cs.DC', 'cs.LG'), ('cs.IT',), ('cs.AI', 'cs.LG', 'cs.RO'), ('cs.AI', 'cs.CV'), ('cs.IT',), ('cs.AI', 'cs.LG', 'cs.MA'), ('cs.AI',), ('cs.IT', 'cs.LG'), ('cs.CL', 'cs.LG'), ('cs.LG',), ('cs.AI', 'cs.CV'), ('cs.LG',), ('cs.CL',), ('cs.LG',), ('cs.LG', 'cs.NI'), ('cs.IT',), ('cs.LG',), ('cs.LG',), ('cs.IT',), ('cs.LG',), ('cs.IT',), ('cs.AI', 'cs.CL', 'cs.CV'), ('cs.LG',), ('cs.AI', 'cs.RO'), ('cs.IT',), ('cs.IT', 'cs.NI'), ('cs.AI', 'cs.CV', 'cs.LG', 'cs.RO'), ('cs.IT',), ('cs.LG',), ('cs.AI', 'cs.NE'), ('cs.IT',), ('cs.CV', 'cs.LG'), ('cs.DC', 'cs.LG'), ('cs.IT',), ('cs.IT',), ('cs.AI', 'cs.CL', 'cs.SD'), ('cs.IT', 'cs.LG'), ('cs.IT',), ('cs.IT', 'cs.LG'), ('cs.DS', 'cs.IT'), ('cs.AI', 'cs.LG', 'cs.RO'), ('cs.LG',), ('cs.AI', 'cs.LG'), ('cs.LG',), ('cs.AI', 'cs.CV', 'cs.LG'), ('cs.AI',), ('cs.IT',), ('cs.LG',), ('cs.LG',), ('cs.IT', 'cs.LG'), ('cs.IT',), ('cs.LG',), ('cs.AI', 'cs.LG'), ('cs.AI', 'cs.CV'), ('cs.CV', 'cs.LG'), ('cs.IT',), ('cs.AI', 'cs.LG'), ('cs.AI', 'cs.HC', 'cs.RO'), ('cs.IT', 'cs.LG'), ('cs.AI', 'cs.CV'), ('cs.IT',), ('cs.IT', 'cs.NI'), ('cs.IT',), ('cs.AI', 'cs.LG'), ('cs.IT',), ('cs.AI', 'cs.LG'), ('cs.LG',), ('cs.AI', 'cs.RO'), ('cs.IT',), ('cs.IT',), ('cs.IT',), ('cs.LG',), ('cs.LG',), ('cs.IT',), ('cs.IT',), ('cs.AI', 'cs.LG'), ('cs.AI', 'cs.LG', 'cs.MA'), ('cs.IT',), ('cs.LG', 'cs.NE'), ('cs.LG', 'cs.SY'), ('cs.AI', 'cs.HC'), ('cs.CV', 'cs.LG'), ('cs.AI', 'cs.CR', 'cs.LG'), ('cs.AR', 'cs.DC', 'cs.LG', 'cs.PF'), ('cs.AI', 'cs.CL', 'cs.LG'), ('cs.LG',), ('cs.LG',), ('cs.AI', 'cs.CL', 'cs.LG'), ('cs.AI', 'cs.LG', 'cs.RO'), ('cs.LG',), ('cs.AI', 'cs.LG'), ('cs.LG',), ('cs.IT',), ('cs.LG',), ('cs.IT',), ('cs.AI', 'cs.SE'), ('cs.LG',), ('cs.LG',), ('cs.LG',), ('cs.IT',), ('cs.AI',), ('cs.IT',), ('cs.AI', 'cs.CL', 'cs.SD'), ('cs.IT',), ('cs.AI', 'cs.CL'), ('cs.AI', 'cs.MA'), ('cs.AI', 'cs.CL', 'cs.LG'), ('cs.IT',), ('cs.IT',), ('cs.LG',), ('cs.LG',), ('cs.IT', 'cs.LG'), ('cs.CL', 'cs.LG'), ('cs.AI', 'cs.CL', 'cs.CV'), ('cs.CV', 'cs.LG'), ('cs.IT', 'cs.LG'), ('cs.AI', 'cs.IR', 'cs.LG'), ('cs.IT',), ('cs.AI', 'cs.CR', 'cs.LG'), ('cs.CR', 'cs.CV', 'cs.LG'), ('cs.LG',), ('cs.AI', 'cs.NE'), ('cs.AI', 'cs.GT', 'cs.LG'), ('cs.IT',), ('cs.AR', 'cs.LG'), ('cs.IT',), ('cs.CV', 'cs.LG'), ('cs.CL', 'cs.IT', 'cs.LG'), ('cs.LG',), ('cs.IT',), ('cs.AI', 'cs.CL'), ('cs.IT',), ('cs.CL', 'cs.LG'), ('cs.AI', 'cs.CV'), ('cs.AI',), ('cs.LG',), ('cs.AI', 'cs.CL', 'cs.MM', 'cs.SD'), ('cs.AI', 'cs.CL'), ('cs.IT',), ('cs.IT',), ('cs.IT',), ('cs.IT',), ('cs.AI', 'cs.CL'), ('cs.AI', 'cs.CL'), ('cs.AI', 'cs.CV'), ('cs.AI', 'cs.CL'), ('cs.IT',), ('cs.AI', 'cs.IR'), ('cs.CR',), ('cs.LG',), ('cs.AI',), ('cs.LG',), ('cs.AI', 'cs.CV'), ('cs.AI',), ('cs.AI', 'cs.CL'), ('cs.IT',), ('cs.LG',), ('cs.AI', 'cs.LG'), ('cs.DC', 'cs.LG'), ('cs.AI',), ('cs.AI', 'cs.RO'), ('cs.IT',), ('cs.CL', 'cs.LG'), ('cs.IT', 'cs.LG'), ('cs.IT',), ('cs.AI', 'cs.LG'), ('cs.AI', 'cs.CV'), ('cs.IT',), ('cs.LG',), ('cs.AI', 'cs.LG', 'cs.RO'), ('cs.AI', 'cs.NE'), ('cs.AI', 'cs.CY', 'cs.HC', 'cs.LG'), ('cs.IT',), ('cs.CV', 'cs.LG'), ('cs.IT',), ('cs.IT',), ('cs.DC', 'cs.LG'), ('cs.AI', 'cs.CL'), ('cs.DC', 'cs.LG'), ('cs.AI', 'cs.CV', 'cs.LG'), ('cs.AI', 'cs.LG', 'cs.MA'), ('cs.AI', 'cs.CL', 'cs.CV'), ('cs.AI', 'cs.CV', 'cs.RO'), ('cs.LG',), ('cs.IT',), ('cs.LG', 'cs.SI'), ('cs.LG', 'cs.SY'), ('cs.IT', 'cs.LG'), ('cs.AI', 'cs.RO'), ('cs.LG',), ('cs.IT',), ('cs.IR', 'cs.LG'), ('cs.AI', 'cs.LO'), ('cs.AI', 'cs.LG', 'cs.NE'), ('cs.IT',), ('cs.AI', 'cs.LG'), ('cs.IT',), ('cs.AI',), ('cs.AI', 'cs.RO'), ('cs.AI', 'cs.LG'), ('cs.AI', 'cs.CV', 'cs.GR'), ('cs.GT', 'cs.LG'), ('cs.LG', 'cs.SI'), ('cs.AI', 'cs.CV'), ('cs.CR', 'cs.IT'), ('cs.AI', 'cs.CL'), ('cs.AI', 'cs.CV'), ('cs.AI', 'cs.LG'), ('cs.LG',), ('cs.LG', 'cs.SI'), ('cs.CV', 'cs.LG'), ('cs.IT',), ('cs.IT',), ('cs.LG',), ('cs.AI', 'cs.CL'), ('cs.LG',), ('cs.CV', 'cs.LG'), ('cs.LG',), ('cs.IT',), ('cs.LG',), ('cs.IT',), ('cs.IT',), ('cs.AI', 'cs.CV', 'cs.LG'), ('cs.AI', 'cs.HC'), ('cs.LG',), ('cs.DC', 'cs.LG'), ('cs.IT',), ('cs.LG',), ('cs.CL', 'cs.LG'), ('cs.IT',), ('cs.IT',), ('cs.AI', 'cs.CL'), ('cs.CR', 'cs.LG'), ('cs.IT',), ('cs.IT', 'cs.LG'), ('cs.AI', 'cs.RO'), ('cs.IT',), ('cs.IT', 'cs.LG'), ('cs.CR', 'cs.LG'), ('cs.AI', 'cs.CV', 'cs.LG'), ('cs.IT',), ('cs.DC', 'cs.LG'), ('cs.AI', 'cs.HC', 'cs.LG'), ('cs.CL', 'cs.LG'), ('cs.IT',), ('cs.LG',), ('cs.IT',), ('cs.IT',), ('cs.IT',), ('cs.LG',), ('cs.IT', 'cs.LG'), ('cs.IT',), ('cs.AI', 'cs.CL'), ('cs.AI', 'cs.CL'), ('cs.IT',), ('cs.AI', 'cs.RO'), ('cs.AI', 'cs.CL'), ('cs.LG',), ('cs.AI',), ('cs.AI', 'cs.CV'), ('cs.LG',), ('cs.IT',), ('cs.IT',), ('cs.IT',), ('cs.IT',), ('cs.AI',), ('cs.AI', 'cs.CL', 'cs.CV'), ('cs.CL', 'cs.LG'), ('cs.LG',), ('cs.IT',), ('cs.LG',), ('cs.IT',), ('cs.IT',), ('cs.DC', 'cs.LG'), ('cs.LG',), ('cs.AI', 'cs.CV'), ('cs.AI', 'cs.LG'), ('cs.CV', 'cs.LG'), ('cs.CR', 'cs.LG'), ('cs.CL', 'cs.LG'), ('cs.AI', 'cs.LG'), ('cs.AI', 'cs.CL'), ('cs.CV', 'cs.LG'), ('cs.AI', 'cs.GT', 'cs.LG'), ('cs.AI',), ('cs.AI', 'cs.CL', 'cs.LG'), ('cs.IT',), ('cs.IT',), ('cs.IR', 'cs.LG'), ('cs.IT',), ('cs.AI',), ('cs.AI', 'cs.SE'), ('cs.AI', 'cs.CV'), ('cs.AI', 'cs.LG'), ('cs.IT',), ('cs.IT',), ('cs.AI', 'cs.LG'), ('cs.DS', 'cs.IT'), ('cs.AI', 'cs.CL', 'cs.LG'), ('cs.AI', 'cs.CL'), ('cs.IT',), ('cs.LG',), ('cs.LG',), ('cs.AI', 'cs.LG'), ('cs.AI', 'cs.CL'), ('cs.LG',), ('cs.LG',), ('cs.CV', 'cs.LG'), ('cs.AI', 'cs.CL'), ('cs.IT', 'cs.SY'), ('cs.AI',), ('cs.AI', 'cs.LG'), ('cs.LG',), ('cs.IR', 'cs.LG'), ('cs.AI', 'cs.CL', 'cs.LG'), ('cs.CL', 'cs.CV', 'cs.LG', 'cs.MM'), ('cs.IT',), ('cs.IT',), ('cs.IT',), ('cs.IT',), ('cs.AI', 'cs.LG', 'cs.RO'), ('cs.IT',), ('cs.IT',), ('cs.CR', 'cs.LG'), ('cs.AI', 'cs.CL', 'cs.CV', 'cs.MM'), ('cs.CR', 'cs.LG', 'cs.NI'), ('cs.AI', 'cs.RO'), ('cs.AI', 'cs.CL'), ('cs.AI', 'cs.HC'), ('cs.CV', 'cs.LG'), ('cs.LG',), ('cs.CR', 'cs.IT'), ('cs.IT',), ('cs.IT',), ('cs.AI', 'cs.CV', 'cs.LG'), ('cs.AI', 'cs.CL'), ('cs.IT',), ('cs.AI', 'cs.CL'), ('cs.AI', 'cs.LG'), ('cs.LG',), ('cs.AI', 'cs.LG'), ('cs.LG',), ('cs.IT',), ('cs.AI', 'cs.IR'), ('cs.AI', 'cs.CY', 'cs.LG'), ('cs.LG',), ('cs.IT',), ('cs.LG', 'cs.NI'), ('cs.AR', 'cs.CV', 'cs.LG'), ('cs.LG', 'cs.SI'), ('cs.AI', 'cs.SI'), ('cs.AI', 'cs.CV', 'cs.LG'), ('cs.CV', 'cs.LG', 'cs.MM'), ('cs.LG', 'cs.SI'), ('cs.LG',), ('cs.AI', 'cs.CV', 'cs.GR', 'cs.LG'), ('cs.AI', 'cs.LG'), ('cs.LG',), ('cs.RO',), ('cs.IT',), ('cs.LG',), ('cs.IT',), ('cs.IT',), ('cs.LG',), ('cs.DC', 'cs.LG'), ('cs.IT',), ('cs.AI', 'cs.CL', 'cs.LG'), ('cs.IR',), ('cs.LG',), ('cs.AI', 'cs.GT', 'cs.MA'), ('cs.CV', 'cs.LG'), ('cs.AI', 'cs.LG'), ('cs.AI', 'cs.CY', 'cs.LG'), ('cs.LG',), ('cs.AI', 'cs.PL', 'cs.SE'), ('cs.LG',), ('cs.AI', 'cs.CR', 'cs.LG'), ('cs.AI', 'cs.CY', 'cs.LG'), ('cs.AI', 'cs.LG'), ('cs.IT',), ('cs.AI', 'cs.CL'), ('cs.DC',), ('cs.LG',), ('cs.AI', 'cs.CL', 'cs.IR'), ('cs.IT',), ('cs.AI', 'cs.CV'), ('cs.GT', 'cs.LG'), ('cs.LG', 'cs.SI'), ('cs.IT',), ('cs.AI', 'cs.CV'), ('cs.LG',), ('cs.AI', 'cs.CV'), ('cs.IT',), ('cs.IT',), ('cs.IT',), ('cs.IT',), ('cs.AI', 'cs.RO'), ('cs.AI', 'cs.CV'), ('cs.DC', 'cs.LG'), ('cs.AI', 'cs.LG'), ('cs.IT',), ('cs.AI', 'cs.CR', 'cs.LG'), ('cs.AI', 'cs.GT', 'cs.LG'), ('cs.AI', 'cs.CL'), ('cs.IT',), ('cs.LG',), ('cs.AI',), ('cs.LG',), ('cs.AI', 'cs.CL'), ('cs.GT', 'cs.LG', 'cs.MA'), ('cs.AI', 'cs.IR', 'cs.LG'), ('cs.AI', 'cs.CL'), ('cs.IT',), ('cs.LG',), ('cs.AI', 'cs.CV'), ('cs.IT',), ('cs.IT',), ('cs.LG', 'cs.MA'), ('cs.LG',), ('cs.IT',), ('cs.IT',), ('cs.LG',), ('cs.LG',), ('cs.AI', 'cs.LG', 'cs.RO'), ('cs.AI', 'cs.CL', 'cs.CV', 'cs.MM'), ('cs.LG',), ('cs.AI', 'cs.CY', 'cs.LG'), ('cs.AI', 'cs.IT'), ('cs.LG',), ('cs.AI', 'cs.CL'), ('cs.AI', 'cs.CL'), ('cs.IT',), ('cs.DC', 'cs.LG'), ('cs.AI', 'cs.CY'), ('cs.AI', 'cs.HC', 'cs.LG', 'cs.RO'), ('cs.AI', 'cs.LG'), ('cs.AI', 'cs.CV', 'cs.LG'), ('cs.AI', 'cs.RO'), ('cs.IT',), ('cs.CV', 'cs.LG'), ('cs.IT',), ('cs.AI', 'cs.CL'), ('cs.CL', 'cs.CV', 'cs.LG'), ('cs.AI', 'cs.CL', 'cs.CV'), ('cs.AI', 'cs.SD'), ('cs.AI', 'cs.CL'), ('cs.IT',), ('cs.AI', 'cs.CL'), ('cs.LG', 'cs.MA'), ('cs.CR', 'cs.DS', 'cs.LG'), ('cs.AI', 'cs.CV'), (), ('cs.IT',), ('cs.AI', 'cs.DC', 'cs.LG'), ('cs.AI', 'cs.CL'), ('cs.CV', 'cs.LG'), ('cs.AI',), ('cs.CL', 'cs.CY', 'cs.LG', 'cs.SI'), ('cs.IR', 'cs.LG'), ('cs.LG',), ('cs.CY', 'cs.IR', 'cs.LG'), ('cs.LG',), ('cs.AI', 'cs.LG'), ('cs.IT',), ('cs.AI', 'cs.CL', 'cs.CV'), ('cs.IT', 'cs.LG'), ('cs.DC', 'cs.LG'), ('cs.AI', 'cs.MA'), ('cs.AI', 'cs.CV'), ('cs.IT',), ('cs.AI', 'cs.LG', 'cs.LO'), ('cs.IT',), ('cs.AI', 'cs.CV'), ('cs.CV', 'cs.LG'), ('cs.AI', 'cs.CV'), ('cs.LG',), ('cs.LG',), ('cs.CL', 'cs.LG'), ('cs.LG',), ('cs.LG',), ('cs.IT',), ('cs.AI', 'cs.CV'), ('cs.LG',), ('cs.AI', 'cs.LG'), ('cs.IT',), ('cs.AI', 'cs.CR', 'cs.LG'), ('cs.AI', 'cs.CL', 'cs.CV'), ('cs.IT',), ('cs.AI', 'cs.CL', 'cs.LG'), ('cs.AI',), ('cs.LG',), ('cs.AI', 'cs.RO'), ('cs.AI', 'cs.LG', 'cs.SE'), ('cs.IT',), ('cs.LG',), ('cs.LG',), ('cs.AI', 'cs.CV', 'cs.LG'), ('cs.AI', 'cs.CL', 'cs.LG'), ('cs.LG',), ('cs.IT',), ('cs.LG',), ('cs.AI', 'cs.CL'), ('cs.AI', 'cs.CL', 'cs.SD'), ('cs.AI', 'cs.LG', 'cs.SY'), ('cs.LG',), ('cs.CL', 'cs.LG'), ('cs.IT',), ('cs.LG',), ('cs.AI', 'cs.LG'), ('cs.IT',), ('cs.AI', 'cs.IR', 'cs.LG'), ('cs.AI', 'cs.LG'), ('cs.AI', 'cs.LG'), ('cs.IT', 'cs.LG'), ('cs.LG',), ('cs.IT',), ('cs.AI', 'cs.CL', 'cs.LG', 'cs.RO'), ('cs.MA',), ('cs.CL', 'cs.CV'), ('cs.IT',), ('cs.AI', 'cs.CL'), ('cs.IT',), ('cs.CR', 'cs.LG'), ('cs.LG',), ('cs.IT',), ('cs.AI', 'cs.CL'), ('cs.IT',), ('cs.IT',), ('cs.AI', 'cs.LG'), ('cs.AI', 'cs.CV'), ('cs.IT', 'cs.LG'), ('cs.DC', 'cs.LG'), ('cs.LG',), ('cs.LG',), ('cs.AI',), ('cs.AI',), ('cs.AI', 'cs.LG'), ('cs.AI', 'cs.LG'), ('cs.AI', 'cs.LG'), ('cs.LG',), ('cs.AI', 'cs.CV'), ('cs.AI',), ('cs.IT',), ('cs.CL', 'cs.LG'), ('cs.IT',), ('cs.LG',), ('cs.CY', 'cs.LG'), ('cs.AI', 'cs.CL'), ('cs.LG',), ('cs.AI', 'cs.RO'), ('cs.AI', 'cs.SE'), ('cs.IT',), ('cs.LG',), ('cs.AI', 'cs.LG'), ('cs.AI', 'cs.RO'), ('cs.CL', 'cs.LG'), ('cs.AI', 'cs.CL', 'cs.CV'), ('cs.AI', 'cs.LG', 'cs.SY'), ('cs.SE',), ('cs.IT',), ('cs.AI', 'cs.RO'), ('cs.AI', 'cs.LG'), ('cs.AI', 'cs.CV'), ('cs.IT', 'cs.LG'), ('cs.IT', 'cs.NI'), ('cs.LG',), ('cs.IT',), ('cs.AI',), ('cs.AI', 'cs.CL', 'cs.RO'), ('cs.AI', 'cs.CV', 'cs.LG'), ('cs.LG', 'cs.SD'), ('cs.AI', 'cs.CL', 'cs.LG'), ('cs.AI', 'cs.CV'), ('cs.LG',), ('cs.IT', 'cs.LG', 'cs.NE'), ('cs.LG', 'cs.MA'), ('cs.CV', 'cs.LG'), ('cs.CR', 'cs.IT'), ('cs.AI', 'cs.CL'), ('cs.AI', 'cs.CL', 'cs.CV'), ('cs.IT',), ('cs.AI', 'cs.CV', 'cs.GR'), ('cs.IT',), ('cs.IT',), ('cs.LG',), ('cs.AI', 'cs.LG'), ('cs.AI', 'cs.CV'), ('cs.GT',), ('cs.IT',), ('cs.IT',), ('cs.LG', 'cs.SI'), ('cs.AI', 'cs.LG'), ('cs.IT',), ('cs.IT',), ('cs.IT',), ('cs.AI', 'cs.CV', 'cs.GR'), ('cs.LG',), ('cs.CV', 'cs.LG'), ('cs.AI', 'cs.CV'), ('cs.AI', 'cs.LG'), ('cs.AI', 'cs.LG'), ('cs.AI', 'cs.CV', 'cs.LG'), ('cs.CL', 'cs.LG'), ('cs.IT',), ('cs.IT', 'cs.LG'), ('cs.IT',), ('cs.IT',), ('cs.IT', 'cs.NI'), ('cs.IT',), ('cs.CV', 'cs.LG'), ('cs.AI', 'cs.CR', 'cs.LG'), ('cs.LG',), ('cs.IT',), ('cs.AI', 'cs.CY', 'cs.IR', 'cs.LG'), ('cs.IT',), ('cs.AI',), ('cs.AI', 'cs.CL', 'cs.LG'), ('cs.LG',), ('cs.AI', 'cs.LG', 'cs.NE'), ('cs.AI', 'cs.DC', 'cs.NI'), ('cs.IT',), ('cs.IT',), ('cs.AI',), ('cs.IT', 'cs.NI'), ('cs.IT',), ('cs.IT',), ('cs.AI',), ('cs.AI',), ('cs.AI', 'cs.CV'), ('cs.IT', 'cs.LG'), ('cs.AI', 'cs.CL'), ('cs.AI', 'cs.LG'), ('cs.LG', 'cs.SY'), ('cs.IT',), ('cs.AI', 'cs.RO'), ('cs.AI', 'cs.CL'), ('cs.AI', 'cs.CV'), ('cs.IT',), ('cs.AI', 'cs.NE', 'cs.RO'), ('cs.AI', 'cs.CV', 'cs.GR', 'cs.RO'), ('cs.IT',), ('cs.LG',), ('cs.AI', 'cs.SE'), ('cs.IT',), ('cs.IT',), ('cs.LG',), ('cs.AI', 'cs.CL', 'cs.LG'), ('cs.IT',), ('cs.LG',), ('cs.AI', 'cs.LG'), ('cs.CR', 'cs.LG'), ('cs.IT',), ('cs.LG',), ('cs.IT',), ('cs.LG',), ('cs.IT',), ('cs.AI', 'cs.RO'), ('cs.AI', 'cs.CL'), ('cs.IT',), ('cs.IT',), ('cs.LG',), ('cs.CV', 'cs.LG'), ('cs.IT',), ('cs.LG',), ('cs.IT',), ('cs.LG',), ('cs.CR', 'cs.IT'), ('cs.IT',), ('cs.IT',), ('cs.IT',), ('cs.LG',), ('cs.IT',), ('cs.AI', 'cs.RO'), ('cs.AI', 'cs.CL'), ('cs.LG',), ('cs.IT',), ('cs.AI',), ('cs.IT',), ('cs.LG',), ('cs.IT',), ('cs.LG',), ('cs.AI', 'cs.LG'), ('cs.AI', 'cs.CR', 'cs.CV', 'cs.LG'), ('cs.IT',), ('cs.LG',), ('cs.AI', 'cs.IR', 'cs.LG'), ('cs.IT',), ('cs.IT',), ('cs.AI', 'cs.LG'), ('cs.IT',), ('cs.IT',), ('cs.AI', 'cs.NE'), ('cs.IT',), ('cs.LG', 'cs.MA'), ('cs.DS', 'cs.IT', 'cs.LG'), ('cs.CL', 'cs.DB', 'cs.LG'), ('cs.AI', 'cs.CV'), ('cs.AI', 'cs.CV', 'cs.LG'), ('cs.AI', 'cs.CV'), ('cs.CL', 'cs.LG'), ('cs.IT',), ('cs.AI', 'cs.CL'), ('cs.LG',), ('cs.IT',), ('cs.AI', 'cs.MA', 'cs.RO'), ('cs.LG',), ('cs.LG',), ('cs.AI', 'cs.CL', 'cs.LG'), ('cs.AI', 'cs.SD'), ('cs.IT',), ('cs.LG',), ('cs.AI', 'cs.CV', 'cs.RO'), ('cs.AI',), ('cs.CL', 'cs.IR', 'cs.LG'), ('cs.IT',), ('cs.CR', 'cs.IT'), ('cs.AI', 'cs.CL', 'cs.LG'), ('cs.LG', 'cs.MA'), ('cs.AI', 'cs.LG'), ('cs.IT',), ('cs.IT',), ('cs.LG',), ('cs.AI', 'cs.CL'), ('cs.AI', 'cs.CV'), ('cs.LG',), ('cs.AI', 'cs.CL'), ('cs.AI', 'cs.CL', 'cs.LG'), ('cs.AI', 'cs.AR', 'cs.DC'), ('cs.AI', 'cs.CV'), ('cs.LG',), ('cs.AI', 'cs.CV'), ('cs.AI', 'cs.LG'), ('cs.AI', 'cs.CV', 'cs.RO'), ('cs.CV', 'cs.LG'), ('cs.IR', 'cs.LG'), ('cs.LG',), ('cs.IT',), ('cs.AI', 'cs.CL'), ('cs.IT',), ('cs.CR', 'cs.LG', 'cs.NI'), ('cs.AI', 'cs.LG'), ('cs.AI', 'cs.CV'), ('cs.IT',), ('cs.AI', 'cs.CL'), ('cs.IT',), ('cs.AI', 'cs.CL', 'cs.CV'), ('cs.LG',), ('cs.AI', 'cs.LG', 'cs.SY'), ('cs.LG',), ('cs.CR', 'cs.LG'), ('cs.IT',), ('cs.AI',), ('cs.AI', 'cs.LG', 'cs.MA'), ('cs.LG',), ('cs.AI', 'cs.IR'), ('cs.AI', 'cs.CV', 'cs.LG'), ('cs.AI', 'cs.MA', 'cs.RO'), ('cs.IT',), ('cs.AI', 'cs.CL', 'cs.CV'), ('cs.LG',), ('cs.CL', 'cs.LG'), ('cs.IT',), ('cs.AI', 'cs.CL', 'cs.CV', 'cs.LG'), ('cs.IT',), ('cs.AI', 'cs.LG', 'cs.MA'), ('cs.IT',), ('cs.LG',), ('cs.AI', 'cs.CR', 'cs.LG'), ('cs.AI', 'cs.CL'), ('cs.LG',), ('cs.IT', 'cs.LG'), ('cs.AI',), ('cs.DC', 'cs.IR', 'cs.LG'), ('cs.AI', 'cs.CV'), ('cs.AI', 'cs.CV'), ('cs.AI', 'cs.CR', 'cs.CV', 'cs.LG'), ('cs.IT',), ('cs.AI', 'cs.CY'), ('cs.IT',), ('cs.AI', 'cs.CV'), ('cs.AI', 'cs.CV'), ('cs.LG',), ('cs.LG',), ('cs.LG',), ('cs.IT',), ('cs.IT',), ('cs.AI', 'cs.CL'), ('cs.CY', 'cs.LG'), ('cs.IT',), ('cs.AI', 'cs.CL'), ('cs.AI', 'cs.CY', 'cs.LG'), ('cs.AI', 'cs.CV'), ('cs.IT',), ('cs.CL', 'cs.SD'), ('cs.AI', 'cs.CL'), ('cs.LG',), ('cs.AI', 'cs.CR', 'cs.CV', 'cs.LG'), ('cs.IT',), ('cs.IT',), ('cs.LG',), ('cs.IT',), ('cs.LG',), ('cs.CV', 'cs.LG'), ('cs.IT',), ('cs.IT',), ('cs.AI', 'cs.LG', 'cs.MA'), ('cs.CR', 'cs.LG'), ('cs.AI', 'cs.NE'), ('cs.IR',), ('cs.AI', 'cs.CL'), ('cs.IT', 'cs.LG'), ('cs.IT',), ('cs.IT', 'cs.LG'), ('cs.AI', 'cs.CV'), ('cs.LG',), ('cs.LG',), ('cs.CY', 'cs.LG'), ('cs.CV', 'cs.LG', 'cs.RO'), ('cs.AI', 'cs.CV', 'cs.LG'), ('cs.AI', 'cs.CL'), ('cs.AI', 'cs.RO'), ('cs.AI', 'cs.SE'), ('cs.IT',), ('cs.AI', 'cs.LG'), ('cs.AI', 'cs.CL', 'cs.SD'), ('cs.AI', 'cs.LG'), ('cs.IT',), ('cs.LG',), ('cs.IT',), ('cs.AI', 'cs.CY'), ('cs.IR', 'cs.LG'), ('cs.AI',), ('cs.AI', 'cs.CL', 'cs.LG'), ('cs.AI', 'cs.CR', 'cs.LG'), ('cs.AI', 'cs.CL', 'cs.LG'), ('cs.AI', 'cs.CL'), ('cs.LG',), ('cs.AI', 'cs.CV', 'cs.LG'), ('cs.AI', 'cs.LG'), ('cs.AI',), ('cs.LG',), ('cs.AI',), ('cs.IT',), ('cs.AI',), ('cs.CL',), ('cs.LG',), ('cs.AI', 'cs.CL'), ('cs.LG',), ('cs.LG',), ('cs.AI', 'cs.SE'), ('cs.IT',), ('cs.AI', 'cs.CV', 'cs.LG', 'cs.RO'), ('cs.IT',), ('cs.CV', 'cs.LG', 'cs.SD'), ('cs.AI', 'cs.LG'), ('cs.LG', 'cs.SD'), ('cs.AR', 'cs.LG'), ('cs.CV', 'cs.LG', 'cs.RO'), ('cs.AR', 'cs.NE'), ('cs.CR', 'cs.IT'), ('cs.AI', 'cs.CV'), ('cs.CL', 'cs.IT'), ('cs.IT',), ('cs.AI', 'cs.LG'), ('cs.AI', 'cs.IR', 'cs.LG'), ('cs.IT',), ('cs.AR', 'cs.DC', 'cs.LG'), ('cs.AI', 'cs.CV'), ('cs.AI', 'cs.CL', 'cs.CV'), ('cs.IT', 'cs.LG', 'cs.NI'), ('cs.AI', 'cs.LG'), ('cs.AI', 'cs.CL'), ('cs.AI', 'cs.CV', 'cs.LG'), ('cs.AI', 'cs.CL'), ('cs.LG',), ('cs.AI', 'cs.CL'), ('cs.LG',), ('cs.AI', 'cs.CV', 'cs.LG'), ('cs.IT',), ('cs.AI', 'cs.LG'), ('cs.LG',), ('cs.AI', 'cs.CL'), ('cs.IT',), ('cs.AI', 'cs.HC', 'cs.RO'), ('cs.AI', 'cs.CL', 'cs.LG'), ('cs.IT',), ('cs.AI', 'cs.IR'), ('cs.LG',), ('cs.CL', 'cs.LG'), ('cs.AI', 'cs.CL'), ('cs.IT',), ('cs.IT',), ('cs.AI', 'cs.CL'), ('cs.CL', 'cs.LG'), ('cs.CR', 'cs.LG'), ('cs.AI', 'cs.CL'), ('cs.AI',), ('cs.LG',), ('cs.AI',), ('cs.AI', 'cs.CL'), ('cs.AI', 'cs.LG'), ('cs.IT',), ('cs.LG',), ('cs.LG',), ('cs.IT',), ('cs.IT',), ('cs.CV', 'cs.LG'), ('cs.IT',), ('cs.AI', 'cs.CL', 'cs.LG'), ('cs.IT',), ('cs.IT',), ('cs.IT',), ('cs.LG',), ('cs.AI', 'cs.CV'), ('cs.AI', 'cs.LG'), ('cs.LG',), ('cs.LG',), ('cs.AI',), ('cs.AI', 'cs.LG'), ('cs.AI', 'cs.CL'), ('cs.AI', 'cs.LG'), ('cs.AI', 'cs.LG', 'cs.NE'), ('cs.LG',), ('cs.DC', 'cs.LG'), ('cs.AI', 'cs.CY', 'cs.LG'), ('cs.IT',), ('cs.AI', 'cs.CL'), ('cs.LG',), ('cs.AI', 'cs.CL'), ('cs.CL', 'cs.LG'), ('cs.AI', 'cs.CY', 'cs.LG'), ('cs.DC', 'cs.LG'), ('cs.AI', 'cs.LG'), ('cs.AI', 'cs.CL', 'cs.LG'), ('cs.LG',), ('cs.AI', 'cs.CL', 'cs.CV'), ('cs.LG', 'cs.NE'), ('cs.AI', 'cs.CL'), ('cs.AI', 'cs.CL', 'cs.LG'), ('cs.IT',), ('cs.AI', 'cs.CV'), ('cs.AI',), ('cs.AI', 'cs.CV'), ('cs.IT',), ('cs.LG',), ('cs.AI', 'cs.CR', 'cs.LG'), ('cs.IR', 'cs.LG'), ('cs.AI', 'cs.LG'), ('cs.AI', 'cs.CL', 'cs.SD'), ('cs.IT',), ('cs.LG',), ('cs.AI',), ('cs.AI', 'cs.HC'), ('cs.IT',), ('cs.IT', 'cs.NE'), ('cs.LG', 'cs.NE'), ('cs.IT',), ('cs.IT', 'cs.LG'), ('cs.IT',), ('cs.IT',), ('cs.AI', 'cs.CY', 'cs.LG'), (), ('cs.AI', 'cs.CY'), ('cs.IT',), ('cs.AI', 'cs.CV'), ('cs.SY',), ('cs.AI', 'cs.CY'), ('cs.CL', 'cs.LG'), ('cs.AI', 'cs.GT', 'cs.MA'), ('cs.AI', 'cs.NE'), ('cs.AI', 'cs.CV'), ('cs.IT',), ('cs.AI', 'cs.LG', 'cs.NE'), ('cs.CR', 'cs.IT'), ('cs.LG',), ('cs.AI', 'cs.RO'), ('cs.AI', 'cs.NE'), ('cs.LG',), ('cs.AI', 'cs.CV'), ('cs.AI', 'cs.LG'), ('cs.CL', 'cs.CV', 'cs.LG'), ('cs.LG', 'cs.MA'), ('cs.IT',), ('cs.IT',), ('cs.AI', 'cs.LG'), ('cs.AI',), ('cs.IT',), ('cs.AI', 'cs.CL'), ('cs.AI', 'cs.LG'), ('cs.AI', 'cs.CL', 'cs.CV', 'cs.SD'), ('cs.AI', 'cs.LG'), ('cs.IT', 'cs.SI'), ('cs.IT',), ('cs.DC', 'cs.LG'), ('cs.AI', 'cs.LG'), ('cs.AI', 'cs.CV'), ('cs.IT',), ('cs.AI',), ('cs.LG', 'cs.NI'), ('cs.AI', 'cs.LG'), ('cs.LG',), ('cs.LG',), ('cs.AI', 'cs.CV'), ('cs.NI',), ('cs.AI', 'cs.LG'), ('cs.IT',), ('cs.AI', 'cs.CV'), ('cs.IT',), ('cs.IT',), ('cs.AI', 'cs.LG'), ('cs.AI', 'cs.LG'), ('cs.AI', 'cs.SE'), ('cs.CV', 'cs.LG'), ('cs.AI', 'cs.LG'), ('cs.IT',), ('cs.LG',), ('cs.IT',), ('cs.AI', 'cs.CV'), ('cs.IT',), ('cs.AI', 'cs.LG', 'cs.RO', 'cs.SY'), ('cs.AI',), ('cs.IT',), ('cs.AI', 'cs.CV'), ('cs.AI', 'cs.CL'), ('cs.DC', 'cs.LG'), ('cs.IT',), ('cs.CV', 'cs.LG'), ('cs.CL', 'cs.LG'), ('cs.IT',), ('cs.LG',), ('cs.AI',), ('cs.LG',), ('cs.AI', 'cs.RO'), ('cs.AI', 'cs.SD'), ('cs.AI', 'cs.CL'), ('cs.AI', 'cs.CL'), ('cs.AI', 'cs.CL', 'cs.LG'), ('cs.IT',), ('cs.IT',), ('cs.LG',), ('cs.LG', 'cs.NE'), ('cs.AI', 'cs.CL', 'cs.IR'), ('cs.IT', 'cs.LG'), ('cs.AI', 'cs.LG', 'cs.RO'), ('cs.DC', 'cs.LG'), ('cs.IT',), ('cs.AI', 'cs.CL', 'cs.CV'), ('cs.IT',), ('cs.LG',), ('cs.LG',), ('cs.IT',), ('cs.LG', 'cs.MA'), ('cs.AI', 'cs.LG'), ('cs.LG',), ('cs.IT',), ('cs.AI', 'cs.CL', 'cs.CY', 'cs.SI'), ('cs.AI', 'cs.LG'), ('cs.IT',), ('cs.AI', 'cs.NE'), ('cs.AI', 'cs.CY'), ('cs.IT',), ('cs.CL', 'cs.LG'), ('cs.LG',), ('cs.IT',), ('cs.LG',), ('cs.AI', 'cs.CL', 'cs.LG'), ('cs.AI', 'cs.CL'), ('cs.LG',), ('cs.LG',), ('cs.LG',), ('cs.IT', 'cs.LG'), ('cs.AI', 'cs.CL', 'cs.CV'), ('cs.AI', 'cs.LG', 'cs.RO'), ('cs.AI', 'cs.LG'), ('cs.AI', 'cs.CL'), ('cs.IR', 'cs.IT'), ('cs.AI', 'cs.CL', 'cs.LG'), ('cs.LG',), ('cs.AI', 'cs.LG'), ('cs.CV', 'cs.LG'), ('cs.LG',), ('cs.LG', 'cs.NE'), ('cs.AI', 'cs.MA', 'cs.NI'), ('cs.LG',), ('cs.AI', 'cs.CL', 'cs.LG', 'cs.RO'), ('cs.CL', 'cs.LG'), ('cs.IT',), ('cs.LG',), ('cs.CY', 'cs.LG'), ('cs.CR', 'cs.DC', 'cs.LG'), ('cs.AI', 'cs.NE'), ('cs.IT',), ('cs.IT',), ('cs.IT', 'cs.LG'), ('cs.LG', 'cs.MA', 'cs.RO'), ('cs.CL',), ('cs.IT',), ('cs.AI', 'cs.LG'), ('cs.AI', 'cs.LG'), ('cs.LG',), ('cs.AI', 'cs.CL'), ('cs.AI', 'cs.CV'), ('cs.IT',), ('cs.IT', 'cs.NI'), ('cs.AI', 'cs.CL', 'cs.LG'), ('cs.LG', 'cs.RO'), ('cs.LG',), ('cs.LG',), ('cs.IT',), ('cs.IT',), ('cs.AI', 'cs.LG'), ('cs.IT',), ('cs.AI', 'cs.LG', 'cs.MA'), ('cs.IT',), ('cs.AI', 'cs.RO', 'cs.SY'), ('cs.LG',), ('cs.AI', 'cs.CL'), ('cs.IT', 'cs.NI'), ('cs.AI', 'cs.RO'), ('cs.SI',), ('cs.AI', 'cs.CL', 'cs.CV', 'cs.RO'), ('cs.LG',), ('cs.IT',), ('cs.CR', 'cs.IT'), ('cs.AI', 'cs.CV', 'cs.LG'), ('cs.AI', 'cs.CL', 'cs.LG'), ('cs.AI', 'cs.CL'), ('cs.DS',), ('cs.LG',), ('cs.AI', 'cs.CV'), ('cs.DC', 'cs.IT'), ('cs.AI', 'cs.HC', 'cs.RO'), ('cs.IT',), ('cs.IT',), ('cs.IT',), ('cs.CY', 'cs.LG'), ('cs.AI', 'cs.CL'), ('cs.IT',), ('cs.LG',), ('cs.CL', 'cs.IR', 'cs.LG'), ('cs.AI', 'cs.CL', 'cs.CV'), ('cs.AI', 'cs.CV', 'cs.RO'), ('cs.LG',), ('cs.IT', 'cs.LG'), ('cs.AI', 'cs.LG'), ('cs.AI',), ('cs.AI', 'cs.CL', 'cs.CV'), ('cs.DC', 'cs.IT'), ('cs.AI', 'cs.RO'), ('cs.AI', 'cs.IR'), ('cs.AI', 'cs.CL'), ('cs.AI', 'cs.CL', 'cs.CV'), ('cs.LG',), ('cs.LG',), ('cs.AI', 'cs.CY'), ('cs.AI', 'cs.LG', 'cs.SY'), ('cs.AI',), ('cs.CV', 'cs.LG'), ('cs.LG',), ('cs.AI', 'cs.LG', 'cs.RO'), ('cs.IR', 'cs.LG'), ('cs.AI', 'cs.LG'), ('cs.LG',), ('cs.IT',), ('cs.DC', 'cs.LG'), ('cs.IT',), ('cs.LG',), ('cs.AI', 'cs.HC', 'cs.RO'), ('cs.AI',), ('cs.IT',), ('cs.CV', 'cs.LG'), ('cs.AI', 'cs.CL'), ('cs.LG',), ('cs.IT',), ('cs.LG',), ('cs.AI', 'cs.CL', 'cs.LG'), ('cs.AI', 'cs.CV', 'cs.GR'), ('cs.AI', 'cs.LG'), ('cs.IT', 'cs.LG', 'cs.NI'), ('cs.IR', 'cs.LG'), ('cs.CL', 'cs.LG', 'cs.SD'), ('cs.AI', 'cs.CV'), ('cs.IT', 'cs.LG'), ('cs.AI', 'cs.LG'), ('cs.IT',), ('cs.LG',), ('cs.IT', 'cs.NI'), ('cs.CV', 'cs.LG'), ('cs.AI',), ('cs.AI', 'cs.PL'), ('cs.LG',), ('cs.AI', 'cs.CV'), ('cs.CL', 'cs.LG'), ('cs.IT',), ('cs.LG', 'cs.SI'), ('cs.IT',), ('cs.AI', 'cs.CV'), ('cs.AI', 'cs.CL'), ('cs.AI', 'cs.CL'), ('cs.AI', 'cs.LG', 'cs.RO'), ('cs.CR', 'cs.LG'), ('cs.LG',), ('cs.AI', 'cs.CL'), ('cs.IT',), ('cs.AI', 'cs.LG', 'cs.SD'), ('cs.LG',), ('cs.IT',), ('cs.AI', 'cs.LG'), ('cs.LG',), ('cs.IT',), ('cs.LG',), ('cs.AI',), ('cs.AI', 'cs.CV'), ('cs.LG', 'cs.SD'), ('cs.LG',), ('cs.LG',), ('cs.IT',), ('cs.AI',), ('cs.AI', 'cs.CL'), ('cs.DC', 'cs.LG'), ('cs.AI', 'cs.CV'), ('cs.IT',), ('cs.IT',), ('cs.AI',), ('cs.LG',), ('cs.AI',), ('cs.AI', 'cs.CL'), ('cs.AI', 'cs.CL'), ('cs.IR', 'cs.LG'), ('cs.CV', 'cs.LG'), ('cs.CV', 'cs.LG'), ('cs.IT', 'cs.LG'), ('cs.LG',), ('cs.LG', 'cs.MA'), ('cs.CV', 'cs.LG'), ('cs.IT',), ('cs.CL', 'cs.LG', 'cs.SD'), ('cs.IT',), ('cs.IT',), ('cs.AI', 'cs.CL'), ('cs.IT',), ('cs.LG', 'cs.MA'), ('cs.CL', 'cs.LG', 'cs.SD'), ('cs.IR', 'cs.LG'), ('cs.IT',), ('cs.AI', 'cs.CL', 'cs.LG'), ('cs.AI', 'cs.CV'), ('cs.LG',), ('cs.AI', 'cs.CV', 'cs.RO'), ('cs.IT',), ('cs.LG',), ('cs.LG', 'cs.MA'), ('cs.IT',), ('cs.IT', 'cs.LG'), ('cs.IT',), ('cs.AI', 'cs.CV'), ('cs.LG', 'cs.SE'), ('cs.AI',), ('cs.LG',), ('cs.AI', 'cs.LG'), ('cs.IT', 'cs.LG'), ('cs.LG', 'cs.SE'), ('cs.IT',), ('cs.AI', 'cs.CV', 'cs.LG'), ('cs.IT',), ('cs.LG',), ('cs.LG',), ('cs.AI', 'cs.CV'), ('cs.IT', 'cs.NI'), ('cs.LG', 'cs.NE'), ('cs.CV', 'cs.LG'), ('cs.AI', 'cs.LG'), ('cs.AI', 'cs.CV', 'cs.LG'), ('cs.CL', 'cs.LG'), ('cs.CV', 'cs.LG'), ('cs.LG',), ('cs.CV', 'cs.LG'), ('cs.IT', 'cs.LG', 'cs.NI'), ('cs.AI', 'cs.CL'), ('cs.AI', 'cs.CV', 'cs.LG'), ('cs.LG',), ('cs.AI', 'cs.CY'), ('cs.AI', 'cs.CL'), ('cs.IT', 'cs.LG', 'cs.SD'), ('cs.LG',), ('cs.LG',), ('cs.DC', 'cs.LG'), ('cs.IT',), ('cs.IT',), ('cs.IT',), ('cs.IT',), ('cs.AI', 'cs.LG', 'cs.NE'), ('cs.LG', 'cs.NE'), ('cs.IT',), ('cs.AI', 'cs.RO'), ('cs.LG',), ('cs.AI', 'cs.CL'), ('cs.LG',), ('cs.AI', 'cs.CL'), ('cs.IT',), ('cs.CV', 'cs.LG'), ('cs.AI', 'cs.SY'), ('cs.IT',), ('cs.AI', 'cs.CR', 'cs.LG'), ('cs.AI', 'cs.CV'), ('cs.IT',), ('cs.LG',), ('cs.CL', 'cs.CY', 'cs.LG'), ('cs.LG',), ('cs.AI', 'cs.CL'), ('cs.IT', 'cs.LG'), ('cs.AI', 'cs.CL'), ('cs.AI', 'cs.HC'), ('cs.IT',), ('cs.LG',), ('cs.IT',), ('cs.IT',), ('cs.CR', 'cs.IT'), ('cs.IT',), ('cs.IR', 'cs.LG'), ('cs.LG',), ('cs.AI', 'cs.CR', 'cs.LG', 'cs.SD'), ('cs.LG',), ('cs.IT',), ('cs.IT',), ('cs.AI', 'cs.CL'), ('cs.IT', 'cs.LG'), ('cs.IR', 'cs.LG'), ('cs.AI', 'cs.LG', 'cs.RO'), ('cs.LG',), ('cs.AI', 'cs.CY', 'cs.LG'), ('cs.AI', 'cs.CV'), ('cs.AI', 'cs.CL'), ('cs.AI', 'cs.LG'), ('cs.IT',), ('cs.IT',), ('cs.LG',), ('cs.LG', 'cs.MA'), ('cs.AI', 'cs.LG', 'cs.NE'), ('cs.AI', 'cs.MA', 'cs.RO'), ('cs.GT', 'cs.LG', 'cs.MA'), ('cs.CR', 'cs.LG'), ('cs.AI', 'cs.LG'), ('cs.LG',), ('cs.AI', 'cs.LG'), ('cs.DS', 'cs.LG'), ('cs.AI', 'cs.CV'), ('cs.AI', 'cs.CV'), ('cs.AI',), ('cs.LG',), ('cs.LG',), ('cs.LG',), ('cs.AI', 'cs.MA'), ('cs.LG',), ('cs.AI', 'cs.LG'), ('cs.AI', 'cs.LG'), ('cs.AI', 'cs.LG'), ('cs.IT',), ('cs.LG',), ('cs.CV', 'cs.LG'), ('cs.CR', 'cs.LG'), ('cs.IT',), ('cs.LG',), ('cs.AI', 'cs.CL'), ('cs.DC', 'cs.LG'), ('cs.LG',), ('cs.LG',), ('cs.IT',), ('cs.AI', 'cs.CV'), ('cs.AI', 'cs.CV'), ('cs.CR', 'cs.IT', 'cs.LG'), ('cs.AI', 'cs.CV', 'cs.LG'), ('cs.AI', 'cs.LG'), ('cs.AI', 'cs.CV'), ('cs.IT', 'cs.LG'), ('cs.IT',), ('cs.CV', 'cs.LG'), ('cs.LG',), ('cs.IT',), ('cs.AI', 'cs.CV', 'cs.RO'), ('cs.IT', 'cs.LG'), ('cs.AI', 'cs.CL', 'cs.CV', 'cs.LG'), ('cs.LG',), ('cs.AI', 'cs.HC'), ('cs.AI', 'cs.CV', 'cs.LG', 'cs.NE'), ('cs.AI', 'cs.CL'), ('cs.IR', 'cs.LG'), ('cs.IT',), ('cs.AI',), ('cs.LG',), ('cs.SD',), ('cs.LG',), ('cs.IT',), ('cs.AI', 'cs.LG'), ('cs.IT',), ('cs.CR', 'cs.DC', 'cs.LG'), ('cs.AI', 'cs.CL'), ('cs.LG', 'cs.SD'), ('cs.IT',), ('cs.IT', 'cs.LG'), ('cs.AI', 'cs.CV', 'cs.LG', 'cs.RO'), ('cs.DC', 'cs.LG', 'cs.SE'), ('cs.IT',), ('cs.IT',), ('cs.IT',), ('cs.CV', 'cs.LG'), (), ('cs.IT',), ('cs.CR', 'cs.LG'), ('cs.CV', 'cs.LG'), ('cs.AI',), ('cs.AI', 'cs.RO'), ('cs.IT',), ('cs.IT',), ('cs.CR', 'cs.DC', 'cs.LG'), ('cs.IT',), ('cs.LG',), ('cs.AI', 'cs.CL', 'cs.LG'), ('cs.IT',), ('cs.LG',), ('cs.AI', 'cs.CV'), ('cs.CV', 'cs.CY', 'cs.LG'), ('cs.CV', 'cs.LG'), ('cs.AI', 'cs.HC', 'cs.RO'), ('cs.LG',), ('cs.IT',), ('cs.AI', 'cs.CV'), ('cs.LG',), ('cs.AI', 'cs.LG'), ('cs.CV', 'cs.LG', 'cs.NE'), ('cs.AR', 'cs.DC', 'cs.LG'), ('cs.CR', 'cs.CV', 'cs.LG'), ('cs.AI', 'cs.CV', 'cs.LG'), ('cs.CR', 'cs.CV', 'cs.LG'), ('cs.IT',), ('cs.AI', 'cs.CV'), ('cs.IT',), ('cs.IT',), ('cs.AI', 'cs.LG'), ('cs.IT',), ('cs.IT', 'cs.LG'), ('cs.LG',), ('cs.IR',), ('cs.LG',), ('cs.LG',), ('cs.LG',), ('cs.AI', 'cs.MA'), ('cs.AI', 'cs.CL'), ('cs.AI', 'cs.LG'), ('cs.AI', 'cs.RO'), ('cs.IT',), ('cs.LG',), (), ('cs.AI', 'cs.RO'), ('cs.IT',), ('cs.AI', 'cs.CR', 'cs.LG', 'cs.NI'), ('cs.CL', 'cs.CV', 'cs.LG'), ('cs.LG', 'cs.SY'), ('cs.IT',), ('cs.AI', 'cs.CV', 'cs.RO'), ('cs.AI', 'cs.IR'), ('cs.IT',), ('cs.AI', 'cs.LG'), ('cs.AI', 'cs.LG'), ('cs.IT',), ('cs.IT',), ('cs.IT',), ('cs.LG',), ('cs.IT',), ('cs.LG',), ('cs.IT',), ('cs.IT',), ('cs.AI', 'cs.SD'), ('cs.CV', 'cs.LG'), ('cs.IT', 'cs.LG'), ('cs.IT',), ('cs.IT',), ('cs.AI',), ('cs.IT',), ('cs.IT',), ('cs.AI', 'cs.CL', 'cs.LG'), ('cs.AR', 'cs.LG', 'cs.NE'), ('cs.IR',), ('cs.AI', 'cs.CR', 'cs.CV', 'cs.LG'), ('cs.IT',), ('cs.AI', 'cs.CL'), ('cs.AI', 'cs.GT'), ('cs.CL', 'cs.CV', 'cs.LG'), ('cs.IT',), ('cs.IT', 'cs.NI'), ('cs.IT',), ('cs.LG', 'cs.SD'), ('cs.LG',), ('cs.CV', 'cs.LG', 'cs.RO'), ('cs.IT', 'cs.LG'), ('cs.AI', 'cs.LG', 'cs.MA'), ('cs.AI', 'cs.CL', 'cs.IR'), ('cs.AI', 'cs.CR', 'cs.LG'), ('cs.AI', 'cs.CV'), ('cs.IT',), ('cs.CL', 'cs.LG'), ('cs.LG',), ('cs.IT',), ('cs.AI', 'cs.LG'), ('cs.LG',), ('cs.LG',), ('cs.IT',), ('cs.IT',), ('cs.AI',), ('cs.IT', 'cs.LG'), ('cs.IT',), ('cs.AI', 'cs.CL'), ('cs.AI', 'cs.CV'), ('cs.AI', 'cs.LG'), ('cs.AI', 'cs.RO'), ('cs.AI', 'cs.CV'), ('cs.AI', 'cs.CL', 'cs.CV'), ('cs.AI', 'cs.LG', 'cs.RO'), ('cs.IT',), ('cs.LG',), ('cs.AI', 'cs.LG'), ('cs.IT',), ('cs.AI', 'cs.CL', 'cs.CV', 'cs.LG'), ('cs.DC', 'cs.LG'), ('cs.AI', 'cs.CV', 'cs.LG'), ('cs.IT',), ('cs.IT', 'cs.LG'), ('cs.LG', 'cs.SI'), ('cs.IT',), ('cs.IT',), ('cs.AI', 'cs.LG'), ('cs.AI', 'cs.CL', 'cs.LG'), ('cs.IR',), ('cs.CL', 'cs.LG'), ('cs.AI', 'cs.LG'), ('cs.IT', 'cs.LG'), ('cs.IT',), ('cs.CL', 'cs.LG'), ('cs.IT',), ('cs.AI', 'cs.LG'), ('cs.IT',), ('cs.IT',), ('cs.AI', 'cs.SE'), ('cs.AI', 'cs.CL'), ('cs.CL', 'cs.CV', 'cs.LG'), ('cs.AI', 'cs.LG', 'cs.NE'), ('cs.AI', 'cs.CV', 'cs.GR', 'cs.LG'), ('cs.IT', 'cs.RO', 'cs.SY'), ('cs.IT', 'cs.LG'), ('cs.AI', 'cs.CL', 'cs.LG'), ('cs.AI',), ('cs.IT',), ('cs.AI', 'cs.CV', 'cs.LG'), ('cs.LG',), ('cs.AI', 'cs.LG'), ('cs.LG',), ('cs.AI', 'cs.LG'), ('cs.CR', 'cs.LG'), ('cs.AI',), ('cs.IT',), ('cs.IT',), ('cs.AI', 'cs.CR', 'cs.LG'), ('cs.IT',), ('cs.AI', 'cs.HC', 'cs.RO'), ('cs.CV', 'cs.LG'), ('cs.IT',), ('cs.AI', 'cs.CL'), ('cs.IT',), ('cs.LG',), ('cs.IT', 'cs.LG'), ('cs.IT', 'cs.NI'), ('cs.IT', 'cs.MA'), ('cs.IT',), ('cs.IR', 'cs.LG'), ('cs.IT',), ('cs.IT',), ('cs.AI', 'cs.CR', 'cs.LG'), ('cs.CV', 'cs.LG'), ('cs.IT',), ('cs.LG', 'cs.SD'), ('cs.AI',), ('cs.IT',), ('cs.IT',), ('cs.AI', 'cs.HC'), ('cs.AI', 'cs.LG'), ('cs.IT',), ('cs.AI', 'cs.CL', 'cs.CV'), ('cs.AI', 'cs.CV'), ('cs.IT', 'cs.LG'), ('cs.AI', 'cs.CL'), ('cs.LG',), ('cs.IT',), ('cs.CR', 'cs.LG'), ('cs.IT',), ('cs.IR', 'cs.LG'), ('cs.CV', 'cs.LG'), ('cs.IT',), ('cs.AI', 'cs.IR', 'cs.LG'), ('cs.CL', 'cs.LG'), ('cs.CL', 'cs.LG'), ('cs.LG',), ('cs.AI', 'cs.LG'), ('cs.AI', 'cs.CL', 'cs.LG'), ('cs.DC', 'cs.LG'), ('cs.IT',), ('cs.DC', 'cs.LG'), ('cs.CR', 'cs.LG'), ('cs.IT',), ('cs.AI', 'cs.NE'), ('cs.AI', 'cs.SD'), ('cs.LG',), ('cs.CL', 'cs.LG', 'cs.SI'), ('cs.IT', 'cs.LG'), ('cs.IT',), ('cs.AI', 'cs.CL'), ('cs.AI', 'cs.NE'), ('cs.AI', 'cs.CV', 'cs.LG'), ('cs.AI', 'cs.RO'), ('cs.AI', 'cs.CV'), ('cs.CV',), ('cs.IT', 'cs.LG'), ('cs.SE',), ('cs.IT',), ('cs.AI', 'cs.CL'), ('cs.IT',), ('cs.IT',), ('cs.IT',), ('cs.AI', 'cs.RO'), ('cs.IT',), ('cs.IT',), ('cs.AI', 'cs.CV', 'cs.MM'), ('cs.AI', 'cs.LG'), ('cs.IT',), ('cs.AI',), ('cs.IT',), ('cs.AI', 'cs.LG'), ('cs.IT',), ('cs.AI', 'cs.CL'), ('cs.AI', 'cs.LG'), ('cs.LG',), ('cs.AI', 'cs.CV', 'cs.LG'), ('cs.AI', 'cs.CL'), ('cs.IT',), ('cs.AI', 'cs.NE'), ('cs.IT', 'cs.LG'), ('cs.AI', 'cs.CV'), ('cs.IT',), ('cs.IT', 'cs.LG'), ('cs.AI', 'cs.CY', 'cs.LG'), ('cs.CL', 'cs.CV', 'cs.LG'), ('cs.IT',), ('cs.AR', 'cs.LG'), ('cs.CR', 'cs.LG'), ('cs.LG',), ('cs.IT', 'cs.LG'), ('cs.AI', 'cs.RO'), ('cs.IT', 'cs.LG'), ('cs.AI', 'cs.CL', 'cs.LG'), ('cs.CV', 'cs.LG'), ('cs.AI', 'cs.IR', 'cs.LG'), ('cs.DC', 'cs.LG'), ('cs.DS',), ('cs.CV', 'cs.LG'), ('cs.LG',), ('cs.LG',), ('cs.SY',), ('cs.AI', 'cs.LG', 'cs.RO'), ('cs.AI', 'cs.CV'), ('cs.IT',), ('cs.IT', 'cs.LG'), ('cs.AI', 'cs.LG'), ('cs.IT',), ('cs.AI', 'cs.LG', 'cs.RO'), ('cs.SE',), ('cs.IT',), ('cs.AI', 'cs.CV', 'cs.LG'), ('cs.IT',), ('cs.AI', 'cs.IR', 'cs.LG'), ('cs.AI',), ('cs.LG',), ('cs.AI', 'cs.LG', 'cs.RO'), ('cs.AI', 'cs.LG', 'cs.RO'), ('cs.CV', 'cs.LG'), ('cs.AI', 'cs.GT', 'cs.MA'), ('cs.CV', 'cs.LG'), ('cs.LG',), ('cs.AI', 'cs.CL'), ('cs.LG', 'cs.SE'), ('cs.IT',), ('cs.IT',), ('cs.IT',), ('cs.IT',), ('cs.AI', 'cs.LG'), ('cs.IT',), ('cs.AI', 'cs.CL', 'cs.SE'), ('cs.IT',), ('cs.IT',), ('cs.AI', 'cs.CL', 'cs.CV'), ('cs.IT',), ('cs.AI', 'cs.CL'), ('cs.AI', 'cs.CV', 'cs.MM'), ('cs.IT',), ('cs.LG',), ('cs.CV', 'cs.LG'), ('cs.LG',), ('cs.IT',), ('cs.IT',), ('cs.LG',), ('cs.AI', 'cs.CV', 'cs.LG'), ('cs.IT',), ('cs.AI', 'cs.CL', 'cs.SD'), ('cs.IT',), ('cs.AI', 'cs.CV', 'cs.LG'), ('cs.CY', 'cs.IR', 'cs.LG'), ('cs.LG',), ('cs.IT',), ('cs.LG', 'cs.SY'), ('cs.AI', 'cs.LG'), ('cs.AI',), ('cs.IT',), ('cs.IT',), ('cs.IT',), ('cs.IT',), ('cs.AI', 'cs.LG'), ('cs.LG',), ('cs.AI', 'cs.LG'), ('cs.LG',), ('cs.LG',), ('cs.IT',), ('cs.LG',), ('cs.AI', 'cs.CV', 'cs.LG', 'cs.RO'), ('cs.CL', 'cs.LG'), ('cs.IT',), ('cs.LG', 'cs.RO'), ('cs.AI',), ('cs.AI', 'cs.LG', 'cs.MA'), ('cs.AI', 'cs.LG'), ('cs.IT',), ('cs.CV', 'cs.IT'), ('cs.LG',), ('cs.AI',), ('cs.IT',), ('cs.AI', 'cs.CV'), ('cs.IT',), ('cs.IT',), ('cs.AI',), ('cs.AI', 'cs.CV'), ('cs.IT',), ('cs.IT',), ('cs.CR', 'cs.DS', 'cs.IT'), ('cs.LG',), ('cs.AI', 'cs.CV'), ('cs.IT',), ('cs.LG',), ('cs.CV', 'cs.LG'), ('cs.LG',), ('cs.CL', 'cs.LG'), ('cs.IT',), ('cs.CR', 'cs.CV', 'cs.LG'), ('cs.IR', 'cs.LG', 'cs.SI'), ('cs.IT',), ('cs.AI', 'cs.CL'), ('cs.IT',), ('cs.AI', 'cs.CL'), ('cs.LG',), ('cs.IT', 'cs.NI'), ('cs.AI', 'cs.LG'), ('cs.IT',), ('cs.IT',), ('cs.IT',), ('cs.LG', 'cs.MA'), ('cs.LG',), ('cs.IT',), ('cs.AR', 'cs.LG'), ('cs.IT',), ('cs.CV', 'cs.LG'), ('cs.LG',), ('cs.AI', 'cs.CV'), ('cs.IT',), ('cs.AI', 'cs.LG'), ('cs.AI', 'cs.LG'), ('cs.LG',), ('cs.AI', 'cs.CL', 'cs.LG'), ('cs.CV', 'cs.LG'), ('cs.AI', 'cs.LG'), ('cs.CL', 'cs.LG'), ('cs.LG', 'cs.SD'), ('cs.LG',), ('cs.CV', 'cs.IT'), ('cs.IT',), ('cs.SI',), ('cs.LG',), ('cs.AI', 'cs.MA'), ('cs.IT',), ('cs.IT',), ('cs.LG',), ('cs.LG', 'cs.SI'), ('cs.IT',), ('cs.AI', 'cs.CV', 'cs.LG', 'cs.RO'), ('cs.IT',), ('cs.LG',), ('cs.LG',), ('cs.AI', 'cs.LG', 'cs.RO'), ('cs.GT', 'cs.LG', 'cs.MA'), ('cs.IT',), ('cs.CV', 'cs.LG'), ('cs.AI', 'cs.RO'), ('cs.CV', 'cs.LG'), ('cs.LG',), ('cs.AI', 'cs.CL'), ('cs.AI', 'cs.CL'), ('cs.CR', 'cs.LG'), ('cs.LG',), ('cs.AR', 'cs.LG'), ('cs.IT', 'cs.LG'), ('cs.IT',), ('cs.CL', 'cs.LG'), ('cs.LG',), ('cs.AI', 'cs.LG'), ('cs.DC', 'cs.LG'), ('cs.IT',), ('cs.LG',), ('cs.LG',), ('cs.IT',), ('cs.AI', 'cs.CL'), ('cs.IT',), ('cs.LG',), ('cs.IT',), ('cs.DC', 'cs.LG'), ('cs.CL', 'cs.LG'), ('cs.IT',), ('cs.IT',), ('cs.AI', 'cs.CV', 'cs.RO'), ('cs.IT',), ('cs.LG',), ('cs.LG', 'cs.SI'), ('cs.AI', 'cs.LG'), ('cs.AI',), ('cs.IT',), ('cs.AI', 'cs.LG'), ('cs.AI', 'cs.CY', 'cs.LG'), ('cs.LG',), ('cs.AI', 'cs.CV'), ('cs.IT',), ('cs.AI', 'cs.CV', 'cs.RO'), ('cs.IT',), ('cs.LG',), ('cs.IT',), ('cs.AI', 'cs.CV'), ('cs.IT',), ('cs.AI', 'cs.CY'), ('cs.IT',), ('cs.CR', 'cs.LG'), ('cs.IT',), ('cs.AI', 'cs.CR', 'cs.LG'), ('cs.CL', 'cs.CR', 'cs.LG'), ('cs.LG',), ('cs.LG',), ('cs.IR', 'cs.LG'), ('cs.IT',), ('cs.CV', 'cs.LG'), ('cs.IT',), ('cs.AI', 'cs.LG'), ('cs.AI', 'cs.CL'), ('cs.AI', 'cs.IR'), ('cs.LG',), ('cs.IT',), ('cs.AI', 'cs.LG'), ('cs.AI',), ('cs.IT',), ('cs.IT',), ('cs.CV', 'cs.LG'), ('cs.IT',), ('cs.AI',), ('cs.IT',), ('cs.LG',), ('cs.CL', 'cs.LG', 'cs.SD'), ('cs.IT',), ('cs.CL', 'cs.IR', 'cs.LG'), ('cs.AI', 'cs.LG', 'cs.MA'), ('cs.CR', 'cs.IT'), ('cs.AI', 'cs.LG', 'cs.RO'), ('cs.LG',), ('cs.AI', 'cs.CL', 'cs.CV'), ('cs.AI', 'cs.CL'), ('cs.AI', 'cs.LG'), ('cs.AI', 'cs.CL'), ('cs.IT', 'cs.LG'), ('cs.IT',), ('cs.IT',), ('cs.IT',), ('cs.AI', 'cs.CV'), ('cs.AI', 'cs.CY', 'cs.HC'), ('cs.IT',), ('cs.MA',), ('cs.IT',), ('cs.LG',), ('cs.LG',), ('cs.LG',), ('cs.IT',), ('cs.AI', 'cs.NE'), ('cs.AI', 'cs.CV'), ('cs.AI',), ('cs.IT',), ('cs.LG',), ('cs.LG',), ('cs.LG', 'cs.SI'), ('cs.AI', 'cs.CR', 'cs.LG'), ('cs.IT',), ('cs.CL', 'cs.LG'), ('cs.SD',), ('cs.LG',), ('cs.IT',), ('cs.LG',), ('cs.DC', 'cs.LG'), ('cs.LG',), ('cs.LG',), ('cs.CV', 'cs.LG'), ('cs.AI', 'cs.NE'), ('cs.IT', 'cs.LG'), ('cs.AI', 'cs.CL'), ('cs.AI', 'cs.LG', 'cs.NE'), ('cs.IT',), ('cs.IT',), ('cs.IT', 'cs.LG'), ('cs.CL', 'cs.LG'), ('cs.AI', 'cs.CV', 'cs.NE'), ('cs.CR', 'cs.LG'), ('cs.AI', 'cs.CL', 'cs.CY'), ('cs.IT',), ('cs.AI', 'cs.LG'), ('cs.IT', 'cs.LG'), ('cs.LG',), ('cs.IT', 'cs.LG'), ('cs.AI', 'cs.CV'), ('cs.LG',), ('cs.LG',), ('cs.AI', 'cs.LG'), ('cs.AI', 'cs.CL'), ('cs.SE',), ('cs.IT',), ('cs.AI', 'cs.HC'), ('cs.IT',), ('cs.CL', 'cs.IR', 'cs.LG'), ('cs.DC',), ('cs.AI', 'cs.LG'), ('cs.AI', 'cs.CV', 'cs.NE'), ('cs.AI', 'cs.LG'), ('cs.LG',), ('cs.LG', 'cs.SY'), ('cs.AI', 'cs.RO'), ('cs.AI', 'cs.CV', 'cs.GR'), ('cs.IT',), ('cs.IR', 'cs.LG'), ('cs.LG', 'cs.NE'), ('cs.CR', 'cs.LG'), ('cs.LG', 'cs.SI'), ('cs.IT',), ('cs.IT',), ('cs.AI', 'cs.LG', 'cs.SE'), ('cs.LG', 'cs.NE'), ('cs.LG',), ('cs.CV', 'cs.LG'), ('cs.AI',), ('cs.IT',), ('cs.AI', 'cs.RO'), ('cs.AI', 'cs.RO'), ('cs.AI', 'cs.HC'), ('cs.IT',), ('cs.IT',), ('cs.IT',), ('cs.LG',), ('cs.IT',), ('cs.IT',), ('cs.AI', 'cs.CV'), ('cs.AI', 'cs.CV'), ('cs.IT',), ('cs.IT',), ('cs.LG',), ('cs.AI',), ('cs.CR', 'cs.LG'), ('cs.AI', 'cs.HC', 'cs.LG'), ('cs.AI', 'cs.CL'), ('cs.GT', 'cs.LG', 'cs.MA'), ('cs.LG',), ('cs.AI',), ('cs.AI', 'cs.CV'), ('cs.LG',), ('cs.AI', 'cs.LG', 'cs.NE'), ('cs.LG',), ('cs.AI', 'cs.CV', 'cs.LG'), ('cs.IT',), ('cs.AI', 'cs.CL', 'cs.LG'), ('cs.IT',), ('cs.AI',), ('cs.DC', 'cs.IT', 'cs.LG'), ('cs.IT', 'cs.LG'), ('cs.IT',), ('cs.AI', 'cs.CV'), ('cs.LG',), ('cs.IT',), ('cs.LG',), ('cs.LG',), ('cs.IT',), ('cs.CV', 'cs.LG'), ('cs.LG',), ('cs.AI',), ('cs.CL', 'cs.LG'), ('cs.LG',), ('cs.AI', 'cs.LG', 'cs.LO'), ('cs.AI',), ('cs.AI', 'cs.CL'), ('cs.AI', 'cs.CY', 'cs.LG'), ('cs.CL', 'cs.IR', 'cs.LG'), ('cs.AI', 'cs.LG', 'cs.RO', 'cs.SY'), ('cs.LG',), ('cs.LG',), ('cs.CV', 'cs.LG'), ('cs.AI', 'cs.CL'), ('cs.AI', 'cs.LG'), ('cs.AI', 'cs.CL', 'cs.LG'), ('cs.DS', 'cs.LG'), ('cs.IT',), ('cs.LG',), ('cs.LG',), ('cs.AI', 'cs.LG', 'cs.RO'), ('cs.LG',), ('cs.LG',), ('cs.CV', 'cs.LG'), ('cs.AI', 'cs.CV'), ('cs.IT', 'cs.LG', 'cs.NI'), ('cs.AI', 'cs.CL', 'cs.IR'), ('cs.AI', 'cs.HC'), ('cs.LG',), ('cs.CV', 'cs.LG'), ('cs.AI',), ('cs.LG',), ('cs.AI', 'cs.LG'), ('cs.IT',), ('cs.AI',), ('cs.LG',), ('cs.LG',), ('cs.LG',), ('cs.LG',), ('cs.AI', 'cs.CR', 'cs.CV', 'cs.LG'), ('cs.AI', 'cs.CR', 'cs.LG'), ('cs.IT',), ('cs.AI', 'cs.CR', 'cs.CY', 'cs.LG'), ('cs.IT',), ('cs.CR', 'cs.LG'), ('cs.CV', 'cs.LG'), ('cs.LG',), ('cs.IT',), ('cs.IR', 'cs.LG'), ('cs.IT', 'cs.LG'), ('cs.IT',), ('cs.IT',), ('cs.LG',), ('cs.DS', 'cs.LG'), ('cs.AI', 'cs.LG'), ('cs.CL', 'cs.LG', 'cs.SD'), ('cs.IT', 'cs.LG'), ('cs.AI',), ('cs.CR', 'cs.LG'), ('cs.LG',), ('cs.IT',), ('cs.IT',), ('cs.LG',), ('cs.AI', 'cs.CV'), ('cs.CV', 'cs.LG'), ('cs.IT', 'cs.LG'), ('cs.IT',), ('cs.IT',), ('cs.AI', 'cs.CY', 'cs.LG'), ('cs.AI', 'cs.LG'), ('cs.LG',), ('cs.AI', 'cs.CL'), ('cs.AI', 'cs.NE', 'cs.SY'), ('cs.AI', 'cs.RO'), ('cs.AI', 'cs.CL'), ('cs.IT',), ('cs.AI',), ('cs.AI', 'cs.CL', 'cs.LG'), ('cs.AI', 'cs.CR'), ('cs.IT',), ('cs.AI', 'cs.CL'), ('cs.IT',), ('cs.IT', 'cs.LG', 'cs.SY'), ('cs.AI', 'cs.CY', 'cs.HC'), ('cs.IT',), ('cs.IT',), ('cs.IT',), ('cs.AI', 'cs.CL'), ('cs.IT',), ('cs.CL', 'cs.LG'), ('cs.IT',), ('cs.IT',), ('cs.LG',), ('cs.AI', 'cs.CL'), ('cs.AI', 'cs.CL', 'cs.LG'), ('cs.IT',), ('cs.CR', 'cs.LG'), ('cs.LG',), ('cs.AI', 'cs.CV'), ('cs.IT',), ('cs.AI', 'cs.CV'), ('cs.IT', 'cs.LG'), ('cs.DC', 'cs.IT'), ('cs.AI', 'cs.CL'), ('cs.AI', 'cs.LG'), ('cs.LG',), ('cs.IT',), ('cs.AI', 'cs.LG'), ('cs.IT',), ('cs.IT',), ('cs.IT',), ('cs.LG',), ('cs.IT',), ('cs.CV', 'cs.LG'), ('cs.IT',), ('cs.CR', 'cs.IT'), ('cs.AI', 'cs.CV'), ('cs.IT',), ('cs.IT',), ('cs.IT',), ('cs.AI', 'cs.CL'), ('cs.AI', 'cs.CV', 'cs.RO'), ('cs.LG',), ('cs.AI', 'cs.HC'), ('cs.IT',), ('cs.IT',), ('cs.AI', 'cs.CV'), ('cs.AI', 'cs.SD'), ('cs.IT',), ('cs.AI', 'cs.CL'), ('cs.AI', 'cs.CL'), ('cs.LG',), ('cs.IT',), ('cs.AI', 'cs.SD'), ('cs.AI', 'cs.CV'), ('cs.AI', 'cs.CL'), ('cs.AI', 'cs.LG'), ('cs.IT',), ('cs.AI', 'cs.CL', 'cs.LG'), ('cs.IT',), ('cs.IT',), ('cs.IT',), ('cs.AI', 'cs.CL'), ('cs.LG',), ('cs.IT',), ('cs.LG',), ('cs.AI', 'cs.LG'), ('cs.LG', 'cs.NE'), ('cs.CV', 'cs.LG'), ('cs.LG',), ('cs.LG',), ('cs.IT',), ('cs.LG',), ('cs.AI', 'cs.CV'), ('cs.AI', 'cs.IT'), ('cs.LG', 'cs.NE'), ('cs.IT',), ('cs.AI', 'cs.CL'), ('cs.IT',), ('cs.AI',), ('cs.IT',), ('cs.AI', 'cs.CV'), ('cs.AI', 'cs.CL', 'cs.LG'), ('cs.IT',), ('cs.LG',), ('cs.LG',), ('cs.IT',), ('cs.AI', 'cs.CL'), ('cs.AI', 'cs.LG'), ('cs.AI', 'cs.LG'), ('cs.LG',), ('cs.LG',), ('cs.AI', 'cs.CL'), ('cs.AI', 'cs.LG'), ('cs.AI', 'cs.GT', 'cs.LG'), ('cs.LG',), ('cs.AI', 'cs.LG'), ('cs.AI', 'cs.CV'), ('cs.AI', 'cs.CV'), ('cs.LG',), ('cs.CV', 'cs.LG'), ('cs.IT', 'cs.LG'), ('cs.IT',), ('cs.AI', 'cs.LG', 'cs.NE'), ('cs.LG',), ('cs.CL', 'cs.LG'), ('cs.IT',), ('cs.DS', 'cs.LG'), ('cs.AI', 'cs.CV'), ('cs.AI', 'cs.CL', 'cs.LG'), ('cs.LG',), ('cs.LG',), ('cs.AI', 'cs.CV'), ('cs.AI',), ('cs.AI',), ('cs.AI',), ('cs.LG',), ('cs.IT',), ('cs.AI', 'cs.CL', 'cs.HC'), ('cs.LG',), ('cs.LG',), ('cs.AI', 'cs.LG', 'cs.NE'), ('cs.IT',), ('cs.LG',), ('cs.IT',), ('cs.AI', 'cs.CL'), ('cs.AI',), ('cs.AI', 'cs.HC', 'cs.RO'), ('cs.CV', 'cs.LG'), ('cs.IT', 'cs.LG'), ('cs.LG',), ('cs.DC', 'cs.LG'), ('cs.LG',), ('cs.AI', 'cs.LG'), ('cs.CR', 'cs.DC', 'cs.IT'), ('cs.IT',), ('cs.LG',), ('cs.IT',), ('cs.IT',), ('cs.AI', 'cs.CL'), ('cs.AI', 'cs.LG', 'cs.RO'), ('cs.LG', 'cs.SD'), ('cs.AI', 'cs.CV'), ('cs.AI', 'cs.RO'), ('cs.AI', 'cs.CV'), ('cs.IT',), ('cs.IT',), ('cs.LG',), ('cs.AI', 'cs.CL'), ('cs.IT',), ('cs.IT',), ('cs.LG',), ('cs.IT',), ('cs.IT',), ('cs.IT',), ('cs.AI', 'cs.CL'), ('cs.AI', 'cs.LG'), ('cs.LG',), ('cs.IT',), ('cs.IT', 'cs.MA'), ('cs.IT',), ('cs.IT',), ('cs.IT',), ('cs.AI', 'cs.LG', 'cs.SY'), ('cs.AI', 'cs.CL'), ('cs.IT',), ('cs.IT',), ('cs.LG', 'cs.SD'), ('cs.IT',), ('cs.AI', 'cs.CV', 'cs.LG'), ('cs.AI',), ('cs.IT', 'cs.LG', 'cs.SY'), ('cs.LG',), ('cs.LG',), ('cs.AI',), ('cs.CR', 'cs.IT', 'cs.LG'), ('cs.AI', 'cs.CL', 'cs.LG'), ('cs.LG',), ('cs.CV', 'cs.LG'), ('cs.LG',), ('cs.AI', 'cs.LG', 'cs.NI'), ('cs.AI', 'cs.CL', 'cs.LG'), ('cs.IT',), ('cs.AI', 'cs.CL'), ('cs.AI', 'cs.CV', 'cs.LG', 'cs.RO'), ('cs.AI', 'cs.AR', 'cs.CV'), ('cs.IR', 'cs.LG'), ('cs.LG',), ('cs.AI', 'cs.LG'), ('cs.IT',), ('cs.AI', 'cs.CL'), ('cs.IT',), ('cs.IT',), ('cs.IT',), ('cs.CR', 'cs.IT'), ('cs.IT', 'cs.LG'), ('cs.AI', 'cs.CV'), ('cs.LG',), ('cs.IT',), ('cs.AI', 'cs.IR'), ('cs.IT',), ('cs.AI', 'cs.CL'), ('cs.LG',), ('cs.CL', 'cs.CR', 'cs.LG'), ('cs.LG',), ('cs.CV', 'cs.LG'), ('cs.LG',), ('cs.LG',), ('cs.CR', 'cs.DC', 'cs.LG'), ('cs.AI', 'cs.LG'), ('cs.AI', 'cs.CL'), ('cs.IT',), ('cs.AI', 'cs.HC'), ('cs.AI', 'cs.CL', 'cs.CV'), ('cs.AI',), ('cs.AI', 'cs.CY', 'cs.LG'), ('cs.IT',), ('cs.LG',), ('cs.LG',), ('cs.AI', 'cs.CL'), ('cs.AI', 'cs.CV'), ('cs.LG',), ('cs.LG',), ('cs.AI', 'cs.MM', 'cs.SD'), ('cs.AI', 'cs.LG'), ('cs.IT', 'cs.LG', 'cs.NI'), ('cs.CR', 'cs.IT'), ('cs.IT',), ('cs.AI', 'cs.LG'), ('cs.CV', 'cs.LG'), ('cs.LG',), ('cs.AI', 'cs.RO', 'cs.SY'), ('cs.CY', 'cs.LG', 'cs.SI'), ('cs.IT',), ('cs.IT',), ('cs.CL', 'cs.LG'), ('cs.LG',), ('cs.LG',), ('cs.CR', 'cs.LG'), ('cs.AI', 'cs.CV'), ('cs.IT',), ('cs.AI', 'cs.LG'), ('cs.AI', 'cs.CV'), ('cs.AI', 'cs.RO'), ('cs.AI', 'cs.CV'), ('cs.IT',), ('cs.IT',), ('cs.AI', 'cs.CV'), ('cs.AI', 'cs.IT'), ('cs.IT',), ('cs.AI', 'cs.MA'), ('cs.IT',), ('cs.LG',), ('cs.IT',), ('cs.AI', 'cs.CY'), ('cs.AI', 'cs.LG', 'cs.SE'), ('cs.CL', 'cs.LG'), ('cs.IT',), ('cs.IT', 'cs.LG'), ('cs.CR', 'cs.DC', 'cs.LG'), ('cs.AI', 'cs.CR', 'cs.CV', 'cs.LG'), ('cs.IT', 'cs.LG', 'cs.NI'), ('cs.LG',), ('cs.LG',), ('cs.IT',), ('cs.AI', 'cs.CV'), ('cs.IT',), ('cs.AI', 'cs.RO'), ('cs.AI', 'cs.LG'), ('cs.LG',), ('cs.AI', 'cs.CV', 'cs.RO'), ('cs.AI', 'cs.CL', 'cs.LG'), ('cs.IT',), ('cs.AI', 'cs.CL'), ('cs.AI', 'cs.SE'), ('cs.CR', 'cs.LG'), ('cs.IR', 'cs.LG'), ('cs.CL', 'cs.LG'), ('cs.IT',), ('cs.AI', 'cs.LG'), ('cs.AI',), ('cs.IT',), ('cs.AI', 'cs.CL', 'cs.LG'), ('cs.IT',), ('cs.IT',), ('cs.IT',), ('cs.IT',), ('cs.CV', 'cs.LG'), ('cs.AI', 'cs.CR', 'cs.CV', 'cs.LG'), ('cs.IT', 'cs.LG'), ('cs.IT',), ('cs.AI', 'cs.NE'), ('cs.LG',), ('cs.AI', 'cs.SY'), ('cs.IT', 'cs.NI'), ('cs.AI', 'cs.CV', 'cs.RO'), ('cs.AI', 'cs.LG'), ('cs.IT', 'cs.LG'), ('cs.IT', 'cs.LG'), ('cs.LG',), ('cs.IT',), ('cs.CL',), ('cs.CL', 'cs.LG'), ('cs.IT',), ('cs.IT', 'cs.LG'), ('cs.AI', 'cs.MA'), ('cs.AI', 'cs.CR', 'cs.LG'), ('cs.AI', 'cs.CV', 'cs.LG'), ('cs.IT',), ('cs.AI',), ('cs.CV', 'cs.LG'), ('cs.AI', 'cs.RO'), ('cs.LG',), ('cs.DC', 'cs.IT', 'cs.LG'), ('cs.AI', 'cs.CV', 'cs.LG'), ('cs.AI', 'cs.CL', 'cs.LG'), ('cs.LG',), ('cs.AI', 'cs.CV'), ('cs.LG', 'cs.NE'), ('cs.AI', 'cs.CL', 'cs.HC', 'cs.SD'), ('cs.LG',), ('cs.LG',), ('cs.AI', 'cs.CL', 'cs.LG'), ('cs.AI', 'cs.CV'), ('cs.AI', 'cs.CV'), ('cs.LG',), ('cs.LG',), ('cs.IT',), ('cs.IT',), ('cs.LG',), ('cs.AI', 'cs.NE'), ('cs.LG',), ('cs.AI', 'cs.LG'), ('cs.IT',), ('cs.LG',), ('cs.IT',), ('cs.IT',), ('cs.LG',), ('cs.IT',), ('cs.IT',), ('cs.IT',), ('cs.LG', 'cs.NE'), ('cs.LG',), ('cs.LG',), ('cs.AI',), ('cs.AI', 'cs.CV'), ('cs.AI', 'cs.CV', 'cs.RO'), ('cs.AI', 'cs.CV', 'cs.LG'), ('cs.IT',), ('cs.AI', 'cs.LG', 'cs.NE'), ('cs.IT',), ('cs.LG',), ('cs.CV', 'cs.LG'), ('cs.AI', 'cs.LG'), ('cs.IT',), ('cs.LG',), ('cs.AI', 'cs.CL', 'cs.CV'), ('cs.IT',), ('cs.AI', 'cs.CL', 'cs.SD'), ('cs.IT',), ('cs.AI', 'cs.CY', 'cs.LG'), ('cs.LG',), ('cs.IT',), ('cs.IT',), ('cs.AI', 'cs.CL', 'cs.CV', 'cs.LG'), ('cs.AI', 'cs.CL'), ('cs.IT',), ('cs.AI', 'cs.CL', 'cs.CV'), ('cs.LG',), ('cs.AI', 'cs.CV', 'cs.LG'), ('cs.AI', 'cs.CY'), ('cs.AI', 'cs.CV'), ('cs.AI', 'cs.LG'), ('cs.AI', 'cs.CL'), ('cs.AI', 'cs.CV', 'cs.LG'), ('cs.AI', 'cs.MA'), ('cs.AI', 'cs.CV', 'cs.MM'), ('cs.AI', 'cs.RO', 'cs.SY'), ('cs.LG',), ('cs.DC', 'cs.LG'), ('cs.CV', 'cs.LG'), ('cs.IT',), ('cs.LG',), ('cs.IT',), ('cs.AI', 'cs.LG'), ('cs.IT',), ('cs.AI',), ('cs.LG',), ('cs.LG',), ('cs.AI', 'cs.CV', 'cs.LG'), ('cs.CV', 'cs.GR', 'cs.LG'), ('cs.LG',), ('cs.AI', 'cs.CL', 'cs.LG'), ('cs.LG',), ('cs.AI',), ('cs.IT',), ('cs.CR', 'cs.LG'), ('cs.AI', 'cs.CL'), ('cs.LG',), ('cs.CV', 'cs.LG'), ('cs.CV', 'cs.LG'), ('cs.AI', 'cs.RO', 'cs.SY'), ('cs.IT',), ('cs.AI', 'cs.SE'), ('cs.AI', 'cs.LG'), ('cs.AI', 'cs.CV', 'cs.LG'), ('cs.AI', 'cs.LG'), ('cs.LG',), ('cs.CL', 'cs.CV', 'cs.LG'), ('cs.LG',), ('cs.LG',), ('cs.IT',), ('cs.AI', 'cs.LG'), ('cs.LG',), ('cs.AI', 'cs.CY'), ('cs.IT',), ('cs.DC', 'cs.LG'), ('cs.AI', 'cs.CV'), ('cs.IT',), ('cs.AI', 'cs.CL', 'cs.SE'), ('cs.AI', 'cs.CV'), ('cs.LG',), ('cs.IT',), ('cs.IT',), ('cs.AI', 'cs.CV'), ('cs.LG',), ('cs.LG',), ('cs.AI', 'cs.CL'), ('cs.AI', 'cs.CL'), ('cs.AI', 'cs.MA', 'cs.SY'), ('cs.IT',), ('cs.CL', 'cs.CY', 'cs.LG', 'cs.SI'), ('cs.DC', 'cs.LG'), ('cs.AI', 'cs.CL'), ('cs.AI', 'cs.CV', 'cs.LG', 'cs.RO'), ('cs.LG',), ('cs.LG', 'cs.MA'), ('cs.AI', 'cs.CL', 'cs.LG'), ('cs.AI', 'cs.CL', 'cs.CV'), ('cs.CV', 'cs.RO'), ('cs.AI', 'cs.CV', 'cs.MM'), ('cs.IT',), ('cs.CR', 'cs.IT'), ('cs.LG', 'cs.SI'), ('cs.AI', 'cs.CV', 'cs.MM'), ('cs.CV', 'cs.LG'), ('cs.AI', 'cs.CL', 'cs.CV'), ('cs.AI',), ('cs.IT',), ('cs.DC', 'cs.LG'), ('cs.LG',), ('cs.LG',), ('cs.IT',), ('cs.IT',), ('cs.AI', 'cs.CL', 'cs.LG'), ('cs.IT',), ('cs.AI', 'cs.LG'), ('cs.AI', 'cs.CL'), ('cs.CR', 'cs.IT'), ('cs.AI', 'cs.CV'), ('cs.IT',), ('cs.CR', 'cs.CV', 'cs.LG'), ('cs.LG',), ('cs.LG',), ('cs.IT',), ('cs.AI',), ('cs.LG',), ('cs.CR', 'cs.LG'), ('cs.IT',), ('cs.IT',), ('cs.IT',), ('cs.AI', 'cs.CL'), ('cs.IT',), ('cs.AI', 'cs.SE'), ('cs.AI', 'cs.CL'), ('cs.LG',), ('cs.LG',), ('cs.AI', 'cs.IR'), ('cs.CL', 'cs.LG'), ('cs.AI', 'cs.CV', 'cs.LG'), ('cs.AI', 'cs.LG'), ('cs.IT',), ('cs.AI', 'cs.CL', 'cs.LG'), ('cs.IT',), ('cs.LG',), ('cs.LG',), ('cs.IT',), ('cs.CL', 'cs.CY', 'cs.LG', 'cs.SI'), ('cs.LG',), ('cs.AI', 'cs.LG'), ('cs.IT',), ('cs.CR', 'cs.LG'), ('cs.LG',), ('cs.LG',), ('cs.AI', 'cs.CL', 'cs.LG'), ('cs.LG',), ('cs.DC', 'cs.LG'), ('cs.AI', 'cs.CY', 'cs.LG'), ('cs.AI', 'cs.CV', 'cs.GR'), ('cs.AI', 'cs.CV'), ('cs.LG',), ('cs.AI', 'cs.RO'), ('cs.IT',), ('cs.AI', 'cs.IR', 'cs.LG'), ('cs.LG',), ('cs.AI', 'cs.CL'), ('cs.LG',), ('cs.AI', 'cs.CL', 'cs.CV'), ('cs.IT',), ('cs.LG',), ('cs.IT', 'cs.LG'), ('cs.LG', 'cs.NE'), ('cs.IT',), ('cs.AI', 'cs.CV'), ('cs.LG',), ('cs.AI', 'cs.CR', 'cs.DC'), ('cs.IT',), ('cs.AI', 'cs.CR', 'cs.CV'), ('cs.LG',), ('cs.IT',), ('cs.CV', 'cs.LG'), ('cs.AI',), ('cs.AI', 'cs.HC', 'cs.RO'), ('cs.LG',), ('cs.CL', 'cs.LG'), ('cs.LG',), ('cs.IT',), ('cs.DC', 'cs.IT', 'cs.LG'), ('cs.IT',), ('cs.AI', 'cs.CV'), ('cs.AI', 'cs.LG'), ('cs.LG',), ('cs.IT',), ('cs.AI', 'cs.LG'), ('cs.AI', 'cs.CV'), ('cs.AI', 'cs.HC'), ('cs.LG',), ('cs.LG',), ('cs.IR', 'cs.LG'), ('cs.AI', 'cs.CV', 'cs.LG'), ('cs.IT',), ('cs.AI',), ('cs.AI', 'cs.CV'), ('cs.CV', 'cs.CY', 'cs.LG'), ('cs.AI', 'cs.LG'), ('cs.AI', 'cs.RO'), ('cs.CV', 'cs.LG'), ('cs.IT',), ('cs.IT',), ('cs.IT',), ('cs.IT',), ('cs.AI', 'cs.LG'), ('cs.AI', 'cs.CL', 'cs.CV'), ('cs.LG',), ('cs.IT',), ('cs.IT',), ('cs.AI', 'cs.CV'), ('cs.IT',), ('cs.DC', 'cs.LG'), ('cs.IT',), ('cs.AI', 'cs.CL'), ('cs.AI',), ('cs.AI', 'cs.CL', 'cs.LG'), ('cs.CV', 'cs.LG'), ('cs.AI', 'cs.LG'), ('cs.IT',), ('cs.IT',), ('cs.LG',), ('cs.LG',), ('cs.CL', 'cs.IR'), ('cs.AI', 'cs.LG', 'cs.MA'), ('cs.SY',), ('cs.IT',), ('cs.LG',), ('cs.AI', 'cs.RO'), ('cs.AI', 'cs.RO'), ('cs.AI', 'cs.CL', 'cs.CV', 'cs.LG'), ('cs.IT', 'cs.LG'), ('cs.AI', 'cs.LG', 'cs.SD'), ('cs.LG',), ('cs.AI', 'cs.CL', 'cs.LG'), ('cs.AI', 'cs.CV', 'cs.RO'), ('cs.LG',), ('cs.AI', 'cs.MA', 'cs.RO'), ('cs.LG',), ('cs.AI', 'cs.RO'), ('cs.AI', 'cs.CV'), ('cs.LG',), ('cs.CR', 'cs.LG'), ('cs.IT', 'cs.LG'), ('cs.AI', 'cs.LG', 'cs.MA'), ('cs.CL', 'cs.IR', 'cs.LG'), ('cs.LG',), ('cs.AI', 'cs.CV'), ('cs.LG', 'cs.NE'), ('cs.AI', 'cs.CL', 'cs.SD'), ('cs.IT',), ('cs.AI', 'cs.CL'), ('cs.IT',), ('cs.LG',), ('cs.AI', 'cs.RO'), ('cs.LG',), ('cs.AI', 'cs.CV'), ('cs.AI', 'cs.CV'), ('cs.IT',), ('cs.CL', 'cs.LG'), ('cs.IT',), ('cs.LG',), ('cs.LG',), ('cs.AI', 'cs.CL'), ('cs.CV', 'cs.LG'), ('cs.LG',), ('cs.AI', 'cs.CL'), ('cs.AI', 'cs.CV'), ('cs.IT',), ('cs.AI',), ('cs.IT', 'cs.NI'), ('cs.AI', 'cs.IT'), ('cs.AI', 'cs.CL', 'cs.SD'), ('cs.AI', 'cs.CL'), ('cs.LG',), ('cs.IT',), ('cs.LG',), ('cs.IT',), ('cs.AI', 'cs.RO'), ('cs.LG',), ('cs.CY', 'cs.LG'), ('cs.IT',), ('cs.IT', 'cs.NI'), ('cs.AI', 'cs.CL'), ('cs.LG', 'cs.SD'), ('cs.CY', 'cs.IT', 'cs.LG'), ('cs.IT', 'cs.LG'), ('cs.LG',), ('cs.IT',), ('cs.AI', 'cs.LG', 'cs.SY'), ('cs.CV', 'cs.LG'), ('cs.IT',), ('cs.LG',), ('cs.LG',), ('cs.IT',), ('cs.AI', 'cs.CL', 'cs.LG'), ('cs.AI', 'cs.LG'), ('cs.IT',), ('cs.IT',), ('cs.AI', 'cs.RO'), ('cs.AI', 'cs.CV'), ('cs.IT',), ('cs.IT',), ('cs.CV', 'cs.LG'), ('cs.IT',), ('cs.AI',), ('cs.AI', 'cs.CV'), ('cs.AI', 'cs.CL'), ('cs.CV', 'cs.LG'), ('cs.LG',), ('cs.AI', 'cs.CL', 'cs.LG'), ('cs.AI', 'cs.LG'), ('cs.AI', 'cs.CL', 'cs.CY', 'cs.LG'), ('cs.AI', 'cs.GT', 'cs.LG', 'cs.MA'), ('cs.AI',), ('cs.LG',), ('cs.AI', 'cs.LO'), ('cs.IT',), ('cs.AI', 'cs.CV'), ('cs.IT',), ('cs.CR', 'cs.LG'), ('cs.AI', 'cs.LG', 'cs.NE'), ('cs.IT',), ('cs.LG', 'cs.NE'), ('cs.LG',), ('cs.IT',), ('cs.CL', 'cs.LG', 'cs.SD'), ('cs.AI', 'cs.LG'), ('cs.AI', 'cs.CL'), ('cs.AI', 'cs.NE', 'cs.SY'), ('cs.DC', 'cs.IT'), ('cs.AI',), ('cs.LG', 'cs.NE'), ('cs.LG',), ('cs.AI', 'cs.CL'), ('cs.DC', 'cs.LG'), ('cs.LG',), ('cs.AI', 'cs.LG', 'cs.RO'), ('cs.AI', 'cs.CL', 'cs.CV'), ('cs.IT',), ('cs.AI', 'cs.LG'), ('cs.DC', 'cs.IT'), ('cs.AI', 'cs.CV', 'cs.LG'), ('cs.LG',), ('cs.AI',), ('cs.AI', 'cs.CL'), ('cs.AI', 'cs.CL'), ('cs.IT',), ('cs.CL', 'cs.LG'), ('cs.AI', 'cs.LG'), ('cs.LG',), ('cs.CR', 'cs.LG'), ('cs.AI', 'cs.CY', 'cs.LG'), ('cs.IT',)]\n"
          ]
        }
      ]
    },
    {
      "cell_type": "code",
      "source": [
        "from sklearn.metrics import classification_report, confusion_matrix\n",
        "from sklearn.metrics import f1_score\n",
        "from sklearn.metrics import hamming_loss\n",
        "print(classification_report(y_true = y_test, y_pred = y_pred, target_names = labels_list))\n",
        "\n",
        "micro_f1 = f1_score(y_true = y_test, y_pred = y_pred, average='micro')\n",
        "print('Micro-F1 Score: {:.4f}'.format(micro_f1))\n",
        "hl=hamming_loss(y_test, y_pred)\n",
        "print('Hamming loss: {:.4f}'.format(hl))"
      ],
      "metadata": {
        "colab": {
          "base_uri": "https://localhost:8080/"
        },
        "id": "TuQgudBfvz3P",
        "outputId": "479efe1a-fb99-412a-8f5d-1a1ddaa4ef71"
      },
      "execution_count": null,
      "outputs": [
        {
          "output_type": "stream",
          "name": "stdout",
          "text": [
            "              precision    recall  f1-score   support\n",
            "\n",
            "       cs.AI       0.75      0.62      0.68      1891\n",
            "       cs.AR       0.21      0.12      0.16        24\n",
            "       cs.CC       0.00      0.00      0.00        17\n",
            "       cs.CE       0.00      0.00      0.00        11\n",
            "       cs.CG       0.00      0.00      0.00         2\n",
            "       cs.CL       0.74      0.86      0.80       454\n",
            "      cs.CL,       0.00      0.00      0.00         0\n",
            "       cs.CR       0.78      0.58      0.67       186\n",
            "       cs.CV       0.86      0.72      0.78       666\n",
            "       cs.CY       0.52      0.38      0.44        93\n",
            "       cs.DB       1.00      0.03      0.06        30\n",
            "       cs.DC       0.45      0.49      0.47        84\n",
            "       cs.DL       0.00      0.00      0.00         2\n",
            "       cs.DM       0.00      0.00      0.00        17\n",
            "       cs.DS       0.25      0.07      0.12        40\n",
            "       cs.ET       0.00      0.00      0.00        13\n",
            "       cs.FL       0.00      0.00      0.00         4\n",
            "       cs.GL       0.00      0.00      0.00         1\n",
            "       cs.GR       0.47      0.28      0.35        25\n",
            "       cs.GT       0.74      0.45      0.56        31\n",
            "       cs.HC       0.67      0.33      0.44        78\n",
            "       cs.IR       0.66      0.55      0.60       108\n",
            "       cs.IT       0.89      0.95      0.91      1120\n",
            "       cs.LG       0.85      0.75      0.79      2191\n",
            "       cs.LO       0.50      0.09      0.16        32\n",
            "       cs.MA       0.56      0.62      0.59        61\n",
            "       cs.MM       0.38      0.17      0.24        29\n",
            "       cs.MS       0.00      0.00      0.00         1\n",
            "       cs.NA       0.00      0.00      0.00        24\n",
            "       cs.NE       0.44      0.39      0.41        93\n",
            "       cs.NI       0.50      0.29      0.37        80\n",
            "       cs.OH       0.00      0.00      0.00         1\n",
            "       cs.OS       0.00      0.00      0.00         0\n",
            "       cs.PF       1.00      0.07      0.13        14\n",
            "       cs.PL       0.25      0.05      0.08        22\n",
            "       cs.RO       0.74      0.69      0.71       188\n",
            "       cs.SC       0.00      0.00      0.00         8\n",
            "       cs.SD       0.92      0.78      0.84        76\n",
            "       cs.SE       0.79      0.54      0.64        56\n",
            "       cs.SI       0.71      0.35      0.47        71\n",
            "       cs.SY       0.39      0.22      0.28        69\n",
            "       cs.cc       0.00      0.00      0.00         0\n",
            "\n",
            "   micro avg       0.79      0.68      0.73      7913\n",
            "   macro avg       0.41      0.27      0.30      7913\n",
            "weighted avg       0.77      0.68      0.72      7913\n",
            " samples avg       0.84      0.75      0.76      7913\n",
            "\n",
            "Micro-F1 Score: 0.7331\n",
            "Hamming loss: 0.0234\n"
          ]
        },
        {
          "output_type": "stream",
          "name": "stderr",
          "text": [
            "/usr/local/lib/python3.10/dist-packages/sklearn/metrics/_classification.py:1344: UndefinedMetricWarning: Precision and F-score are ill-defined and being set to 0.0 in labels with no predicted samples. Use `zero_division` parameter to control this behavior.\n",
            "  _warn_prf(average, modifier, msg_start, len(result))\n",
            "/usr/local/lib/python3.10/dist-packages/sklearn/metrics/_classification.py:1344: UndefinedMetricWarning: Recall and F-score are ill-defined and being set to 0.0 in labels with no true samples. Use `zero_division` parameter to control this behavior.\n",
            "  _warn_prf(average, modifier, msg_start, len(result))\n",
            "/usr/local/lib/python3.10/dist-packages/sklearn/metrics/_classification.py:1344: UndefinedMetricWarning: Precision and F-score are ill-defined and being set to 0.0 in samples with no predicted labels. Use `zero_division` parameter to control this behavior.\n",
            "  _warn_prf(average, modifier, msg_start, len(result))\n"
          ]
        }
      ]
    },
    {
      "cell_type": "code",
      "source": [
        "y_test"
      ],
      "metadata": {
        "colab": {
          "base_uri": "https://localhost:8080/"
        },
        "id": "39yvPhJgwVhh",
        "outputId": "adcc7b04-3d00-4762-b29e-017e3700ee34"
      },
      "execution_count": null,
      "outputs": [
        {
          "output_type": "execute_result",
          "data": {
            "text/plain": [
              "10650    [cs.LG, cs.CV, cs.IR]\n",
              "2041     [cs.LG, cs.AI, cs.SY]\n",
              "8668            [cs.RO, cs.AI]\n",
              "1114     [cs.LG, cs.AI, cs.CL]\n",
              "13902                  [cs.LG]\n",
              "                 ...          \n",
              "4073            [cs.LG, cs.AI]\n",
              "7442            [cs.LG, cs.AI]\n",
              "9999     [cs.CR, cs.DC, cs.LG]\n",
              "1870     [cs.LG, cs.AI, cs.CV]\n",
              "15196                  [cs.IT]\n",
              "Name: categories, Length: 4000, dtype: object"
            ]
          },
          "metadata": {},
          "execution_count": 48
        }
      ]
    },
    {
      "cell_type": "code",
      "execution_count": null,
      "metadata": {
        "colab": {
          "base_uri": "https://localhost:8080/"
        },
        "id": "uglSl0yQ8Qfc",
        "outputId": "8f62e891-06e2-447d-f10a-3945e5bb7c89"
      },
      "outputs": [
        {
          "output_type": "stream",
          "name": "stdout",
          "text": [
            "renombramos:  categories\n"
          ]
        },
        {
          "output_type": "execute_result",
          "data": {
            "text/plain": [
              "DatasetDict({\n",
              "    train: Dataset({\n",
              "        features: ['abstract', 'label'],\n",
              "        num_rows: 128060\n",
              "    })\n",
              "    validation: Dataset({\n",
              "        features: ['abstract', 'label'],\n",
              "        num_rows: 32015\n",
              "    })\n",
              "    test: Dataset({\n",
              "        features: ['abstract', 'label'],\n",
              "        num_rows: 40019\n",
              "    })\n",
              "})"
            ]
          },
          "metadata": {},
          "execution_count": 16
        }
      ],
      "source": [
        "\n",
        "\n",
        "# Cada tarea, tiene un nombre de label distinto:\n",
        "label_task = 'categories'\n",
        "\n",
        "# Borramos todas las columnas excepto el texto y el campo label correspondiente a la tarea\n",
        "columns_to_remove = list(set(dict_dataset['train'].features) - set(['abstract', label_task]))\n",
        "dict_dataset = dict_dataset.remove_columns(columns_to_remove)\n",
        "# renombramos el campo label específico de la tarea a label\n",
        "print('renombramos: ', label_task)\n",
        "dict_dataset = dict_dataset.rename_column(label_task,'label')\n",
        "dict_dataset"
      ]
    },
    {
      "cell_type": "markdown",
      "metadata": {
        "id": "nF34_S-15Inh"
      },
      "source": [
        "### Label encoding\n",
        "\n",
        "Las labels en este dataset son textos. Así, por ejemplo, para la tarea A, las labels son: 'not sexist' y 'sexist'.\n",
        "Para la tarea B, las labels son:\n",
        "- 1. threats, plans to harm and incitement\n",
        "- 2. derogation\n",
        "- 3. animosity\n",
        "- 4. prejudiced discussions\n",
        "\n",
        "Las labels deben ser transformadas en números enteros. Para ello usaremos la clase LabelEncoder de sklearn:"
      ]
    },
    {
      "cell_type": "code",
      "execution_count": null,
      "metadata": {
        "id": "1Ebgn4HMA0YD"
      },
      "outputs": [],
      "source": [
        "from sklearn.preprocessing import LabelEncoder\n",
        "le = LabelEncoder()\n",
        "\n",
        "# entrenamos el codificador de etiquetas\n",
        "le.fit(dict_dataset['train']['label'])\n",
        "# guardamos el conjunto de labels y su número\n",
        "LABELS = list(le.classes_)\n",
        "NUM_LABELS = len(LABELS)\n",
        "\n",
        "# transformamos las etiquetas de texto a número en los tres splits\n",
        "# las guardamos en tres listas\n",
        "y_train = le.transform(dict_dataset['train']['label'])\n",
        "y_val = le.transform(dict_dataset['validation']['label'])\n",
        "y_test = le.transform(dict_dataset['test']['label'])\n",
        "\n",
        "\n"
      ]
    },
    {
      "cell_type": "markdown",
      "metadata": {
        "id": "O8ivHQ-wsqHv"
      },
      "source": [
        "Vamos a comprobar que en efecto la transformación se ha hecho de forma correcta. Tomamos, por ejemplo, las 5 primero labels del conjunto test y vemos que se han codificado correctamente:"
      ]
    },
    {
      "cell_type": "code",
      "execution_count": null,
      "metadata": {
        "colab": {
          "base_uri": "https://localhost:8080/"
        },
        "id": "Cn2MegN0stQI",
        "outputId": "ab8a5480-3397-4029-ebd1-f6ef1fca37f1"
      },
      "outputs": [
        {
          "output_type": "stream",
          "name": "stdout",
          "text": [
            "['comp.os.ms-windows.misc', 'comp.sys.ibm.pc.hardware', 'alt.atheism', 'sci.electronics', 'talk.politics.guns']\n",
            "[ 2  3  0 12 16]\n"
          ]
        }
      ],
      "source": [
        "print(dict_dataset['test']['label'][:5])\n",
        "print(y_test[:5])"
      ]
    },
    {
      "cell_type": "markdown",
      "metadata": {
        "id": "mTOcqHOEWaYZ"
      },
      "source": [
        "## Tokenización\n",
        "\n",
        "Siempre es necesario cargar el tokenizador asociado con el transformer que vayamos a utilizar.\n"
      ]
    },
    {
      "cell_type": "code",
      "execution_count": null,
      "metadata": {
        "colab": {
          "base_uri": "https://localhost:8080/",
          "height": 113,
          "referenced_widgets": [
            "3ac41146879c4f8ab42df8219cb30b3b",
            "3d636b4d5fca4e8c8b6ed02e2b7a531c",
            "98db9436a8de4a19852ec037aed6c235",
            "c21191c57d34497385d8444037b302ef",
            "36de5907bbed4a0d81b8e099251322bc",
            "244ce3cada444aa3963771941db08f91",
            "adf20572eb454d698a5d83d20d8bfb1a",
            "da028501a8af42c4906a1a0530581704",
            "49d86bb060be47d2b24b75aaf928eda6",
            "19b0e18e6c3e4b4f9707a5a0cf212a6a",
            "b51a3fe35ba845f0977925bcb13c8d17",
            "2a7cd87c619344d1a9f728514b09585d",
            "94fba72900bd456b8324fc2e2fcbfce9",
            "4799b29ac7a94aaab7e46e921f6b22b3",
            "c79e764d0eba4a8f89947a3d6ba2d6fc",
            "c0d425fc106140b5ba6bb37870eab40e",
            "9cc3de17375d4e18abc58c550931ce2d",
            "93dbd29081e4433d894c94efb3732a71",
            "dcf7a85034b94bf7a90dee550bc4f81c",
            "0951d2c2c9274b69aa61c6fa99c0823b",
            "190b2d8299d341ef92d216fc842ef975",
            "def57f1a2cd64efbbb767a84b960b5f8",
            "7b5579d934c141adbb5e64b74f682573",
            "ed8e0fd3ac6c43a795bd2661d6ae9bd1",
            "9a49574dfa7e404784f574a898e5b3b7",
            "62a211f9b4b04decad64eb7a6153ae76",
            "2765633a01fe4436b6511844ae54f98e",
            "bc85a215a3d54dbfa2d308af438b1066",
            "cb18a41a51024a5ab291926dc6a8921c",
            "132f8715d1ab478bb1208bcd8c1890f4",
            "c888dc184e664496833affd2713e0e9d",
            "1cd3fd402b994bdba7c1534f3d3325a0",
            "25fef68f32df408591142fcfba425084"
          ]
        },
        "id": "xv9jZZLGWeep",
        "outputId": "268a34f6-1bd7-4a95-e8e7-f067a1953696"
      },
      "outputs": [
        {
          "output_type": "display_data",
          "data": {
            "text/plain": [
              "tokenizer_config.json:   0%|          | 0.00/2.32k [00:00<?, ?B/s]"
            ],
            "application/vnd.jupyter.widget-view+json": {
              "version_major": 2,
              "version_minor": 0,
              "model_id": "3ac41146879c4f8ab42df8219cb30b3b"
            }
          },
          "metadata": {}
        },
        {
          "output_type": "display_data",
          "data": {
            "text/plain": [
              "spiece.model:   0%|          | 0.00/792k [00:00<?, ?B/s]"
            ],
            "application/vnd.jupyter.widget-view+json": {
              "version_major": 2,
              "version_minor": 0,
              "model_id": "2a7cd87c619344d1a9f728514b09585d"
            }
          },
          "metadata": {}
        },
        {
          "output_type": "display_data",
          "data": {
            "text/plain": [
              "tokenizer.json:   0%|          | 0.00/1.39M [00:00<?, ?B/s]"
            ],
            "application/vnd.jupyter.widget-view+json": {
              "version_major": 2,
              "version_minor": 0,
              "model_id": "7b5579d934c141adbb5e64b74f682573"
            }
          },
          "metadata": {}
        }
      ],
      "source": [
        "if 'uncased' in model_name:\n",
        "        do_lower_case = True\n",
        "else:\n",
        "        do_lower_case = False\n",
        "\n",
        "from transformers import AutoTokenizer\n",
        "tokenizer = AutoTokenizer.from_pretrained(model_name, do_lower_case=do_lower_case)\n"
      ]
    },
    {
      "cell_type": "code",
      "execution_count": null,
      "metadata": {
        "colab": {
          "base_uri": "https://localhost:8080/",
          "height": 153,
          "referenced_widgets": [
            "feef5855f2a846e799d04ca77284b752",
            "b6cc5e895ddc47c4baef49fa4ab0aee2",
            "d5d4545c68fe48d1a40dab90de561f95",
            "7a1027bac3d44ce9be2e4a2619d4f3ce",
            "f2200a3ea5f44d1b91f45c0ba5e267a1",
            "3150ec317353441097549f0e9a841913",
            "ca0a675ab8724a75a23ff93b4030e9f1",
            "148b9b8eabb1466985d46e37d8246e0d",
            "491afc5a25a347658edf9c7de0b7e523",
            "0c54391f7ff5487ea38ec1c9a5f266dc",
            "5e282363fa024f719dcc52edc24a31a3",
            "59ed740123ad4350abab4a3e944f98b6",
            "5d791b61afc54b9f934d8735d99675b7",
            "e0af424898bb4bd1be44108274e1fc4a",
            "5a557d7be59d4fc3a02f7166bfaa0997",
            "8b1a60b37722442c81d9ae18dc3be47b",
            "dffaf8ed13274d7ca5c4acee5e061f75",
            "8cdcb74b328049f6b75e3946981eb471",
            "f929b33d6e0a403c8caf7dad95f86765",
            "d688f9e3001b4972b4ea4eddc7737939",
            "a4529e753bbe44d5a0eb3f05c581420d",
            "7968f6ae3053440fbb7312d36a2ca387"
          ]
        },
        "id": "IgA-hn_ktG2s",
        "outputId": "25f2a522-12fb-4eeb-c464-d0b8b58c4f7a"
      },
      "outputs": [
        {
          "output_type": "display_data",
          "data": {
            "text/plain": [
              "config.json:   0%|          | 0.00/1.21k [00:00<?, ?B/s]"
            ],
            "application/vnd.jupyter.widget-view+json": {
              "version_major": 2,
              "version_minor": 0,
              "model_id": "feef5855f2a846e799d04ca77284b752"
            }
          },
          "metadata": {}
        },
        {
          "output_type": "display_data",
          "data": {
            "text/plain": [
              "model.safetensors:   0%|          | 0.00/242M [00:00<?, ?B/s]"
            ],
            "application/vnd.jupyter.widget-view+json": {
              "version_major": 2,
              "version_minor": 0,
              "model_id": "59ed740123ad4350abab4a3e944f98b6"
            }
          },
          "metadata": {}
        },
        {
          "output_type": "stream",
          "name": "stderr",
          "text": [
            "Some weights of T5ForSequenceClassification were not initialized from the model checkpoint at t5-small and are newly initialized: ['classification_head.dense.bias', 'classification_head.dense.weight', 'classification_head.out_proj.bias', 'classification_head.out_proj.weight']\n",
            "You should probably TRAIN this model on a down-stream task to be able to use it for predictions and inference.\n"
          ]
        },
        {
          "output_type": "stream",
          "name": "stdout",
          "text": [
            "t5-small  cargado\n"
          ]
        }
      ],
      "source": [
        "from transformers import AutoModelForSequenceClassification\n",
        "model = AutoModelForSequenceClassification.from_pretrained(model_name, num_labels=NUM_LABELS)\n",
        "print(model_name, ' cargado')"
      ]
    },
    {
      "cell_type": "markdown",
      "metadata": {
        "id": "dQwrJEHAXo64"
      },
      "source": [
        "### Tamaño de los textos\n"
      ]
    },
    {
      "cell_type": "code",
      "execution_count": null,
      "metadata": {
        "colab": {
          "base_uri": "https://localhost:8080/"
        },
        "id": "edOil8mNXq3_",
        "outputId": "65dca725-c088-4922-9ae0-3841b989cc8b"
      },
      "outputs": [
        {
          "output_type": "stream",
          "name": "stderr",
          "text": [
            "Token indices sequence length is longer than the specified maximum sequence length for this model (566 > 512). Running this sequence through the model will result in indexing errors\n"
          ]
        },
        {
          "output_type": "stream",
          "name": "stdout",
          "text": [
            "28343\n"
          ]
        }
      ],
      "source": [
        "# obtenemos la longitud de la secuencia más larga en el conjunto de training\n",
        "MAX_LENGTH = max([len(tokenizer(text).tokens())  for text in dict_dataset['train']['text_cleaned']])\n",
        "print(MAX_LENGTH)\n"
      ]
    },
    {
      "cell_type": "markdown",
      "metadata": {
        "id": "ZVFUW54FwlDA"
      },
      "source": [
        "Vemos que el tamaño máximo es de 93 tokens. En realidad, en esos 93 tokens habrá tokens y también subtokens, porque los tokenizadores de los transformers dividien las palabras desconocidas (es decir, aquellas que no están en la colección de textos utilizada para pre-entrenar el modelo) en subtokens para que puedan ser represenatdos.\n",
        "\n",
        "El tamaño máximo que permiten la mayoría de los modelos es 512, así que podríamos preparar nuestras entradas para que tuvieran esa longitud, pero en realidad usando una longitud de 93, vamos a representar todas los textos de nuestro dataset, y además, vamos a ahorrar recursos."
      ]
    },
    {
      "cell_type": "code",
      "execution_count": null,
      "metadata": {
        "colab": {
          "base_uri": "https://localhost:8080/"
        },
        "id": "NHuVV3AQwgBy",
        "outputId": "4c42186c-bc14-457e-f464-13ed6de3b29b"
      },
      "outputs": [
        {
          "output_type": "stream",
          "name": "stdout",
          "text": [
            "MAX_LENGTH: 512\n"
          ]
        }
      ],
      "source": [
        "MAX_LENGTH = min(MAX_LENGTH, 512)\n",
        "print('MAX_LENGTH:', MAX_LENGTH)"
      ]
    },
    {
      "cell_type": "markdown",
      "metadata": {
        "id": "FvQvoMbdsCIM"
      },
      "source": [
        "Una vez que ya hemos estimado el tamaño máximo de nuestras secuencias (textos) de entrada, ya podemos definir nuestra función para tokenizar todos los textos de los tres splits.\n",
        "\n",
        "Es necesario el parámetro **truncation** igual a True, porque en el conjunto de validación o en el conjunto test, podría existir algún texto con un número mayor de tokens.\n",
        "\n"
      ]
    },
    {
      "cell_type": "code",
      "execution_count": null,
      "metadata": {
        "id": "u7_Qa3EFyGvT"
      },
      "outputs": [],
      "source": [
        "def tokenize(example):\n",
        "    return tokenizer(example[\"text_cleaned\"], truncation=True, padding=True, max_length=MAX_LENGTH)\n"
      ]
    },
    {
      "cell_type": "code",
      "execution_count": null,
      "metadata": {
        "colab": {
          "base_uri": "https://localhost:8080/"
        },
        "id": "N-MsCZp3SC2f",
        "outputId": "86b7fe99-19c9-4238-e3bc-39ffa09e6119"
      },
      "outputs": [
        {
          "data": {
            "text/plain": [
              "0"
            ]
          },
          "execution_count": 30,
          "metadata": {},
          "output_type": "execute_result"
        }
      ],
      "source": [
        "\n",
        "tokenizer.pad_token = tokenizer.eos_token\n",
        "# set the pad token of the model's configuration\n",
        "model.config.pad_token_id = model.config.eos_token_id\n",
        "tokenizer.add_special_tokens({'pad_token': '[PAD]'})"
      ]
    },
    {
      "cell_type": "markdown",
      "metadata": {
        "id": "8gGs5ejJyJU3"
      },
      "source": [
        "Una vez definida la función, la aplicamos sobre todo el dataset, gracias a la función map. Además, vamos a borrar la columna text.\n",
        "\n",
        "La columna 'label' también la eliminamos porque sus valores están en formato string. Lo que hacemos es eliminar dicha columna y volver a añadirla en cada split, pero ahora guardando los valores de las labels ya codificados (transformados a números):"
      ]
    },
    {
      "cell_type": "code",
      "execution_count": null,
      "metadata": {
        "colab": {
          "base_uri": "https://localhost:8080/",
          "height": 287,
          "referenced_widgets": [
            "97b8a81872774288955a8998b95bd906",
            "3a1836fa165b42b3abd44b38b6138fb5",
            "535044090461466fb8cc2333ea6d67d5",
            "e4962a99adfa4083b8db1be59aa03b3d",
            "732be820f2d34ceb9c66f8f105b5a8f5",
            "76c0330328f342e8876333c91392aa5c",
            "b0941b5c870c4a4f9e28f6d0b1c56444",
            "60226322e22a46b5913c15089a95dc11",
            "300ee995982c4c5ea198cecfd1f4bb10",
            "c81087df84b9426eba9d59c8278b41ea",
            "1f6fa47b18944ec49967d19606ea30f8",
            "37ac6f35651e4ceabc0c971ca5884735",
            "9706bf00e6914596aeac044d4afb2dbb",
            "b60ffa4a69f6450c8bc77dee20bf74de",
            "ceffebf5368b42539360449f6ee30f7a",
            "25437ba2eb044353b0ca49ed75e88e28",
            "9fe03c96b84344deaf115fb480945375",
            "770aeb093fdf495fa9d70de524588283",
            "e24595f845c042e288740de76eae4bff",
            "ec24c0d15447414bb22152c283ce9d62",
            "761331710cb64cb2b8067fcf2d880e49",
            "1a4fb66838944fddadbe519650435d43",
            "c6a73c24a0f04d6288cb9e8ebe83777c",
            "d14195586af04432952bd41592af9577",
            "a4bf8131f12e40bab4d76a3513f7ed69",
            "ad991d8fa1224540954e18e90f4ee69c",
            "1d2457656bd04a25ad03672998a6d87d",
            "30b62a6a28f2427591c55eb37c68b77b",
            "42a88f0ad70a4e2499c833eb0dc69518",
            "4b063466a04e4aaf9b5ce0301452ecad",
            "cd275fb7dce8471abf37011d0d2497a9",
            "236b634fbcda4f2d846c051095d95d9e",
            "8f1f170f76ba4e419806ebdb02207f03"
          ]
        },
        "id": "GM8925oeWiNK",
        "outputId": "309ce275-ea7a-4720-dfc5-e48ac45b658a"
      },
      "outputs": [
        {
          "output_type": "display_data",
          "data": {
            "text/plain": [
              "Map:   0%|          | 0/12049 [00:00<?, ? examples/s]"
            ],
            "application/vnd.jupyter.widget-view+json": {
              "version_major": 2,
              "version_minor": 0,
              "model_id": "97b8a81872774288955a8998b95bd906"
            }
          },
          "metadata": {}
        },
        {
          "output_type": "display_data",
          "data": {
            "text/plain": [
              "Map:   0%|          | 0/3013 [00:00<?, ? examples/s]"
            ],
            "application/vnd.jupyter.widget-view+json": {
              "version_major": 2,
              "version_minor": 0,
              "model_id": "37ac6f35651e4ceabc0c971ca5884735"
            }
          },
          "metadata": {}
        },
        {
          "output_type": "display_data",
          "data": {
            "text/plain": [
              "Map:   0%|          | 0/3766 [00:00<?, ? examples/s]"
            ],
            "application/vnd.jupyter.widget-view+json": {
              "version_major": 2,
              "version_minor": 0,
              "model_id": "c6a73c24a0f04d6288cb9e8ebe83777c"
            }
          },
          "metadata": {}
        },
        {
          "output_type": "execute_result",
          "data": {
            "text/plain": [
              "DatasetDict({\n",
              "    train: Dataset({\n",
              "        features: ['input_ids', 'attention_mask', 'label'],\n",
              "        num_rows: 12049\n",
              "    })\n",
              "    validation: Dataset({\n",
              "        features: ['input_ids', 'attention_mask', 'label'],\n",
              "        num_rows: 3013\n",
              "    })\n",
              "})"
            ]
          },
          "metadata": {},
          "execution_count": 103
        }
      ],
      "source": [
        "encoded_dataset = dict_dataset.map(tokenize, batched=True)\n",
        "# quitamos text y label. label se quita porque sus valores son string\n",
        "encoded_dataset = encoded_dataset.remove_columns(['text_cleaned','label'])\n",
        "# añadimos a cada split la columna label otra vez, pero ahora con sus correspodientes valores transformados a números (lo hicimos en Label encoding)\n",
        "encoded_dataset['train'] = encoded_dataset['train'].add_column('label', y_train)\n",
        "encoded_dataset['validation'] = encoded_dataset['validation'].add_column('label', y_val)\n",
        "# además, borramos la codificación de test, porque realmente no se va a usar durante el entrenamiento\n",
        "del(encoded_dataset['test'] )\n",
        "encoded_dataset"
      ]
    },
    {
      "cell_type": "markdown",
      "metadata": {
        "id": "jR1y5TzHXMvN"
      },
      "source": [
        "## Modelo"
      ]
    },
    {
      "cell_type": "code",
      "execution_count": null,
      "metadata": {
        "id": "GqCNt5rwZsq9"
      },
      "outputs": [],
      "source": [
        "# define metrics\n",
        "import numpy as np\n",
        "from sklearn.metrics import accuracy_score, precision_recall_fscore_support\n",
        "\n",
        "def compute_metrics(eval_pred):\n",
        "\n",
        "    predictions, labels = eval_pred\n",
        "    predictions = np.argmax(predictions, axis=1)\n",
        "    precision, recall, f1, _ = precision_recall_fscore_support(labels, predictions, average='micro')\n",
        "    acc = accuracy_score(labels, predictions)\n",
        "    return {\n",
        "        'accuracy': acc,    #we could return just the accuracy\n",
        "        'f1': f1,\n",
        "        'precision': precision,\n",
        "        'recall': recall\n",
        "    }\n",
        "\n"
      ]
    },
    {
      "cell_type": "markdown",
      "metadata": {
        "id": "cbADEHLcz51T"
      },
      "source": [
        " usaremos la clase TrainingArguments que ya tiene los hiper-parámetros definidos e inicializados para este tipo de tareas."
      ]
    },
    {
      "cell_type": "code",
      "execution_count": null,
      "metadata": {
        "id": "Qe9SswqUz6f_"
      },
      "outputs": [],
      "source": [
        "\n",
        "from transformers import TrainingArguments\n",
        "args = TrainingArguments(\n",
        "    output_dir='./outputs20news/',\n",
        "    # overwrite_output_dir = True,  # If `True`, overwrite the content of the output directory. Use this to continue training if `output_dir` points to a checkpoint directory.\n",
        "    logging_dir='./logs',\n",
        "    num_train_epochs=5, # usa 1 para un entrenamiento rápido, aunque lo recomendable es un valor de 3 a 5\n",
        "    evaluation_strategy = \"epoch\",  # \"steps\",   evaluate each `logging_steps`, logging_steps=400,               # log & save weights each logging_steps     save_steps=400,\n",
        "                                    # save_steps=400,\n",
        "    save_strategy = \"no\",\n",
        "    learning_rate=2e-5,\n",
        "    per_device_train_batch_size=16,\n",
        "    per_device_eval_batch_size=16,\n",
        "    weight_decay=0.01,\n",
        "    load_best_model_at_end=False,\n",
        "    metric_for_best_model=\"f1\",\n",
        "\n",
        ")"
      ]
    },
    {
      "cell_type": "markdown",
      "metadata": {
        "id": "EiVhBuR1YbLR"
      },
      "source": [
        "Ya estamos listos para crear el objeto Trainer, al que pasamos el modelo, el tokenizador, los argumentos, la función que cálcula las métricas, y los datos codificados de training y validación:"
      ]
    },
    {
      "cell_type": "code",
      "execution_count": null,
      "metadata": {
        "colab": {
          "base_uri": "https://localhost:8080/",
          "height": 489
        },
        "id": "i_ta9jO8XljS",
        "outputId": "e7c67210-fc41-4fec-d458-ad63c43dae3d"
      },
      "outputs": [
        {
          "output_type": "stream",
          "name": "stderr",
          "text": [
            "/usr/local/lib/python3.10/dist-packages/accelerate/accelerator.py:436: FutureWarning: Passing the following arguments to `Accelerator` is deprecated and will be removed in version 1.0 of Accelerate: dict_keys(['dispatch_batches', 'split_batches', 'even_batches', 'use_seedable_sampler']). Please pass an `accelerate.DataLoaderConfiguration` instead: \n",
            "dataloader_config = DataLoaderConfiguration(dispatch_batches=None, split_batches=False, even_batches=True, use_seedable_sampler=True)\n",
            "  warnings.warn(\n"
          ]
        },
        {
          "output_type": "stream",
          "name": "stdout",
          "text": [
            "Training:  t5-small\n"
          ]
        },
        {
          "output_type": "display_data",
          "data": {
            "text/plain": [
              "<IPython.core.display.HTML object>"
            ],
            "text/html": [
              "\n",
              "    <div>\n",
              "      \n",
              "      <progress value='755' max='3770' style='width:300px; height:20px; vertical-align: middle;'></progress>\n",
              "      [ 755/3770 12:14 < 49:00, 1.03 it/s, Epoch 1/5]\n",
              "    </div>\n",
              "    <table border=\"1\" class=\"dataframe\">\n",
              "  <thead>\n",
              " <tr style=\"text-align: left;\">\n",
              "      <th>Epoch</th>\n",
              "      <th>Training Loss</th>\n",
              "      <th>Validation Loss</th>\n",
              "    </tr>\n",
              "  </thead>\n",
              "  <tbody>\n",
              "  </tbody>\n",
              "</table><p>\n",
              "    <div>\n",
              "      \n",
              "      <progress value='189' max='189' style='width:300px; height:20px; vertical-align: middle;'></progress>\n",
              "      [189/189 01:13]\n",
              "    </div>\n",
              "    "
            ]
          },
          "metadata": {}
        },
        {
          "output_type": "error",
          "ename": "ValueError",
          "evalue": "setting an array element with a sequence. The requested array has an inhomogeneous shape after 2 dimensions. The detected shape was (2, 3013) + inhomogeneous part.",
          "traceback": [
            "\u001b[0;31m---------------------------------------------------------------------------\u001b[0m",
            "\u001b[0;31mValueError\u001b[0m                                Traceback (most recent call last)",
            "\u001b[0;32m<ipython-input-106-4d161f249c10>\u001b[0m in \u001b[0;36m<cell line: 14>\u001b[0;34m()\u001b[0m\n\u001b[1;32m     12\u001b[0m \u001b[0;31m# training\u001b[0m\u001b[0;34m\u001b[0m\u001b[0;34m\u001b[0m\u001b[0m\n\u001b[1;32m     13\u001b[0m \u001b[0mprint\u001b[0m\u001b[0;34m(\u001b[0m\u001b[0;34m'Training: '\u001b[0m\u001b[0;34m,\u001b[0m \u001b[0mmodel_name\u001b[0m\u001b[0;34m)\u001b[0m\u001b[0;34m\u001b[0m\u001b[0;34m\u001b[0m\u001b[0m\n\u001b[0;32m---> 14\u001b[0;31m \u001b[0mtrainer\u001b[0m\u001b[0;34m.\u001b[0m\u001b[0mtrain\u001b[0m\u001b[0;34m(\u001b[0m\u001b[0;34m)\u001b[0m\u001b[0;34m\u001b[0m\u001b[0;34m\u001b[0m\u001b[0m\n\u001b[0m",
            "\u001b[0;32m/usr/local/lib/python3.10/dist-packages/transformers/trainer.py\u001b[0m in \u001b[0;36mtrain\u001b[0;34m(self, resume_from_checkpoint, trial, ignore_keys_for_eval, **kwargs)\u001b[0m\n\u001b[1;32m   1622\u001b[0m                 \u001b[0mhf_hub_utils\u001b[0m\u001b[0;34m.\u001b[0m\u001b[0menable_progress_bars\u001b[0m\u001b[0;34m(\u001b[0m\u001b[0;34m)\u001b[0m\u001b[0;34m\u001b[0m\u001b[0;34m\u001b[0m\u001b[0m\n\u001b[1;32m   1623\u001b[0m         \u001b[0;32melse\u001b[0m\u001b[0;34m:\u001b[0m\u001b[0;34m\u001b[0m\u001b[0;34m\u001b[0m\u001b[0m\n\u001b[0;32m-> 1624\u001b[0;31m             return inner_training_loop(\n\u001b[0m\u001b[1;32m   1625\u001b[0m                 \u001b[0margs\u001b[0m\u001b[0;34m=\u001b[0m\u001b[0margs\u001b[0m\u001b[0;34m,\u001b[0m\u001b[0;34m\u001b[0m\u001b[0;34m\u001b[0m\u001b[0m\n\u001b[1;32m   1626\u001b[0m                 \u001b[0mresume_from_checkpoint\u001b[0m\u001b[0;34m=\u001b[0m\u001b[0mresume_from_checkpoint\u001b[0m\u001b[0;34m,\u001b[0m\u001b[0;34m\u001b[0m\u001b[0;34m\u001b[0m\u001b[0m\n",
            "\u001b[0;32m/usr/local/lib/python3.10/dist-packages/transformers/trainer.py\u001b[0m in \u001b[0;36m_inner_training_loop\u001b[0;34m(self, batch_size, args, resume_from_checkpoint, trial, ignore_keys_for_eval)\u001b[0m\n\u001b[1;32m   2047\u001b[0m \u001b[0;34m\u001b[0m\u001b[0m\n\u001b[1;32m   2048\u001b[0m             \u001b[0mself\u001b[0m\u001b[0;34m.\u001b[0m\u001b[0mcontrol\u001b[0m \u001b[0;34m=\u001b[0m \u001b[0mself\u001b[0m\u001b[0;34m.\u001b[0m\u001b[0mcallback_handler\u001b[0m\u001b[0;34m.\u001b[0m\u001b[0mon_epoch_end\u001b[0m\u001b[0;34m(\u001b[0m\u001b[0margs\u001b[0m\u001b[0;34m,\u001b[0m \u001b[0mself\u001b[0m\u001b[0;34m.\u001b[0m\u001b[0mstate\u001b[0m\u001b[0;34m,\u001b[0m \u001b[0mself\u001b[0m\u001b[0;34m.\u001b[0m\u001b[0mcontrol\u001b[0m\u001b[0;34m)\u001b[0m\u001b[0;34m\u001b[0m\u001b[0;34m\u001b[0m\u001b[0m\n\u001b[0;32m-> 2049\u001b[0;31m             \u001b[0mself\u001b[0m\u001b[0;34m.\u001b[0m\u001b[0m_maybe_log_save_evaluate\u001b[0m\u001b[0;34m(\u001b[0m\u001b[0mtr_loss\u001b[0m\u001b[0;34m,\u001b[0m \u001b[0mgrad_norm\u001b[0m\u001b[0;34m,\u001b[0m \u001b[0mmodel\u001b[0m\u001b[0;34m,\u001b[0m \u001b[0mtrial\u001b[0m\u001b[0;34m,\u001b[0m \u001b[0mepoch\u001b[0m\u001b[0;34m,\u001b[0m \u001b[0mignore_keys_for_eval\u001b[0m\u001b[0;34m)\u001b[0m\u001b[0;34m\u001b[0m\u001b[0;34m\u001b[0m\u001b[0m\n\u001b[0m\u001b[1;32m   2050\u001b[0m \u001b[0;34m\u001b[0m\u001b[0m\n\u001b[1;32m   2051\u001b[0m             \u001b[0;32mif\u001b[0m \u001b[0mDebugOption\u001b[0m\u001b[0;34m.\u001b[0m\u001b[0mTPU_METRICS_DEBUG\u001b[0m \u001b[0;32min\u001b[0m \u001b[0mself\u001b[0m\u001b[0;34m.\u001b[0m\u001b[0margs\u001b[0m\u001b[0;34m.\u001b[0m\u001b[0mdebug\u001b[0m\u001b[0;34m:\u001b[0m\u001b[0;34m\u001b[0m\u001b[0;34m\u001b[0m\u001b[0m\n",
            "\u001b[0;32m/usr/local/lib/python3.10/dist-packages/transformers/trainer.py\u001b[0m in \u001b[0;36m_maybe_log_save_evaluate\u001b[0;34m(self, tr_loss, grad_norm, model, trial, epoch, ignore_keys_for_eval)\u001b[0m\n\u001b[1;32m   2410\u001b[0m         \u001b[0mmetrics\u001b[0m \u001b[0;34m=\u001b[0m \u001b[0;32mNone\u001b[0m\u001b[0;34m\u001b[0m\u001b[0;34m\u001b[0m\u001b[0m\n\u001b[1;32m   2411\u001b[0m         \u001b[0;32mif\u001b[0m \u001b[0mself\u001b[0m\u001b[0;34m.\u001b[0m\u001b[0mcontrol\u001b[0m\u001b[0;34m.\u001b[0m\u001b[0mshould_evaluate\u001b[0m\u001b[0;34m:\u001b[0m\u001b[0;34m\u001b[0m\u001b[0;34m\u001b[0m\u001b[0m\n\u001b[0;32m-> 2412\u001b[0;31m             \u001b[0mmetrics\u001b[0m \u001b[0;34m=\u001b[0m \u001b[0mself\u001b[0m\u001b[0;34m.\u001b[0m\u001b[0mevaluate\u001b[0m\u001b[0;34m(\u001b[0m\u001b[0mignore_keys\u001b[0m\u001b[0;34m=\u001b[0m\u001b[0mignore_keys_for_eval\u001b[0m\u001b[0;34m)\u001b[0m\u001b[0;34m\u001b[0m\u001b[0;34m\u001b[0m\u001b[0m\n\u001b[0m\u001b[1;32m   2413\u001b[0m             \u001b[0mself\u001b[0m\u001b[0;34m.\u001b[0m\u001b[0m_report_to_hp_search\u001b[0m\u001b[0;34m(\u001b[0m\u001b[0mtrial\u001b[0m\u001b[0;34m,\u001b[0m \u001b[0mself\u001b[0m\u001b[0;34m.\u001b[0m\u001b[0mstate\u001b[0m\u001b[0;34m.\u001b[0m\u001b[0mglobal_step\u001b[0m\u001b[0;34m,\u001b[0m \u001b[0mmetrics\u001b[0m\u001b[0;34m)\u001b[0m\u001b[0;34m\u001b[0m\u001b[0;34m\u001b[0m\u001b[0m\n\u001b[1;32m   2414\u001b[0m \u001b[0;34m\u001b[0m\u001b[0m\n",
            "\u001b[0;32m/usr/local/lib/python3.10/dist-packages/transformers/trainer.py\u001b[0m in \u001b[0;36mevaluate\u001b[0;34m(self, eval_dataset, ignore_keys, metric_key_prefix)\u001b[0m\n\u001b[1;32m   3227\u001b[0m \u001b[0;34m\u001b[0m\u001b[0m\n\u001b[1;32m   3228\u001b[0m         \u001b[0meval_loop\u001b[0m \u001b[0;34m=\u001b[0m \u001b[0mself\u001b[0m\u001b[0;34m.\u001b[0m\u001b[0mprediction_loop\u001b[0m \u001b[0;32mif\u001b[0m \u001b[0mself\u001b[0m\u001b[0;34m.\u001b[0m\u001b[0margs\u001b[0m\u001b[0;34m.\u001b[0m\u001b[0muse_legacy_prediction_loop\u001b[0m \u001b[0;32melse\u001b[0m \u001b[0mself\u001b[0m\u001b[0;34m.\u001b[0m\u001b[0mevaluation_loop\u001b[0m\u001b[0;34m\u001b[0m\u001b[0;34m\u001b[0m\u001b[0m\n\u001b[0;32m-> 3229\u001b[0;31m         output = eval_loop(\n\u001b[0m\u001b[1;32m   3230\u001b[0m             \u001b[0meval_dataloader\u001b[0m\u001b[0;34m,\u001b[0m\u001b[0;34m\u001b[0m\u001b[0;34m\u001b[0m\u001b[0m\n\u001b[1;32m   3231\u001b[0m             \u001b[0mdescription\u001b[0m\u001b[0;34m=\u001b[0m\u001b[0;34m\"Evaluation\"\u001b[0m\u001b[0;34m,\u001b[0m\u001b[0;34m\u001b[0m\u001b[0;34m\u001b[0m\u001b[0m\n",
            "\u001b[0;32m/usr/local/lib/python3.10/dist-packages/transformers/trainer.py\u001b[0m in \u001b[0;36mevaluation_loop\u001b[0;34m(self, dataloader, description, prediction_loss_only, ignore_keys, metric_key_prefix)\u001b[0m\n\u001b[1;32m   3518\u001b[0m                 )\n\u001b[1;32m   3519\u001b[0m             \u001b[0;32melse\u001b[0m\u001b[0;34m:\u001b[0m\u001b[0;34m\u001b[0m\u001b[0;34m\u001b[0m\u001b[0m\n\u001b[0;32m-> 3520\u001b[0;31m                 \u001b[0mmetrics\u001b[0m \u001b[0;34m=\u001b[0m \u001b[0mself\u001b[0m\u001b[0;34m.\u001b[0m\u001b[0mcompute_metrics\u001b[0m\u001b[0;34m(\u001b[0m\u001b[0mEvalPrediction\u001b[0m\u001b[0;34m(\u001b[0m\u001b[0mpredictions\u001b[0m\u001b[0;34m=\u001b[0m\u001b[0mall_preds\u001b[0m\u001b[0;34m,\u001b[0m \u001b[0mlabel_ids\u001b[0m\u001b[0;34m=\u001b[0m\u001b[0mall_labels\u001b[0m\u001b[0;34m)\u001b[0m\u001b[0;34m)\u001b[0m\u001b[0;34m\u001b[0m\u001b[0;34m\u001b[0m\u001b[0m\n\u001b[0m\u001b[1;32m   3521\u001b[0m         \u001b[0;32melse\u001b[0m\u001b[0;34m:\u001b[0m\u001b[0;34m\u001b[0m\u001b[0;34m\u001b[0m\u001b[0m\n\u001b[1;32m   3522\u001b[0m             \u001b[0mmetrics\u001b[0m \u001b[0;34m=\u001b[0m \u001b[0;34m{\u001b[0m\u001b[0;34m}\u001b[0m\u001b[0;34m\u001b[0m\u001b[0;34m\u001b[0m\u001b[0m\n",
            "\u001b[0;32m<ipython-input-104-037f95ee15f9>\u001b[0m in \u001b[0;36mcompute_metrics\u001b[0;34m(eval_pred)\u001b[0m\n\u001b[1;32m      6\u001b[0m \u001b[0;34m\u001b[0m\u001b[0m\n\u001b[1;32m      7\u001b[0m     \u001b[0mpredictions\u001b[0m\u001b[0;34m,\u001b[0m \u001b[0mlabels\u001b[0m \u001b[0;34m=\u001b[0m \u001b[0meval_pred\u001b[0m\u001b[0;34m\u001b[0m\u001b[0;34m\u001b[0m\u001b[0m\n\u001b[0;32m----> 8\u001b[0;31m     \u001b[0mpredictions\u001b[0m \u001b[0;34m=\u001b[0m \u001b[0mnp\u001b[0m\u001b[0;34m.\u001b[0m\u001b[0margmax\u001b[0m\u001b[0;34m(\u001b[0m\u001b[0mpredictions\u001b[0m\u001b[0;34m,\u001b[0m \u001b[0maxis\u001b[0m\u001b[0;34m=\u001b[0m\u001b[0;36m1\u001b[0m\u001b[0;34m)\u001b[0m\u001b[0;34m\u001b[0m\u001b[0;34m\u001b[0m\u001b[0m\n\u001b[0m\u001b[1;32m      9\u001b[0m     \u001b[0mprecision\u001b[0m\u001b[0;34m,\u001b[0m \u001b[0mrecall\u001b[0m\u001b[0;34m,\u001b[0m \u001b[0mf1\u001b[0m\u001b[0;34m,\u001b[0m \u001b[0m_\u001b[0m \u001b[0;34m=\u001b[0m \u001b[0mprecision_recall_fscore_support\u001b[0m\u001b[0;34m(\u001b[0m\u001b[0mlabels\u001b[0m\u001b[0;34m,\u001b[0m \u001b[0mpredictions\u001b[0m\u001b[0;34m,\u001b[0m \u001b[0maverage\u001b[0m\u001b[0;34m=\u001b[0m\u001b[0;34m'micro'\u001b[0m\u001b[0;34m)\u001b[0m\u001b[0;34m\u001b[0m\u001b[0;34m\u001b[0m\u001b[0m\n\u001b[1;32m     10\u001b[0m     \u001b[0macc\u001b[0m \u001b[0;34m=\u001b[0m \u001b[0maccuracy_score\u001b[0m\u001b[0;34m(\u001b[0m\u001b[0mlabels\u001b[0m\u001b[0;34m,\u001b[0m \u001b[0mpredictions\u001b[0m\u001b[0;34m)\u001b[0m\u001b[0;34m\u001b[0m\u001b[0;34m\u001b[0m\u001b[0m\n",
            "\u001b[0;32m/usr/local/lib/python3.10/dist-packages/numpy/core/fromnumeric.py\u001b[0m in \u001b[0;36margmax\u001b[0;34m(a, axis, out, keepdims)\u001b[0m\n\u001b[1;32m   1227\u001b[0m     \"\"\"\n\u001b[1;32m   1228\u001b[0m     \u001b[0mkwds\u001b[0m \u001b[0;34m=\u001b[0m \u001b[0;34m{\u001b[0m\u001b[0;34m'keepdims'\u001b[0m\u001b[0;34m:\u001b[0m \u001b[0mkeepdims\u001b[0m\u001b[0;34m}\u001b[0m \u001b[0;32mif\u001b[0m \u001b[0mkeepdims\u001b[0m \u001b[0;32mis\u001b[0m \u001b[0;32mnot\u001b[0m \u001b[0mnp\u001b[0m\u001b[0;34m.\u001b[0m\u001b[0m_NoValue\u001b[0m \u001b[0;32melse\u001b[0m \u001b[0;34m{\u001b[0m\u001b[0;34m}\u001b[0m\u001b[0;34m\u001b[0m\u001b[0;34m\u001b[0m\u001b[0m\n\u001b[0;32m-> 1229\u001b[0;31m     \u001b[0;32mreturn\u001b[0m \u001b[0m_wrapfunc\u001b[0m\u001b[0;34m(\u001b[0m\u001b[0ma\u001b[0m\u001b[0;34m,\u001b[0m \u001b[0;34m'argmax'\u001b[0m\u001b[0;34m,\u001b[0m \u001b[0maxis\u001b[0m\u001b[0;34m=\u001b[0m\u001b[0maxis\u001b[0m\u001b[0;34m,\u001b[0m \u001b[0mout\u001b[0m\u001b[0;34m=\u001b[0m\u001b[0mout\u001b[0m\u001b[0;34m,\u001b[0m \u001b[0;34m**\u001b[0m\u001b[0mkwds\u001b[0m\u001b[0;34m)\u001b[0m\u001b[0;34m\u001b[0m\u001b[0;34m\u001b[0m\u001b[0m\n\u001b[0m\u001b[1;32m   1230\u001b[0m \u001b[0;34m\u001b[0m\u001b[0m\n\u001b[1;32m   1231\u001b[0m \u001b[0;34m\u001b[0m\u001b[0m\n",
            "\u001b[0;32m/usr/local/lib/python3.10/dist-packages/numpy/core/fromnumeric.py\u001b[0m in \u001b[0;36m_wrapfunc\u001b[0;34m(obj, method, *args, **kwds)\u001b[0m\n\u001b[1;32m     54\u001b[0m     \u001b[0mbound\u001b[0m \u001b[0;34m=\u001b[0m \u001b[0mgetattr\u001b[0m\u001b[0;34m(\u001b[0m\u001b[0mobj\u001b[0m\u001b[0;34m,\u001b[0m \u001b[0mmethod\u001b[0m\u001b[0;34m,\u001b[0m \u001b[0;32mNone\u001b[0m\u001b[0;34m)\u001b[0m\u001b[0;34m\u001b[0m\u001b[0;34m\u001b[0m\u001b[0m\n\u001b[1;32m     55\u001b[0m     \u001b[0;32mif\u001b[0m \u001b[0mbound\u001b[0m \u001b[0;32mis\u001b[0m \u001b[0;32mNone\u001b[0m\u001b[0;34m:\u001b[0m\u001b[0;34m\u001b[0m\u001b[0;34m\u001b[0m\u001b[0m\n\u001b[0;32m---> 56\u001b[0;31m         \u001b[0;32mreturn\u001b[0m \u001b[0m_wrapit\u001b[0m\u001b[0;34m(\u001b[0m\u001b[0mobj\u001b[0m\u001b[0;34m,\u001b[0m \u001b[0mmethod\u001b[0m\u001b[0;34m,\u001b[0m \u001b[0;34m*\u001b[0m\u001b[0margs\u001b[0m\u001b[0;34m,\u001b[0m \u001b[0;34m**\u001b[0m\u001b[0mkwds\u001b[0m\u001b[0;34m)\u001b[0m\u001b[0;34m\u001b[0m\u001b[0;34m\u001b[0m\u001b[0m\n\u001b[0m\u001b[1;32m     57\u001b[0m \u001b[0;34m\u001b[0m\u001b[0m\n\u001b[1;32m     58\u001b[0m     \u001b[0;32mtry\u001b[0m\u001b[0;34m:\u001b[0m\u001b[0;34m\u001b[0m\u001b[0;34m\u001b[0m\u001b[0m\n",
            "\u001b[0;32m/usr/local/lib/python3.10/dist-packages/numpy/core/fromnumeric.py\u001b[0m in \u001b[0;36m_wrapit\u001b[0;34m(obj, method, *args, **kwds)\u001b[0m\n\u001b[1;32m     43\u001b[0m     \u001b[0;32mexcept\u001b[0m \u001b[0mAttributeError\u001b[0m\u001b[0;34m:\u001b[0m\u001b[0;34m\u001b[0m\u001b[0;34m\u001b[0m\u001b[0m\n\u001b[1;32m     44\u001b[0m         \u001b[0mwrap\u001b[0m \u001b[0;34m=\u001b[0m \u001b[0;32mNone\u001b[0m\u001b[0;34m\u001b[0m\u001b[0;34m\u001b[0m\u001b[0m\n\u001b[0;32m---> 45\u001b[0;31m     \u001b[0mresult\u001b[0m \u001b[0;34m=\u001b[0m \u001b[0mgetattr\u001b[0m\u001b[0;34m(\u001b[0m\u001b[0masarray\u001b[0m\u001b[0;34m(\u001b[0m\u001b[0mobj\u001b[0m\u001b[0;34m)\u001b[0m\u001b[0;34m,\u001b[0m \u001b[0mmethod\u001b[0m\u001b[0;34m)\u001b[0m\u001b[0;34m(\u001b[0m\u001b[0;34m*\u001b[0m\u001b[0margs\u001b[0m\u001b[0;34m,\u001b[0m \u001b[0;34m**\u001b[0m\u001b[0mkwds\u001b[0m\u001b[0;34m)\u001b[0m\u001b[0;34m\u001b[0m\u001b[0;34m\u001b[0m\u001b[0m\n\u001b[0m\u001b[1;32m     46\u001b[0m     \u001b[0;32mif\u001b[0m \u001b[0mwrap\u001b[0m\u001b[0;34m:\u001b[0m\u001b[0;34m\u001b[0m\u001b[0;34m\u001b[0m\u001b[0m\n\u001b[1;32m     47\u001b[0m         \u001b[0;32mif\u001b[0m \u001b[0;32mnot\u001b[0m \u001b[0misinstance\u001b[0m\u001b[0;34m(\u001b[0m\u001b[0mresult\u001b[0m\u001b[0;34m,\u001b[0m \u001b[0mmu\u001b[0m\u001b[0;34m.\u001b[0m\u001b[0mndarray\u001b[0m\u001b[0;34m)\u001b[0m\u001b[0;34m:\u001b[0m\u001b[0;34m\u001b[0m\u001b[0;34m\u001b[0m\u001b[0m\n",
            "\u001b[0;31mValueError\u001b[0m: setting an array element with a sequence. The requested array has an inhomogeneous shape after 2 dimensions. The detected shape was (2, 3013) + inhomogeneous part."
          ]
        }
      ],
      "source": [
        "from transformers import Trainer\n",
        "\n",
        "trainer = Trainer(\n",
        "    model,                                  # the model\n",
        "    args,                                   # the arguments of the model\n",
        "    train_dataset=encoded_dataset['train'],               # the training dataset\n",
        "    eval_dataset=encoded_dataset['validation'],               #the validation dataset\n",
        "    tokenizer=tokenizer,                    # the tokenizer\n",
        "    compute_metrics=compute_metrics,        # the metrics used to evaluate the validation, these are calculated in each epoch\n",
        ")\n",
        "0\n",
        "# training\n",
        "print('Training: ', model_name)\n",
        "trainer.train()"
      ]
    },
    {
      "cell_type": "markdown",
      "metadata": {
        "id": "Vdaa4BvqzpDA"
      },
      "source": [
        "Evaluando el mejor modelo obtenido durante el training sobre el conjunto de validación:"
      ]
    },
    {
      "cell_type": "code",
      "execution_count": null,
      "metadata": {
        "colab": {
          "base_uri": "https://localhost:8080/",
          "height": 193
        },
        "id": "acmXy2V2zxg7",
        "outputId": "8c11fd80-35fa-4c63-e965-6b6e5c2197a7"
      },
      "outputs": [
        {
          "output_type": "display_data",
          "data": {
            "text/plain": [
              "<IPython.core.display.HTML object>"
            ],
            "text/html": [
              "\n",
              "    <div>\n",
              "      \n",
              "      <progress value='189' max='189' style='width:300px; height:20px; vertical-align: middle;'></progress>\n",
              "      [189/189 00:47]\n",
              "    </div>\n",
              "    "
            ]
          },
          "metadata": {}
        },
        {
          "output_type": "execute_result",
          "data": {
            "text/plain": [
              "{'eval_loss': 0.6023887395858765,\n",
              " 'eval_accuracy': 0.8377032857616993,\n",
              " 'eval_f1': 0.8377032857616993,\n",
              " 'eval_precision': 0.8377032857616993,\n",
              " 'eval_recall': 0.8377032857616993,\n",
              " 'eval_runtime': 47.9089,\n",
              " 'eval_samples_per_second': 62.89,\n",
              " 'eval_steps_per_second': 3.945,\n",
              " 'epoch': 5.0}"
            ]
          },
          "metadata": {},
          "execution_count": 86
        }
      ],
      "source": [
        "result = trainer.evaluate()\n",
        "result"
      ]
    },
    {
      "cell_type": "markdown",
      "metadata": {
        "id": "FWlU3XZ5aA2l"
      },
      "source": [
        "### Guardar el modelo\n",
        "\n",
        " El modelo se almacena en la subcarpeta models. Es necesario guardar el tokenizador y el modelo.\n"
      ]
    },
    {
      "cell_type": "code",
      "execution_count": null,
      "metadata": {
        "id": "qVKmNywXaDO9"
      },
      "outputs": [],
      "source": [
        "import os\n",
        "SAVE_MODEL = False\n",
        "if SAVE_MODEL:\n",
        "    models_dir = 'models2/'\n",
        "    if not os.path.exists(models_dir): ### If the file directory doesn't already exists,\n",
        "        os.makedirs(models_dir) ### Make it please\n",
        "\n",
        "    model_path = models_dir+model_name\n",
        "    model_path += \"_{}\".format(TASK)\n",
        "\n",
        "    # grabamos el modelo y el tokenizador\n",
        "    tokenizer.save_pretrained(model_path)\n",
        "    trainer.save_model(model_path)"
      ]
    },
    {
      "cell_type": "markdown",
      "metadata": {
        "id": "6I-qmr3f0nY5"
      },
      "source": [
        "Una vez entrenado el modelo, podemos usarlo sobre los textos del conjunto test para inferir sus etiquetas. Estas se comparán con las del conjunto test, y se podrán obtener los resultados finales:\n"
      ]
    },
    {
      "cell_type": "code",
      "execution_count": null,
      "metadata": {
        "id": "IEC0rp2103t5"
      },
      "outputs": [],
      "source": [
        "def get_prediction(text):\n",
        "    # recibe el texto y lo tokeniza usando la misma función que se uso para el training\n",
        "    inputs = tokenizer(text, truncation=True, padding='max_length', max_length=MAX_LENGTH, return_tensors=\"pt\").to(\"cuda\")\n",
        "    # aplica el modelo sobre la entrada\n",
        "    outputs = model(**inputs)\n",
        "    # recupera las probabilidades\n",
        "    probs = outputs[0].softmax(1)\n",
        "    # la función argmax nos devuelve la clase con mayor probabilidad\n",
        "    # devuelve el nombre de la clase, no su codificación\n",
        "    return probs.argmax().item()"
      ]
    },
    {
      "cell_type": "markdown",
      "metadata": {
        "id": "Tm9OO2bx_9aB"
      },
      "source": [
        "Aplicamos la función get_prediction sobre todos los textos del conjunto test, y además recuperamos las labels del conjunto test:"
      ]
    },
    {
      "cell_type": "code",
      "execution_count": null,
      "metadata": {
        "id": "kpKajRdyFHNz"
      },
      "outputs": [],
      "source": [
        "y_pred=[LABELS[get_prediction(text)] for text in dict_dataset['test']['text_cleaned']]\n"
      ]
    },
    {
      "cell_type": "markdown",
      "metadata": {
        "id": "41W96gAYAdiY"
      },
      "source": [
        "Recuperamos las labels del conjunto (sin codificar):"
      ]
    },
    {
      "cell_type": "code",
      "execution_count": null,
      "metadata": {
        "colab": {
          "base_uri": "https://localhost:8080/"
        },
        "id": "18ydS7mJAUij",
        "outputId": "b837946b-2e86-4ede-c20c-4ea5346a2ab8"
      },
      "outputs": [
        {
          "output_type": "stream",
          "name": "stdout",
          "text": [
            "['comp.os.ms-windows.misc', 'comp.sys.ibm.pc.hardware', 'alt.atheism', 'sci.electronics', 'talk.politics.guns']\n",
            "['comp.os.ms-windows.misc', 'comp.sys.ibm.pc.hardware', 'alt.atheism', 'sci.electronics', 'talk.politics.guns']\n"
          ]
        }
      ],
      "source": [
        "y_test = dict_dataset['test']['label']\n",
        "print(y_test[:5])\n",
        "print(y_pred[:5])"
      ]
    },
    {
      "cell_type": "code",
      "execution_count": null,
      "metadata": {
        "colab": {
          "base_uri": "https://localhost:8080/"
        },
        "id": "ECctTe6OFy0O",
        "outputId": "6fa7d3b9-4d25-41c8-9706-28a6157062db"
      },
      "outputs": [
        {
          "output_type": "stream",
          "name": "stdout",
          "text": [
            "                          precision    recall  f1-score   support\n",
            "\n",
            "             alt.atheism       0.72      0.73      0.73       148\n",
            "           comp.graphics       0.77      0.82      0.79       199\n",
            " comp.os.ms-windows.misc       0.81      0.76      0.78       195\n",
            "comp.sys.ibm.pc.hardware       0.75      0.75      0.75       191\n",
            "   comp.sys.mac.hardware       0.83      0.90      0.86       183\n",
            "          comp.windows.x       0.88      0.90      0.89       195\n",
            "            misc.forsale       0.75      0.84      0.79       191\n",
            "               rec.autos       0.88      0.85      0.87       205\n",
            "         rec.motorcycles       0.93      0.89      0.91       222\n",
            "      rec.sport.baseball       0.97      0.94      0.95       209\n",
            "        rec.sport.hockey       0.95      0.97      0.96       193\n",
            "               sci.crypt       0.91      0.85      0.88       191\n",
            "         sci.electronics       0.79      0.76      0.78       221\n",
            "                 sci.med       0.93      0.92      0.92       201\n",
            "               sci.space       0.94      0.87      0.90       184\n",
            "  soc.religion.christian       0.83      0.90      0.87       222\n",
            "      talk.politics.guns       0.78      0.80      0.79       158\n",
            "   talk.politics.mideast       0.97      0.91      0.94       194\n",
            "      talk.politics.misc       0.72      0.84      0.78       141\n",
            "      talk.religion.misc       0.56      0.42      0.48       123\n",
            "\n",
            "                accuracy                           0.84      3766\n",
            "               macro avg       0.83      0.83      0.83      3766\n",
            "            weighted avg       0.84      0.84      0.84      3766\n",
            "\n",
            "Micro-F1 Score: 0.8420\n"
          ]
        }
      ],
      "source": [
        "from sklearn.metrics import classification_report, confusion_matrix\n",
        "from sklearn.metrics import f1_score\n",
        "print(classification_report(y_true = y_test, y_pred = y_pred, target_names=LABELS))\n",
        "micro_f1 = f1_score(y_true = y_test, y_pred = y_pred, average='micro')\n",
        "print('Micro-F1 Score: {:.4f}'.format(micro_f1))\n"
      ]
    },
    {
      "cell_type": "markdown",
      "metadata": {
        "id": "B4azCXbsAo5j"
      },
      "source": [
        "Almacenando los resultados para poder compararlos con lso de los otros modelos:"
      ]
    },
    {
      "cell_type": "code",
      "source": [
        "import seaborn as sns\n",
        "import matplotlib.pyplot as plt\n",
        "from sklearn.metrics import confusion_matrix\n",
        "\n",
        "# Obtener la matriz de confusión\n",
        "conf_matrix = confusion_matrix(y_test, y_pred)\n",
        "\n",
        "\n",
        "\n",
        "# Crear un mapa de calor para la matriz de confusión\n",
        "plt.figure(figsize=(10, 7))\n",
        "sns.heatmap(conf_matrix, annot=True, fmt='g', cmap='Blues', xticklabels=LABELS, yticklabels=LABELS)\n",
        "plt.xlabel('Etiquetas Predichas')\n",
        "plt.ylabel('Etiquetas Verdaderas')\n",
        "plt.title('Matriz de Confusión')\n",
        "plt.show()"
      ],
      "metadata": {
        "colab": {
          "base_uri": "https://localhost:8080/",
          "height": 814
        },
        "id": "rLYy1yilPIjr",
        "outputId": "f3fd1212-cd72-40cc-c4e6-323fdf4fe4a8"
      },
      "execution_count": null,
      "outputs": [
        {
          "output_type": "display_data",
          "data": {
            "text/plain": [
              "<Figure size 1000x700 with 2 Axes>"
            ],
            "image/png": "[encoded data removed]"
          },
          "metadata": {}
        }
      ]
    },
    {
      "cell_type": "code",
      "execution_count": null,
      "metadata": {
        "colab": {
          "base_uri": "https://localhost:8080/"
        },
        "id": "2gIxPM8yHkIA",
        "outputId": "5dbf098e-da9e-423e-e5af-7b821e95fdfa"
      },
      "outputs": [
        {
          "output_type": "stream",
          "name": "stdout",
          "text": [
            "resultsnews/distilbert-base-uncased_20NEWS.csv  grabado!\n"
          ]
        }
      ],
      "source": [
        "import os\n",
        "output_dir = 'resultsnews/'\n",
        "if not os.path.exists(output_dir):\n",
        "    os.makedirs(output_dir)\n",
        "\n",
        "clsf_report = pd.DataFrame(classification_report(y_true = y_test, y_pred = y_pred, target_names=LABELS, output_dict=True)).transpose()\n",
        "path_results = output_dir+model_name\n",
        "TASK='20NEWS'\n",
        "clsf_report.to_csv(path_results+'_{}.csv'.format(TASK), index= True)\n",
        "print(path_results+'_{}.csv'.format(TASK), ' grabado!')\n"
      ]
    },
    {
      "cell_type": "code",
      "source": [],
      "metadata": {
        "id": "B5lQxZKh3nGG"
      },
      "execution_count": null,
      "outputs": []
    }
  ],
  "metadata": {
    "accelerator": "GPU",
    "colab": {
      "gpuType": "T4",
      "provenance": [],
      "include_colab_link": true
    },
    "kernelspec": {
      "display_name": "Python 3",
      "name": "python3"
    },
    "language_info": {
      "name": "python"
    },
    "widgets": {
      "application/vnd.jupyter.widget-state+json": {
        "3ac41146879c4f8ab42df8219cb30b3b": {
          "model_module": "@jupyter-widgets/controls",
          "model_name": "HBoxModel",
          "model_module_version": "1.5.0",
          "state": {
            "_dom_classes": [],
            "_model_module": "@jupyter-widgets/controls",
            "_model_module_version": "1.5.0",
            "_model_name": "HBoxModel",
            "_view_count": null,
            "_view_module": "@jupyter-widgets/controls",
            "_view_module_version": "1.5.0",
            "_view_name": "HBoxView",
            "box_style": "",
            "children": [
              "IPY_MODEL_3d636b4d5fca4e8c8b6ed02e2b7a531c",
              "IPY_MODEL_98db9436a8de4a19852ec037aed6c235",
              "IPY_MODEL_c21191c57d34497385d8444037b302ef"
            ],
            "layout": "IPY_MODEL_36de5907bbed4a0d81b8e099251322bc"
          }
        },
        "3d636b4d5fca4e8c8b6ed02e2b7a531c": {
          "model_module": "@jupyter-widgets/controls",
          "model_name": "HTMLModel",
          "model_module_version": "1.5.0",
          "state": {
            "_dom_classes": [],
            "_model_module": "@jupyter-widgets/controls",
            "_model_module_version": "1.5.0",
            "_model_name": "HTMLModel",
            "_view_count": null,
            "_view_module": "@jupyter-widgets/controls",
            "_view_module_version": "1.5.0",
            "_view_name": "HTMLView",
            "description": "",
            "description_tooltip": null,
            "layout": "IPY_MODEL_244ce3cada444aa3963771941db08f91",
            "placeholder": "​",
            "style": "IPY_MODEL_adf20572eb454d698a5d83d20d8bfb1a",
            "value": "tokenizer_config.json: 100%"
          }
        },
        "98db9436a8de4a19852ec037aed6c235": {
          "model_module": "@jupyter-widgets/controls",
          "model_name": "FloatProgressModel",
          "model_module_version": "1.5.0",
          "state": {
            "_dom_classes": [],
            "_model_module": "@jupyter-widgets/controls",
            "_model_module_version": "1.5.0",
            "_model_name": "FloatProgressModel",
            "_view_count": null,
            "_view_module": "@jupyter-widgets/controls",
            "_view_module_version": "1.5.0",
            "_view_name": "ProgressView",
            "bar_style": "success",
            "description": "",
            "description_tooltip": null,
            "layout": "IPY_MODEL_da028501a8af42c4906a1a0530581704",
            "max": 2324,
            "min": 0,
            "orientation": "horizontal",
            "style": "IPY_MODEL_49d86bb060be47d2b24b75aaf928eda6",
            "value": 2324
          }
        },
        "c21191c57d34497385d8444037b302ef": {
          "model_module": "@jupyter-widgets/controls",
          "model_name": "HTMLModel",
          "model_module_version": "1.5.0",
          "state": {
            "_dom_classes": [],
            "_model_module": "@jupyter-widgets/controls",
            "_model_module_version": "1.5.0",
            "_model_name": "HTMLModel",
            "_view_count": null,
            "_view_module": "@jupyter-widgets/controls",
            "_view_module_version": "1.5.0",
            "_view_name": "HTMLView",
            "description": "",
            "description_tooltip": null,
            "layout": "IPY_MODEL_19b0e18e6c3e4b4f9707a5a0cf212a6a",
            "placeholder": "​",
            "style": "IPY_MODEL_b51a3fe35ba845f0977925bcb13c8d17",
            "value": " 2.32k/2.32k [00:00&lt;00:00, 117kB/s]"
          }
        },
        "36de5907bbed4a0d81b8e099251322bc": {
          "model_module": "@jupyter-widgets/base",
          "model_name": "LayoutModel",
          "model_module_version": "1.2.0",
          "state": {
            "_model_module": "@jupyter-widgets/base",
            "_model_module_version": "1.2.0",
            "_model_name": "LayoutModel",
            "_view_count": null,
            "_view_module": "@jupyter-widgets/base",
            "_view_module_version": "1.2.0",
            "_view_name": "LayoutView",
            "align_content": null,
            "align_items": null,
            "align_self": null,
            "border": null,
            "bottom": null,
            "display": null,
            "flex": null,
            "flex_flow": null,
            "grid_area": null,
            "grid_auto_columns": null,
            "grid_auto_flow": null,
            "grid_auto_rows": null,
            "grid_column": null,
            "grid_gap": null,
            "grid_row": null,
            "grid_template_areas": null,
            "grid_template_columns": null,
            "grid_template_rows": null,
            "height": null,
            "justify_content": null,
            "justify_items": null,
            "left": null,
            "margin": null,
            "max_height": null,
            "max_width": null,
            "min_height": null,
            "min_width": null,
            "object_fit": null,
            "object_position": null,
            "order": null,
            "overflow": null,
            "overflow_x": null,
            "overflow_y": null,
            "padding": null,
            "right": null,
            "top": null,
            "visibility": null,
            "width": null
          }
        },
        "244ce3cada444aa3963771941db08f91": {
          "model_module": "@jupyter-widgets/base",
          "model_name": "LayoutModel",
          "model_module_version": "1.2.0",
          "state": {
            "_model_module": "@jupyter-widgets/base",
            "_model_module_version": "1.2.0",
            "_model_name": "LayoutModel",
            "_view_count": null,
            "_view_module": "@jupyter-widgets/base",
            "_view_module_version": "1.2.0",
            "_view_name": "LayoutView",
            "align_content": null,
            "align_items": null,
            "align_self": null,
            "border": null,
            "bottom": null,
            "display": null,
            "flex": null,
            "flex_flow": null,
            "grid_area": null,
            "grid_auto_columns": null,
            "grid_auto_flow": null,
            "grid_auto_rows": null,
            "grid_column": null,
            "grid_gap": null,
            "grid_row": null,
            "grid_template_areas": null,
            "grid_template_columns": null,
            "grid_template_rows": null,
            "height": null,
            "justify_content": null,
            "justify_items": null,
            "left": null,
            "margin": null,
            "max_height": null,
            "max_width": null,
            "min_height": null,
            "min_width": null,
            "object_fit": null,
            "object_position": null,
            "order": null,
            "overflow": null,
            "overflow_x": null,
            "overflow_y": null,
            "padding": null,
            "right": null,
            "top": null,
            "visibility": null,
            "width": null
          }
        },
        "adf20572eb454d698a5d83d20d8bfb1a": {
          "model_module": "@jupyter-widgets/controls",
          "model_name": "DescriptionStyleModel",
          "model_module_version": "1.5.0",
          "state": {
            "_model_module": "@jupyter-widgets/controls",
            "_model_module_version": "1.5.0",
            "_model_name": "DescriptionStyleModel",
            "_view_count": null,
            "_view_module": "@jupyter-widgets/base",
            "_view_module_version": "1.2.0",
            "_view_name": "StyleView",
            "description_width": ""
          }
        },
        "da028501a8af42c4906a1a0530581704": {
          "model_module": "@jupyter-widgets/base",
          "model_name": "LayoutModel",
          "model_module_version": "1.2.0",
          "state": {
            "_model_module": "@jupyter-widgets/base",
            "_model_module_version": "1.2.0",
            "_model_name": "LayoutModel",
            "_view_count": null,
            "_view_module": "@jupyter-widgets/base",
            "_view_module_version": "1.2.0",
            "_view_name": "LayoutView",
            "align_content": null,
            "align_items": null,
            "align_self": null,
            "border": null,
            "bottom": null,
            "display": null,
            "flex": null,
            "flex_flow": null,
            "grid_area": null,
            "grid_auto_columns": null,
            "grid_auto_flow": null,
            "grid_auto_rows": null,
            "grid_column": null,
            "grid_gap": null,
            "grid_row": null,
            "grid_template_areas": null,
            "grid_template_columns": null,
            "grid_template_rows": null,
            "height": null,
            "justify_content": null,
            "justify_items": null,
            "left": null,
            "margin": null,
            "max_height": null,
            "max_width": null,
            "min_height": null,
            "min_width": null,
            "object_fit": null,
            "object_position": null,
            "order": null,
            "overflow": null,
            "overflow_x": null,
            "overflow_y": null,
            "padding": null,
            "right": null,
            "top": null,
            "visibility": null,
            "width": null
          }
        },
        "49d86bb060be47d2b24b75aaf928eda6": {
          "model_module": "@jupyter-widgets/controls",
          "model_name": "ProgressStyleModel",
          "model_module_version": "1.5.0",
          "state": {
            "_model_module": "@jupyter-widgets/controls",
            "_model_module_version": "1.5.0",
            "_model_name": "ProgressStyleModel",
            "_view_count": null,
            "_view_module": "@jupyter-widgets/base",
            "_view_module_version": "1.2.0",
            "_view_name": "StyleView",
            "bar_color": null,
            "description_width": ""
          }
        },
        "19b0e18e6c3e4b4f9707a5a0cf212a6a": {
          "model_module": "@jupyter-widgets/base",
          "model_name": "LayoutModel",
          "model_module_version": "1.2.0",
          "state": {
            "_model_module": "@jupyter-widgets/base",
            "_model_module_version": "1.2.0",
            "_model_name": "LayoutModel",
            "_view_count": null,
            "_view_module": "@jupyter-widgets/base",
            "_view_module_version": "1.2.0",
            "_view_name": "LayoutView",
            "align_content": null,
            "align_items": null,
            "align_self": null,
            "border": null,
            "bottom": null,
            "display": null,
            "flex": null,
            "flex_flow": null,
            "grid_area": null,
            "grid_auto_columns": null,
            "grid_auto_flow": null,
            "grid_auto_rows": null,
            "grid_column": null,
            "grid_gap": null,
            "grid_row": null,
            "grid_template_areas": null,
            "grid_template_columns": null,
            "grid_template_rows": null,
            "height": null,
            "justify_content": null,
            "justify_items": null,
            "left": null,
            "margin": null,
            "max_height": null,
            "max_width": null,
            "min_height": null,
            "min_width": null,
            "object_fit": null,
            "object_position": null,
            "order": null,
            "overflow": null,
            "overflow_x": null,
            "overflow_y": null,
            "padding": null,
            "right": null,
            "top": null,
            "visibility": null,
            "width": null
          }
        },
        "b51a3fe35ba845f0977925bcb13c8d17": {
          "model_module": "@jupyter-widgets/controls",
          "model_name": "DescriptionStyleModel",
          "model_module_version": "1.5.0",
          "state": {
            "_model_module": "@jupyter-widgets/controls",
            "_model_module_version": "1.5.0",
            "_model_name": "DescriptionStyleModel",
            "_view_count": null,
            "_view_module": "@jupyter-widgets/base",
            "_view_module_version": "1.2.0",
            "_view_name": "StyleView",
            "description_width": ""
          }
        },
        "2a7cd87c619344d1a9f728514b09585d": {
          "model_module": "@jupyter-widgets/controls",
          "model_name": "HBoxModel",
          "model_module_version": "1.5.0",
          "state": {
            "_dom_classes": [],
            "_model_module": "@jupyter-widgets/controls",
            "_model_module_version": "1.5.0",
            "_model_name": "HBoxModel",
            "_view_count": null,
            "_view_module": "@jupyter-widgets/controls",
            "_view_module_version": "1.5.0",
            "_view_name": "HBoxView",
            "box_style": "",
            "children": [
              "IPY_MODEL_94fba72900bd456b8324fc2e2fcbfce9",
              "IPY_MODEL_4799b29ac7a94aaab7e46e921f6b22b3",
              "IPY_MODEL_c79e764d0eba4a8f89947a3d6ba2d6fc"
            ],
            "layout": "IPY_MODEL_c0d425fc106140b5ba6bb37870eab40e"
          }
        },
        "94fba72900bd456b8324fc2e2fcbfce9": {
          "model_module": "@jupyter-widgets/controls",
          "model_name": "HTMLModel",
          "model_module_version": "1.5.0",
          "state": {
            "_dom_classes": [],
            "_model_module": "@jupyter-widgets/controls",
            "_model_module_version": "1.5.0",
            "_model_name": "HTMLModel",
            "_view_count": null,
            "_view_module": "@jupyter-widgets/controls",
            "_view_module_version": "1.5.0",
            "_view_name": "HTMLView",
            "description": "",
            "description_tooltip": null,
            "layout": "IPY_MODEL_9cc3de17375d4e18abc58c550931ce2d",
            "placeholder": "​",
            "style": "IPY_MODEL_93dbd29081e4433d894c94efb3732a71",
            "value": "spiece.model: 100%"
          }
        },
        "4799b29ac7a94aaab7e46e921f6b22b3": {
          "model_module": "@jupyter-widgets/controls",
          "model_name": "FloatProgressModel",
          "model_module_version": "1.5.0",
          "state": {
            "_dom_classes": [],
            "_model_module": "@jupyter-widgets/controls",
            "_model_module_version": "1.5.0",
            "_model_name": "FloatProgressModel",
            "_view_count": null,
            "_view_module": "@jupyter-widgets/controls",
            "_view_module_version": "1.5.0",
            "_view_name": "ProgressView",
            "bar_style": "success",
            "description": "",
            "description_tooltip": null,
            "layout": "IPY_MODEL_dcf7a85034b94bf7a90dee550bc4f81c",
            "max": 791656,
            "min": 0,
            "orientation": "horizontal",
            "style": "IPY_MODEL_0951d2c2c9274b69aa61c6fa99c0823b",
            "value": 791656
          }
        },
        "c79e764d0eba4a8f89947a3d6ba2d6fc": {
          "model_module": "@jupyter-widgets/controls",
          "model_name": "HTMLModel",
          "model_module_version": "1.5.0",
          "state": {
            "_dom_classes": [],
            "_model_module": "@jupyter-widgets/controls",
            "_model_module_version": "1.5.0",
            "_model_name": "HTMLModel",
            "_view_count": null,
            "_view_module": "@jupyter-widgets/controls",
            "_view_module_version": "1.5.0",
            "_view_name": "HTMLView",
            "description": "",
            "description_tooltip": null,
            "layout": "IPY_MODEL_190b2d8299d341ef92d216fc842ef975",
            "placeholder": "​",
            "style": "IPY_MODEL_def57f1a2cd64efbbb767a84b960b5f8",
            "value": " 792k/792k [00:00&lt;00:00, 9.45MB/s]"
          }
        },
        "c0d425fc106140b5ba6bb37870eab40e": {
          "model_module": "@jupyter-widgets/base",
          "model_name": "LayoutModel",
          "model_module_version": "1.2.0",
          "state": {
            "_model_module": "@jupyter-widgets/base",
            "_model_module_version": "1.2.0",
            "_model_name": "LayoutModel",
            "_view_count": null,
            "_view_module": "@jupyter-widgets/base",
            "_view_module_version": "1.2.0",
            "_view_name": "LayoutView",
            "align_content": null,
            "align_items": null,
            "align_self": null,
            "border": null,
            "bottom": null,
            "display": null,
            "flex": null,
            "flex_flow": null,
            "grid_area": null,
            "grid_auto_columns": null,
            "grid_auto_flow": null,
            "grid_auto_rows": null,
            "grid_column": null,
            "grid_gap": null,
            "grid_row": null,
            "grid_template_areas": null,
            "grid_template_columns": null,
            "grid_template_rows": null,
            "height": null,
            "justify_content": null,
            "justify_items": null,
            "left": null,
            "margin": null,
            "max_height": null,
            "max_width": null,
            "min_height": null,
            "min_width": null,
            "object_fit": null,
            "object_position": null,
            "order": null,
            "overflow": null,
            "overflow_x": null,
            "overflow_y": null,
            "padding": null,
            "right": null,
            "top": null,
            "visibility": null,
            "width": null
          }
        },
        "9cc3de17375d4e18abc58c550931ce2d": {
          "model_module": "@jupyter-widgets/base",
          "model_name": "LayoutModel",
          "model_module_version": "1.2.0",
          "state": {
            "_model_module": "@jupyter-widgets/base",
            "_model_module_version": "1.2.0",
            "_model_name": "LayoutModel",
            "_view_count": null,
            "_view_module": "@jupyter-widgets/base",
            "_view_module_version": "1.2.0",
            "_view_name": "LayoutView",
            "align_content": null,
            "align_items": null,
            "align_self": null,
            "border": null,
            "bottom": null,
            "display": null,
            "flex": null,
            "flex_flow": null,
            "grid_area": null,
            "grid_auto_columns": null,
            "grid_auto_flow": null,
            "grid_auto_rows": null,
            "grid_column": null,
            "grid_gap": null,
            "grid_row": null,
            "grid_template_areas": null,
            "grid_template_columns": null,
            "grid_template_rows": null,
            "height": null,
            "justify_content": null,
            "justify_items": null,
            "left": null,
            "margin": null,
            "max_height": null,
            "max_width": null,
            "min_height": null,
            "min_width": null,
            "object_fit": null,
            "object_position": null,
            "order": null,
            "overflow": null,
            "overflow_x": null,
            "overflow_y": null,
            "padding": null,
            "right": null,
            "top": null,
            "visibility": null,
            "width": null
          }
        },
        "93dbd29081e4433d894c94efb3732a71": {
          "model_module": "@jupyter-widgets/controls",
          "model_name": "DescriptionStyleModel",
          "model_module_version": "1.5.0",
          "state": {
            "_model_module": "@jupyter-widgets/controls",
            "_model_module_version": "1.5.0",
            "_model_name": "DescriptionStyleModel",
            "_view_count": null,
            "_view_module": "@jupyter-widgets/base",
            "_view_module_version": "1.2.0",
            "_view_name": "StyleView",
            "description_width": ""
          }
        },
        "dcf7a85034b94bf7a90dee550bc4f81c": {
          "model_module": "@jupyter-widgets/base",
          "model_name": "LayoutModel",
          "model_module_version": "1.2.0",
          "state": {
            "_model_module": "@jupyter-widgets/base",
            "_model_module_version": "1.2.0",
            "_model_name": "LayoutModel",
            "_view_count": null,
            "_view_module": "@jupyter-widgets/base",
            "_view_module_version": "1.2.0",
            "_view_name": "LayoutView",
            "align_content": null,
            "align_items": null,
            "align_self": null,
            "border": null,
            "bottom": null,
            "display": null,
            "flex": null,
            "flex_flow": null,
            "grid_area": null,
            "grid_auto_columns": null,
            "grid_auto_flow": null,
            "grid_auto_rows": null,
            "grid_column": null,
            "grid_gap": null,
            "grid_row": null,
            "grid_template_areas": null,
            "grid_template_columns": null,
            "grid_template_rows": null,
            "height": null,
            "justify_content": null,
            "justify_items": null,
            "left": null,
            "margin": null,
            "max_height": null,
            "max_width": null,
            "min_height": null,
            "min_width": null,
            "object_fit": null,
            "object_position": null,
            "order": null,
            "overflow": null,
            "overflow_x": null,
            "overflow_y": null,
            "padding": null,
            "right": null,
            "top": null,
            "visibility": null,
            "width": null
          }
        },
        "0951d2c2c9274b69aa61c6fa99c0823b": {
          "model_module": "@jupyter-widgets/controls",
          "model_name": "ProgressStyleModel",
          "model_module_version": "1.5.0",
          "state": {
            "_model_module": "@jupyter-widgets/controls",
            "_model_module_version": "1.5.0",
            "_model_name": "ProgressStyleModel",
            "_view_count": null,
            "_view_module": "@jupyter-widgets/base",
            "_view_module_version": "1.2.0",
            "_view_name": "StyleView",
            "bar_color": null,
            "description_width": ""
          }
        },
        "190b2d8299d341ef92d216fc842ef975": {
          "model_module": "@jupyter-widgets/base",
          "model_name": "LayoutModel",
          "model_module_version": "1.2.0",
          "state": {
            "_model_module": "@jupyter-widgets/base",
            "_model_module_version": "1.2.0",
            "_model_name": "LayoutModel",
            "_view_count": null,
            "_view_module": "@jupyter-widgets/base",
            "_view_module_version": "1.2.0",
            "_view_name": "LayoutView",
            "align_content": null,
            "align_items": null,
            "align_self": null,
            "border": null,
            "bottom": null,
            "display": null,
            "flex": null,
            "flex_flow": null,
            "grid_area": null,
            "grid_auto_columns": null,
            "grid_auto_flow": null,
            "grid_auto_rows": null,
            "grid_column": null,
            "grid_gap": null,
            "grid_row": null,
            "grid_template_areas": null,
            "grid_template_columns": null,
            "grid_template_rows": null,
            "height": null,
            "justify_content": null,
            "justify_items": null,
            "left": null,
            "margin": null,
            "max_height": null,
            "max_width": null,
            "min_height": null,
            "min_width": null,
            "object_fit": null,
            "object_position": null,
            "order": null,
            "overflow": null,
            "overflow_x": null,
            "overflow_y": null,
            "padding": null,
            "right": null,
            "top": null,
            "visibility": null,
            "width": null
          }
        },
        "def57f1a2cd64efbbb767a84b960b5f8": {
          "model_module": "@jupyter-widgets/controls",
          "model_name": "DescriptionStyleModel",
          "model_module_version": "1.5.0",
          "state": {
            "_model_module": "@jupyter-widgets/controls",
            "_model_module_version": "1.5.0",
            "_model_name": "DescriptionStyleModel",
            "_view_count": null,
            "_view_module": "@jupyter-widgets/base",
            "_view_module_version": "1.2.0",
            "_view_name": "StyleView",
            "description_width": ""
          }
        },
        "7b5579d934c141adbb5e64b74f682573": {
          "model_module": "@jupyter-widgets/controls",
          "model_name": "HBoxModel",
          "model_module_version": "1.5.0",
          "state": {
            "_dom_classes": [],
            "_model_module": "@jupyter-widgets/controls",
            "_model_module_version": "1.5.0",
            "_model_name": "HBoxModel",
            "_view_count": null,
            "_view_module": "@jupyter-widgets/controls",
            "_view_module_version": "1.5.0",
            "_view_name": "HBoxView",
            "box_style": "",
            "children": [
              "IPY_MODEL_ed8e0fd3ac6c43a795bd2661d6ae9bd1",
              "IPY_MODEL_9a49574dfa7e404784f574a898e5b3b7",
              "IPY_MODEL_62a211f9b4b04decad64eb7a6153ae76"
            ],
            "layout": "IPY_MODEL_2765633a01fe4436b6511844ae54f98e"
          }
        },
        "ed8e0fd3ac6c43a795bd2661d6ae9bd1": {
          "model_module": "@jupyter-widgets/controls",
          "model_name": "HTMLModel",
          "model_module_version": "1.5.0",
          "state": {
            "_dom_classes": [],
            "_model_module": "@jupyter-widgets/controls",
            "_model_module_version": "1.5.0",
            "_model_name": "HTMLModel",
            "_view_count": null,
            "_view_module": "@jupyter-widgets/controls",
            "_view_module_version": "1.5.0",
            "_view_name": "HTMLView",
            "description": "",
            "description_tooltip": null,
            "layout": "IPY_MODEL_bc85a215a3d54dbfa2d308af438b1066",
            "placeholder": "​",
            "style": "IPY_MODEL_cb18a41a51024a5ab291926dc6a8921c",
            "value": "tokenizer.json: 100%"
          }
        },
        "9a49574dfa7e404784f574a898e5b3b7": {
          "model_module": "@jupyter-widgets/controls",
          "model_name": "FloatProgressModel",
          "model_module_version": "1.5.0",
          "state": {
            "_dom_classes": [],
            "_model_module": "@jupyter-widgets/controls",
            "_model_module_version": "1.5.0",
            "_model_name": "FloatProgressModel",
            "_view_count": null,
            "_view_module": "@jupyter-widgets/controls",
            "_view_module_version": "1.5.0",
            "_view_name": "ProgressView",
            "bar_style": "success",
            "description": "",
            "description_tooltip": null,
            "layout": "IPY_MODEL_132f8715d1ab478bb1208bcd8c1890f4",
            "max": 1389353,
            "min": 0,
            "orientation": "horizontal",
            "style": "IPY_MODEL_c888dc184e664496833affd2713e0e9d",
            "value": 1389353
          }
        },
        "62a211f9b4b04decad64eb7a6153ae76": {
          "model_module": "@jupyter-widgets/controls",
          "model_name": "HTMLModel",
          "model_module_version": "1.5.0",
          "state": {
            "_dom_classes": [],
            "_model_module": "@jupyter-widgets/controls",
            "_model_module_version": "1.5.0",
            "_model_name": "HTMLModel",
            "_view_count": null,
            "_view_module": "@jupyter-widgets/controls",
            "_view_module_version": "1.5.0",
            "_view_name": "HTMLView",
            "description": "",
            "description_tooltip": null,
            "layout": "IPY_MODEL_1cd3fd402b994bdba7c1534f3d3325a0",
            "placeholder": "​",
            "style": "IPY_MODEL_25fef68f32df408591142fcfba425084",
            "value": " 1.39M/1.39M [00:00&lt;00:00, 47.1MB/s]"
          }
        },
        "2765633a01fe4436b6511844ae54f98e": {
          "model_module": "@jupyter-widgets/base",
          "model_name": "LayoutModel",
          "model_module_version": "1.2.0",
          "state": {
            "_model_module": "@jupyter-widgets/base",
            "_model_module_version": "1.2.0",
            "_model_name": "LayoutModel",
            "_view_count": null,
            "_view_module": "@jupyter-widgets/base",
            "_view_module_version": "1.2.0",
            "_view_name": "LayoutView",
            "align_content": null,
            "align_items": null,
            "align_self": null,
            "border": null,
            "bottom": null,
            "display": null,
            "flex": null,
            "flex_flow": null,
            "grid_area": null,
            "grid_auto_columns": null,
            "grid_auto_flow": null,
            "grid_auto_rows": null,
            "grid_column": null,
            "grid_gap": null,
            "grid_row": null,
            "grid_template_areas": null,
            "grid_template_columns": null,
            "grid_template_rows": null,
            "height": null,
            "justify_content": null,
            "justify_items": null,
            "left": null,
            "margin": null,
            "max_height": null,
            "max_width": null,
            "min_height": null,
            "min_width": null,
            "object_fit": null,
            "object_position": null,
            "order": null,
            "overflow": null,
            "overflow_x": null,
            "overflow_y": null,
            "padding": null,
            "right": null,
            "top": null,
            "visibility": null,
            "width": null
          }
        },
        "bc85a215a3d54dbfa2d308af438b1066": {
          "model_module": "@jupyter-widgets/base",
          "model_name": "LayoutModel",
          "model_module_version": "1.2.0",
          "state": {
            "_model_module": "@jupyter-widgets/base",
            "_model_module_version": "1.2.0",
            "_model_name": "LayoutModel",
            "_view_count": null,
            "_view_module": "@jupyter-widgets/base",
            "_view_module_version": "1.2.0",
            "_view_name": "LayoutView",
            "align_content": null,
            "align_items": null,
            "align_self": null,
            "border": null,
            "bottom": null,
            "display": null,
            "flex": null,
            "flex_flow": null,
            "grid_area": null,
            "grid_auto_columns": null,
            "grid_auto_flow": null,
            "grid_auto_rows": null,
            "grid_column": null,
            "grid_gap": null,
            "grid_row": null,
            "grid_template_areas": null,
            "grid_template_columns": null,
            "grid_template_rows": null,
            "height": null,
            "justify_content": null,
            "justify_items": null,
            "left": null,
            "margin": null,
            "max_height": null,
            "max_width": null,
            "min_height": null,
            "min_width": null,
            "object_fit": null,
            "object_position": null,
            "order": null,
            "overflow": null,
            "overflow_x": null,
            "overflow_y": null,
            "padding": null,
            "right": null,
            "top": null,
            "visibility": null,
            "width": null
          }
        },
        "cb18a41a51024a5ab291926dc6a8921c": {
          "model_module": "@jupyter-widgets/controls",
          "model_name": "DescriptionStyleModel",
          "model_module_version": "1.5.0",
          "state": {
            "_model_module": "@jupyter-widgets/controls",
            "_model_module_version": "1.5.0",
            "_model_name": "DescriptionStyleModel",
            "_view_count": null,
            "_view_module": "@jupyter-widgets/base",
            "_view_module_version": "1.2.0",
            "_view_name": "StyleView",
            "description_width": ""
          }
        },
        "132f8715d1ab478bb1208bcd8c1890f4": {
          "model_module": "@jupyter-widgets/base",
          "model_name": "LayoutModel",
          "model_module_version": "1.2.0",
          "state": {
            "_model_module": "@jupyter-widgets/base",
            "_model_module_version": "1.2.0",
            "_model_name": "LayoutModel",
            "_view_count": null,
            "_view_module": "@jupyter-widgets/base",
            "_view_module_version": "1.2.0",
            "_view_name": "LayoutView",
            "align_content": null,
            "align_items": null,
            "align_self": null,
            "border": null,
            "bottom": null,
            "display": null,
            "flex": null,
            "flex_flow": null,
            "grid_area": null,
            "grid_auto_columns": null,
            "grid_auto_flow": null,
            "grid_auto_rows": null,
            "grid_column": null,
            "grid_gap": null,
            "grid_row": null,
            "grid_template_areas": null,
            "grid_template_columns": null,
            "grid_template_rows": null,
            "height": null,
            "justify_content": null,
            "justify_items": null,
            "left": null,
            "margin": null,
            "max_height": null,
            "max_width": null,
            "min_height": null,
            "min_width": null,
            "object_fit": null,
            "object_position": null,
            "order": null,
            "overflow": null,
            "overflow_x": null,
            "overflow_y": null,
            "padding": null,
            "right": null,
            "top": null,
            "visibility": null,
            "width": null
          }
        },
        "c888dc184e664496833affd2713e0e9d": {
          "model_module": "@jupyter-widgets/controls",
          "model_name": "ProgressStyleModel",
          "model_module_version": "1.5.0",
          "state": {
            "_model_module": "@jupyter-widgets/controls",
            "_model_module_version": "1.5.0",
            "_model_name": "ProgressStyleModel",
            "_view_count": null,
            "_view_module": "@jupyter-widgets/base",
            "_view_module_version": "1.2.0",
            "_view_name": "StyleView",
            "bar_color": null,
            "description_width": ""
          }
        },
        "1cd3fd402b994bdba7c1534f3d3325a0": {
          "model_module": "@jupyter-widgets/base",
          "model_name": "LayoutModel",
          "model_module_version": "1.2.0",
          "state": {
            "_model_module": "@jupyter-widgets/base",
            "_model_module_version": "1.2.0",
            "_model_name": "LayoutModel",
            "_view_count": null,
            "_view_module": "@jupyter-widgets/base",
            "_view_module_version": "1.2.0",
            "_view_name": "LayoutView",
            "align_content": null,
            "align_items": null,
            "align_self": null,
            "border": null,
            "bottom": null,
            "display": null,
            "flex": null,
            "flex_flow": null,
            "grid_area": null,
            "grid_auto_columns": null,
            "grid_auto_flow": null,
            "grid_auto_rows": null,
            "grid_column": null,
            "grid_gap": null,
            "grid_row": null,
            "grid_template_areas": null,
            "grid_template_columns": null,
            "grid_template_rows": null,
            "height": null,
            "justify_content": null,
            "justify_items": null,
            "left": null,
            "margin": null,
            "max_height": null,
            "max_width": null,
            "min_height": null,
            "min_width": null,
            "object_fit": null,
            "object_position": null,
            "order": null,
            "overflow": null,
            "overflow_x": null,
            "overflow_y": null,
            "padding": null,
            "right": null,
            "top": null,
            "visibility": null,
            "width": null
          }
        },
        "25fef68f32df408591142fcfba425084": {
          "model_module": "@jupyter-widgets/controls",
          "model_name": "DescriptionStyleModel",
          "model_module_version": "1.5.0",
          "state": {
            "_model_module": "@jupyter-widgets/controls",
            "_model_module_version": "1.5.0",
            "_model_name": "DescriptionStyleModel",
            "_view_count": null,
            "_view_module": "@jupyter-widgets/base",
            "_view_module_version": "1.2.0",
            "_view_name": "StyleView",
            "description_width": ""
          }
        },
        "feef5855f2a846e799d04ca77284b752": {
          "model_module": "@jupyter-widgets/controls",
          "model_name": "HBoxModel",
          "model_module_version": "1.5.0",
          "state": {
            "_dom_classes": [],
            "_model_module": "@jupyter-widgets/controls",
            "_model_module_version": "1.5.0",
            "_model_name": "HBoxModel",
            "_view_count": null,
            "_view_module": "@jupyter-widgets/controls",
            "_view_module_version": "1.5.0",
            "_view_name": "HBoxView",
            "box_style": "",
            "children": [
              "IPY_MODEL_b6cc5e895ddc47c4baef49fa4ab0aee2",
              "IPY_MODEL_d5d4545c68fe48d1a40dab90de561f95",
              "IPY_MODEL_7a1027bac3d44ce9be2e4a2619d4f3ce"
            ],
            "layout": "IPY_MODEL_f2200a3ea5f44d1b91f45c0ba5e267a1"
          }
        },
        "b6cc5e895ddc47c4baef49fa4ab0aee2": {
          "model_module": "@jupyter-widgets/controls",
          "model_name": "HTMLModel",
          "model_module_version": "1.5.0",
          "state": {
            "_dom_classes": [],
            "_model_module": "@jupyter-widgets/controls",
            "_model_module_version": "1.5.0",
            "_model_name": "HTMLModel",
            "_view_count": null,
            "_view_module": "@jupyter-widgets/controls",
            "_view_module_version": "1.5.0",
            "_view_name": "HTMLView",
            "description": "",
            "description_tooltip": null,
            "layout": "IPY_MODEL_3150ec317353441097549f0e9a841913",
            "placeholder": "​",
            "style": "IPY_MODEL_ca0a675ab8724a75a23ff93b4030e9f1",
            "value": "config.json: 100%"
          }
        },
        "d5d4545c68fe48d1a40dab90de561f95": {
          "model_module": "@jupyter-widgets/controls",
          "model_name": "FloatProgressModel",
          "model_module_version": "1.5.0",
          "state": {
            "_dom_classes": [],
            "_model_module": "@jupyter-widgets/controls",
            "_model_module_version": "1.5.0",
            "_model_name": "FloatProgressModel",
            "_view_count": null,
            "_view_module": "@jupyter-widgets/controls",
            "_view_module_version": "1.5.0",
            "_view_name": "ProgressView",
            "bar_style": "success",
            "description": "",
            "description_tooltip": null,
            "layout": "IPY_MODEL_148b9b8eabb1466985d46e37d8246e0d",
            "max": 1206,
            "min": 0,
            "orientation": "horizontal",
            "style": "IPY_MODEL_491afc5a25a347658edf9c7de0b7e523",
            "value": 1206
          }
        },
        "7a1027bac3d44ce9be2e4a2619d4f3ce": {
          "model_module": "@jupyter-widgets/controls",
          "model_name": "HTMLModel",
          "model_module_version": "1.5.0",
          "state": {
            "_dom_classes": [],
            "_model_module": "@jupyter-widgets/controls",
            "_model_module_version": "1.5.0",
            "_model_name": "HTMLModel",
            "_view_count": null,
            "_view_module": "@jupyter-widgets/controls",
            "_view_module_version": "1.5.0",
            "_view_name": "HTMLView",
            "description": "",
            "description_tooltip": null,
            "layout": "IPY_MODEL_0c54391f7ff5487ea38ec1c9a5f266dc",
            "placeholder": "​",
            "style": "IPY_MODEL_5e282363fa024f719dcc52edc24a31a3",
            "value": " 1.21k/1.21k [00:00&lt;00:00, 80.3kB/s]"
          }
        },
        "f2200a3ea5f44d1b91f45c0ba5e267a1": {
          "model_module": "@jupyter-widgets/base",
          "model_name": "LayoutModel",
          "model_module_version": "1.2.0",
          "state": {
            "_model_module": "@jupyter-widgets/base",
            "_model_module_version": "1.2.0",
            "_model_name": "LayoutModel",
            "_view_count": null,
            "_view_module": "@jupyter-widgets/base",
            "_view_module_version": "1.2.0",
            "_view_name": "LayoutView",
            "align_content": null,
            "align_items": null,
            "align_self": null,
            "border": null,
            "bottom": null,
            "display": null,
            "flex": null,
            "flex_flow": null,
            "grid_area": null,
            "grid_auto_columns": null,
            "grid_auto_flow": null,
            "grid_auto_rows": null,
            "grid_column": null,
            "grid_gap": null,
            "grid_row": null,
            "grid_template_areas": null,
            "grid_template_columns": null,
            "grid_template_rows": null,
            "height": null,
            "justify_content": null,
            "justify_items": null,
            "left": null,
            "margin": null,
            "max_height": null,
            "max_width": null,
            "min_height": null,
            "min_width": null,
            "object_fit": null,
            "object_position": null,
            "order": null,
            "overflow": null,
            "overflow_x": null,
            "overflow_y": null,
            "padding": null,
            "right": null,
            "top": null,
            "visibility": null,
            "width": null
          }
        },
        "3150ec317353441097549f0e9a841913": {
          "model_module": "@jupyter-widgets/base",
          "model_name": "LayoutModel",
          "model_module_version": "1.2.0",
          "state": {
            "_model_module": "@jupyter-widgets/base",
            "_model_module_version": "1.2.0",
            "_model_name": "LayoutModel",
            "_view_count": null,
            "_view_module": "@jupyter-widgets/base",
            "_view_module_version": "1.2.0",
            "_view_name": "LayoutView",
            "align_content": null,
            "align_items": null,
            "align_self": null,
            "border": null,
            "bottom": null,
            "display": null,
            "flex": null,
            "flex_flow": null,
            "grid_area": null,
            "grid_auto_columns": null,
            "grid_auto_flow": null,
            "grid_auto_rows": null,
            "grid_column": null,
            "grid_gap": null,
            "grid_row": null,
            "grid_template_areas": null,
            "grid_template_columns": null,
            "grid_template_rows": null,
            "height": null,
            "justify_content": null,
            "justify_items": null,
            "left": null,
            "margin": null,
            "max_height": null,
            "max_width": null,
            "min_height": null,
            "min_width": null,
            "object_fit": null,
            "object_position": null,
            "order": null,
            "overflow": null,
            "overflow_x": null,
            "overflow_y": null,
            "padding": null,
            "right": null,
            "top": null,
            "visibility": null,
            "width": null
          }
        },
        "ca0a675ab8724a75a23ff93b4030e9f1": {
          "model_module": "@jupyter-widgets/controls",
          "model_name": "DescriptionStyleModel",
          "model_module_version": "1.5.0",
          "state": {
            "_model_module": "@jupyter-widgets/controls",
            "_model_module_version": "1.5.0",
            "_model_name": "DescriptionStyleModel",
            "_view_count": null,
            "_view_module": "@jupyter-widgets/base",
            "_view_module_version": "1.2.0",
            "_view_name": "StyleView",
            "description_width": ""
          }
        },
        "148b9b8eabb1466985d46e37d8246e0d": {
          "model_module": "@jupyter-widgets/base",
          "model_name": "LayoutModel",
          "model_module_version": "1.2.0",
          "state": {
            "_model_module": "@jupyter-widgets/base",
            "_model_module_version": "1.2.0",
            "_model_name": "LayoutModel",
            "_view_count": null,
            "_view_module": "@jupyter-widgets/base",
            "_view_module_version": "1.2.0",
            "_view_name": "LayoutView",
            "align_content": null,
            "align_items": null,
            "align_self": null,
            "border": null,
            "bottom": null,
            "display": null,
            "flex": null,
            "flex_flow": null,
            "grid_area": null,
            "grid_auto_columns": null,
            "grid_auto_flow": null,
            "grid_auto_rows": null,
            "grid_column": null,
            "grid_gap": null,
            "grid_row": null,
            "grid_template_areas": null,
            "grid_template_columns": null,
            "grid_template_rows": null,
            "height": null,
            "justify_content": null,
            "justify_items": null,
            "left": null,
            "margin": null,
            "max_height": null,
            "max_width": null,
            "min_height": null,
            "min_width": null,
            "object_fit": null,
            "object_position": null,
            "order": null,
            "overflow": null,
            "overflow_x": null,
            "overflow_y": null,
            "padding": null,
            "right": null,
            "top": null,
            "visibility": null,
            "width": null
          }
        },
        "491afc5a25a347658edf9c7de0b7e523": {
          "model_module": "@jupyter-widgets/controls",
          "model_name": "ProgressStyleModel",
          "model_module_version": "1.5.0",
          "state": {
            "_model_module": "@jupyter-widgets/controls",
            "_model_module_version": "1.5.0",
            "_model_name": "ProgressStyleModel",
            "_view_count": null,
            "_view_module": "@jupyter-widgets/base",
            "_view_module_version": "1.2.0",
            "_view_name": "StyleView",
            "bar_color": null,
            "description_width": ""
          }
        },
        "0c54391f7ff5487ea38ec1c9a5f266dc": {
          "model_module": "@jupyter-widgets/base",
          "model_name": "LayoutModel",
          "model_module_version": "1.2.0",
          "state": {
            "_model_module": "@jupyter-widgets/base",
            "_model_module_version": "1.2.0",
            "_model_name": "LayoutModel",
            "_view_count": null,
            "_view_module": "@jupyter-widgets/base",
            "_view_module_version": "1.2.0",
            "_view_name": "LayoutView",
            "align_content": null,
            "align_items": null,
            "align_self": null,
            "border": null,
            "bottom": null,
            "display": null,
            "flex": null,
            "flex_flow": null,
            "grid_area": null,
            "grid_auto_columns": null,
            "grid_auto_flow": null,
            "grid_auto_rows": null,
            "grid_column": null,
            "grid_gap": null,
            "grid_row": null,
            "grid_template_areas": null,
            "grid_template_columns": null,
            "grid_template_rows": null,
            "height": null,
            "justify_content": null,
            "justify_items": null,
            "left": null,
            "margin": null,
            "max_height": null,
            "max_width": null,
            "min_height": null,
            "min_width": null,
            "object_fit": null,
            "object_position": null,
            "order": null,
            "overflow": null,
            "overflow_x": null,
            "overflow_y": null,
            "padding": null,
            "right": null,
            "top": null,
            "visibility": null,
            "width": null
          }
        },
        "5e282363fa024f719dcc52edc24a31a3": {
          "model_module": "@jupyter-widgets/controls",
          "model_name": "DescriptionStyleModel",
          "model_module_version": "1.5.0",
          "state": {
            "_model_module": "@jupyter-widgets/controls",
            "_model_module_version": "1.5.0",
            "_model_name": "DescriptionStyleModel",
            "_view_count": null,
            "_view_module": "@jupyter-widgets/base",
            "_view_module_version": "1.2.0",
            "_view_name": "StyleView",
            "description_width": ""
          }
        },
        "59ed740123ad4350abab4a3e944f98b6": {
          "model_module": "@jupyter-widgets/controls",
          "model_name": "HBoxModel",
          "model_module_version": "1.5.0",
          "state": {
            "_dom_classes": [],
            "_model_module": "@jupyter-widgets/controls",
            "_model_module_version": "1.5.0",
            "_model_name": "HBoxModel",
            "_view_count": null,
            "_view_module": "@jupyter-widgets/controls",
            "_view_module_version": "1.5.0",
            "_view_name": "HBoxView",
            "box_style": "",
            "children": [
              "IPY_MODEL_5d791b61afc54b9f934d8735d99675b7",
              "IPY_MODEL_e0af424898bb4bd1be44108274e1fc4a",
              "IPY_MODEL_5a557d7be59d4fc3a02f7166bfaa0997"
            ],
            "layout": "IPY_MODEL_8b1a60b37722442c81d9ae18dc3be47b"
          }
        },
        "5d791b61afc54b9f934d8735d99675b7": {
          "model_module": "@jupyter-widgets/controls",
          "model_name": "HTMLModel",
          "model_module_version": "1.5.0",
          "state": {
            "_dom_classes": [],
            "_model_module": "@jupyter-widgets/controls",
            "_model_module_version": "1.5.0",
            "_model_name": "HTMLModel",
            "_view_count": null,
            "_view_module": "@jupyter-widgets/controls",
            "_view_module_version": "1.5.0",
            "_view_name": "HTMLView",
            "description": "",
            "description_tooltip": null,
            "layout": "IPY_MODEL_dffaf8ed13274d7ca5c4acee5e061f75",
            "placeholder": "​",
            "style": "IPY_MODEL_8cdcb74b328049f6b75e3946981eb471",
            "value": "model.safetensors: 100%"
          }
        },
        "e0af424898bb4bd1be44108274e1fc4a": {
          "model_module": "@jupyter-widgets/controls",
          "model_name": "FloatProgressModel",
          "model_module_version": "1.5.0",
          "state": {
            "_dom_classes": [],
            "_model_module": "@jupyter-widgets/controls",
            "_model_module_version": "1.5.0",
            "_model_name": "FloatProgressModel",
            "_view_count": null,
            "_view_module": "@jupyter-widgets/controls",
            "_view_module_version": "1.5.0",
            "_view_name": "ProgressView",
            "bar_style": "success",
            "description": "",
            "description_tooltip": null,
            "layout": "IPY_MODEL_f929b33d6e0a403c8caf7dad95f86765",
            "max": 242043056,
            "min": 0,
            "orientation": "horizontal",
            "style": "IPY_MODEL_d688f9e3001b4972b4ea4eddc7737939",
            "value": 242043056
          }
        },
        "5a557d7be59d4fc3a02f7166bfaa0997": {
          "model_module": "@jupyter-widgets/controls",
          "model_name": "HTMLModel",
          "model_module_version": "1.5.0",
          "state": {
            "_dom_classes": [],
            "_model_module": "@jupyter-widgets/controls",
            "_model_module_version": "1.5.0",
            "_model_name": "HTMLModel",
            "_view_count": null,
            "_view_module": "@jupyter-widgets/controls",
            "_view_module_version": "1.5.0",
            "_view_name": "HTMLView",
            "description": "",
            "description_tooltip": null,
            "layout": "IPY_MODEL_a4529e753bbe44d5a0eb3f05c581420d",
            "placeholder": "​",
            "style": "IPY_MODEL_7968f6ae3053440fbb7312d36a2ca387",
            "value": " 242M/242M [00:01&lt;00:00, 188MB/s]"
          }
        },
        "8b1a60b37722442c81d9ae18dc3be47b": {
          "model_module": "@jupyter-widgets/base",
          "model_name": "LayoutModel",
          "model_module_version": "1.2.0",
          "state": {
            "_model_module": "@jupyter-widgets/base",
            "_model_module_version": "1.2.0",
            "_model_name": "LayoutModel",
            "_view_count": null,
            "_view_module": "@jupyter-widgets/base",
            "_view_module_version": "1.2.0",
            "_view_name": "LayoutView",
            "align_content": null,
            "align_items": null,
            "align_self": null,
            "border": null,
            "bottom": null,
            "display": null,
            "flex": null,
            "flex_flow": null,
            "grid_area": null,
            "grid_auto_columns": null,
            "grid_auto_flow": null,
            "grid_auto_rows": null,
            "grid_column": null,
            "grid_gap": null,
            "grid_row": null,
            "grid_template_areas": null,
            "grid_template_columns": null,
            "grid_template_rows": null,
            "height": null,
            "justify_content": null,
            "justify_items": null,
            "left": null,
            "margin": null,
            "max_height": null,
            "max_width": null,
            "min_height": null,
            "min_width": null,
            "object_fit": null,
            "object_position": null,
            "order": null,
            "overflow": null,
            "overflow_x": null,
            "overflow_y": null,
            "padding": null,
            "right": null,
            "top": null,
            "visibility": null,
            "width": null
          }
        },
        "dffaf8ed13274d7ca5c4acee5e061f75": {
          "model_module": "@jupyter-widgets/base",
          "model_name": "LayoutModel",
          "model_module_version": "1.2.0",
          "state": {
            "_model_module": "@jupyter-widgets/base",
            "_model_module_version": "1.2.0",
            "_model_name": "LayoutModel",
            "_view_count": null,
            "_view_module": "@jupyter-widgets/base",
            "_view_module_version": "1.2.0",
            "_view_name": "LayoutView",
            "align_content": null,
            "align_items": null,
            "align_self": null,
            "border": null,
            "bottom": null,
            "display": null,
            "flex": null,
            "flex_flow": null,
            "grid_area": null,
            "grid_auto_columns": null,
            "grid_auto_flow": null,
            "grid_auto_rows": null,
            "grid_column": null,
            "grid_gap": null,
            "grid_row": null,
            "grid_template_areas": null,
            "grid_template_columns": null,
            "grid_template_rows": null,
            "height": null,
            "justify_content": null,
            "justify_items": null,
            "left": null,
            "margin": null,
            "max_height": null,
            "max_width": null,
            "min_height": null,
            "min_width": null,
            "object_fit": null,
            "object_position": null,
            "order": null,
            "overflow": null,
            "overflow_x": null,
            "overflow_y": null,
            "padding": null,
            "right": null,
            "top": null,
            "visibility": null,
            "width": null
          }
        },
        "8cdcb74b328049f6b75e3946981eb471": {
          "model_module": "@jupyter-widgets/controls",
          "model_name": "DescriptionStyleModel",
          "model_module_version": "1.5.0",
          "state": {
            "_model_module": "@jupyter-widgets/controls",
            "_model_module_version": "1.5.0",
            "_model_name": "DescriptionStyleModel",
            "_view_count": null,
            "_view_module": "@jupyter-widgets/base",
            "_view_module_version": "1.2.0",
            "_view_name": "StyleView",
            "description_width": ""
          }
        },
        "f929b33d6e0a403c8caf7dad95f86765": {
          "model_module": "@jupyter-widgets/base",
          "model_name": "LayoutModel",
          "model_module_version": "1.2.0",
          "state": {
            "_model_module": "@jupyter-widgets/base",
            "_model_module_version": "1.2.0",
            "_model_name": "LayoutModel",
            "_view_count": null,
            "_view_module": "@jupyter-widgets/base",
            "_view_module_version": "1.2.0",
            "_view_name": "LayoutView",
            "align_content": null,
            "align_items": null,
            "align_self": null,
            "border": null,
            "bottom": null,
            "display": null,
            "flex": null,
            "flex_flow": null,
            "grid_area": null,
            "grid_auto_columns": null,
            "grid_auto_flow": null,
            "grid_auto_rows": null,
            "grid_column": null,
            "grid_gap": null,
            "grid_row": null,
            "grid_template_areas": null,
            "grid_template_columns": null,
            "grid_template_rows": null,
            "height": null,
            "justify_content": null,
            "justify_items": null,
            "left": null,
            "margin": null,
            "max_height": null,
            "max_width": null,
            "min_height": null,
            "min_width": null,
            "object_fit": null,
            "object_position": null,
            "order": null,
            "overflow": null,
            "overflow_x": null,
            "overflow_y": null,
            "padding": null,
            "right": null,
            "top": null,
            "visibility": null,
            "width": null
          }
        },
        "d688f9e3001b4972b4ea4eddc7737939": {
          "model_module": "@jupyter-widgets/controls",
          "model_name": "ProgressStyleModel",
          "model_module_version": "1.5.0",
          "state": {
            "_model_module": "@jupyter-widgets/controls",
            "_model_module_version": "1.5.0",
            "_model_name": "ProgressStyleModel",
            "_view_count": null,
            "_view_module": "@jupyter-widgets/base",
            "_view_module_version": "1.2.0",
            "_view_name": "StyleView",
            "bar_color": null,
            "description_width": ""
          }
        },
        "a4529e753bbe44d5a0eb3f05c581420d": {
          "model_module": "@jupyter-widgets/base",
          "model_name": "LayoutModel",
          "model_module_version": "1.2.0",
          "state": {
            "_model_module": "@jupyter-widgets/base",
            "_model_module_version": "1.2.0",
            "_model_name": "LayoutModel",
            "_view_count": null,
            "_view_module": "@jupyter-widgets/base",
            "_view_module_version": "1.2.0",
            "_view_name": "LayoutView",
            "align_content": null,
            "align_items": null,
            "align_self": null,
            "border": null,
            "bottom": null,
            "display": null,
            "flex": null,
            "flex_flow": null,
            "grid_area": null,
            "grid_auto_columns": null,
            "grid_auto_flow": null,
            "grid_auto_rows": null,
            "grid_column": null,
            "grid_gap": null,
            "grid_row": null,
            "grid_template_areas": null,
            "grid_template_columns": null,
            "grid_template_rows": null,
            "height": null,
            "justify_content": null,
            "justify_items": null,
            "left": null,
            "margin": null,
            "max_height": null,
            "max_width": null,
            "min_height": null,
            "min_width": null,
            "object_fit": null,
            "object_position": null,
            "order": null,
            "overflow": null,
            "overflow_x": null,
            "overflow_y": null,
            "padding": null,
            "right": null,
            "top": null,
            "visibility": null,
            "width": null
          }
        },
        "7968f6ae3053440fbb7312d36a2ca387": {
          "model_module": "@jupyter-widgets/controls",
          "model_name": "DescriptionStyleModel",
          "model_module_version": "1.5.0",
          "state": {
            "_model_module": "@jupyter-widgets/controls",
            "_model_module_version": "1.5.0",
            "_model_name": "DescriptionStyleModel",
            "_view_count": null,
            "_view_module": "@jupyter-widgets/base",
            "_view_module_version": "1.2.0",
            "_view_name": "StyleView",
            "description_width": ""
          }
        },
        "97b8a81872774288955a8998b95bd906": {
          "model_module": "@jupyter-widgets/controls",
          "model_name": "HBoxModel",
          "model_module_version": "1.5.0",
          "state": {
            "_dom_classes": [],
            "_model_module": "@jupyter-widgets/controls",
            "_model_module_version": "1.5.0",
            "_model_name": "HBoxModel",
            "_view_count": null,
            "_view_module": "@jupyter-widgets/controls",
            "_view_module_version": "1.5.0",
            "_view_name": "HBoxView",
            "box_style": "",
            "children": [
              "IPY_MODEL_3a1836fa165b42b3abd44b38b6138fb5",
              "IPY_MODEL_535044090461466fb8cc2333ea6d67d5",
              "IPY_MODEL_e4962a99adfa4083b8db1be59aa03b3d"
            ],
            "layout": "IPY_MODEL_732be820f2d34ceb9c66f8f105b5a8f5"
          }
        },
        "3a1836fa165b42b3abd44b38b6138fb5": {
          "model_module": "@jupyter-widgets/controls",
          "model_name": "HTMLModel",
          "model_module_version": "1.5.0",
          "state": {
            "_dom_classes": [],
            "_model_module": "@jupyter-widgets/controls",
            "_model_module_version": "1.5.0",
            "_model_name": "HTMLModel",
            "_view_count": null,
            "_view_module": "@jupyter-widgets/controls",
            "_view_module_version": "1.5.0",
            "_view_name": "HTMLView",
            "description": "",
            "description_tooltip": null,
            "layout": "IPY_MODEL_76c0330328f342e8876333c91392aa5c",
            "placeholder": "​",
            "style": "IPY_MODEL_b0941b5c870c4a4f9e28f6d0b1c56444",
            "value": "Map: 100%"
          }
        },
        "535044090461466fb8cc2333ea6d67d5": {
          "model_module": "@jupyter-widgets/controls",
          "model_name": "FloatProgressModel",
          "model_module_version": "1.5.0",
          "state": {
            "_dom_classes": [],
            "_model_module": "@jupyter-widgets/controls",
            "_model_module_version": "1.5.0",
            "_model_name": "FloatProgressModel",
            "_view_count": null,
            "_view_module": "@jupyter-widgets/controls",
            "_view_module_version": "1.5.0",
            "_view_name": "ProgressView",
            "bar_style": "success",
            "description": "",
            "description_tooltip": null,
            "layout": "IPY_MODEL_60226322e22a46b5913c15089a95dc11",
            "max": 12049,
            "min": 0,
            "orientation": "horizontal",
            "style": "IPY_MODEL_300ee995982c4c5ea198cecfd1f4bb10",
            "value": 12049
          }
        },
        "e4962a99adfa4083b8db1be59aa03b3d": {
          "model_module": "@jupyter-widgets/controls",
          "model_name": "HTMLModel",
          "model_module_version": "1.5.0",
          "state": {
            "_dom_classes": [],
            "_model_module": "@jupyter-widgets/controls",
            "_model_module_version": "1.5.0",
            "_model_name": "HTMLModel",
            "_view_count": null,
            "_view_module": "@jupyter-widgets/controls",
            "_view_module_version": "1.5.0",
            "_view_name": "HTMLView",
            "description": "",
            "description_tooltip": null,
            "layout": "IPY_MODEL_c81087df84b9426eba9d59c8278b41ea",
            "placeholder": "​",
            "style": "IPY_MODEL_1f6fa47b18944ec49967d19606ea30f8",
            "value": " 12049/12049 [00:10&lt;00:00, 1351.42 examples/s]"
          }
        },
        "732be820f2d34ceb9c66f8f105b5a8f5": {
          "model_module": "@jupyter-widgets/base",
          "model_name": "LayoutModel",
          "model_module_version": "1.2.0",
          "state": {
            "_model_module": "@jupyter-widgets/base",
            "_model_module_version": "1.2.0",
            "_model_name": "LayoutModel",
            "_view_count": null,
            "_view_module": "@jupyter-widgets/base",
            "_view_module_version": "1.2.0",
            "_view_name": "LayoutView",
            "align_content": null,
            "align_items": null,
            "align_self": null,
            "border": null,
            "bottom": null,
            "display": null,
            "flex": null,
            "flex_flow": null,
            "grid_area": null,
            "grid_auto_columns": null,
            "grid_auto_flow": null,
            "grid_auto_rows": null,
            "grid_column": null,
            "grid_gap": null,
            "grid_row": null,
            "grid_template_areas": null,
            "grid_template_columns": null,
            "grid_template_rows": null,
            "height": null,
            "justify_content": null,
            "justify_items": null,
            "left": null,
            "margin": null,
            "max_height": null,
            "max_width": null,
            "min_height": null,
            "min_width": null,
            "object_fit": null,
            "object_position": null,
            "order": null,
            "overflow": null,
            "overflow_x": null,
            "overflow_y": null,
            "padding": null,
            "right": null,
            "top": null,
            "visibility": null,
            "width": null
          }
        },
        "76c0330328f342e8876333c91392aa5c": {
          "model_module": "@jupyter-widgets/base",
          "model_name": "LayoutModel",
          "model_module_version": "1.2.0",
          "state": {
            "_model_module": "@jupyter-widgets/base",
            "_model_module_version": "1.2.0",
            "_model_name": "LayoutModel",
            "_view_count": null,
            "_view_module": "@jupyter-widgets/base",
            "_view_module_version": "1.2.0",
            "_view_name": "LayoutView",
            "align_content": null,
            "align_items": null,
            "align_self": null,
            "border": null,
            "bottom": null,
            "display": null,
            "flex": null,
            "flex_flow": null,
            "grid_area": null,
            "grid_auto_columns": null,
            "grid_auto_flow": null,
            "grid_auto_rows": null,
            "grid_column": null,
            "grid_gap": null,
            "grid_row": null,
            "grid_template_areas": null,
            "grid_template_columns": null,
            "grid_template_rows": null,
            "height": null,
            "justify_content": null,
            "justify_items": null,
            "left": null,
            "margin": null,
            "max_height": null,
            "max_width": null,
            "min_height": null,
            "min_width": null,
            "object_fit": null,
            "object_position": null,
            "order": null,
            "overflow": null,
            "overflow_x": null,
            "overflow_y": null,
            "padding": null,
            "right": null,
            "top": null,
            "visibility": null,
            "width": null
          }
        },
        "b0941b5c870c4a4f9e28f6d0b1c56444": {
          "model_module": "@jupyter-widgets/controls",
          "model_name": "DescriptionStyleModel",
          "model_module_version": "1.5.0",
          "state": {
            "_model_module": "@jupyter-widgets/controls",
            "_model_module_version": "1.5.0",
            "_model_name": "DescriptionStyleModel",
            "_view_count": null,
            "_view_module": "@jupyter-widgets/base",
            "_view_module_version": "1.2.0",
            "_view_name": "StyleView",
            "description_width": ""
          }
        },
        "60226322e22a46b5913c15089a95dc11": {
          "model_module": "@jupyter-widgets/base",
          "model_name": "LayoutModel",
          "model_module_version": "1.2.0",
          "state": {
            "_model_module": "@jupyter-widgets/base",
            "_model_module_version": "1.2.0",
            "_model_name": "LayoutModel",
            "_view_count": null,
            "_view_module": "@jupyter-widgets/base",
            "_view_module_version": "1.2.0",
            "_view_name": "LayoutView",
            "align_content": null,
            "align_items": null,
            "align_self": null,
            "border": null,
            "bottom": null,
            "display": null,
            "flex": null,
            "flex_flow": null,
            "grid_area": null,
            "grid_auto_columns": null,
            "grid_auto_flow": null,
            "grid_auto_rows": null,
            "grid_column": null,
            "grid_gap": null,
            "grid_row": null,
            "grid_template_areas": null,
            "grid_template_columns": null,
            "grid_template_rows": null,
            "height": null,
            "justify_content": null,
            "justify_items": null,
            "left": null,
            "margin": null,
            "max_height": null,
            "max_width": null,
            "min_height": null,
            "min_width": null,
            "object_fit": null,
            "object_position": null,
            "order": null,
            "overflow": null,
            "overflow_x": null,
            "overflow_y": null,
            "padding": null,
            "right": null,
            "top": null,
            "visibility": null,
            "width": null
          }
        },
        "300ee995982c4c5ea198cecfd1f4bb10": {
          "model_module": "@jupyter-widgets/controls",
          "model_name": "ProgressStyleModel",
          "model_module_version": "1.5.0",
          "state": {
            "_model_module": "@jupyter-widgets/controls",
            "_model_module_version": "1.5.0",
            "_model_name": "ProgressStyleModel",
            "_view_count": null,
            "_view_module": "@jupyter-widgets/base",
            "_view_module_version": "1.2.0",
            "_view_name": "StyleView",
            "bar_color": null,
            "description_width": ""
          }
        },
        "c81087df84b9426eba9d59c8278b41ea": {
          "model_module": "@jupyter-widgets/base",
          "model_name": "LayoutModel",
          "model_module_version": "1.2.0",
          "state": {
            "_model_module": "@jupyter-widgets/base",
            "_model_module_version": "1.2.0",
            "_model_name": "LayoutModel",
            "_view_count": null,
            "_view_module": "@jupyter-widgets/base",
            "_view_module_version": "1.2.0",
            "_view_name": "LayoutView",
            "align_content": null,
            "align_items": null,
            "align_self": null,
            "border": null,
            "bottom": null,
            "display": null,
            "flex": null,
            "flex_flow": null,
            "grid_area": null,
            "grid_auto_columns": null,
            "grid_auto_flow": null,
            "grid_auto_rows": null,
            "grid_column": null,
            "grid_gap": null,
            "grid_row": null,
            "grid_template_areas": null,
            "grid_template_columns": null,
            "grid_template_rows": null,
            "height": null,
            "justify_content": null,
            "justify_items": null,
            "left": null,
            "margin": null,
            "max_height": null,
            "max_width": null,
            "min_height": null,
            "min_width": null,
            "object_fit": null,
            "object_position": null,
            "order": null,
            "overflow": null,
            "overflow_x": null,
            "overflow_y": null,
            "padding": null,
            "right": null,
            "top": null,
            "visibility": null,
            "width": null
          }
        },
        "1f6fa47b18944ec49967d19606ea30f8": {
          "model_module": "@jupyter-widgets/controls",
          "model_name": "DescriptionStyleModel",
          "model_module_version": "1.5.0",
          "state": {
            "_model_module": "@jupyter-widgets/controls",
            "_model_module_version": "1.5.0",
            "_model_name": "DescriptionStyleModel",
            "_view_count": null,
            "_view_module": "@jupyter-widgets/base",
            "_view_module_version": "1.2.0",
            "_view_name": "StyleView",
            "description_width": ""
          }
        },
        "37ac6f35651e4ceabc0c971ca5884735": {
          "model_module": "@jupyter-widgets/controls",
          "model_name": "HBoxModel",
          "model_module_version": "1.5.0",
          "state": {
            "_dom_classes": [],
            "_model_module": "@jupyter-widgets/controls",
            "_model_module_version": "1.5.0",
            "_model_name": "HBoxModel",
            "_view_count": null,
            "_view_module": "@jupyter-widgets/controls",
            "_view_module_version": "1.5.0",
            "_view_name": "HBoxView",
            "box_style": "",
            "children": [
              "IPY_MODEL_9706bf00e6914596aeac044d4afb2dbb",
              "IPY_MODEL_b60ffa4a69f6450c8bc77dee20bf74de",
              "IPY_MODEL_ceffebf5368b42539360449f6ee30f7a"
            ],
            "layout": "IPY_MODEL_25437ba2eb044353b0ca49ed75e88e28"
          }
        },
        "9706bf00e6914596aeac044d4afb2dbb": {
          "model_module": "@jupyter-widgets/controls",
          "model_name": "HTMLModel",
          "model_module_version": "1.5.0",
          "state": {
            "_dom_classes": [],
            "_model_module": "@jupyter-widgets/controls",
            "_model_module_version": "1.5.0",
            "_model_name": "HTMLModel",
            "_view_count": null,
            "_view_module": "@jupyter-widgets/controls",
            "_view_module_version": "1.5.0",
            "_view_name": "HTMLView",
            "description": "",
            "description_tooltip": null,
            "layout": "IPY_MODEL_9fe03c96b84344deaf115fb480945375",
            "placeholder": "​",
            "style": "IPY_MODEL_770aeb093fdf495fa9d70de524588283",
            "value": "Map: 100%"
          }
        },
        "b60ffa4a69f6450c8bc77dee20bf74de": {
          "model_module": "@jupyter-widgets/controls",
          "model_name": "FloatProgressModel",
          "model_module_version": "1.5.0",
          "state": {
            "_dom_classes": [],
            "_model_module": "@jupyter-widgets/controls",
            "_model_module_version": "1.5.0",
            "_model_name": "FloatProgressModel",
            "_view_count": null,
            "_view_module": "@jupyter-widgets/controls",
            "_view_module_version": "1.5.0",
            "_view_name": "ProgressView",
            "bar_style": "success",
            "description": "",
            "description_tooltip": null,
            "layout": "IPY_MODEL_e24595f845c042e288740de76eae4bff",
            "max": 3013,
            "min": 0,
            "orientation": "horizontal",
            "style": "IPY_MODEL_ec24c0d15447414bb22152c283ce9d62",
            "value": 3013
          }
        },
        "ceffebf5368b42539360449f6ee30f7a": {
          "model_module": "@jupyter-widgets/controls",
          "model_name": "HTMLModel",
          "model_module_version": "1.5.0",
          "state": {
            "_dom_classes": [],
            "_model_module": "@jupyter-widgets/controls",
            "_model_module_version": "1.5.0",
            "_model_name": "HTMLModel",
            "_view_count": null,
            "_view_module": "@jupyter-widgets/controls",
            "_view_module_version": "1.5.0",
            "_view_name": "HTMLView",
            "description": "",
            "description_tooltip": null,
            "layout": "IPY_MODEL_761331710cb64cb2b8067fcf2d880e49",
            "placeholder": "​",
            "style": "IPY_MODEL_1a4fb66838944fddadbe519650435d43",
            "value": " 3013/3013 [00:02&lt;00:00, 1268.84 examples/s]"
          }
        },
        "25437ba2eb044353b0ca49ed75e88e28": {
          "model_module": "@jupyter-widgets/base",
          "model_name": "LayoutModel",
          "model_module_version": "1.2.0",
          "state": {
            "_model_module": "@jupyter-widgets/base",
            "_model_module_version": "1.2.0",
            "_model_name": "LayoutModel",
            "_view_count": null,
            "_view_module": "@jupyter-widgets/base",
            "_view_module_version": "1.2.0",
            "_view_name": "LayoutView",
            "align_content": null,
            "align_items": null,
            "align_self": null,
            "border": null,
            "bottom": null,
            "display": null,
            "flex": null,
            "flex_flow": null,
            "grid_area": null,
            "grid_auto_columns": null,
            "grid_auto_flow": null,
            "grid_auto_rows": null,
            "grid_column": null,
            "grid_gap": null,
            "grid_row": null,
            "grid_template_areas": null,
            "grid_template_columns": null,
            "grid_template_rows": null,
            "height": null,
            "justify_content": null,
            "justify_items": null,
            "left": null,
            "margin": null,
            "max_height": null,
            "max_width": null,
            "min_height": null,
            "min_width": null,
            "object_fit": null,
            "object_position": null,
            "order": null,
            "overflow": null,
            "overflow_x": null,
            "overflow_y": null,
            "padding": null,
            "right": null,
            "top": null,
            "visibility": null,
            "width": null
          }
        },
        "9fe03c96b84344deaf115fb480945375": {
          "model_module": "@jupyter-widgets/base",
          "model_name": "LayoutModel",
          "model_module_version": "1.2.0",
          "state": {
            "_model_module": "@jupyter-widgets/base",
            "_model_module_version": "1.2.0",
            "_model_name": "LayoutModel",
            "_view_count": null,
            "_view_module": "@jupyter-widgets/base",
            "_view_module_version": "1.2.0",
            "_view_name": "LayoutView",
            "align_content": null,
            "align_items": null,
            "align_self": null,
            "border": null,
            "bottom": null,
            "display": null,
            "flex": null,
            "flex_flow": null,
            "grid_area": null,
            "grid_auto_columns": null,
            "grid_auto_flow": null,
            "grid_auto_rows": null,
            "grid_column": null,
            "grid_gap": null,
            "grid_row": null,
            "grid_template_areas": null,
            "grid_template_columns": null,
            "grid_template_rows": null,
            "height": null,
            "justify_content": null,
            "justify_items": null,
            "left": null,
            "margin": null,
            "max_height": null,
            "max_width": null,
            "min_height": null,
            "min_width": null,
            "object_fit": null,
            "object_position": null,
            "order": null,
            "overflow": null,
            "overflow_x": null,
            "overflow_y": null,
            "padding": null,
            "right": null,
            "top": null,
            "visibility": null,
            "width": null
          }
        },
        "770aeb093fdf495fa9d70de524588283": {
          "model_module": "@jupyter-widgets/controls",
          "model_name": "DescriptionStyleModel",
          "model_module_version": "1.5.0",
          "state": {
            "_model_module": "@jupyter-widgets/controls",
            "_model_module_version": "1.5.0",
            "_model_name": "DescriptionStyleModel",
            "_view_count": null,
            "_view_module": "@jupyter-widgets/base",
            "_view_module_version": "1.2.0",
            "_view_name": "StyleView",
            "description_width": ""
          }
        },
        "e24595f845c042e288740de76eae4bff": {
          "model_module": "@jupyter-widgets/base",
          "model_name": "LayoutModel",
          "model_module_version": "1.2.0",
          "state": {
            "_model_module": "@jupyter-widgets/base",
            "_model_module_version": "1.2.0",
            "_model_name": "LayoutModel",
            "_view_count": null,
            "_view_module": "@jupyter-widgets/base",
            "_view_module_version": "1.2.0",
            "_view_name": "LayoutView",
            "align_content": null,
            "align_items": null,
            "align_self": null,
            "border": null,
            "bottom": null,
            "display": null,
            "flex": null,
            "flex_flow": null,
            "grid_area": null,
            "grid_auto_columns": null,
            "grid_auto_flow": null,
            "grid_auto_rows": null,
            "grid_column": null,
            "grid_gap": null,
            "grid_row": null,
            "grid_template_areas": null,
            "grid_template_columns": null,
            "grid_template_rows": null,
            "height": null,
            "justify_content": null,
            "justify_items": null,
            "left": null,
            "margin": null,
            "max_height": null,
            "max_width": null,
            "min_height": null,
            "min_width": null,
            "object_fit": null,
            "object_position": null,
            "order": null,
            "overflow": null,
            "overflow_x": null,
            "overflow_y": null,
            "padding": null,
            "right": null,
            "top": null,
            "visibility": null,
            "width": null
          }
        },
        "ec24c0d15447414bb22152c283ce9d62": {
          "model_module": "@jupyter-widgets/controls",
          "model_name": "ProgressStyleModel",
          "model_module_version": "1.5.0",
          "state": {
            "_model_module": "@jupyter-widgets/controls",
            "_model_module_version": "1.5.0",
            "_model_name": "ProgressStyleModel",
            "_view_count": null,
            "_view_module": "@jupyter-widgets/base",
            "_view_module_version": "1.2.0",
            "_view_name": "StyleView",
            "bar_color": null,
            "description_width": ""
          }
        },
        "761331710cb64cb2b8067fcf2d880e49": {
          "model_module": "@jupyter-widgets/base",
          "model_name": "LayoutModel",
          "model_module_version": "1.2.0",
          "state": {
            "_model_module": "@jupyter-widgets/base",
            "_model_module_version": "1.2.0",
            "_model_name": "LayoutModel",
            "_view_count": null,
            "_view_module": "@jupyter-widgets/base",
            "_view_module_version": "1.2.0",
            "_view_name": "LayoutView",
            "align_content": null,
            "align_items": null,
            "align_self": null,
            "border": null,
            "bottom": null,
            "display": null,
            "flex": null,
            "flex_flow": null,
            "grid_area": null,
            "grid_auto_columns": null,
            "grid_auto_flow": null,
            "grid_auto_rows": null,
            "grid_column": null,
            "grid_gap": null,
            "grid_row": null,
            "grid_template_areas": null,
            "grid_template_columns": null,
            "grid_template_rows": null,
            "height": null,
            "justify_content": null,
            "justify_items": null,
            "left": null,
            "margin": null,
            "max_height": null,
            "max_width": null,
            "min_height": null,
            "min_width": null,
            "object_fit": null,
            "object_position": null,
            "order": null,
            "overflow": null,
            "overflow_x": null,
            "overflow_y": null,
            "padding": null,
            "right": null,
            "top": null,
            "visibility": null,
            "width": null
          }
        },
        "1a4fb66838944fddadbe519650435d43": {
          "model_module": "@jupyter-widgets/controls",
          "model_name": "DescriptionStyleModel",
          "model_module_version": "1.5.0",
          "state": {
            "_model_module": "@jupyter-widgets/controls",
            "_model_module_version": "1.5.0",
            "_model_name": "DescriptionStyleModel",
            "_view_count": null,
            "_view_module": "@jupyter-widgets/base",
            "_view_module_version": "1.2.0",
            "_view_name": "StyleView",
            "description_width": ""
          }
        },
        "c6a73c24a0f04d6288cb9e8ebe83777c": {
          "model_module": "@jupyter-widgets/controls",
          "model_name": "HBoxModel",
          "model_module_version": "1.5.0",
          "state": {
            "_dom_classes": [],
            "_model_module": "@jupyter-widgets/controls",
            "_model_module_version": "1.5.0",
            "_model_name": "HBoxModel",
            "_view_count": null,
            "_view_module": "@jupyter-widgets/controls",
            "_view_module_version": "1.5.0",
            "_view_name": "HBoxView",
            "box_style": "",
            "children": [
              "IPY_MODEL_d14195586af04432952bd41592af9577",
              "IPY_MODEL_a4bf8131f12e40bab4d76a3513f7ed69",
              "IPY_MODEL_ad991d8fa1224540954e18e90f4ee69c"
            ],
            "layout": "IPY_MODEL_1d2457656bd04a25ad03672998a6d87d"
          }
        },
        "d14195586af04432952bd41592af9577": {
          "model_module": "@jupyter-widgets/controls",
          "model_name": "HTMLModel",
          "model_module_version": "1.5.0",
          "state": {
            "_dom_classes": [],
            "_model_module": "@jupyter-widgets/controls",
            "_model_module_version": "1.5.0",
            "_model_name": "HTMLModel",
            "_view_count": null,
            "_view_module": "@jupyter-widgets/controls",
            "_view_module_version": "1.5.0",
            "_view_name": "HTMLView",
            "description": "",
            "description_tooltip": null,
            "layout": "IPY_MODEL_30b62a6a28f2427591c55eb37c68b77b",
            "placeholder": "​",
            "style": "IPY_MODEL_42a88f0ad70a4e2499c833eb0dc69518",
            "value": "Map: 100%"
          }
        },
        "a4bf8131f12e40bab4d76a3513f7ed69": {
          "model_module": "@jupyter-widgets/controls",
          "model_name": "FloatProgressModel",
          "model_module_version": "1.5.0",
          "state": {
            "_dom_classes": [],
            "_model_module": "@jupyter-widgets/controls",
            "_model_module_version": "1.5.0",
            "_model_name": "FloatProgressModel",
            "_view_count": null,
            "_view_module": "@jupyter-widgets/controls",
            "_view_module_version": "1.5.0",
            "_view_name": "ProgressView",
            "bar_style": "success",
            "description": "",
            "description_tooltip": null,
            "layout": "IPY_MODEL_4b063466a04e4aaf9b5ce0301452ecad",
            "max": 3766,
            "min": 0,
            "orientation": "horizontal",
            "style": "IPY_MODEL_cd275fb7dce8471abf37011d0d2497a9",
            "value": 3766
          }
        },
        "ad991d8fa1224540954e18e90f4ee69c": {
          "model_module": "@jupyter-widgets/controls",
          "model_name": "HTMLModel",
          "model_module_version": "1.5.0",
          "state": {
            "_dom_classes": [],
            "_model_module": "@jupyter-widgets/controls",
            "_model_module_version": "1.5.0",
            "_model_name": "HTMLModel",
            "_view_count": null,
            "_view_module": "@jupyter-widgets/controls",
            "_view_module_version": "1.5.0",
            "_view_name": "HTMLView",
            "description": "",
            "description_tooltip": null,
            "layout": "IPY_MODEL_236b634fbcda4f2d846c051095d95d9e",
            "placeholder": "​",
            "style": "IPY_MODEL_8f1f170f76ba4e419806ebdb02207f03",
            "value": " 3766/3766 [00:04&lt;00:00, 866.91 examples/s]"
          }
        },
        "1d2457656bd04a25ad03672998a6d87d": {
          "model_module": "@jupyter-widgets/base",
          "model_name": "LayoutModel",
          "model_module_version": "1.2.0",
          "state": {
            "_model_module": "@jupyter-widgets/base",
            "_model_module_version": "1.2.0",
            "_model_name": "LayoutModel",
            "_view_count": null,
            "_view_module": "@jupyter-widgets/base",
            "_view_module_version": "1.2.0",
            "_view_name": "LayoutView",
            "align_content": null,
            "align_items": null,
            "align_self": null,
            "border": null,
            "bottom": null,
            "display": null,
            "flex": null,
            "flex_flow": null,
            "grid_area": null,
            "grid_auto_columns": null,
            "grid_auto_flow": null,
            "grid_auto_rows": null,
            "grid_column": null,
            "grid_gap": null,
            "grid_row": null,
            "grid_template_areas": null,
            "grid_template_columns": null,
            "grid_template_rows": null,
            "height": null,
            "justify_content": null,
            "justify_items": null,
            "left": null,
            "margin": null,
            "max_height": null,
            "max_width": null,
            "min_height": null,
            "min_width": null,
            "object_fit": null,
            "object_position": null,
            "order": null,
            "overflow": null,
            "overflow_x": null,
            "overflow_y": null,
            "padding": null,
            "right": null,
            "top": null,
            "visibility": null,
            "width": null
          }
        },
        "30b62a6a28f2427591c55eb37c68b77b": {
          "model_module": "@jupyter-widgets/base",
          "model_name": "LayoutModel",
          "model_module_version": "1.2.0",
          "state": {
            "_model_module": "@jupyter-widgets/base",
            "_model_module_version": "1.2.0",
            "_model_name": "LayoutModel",
            "_view_count": null,
            "_view_module": "@jupyter-widgets/base",
            "_view_module_version": "1.2.0",
            "_view_name": "LayoutView",
            "align_content": null,
            "align_items": null,
            "align_self": null,
            "border": null,
            "bottom": null,
            "display": null,
            "flex": null,
            "flex_flow": null,
            "grid_area": null,
            "grid_auto_columns": null,
            "grid_auto_flow": null,
            "grid_auto_rows": null,
            "grid_column": null,
            "grid_gap": null,
            "grid_row": null,
            "grid_template_areas": null,
            "grid_template_columns": null,
            "grid_template_rows": null,
            "height": null,
            "justify_content": null,
            "justify_items": null,
            "left": null,
            "margin": null,
            "max_height": null,
            "max_width": null,
            "min_height": null,
            "min_width": null,
            "object_fit": null,
            "object_position": null,
            "order": null,
            "overflow": null,
            "overflow_x": null,
            "overflow_y": null,
            "padding": null,
            "right": null,
            "top": null,
            "visibility": null,
            "width": null
          }
        },
        "42a88f0ad70a4e2499c833eb0dc69518": {
          "model_module": "@jupyter-widgets/controls",
          "model_name": "DescriptionStyleModel",
          "model_module_version": "1.5.0",
          "state": {
            "_model_module": "@jupyter-widgets/controls",
            "_model_module_version": "1.5.0",
            "_model_name": "DescriptionStyleModel",
            "_view_count": null,
            "_view_module": "@jupyter-widgets/base",
            "_view_module_version": "1.2.0",
            "_view_name": "StyleView",
            "description_width": ""
          }
        },
        "4b063466a04e4aaf9b5ce0301452ecad": {
          "model_module": "@jupyter-widgets/base",
          "model_name": "LayoutModel",
          "model_module_version": "1.2.0",
          "state": {
            "_model_module": "@jupyter-widgets/base",
            "_model_module_version": "1.2.0",
            "_model_name": "LayoutModel",
            "_view_count": null,
            "_view_module": "@jupyter-widgets/base",
            "_view_module_version": "1.2.0",
            "_view_name": "LayoutView",
            "align_content": null,
            "align_items": null,
            "align_self": null,
            "border": null,
            "bottom": null,
            "display": null,
            "flex": null,
            "flex_flow": null,
            "grid_area": null,
            "grid_auto_columns": null,
            "grid_auto_flow": null,
            "grid_auto_rows": null,
            "grid_column": null,
            "grid_gap": null,
            "grid_row": null,
            "grid_template_areas": null,
            "grid_template_columns": null,
            "grid_template_rows": null,
            "height": null,
            "justify_content": null,
            "justify_items": null,
            "left": null,
            "margin": null,
            "max_height": null,
            "max_width": null,
            "min_height": null,
            "min_width": null,
            "object_fit": null,
            "object_position": null,
            "order": null,
            "overflow": null,
            "overflow_x": null,
            "overflow_y": null,
            "padding": null,
            "right": null,
            "top": null,
            "visibility": null,
            "width": null
          }
        },
        "cd275fb7dce8471abf37011d0d2497a9": {
          "model_module": "@jupyter-widgets/controls",
          "model_name": "ProgressStyleModel",
          "model_module_version": "1.5.0",
          "state": {
            "_model_module": "@jupyter-widgets/controls",
            "_model_module_version": "1.5.0",
            "_model_name": "ProgressStyleModel",
            "_view_count": null,
            "_view_module": "@jupyter-widgets/base",
            "_view_module_version": "1.2.0",
            "_view_name": "StyleView",
            "bar_color": null,
            "description_width": ""
          }
        },
        "236b634fbcda4f2d846c051095d95d9e": {
          "model_module": "@jupyter-widgets/base",
          "model_name": "LayoutModel",
          "model_module_version": "1.2.0",
          "state": {
            "_model_module": "@jupyter-widgets/base",
            "_model_module_version": "1.2.0",
            "_model_name": "LayoutModel",
            "_view_count": null,
            "_view_module": "@jupyter-widgets/base",
            "_view_module_version": "1.2.0",
            "_view_name": "LayoutView",
            "align_content": null,
            "align_items": null,
            "align_self": null,
            "border": null,
            "bottom": null,
            "display": null,
            "flex": null,
            "flex_flow": null,
            "grid_area": null,
            "grid_auto_columns": null,
            "grid_auto_flow": null,
            "grid_auto_rows": null,
            "grid_column": null,
            "grid_gap": null,
            "grid_row": null,
            "grid_template_areas": null,
            "grid_template_columns": null,
            "grid_template_rows": null,
            "height": null,
            "justify_content": null,
            "justify_items": null,
            "left": null,
            "margin": null,
            "max_height": null,
            "max_width": null,
            "min_height": null,
            "min_width": null,
            "object_fit": null,
            "object_position": null,
            "order": null,
            "overflow": null,
            "overflow_x": null,
            "overflow_y": null,
            "padding": null,
            "right": null,
            "top": null,
            "visibility": null,
            "width": null
          }
        },
        "8f1f170f76ba4e419806ebdb02207f03": {
          "model_module": "@jupyter-widgets/controls",
          "model_name": "DescriptionStyleModel",
          "model_module_version": "1.5.0",
          "state": {
            "_model_module": "@jupyter-widgets/controls",
            "_model_module_version": "1.5.0",
            "_model_name": "DescriptionStyleModel",
            "_view_count": null,
            "_view_module": "@jupyter-widgets/base",
            "_view_module_version": "1.2.0",
            "_view_name": "StyleView",
            "description_width": ""
          }
        },
        "1276a2ce31774cd082a196c8a897f562": {
          "model_module": "@jupyter-widgets/controls",
          "model_name": "HBoxModel",
          "model_module_version": "1.5.0",
          "state": {
            "_dom_classes": [],
            "_model_module": "@jupyter-widgets/controls",
            "_model_module_version": "1.5.0",
            "_model_name": "HBoxModel",
            "_view_count": null,
            "_view_module": "@jupyter-widgets/controls",
            "_view_module_version": "1.5.0",
            "_view_name": "HBoxView",
            "box_style": "",
            "children": [
              "IPY_MODEL_eacfd6c0a17f457d85221f66a380a424",
              "IPY_MODEL_5186132e63b048c0a317a609125ec6cf",
              "IPY_MODEL_dd348a4c3cae4c61a9075195eaab5ce3"
            ],
            "layout": "IPY_MODEL_493246b0fd884d4abfa0fc7e24a4d60b"
          }
        },
        "eacfd6c0a17f457d85221f66a380a424": {
          "model_module": "@jupyter-widgets/controls",
          "model_name": "HTMLModel",
          "model_module_version": "1.5.0",
          "state": {
            "_dom_classes": [],
            "_model_module": "@jupyter-widgets/controls",
            "_model_module_version": "1.5.0",
            "_model_name": "HTMLModel",
            "_view_count": null,
            "_view_module": "@jupyter-widgets/controls",
            "_view_module_version": "1.5.0",
            "_view_name": "HTMLView",
            "description": "",
            "description_tooltip": null,
            "layout": "IPY_MODEL_f6d3d409afa64760a834ee15518f1007",
            "placeholder": "​",
            "style": "IPY_MODEL_4618ce6c13f34f99ae7f395a772867d3",
            "value": "config.json: 100%"
          }
        },
        "5186132e63b048c0a317a609125ec6cf": {
          "model_module": "@jupyter-widgets/controls",
          "model_name": "FloatProgressModel",
          "model_module_version": "1.5.0",
          "state": {
            "_dom_classes": [],
            "_model_module": "@jupyter-widgets/controls",
            "_model_module_version": "1.5.0",
            "_model_name": "FloatProgressModel",
            "_view_count": null,
            "_view_module": "@jupyter-widgets/controls",
            "_view_module_version": "1.5.0",
            "_view_name": "ProgressView",
            "bar_style": "success",
            "description": "",
            "description_tooltip": null,
            "layout": "IPY_MODEL_6bf44e16b5ac4d428a62904d49548e40",
            "max": 760,
            "min": 0,
            "orientation": "horizontal",
            "style": "IPY_MODEL_255fee846e6e4366bb62e68eed299deb",
            "value": 760
          }
        },
        "dd348a4c3cae4c61a9075195eaab5ce3": {
          "model_module": "@jupyter-widgets/controls",
          "model_name": "HTMLModel",
          "model_module_version": "1.5.0",
          "state": {
            "_dom_classes": [],
            "_model_module": "@jupyter-widgets/controls",
            "_model_module_version": "1.5.0",
            "_model_name": "HTMLModel",
            "_view_count": null,
            "_view_module": "@jupyter-widgets/controls",
            "_view_module_version": "1.5.0",
            "_view_name": "HTMLView",
            "description": "",
            "description_tooltip": null,
            "layout": "IPY_MODEL_b689bd59a3234c9790a1e1f86146cb7d",
            "placeholder": "​",
            "style": "IPY_MODEL_52a77a930fd04f43a23de1f8eb88990c",
            "value": " 760/760 [00:00&lt;00:00, 53.8kB/s]"
          }
        },
        "493246b0fd884d4abfa0fc7e24a4d60b": {
          "model_module": "@jupyter-widgets/base",
          "model_name": "LayoutModel",
          "model_module_version": "1.2.0",
          "state": {
            "_model_module": "@jupyter-widgets/base",
            "_model_module_version": "1.2.0",
            "_model_name": "LayoutModel",
            "_view_count": null,
            "_view_module": "@jupyter-widgets/base",
            "_view_module_version": "1.2.0",
            "_view_name": "LayoutView",
            "align_content": null,
            "align_items": null,
            "align_self": null,
            "border": null,
            "bottom": null,
            "display": null,
            "flex": null,
            "flex_flow": null,
            "grid_area": null,
            "grid_auto_columns": null,
            "grid_auto_flow": null,
            "grid_auto_rows": null,
            "grid_column": null,
            "grid_gap": null,
            "grid_row": null,
            "grid_template_areas": null,
            "grid_template_columns": null,
            "grid_template_rows": null,
            "height": null,
            "justify_content": null,
            "justify_items": null,
            "left": null,
            "margin": null,
            "max_height": null,
            "max_width": null,
            "min_height": null,
            "min_width": null,
            "object_fit": null,
            "object_position": null,
            "order": null,
            "overflow": null,
            "overflow_x": null,
            "overflow_y": null,
            "padding": null,
            "right": null,
            "top": null,
            "visibility": null,
            "width": null
          }
        },
        "f6d3d409afa64760a834ee15518f1007": {
          "model_module": "@jupyter-widgets/base",
          "model_name": "LayoutModel",
          "model_module_version": "1.2.0",
          "state": {
            "_model_module": "@jupyter-widgets/base",
            "_model_module_version": "1.2.0",
            "_model_name": "LayoutModel",
            "_view_count": null,
            "_view_module": "@jupyter-widgets/base",
            "_view_module_version": "1.2.0",
            "_view_name": "LayoutView",
            "align_content": null,
            "align_items": null,
            "align_self": null,
            "border": null,
            "bottom": null,
            "display": null,
            "flex": null,
            "flex_flow": null,
            "grid_area": null,
            "grid_auto_columns": null,
            "grid_auto_flow": null,
            "grid_auto_rows": null,
            "grid_column": null,
            "grid_gap": null,
            "grid_row": null,
            "grid_template_areas": null,
            "grid_template_columns": null,
            "grid_template_rows": null,
            "height": null,
            "justify_content": null,
            "justify_items": null,
            "left": null,
            "margin": null,
            "max_height": null,
            "max_width": null,
            "min_height": null,
            "min_width": null,
            "object_fit": null,
            "object_position": null,
            "order": null,
            "overflow": null,
            "overflow_x": null,
            "overflow_y": null,
            "padding": null,
            "right": null,
            "top": null,
            "visibility": null,
            "width": null
          }
        },
        "4618ce6c13f34f99ae7f395a772867d3": {
          "model_module": "@jupyter-widgets/controls",
          "model_name": "DescriptionStyleModel",
          "model_module_version": "1.5.0",
          "state": {
            "_model_module": "@jupyter-widgets/controls",
            "_model_module_version": "1.5.0",
            "_model_name": "DescriptionStyleModel",
            "_view_count": null,
            "_view_module": "@jupyter-widgets/base",
            "_view_module_version": "1.2.0",
            "_view_name": "StyleView",
            "description_width": ""
          }
        },
        "6bf44e16b5ac4d428a62904d49548e40": {
          "model_module": "@jupyter-widgets/base",
          "model_name": "LayoutModel",
          "model_module_version": "1.2.0",
          "state": {
            "_model_module": "@jupyter-widgets/base",
            "_model_module_version": "1.2.0",
            "_model_name": "LayoutModel",
            "_view_count": null,
            "_view_module": "@jupyter-widgets/base",
            "_view_module_version": "1.2.0",
            "_view_name": "LayoutView",
            "align_content": null,
            "align_items": null,
            "align_self": null,
            "border": null,
            "bottom": null,
            "display": null,
            "flex": null,
            "flex_flow": null,
            "grid_area": null,
            "grid_auto_columns": null,
            "grid_auto_flow": null,
            "grid_auto_rows": null,
            "grid_column": null,
            "grid_gap": null,
            "grid_row": null,
            "grid_template_areas": null,
            "grid_template_columns": null,
            "grid_template_rows": null,
            "height": null,
            "justify_content": null,
            "justify_items": null,
            "left": null,
            "margin": null,
            "max_height": null,
            "max_width": null,
            "min_height": null,
            "min_width": null,
            "object_fit": null,
            "object_position": null,
            "order": null,
            "overflow": null,
            "overflow_x": null,
            "overflow_y": null,
            "padding": null,
            "right": null,
            "top": null,
            "visibility": null,
            "width": null
          }
        },
        "255fee846e6e4366bb62e68eed299deb": {
          "model_module": "@jupyter-widgets/controls",
          "model_name": "ProgressStyleModel",
          "model_module_version": "1.5.0",
          "state": {
            "_model_module": "@jupyter-widgets/controls",
            "_model_module_version": "1.5.0",
            "_model_name": "ProgressStyleModel",
            "_view_count": null,
            "_view_module": "@jupyter-widgets/base",
            "_view_module_version": "1.2.0",
            "_view_name": "StyleView",
            "bar_color": null,
            "description_width": ""
          }
        },
        "b689bd59a3234c9790a1e1f86146cb7d": {
          "model_module": "@jupyter-widgets/base",
          "model_name": "LayoutModel",
          "model_module_version": "1.2.0",
          "state": {
            "_model_module": "@jupyter-widgets/base",
            "_model_module_version": "1.2.0",
            "_model_name": "LayoutModel",
            "_view_count": null,
            "_view_module": "@jupyter-widgets/base",
            "_view_module_version": "1.2.0",
            "_view_name": "LayoutView",
            "align_content": null,
            "align_items": null,
            "align_self": null,
            "border": null,
            "bottom": null,
            "display": null,
            "flex": null,
            "flex_flow": null,
            "grid_area": null,
            "grid_auto_columns": null,
            "grid_auto_flow": null,
            "grid_auto_rows": null,
            "grid_column": null,
            "grid_gap": null,
            "grid_row": null,
            "grid_template_areas": null,
            "grid_template_columns": null,
            "grid_template_rows": null,
            "height": null,
            "justify_content": null,
            "justify_items": null,
            "left": null,
            "margin": null,
            "max_height": null,
            "max_width": null,
            "min_height": null,
            "min_width": null,
            "object_fit": null,
            "object_position": null,
            "order": null,
            "overflow": null,
            "overflow_x": null,
            "overflow_y": null,
            "padding": null,
            "right": null,
            "top": null,
            "visibility": null,
            "width": null
          }
        },
        "52a77a930fd04f43a23de1f8eb88990c": {
          "model_module": "@jupyter-widgets/controls",
          "model_name": "DescriptionStyleModel",
          "model_module_version": "1.5.0",
          "state": {
            "_model_module": "@jupyter-widgets/controls",
            "_model_module_version": "1.5.0",
            "_model_name": "DescriptionStyleModel",
            "_view_count": null,
            "_view_module": "@jupyter-widgets/base",
            "_view_module_version": "1.2.0",
            "_view_name": "StyleView",
            "description_width": ""
          }
        },
        "344adfecda1245818e512a823b408481": {
          "model_module": "@jupyter-widgets/controls",
          "model_name": "HBoxModel",
          "model_module_version": "1.5.0",
          "state": {
            "_dom_classes": [],
            "_model_module": "@jupyter-widgets/controls",
            "_model_module_version": "1.5.0",
            "_model_name": "HBoxModel",
            "_view_count": null,
            "_view_module": "@jupyter-widgets/controls",
            "_view_module_version": "1.5.0",
            "_view_name": "HBoxView",
            "box_style": "",
            "children": [
              "IPY_MODEL_c69f72ccbd764fee9869f791afabc5ef",
              "IPY_MODEL_d20813eade6b441da64a9f11fd3efe58",
              "IPY_MODEL_f9e980af64c248dbb731518bd0eed12c"
            ],
            "layout": "IPY_MODEL_cde56f304d68400db2f3134e9f2d5678"
          }
        },
        "c69f72ccbd764fee9869f791afabc5ef": {
          "model_module": "@jupyter-widgets/controls",
          "model_name": "HTMLModel",
          "model_module_version": "1.5.0",
          "state": {
            "_dom_classes": [],
            "_model_module": "@jupyter-widgets/controls",
            "_model_module_version": "1.5.0",
            "_model_name": "HTMLModel",
            "_view_count": null,
            "_view_module": "@jupyter-widgets/controls",
            "_view_module_version": "1.5.0",
            "_view_name": "HTMLView",
            "description": "",
            "description_tooltip": null,
            "layout": "IPY_MODEL_335674de88fa4b3bb45bfd464608daad",
            "placeholder": "​",
            "style": "IPY_MODEL_af9db76490a6423484c68f750b06279f",
            "value": "spiece.model: 100%"
          }
        },
        "d20813eade6b441da64a9f11fd3efe58": {
          "model_module": "@jupyter-widgets/controls",
          "model_name": "FloatProgressModel",
          "model_module_version": "1.5.0",
          "state": {
            "_dom_classes": [],
            "_model_module": "@jupyter-widgets/controls",
            "_model_module_version": "1.5.0",
            "_model_name": "FloatProgressModel",
            "_view_count": null,
            "_view_module": "@jupyter-widgets/controls",
            "_view_module_version": "1.5.0",
            "_view_name": "ProgressView",
            "bar_style": "success",
            "description": "",
            "description_tooltip": null,
            "layout": "IPY_MODEL_58e04191d8d84b9d9abbf3bc2b1f0db3",
            "max": 798011,
            "min": 0,
            "orientation": "horizontal",
            "style": "IPY_MODEL_ff1d529e23e9483bbcc2eba7f233a891",
            "value": 798011
          }
        },
        "f9e980af64c248dbb731518bd0eed12c": {
          "model_module": "@jupyter-widgets/controls",
          "model_name": "HTMLModel",
          "model_module_version": "1.5.0",
          "state": {
            "_dom_classes": [],
            "_model_module": "@jupyter-widgets/controls",
            "_model_module_version": "1.5.0",
            "_model_name": "HTMLModel",
            "_view_count": null,
            "_view_module": "@jupyter-widgets/controls",
            "_view_module_version": "1.5.0",
            "_view_name": "HTMLView",
            "description": "",
            "description_tooltip": null,
            "layout": "IPY_MODEL_34988aea76d743e380c6b53ca83f2cce",
            "placeholder": "​",
            "style": "IPY_MODEL_5ecddaafa11743eda0c3ae46cdc683f5",
            "value": " 798k/798k [00:00&lt;00:00, 11.1MB/s]"
          }
        },
        "cde56f304d68400db2f3134e9f2d5678": {
          "model_module": "@jupyter-widgets/base",
          "model_name": "LayoutModel",
          "model_module_version": "1.2.0",
          "state": {
            "_model_module": "@jupyter-widgets/base",
            "_model_module_version": "1.2.0",
            "_model_name": "LayoutModel",
            "_view_count": null,
            "_view_module": "@jupyter-widgets/base",
            "_view_module_version": "1.2.0",
            "_view_name": "LayoutView",
            "align_content": null,
            "align_items": null,
            "align_self": null,
            "border": null,
            "bottom": null,
            "display": null,
            "flex": null,
            "flex_flow": null,
            "grid_area": null,
            "grid_auto_columns": null,
            "grid_auto_flow": null,
            "grid_auto_rows": null,
            "grid_column": null,
            "grid_gap": null,
            "grid_row": null,
            "grid_template_areas": null,
            "grid_template_columns": null,
            "grid_template_rows": null,
            "height": null,
            "justify_content": null,
            "justify_items": null,
            "left": null,
            "margin": null,
            "max_height": null,
            "max_width": null,
            "min_height": null,
            "min_width": null,
            "object_fit": null,
            "object_position": null,
            "order": null,
            "overflow": null,
            "overflow_x": null,
            "overflow_y": null,
            "padding": null,
            "right": null,
            "top": null,
            "visibility": null,
            "width": null
          }
        },
        "335674de88fa4b3bb45bfd464608daad": {
          "model_module": "@jupyter-widgets/base",
          "model_name": "LayoutModel",
          "model_module_version": "1.2.0",
          "state": {
            "_model_module": "@jupyter-widgets/base",
            "_model_module_version": "1.2.0",
            "_model_name": "LayoutModel",
            "_view_count": null,
            "_view_module": "@jupyter-widgets/base",
            "_view_module_version": "1.2.0",
            "_view_name": "LayoutView",
            "align_content": null,
            "align_items": null,
            "align_self": null,
            "border": null,
            "bottom": null,
            "display": null,
            "flex": null,
            "flex_flow": null,
            "grid_area": null,
            "grid_auto_columns": null,
            "grid_auto_flow": null,
            "grid_auto_rows": null,
            "grid_column": null,
            "grid_gap": null,
            "grid_row": null,
            "grid_template_areas": null,
            "grid_template_columns": null,
            "grid_template_rows": null,
            "height": null,
            "justify_content": null,
            "justify_items": null,
            "left": null,
            "margin": null,
            "max_height": null,
            "max_width": null,
            "min_height": null,
            "min_width": null,
            "object_fit": null,
            "object_position": null,
            "order": null,
            "overflow": null,
            "overflow_x": null,
            "overflow_y": null,
            "padding": null,
            "right": null,
            "top": null,
            "visibility": null,
            "width": null
          }
        },
        "af9db76490a6423484c68f750b06279f": {
          "model_module": "@jupyter-widgets/controls",
          "model_name": "DescriptionStyleModel",
          "model_module_version": "1.5.0",
          "state": {
            "_model_module": "@jupyter-widgets/controls",
            "_model_module_version": "1.5.0",
            "_model_name": "DescriptionStyleModel",
            "_view_count": null,
            "_view_module": "@jupyter-widgets/base",
            "_view_module_version": "1.2.0",
            "_view_name": "StyleView",
            "description_width": ""
          }
        },
        "58e04191d8d84b9d9abbf3bc2b1f0db3": {
          "model_module": "@jupyter-widgets/base",
          "model_name": "LayoutModel",
          "model_module_version": "1.2.0",
          "state": {
            "_model_module": "@jupyter-widgets/base",
            "_model_module_version": "1.2.0",
            "_model_name": "LayoutModel",
            "_view_count": null,
            "_view_module": "@jupyter-widgets/base",
            "_view_module_version": "1.2.0",
            "_view_name": "LayoutView",
            "align_content": null,
            "align_items": null,
            "align_self": null,
            "border": null,
            "bottom": null,
            "display": null,
            "flex": null,
            "flex_flow": null,
            "grid_area": null,
            "grid_auto_columns": null,
            "grid_auto_flow": null,
            "grid_auto_rows": null,
            "grid_column": null,
            "grid_gap": null,
            "grid_row": null,
            "grid_template_areas": null,
            "grid_template_columns": null,
            "grid_template_rows": null,
            "height": null,
            "justify_content": null,
            "justify_items": null,
            "left": null,
            "margin": null,
            "max_height": null,
            "max_width": null,
            "min_height": null,
            "min_width": null,
            "object_fit": null,
            "object_position": null,
            "order": null,
            "overflow": null,
            "overflow_x": null,
            "overflow_y": null,
            "padding": null,
            "right": null,
            "top": null,
            "visibility": null,
            "width": null
          }
        },
        "ff1d529e23e9483bbcc2eba7f233a891": {
          "model_module": "@jupyter-widgets/controls",
          "model_name": "ProgressStyleModel",
          "model_module_version": "1.5.0",
          "state": {
            "_model_module": "@jupyter-widgets/controls",
            "_model_module_version": "1.5.0",
            "_model_name": "ProgressStyleModel",
            "_view_count": null,
            "_view_module": "@jupyter-widgets/base",
            "_view_module_version": "1.2.0",
            "_view_name": "StyleView",
            "bar_color": null,
            "description_width": ""
          }
        },
        "34988aea76d743e380c6b53ca83f2cce": {
          "model_module": "@jupyter-widgets/base",
          "model_name": "LayoutModel",
          "model_module_version": "1.2.0",
          "state": {
            "_model_module": "@jupyter-widgets/base",
            "_model_module_version": "1.2.0",
            "_model_name": "LayoutModel",
            "_view_count": null,
            "_view_module": "@jupyter-widgets/base",
            "_view_module_version": "1.2.0",
            "_view_name": "LayoutView",
            "align_content": null,
            "align_items": null,
            "align_self": null,
            "border": null,
            "bottom": null,
            "display": null,
            "flex": null,
            "flex_flow": null,
            "grid_area": null,
            "grid_auto_columns": null,
            "grid_auto_flow": null,
            "grid_auto_rows": null,
            "grid_column": null,
            "grid_gap": null,
            "grid_row": null,
            "grid_template_areas": null,
            "grid_template_columns": null,
            "grid_template_rows": null,
            "height": null,
            "justify_content": null,
            "justify_items": null,
            "left": null,
            "margin": null,
            "max_height": null,
            "max_width": null,
            "min_height": null,
            "min_width": null,
            "object_fit": null,
            "object_position": null,
            "order": null,
            "overflow": null,
            "overflow_x": null,
            "overflow_y": null,
            "padding": null,
            "right": null,
            "top": null,
            "visibility": null,
            "width": null
          }
        },
        "5ecddaafa11743eda0c3ae46cdc683f5": {
          "model_module": "@jupyter-widgets/controls",
          "model_name": "DescriptionStyleModel",
          "model_module_version": "1.5.0",
          "state": {
            "_model_module": "@jupyter-widgets/controls",
            "_model_module_version": "1.5.0",
            "_model_name": "DescriptionStyleModel",
            "_view_count": null,
            "_view_module": "@jupyter-widgets/base",
            "_view_module_version": "1.2.0",
            "_view_name": "StyleView",
            "description_width": ""
          }
        },
        "2aa6f77ff1f44193a59dae7841903525": {
          "model_module": "@jupyter-widgets/controls",
          "model_name": "HBoxModel",
          "model_module_version": "1.5.0",
          "state": {
            "_dom_classes": [],
            "_model_module": "@jupyter-widgets/controls",
            "_model_module_version": "1.5.0",
            "_model_name": "HBoxModel",
            "_view_count": null,
            "_view_module": "@jupyter-widgets/controls",
            "_view_module_version": "1.5.0",
            "_view_name": "HBoxView",
            "box_style": "",
            "children": [
              "IPY_MODEL_477f3e3627494ac1a3b48568c9ba0aed",
              "IPY_MODEL_63faa433caa041ebbc6e3fe35de79a0f",
              "IPY_MODEL_7bdfd3745f694b6990d52a21c9e12d3c"
            ],
            "layout": "IPY_MODEL_b246265fd9a547fdb300ee32b15abdf0"
          }
        },
        "477f3e3627494ac1a3b48568c9ba0aed": {
          "model_module": "@jupyter-widgets/controls",
          "model_name": "HTMLModel",
          "model_module_version": "1.5.0",
          "state": {
            "_dom_classes": [],
            "_model_module": "@jupyter-widgets/controls",
            "_model_module_version": "1.5.0",
            "_model_name": "HTMLModel",
            "_view_count": null,
            "_view_module": "@jupyter-widgets/controls",
            "_view_module_version": "1.5.0",
            "_view_name": "HTMLView",
            "description": "",
            "description_tooltip": null,
            "layout": "IPY_MODEL_2da1cda9b90b446e948b1e9ca7dc4256",
            "placeholder": "​",
            "style": "IPY_MODEL_80d4534f4dae4aa5a3e8cd5727137c3b",
            "value": "tokenizer.json: 100%"
          }
        },
        "63faa433caa041ebbc6e3fe35de79a0f": {
          "model_module": "@jupyter-widgets/controls",
          "model_name": "FloatProgressModel",
          "model_module_version": "1.5.0",
          "state": {
            "_dom_classes": [],
            "_model_module": "@jupyter-widgets/controls",
            "_model_module_version": "1.5.0",
            "_model_name": "FloatProgressModel",
            "_view_count": null,
            "_view_module": "@jupyter-widgets/controls",
            "_view_module_version": "1.5.0",
            "_view_name": "ProgressView",
            "bar_style": "success",
            "description": "",
            "description_tooltip": null,
            "layout": "IPY_MODEL_65c7ba620eef4bfe85dc7e31028dec9f",
            "max": 1382015,
            "min": 0,
            "orientation": "horizontal",
            "style": "IPY_MODEL_8defb871d6cc4924bc6b14ed20aadc4c",
            "value": 1382015
          }
        },
        "7bdfd3745f694b6990d52a21c9e12d3c": {
          "model_module": "@jupyter-widgets/controls",
          "model_name": "HTMLModel",
          "model_module_version": "1.5.0",
          "state": {
            "_dom_classes": [],
            "_model_module": "@jupyter-widgets/controls",
            "_model_module_version": "1.5.0",
            "_model_name": "HTMLModel",
            "_view_count": null,
            "_view_module": "@jupyter-widgets/controls",
            "_view_module_version": "1.5.0",
            "_view_name": "HTMLView",
            "description": "",
            "description_tooltip": null,
            "layout": "IPY_MODEL_a1632649a9604cd6b9565d64c24085c0",
            "placeholder": "​",
            "style": "IPY_MODEL_585ac4fd137f4785a3b96fbc0e9f2cb9",
            "value": " 1.38M/1.38M [00:00&lt;00:00, 4.96MB/s]"
          }
        },
        "b246265fd9a547fdb300ee32b15abdf0": {
          "model_module": "@jupyter-widgets/base",
          "model_name": "LayoutModel",
          "model_module_version": "1.2.0",
          "state": {
            "_model_module": "@jupyter-widgets/base",
            "_model_module_version": "1.2.0",
            "_model_name": "LayoutModel",
            "_view_count": null,
            "_view_module": "@jupyter-widgets/base",
            "_view_module_version": "1.2.0",
            "_view_name": "LayoutView",
            "align_content": null,
            "align_items": null,
            "align_self": null,
            "border": null,
            "bottom": null,
            "display": null,
            "flex": null,
            "flex_flow": null,
            "grid_area": null,
            "grid_auto_columns": null,
            "grid_auto_flow": null,
            "grid_auto_rows": null,
            "grid_column": null,
            "grid_gap": null,
            "grid_row": null,
            "grid_template_areas": null,
            "grid_template_columns": null,
            "grid_template_rows": null,
            "height": null,
            "justify_content": null,
            "justify_items": null,
            "left": null,
            "margin": null,
            "max_height": null,
            "max_width": null,
            "min_height": null,
            "min_width": null,
            "object_fit": null,
            "object_position": null,
            "order": null,
            "overflow": null,
            "overflow_x": null,
            "overflow_y": null,
            "padding": null,
            "right": null,
            "top": null,
            "visibility": null,
            "width": null
          }
        },
        "2da1cda9b90b446e948b1e9ca7dc4256": {
          "model_module": "@jupyter-widgets/base",
          "model_name": "LayoutModel",
          "model_module_version": "1.2.0",
          "state": {
            "_model_module": "@jupyter-widgets/base",
            "_model_module_version": "1.2.0",
            "_model_name": "LayoutModel",
            "_view_count": null,
            "_view_module": "@jupyter-widgets/base",
            "_view_module_version": "1.2.0",
            "_view_name": "LayoutView",
            "align_content": null,
            "align_items": null,
            "align_self": null,
            "border": null,
            "bottom": null,
            "display": null,
            "flex": null,
            "flex_flow": null,
            "grid_area": null,
            "grid_auto_columns": null,
            "grid_auto_flow": null,
            "grid_auto_rows": null,
            "grid_column": null,
            "grid_gap": null,
            "grid_row": null,
            "grid_template_areas": null,
            "grid_template_columns": null,
            "grid_template_rows": null,
            "height": null,
            "justify_content": null,
            "justify_items": null,
            "left": null,
            "margin": null,
            "max_height": null,
            "max_width": null,
            "min_height": null,
            "min_width": null,
            "object_fit": null,
            "object_position": null,
            "order": null,
            "overflow": null,
            "overflow_x": null,
            "overflow_y": null,
            "padding": null,
            "right": null,
            "top": null,
            "visibility": null,
            "width": null
          }
        },
        "80d4534f4dae4aa5a3e8cd5727137c3b": {
          "model_module": "@jupyter-widgets/controls",
          "model_name": "DescriptionStyleModel",
          "model_module_version": "1.5.0",
          "state": {
            "_model_module": "@jupyter-widgets/controls",
            "_model_module_version": "1.5.0",
            "_model_name": "DescriptionStyleModel",
            "_view_count": null,
            "_view_module": "@jupyter-widgets/base",
            "_view_module_version": "1.2.0",
            "_view_name": "StyleView",
            "description_width": ""
          }
        },
        "65c7ba620eef4bfe85dc7e31028dec9f": {
          "model_module": "@jupyter-widgets/base",
          "model_name": "LayoutModel",
          "model_module_version": "1.2.0",
          "state": {
            "_model_module": "@jupyter-widgets/base",
            "_model_module_version": "1.2.0",
            "_model_name": "LayoutModel",
            "_view_count": null,
            "_view_module": "@jupyter-widgets/base",
            "_view_module_version": "1.2.0",
            "_view_name": "LayoutView",
            "align_content": null,
            "align_items": null,
            "align_self": null,
            "border": null,
            "bottom": null,
            "display": null,
            "flex": null,
            "flex_flow": null,
            "grid_area": null,
            "grid_auto_columns": null,
            "grid_auto_flow": null,
            "grid_auto_rows": null,
            "grid_column": null,
            "grid_gap": null,
            "grid_row": null,
            "grid_template_areas": null,
            "grid_template_columns": null,
            "grid_template_rows": null,
            "height": null,
            "justify_content": null,
            "justify_items": null,
            "left": null,
            "margin": null,
            "max_height": null,
            "max_width": null,
            "min_height": null,
            "min_width": null,
            "object_fit": null,
            "object_position": null,
            "order": null,
            "overflow": null,
            "overflow_x": null,
            "overflow_y": null,
            "padding": null,
            "right": null,
            "top": null,
            "visibility": null,
            "width": null
          }
        },
        "8defb871d6cc4924bc6b14ed20aadc4c": {
          "model_module": "@jupyter-widgets/controls",
          "model_name": "ProgressStyleModel",
          "model_module_version": "1.5.0",
          "state": {
            "_model_module": "@jupyter-widgets/controls",
            "_model_module_version": "1.5.0",
            "_model_name": "ProgressStyleModel",
            "_view_count": null,
            "_view_module": "@jupyter-widgets/base",
            "_view_module_version": "1.2.0",
            "_view_name": "StyleView",
            "bar_color": null,
            "description_width": ""
          }
        },
        "a1632649a9604cd6b9565d64c24085c0": {
          "model_module": "@jupyter-widgets/base",
          "model_name": "LayoutModel",
          "model_module_version": "1.2.0",
          "state": {
            "_model_module": "@jupyter-widgets/base",
            "_model_module_version": "1.2.0",
            "_model_name": "LayoutModel",
            "_view_count": null,
            "_view_module": "@jupyter-widgets/base",
            "_view_module_version": "1.2.0",
            "_view_name": "LayoutView",
            "align_content": null,
            "align_items": null,
            "align_self": null,
            "border": null,
            "bottom": null,
            "display": null,
            "flex": null,
            "flex_flow": null,
            "grid_area": null,
            "grid_auto_columns": null,
            "grid_auto_flow": null,
            "grid_auto_rows": null,
            "grid_column": null,
            "grid_gap": null,
            "grid_row": null,
            "grid_template_areas": null,
            "grid_template_columns": null,
            "grid_template_rows": null,
            "height": null,
            "justify_content": null,
            "justify_items": null,
            "left": null,
            "margin": null,
            "max_height": null,
            "max_width": null,
            "min_height": null,
            "min_width": null,
            "object_fit": null,
            "object_position": null,
            "order": null,
            "overflow": null,
            "overflow_x": null,
            "overflow_y": null,
            "padding": null,
            "right": null,
            "top": null,
            "visibility": null,
            "width": null
          }
        },
        "585ac4fd137f4785a3b96fbc0e9f2cb9": {
          "model_module": "@jupyter-widgets/controls",
          "model_name": "DescriptionStyleModel",
          "model_module_version": "1.5.0",
          "state": {
            "_model_module": "@jupyter-widgets/controls",
            "_model_module_version": "1.5.0",
            "_model_name": "DescriptionStyleModel",
            "_view_count": null,
            "_view_module": "@jupyter-widgets/base",
            "_view_module_version": "1.2.0",
            "_view_name": "StyleView",
            "description_width": ""
          }
        },
        "6d454dbac3bb479db85ddb66e13cf273": {
          "model_module": "@jupyter-widgets/controls",
          "model_name": "HBoxModel",
          "model_module_version": "1.5.0",
          "state": {
            "_dom_classes": [],
            "_model_module": "@jupyter-widgets/controls",
            "_model_module_version": "1.5.0",
            "_model_name": "HBoxModel",
            "_view_count": null,
            "_view_module": "@jupyter-widgets/controls",
            "_view_module_version": "1.5.0",
            "_view_name": "HBoxView",
            "box_style": "",
            "children": [
              "IPY_MODEL_d5859f5305824ed0b8fb235d610c6df0",
              "IPY_MODEL_608b56e1c93547afb16dc7268d47b0b9",
              "IPY_MODEL_2b761515117a4d1580f0e7bdea097fa9"
            ],
            "layout": "IPY_MODEL_7af5534286e442a5a880dca9cf1f0c43"
          }
        },
        "d5859f5305824ed0b8fb235d610c6df0": {
          "model_module": "@jupyter-widgets/controls",
          "model_name": "HTMLModel",
          "model_module_version": "1.5.0",
          "state": {
            "_dom_classes": [],
            "_model_module": "@jupyter-widgets/controls",
            "_model_module_version": "1.5.0",
            "_model_name": "HTMLModel",
            "_view_count": null,
            "_view_module": "@jupyter-widgets/controls",
            "_view_module_version": "1.5.0",
            "_view_name": "HTMLView",
            "description": "",
            "description_tooltip": null,
            "layout": "IPY_MODEL_5d444802573c4f5598c5cb8a7833c17a",
            "placeholder": "​",
            "style": "IPY_MODEL_4d4076e29e4e432fab8d8697a0c2e242",
            "value": "Map: 100%"
          }
        },
        "608b56e1c93547afb16dc7268d47b0b9": {
          "model_module": "@jupyter-widgets/controls",
          "model_name": "FloatProgressModel",
          "model_module_version": "1.5.0",
          "state": {
            "_dom_classes": [],
            "_model_module": "@jupyter-widgets/controls",
            "_model_module_version": "1.5.0",
            "_model_name": "FloatProgressModel",
            "_view_count": null,
            "_view_module": "@jupyter-widgets/controls",
            "_view_module_version": "1.5.0",
            "_view_name": "ProgressView",
            "bar_style": "success",
            "description": "",
            "description_tooltip": null,
            "layout": "IPY_MODEL_fe96139d448943889b51ad932311e5e1",
            "max": 12800,
            "min": 0,
            "orientation": "horizontal",
            "style": "IPY_MODEL_99640ad42d6542e5ab878ebe3a3b32c0",
            "value": 12800
          }
        },
        "2b761515117a4d1580f0e7bdea097fa9": {
          "model_module": "@jupyter-widgets/controls",
          "model_name": "HTMLModel",
          "model_module_version": "1.5.0",
          "state": {
            "_dom_classes": [],
            "_model_module": "@jupyter-widgets/controls",
            "_model_module_version": "1.5.0",
            "_model_name": "HTMLModel",
            "_view_count": null,
            "_view_module": "@jupyter-widgets/controls",
            "_view_module_version": "1.5.0",
            "_view_name": "HTMLView",
            "description": "",
            "description_tooltip": null,
            "layout": "IPY_MODEL_9fb3f11ffc6547e0b600de68e33da67a",
            "placeholder": "​",
            "style": "IPY_MODEL_0f3b0ed102974ef5848af24ad82170ec",
            "value": " 12800/12800 [00:11&lt;00:00, 1147.88 examples/s]"
          }
        },
        "7af5534286e442a5a880dca9cf1f0c43": {
          "model_module": "@jupyter-widgets/base",
          "model_name": "LayoutModel",
          "model_module_version": "1.2.0",
          "state": {
            "_model_module": "@jupyter-widgets/base",
            "_model_module_version": "1.2.0",
            "_model_name": "LayoutModel",
            "_view_count": null,
            "_view_module": "@jupyter-widgets/base",
            "_view_module_version": "1.2.0",
            "_view_name": "LayoutView",
            "align_content": null,
            "align_items": null,
            "align_self": null,
            "border": null,
            "bottom": null,
            "display": null,
            "flex": null,
            "flex_flow": null,
            "grid_area": null,
            "grid_auto_columns": null,
            "grid_auto_flow": null,
            "grid_auto_rows": null,
            "grid_column": null,
            "grid_gap": null,
            "grid_row": null,
            "grid_template_areas": null,
            "grid_template_columns": null,
            "grid_template_rows": null,
            "height": null,
            "justify_content": null,
            "justify_items": null,
            "left": null,
            "margin": null,
            "max_height": null,
            "max_width": null,
            "min_height": null,
            "min_width": null,
            "object_fit": null,
            "object_position": null,
            "order": null,
            "overflow": null,
            "overflow_x": null,
            "overflow_y": null,
            "padding": null,
            "right": null,
            "top": null,
            "visibility": null,
            "width": null
          }
        },
        "5d444802573c4f5598c5cb8a7833c17a": {
          "model_module": "@jupyter-widgets/base",
          "model_name": "LayoutModel",
          "model_module_version": "1.2.0",
          "state": {
            "_model_module": "@jupyter-widgets/base",
            "_model_module_version": "1.2.0",
            "_model_name": "LayoutModel",
            "_view_count": null,
            "_view_module": "@jupyter-widgets/base",
            "_view_module_version": "1.2.0",
            "_view_name": "LayoutView",
            "align_content": null,
            "align_items": null,
            "align_self": null,
            "border": null,
            "bottom": null,
            "display": null,
            "flex": null,
            "flex_flow": null,
            "grid_area": null,
            "grid_auto_columns": null,
            "grid_auto_flow": null,
            "grid_auto_rows": null,
            "grid_column": null,
            "grid_gap": null,
            "grid_row": null,
            "grid_template_areas": null,
            "grid_template_columns": null,
            "grid_template_rows": null,
            "height": null,
            "justify_content": null,
            "justify_items": null,
            "left": null,
            "margin": null,
            "max_height": null,
            "max_width": null,
            "min_height": null,
            "min_width": null,
            "object_fit": null,
            "object_position": null,
            "order": null,
            "overflow": null,
            "overflow_x": null,
            "overflow_y": null,
            "padding": null,
            "right": null,
            "top": null,
            "visibility": null,
            "width": null
          }
        },
        "4d4076e29e4e432fab8d8697a0c2e242": {
          "model_module": "@jupyter-widgets/controls",
          "model_name": "DescriptionStyleModel",
          "model_module_version": "1.5.0",
          "state": {
            "_model_module": "@jupyter-widgets/controls",
            "_model_module_version": "1.5.0",
            "_model_name": "DescriptionStyleModel",
            "_view_count": null,
            "_view_module": "@jupyter-widgets/base",
            "_view_module_version": "1.2.0",
            "_view_name": "StyleView",
            "description_width": ""
          }
        },
        "fe96139d448943889b51ad932311e5e1": {
          "model_module": "@jupyter-widgets/base",
          "model_name": "LayoutModel",
          "model_module_version": "1.2.0",
          "state": {
            "_model_module": "@jupyter-widgets/base",
            "_model_module_version": "1.2.0",
            "_model_name": "LayoutModel",
            "_view_count": null,
            "_view_module": "@jupyter-widgets/base",
            "_view_module_version": "1.2.0",
            "_view_name": "LayoutView",
            "align_content": null,
            "align_items": null,
            "align_self": null,
            "border": null,
            "bottom": null,
            "display": null,
            "flex": null,
            "flex_flow": null,
            "grid_area": null,
            "grid_auto_columns": null,
            "grid_auto_flow": null,
            "grid_auto_rows": null,
            "grid_column": null,
            "grid_gap": null,
            "grid_row": null,
            "grid_template_areas": null,
            "grid_template_columns": null,
            "grid_template_rows": null,
            "height": null,
            "justify_content": null,
            "justify_items": null,
            "left": null,
            "margin": null,
            "max_height": null,
            "max_width": null,
            "min_height": null,
            "min_width": null,
            "object_fit": null,
            "object_position": null,
            "order": null,
            "overflow": null,
            "overflow_x": null,
            "overflow_y": null,
            "padding": null,
            "right": null,
            "top": null,
            "visibility": null,
            "width": null
          }
        },
        "99640ad42d6542e5ab878ebe3a3b32c0": {
          "model_module": "@jupyter-widgets/controls",
          "model_name": "ProgressStyleModel",
          "model_module_version": "1.5.0",
          "state": {
            "_model_module": "@jupyter-widgets/controls",
            "_model_module_version": "1.5.0",
            "_model_name": "ProgressStyleModel",
            "_view_count": null,
            "_view_module": "@jupyter-widgets/base",
            "_view_module_version": "1.2.0",
            "_view_name": "StyleView",
            "bar_color": null,
            "description_width": ""
          }
        },
        "9fb3f11ffc6547e0b600de68e33da67a": {
          "model_module": "@jupyter-widgets/base",
          "model_name": "LayoutModel",
          "model_module_version": "1.2.0",
          "state": {
            "_model_module": "@jupyter-widgets/base",
            "_model_module_version": "1.2.0",
            "_model_name": "LayoutModel",
            "_view_count": null,
            "_view_module": "@jupyter-widgets/base",
            "_view_module_version": "1.2.0",
            "_view_name": "LayoutView",
            "align_content": null,
            "align_items": null,
            "align_self": null,
            "border": null,
            "bottom": null,
            "display": null,
            "flex": null,
            "flex_flow": null,
            "grid_area": null,
            "grid_auto_columns": null,
            "grid_auto_flow": null,
            "grid_auto_rows": null,
            "grid_column": null,
            "grid_gap": null,
            "grid_row": null,
            "grid_template_areas": null,
            "grid_template_columns": null,
            "grid_template_rows": null,
            "height": null,
            "justify_content": null,
            "justify_items": null,
            "left": null,
            "margin": null,
            "max_height": null,
            "max_width": null,
            "min_height": null,
            "min_width": null,
            "object_fit": null,
            "object_position": null,
            "order": null,
            "overflow": null,
            "overflow_x": null,
            "overflow_y": null,
            "padding": null,
            "right": null,
            "top": null,
            "visibility": null,
            "width": null
          }
        },
        "0f3b0ed102974ef5848af24ad82170ec": {
          "model_module": "@jupyter-widgets/controls",
          "model_name": "DescriptionStyleModel",
          "model_module_version": "1.5.0",
          "state": {
            "_model_module": "@jupyter-widgets/controls",
            "_model_module_version": "1.5.0",
            "_model_name": "DescriptionStyleModel",
            "_view_count": null,
            "_view_module": "@jupyter-widgets/base",
            "_view_module_version": "1.2.0",
            "_view_name": "StyleView",
            "description_width": ""
          }
        },
        "893b8c0024bb4546ba467bbdf02d4b48": {
          "model_module": "@jupyter-widgets/controls",
          "model_name": "HBoxModel",
          "model_module_version": "1.5.0",
          "state": {
            "_dom_classes": [],
            "_model_module": "@jupyter-widgets/controls",
            "_model_module_version": "1.5.0",
            "_model_name": "HBoxModel",
            "_view_count": null,
            "_view_module": "@jupyter-widgets/controls",
            "_view_module_version": "1.5.0",
            "_view_name": "HBoxView",
            "box_style": "",
            "children": [
              "IPY_MODEL_af8c840a01734c979936c43fcb9990b1",
              "IPY_MODEL_c1f2a069579445d2b99ecc74c2d963ab",
              "IPY_MODEL_5f21c5efe4c845769d8167a91c6ea94f"
            ],
            "layout": "IPY_MODEL_abaa1e362ce04f1f9142b8c6b792fb5b"
          }
        },
        "af8c840a01734c979936c43fcb9990b1": {
          "model_module": "@jupyter-widgets/controls",
          "model_name": "HTMLModel",
          "model_module_version": "1.5.0",
          "state": {
            "_dom_classes": [],
            "_model_module": "@jupyter-widgets/controls",
            "_model_module_version": "1.5.0",
            "_model_name": "HTMLModel",
            "_view_count": null,
            "_view_module": "@jupyter-widgets/controls",
            "_view_module_version": "1.5.0",
            "_view_name": "HTMLView",
            "description": "",
            "description_tooltip": null,
            "layout": "IPY_MODEL_b42aa1403d9046c3978cb8108241b838",
            "placeholder": "​",
            "style": "IPY_MODEL_d2a7d56572a74edc9aa6f617dec6a154",
            "value": "Map: 100%"
          }
        },
        "c1f2a069579445d2b99ecc74c2d963ab": {
          "model_module": "@jupyter-widgets/controls",
          "model_name": "FloatProgressModel",
          "model_module_version": "1.5.0",
          "state": {
            "_dom_classes": [],
            "_model_module": "@jupyter-widgets/controls",
            "_model_module_version": "1.5.0",
            "_model_name": "FloatProgressModel",
            "_view_count": null,
            "_view_module": "@jupyter-widgets/controls",
            "_view_module_version": "1.5.0",
            "_view_name": "ProgressView",
            "bar_style": "success",
            "description": "",
            "description_tooltip": null,
            "layout": "IPY_MODEL_8939005e7ec34dee95f44e9f59dfa39e",
            "max": 3200,
            "min": 0,
            "orientation": "horizontal",
            "style": "IPY_MODEL_b502d2627d50449e9f8b50c96a3a7009",
            "value": 3200
          }
        },
        "5f21c5efe4c845769d8167a91c6ea94f": {
          "model_module": "@jupyter-widgets/controls",
          "model_name": "HTMLModel",
          "model_module_version": "1.5.0",
          "state": {
            "_dom_classes": [],
            "_model_module": "@jupyter-widgets/controls",
            "_model_module_version": "1.5.0",
            "_model_name": "HTMLModel",
            "_view_count": null,
            "_view_module": "@jupyter-widgets/controls",
            "_view_module_version": "1.5.0",
            "_view_name": "HTMLView",
            "description": "",
            "description_tooltip": null,
            "layout": "IPY_MODEL_1c5971bb08cb449dabf9b9e4ef2103be",
            "placeholder": "​",
            "style": "IPY_MODEL_2ba0ff63ea7c447285476380f6e0e2e6",
            "value": " 3200/3200 [00:04&lt;00:00, 792.04 examples/s]"
          }
        },
        "abaa1e362ce04f1f9142b8c6b792fb5b": {
          "model_module": "@jupyter-widgets/base",
          "model_name": "LayoutModel",
          "model_module_version": "1.2.0",
          "state": {
            "_model_module": "@jupyter-widgets/base",
            "_model_module_version": "1.2.0",
            "_model_name": "LayoutModel",
            "_view_count": null,
            "_view_module": "@jupyter-widgets/base",
            "_view_module_version": "1.2.0",
            "_view_name": "LayoutView",
            "align_content": null,
            "align_items": null,
            "align_self": null,
            "border": null,
            "bottom": null,
            "display": null,
            "flex": null,
            "flex_flow": null,
            "grid_area": null,
            "grid_auto_columns": null,
            "grid_auto_flow": null,
            "grid_auto_rows": null,
            "grid_column": null,
            "grid_gap": null,
            "grid_row": null,
            "grid_template_areas": null,
            "grid_template_columns": null,
            "grid_template_rows": null,
            "height": null,
            "justify_content": null,
            "justify_items": null,
            "left": null,
            "margin": null,
            "max_height": null,
            "max_width": null,
            "min_height": null,
            "min_width": null,
            "object_fit": null,
            "object_position": null,
            "order": null,
            "overflow": null,
            "overflow_x": null,
            "overflow_y": null,
            "padding": null,
            "right": null,
            "top": null,
            "visibility": null,
            "width": null
          }
        },
        "b42aa1403d9046c3978cb8108241b838": {
          "model_module": "@jupyter-widgets/base",
          "model_name": "LayoutModel",
          "model_module_version": "1.2.0",
          "state": {
            "_model_module": "@jupyter-widgets/base",
            "_model_module_version": "1.2.0",
            "_model_name": "LayoutModel",
            "_view_count": null,
            "_view_module": "@jupyter-widgets/base",
            "_view_module_version": "1.2.0",
            "_view_name": "LayoutView",
            "align_content": null,
            "align_items": null,
            "align_self": null,
            "border": null,
            "bottom": null,
            "display": null,
            "flex": null,
            "flex_flow": null,
            "grid_area": null,
            "grid_auto_columns": null,
            "grid_auto_flow": null,
            "grid_auto_rows": null,
            "grid_column": null,
            "grid_gap": null,
            "grid_row": null,
            "grid_template_areas": null,
            "grid_template_columns": null,
            "grid_template_rows": null,
            "height": null,
            "justify_content": null,
            "justify_items": null,
            "left": null,
            "margin": null,
            "max_height": null,
            "max_width": null,
            "min_height": null,
            "min_width": null,
            "object_fit": null,
            "object_position": null,
            "order": null,
            "overflow": null,
            "overflow_x": null,
            "overflow_y": null,
            "padding": null,
            "right": null,
            "top": null,
            "visibility": null,
            "width": null
          }
        },
        "d2a7d56572a74edc9aa6f617dec6a154": {
          "model_module": "@jupyter-widgets/controls",
          "model_name": "DescriptionStyleModel",
          "model_module_version": "1.5.0",
          "state": {
            "_model_module": "@jupyter-widgets/controls",
            "_model_module_version": "1.5.0",
            "_model_name": "DescriptionStyleModel",
            "_view_count": null,
            "_view_module": "@jupyter-widgets/base",
            "_view_module_version": "1.2.0",
            "_view_name": "StyleView",
            "description_width": ""
          }
        },
        "8939005e7ec34dee95f44e9f59dfa39e": {
          "model_module": "@jupyter-widgets/base",
          "model_name": "LayoutModel",
          "model_module_version": "1.2.0",
          "state": {
            "_model_module": "@jupyter-widgets/base",
            "_model_module_version": "1.2.0",
            "_model_name": "LayoutModel",
            "_view_count": null,
            "_view_module": "@jupyter-widgets/base",
            "_view_module_version": "1.2.0",
            "_view_name": "LayoutView",
            "align_content": null,
            "align_items": null,
            "align_self": null,
            "border": null,
            "bottom": null,
            "display": null,
            "flex": null,
            "flex_flow": null,
            "grid_area": null,
            "grid_auto_columns": null,
            "grid_auto_flow": null,
            "grid_auto_rows": null,
            "grid_column": null,
            "grid_gap": null,
            "grid_row": null,
            "grid_template_areas": null,
            "grid_template_columns": null,
            "grid_template_rows": null,
            "height": null,
            "justify_content": null,
            "justify_items": null,
            "left": null,
            "margin": null,
            "max_height": null,
            "max_width": null,
            "min_height": null,
            "min_width": null,
            "object_fit": null,
            "object_position": null,
            "order": null,
            "overflow": null,
            "overflow_x": null,
            "overflow_y": null,
            "padding": null,
            "right": null,
            "top": null,
            "visibility": null,
            "width": null
          }
        },
        "b502d2627d50449e9f8b50c96a3a7009": {
          "model_module": "@jupyter-widgets/controls",
          "model_name": "ProgressStyleModel",
          "model_module_version": "1.5.0",
          "state": {
            "_model_module": "@jupyter-widgets/controls",
            "_model_module_version": "1.5.0",
            "_model_name": "ProgressStyleModel",
            "_view_count": null,
            "_view_module": "@jupyter-widgets/base",
            "_view_module_version": "1.2.0",
            "_view_name": "StyleView",
            "bar_color": null,
            "description_width": ""
          }
        },
        "1c5971bb08cb449dabf9b9e4ef2103be": {
          "model_module": "@jupyter-widgets/base",
          "model_name": "LayoutModel",
          "model_module_version": "1.2.0",
          "state": {
            "_model_module": "@jupyter-widgets/base",
            "_model_module_version": "1.2.0",
            "_model_name": "LayoutModel",
            "_view_count": null,
            "_view_module": "@jupyter-widgets/base",
            "_view_module_version": "1.2.0",
            "_view_name": "LayoutView",
            "align_content": null,
            "align_items": null,
            "align_self": null,
            "border": null,
            "bottom": null,
            "display": null,
            "flex": null,
            "flex_flow": null,
            "grid_area": null,
            "grid_auto_columns": null,
            "grid_auto_flow": null,
            "grid_auto_rows": null,
            "grid_column": null,
            "grid_gap": null,
            "grid_row": null,
            "grid_template_areas": null,
            "grid_template_columns": null,
            "grid_template_rows": null,
            "height": null,
            "justify_content": null,
            "justify_items": null,
            "left": null,
            "margin": null,
            "max_height": null,
            "max_width": null,
            "min_height": null,
            "min_width": null,
            "object_fit": null,
            "object_position": null,
            "order": null,
            "overflow": null,
            "overflow_x": null,
            "overflow_y": null,
            "padding": null,
            "right": null,
            "top": null,
            "visibility": null,
            "width": null
          }
        },
        "2ba0ff63ea7c447285476380f6e0e2e6": {
          "model_module": "@jupyter-widgets/controls",
          "model_name": "DescriptionStyleModel",
          "model_module_version": "1.5.0",
          "state": {
            "_model_module": "@jupyter-widgets/controls",
            "_model_module_version": "1.5.0",
            "_model_name": "DescriptionStyleModel",
            "_view_count": null,
            "_view_module": "@jupyter-widgets/base",
            "_view_module_version": "1.2.0",
            "_view_name": "StyleView",
            "description_width": ""
          }
        },
        "af2bf40e0ee149728cc2af4fa4852b39": {
          "model_module": "@jupyter-widgets/controls",
          "model_name": "HBoxModel",
          "model_module_version": "1.5.0",
          "state": {
            "_dom_classes": [],
            "_model_module": "@jupyter-widgets/controls",
            "_model_module_version": "1.5.0",
            "_model_name": "HBoxModel",
            "_view_count": null,
            "_view_module": "@jupyter-widgets/controls",
            "_view_module_version": "1.5.0",
            "_view_name": "HBoxView",
            "box_style": "",
            "children": [
              "IPY_MODEL_6b50241e4b704cfdbcf7d12cee0554fd",
              "IPY_MODEL_40fcc8875314402c87ccbc3e5808a5a6",
              "IPY_MODEL_7d390e2e041e4f21b794cf73aaa31de4"
            ],
            "layout": "IPY_MODEL_8e1e733a6f6c4b17a949476f332c9f25"
          }
        },
        "6b50241e4b704cfdbcf7d12cee0554fd": {
          "model_module": "@jupyter-widgets/controls",
          "model_name": "HTMLModel",
          "model_module_version": "1.5.0",
          "state": {
            "_dom_classes": [],
            "_model_module": "@jupyter-widgets/controls",
            "_model_module_version": "1.5.0",
            "_model_name": "HTMLModel",
            "_view_count": null,
            "_view_module": "@jupyter-widgets/controls",
            "_view_module_version": "1.5.0",
            "_view_name": "HTMLView",
            "description": "",
            "description_tooltip": null,
            "layout": "IPY_MODEL_51f0fcae58f84b1a8e00f04e9bb6df94",
            "placeholder": "​",
            "style": "IPY_MODEL_1c5425e54d1c40dba599d43617d0a9eb",
            "value": "Map: 100%"
          }
        },
        "40fcc8875314402c87ccbc3e5808a5a6": {
          "model_module": "@jupyter-widgets/controls",
          "model_name": "FloatProgressModel",
          "model_module_version": "1.5.0",
          "state": {
            "_dom_classes": [],
            "_model_module": "@jupyter-widgets/controls",
            "_model_module_version": "1.5.0",
            "_model_name": "FloatProgressModel",
            "_view_count": null,
            "_view_module": "@jupyter-widgets/controls",
            "_view_module_version": "1.5.0",
            "_view_name": "ProgressView",
            "bar_style": "success",
            "description": "",
            "description_tooltip": null,
            "layout": "IPY_MODEL_93e9fa3a865d4a9a8f57028504cb800a",
            "max": 4000,
            "min": 0,
            "orientation": "horizontal",
            "style": "IPY_MODEL_16acd1a010a045eaa426f45564e8fdf1",
            "value": 4000
          }
        },
        "7d390e2e041e4f21b794cf73aaa31de4": {
          "model_module": "@jupyter-widgets/controls",
          "model_name": "HTMLModel",
          "model_module_version": "1.5.0",
          "state": {
            "_dom_classes": [],
            "_model_module": "@jupyter-widgets/controls",
            "_model_module_version": "1.5.0",
            "_model_name": "HTMLModel",
            "_view_count": null,
            "_view_module": "@jupyter-widgets/controls",
            "_view_module_version": "1.5.0",
            "_view_name": "HTMLView",
            "description": "",
            "description_tooltip": null,
            "layout": "IPY_MODEL_1cbc0d850ac64e65b17914ef4d54832f",
            "placeholder": "​",
            "style": "IPY_MODEL_db8fabc5ab0a46af8324645ccd86e07a",
            "value": " 4000/4000 [00:03&lt;00:00, 1201.42 examples/s]"
          }
        },
        "8e1e733a6f6c4b17a949476f332c9f25": {
          "model_module": "@jupyter-widgets/base",
          "model_name": "LayoutModel",
          "model_module_version": "1.2.0",
          "state": {
            "_model_module": "@jupyter-widgets/base",
            "_model_module_version": "1.2.0",
            "_model_name": "LayoutModel",
            "_view_count": null,
            "_view_module": "@jupyter-widgets/base",
            "_view_module_version": "1.2.0",
            "_view_name": "LayoutView",
            "align_content": null,
            "align_items": null,
            "align_self": null,
            "border": null,
            "bottom": null,
            "display": null,
            "flex": null,
            "flex_flow": null,
            "grid_area": null,
            "grid_auto_columns": null,
            "grid_auto_flow": null,
            "grid_auto_rows": null,
            "grid_column": null,
            "grid_gap": null,
            "grid_row": null,
            "grid_template_areas": null,
            "grid_template_columns": null,
            "grid_template_rows": null,
            "height": null,
            "justify_content": null,
            "justify_items": null,
            "left": null,
            "margin": null,
            "max_height": null,
            "max_width": null,
            "min_height": null,
            "min_width": null,
            "object_fit": null,
            "object_position": null,
            "order": null,
            "overflow": null,
            "overflow_x": null,
            "overflow_y": null,
            "padding": null,
            "right": null,
            "top": null,
            "visibility": null,
            "width": null
          }
        },
        "51f0fcae58f84b1a8e00f04e9bb6df94": {
          "model_module": "@jupyter-widgets/base",
          "model_name": "LayoutModel",
          "model_module_version": "1.2.0",
          "state": {
            "_model_module": "@jupyter-widgets/base",
            "_model_module_version": "1.2.0",
            "_model_name": "LayoutModel",
            "_view_count": null,
            "_view_module": "@jupyter-widgets/base",
            "_view_module_version": "1.2.0",
            "_view_name": "LayoutView",
            "align_content": null,
            "align_items": null,
            "align_self": null,
            "border": null,
            "bottom": null,
            "display": null,
            "flex": null,
            "flex_flow": null,
            "grid_area": null,
            "grid_auto_columns": null,
            "grid_auto_flow": null,
            "grid_auto_rows": null,
            "grid_column": null,
            "grid_gap": null,
            "grid_row": null,
            "grid_template_areas": null,
            "grid_template_columns": null,
            "grid_template_rows": null,
            "height": null,
            "justify_content": null,
            "justify_items": null,
            "left": null,
            "margin": null,
            "max_height": null,
            "max_width": null,
            "min_height": null,
            "min_width": null,
            "object_fit": null,
            "object_position": null,
            "order": null,
            "overflow": null,
            "overflow_x": null,
            "overflow_y": null,
            "padding": null,
            "right": null,
            "top": null,
            "visibility": null,
            "width": null
          }
        },
        "1c5425e54d1c40dba599d43617d0a9eb": {
          "model_module": "@jupyter-widgets/controls",
          "model_name": "DescriptionStyleModel",
          "model_module_version": "1.5.0",
          "state": {
            "_model_module": "@jupyter-widgets/controls",
            "_model_module_version": "1.5.0",
            "_model_name": "DescriptionStyleModel",
            "_view_count": null,
            "_view_module": "@jupyter-widgets/base",
            "_view_module_version": "1.2.0",
            "_view_name": "StyleView",
            "description_width": ""
          }
        },
        "93e9fa3a865d4a9a8f57028504cb800a": {
          "model_module": "@jupyter-widgets/base",
          "model_name": "LayoutModel",
          "model_module_version": "1.2.0",
          "state": {
            "_model_module": "@jupyter-widgets/base",
            "_model_module_version": "1.2.0",
            "_model_name": "LayoutModel",
            "_view_count": null,
            "_view_module": "@jupyter-widgets/base",
            "_view_module_version": "1.2.0",
            "_view_name": "LayoutView",
            "align_content": null,
            "align_items": null,
            "align_self": null,
            "border": null,
            "bottom": null,
            "display": null,
            "flex": null,
            "flex_flow": null,
            "grid_area": null,
            "grid_auto_columns": null,
            "grid_auto_flow": null,
            "grid_auto_rows": null,
            "grid_column": null,
            "grid_gap": null,
            "grid_row": null,
            "grid_template_areas": null,
            "grid_template_columns": null,
            "grid_template_rows": null,
            "height": null,
            "justify_content": null,
            "justify_items": null,
            "left": null,
            "margin": null,
            "max_height": null,
            "max_width": null,
            "min_height": null,
            "min_width": null,
            "object_fit": null,
            "object_position": null,
            "order": null,
            "overflow": null,
            "overflow_x": null,
            "overflow_y": null,
            "padding": null,
            "right": null,
            "top": null,
            "visibility": null,
            "width": null
          }
        },
        "16acd1a010a045eaa426f45564e8fdf1": {
          "model_module": "@jupyter-widgets/controls",
          "model_name": "ProgressStyleModel",
          "model_module_version": "1.5.0",
          "state": {
            "_model_module": "@jupyter-widgets/controls",
            "_model_module_version": "1.5.0",
            "_model_name": "ProgressStyleModel",
            "_view_count": null,
            "_view_module": "@jupyter-widgets/base",
            "_view_module_version": "1.2.0",
            "_view_name": "StyleView",
            "bar_color": null,
            "description_width": ""
          }
        },
        "1cbc0d850ac64e65b17914ef4d54832f": {
          "model_module": "@jupyter-widgets/base",
          "model_name": "LayoutModel",
          "model_module_version": "1.2.0",
          "state": {
            "_model_module": "@jupyter-widgets/base",
            "_model_module_version": "1.2.0",
            "_model_name": "LayoutModel",
            "_view_count": null,
            "_view_module": "@jupyter-widgets/base",
            "_view_module_version": "1.2.0",
            "_view_name": "LayoutView",
            "align_content": null,
            "align_items": null,
            "align_self": null,
            "border": null,
            "bottom": null,
            "display": null,
            "flex": null,
            "flex_flow": null,
            "grid_area": null,
            "grid_auto_columns": null,
            "grid_auto_flow": null,
            "grid_auto_rows": null,
            "grid_column": null,
            "grid_gap": null,
            "grid_row": null,
            "grid_template_areas": null,
            "grid_template_columns": null,
            "grid_template_rows": null,
            "height": null,
            "justify_content": null,
            "justify_items": null,
            "left": null,
            "margin": null,
            "max_height": null,
            "max_width": null,
            "min_height": null,
            "min_width": null,
            "object_fit": null,
            "object_position": null,
            "order": null,
            "overflow": null,
            "overflow_x": null,
            "overflow_y": null,
            "padding": null,
            "right": null,
            "top": null,
            "visibility": null,
            "width": null
          }
        },
        "db8fabc5ab0a46af8324645ccd86e07a": {
          "model_module": "@jupyter-widgets/controls",
          "model_name": "DescriptionStyleModel",
          "model_module_version": "1.5.0",
          "state": {
            "_model_module": "@jupyter-widgets/controls",
            "_model_module_version": "1.5.0",
            "_model_name": "DescriptionStyleModel",
            "_view_count": null,
            "_view_module": "@jupyter-widgets/base",
            "_view_module_version": "1.2.0",
            "_view_name": "StyleView",
            "description_width": ""
          }
        },
        "b96a38f136d94abba2665b2bf0dbe5f1": {
          "model_module": "@jupyter-widgets/controls",
          "model_name": "HBoxModel",
          "model_module_version": "1.5.0",
          "state": {
            "_dom_classes": [],
            "_model_module": "@jupyter-widgets/controls",
            "_model_module_version": "1.5.0",
            "_model_name": "HBoxModel",
            "_view_count": null,
            "_view_module": "@jupyter-widgets/controls",
            "_view_module_version": "1.5.0",
            "_view_name": "HBoxView",
            "box_style": "",
            "children": [
              "IPY_MODEL_63da21101c534433b4ab06a882e981cf",
              "IPY_MODEL_b58bb8317d6545e2bade65a2956abf69",
              "IPY_MODEL_9f5da436dd504bbe8349fec0bbf4e283"
            ],
            "layout": "IPY_MODEL_d136cac0db8e410faf6702abed98f688"
          }
        },
        "63da21101c534433b4ab06a882e981cf": {
          "model_module": "@jupyter-widgets/controls",
          "model_name": "HTMLModel",
          "model_module_version": "1.5.0",
          "state": {
            "_dom_classes": [],
            "_model_module": "@jupyter-widgets/controls",
            "_model_module_version": "1.5.0",
            "_model_name": "HTMLModel",
            "_view_count": null,
            "_view_module": "@jupyter-widgets/controls",
            "_view_module_version": "1.5.0",
            "_view_name": "HTMLView",
            "description": "",
            "description_tooltip": null,
            "layout": "IPY_MODEL_906345a427a34971b521b52125387d69",
            "placeholder": "​",
            "style": "IPY_MODEL_0680824d11624175b0dcf9ea53e5316e",
            "value": "tf_model.h5: 100%"
          }
        },
        "b58bb8317d6545e2bade65a2956abf69": {
          "model_module": "@jupyter-widgets/controls",
          "model_name": "FloatProgressModel",
          "model_module_version": "1.5.0",
          "state": {
            "_dom_classes": [],
            "_model_module": "@jupyter-widgets/controls",
            "_model_module_version": "1.5.0",
            "_model_name": "FloatProgressModel",
            "_view_count": null,
            "_view_module": "@jupyter-widgets/controls",
            "_view_module_version": "1.5.0",
            "_view_name": "ProgressView",
            "bar_style": "success",
            "description": "",
            "description_tooltip": null,
            "layout": "IPY_MODEL_1fc58ee86115468eb18d8cc6d4d5efbe",
            "max": 565485600,
            "min": 0,
            "orientation": "horizontal",
            "style": "IPY_MODEL_035ddc53558f46ffacf595d0e51498cc",
            "value": 565485600
          }
        },
        "9f5da436dd504bbe8349fec0bbf4e283": {
          "model_module": "@jupyter-widgets/controls",
          "model_name": "HTMLModel",
          "model_module_version": "1.5.0",
          "state": {
            "_dom_classes": [],
            "_model_module": "@jupyter-widgets/controls",
            "_model_module_version": "1.5.0",
            "_model_name": "HTMLModel",
            "_view_count": null,
            "_view_module": "@jupyter-widgets/controls",
            "_view_module_version": "1.5.0",
            "_view_name": "HTMLView",
            "description": "",
            "description_tooltip": null,
            "layout": "IPY_MODEL_6293e516a2af49fc8cab7c2725be0c19",
            "placeholder": "​",
            "style": "IPY_MODEL_7ed3a46a1e8d45afb2f3b210cd26284d",
            "value": " 565M/565M [00:05&lt;00:00, 34.4MB/s]"
          }
        },
        "d136cac0db8e410faf6702abed98f688": {
          "model_module": "@jupyter-widgets/base",
          "model_name": "LayoutModel",
          "model_module_version": "1.2.0",
          "state": {
            "_model_module": "@jupyter-widgets/base",
            "_model_module_version": "1.2.0",
            "_model_name": "LayoutModel",
            "_view_count": null,
            "_view_module": "@jupyter-widgets/base",
            "_view_module_version": "1.2.0",
            "_view_name": "LayoutView",
            "align_content": null,
            "align_items": null,
            "align_self": null,
            "border": null,
            "bottom": null,
            "display": null,
            "flex": null,
            "flex_flow": null,
            "grid_area": null,
            "grid_auto_columns": null,
            "grid_auto_flow": null,
            "grid_auto_rows": null,
            "grid_column": null,
            "grid_gap": null,
            "grid_row": null,
            "grid_template_areas": null,
            "grid_template_columns": null,
            "grid_template_rows": null,
            "height": null,
            "justify_content": null,
            "justify_items": null,
            "left": null,
            "margin": null,
            "max_height": null,
            "max_width": null,
            "min_height": null,
            "min_width": null,
            "object_fit": null,
            "object_position": null,
            "order": null,
            "overflow": null,
            "overflow_x": null,
            "overflow_y": null,
            "padding": null,
            "right": null,
            "top": null,
            "visibility": null,
            "width": null
          }
        },
        "906345a427a34971b521b52125387d69": {
          "model_module": "@jupyter-widgets/base",
          "model_name": "LayoutModel",
          "model_module_version": "1.2.0",
          "state": {
            "_model_module": "@jupyter-widgets/base",
            "_model_module_version": "1.2.0",
            "_model_name": "LayoutModel",
            "_view_count": null,
            "_view_module": "@jupyter-widgets/base",
            "_view_module_version": "1.2.0",
            "_view_name": "LayoutView",
            "align_content": null,
            "align_items": null,
            "align_self": null,
            "border": null,
            "bottom": null,
            "display": null,
            "flex": null,
            "flex_flow": null,
            "grid_area": null,
            "grid_auto_columns": null,
            "grid_auto_flow": null,
            "grid_auto_rows": null,
            "grid_column": null,
            "grid_gap": null,
            "grid_row": null,
            "grid_template_areas": null,
            "grid_template_columns": null,
            "grid_template_rows": null,
            "height": null,
            "justify_content": null,
            "justify_items": null,
            "left": null,
            "margin": null,
            "max_height": null,
            "max_width": null,
            "min_height": null,
            "min_width": null,
            "object_fit": null,
            "object_position": null,
            "order": null,
            "overflow": null,
            "overflow_x": null,
            "overflow_y": null,
            "padding": null,
            "right": null,
            "top": null,
            "visibility": null,
            "width": null
          }
        },
        "0680824d11624175b0dcf9ea53e5316e": {
          "model_module": "@jupyter-widgets/controls",
          "model_name": "DescriptionStyleModel",
          "model_module_version": "1.5.0",
          "state": {
            "_model_module": "@jupyter-widgets/controls",
            "_model_module_version": "1.5.0",
            "_model_name": "DescriptionStyleModel",
            "_view_count": null,
            "_view_module": "@jupyter-widgets/base",
            "_view_module_version": "1.2.0",
            "_view_name": "StyleView",
            "description_width": ""
          }
        },
        "1fc58ee86115468eb18d8cc6d4d5efbe": {
          "model_module": "@jupyter-widgets/base",
          "model_name": "LayoutModel",
          "model_module_version": "1.2.0",
          "state": {
            "_model_module": "@jupyter-widgets/base",
            "_model_module_version": "1.2.0",
            "_model_name": "LayoutModel",
            "_view_count": null,
            "_view_module": "@jupyter-widgets/base",
            "_view_module_version": "1.2.0",
            "_view_name": "LayoutView",
            "align_content": null,
            "align_items": null,
            "align_self": null,
            "border": null,
            "bottom": null,
            "display": null,
            "flex": null,
            "flex_flow": null,
            "grid_area": null,
            "grid_auto_columns": null,
            "grid_auto_flow": null,
            "grid_auto_rows": null,
            "grid_column": null,
            "grid_gap": null,
            "grid_row": null,
            "grid_template_areas": null,
            "grid_template_columns": null,
            "grid_template_rows": null,
            "height": null,
            "justify_content": null,
            "justify_items": null,
            "left": null,
            "margin": null,
            "max_height": null,
            "max_width": null,
            "min_height": null,
            "min_width": null,
            "object_fit": null,
            "object_position": null,
            "order": null,
            "overflow": null,
            "overflow_x": null,
            "overflow_y": null,
            "padding": null,
            "right": null,
            "top": null,
            "visibility": null,
            "width": null
          }
        },
        "035ddc53558f46ffacf595d0e51498cc": {
          "model_module": "@jupyter-widgets/controls",
          "model_name": "ProgressStyleModel",
          "model_module_version": "1.5.0",
          "state": {
            "_model_module": "@jupyter-widgets/controls",
            "_model_module_version": "1.5.0",
            "_model_name": "ProgressStyleModel",
            "_view_count": null,
            "_view_module": "@jupyter-widgets/base",
            "_view_module_version": "1.2.0",
            "_view_name": "StyleView",
            "bar_color": null,
            "description_width": ""
          }
        },
        "6293e516a2af49fc8cab7c2725be0c19": {
          "model_module": "@jupyter-widgets/base",
          "model_name": "LayoutModel",
          "model_module_version": "1.2.0",
          "state": {
            "_model_module": "@jupyter-widgets/base",
            "_model_module_version": "1.2.0",
            "_model_name": "LayoutModel",
            "_view_count": null,
            "_view_module": "@jupyter-widgets/base",
            "_view_module_version": "1.2.0",
            "_view_name": "LayoutView",
            "align_content": null,
            "align_items": null,
            "align_self": null,
            "border": null,
            "bottom": null,
            "display": null,
            "flex": null,
            "flex_flow": null,
            "grid_area": null,
            "grid_auto_columns": null,
            "grid_auto_flow": null,
            "grid_auto_rows": null,
            "grid_column": null,
            "grid_gap": null,
            "grid_row": null,
            "grid_template_areas": null,
            "grid_template_columns": null,
            "grid_template_rows": null,
            "height": null,
            "justify_content": null,
            "justify_items": null,
            "left": null,
            "margin": null,
            "max_height": null,
            "max_width": null,
            "min_height": null,
            "min_width": null,
            "object_fit": null,
            "object_position": null,
            "order": null,
            "overflow": null,
            "overflow_x": null,
            "overflow_y": null,
            "padding": null,
            "right": null,
            "top": null,
            "visibility": null,
            "width": null
          }
        },
        "7ed3a46a1e8d45afb2f3b210cd26284d": {
          "model_module": "@jupyter-widgets/controls",
          "model_name": "DescriptionStyleModel",
          "model_module_version": "1.5.0",
          "state": {
            "_model_module": "@jupyter-widgets/controls",
            "_model_module_version": "1.5.0",
            "_model_name": "DescriptionStyleModel",
            "_view_count": null,
            "_view_module": "@jupyter-widgets/base",
            "_view_module_version": "1.2.0",
            "_view_name": "StyleView",
            "description_width": ""
          }
        },
        "b4972d5dc3eb4ff79db082e89caccb7f": {
          "model_module": "@jupyter-widgets/controls",
          "model_name": "HBoxModel",
          "model_module_version": "1.5.0",
          "state": {
            "_dom_classes": [],
            "_model_module": "@jupyter-widgets/controls",
            "_model_module_version": "1.5.0",
            "_model_name": "HBoxModel",
            "_view_count": null,
            "_view_module": "@jupyter-widgets/controls",
            "_view_module_version": "1.5.0",
            "_view_name": "HBoxView",
            "box_style": "",
            "children": [
              "IPY_MODEL_e18cda8e9783486dbb953f0e9e440da8",
              "IPY_MODEL_abc330960dee4e43ab0e49841f6cd944",
              "IPY_MODEL_d7f17a8bbee94f519adee7197c0cb39c"
            ],
            "layout": "IPY_MODEL_98a11412bf7c4413af4e9cf1da90e645"
          }
        },
        "e18cda8e9783486dbb953f0e9e440da8": {
          "model_module": "@jupyter-widgets/controls",
          "model_name": "HTMLModel",
          "model_module_version": "1.5.0",
          "state": {
            "_dom_classes": [],
            "_model_module": "@jupyter-widgets/controls",
            "_model_module_version": "1.5.0",
            "_model_name": "HTMLModel",
            "_view_count": null,
            "_view_module": "@jupyter-widgets/controls",
            "_view_module_version": "1.5.0",
            "_view_name": "HTMLView",
            "description": "",
            "description_tooltip": null,
            "layout": "IPY_MODEL_b4d3ddef327247b5b92d155a752a6f99",
            "placeholder": "​",
            "style": "IPY_MODEL_61f28ace9ad14d77a174c28df6805991",
            "value": "pytorch_model.bin: 100%"
          }
        },
        "abc330960dee4e43ab0e49841f6cd944": {
          "model_module": "@jupyter-widgets/controls",
          "model_name": "FloatProgressModel",
          "model_module_version": "1.5.0",
          "state": {
            "_dom_classes": [],
            "_model_module": "@jupyter-widgets/controls",
            "_model_module_version": "1.5.0",
            "_model_name": "FloatProgressModel",
            "_view_count": null,
            "_view_module": "@jupyter-widgets/controls",
            "_view_module_version": "1.5.0",
            "_view_name": "ProgressView",
            "bar_style": "success",
            "description": "",
            "description_tooltip": null,
            "layout": "IPY_MODEL_06ec034c8803454f9cf09d6c1347ed70",
            "max": 467042463,
            "min": 0,
            "orientation": "horizontal",
            "style": "IPY_MODEL_df55df2614de41dd8dc1d2acfbdb94b5",
            "value": 467042463
          }
        },
        "d7f17a8bbee94f519adee7197c0cb39c": {
          "model_module": "@jupyter-widgets/controls",
          "model_name": "HTMLModel",
          "model_module_version": "1.5.0",
          "state": {
            "_dom_classes": [],
            "_model_module": "@jupyter-widgets/controls",
            "_model_module_version": "1.5.0",
            "_model_name": "HTMLModel",
            "_view_count": null,
            "_view_module": "@jupyter-widgets/controls",
            "_view_module_version": "1.5.0",
            "_view_name": "HTMLView",
            "description": "",
            "description_tooltip": null,
            "layout": "IPY_MODEL_7daef0fc38774b19ada28a0e238eacdd",
            "placeholder": "​",
            "style": "IPY_MODEL_0144a87ec23b4c1b9d23634f0c217d8b",
            "value": " 467M/467M [00:07&lt;00:00, 69.0MB/s]"
          }
        },
        "98a11412bf7c4413af4e9cf1da90e645": {
          "model_module": "@jupyter-widgets/base",
          "model_name": "LayoutModel",
          "model_module_version": "1.2.0",
          "state": {
            "_model_module": "@jupyter-widgets/base",
            "_model_module_version": "1.2.0",
            "_model_name": "LayoutModel",
            "_view_count": null,
            "_view_module": "@jupyter-widgets/base",
            "_view_module_version": "1.2.0",
            "_view_name": "LayoutView",
            "align_content": null,
            "align_items": null,
            "align_self": null,
            "border": null,
            "bottom": null,
            "display": null,
            "flex": null,
            "flex_flow": null,
            "grid_area": null,
            "grid_auto_columns": null,
            "grid_auto_flow": null,
            "grid_auto_rows": null,
            "grid_column": null,
            "grid_gap": null,
            "grid_row": null,
            "grid_template_areas": null,
            "grid_template_columns": null,
            "grid_template_rows": null,
            "height": null,
            "justify_content": null,
            "justify_items": null,
            "left": null,
            "margin": null,
            "max_height": null,
            "max_width": null,
            "min_height": null,
            "min_width": null,
            "object_fit": null,
            "object_position": null,
            "order": null,
            "overflow": null,
            "overflow_x": null,
            "overflow_y": null,
            "padding": null,
            "right": null,
            "top": null,
            "visibility": null,
            "width": null
          }
        },
        "b4d3ddef327247b5b92d155a752a6f99": {
          "model_module": "@jupyter-widgets/base",
          "model_name": "LayoutModel",
          "model_module_version": "1.2.0",
          "state": {
            "_model_module": "@jupyter-widgets/base",
            "_model_module_version": "1.2.0",
            "_model_name": "LayoutModel",
            "_view_count": null,
            "_view_module": "@jupyter-widgets/base",
            "_view_module_version": "1.2.0",
            "_view_name": "LayoutView",
            "align_content": null,
            "align_items": null,
            "align_self": null,
            "border": null,
            "bottom": null,
            "display": null,
            "flex": null,
            "flex_flow": null,
            "grid_area": null,
            "grid_auto_columns": null,
            "grid_auto_flow": null,
            "grid_auto_rows": null,
            "grid_column": null,
            "grid_gap": null,
            "grid_row": null,
            "grid_template_areas": null,
            "grid_template_columns": null,
            "grid_template_rows": null,
            "height": null,
            "justify_content": null,
            "justify_items": null,
            "left": null,
            "margin": null,
            "max_height": null,
            "max_width": null,
            "min_height": null,
            "min_width": null,
            "object_fit": null,
            "object_position": null,
            "order": null,
            "overflow": null,
            "overflow_x": null,
            "overflow_y": null,
            "padding": null,
            "right": null,
            "top": null,
            "visibility": null,
            "width": null
          }
        },
        "61f28ace9ad14d77a174c28df6805991": {
          "model_module": "@jupyter-widgets/controls",
          "model_name": "DescriptionStyleModel",
          "model_module_version": "1.5.0",
          "state": {
            "_model_module": "@jupyter-widgets/controls",
            "_model_module_version": "1.5.0",
            "_model_name": "DescriptionStyleModel",
            "_view_count": null,
            "_view_module": "@jupyter-widgets/base",
            "_view_module_version": "1.2.0",
            "_view_name": "StyleView",
            "description_width": ""
          }
        },
        "06ec034c8803454f9cf09d6c1347ed70": {
          "model_module": "@jupyter-widgets/base",
          "model_name": "LayoutModel",
          "model_module_version": "1.2.0",
          "state": {
            "_model_module": "@jupyter-widgets/base",
            "_model_module_version": "1.2.0",
            "_model_name": "LayoutModel",
            "_view_count": null,
            "_view_module": "@jupyter-widgets/base",
            "_view_module_version": "1.2.0",
            "_view_name": "LayoutView",
            "align_content": null,
            "align_items": null,
            "align_self": null,
            "border": null,
            "bottom": null,
            "display": null,
            "flex": null,
            "flex_flow": null,
            "grid_area": null,
            "grid_auto_columns": null,
            "grid_auto_flow": null,
            "grid_auto_rows": null,
            "grid_column": null,
            "grid_gap": null,
            "grid_row": null,
            "grid_template_areas": null,
            "grid_template_columns": null,
            "grid_template_rows": null,
            "height": null,
            "justify_content": null,
            "justify_items": null,
            "left": null,
            "margin": null,
            "max_height": null,
            "max_width": null,
            "min_height": null,
            "min_width": null,
            "object_fit": null,
            "object_position": null,
            "order": null,
            "overflow": null,
            "overflow_x": null,
            "overflow_y": null,
            "padding": null,
            "right": null,
            "top": null,
            "visibility": null,
            "width": null
          }
        },
        "df55df2614de41dd8dc1d2acfbdb94b5": {
          "model_module": "@jupyter-widgets/controls",
          "model_name": "ProgressStyleModel",
          "model_module_version": "1.5.0",
          "state": {
            "_model_module": "@jupyter-widgets/controls",
            "_model_module_version": "1.5.0",
            "_model_name": "ProgressStyleModel",
            "_view_count": null,
            "_view_module": "@jupyter-widgets/base",
            "_view_module_version": "1.2.0",
            "_view_name": "StyleView",
            "bar_color": null,
            "description_width": ""
          }
        },
        "7daef0fc38774b19ada28a0e238eacdd": {
          "model_module": "@jupyter-widgets/base",
          "model_name": "LayoutModel",
          "model_module_version": "1.2.0",
          "state": {
            "_model_module": "@jupyter-widgets/base",
            "_model_module_version": "1.2.0",
            "_model_name": "LayoutModel",
            "_view_count": null,
            "_view_module": "@jupyter-widgets/base",
            "_view_module_version": "1.2.0",
            "_view_name": "LayoutView",
            "align_content": null,
            "align_items": null,
            "align_self": null,
            "border": null,
            "bottom": null,
            "display": null,
            "flex": null,
            "flex_flow": null,
            "grid_area": null,
            "grid_auto_columns": null,
            "grid_auto_flow": null,
            "grid_auto_rows": null,
            "grid_column": null,
            "grid_gap": null,
            "grid_row": null,
            "grid_template_areas": null,
            "grid_template_columns": null,
            "grid_template_rows": null,
            "height": null,
            "justify_content": null,
            "justify_items": null,
            "left": null,
            "margin": null,
            "max_height": null,
            "max_width": null,
            "min_height": null,
            "min_width": null,
            "object_fit": null,
            "object_position": null,
            "order": null,
            "overflow": null,
            "overflow_x": null,
            "overflow_y": null,
            "padding": null,
            "right": null,
            "top": null,
            "visibility": null,
            "width": null
          }
        },
        "0144a87ec23b4c1b9d23634f0c217d8b": {
          "model_module": "@jupyter-widgets/controls",
          "model_name": "DescriptionStyleModel",
          "model_module_version": "1.5.0",
          "state": {
            "_model_module": "@jupyter-widgets/controls",
            "_model_module_version": "1.5.0",
            "_model_name": "DescriptionStyleModel",
            "_view_count": null,
            "_view_module": "@jupyter-widgets/base",
            "_view_module_version": "1.2.0",
            "_view_name": "StyleView",
            "description_width": ""
          }
        }
      }
    }
  },
  "nbformat": 4,
  "nbformat_minor": 0
}